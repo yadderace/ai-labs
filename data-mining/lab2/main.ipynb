{
 "cells": [
  {
   "cell_type": "markdown",
   "id": "b0da93f5",
   "metadata": {},
   "source": [
    "# Lab 2"
   ]
  },
  {
   "cell_type": "code",
   "execution_count": 1,
   "id": "cd0ee641",
   "metadata": {},
   "outputs": [
    {
     "name": "stdout",
     "output_type": "stream",
     "text": [
      "Requirement already satisfied: plotly in /Library/Frameworks/Python.framework/Versions/3.12/lib/python3.12/site-packages (6.3.0)\n",
      "Requirement already satisfied: narwhals>=1.15.1 in /Library/Frameworks/Python.framework/Versions/3.12/lib/python3.12/site-packages (from plotly) (2.5.0)\n",
      "Requirement already satisfied: packaging in /Library/Frameworks/Python.framework/Versions/3.12/lib/python3.12/site-packages (from plotly) (25.0)\n",
      "\n",
      "\u001b[1m[\u001b[0m\u001b[34;49mnotice\u001b[0m\u001b[1;39;49m]\u001b[0m\u001b[39;49m A new release of pip is available: \u001b[0m\u001b[31;49m25.1.1\u001b[0m\u001b[39;49m -> \u001b[0m\u001b[32;49m25.2\u001b[0m\n",
      "\u001b[1m[\u001b[0m\u001b[34;49mnotice\u001b[0m\u001b[1;39;49m]\u001b[0m\u001b[39;49m To update, run: \u001b[0m\u001b[32;49mpip install --upgrade pip\u001b[0m\n",
      "Note: you may need to restart the kernel to use updated packages.\n"
     ]
    }
   ],
   "source": [
    "%pip install plotly"
   ]
  },
  {
   "cell_type": "code",
   "execution_count": 3,
   "id": "d2e4dbe2",
   "metadata": {},
   "outputs": [],
   "source": [
    "import numpy as np\n",
    "import plotly.graph_objects as go"
   ]
  },
  {
   "cell_type": "markdown",
   "id": "14c18be8",
   "metadata": {},
   "source": [
    "## Utility Functions"
   ]
  },
  {
   "cell_type": "code",
   "execution_count": 5,
   "id": "313d5fa6",
   "metadata": {},
   "outputs": [],
   "source": [
    "def draw_plot(X, y, title=\"\"):\n",
    "    fig = go.Figure(data=go.Scatter(x=X[:, 0], y=X[:, 1], mode='markers', marker=dict(color=y)))\n",
    "    fig.update_layout(\n",
    "        title=title,\n",
    "        xaxis_title=\"X1\",\n",
    "        yaxis_title=\"X2\",\n",
    "        showlegend=False\n",
    "    )\n",
    "    fig.show()"
   ]
  },
  {
   "cell_type": "markdown",
   "id": "8648ed3d",
   "metadata": {},
   "source": [
    "## Task 1"
   ]
  },
  {
   "cell_type": "code",
   "execution_count": null,
   "id": "393b3f67",
   "metadata": {},
   "outputs": [],
   "source": []
  },
  {
   "cell_type": "markdown",
   "id": "e7286ba0",
   "metadata": {},
   "source": [
    "## Task 2"
   ]
  },
  {
   "cell_type": "markdown",
   "id": "c8153b43",
   "metadata": {},
   "source": [
    "### Synthetic Data for Naive Bayes"
   ]
  },
  {
   "cell_type": "code",
   "execution_count": 45,
   "id": "f3b59b01",
   "metadata": {},
   "outputs": [],
   "source": [
    "def synthetic_dataset_nb(n_samples=500):\n",
    "    \"\"\"\n",
    "    Generate a synthetic dataset for Naive Bayes.\n",
    "    Description:\n",
    "    - Linearly separable classes\n",
    "    - No redundant features\n",
    "    - No correlation between features\n",
    "    \"\"\"\n",
    "    \n",
    "    # Create class means (arranged in a square)\n",
    "    class_means = np.array([\n",
    "        [2, 2],     # Class 0: top-right\n",
    "        [-2, 2],    # Class 1: top-left\n",
    "        [-2, -2],   # Class 2: bottom-left\n",
    "        [2, -2]     # Class 3: bottom-right\n",
    "    ])\n",
    "\n",
    "    # Create data for each class\n",
    "    X_list = []\n",
    "    y_list = []\n",
    "\n",
    "    for class_idx, mean in enumerate(class_means):\n",
    "        # Generate points around each class mean with small variance\n",
    "        X_class = np.random.normal(loc=mean, scale=0.5, size=(n_samples, 2))\n",
    "        # Add some noise to make the classes more separable\n",
    "        X_class += np.random.normal(scale=0.5, size=X_class.shape)\n",
    "        X_list.append(X_class)\n",
    "        y_list.append(np.full(n_samples, class_idx))\n",
    "\n",
    "    # Combine all classes\n",
    "    X = np.vstack(X_list)\n",
    "    y = np.concatenate(y_list)\n",
    "\n",
    "    return X, y\n",
    "    "
   ]
  },
  {
   "cell_type": "markdown",
   "id": "2f7f9db6",
   "metadata": {},
   "source": [
    "### Synthetic Data for Logistic Regression"
   ]
  },
  {
   "cell_type": "code",
   "execution_count": 1,
   "id": "b72fd07d",
   "metadata": {},
   "outputs": [],
   "source": [
    "def synthetic_dataset_lr(n_samples=500, correlation=0.3, noise_scale=0.5):\n",
    "    \"\"\"Generate a synthetic dataset for Logistic Regression.\n",
    "    Description: \n",
    "    - No feature independence assumption\n",
    "    - Linear separability\n",
    "    \"\"\"\n",
    "    \n",
    "    # Create class means (arranged in a square)\n",
    "    class_means = np.array([\n",
    "        [2, 2],     # Class 0: top-right\n",
    "        [-2, 2],    # Class 1: top-left\n",
    "        [-2, -2],   # Class 2: bottom-left\n",
    "        [2, -2]     # Class 3: bottom-right\n",
    "    ])\n",
    "\n",
    "    # Create data for each class\n",
    "    X_list = []\n",
    "    y_list = []\n",
    "\n",
    "    for class_idx, mean in enumerate(class_means):\n",
    "        # Generate points around each class mean with small variance\n",
    "        X_class = np.random.normal(loc=mean, scale=0.5, size=(n_samples, 2))\n",
    "        # Add some noise to make the classes less separable\n",
    "        X_class += np.random.normal(scale=noise_scale, size=X_class.shape)\n",
    "        X_list.append(X_class)\n",
    "        y_list.append(np.full(n_samples, class_idx))\n",
    "\n",
    "    # Combine all classes\n",
    "    X = np.vstack(X_list)\n",
    "    y = np.concatenate(y_list)\n",
    "\n",
    "    # Create covariance matrix\n",
    "    cov_matrix = np.array([\n",
    "        [1.0, correlation],  # Variance of X1 = 1, Cov(X1,X2) = rho\n",
    "        [correlation, 1.0]   # Cov(X1,X2) = rho, Variance of X2 = 1\n",
    "    ])\n",
    "\n",
    "    # Apply Cholesky decomposition to get transformation matrix\n",
    "    L = np.linalg.cholesky(cov_matrix)\n",
    "\n",
    "    # Apply the transformation to add correlation\n",
    "    X_correlated = X @ L.T\n",
    "\n",
    "    return X_correlated, y"
   ]
  },
  {
   "cell_type": "markdown",
   "id": "983b91de",
   "metadata": {},
   "source": [
    "### Synthetic Data for Support Vector Machine (Linear Kernel)"
   ]
  },
  {
   "cell_type": "code",
   "execution_count": 9,
   "id": "87c26968",
   "metadata": {},
   "outputs": [],
   "source": [
    "def synthetic_dataset_svm(n_samples=500, correlation=0.5):\n",
    "    \"\"\"Generate a synthetic dataset for Support Vector Machine (Linear Kernel).\n",
    "    Description: \n",
    "    - No feature independence assumption\n",
    "    - Linear separability\n",
    "    - Doesnt handle well overlapping classes. So let's define less noise scale.\n",
    "    \"\"\"\n",
    "\n",
    "    # Noise scale\n",
    "    NOISE_SCALE = 0.3\n",
    "    \n",
    "    # Create class means (arranged in a square)\n",
    "    class_means = np.array([\n",
    "        [2, 2],     # Class 0: top-right\n",
    "        [-2, 2],    # Class 1: top-left\n",
    "        [-2, -2],   # Class 2: bottom-left\n",
    "        [2, -2]     # Class 3: bottom-right\n",
    "    ])\n",
    "\n",
    "    # Create data for each class\n",
    "    X_list = []\n",
    "    y_list = []\n",
    "\n",
    "    for class_idx, mean in enumerate(class_means):\n",
    "        # Generate points around each class mean with small variance\n",
    "        X_class = np.random.normal(loc=mean, scale=0.5, size=(n_samples, 2))\n",
    "        # Add some noise to make the classes less separable\n",
    "        X_class += np.random.normal(scale=NOISE_SCALE, size=X_class.shape)\n",
    "        X_list.append(X_class)\n",
    "        y_list.append(np.full(n_samples, class_idx))\n",
    "\n",
    "    # Combine all classes\n",
    "    X = np.vstack(X_list)\n",
    "    y = np.concatenate(y_list)\n",
    "\n",
    "    # Create covariance matrix\n",
    "    cov_matrix = np.array([\n",
    "        [1.0, correlation],  # Variance of X1 = 1, Cov(X1,X2) = rho\n",
    "        [correlation, 1.0]   # Cov(X1,X2) = rho, Variance of X2 = 1\n",
    "    ])\n",
    "\n",
    "    # Apply Cholesky decomposition to get transformation matrix\n",
    "    L = np.linalg.cholesky(cov_matrix)\n",
    "\n",
    "    # Apply the transformation to add correlation\n",
    "    X_correlated = X @ L.T\n",
    "\n",
    "    return X_correlated, y"
   ]
  },
  {
   "cell_type": "markdown",
   "id": "ce5ee77e",
   "metadata": {},
   "source": [
    "## Drawing data"
   ]
  },
  {
   "cell_type": "code",
   "execution_count": 13,
   "id": "9813e3d1",
   "metadata": {},
   "outputs": [
    {
     "ename": "NameError",
     "evalue": "name 'synthetic_dataset_nb' is not defined",
     "output_type": "error",
     "traceback": [
      "\u001b[31m---------------------------------------------------------------------------\u001b[39m",
      "\u001b[31mNameError\u001b[39m                                 Traceback (most recent call last)",
      "\u001b[36mCell\u001b[39m\u001b[36m \u001b[39m\u001b[32mIn[13]\u001b[39m\u001b[32m, line 1\u001b[39m\n\u001b[32m----> \u001b[39m\u001b[32m1\u001b[39m X,y = \u001b[43msynthetic_dataset_nb\u001b[49m(n_samples=\u001b[32m200\u001b[39m)\n\u001b[32m      2\u001b[39m \u001b[38;5;28mprint\u001b[39m(\u001b[33m\"\u001b[39m\u001b[33mCorrelation:\u001b[39m\u001b[33m\"\u001b[39m, np.corrcoef(X[:,\u001b[32m0\u001b[39m], X[:,\u001b[32m1\u001b[39m])[\u001b[32m0\u001b[39m,\u001b[32m1\u001b[39m])\n\u001b[32m      3\u001b[39m \u001b[38;5;66;03m# Plotting the data\u001b[39;00m\n",
      "\u001b[31mNameError\u001b[39m: name 'synthetic_dataset_nb' is not defined"
     ]
    }
   ],
   "source": [
    "X,y = synthetic_dataset_nb(n_samples=200)\n",
    "print(\"Correlation:\", np.corrcoef(X[:,0], X[:,1])[0,1])\n",
    "# Plotting the data\n",
    "draw_plot(X,y,\"Synthetic dataset for Naive Bayes\")\n"
   ]
  },
  {
   "cell_type": "code",
   "execution_count": 12,
   "id": "cc86cba7",
   "metadata": {},
   "outputs": [
    {
     "name": "stdout",
     "output_type": "stream",
     "text": [
      "Correlation: -0.39235141941328955\n"
     ]
    },
    {
     "data": {
      "application/vnd.plotly.v1+json": {
       "config": {
        "plotlyServerURL": "https://plot.ly"
       },
       "data": [
        {
         "marker": {
          "color": {
           "bdata": "AAAAAAAAAAAAAAAAAAAAAAAAAAAAAAAAAAAAAAAAAAAAAAAAAAAAAAAAAAAAAAAAAAAAAAAAAAAAAAAAAAAAAAAAAAAAAAAAAAAAAAAAAAAAAAAAAAAAAAAAAAAAAAAAAAAAAAAAAAAAAAAAAAAAAAAAAAAAAAAAAAAAAAAAAAAAAAAAAAAAAAAAAAAAAAAAAAAAAAAAAAAAAAAAAAAAAAAAAAAAAAAAAAAAAAAAAAAAAAAAAAAAAAAAAAAAAAAAAAAAAAAAAAABAQEBAQEBAQEBAQEBAQEBAQEBAQEBAQEBAQEBAQEBAQEBAQEBAQEBAQEBAQEBAQEBAQEBAQEBAQEBAQEBAQEBAQEBAQEBAQEBAQEBAQEBAQEBAQEBAQEBAQEBAQEBAQEBAQEBAQEBAQEBAQEBAQEBAQEBAQEBAQEBAQEBAQEBAQEBAQEBAQEBAQEBAQEBAQEBAQEBAQEBAQEBAQEBAQEBAQEBAQEBAQEBAQEBAQEBAQEBAQEBAQEBAQEBAQEBAQEBAQEBAQEBAQICAgICAgICAgICAgICAgICAgICAgICAgICAgICAgICAgICAgICAgICAgICAgICAgICAgICAgICAgICAgICAgICAgICAgICAgICAgICAgICAgICAgICAgICAgICAgICAgICAgICAgICAgICAgICAgICAgICAgICAgICAgICAgICAgICAgICAgICAgICAgICAgICAgICAgICAgICAgICAgICAgICAgICAgICAgICAgICAgICAgICAgICAgICAgICAgICAgICAgICAwMDAwMDAwMDAwMDAwMDAwMDAwMDAwMDAwMDAwMDAwMDAwMDAwMDAwMDAwMDAwMDAwMDAwMDAwMDAwMDAwMDAwMDAwMDAwMDAwMDAwMDAwMDAwMDAwMDAwMDAwMDAwMDAwMDAwMDAwMDAwMDAwMDAwMDAwMDAwMDAwMDAwMDAwMDAwMDAwMDAwMDAwMDAwMDAwMDAwMDAwMDAwMDAwMDAwMDAwMDAwMDAwMDAwMDAwMDAwMDAwMDAwMDAwMDAwMDAwMDAwMDAwM=",
           "dtype": "i1"
          }
         },
         "mode": "markers",
         "type": "scatter",
         "x": {
          "bdata": "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",
          "dtype": "f8"
         },
         "y": {
          "bdata": "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",
          "dtype": "f8"
         }
        }
       ],
       "layout": {
        "showlegend": false,
        "template": {
         "data": {
          "bar": [
           {
            "error_x": {
             "color": "#2a3f5f"
            },
            "error_y": {
             "color": "#2a3f5f"
            },
            "marker": {
             "line": {
              "color": "#E5ECF6",
              "width": 0.5
             },
             "pattern": {
              "fillmode": "overlay",
              "size": 10,
              "solidity": 0.2
             }
            },
            "type": "bar"
           }
          ],
          "barpolar": [
           {
            "marker": {
             "line": {
              "color": "#E5ECF6",
              "width": 0.5
             },
             "pattern": {
              "fillmode": "overlay",
              "size": 10,
              "solidity": 0.2
             }
            },
            "type": "barpolar"
           }
          ],
          "carpet": [
           {
            "aaxis": {
             "endlinecolor": "#2a3f5f",
             "gridcolor": "white",
             "linecolor": "white",
             "minorgridcolor": "white",
             "startlinecolor": "#2a3f5f"
            },
            "baxis": {
             "endlinecolor": "#2a3f5f",
             "gridcolor": "white",
             "linecolor": "white",
             "minorgridcolor": "white",
             "startlinecolor": "#2a3f5f"
            },
            "type": "carpet"
           }
          ],
          "choropleth": [
           {
            "colorbar": {
             "outlinewidth": 0,
             "ticks": ""
            },
            "type": "choropleth"
           }
          ],
          "contour": [
           {
            "colorbar": {
             "outlinewidth": 0,
             "ticks": ""
            },
            "colorscale": [
             [
              0,
              "#0d0887"
             ],
             [
              0.1111111111111111,
              "#46039f"
             ],
             [
              0.2222222222222222,
              "#7201a8"
             ],
             [
              0.3333333333333333,
              "#9c179e"
             ],
             [
              0.4444444444444444,
              "#bd3786"
             ],
             [
              0.5555555555555556,
              "#d8576b"
             ],
             [
              0.6666666666666666,
              "#ed7953"
             ],
             [
              0.7777777777777778,
              "#fb9f3a"
             ],
             [
              0.8888888888888888,
              "#fdca26"
             ],
             [
              1,
              "#f0f921"
             ]
            ],
            "type": "contour"
           }
          ],
          "contourcarpet": [
           {
            "colorbar": {
             "outlinewidth": 0,
             "ticks": ""
            },
            "type": "contourcarpet"
           }
          ],
          "heatmap": [
           {
            "colorbar": {
             "outlinewidth": 0,
             "ticks": ""
            },
            "colorscale": [
             [
              0,
              "#0d0887"
             ],
             [
              0.1111111111111111,
              "#46039f"
             ],
             [
              0.2222222222222222,
              "#7201a8"
             ],
             [
              0.3333333333333333,
              "#9c179e"
             ],
             [
              0.4444444444444444,
              "#bd3786"
             ],
             [
              0.5555555555555556,
              "#d8576b"
             ],
             [
              0.6666666666666666,
              "#ed7953"
             ],
             [
              0.7777777777777778,
              "#fb9f3a"
             ],
             [
              0.8888888888888888,
              "#fdca26"
             ],
             [
              1,
              "#f0f921"
             ]
            ],
            "type": "heatmap"
           }
          ],
          "histogram": [
           {
            "marker": {
             "pattern": {
              "fillmode": "overlay",
              "size": 10,
              "solidity": 0.2
             }
            },
            "type": "histogram"
           }
          ],
          "histogram2d": [
           {
            "colorbar": {
             "outlinewidth": 0,
             "ticks": ""
            },
            "colorscale": [
             [
              0,
              "#0d0887"
             ],
             [
              0.1111111111111111,
              "#46039f"
             ],
             [
              0.2222222222222222,
              "#7201a8"
             ],
             [
              0.3333333333333333,
              "#9c179e"
             ],
             [
              0.4444444444444444,
              "#bd3786"
             ],
             [
              0.5555555555555556,
              "#d8576b"
             ],
             [
              0.6666666666666666,
              "#ed7953"
             ],
             [
              0.7777777777777778,
              "#fb9f3a"
             ],
             [
              0.8888888888888888,
              "#fdca26"
             ],
             [
              1,
              "#f0f921"
             ]
            ],
            "type": "histogram2d"
           }
          ],
          "histogram2dcontour": [
           {
            "colorbar": {
             "outlinewidth": 0,
             "ticks": ""
            },
            "colorscale": [
             [
              0,
              "#0d0887"
             ],
             [
              0.1111111111111111,
              "#46039f"
             ],
             [
              0.2222222222222222,
              "#7201a8"
             ],
             [
              0.3333333333333333,
              "#9c179e"
             ],
             [
              0.4444444444444444,
              "#bd3786"
             ],
             [
              0.5555555555555556,
              "#d8576b"
             ],
             [
              0.6666666666666666,
              "#ed7953"
             ],
             [
              0.7777777777777778,
              "#fb9f3a"
             ],
             [
              0.8888888888888888,
              "#fdca26"
             ],
             [
              1,
              "#f0f921"
             ]
            ],
            "type": "histogram2dcontour"
           }
          ],
          "mesh3d": [
           {
            "colorbar": {
             "outlinewidth": 0,
             "ticks": ""
            },
            "type": "mesh3d"
           }
          ],
          "parcoords": [
           {
            "line": {
             "colorbar": {
              "outlinewidth": 0,
              "ticks": ""
             }
            },
            "type": "parcoords"
           }
          ],
          "pie": [
           {
            "automargin": true,
            "type": "pie"
           }
          ],
          "scatter": [
           {
            "fillpattern": {
             "fillmode": "overlay",
             "size": 10,
             "solidity": 0.2
            },
            "type": "scatter"
           }
          ],
          "scatter3d": [
           {
            "line": {
             "colorbar": {
              "outlinewidth": 0,
              "ticks": ""
             }
            },
            "marker": {
             "colorbar": {
              "outlinewidth": 0,
              "ticks": ""
             }
            },
            "type": "scatter3d"
           }
          ],
          "scattercarpet": [
           {
            "marker": {
             "colorbar": {
              "outlinewidth": 0,
              "ticks": ""
             }
            },
            "type": "scattercarpet"
           }
          ],
          "scattergeo": [
           {
            "marker": {
             "colorbar": {
              "outlinewidth": 0,
              "ticks": ""
             }
            },
            "type": "scattergeo"
           }
          ],
          "scattergl": [
           {
            "marker": {
             "colorbar": {
              "outlinewidth": 0,
              "ticks": ""
             }
            },
            "type": "scattergl"
           }
          ],
          "scattermap": [
           {
            "marker": {
             "colorbar": {
              "outlinewidth": 0,
              "ticks": ""
             }
            },
            "type": "scattermap"
           }
          ],
          "scattermapbox": [
           {
            "marker": {
             "colorbar": {
              "outlinewidth": 0,
              "ticks": ""
             }
            },
            "type": "scattermapbox"
           }
          ],
          "scatterpolar": [
           {
            "marker": {
             "colorbar": {
              "outlinewidth": 0,
              "ticks": ""
             }
            },
            "type": "scatterpolar"
           }
          ],
          "scatterpolargl": [
           {
            "marker": {
             "colorbar": {
              "outlinewidth": 0,
              "ticks": ""
             }
            },
            "type": "scatterpolargl"
           }
          ],
          "scatterternary": [
           {
            "marker": {
             "colorbar": {
              "outlinewidth": 0,
              "ticks": ""
             }
            },
            "type": "scatterternary"
           }
          ],
          "surface": [
           {
            "colorbar": {
             "outlinewidth": 0,
             "ticks": ""
            },
            "colorscale": [
             [
              0,
              "#0d0887"
             ],
             [
              0.1111111111111111,
              "#46039f"
             ],
             [
              0.2222222222222222,
              "#7201a8"
             ],
             [
              0.3333333333333333,
              "#9c179e"
             ],
             [
              0.4444444444444444,
              "#bd3786"
             ],
             [
              0.5555555555555556,
              "#d8576b"
             ],
             [
              0.6666666666666666,
              "#ed7953"
             ],
             [
              0.7777777777777778,
              "#fb9f3a"
             ],
             [
              0.8888888888888888,
              "#fdca26"
             ],
             [
              1,
              "#f0f921"
             ]
            ],
            "type": "surface"
           }
          ],
          "table": [
           {
            "cells": {
             "fill": {
              "color": "#EBF0F8"
             },
             "line": {
              "color": "white"
             }
            },
            "header": {
             "fill": {
              "color": "#C8D4E3"
             },
             "line": {
              "color": "white"
             }
            },
            "type": "table"
           }
          ]
         },
         "layout": {
          "annotationdefaults": {
           "arrowcolor": "#2a3f5f",
           "arrowhead": 0,
           "arrowwidth": 1
          },
          "autotypenumbers": "strict",
          "coloraxis": {
           "colorbar": {
            "outlinewidth": 0,
            "ticks": ""
           }
          },
          "colorscale": {
           "diverging": [
            [
             0,
             "#8e0152"
            ],
            [
             0.1,
             "#c51b7d"
            ],
            [
             0.2,
             "#de77ae"
            ],
            [
             0.3,
             "#f1b6da"
            ],
            [
             0.4,
             "#fde0ef"
            ],
            [
             0.5,
             "#f7f7f7"
            ],
            [
             0.6,
             "#e6f5d0"
            ],
            [
             0.7,
             "#b8e186"
            ],
            [
             0.8,
             "#7fbc41"
            ],
            [
             0.9,
             "#4d9221"
            ],
            [
             1,
             "#276419"
            ]
           ],
           "sequential": [
            [
             0,
             "#0d0887"
            ],
            [
             0.1111111111111111,
             "#46039f"
            ],
            [
             0.2222222222222222,
             "#7201a8"
            ],
            [
             0.3333333333333333,
             "#9c179e"
            ],
            [
             0.4444444444444444,
             "#bd3786"
            ],
            [
             0.5555555555555556,
             "#d8576b"
            ],
            [
             0.6666666666666666,
             "#ed7953"
            ],
            [
             0.7777777777777778,
             "#fb9f3a"
            ],
            [
             0.8888888888888888,
             "#fdca26"
            ],
            [
             1,
             "#f0f921"
            ]
           ],
           "sequentialminus": [
            [
             0,
             "#0d0887"
            ],
            [
             0.1111111111111111,
             "#46039f"
            ],
            [
             0.2222222222222222,
             "#7201a8"
            ],
            [
             0.3333333333333333,
             "#9c179e"
            ],
            [
             0.4444444444444444,
             "#bd3786"
            ],
            [
             0.5555555555555556,
             "#d8576b"
            ],
            [
             0.6666666666666666,
             "#ed7953"
            ],
            [
             0.7777777777777778,
             "#fb9f3a"
            ],
            [
             0.8888888888888888,
             "#fdca26"
            ],
            [
             1,
             "#f0f921"
            ]
           ]
          },
          "colorway": [
           "#636efa",
           "#EF553B",
           "#00cc96",
           "#ab63fa",
           "#FFA15A",
           "#19d3f3",
           "#FF6692",
           "#B6E880",
           "#FF97FF",
           "#FECB52"
          ],
          "font": {
           "color": "#2a3f5f"
          },
          "geo": {
           "bgcolor": "white",
           "lakecolor": "white",
           "landcolor": "#E5ECF6",
           "showlakes": true,
           "showland": true,
           "subunitcolor": "white"
          },
          "hoverlabel": {
           "align": "left"
          },
          "hovermode": "closest",
          "mapbox": {
           "style": "light"
          },
          "paper_bgcolor": "white",
          "plot_bgcolor": "#E5ECF6",
          "polar": {
           "angularaxis": {
            "gridcolor": "white",
            "linecolor": "white",
            "ticks": ""
           },
           "bgcolor": "#E5ECF6",
           "radialaxis": {
            "gridcolor": "white",
            "linecolor": "white",
            "ticks": ""
           }
          },
          "scene": {
           "xaxis": {
            "backgroundcolor": "#E5ECF6",
            "gridcolor": "white",
            "gridwidth": 2,
            "linecolor": "white",
            "showbackground": true,
            "ticks": "",
            "zerolinecolor": "white"
           },
           "yaxis": {
            "backgroundcolor": "#E5ECF6",
            "gridcolor": "white",
            "gridwidth": 2,
            "linecolor": "white",
            "showbackground": true,
            "ticks": "",
            "zerolinecolor": "white"
           },
           "zaxis": {
            "backgroundcolor": "#E5ECF6",
            "gridcolor": "white",
            "gridwidth": 2,
            "linecolor": "white",
            "showbackground": true,
            "ticks": "",
            "zerolinecolor": "white"
           }
          },
          "shapedefaults": {
           "line": {
            "color": "#2a3f5f"
           }
          },
          "ternary": {
           "aaxis": {
            "gridcolor": "white",
            "linecolor": "white",
            "ticks": ""
           },
           "baxis": {
            "gridcolor": "white",
            "linecolor": "white",
            "ticks": ""
           },
           "bgcolor": "#E5ECF6",
           "caxis": {
            "gridcolor": "white",
            "linecolor": "white",
            "ticks": ""
           }
          },
          "title": {
           "x": 0.05
          },
          "xaxis": {
           "automargin": true,
           "gridcolor": "white",
           "linecolor": "white",
           "ticks": "",
           "title": {
            "standoff": 15
           },
           "zerolinecolor": "white",
           "zerolinewidth": 2
          },
          "yaxis": {
           "automargin": true,
           "gridcolor": "white",
           "linecolor": "white",
           "ticks": "",
           "title": {
            "standoff": 15
           },
           "zerolinecolor": "white",
           "zerolinewidth": 2
          }
         }
        },
        "title": {
         "text": "Synthetic dataset for Logistic Regression"
        },
        "xaxis": {
         "title": {
          "text": "X1"
         }
        },
        "yaxis": {
         "title": {
          "text": "X2"
         }
        }
       }
      }
     },
     "metadata": {},
     "output_type": "display_data"
    }
   ],
   "source": [
    "X,y = synthetic_dataset_lr(n_samples=200, correlation=-0.4, noise_scale=0.7)\n",
    "correlation = np.corrcoef(X[:,0], X[:,1])[0,1]\n",
    "print(\"Correlation:\", correlation)\n",
    "draw_plot(X,y,\"Synthetic dataset for Logistic Regression\")\n"
   ]
  },
  {
   "cell_type": "code",
   "execution_count": 11,
   "id": "3b67ad4c",
   "metadata": {},
   "outputs": [
    {
     "name": "stdout",
     "output_type": "stream",
     "text": [
      "Correlation: 0.7963796782540807\n"
     ]
    },
    {
     "data": {
      "application/vnd.plotly.v1+json": {
       "config": {
        "plotlyServerURL": "https://plot.ly"
       },
       "data": [
        {
         "marker": {
          "color": {
           "bdata": "AAAAAAAAAAAAAAAAAAAAAAAAAAAAAAAAAAAAAAAAAAAAAAAAAAAAAAAAAAAAAAAAAAAAAAAAAAAAAAAAAAAAAAAAAAAAAAAAAAAAAAAAAAAAAAAAAAAAAAAAAAAAAAAAAAAAAAAAAAAAAAAAAAAAAAAAAAAAAAAAAAAAAAAAAAAAAAAAAAAAAAAAAAAAAAAAAAAAAAAAAAAAAAAAAAAAAAAAAAAAAAAAAAAAAAAAAAAAAAAAAAAAAAAAAAAAAAAAAAAAAAAAAAABAQEBAQEBAQEBAQEBAQEBAQEBAQEBAQEBAQEBAQEBAQEBAQEBAQEBAQEBAQEBAQEBAQEBAQEBAQEBAQEBAQEBAQEBAQEBAQEBAQEBAQEBAQEBAQEBAQEBAQEBAQEBAQEBAQEBAQEBAQEBAQEBAQEBAQEBAQEBAQEBAQEBAQEBAQEBAQEBAQEBAQEBAQEBAQEBAQEBAQEBAQEBAQEBAQEBAQEBAQEBAQEBAQEBAQEBAQEBAQEBAQEBAQEBAQEBAQEBAQEBAQEBAQICAgICAgICAgICAgICAgICAgICAgICAgICAgICAgICAgICAgICAgICAgICAgICAgICAgICAgICAgICAgICAgICAgICAgICAgICAgICAgICAgICAgICAgICAgICAgICAgICAgICAgICAgICAgICAgICAgICAgICAgICAgICAgICAgICAgICAgICAgICAgICAgICAgICAgICAgICAgICAgICAgICAgICAgICAgICAgICAgICAgICAgICAgICAgICAgICAgICAgICAwMDAwMDAwMDAwMDAwMDAwMDAwMDAwMDAwMDAwMDAwMDAwMDAwMDAwMDAwMDAwMDAwMDAwMDAwMDAwMDAwMDAwMDAwMDAwMDAwMDAwMDAwMDAwMDAwMDAwMDAwMDAwMDAwMDAwMDAwMDAwMDAwMDAwMDAwMDAwMDAwMDAwMDAwMDAwMDAwMDAwMDAwMDAwMDAwMDAwMDAwMDAwMDAwMDAwMDAwMDAwMDAwMDAwMDAwMDAwMDAwMDAwMDAwMDAwMDAwMDAwMDAwM=",
           "dtype": "i1"
          }
         },
         "mode": "markers",
         "type": "scatter",
         "x": {
          "bdata": "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",
          "dtype": "f8"
         },
         "y": {
          "bdata": "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",
          "dtype": "f8"
         }
        }
       ],
       "layout": {
        "showlegend": false,
        "template": {
         "data": {
          "bar": [
           {
            "error_x": {
             "color": "#2a3f5f"
            },
            "error_y": {
             "color": "#2a3f5f"
            },
            "marker": {
             "line": {
              "color": "#E5ECF6",
              "width": 0.5
             },
             "pattern": {
              "fillmode": "overlay",
              "size": 10,
              "solidity": 0.2
             }
            },
            "type": "bar"
           }
          ],
          "barpolar": [
           {
            "marker": {
             "line": {
              "color": "#E5ECF6",
              "width": 0.5
             },
             "pattern": {
              "fillmode": "overlay",
              "size": 10,
              "solidity": 0.2
             }
            },
            "type": "barpolar"
           }
          ],
          "carpet": [
           {
            "aaxis": {
             "endlinecolor": "#2a3f5f",
             "gridcolor": "white",
             "linecolor": "white",
             "minorgridcolor": "white",
             "startlinecolor": "#2a3f5f"
            },
            "baxis": {
             "endlinecolor": "#2a3f5f",
             "gridcolor": "white",
             "linecolor": "white",
             "minorgridcolor": "white",
             "startlinecolor": "#2a3f5f"
            },
            "type": "carpet"
           }
          ],
          "choropleth": [
           {
            "colorbar": {
             "outlinewidth": 0,
             "ticks": ""
            },
            "type": "choropleth"
           }
          ],
          "contour": [
           {
            "colorbar": {
             "outlinewidth": 0,
             "ticks": ""
            },
            "colorscale": [
             [
              0,
              "#0d0887"
             ],
             [
              0.1111111111111111,
              "#46039f"
             ],
             [
              0.2222222222222222,
              "#7201a8"
             ],
             [
              0.3333333333333333,
              "#9c179e"
             ],
             [
              0.4444444444444444,
              "#bd3786"
             ],
             [
              0.5555555555555556,
              "#d8576b"
             ],
             [
              0.6666666666666666,
              "#ed7953"
             ],
             [
              0.7777777777777778,
              "#fb9f3a"
             ],
             [
              0.8888888888888888,
              "#fdca26"
             ],
             [
              1,
              "#f0f921"
             ]
            ],
            "type": "contour"
           }
          ],
          "contourcarpet": [
           {
            "colorbar": {
             "outlinewidth": 0,
             "ticks": ""
            },
            "type": "contourcarpet"
           }
          ],
          "heatmap": [
           {
            "colorbar": {
             "outlinewidth": 0,
             "ticks": ""
            },
            "colorscale": [
             [
              0,
              "#0d0887"
             ],
             [
              0.1111111111111111,
              "#46039f"
             ],
             [
              0.2222222222222222,
              "#7201a8"
             ],
             [
              0.3333333333333333,
              "#9c179e"
             ],
             [
              0.4444444444444444,
              "#bd3786"
             ],
             [
              0.5555555555555556,
              "#d8576b"
             ],
             [
              0.6666666666666666,
              "#ed7953"
             ],
             [
              0.7777777777777778,
              "#fb9f3a"
             ],
             [
              0.8888888888888888,
              "#fdca26"
             ],
             [
              1,
              "#f0f921"
             ]
            ],
            "type": "heatmap"
           }
          ],
          "histogram": [
           {
            "marker": {
             "pattern": {
              "fillmode": "overlay",
              "size": 10,
              "solidity": 0.2
             }
            },
            "type": "histogram"
           }
          ],
          "histogram2d": [
           {
            "colorbar": {
             "outlinewidth": 0,
             "ticks": ""
            },
            "colorscale": [
             [
              0,
              "#0d0887"
             ],
             [
              0.1111111111111111,
              "#46039f"
             ],
             [
              0.2222222222222222,
              "#7201a8"
             ],
             [
              0.3333333333333333,
              "#9c179e"
             ],
             [
              0.4444444444444444,
              "#bd3786"
             ],
             [
              0.5555555555555556,
              "#d8576b"
             ],
             [
              0.6666666666666666,
              "#ed7953"
             ],
             [
              0.7777777777777778,
              "#fb9f3a"
             ],
             [
              0.8888888888888888,
              "#fdca26"
             ],
             [
              1,
              "#f0f921"
             ]
            ],
            "type": "histogram2d"
           }
          ],
          "histogram2dcontour": [
           {
            "colorbar": {
             "outlinewidth": 0,
             "ticks": ""
            },
            "colorscale": [
             [
              0,
              "#0d0887"
             ],
             [
              0.1111111111111111,
              "#46039f"
             ],
             [
              0.2222222222222222,
              "#7201a8"
             ],
             [
              0.3333333333333333,
              "#9c179e"
             ],
             [
              0.4444444444444444,
              "#bd3786"
             ],
             [
              0.5555555555555556,
              "#d8576b"
             ],
             [
              0.6666666666666666,
              "#ed7953"
             ],
             [
              0.7777777777777778,
              "#fb9f3a"
             ],
             [
              0.8888888888888888,
              "#fdca26"
             ],
             [
              1,
              "#f0f921"
             ]
            ],
            "type": "histogram2dcontour"
           }
          ],
          "mesh3d": [
           {
            "colorbar": {
             "outlinewidth": 0,
             "ticks": ""
            },
            "type": "mesh3d"
           }
          ],
          "parcoords": [
           {
            "line": {
             "colorbar": {
              "outlinewidth": 0,
              "ticks": ""
             }
            },
            "type": "parcoords"
           }
          ],
          "pie": [
           {
            "automargin": true,
            "type": "pie"
           }
          ],
          "scatter": [
           {
            "fillpattern": {
             "fillmode": "overlay",
             "size": 10,
             "solidity": 0.2
            },
            "type": "scatter"
           }
          ],
          "scatter3d": [
           {
            "line": {
             "colorbar": {
              "outlinewidth": 0,
              "ticks": ""
             }
            },
            "marker": {
             "colorbar": {
              "outlinewidth": 0,
              "ticks": ""
             }
            },
            "type": "scatter3d"
           }
          ],
          "scattercarpet": [
           {
            "marker": {
             "colorbar": {
              "outlinewidth": 0,
              "ticks": ""
             }
            },
            "type": "scattercarpet"
           }
          ],
          "scattergeo": [
           {
            "marker": {
             "colorbar": {
              "outlinewidth": 0,
              "ticks": ""
             }
            },
            "type": "scattergeo"
           }
          ],
          "scattergl": [
           {
            "marker": {
             "colorbar": {
              "outlinewidth": 0,
              "ticks": ""
             }
            },
            "type": "scattergl"
           }
          ],
          "scattermap": [
           {
            "marker": {
             "colorbar": {
              "outlinewidth": 0,
              "ticks": ""
             }
            },
            "type": "scattermap"
           }
          ],
          "scattermapbox": [
           {
            "marker": {
             "colorbar": {
              "outlinewidth": 0,
              "ticks": ""
             }
            },
            "type": "scattermapbox"
           }
          ],
          "scatterpolar": [
           {
            "marker": {
             "colorbar": {
              "outlinewidth": 0,
              "ticks": ""
             }
            },
            "type": "scatterpolar"
           }
          ],
          "scatterpolargl": [
           {
            "marker": {
             "colorbar": {
              "outlinewidth": 0,
              "ticks": ""
             }
            },
            "type": "scatterpolargl"
           }
          ],
          "scatterternary": [
           {
            "marker": {
             "colorbar": {
              "outlinewidth": 0,
              "ticks": ""
             }
            },
            "type": "scatterternary"
           }
          ],
          "surface": [
           {
            "colorbar": {
             "outlinewidth": 0,
             "ticks": ""
            },
            "colorscale": [
             [
              0,
              "#0d0887"
             ],
             [
              0.1111111111111111,
              "#46039f"
             ],
             [
              0.2222222222222222,
              "#7201a8"
             ],
             [
              0.3333333333333333,
              "#9c179e"
             ],
             [
              0.4444444444444444,
              "#bd3786"
             ],
             [
              0.5555555555555556,
              "#d8576b"
             ],
             [
              0.6666666666666666,
              "#ed7953"
             ],
             [
              0.7777777777777778,
              "#fb9f3a"
             ],
             [
              0.8888888888888888,
              "#fdca26"
             ],
             [
              1,
              "#f0f921"
             ]
            ],
            "type": "surface"
           }
          ],
          "table": [
           {
            "cells": {
             "fill": {
              "color": "#EBF0F8"
             },
             "line": {
              "color": "white"
             }
            },
            "header": {
             "fill": {
              "color": "#C8D4E3"
             },
             "line": {
              "color": "white"
             }
            },
            "type": "table"
           }
          ]
         },
         "layout": {
          "annotationdefaults": {
           "arrowcolor": "#2a3f5f",
           "arrowhead": 0,
           "arrowwidth": 1
          },
          "autotypenumbers": "strict",
          "coloraxis": {
           "colorbar": {
            "outlinewidth": 0,
            "ticks": ""
           }
          },
          "colorscale": {
           "diverging": [
            [
             0,
             "#8e0152"
            ],
            [
             0.1,
             "#c51b7d"
            ],
            [
             0.2,
             "#de77ae"
            ],
            [
             0.3,
             "#f1b6da"
            ],
            [
             0.4,
             "#fde0ef"
            ],
            [
             0.5,
             "#f7f7f7"
            ],
            [
             0.6,
             "#e6f5d0"
            ],
            [
             0.7,
             "#b8e186"
            ],
            [
             0.8,
             "#7fbc41"
            ],
            [
             0.9,
             "#4d9221"
            ],
            [
             1,
             "#276419"
            ]
           ],
           "sequential": [
            [
             0,
             "#0d0887"
            ],
            [
             0.1111111111111111,
             "#46039f"
            ],
            [
             0.2222222222222222,
             "#7201a8"
            ],
            [
             0.3333333333333333,
             "#9c179e"
            ],
            [
             0.4444444444444444,
             "#bd3786"
            ],
            [
             0.5555555555555556,
             "#d8576b"
            ],
            [
             0.6666666666666666,
             "#ed7953"
            ],
            [
             0.7777777777777778,
             "#fb9f3a"
            ],
            [
             0.8888888888888888,
             "#fdca26"
            ],
            [
             1,
             "#f0f921"
            ]
           ],
           "sequentialminus": [
            [
             0,
             "#0d0887"
            ],
            [
             0.1111111111111111,
             "#46039f"
            ],
            [
             0.2222222222222222,
             "#7201a8"
            ],
            [
             0.3333333333333333,
             "#9c179e"
            ],
            [
             0.4444444444444444,
             "#bd3786"
            ],
            [
             0.5555555555555556,
             "#d8576b"
            ],
            [
             0.6666666666666666,
             "#ed7953"
            ],
            [
             0.7777777777777778,
             "#fb9f3a"
            ],
            [
             0.8888888888888888,
             "#fdca26"
            ],
            [
             1,
             "#f0f921"
            ]
           ]
          },
          "colorway": [
           "#636efa",
           "#EF553B",
           "#00cc96",
           "#ab63fa",
           "#FFA15A",
           "#19d3f3",
           "#FF6692",
           "#B6E880",
           "#FF97FF",
           "#FECB52"
          ],
          "font": {
           "color": "#2a3f5f"
          },
          "geo": {
           "bgcolor": "white",
           "lakecolor": "white",
           "landcolor": "#E5ECF6",
           "showlakes": true,
           "showland": true,
           "subunitcolor": "white"
          },
          "hoverlabel": {
           "align": "left"
          },
          "hovermode": "closest",
          "mapbox": {
           "style": "light"
          },
          "paper_bgcolor": "white",
          "plot_bgcolor": "#E5ECF6",
          "polar": {
           "angularaxis": {
            "gridcolor": "white",
            "linecolor": "white",
            "ticks": ""
           },
           "bgcolor": "#E5ECF6",
           "radialaxis": {
            "gridcolor": "white",
            "linecolor": "white",
            "ticks": ""
           }
          },
          "scene": {
           "xaxis": {
            "backgroundcolor": "#E5ECF6",
            "gridcolor": "white",
            "gridwidth": 2,
            "linecolor": "white",
            "showbackground": true,
            "ticks": "",
            "zerolinecolor": "white"
           },
           "yaxis": {
            "backgroundcolor": "#E5ECF6",
            "gridcolor": "white",
            "gridwidth": 2,
            "linecolor": "white",
            "showbackground": true,
            "ticks": "",
            "zerolinecolor": "white"
           },
           "zaxis": {
            "backgroundcolor": "#E5ECF6",
            "gridcolor": "white",
            "gridwidth": 2,
            "linecolor": "white",
            "showbackground": true,
            "ticks": "",
            "zerolinecolor": "white"
           }
          },
          "shapedefaults": {
           "line": {
            "color": "#2a3f5f"
           }
          },
          "ternary": {
           "aaxis": {
            "gridcolor": "white",
            "linecolor": "white",
            "ticks": ""
           },
           "baxis": {
            "gridcolor": "white",
            "linecolor": "white",
            "ticks": ""
           },
           "bgcolor": "#E5ECF6",
           "caxis": {
            "gridcolor": "white",
            "linecolor": "white",
            "ticks": ""
           }
          },
          "title": {
           "x": 0.05
          },
          "xaxis": {
           "automargin": true,
           "gridcolor": "white",
           "linecolor": "white",
           "ticks": "",
           "title": {
            "standoff": 15
           },
           "zerolinecolor": "white",
           "zerolinewidth": 2
          },
          "yaxis": {
           "automargin": true,
           "gridcolor": "white",
           "linecolor": "white",
           "ticks": "",
           "title": {
            "standoff": 15
           },
           "zerolinecolor": "white",
           "zerolinewidth": 2
          }
         }
        },
        "title": {
         "text": "Synthetic dataset for SVM (Linear Kernel)"
        },
        "xaxis": {
         "title": {
          "text": "X1"
         }
        },
        "yaxis": {
         "title": {
          "text": "X2"
         }
        }
       }
      }
     },
     "metadata": {},
     "output_type": "display_data"
    }
   ],
   "source": [
    "X, y = synthetic_dataset_svm(n_samples=200, correlation=0.8)\n",
    "correlation = np.corrcoef(X[:,0], X[:,1])[0,1]\n",
    "print(\"Correlation:\", correlation)\n",
    "draw_plot(X,y,\"Synthetic dataset for SVM (Linear Kernel)\")"
   ]
  },
  {
   "cell_type": "code",
   "execution_count": null,
   "id": "53ccee0d",
   "metadata": {},
   "outputs": [],
   "source": []
  }
 ],
 "metadata": {
  "kernelspec": {
   "display_name": "Python 3",
   "language": "python",
   "name": "python3"
  },
  "language_info": {
   "codemirror_mode": {
    "name": "ipython",
    "version": 3
   },
   "file_extension": ".py",
   "mimetype": "text/x-python",
   "name": "python",
   "nbconvert_exporter": "python",
   "pygments_lexer": "ipython3",
   "version": "3.12.6"
  }
 },
 "nbformat": 4,
 "nbformat_minor": 5
}
