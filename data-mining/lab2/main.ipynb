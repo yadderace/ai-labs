{
 "cells": [
  {
   "cell_type": "markdown",
   "id": "b0da93f5",
   "metadata": {},
   "source": [
    "# Lab 2"
   ]
  },
  {
   "cell_type": "code",
   "execution_count": null,
   "id": "cd0ee641",
   "metadata": {},
   "outputs": [],
   "source": [
    "%pip install plotly"
   ]
  },
  {
   "cell_type": "code",
   "execution_count": 18,
   "id": "d2e4dbe2",
   "metadata": {},
   "outputs": [],
   "source": [
    "import numpy as np\n",
    "import plotly.graph_objects as go\n",
    "from sklearn.datasets import make_classification, make_circles, make_moons, make_blobs"
   ]
  },
  {
   "cell_type": "markdown",
   "id": "14c18be8",
   "metadata": {},
   "source": [
    "## Utility Functions"
   ]
  },
  {
   "cell_type": "code",
   "execution_count": 6,
   "id": "313d5fa6",
   "metadata": {},
   "outputs": [],
   "source": [
    "def draw_plot(X, y, title=\"\"):\n",
    "    fig = go.Figure(data=go.Scatter(x=X[:, 0], y=X[:, 1], mode='markers', marker=dict(color=y)))\n",
    "    fig.update_layout(\n",
    "        title=title,\n",
    "        xaxis_title=\"X1\",\n",
    "        yaxis_title=\"X2\",\n",
    "        showlegend=False\n",
    "    )\n",
    "    fig.show()"
   ]
  },
  {
   "cell_type": "markdown",
   "id": "8648ed3d",
   "metadata": {},
   "source": [
    "## Task 1"
   ]
  },
  {
   "cell_type": "code",
   "execution_count": null,
   "id": "393b3f67",
   "metadata": {},
   "outputs": [],
   "source": []
  },
  {
   "cell_type": "markdown",
   "id": "e7286ba0",
   "metadata": {},
   "source": [
    "## Task 2"
   ]
  },
  {
   "cell_type": "markdown",
   "id": "c8153b43",
   "metadata": {},
   "source": [
    "### Synthetic Data for Naive Bayes"
   ]
  },
  {
   "cell_type": "code",
   "execution_count": 8,
   "id": "f3b59b01",
   "metadata": {},
   "outputs": [],
   "source": [
    "def synthetic_dataset_nb(n_samples=500):\n",
    "    \"\"\"\n",
    "    Generate a synthetic dataset for Naive Bayes.\n",
    "    Description:\n",
    "    - Linearly separable classes\n",
    "    - No redundant features\n",
    "    - No correlation between features\n",
    "    \"\"\"\n",
    "    \n",
    "    # Create class means (arranged in a square)\n",
    "    class_means = np.array([\n",
    "        [2, 2],     # Class 0: top-right\n",
    "        [-2, 2],    # Class 1: top-left\n",
    "        [-2, -2],   # Class 2: bottom-left\n",
    "        [2, -2]     # Class 3: bottom-right\n",
    "    ])\n",
    "\n",
    "    # Create data for each class\n",
    "    X_list = []\n",
    "    y_list = []\n",
    "\n",
    "    for class_idx, mean in enumerate(class_means):\n",
    "        # Generate points around each class mean with small variance\n",
    "        X_class = np.random.normal(loc=mean, scale=0.5, size=(n_samples, 2))\n",
    "        # Add some noise to make the classes more separable\n",
    "        X_class += np.random.normal(scale=0.5, size=X_class.shape)\n",
    "        X_list.append(X_class)\n",
    "        y_list.append(np.full(n_samples, class_idx))\n",
    "\n",
    "    # Combine all classes\n",
    "    X = np.vstack(X_list)\n",
    "    y = np.concatenate(y_list)\n",
    "\n",
    "    return X, y\n",
    "    "
   ]
  },
  {
   "cell_type": "markdown",
   "id": "2f7f9db6",
   "metadata": {},
   "source": [
    "### Synthetic Data for Logistic Regression"
   ]
  },
  {
   "cell_type": "code",
   "execution_count": null,
   "id": "b72fd07d",
   "metadata": {},
   "outputs": [],
   "source": [
    "def synthetic_dataset_lr(n_samples=500, correlation=0.3, noise_scale=0.5):\n",
    "    \"\"\"Generate a synthetic dataset for Logistic Regression.\n",
    "    Description: \n",
    "    - No feature independence assumption\n",
    "    - Linear separability\n",
    "    \"\"\"\n",
    "    \n",
    "    # Create class means (arranged in a square)\n",
    "    class_means = np.array([\n",
    "        [2, 2],     # Class 0: top-right\n",
    "        [-2, 2],    # Class 1: top-left\n",
    "        [-2, -2],   # Class 2: bottom-left\n",
    "        [2, -2]     # Class 3: bottom-right\n",
    "    ])\n",
    "\n",
    "    # Create data for each class\n",
    "    X_list = []\n",
    "    y_list = []\n",
    "\n",
    "    for class_idx, mean in enumerate(class_means):\n",
    "        # Generate points around each class mean with small variance\n",
    "        X_class = np.random.normal(loc=mean, scale=0.5, size=(n_samples, 2))\n",
    "        # Add some noise to make the classes less separable\n",
    "        X_class += np.random.normal(scale=noise_scale, size=X_class.shape)\n",
    "        X_list.append(X_class)\n",
    "        y_list.append(np.full(n_samples, class_idx))\n",
    "\n",
    "    # Combine all classes\n",
    "    X = np.vstack(X_list)\n",
    "    y = np.concatenate(y_list)\n",
    "\n",
    "    # Create covariance matrix\n",
    "    cov_matrix = np.array([\n",
    "        [1.0, correlation],  # Variance of X1 = 1, Cov(X1,X2) = rho\n",
    "        [correlation, 1.0]   # Cov(X1,X2) = rho, Variance of X2 = 1\n",
    "    ])\n",
    "\n",
    "    # Apply Cholesky decomposition to get transformation matrix\n",
    "    L = np.linalg.cholesky(cov_matrix)\n",
    "\n",
    "    # Apply the transformation to add correlation\n",
    "    X_correlated = X @ L.T\n",
    "\n",
    "    return X_correlated, y"
   ]
  },
  {
   "cell_type": "markdown",
   "id": "983b91de",
   "metadata": {},
   "source": [
    "### Synthetic Data for Support Vector Machine (Linear Kernel)"
   ]
  },
  {
   "cell_type": "code",
   "execution_count": null,
   "id": "87c26968",
   "metadata": {},
   "outputs": [],
   "source": [
    "def synthetic_dataset_svm(n_samples=500, correlation=0.5):\n",
    "    \"\"\"Generate a synthetic dataset for Support Vector Machine (Linear Kernel).\n",
    "    Description: \n",
    "    - No feature independence assumption\n",
    "    - Linear separability\n",
    "    - Doesnt handle well overlapping classes. So let's define less noise scale.\n",
    "    \"\"\"\n",
    "\n",
    "    # Noise scale\n",
    "    NOISE_SCALE = 0.3\n",
    "    \n",
    "    # Create class means (arranged in a square)\n",
    "    class_means = np.array([\n",
    "        [2, 2],     # Class 0: top-right\n",
    "        [-2, 2],    # Class 1: top-left\n",
    "        [-2, -2],   # Class 2: bottom-left\n",
    "        [2, -2]     # Class 3: bottom-right\n",
    "    ])\n",
    "\n",
    "    # Create data for each class\n",
    "    X_list = []\n",
    "    y_list = []\n",
    "\n",
    "    for class_idx, mean in enumerate(class_means):\n",
    "        # Generate points around each class mean with small variance\n",
    "        X_class = np.random.normal(loc=mean, scale=0.5, size=(n_samples, 2))\n",
    "        # Add some noise to make the classes less separable\n",
    "        X_class += np.random.normal(scale=NOISE_SCALE, size=X_class.shape)\n",
    "        X_list.append(X_class)\n",
    "        y_list.append(np.full(n_samples, class_idx))\n",
    "\n",
    "    # Combine all classes\n",
    "    X = np.vstack(X_list)\n",
    "    y = np.concatenate(y_list)\n",
    "\n",
    "    # Create covariance matrix\n",
    "    cov_matrix = np.array([\n",
    "        [1.0, correlation],  # Variance of X1 = 1, Cov(X1,X2) = rho\n",
    "        [correlation, 1.0]   # Cov(X1,X2) = rho, Variance of X2 = 1\n",
    "    ])\n",
    "\n",
    "    # Apply Cholesky decomposition to get transformation matrix\n",
    "    L = np.linalg.cholesky(cov_matrix)\n",
    "\n",
    "    # Apply the transformation to add correlation\n",
    "    X_correlated = X @ L.T\n",
    "\n",
    "    return X_correlated, y"
   ]
  },
  {
   "cell_type": "markdown",
   "id": "bb40c58d",
   "metadata": {},
   "source": [
    "### Synthetic Data for Decision Trees"
   ]
  },
  {
   "cell_type": "code",
   "execution_count": null,
   "id": "3cdd7041",
   "metadata": {},
   "outputs": [],
   "source": [
    "def synthetic_dataset_dt(n: int =600, noise: float =0.2) -> tuple[np.ndarray, np.ndarray]:\n",
    "    \"\"\"\n",
    "    Generate a synthetic dataset for Decision Trees.\n",
    "    Description: \n",
    "    XOR structure: for correlation.\n",
    "    NB independence assumption fails; Tree captures interaction well.\n",
    "    \"\"\"\n",
    "    # Four Gaussian blobs in quadrants\n",
    "    n_q = n // 4\n",
    "    class_means = [(-1.5, -1.5), (1.5, 1.5), (-1.5, 1.5), (1.5, -1.5)]\n",
    "    data = []\n",
    "    labels = []\n",
    "    for i, (cx, cy) in enumerate(class_means):\n",
    "        # generate 2D points (not 4D)\n",
    "        pts = np.random.normal(loc=[cx, cy], scale=noise, size=(n_q, 2))\n",
    "        data.append(pts)\n",
    "        labels.append(np.full(n_q, i))  # class 0..3\n",
    "    X = np.vstack(data)\n",
    "    y = np.hstack(labels)\n",
    "    return X, y"
   ]
  },
  {
   "cell_type": "markdown",
   "id": "b3f1ee13",
   "metadata": {},
   "source": [
    "### Synthetic Data for Decision Rules"
   ]
  },
  {
   "cell_type": "code",
   "execution_count": 15,
   "id": "dcf79003",
   "metadata": {},
   "outputs": [],
   "source": [
    "def synthetic_dataset_dr(n: str =600, noise: str =0.05) -> tuple[np.ndarray, np.ndarray]:\n",
    "    \"\"\"\n",
    "    Generate a synthetic dataset for Decision Rules.\n",
    "    Axis-aligned rectangular rules:\n",
    "      - Class 0: x1 <= 0 and x2 <= 0\n",
    "      - Class 1: x1 > 0 and x2 <= 0\n",
    "      - Class 2: x1 <= 0 and x2 > 0\n",
    "      - Class 3: x1 > 0 and x2 > 0\n",
    "    Shallow trees (decision rules) capture rectangles cleanly.\n",
    "    \"\"\"\n",
    "    # Uniform points in 2D space\n",
    "    X = np.random.uniform(low=-2.0, high=2.0, size=(n, 2))\n",
    "\n",
    "    # Assign class based on axis-aligned rules (quadrants)\n",
    "    y = np.zeros(n, dtype=int)\n",
    "    y[(X[:,0] > 0) & (X[:,1] <= 0)] = 1\n",
    "    y[(X[:,0] <= 0) & (X[:,1] > 0)] = 2\n",
    "    y[(X[:,0] > 0) & (X[:,1] > 0)] = 3\n",
    "\n",
    "    # Add noise: flip labels for a fraction of samples\n",
    "    idx = np.random.choice(n, size=int(noise*n), replace=False)\n",
    "    y[idx] = np.random.randint(0, 4, size=len(idx))\n",
    "\n",
    "    return X, y"
   ]
  },
  {
   "cell_type": "markdown",
   "id": "b5d44953",
   "metadata": {},
   "source": [
    "### Synthetic Data for Nearest Neighbor"
   ]
  },
  {
   "cell_type": "code",
   "execution_count": null,
   "id": "daeafb3f",
   "metadata": {},
   "outputs": [],
   "source": [
    "def synthetic_dataset_knn(n: int = 600, std: float = 0.6, random_state: int = 42) -> tuple[np.ndarray, np.ndarray]:\n",
    "    \"\"\"\n",
    "    Synthetic dataset designed to favor kNN over SVM.\n",
    "    - kNN advantages:\n",
    "    Each class = two blobs, so decision boundaries depend on local clusters.\n",
    "    kNN leverages this local structure effectively.\n",
    "    - SVM disadvantages:\n",
    "    The same class isn’t contiguous in feature space → SVM with RBF tries to draw a single smooth region and struggles.\n",
    "    Moderate overlap makes margins fuzzy.\n",
    "    \"\"\"\n",
    "    rng = np.random.default_rng(random_state)\n",
    "    \n",
    "    centers = [\n",
    "        (-3, -2), (-2, -3),   # class 0 (two nearby blobs)\n",
    "        ( 3, -2), ( 2, -3),   # class 1\n",
    "        (-3,  2), (-2,  3),   # class 2\n",
    "        ( 3,  2), ( 2,  3)    # class 3\n",
    "    ]\n",
    "    \n",
    "    # Generate 8 blobs total\n",
    "    X, y_blobs = make_blobs(n_samples=n, centers=centers, cluster_std=std, random_state=random_state)\n",
    "    \n",
    "    # Map blob indices (0..7) to class labels (0..3)\n",
    "    mapping = {0:0, 1:0, 2:1, 3:1, 4:2, 5:2, 6:3, 7:3}\n",
    "    y = np.vectorize(mapping.get)(y_blobs)\n",
    "    \n",
    "    return X, y"
   ]
  },
  {
   "cell_type": "markdown",
   "id": "ce5ee77e",
   "metadata": {},
   "source": [
    "## Drawing data"
   ]
  },
  {
   "cell_type": "code",
   "execution_count": null,
   "id": "9813e3d1",
   "metadata": {},
   "outputs": [],
   "source": [
    "X,y = synthetic_dataset_nb(n_samples=200)\n",
    "print(\"Correlation:\", np.corrcoef(X[:,0], X[:,1])[0,1])\n",
    "# Plotting the data\n",
    "draw_plot(X,y,\"Synthetic dataset for Naive Bayes\")\n"
   ]
  },
  {
   "cell_type": "code",
   "execution_count": null,
   "id": "cc86cba7",
   "metadata": {},
   "outputs": [],
   "source": [
    "X,y = synthetic_dataset_lr(n_samples=200, correlation=-0.4, noise_scale=0.7)\n",
    "correlation = np.corrcoef(X[:,0], X[:,1])[0,1]\n",
    "print(\"Correlation:\", correlation)\n",
    "draw_plot(X,y,\"Synthetic dataset for Logistic Regression\")\n"
   ]
  },
  {
   "cell_type": "code",
   "execution_count": null,
   "id": "3b67ad4c",
   "metadata": {},
   "outputs": [],
   "source": [
    "X, y = synthetic_dataset_svm(n_samples=200, correlation=0.8)\n",
    "correlation = np.corrcoef(X[:,0], X[:,1])[0,1]\n",
    "print(\"Correlation:\", correlation)\n",
    "draw_plot(X,y,\"Synthetic dataset for SVM (Linear Kernel)\")"
   ]
  },
  {
   "cell_type": "code",
   "execution_count": null,
   "id": "53ccee0d",
   "metadata": {},
   "outputs": [],
   "source": [
    "X, y = synthetic_dataset_dt(n=800, noise=0.7)\n",
    "correlation = np.corrcoef(X[:,0], X[:,1])[0,1]\n",
    "print(\"Correlation:\", correlation)\n",
    "draw_plot(X,y,\"Synthetic dataset for Decision Tree\")"
   ]
  },
  {
   "cell_type": "code",
   "execution_count": null,
   "id": "9ea3d2ce",
   "metadata": {},
   "outputs": [],
   "source": [
    "X, y = synthetic_dataset_dr(n=800, noise=0.01)\n",
    "correlation = np.corrcoef(X[:,0], X[:,1])[0,1]\n",
    "print(\"Correlation:\", correlation)\n",
    "draw_plot(X,y,\"Synthetic dataset for Decision Rules\")"
   ]
  },
  {
   "cell_type": "code",
   "execution_count": 22,
   "id": "432c26b8",
   "metadata": {},
   "outputs": [
    {
     "name": "stdout",
     "output_type": "stream",
     "text": [
      "Correlation: 0.013106208642306693\n"
     ]
    },
    {
     "data": {
      "application/vnd.plotly.v1+json": {
       "config": {
        "plotlyServerURL": "https://plot.ly"
       },
       "data": [
        {
         "marker": {
          "color": {
           "bdata": "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",
           "dtype": "i4"
          }
         },
         "mode": "markers",
         "type": "scatter",
         "x": {
          "bdata": "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",
          "dtype": "f8"
         },
         "y": {
          "bdata": "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",
          "dtype": "f8"
         }
        }
       ],
       "layout": {
        "showlegend": false,
        "template": {
         "data": {
          "bar": [
           {
            "error_x": {
             "color": "#2a3f5f"
            },
            "error_y": {
             "color": "#2a3f5f"
            },
            "marker": {
             "line": {
              "color": "#E5ECF6",
              "width": 0.5
             },
             "pattern": {
              "fillmode": "overlay",
              "size": 10,
              "solidity": 0.2
             }
            },
            "type": "bar"
           }
          ],
          "barpolar": [
           {
            "marker": {
             "line": {
              "color": "#E5ECF6",
              "width": 0.5
             },
             "pattern": {
              "fillmode": "overlay",
              "size": 10,
              "solidity": 0.2
             }
            },
            "type": "barpolar"
           }
          ],
          "carpet": [
           {
            "aaxis": {
             "endlinecolor": "#2a3f5f",
             "gridcolor": "white",
             "linecolor": "white",
             "minorgridcolor": "white",
             "startlinecolor": "#2a3f5f"
            },
            "baxis": {
             "endlinecolor": "#2a3f5f",
             "gridcolor": "white",
             "linecolor": "white",
             "minorgridcolor": "white",
             "startlinecolor": "#2a3f5f"
            },
            "type": "carpet"
           }
          ],
          "choropleth": [
           {
            "colorbar": {
             "outlinewidth": 0,
             "ticks": ""
            },
            "type": "choropleth"
           }
          ],
          "contour": [
           {
            "colorbar": {
             "outlinewidth": 0,
             "ticks": ""
            },
            "colorscale": [
             [
              0,
              "#0d0887"
             ],
             [
              0.1111111111111111,
              "#46039f"
             ],
             [
              0.2222222222222222,
              "#7201a8"
             ],
             [
              0.3333333333333333,
              "#9c179e"
             ],
             [
              0.4444444444444444,
              "#bd3786"
             ],
             [
              0.5555555555555556,
              "#d8576b"
             ],
             [
              0.6666666666666666,
              "#ed7953"
             ],
             [
              0.7777777777777778,
              "#fb9f3a"
             ],
             [
              0.8888888888888888,
              "#fdca26"
             ],
             [
              1,
              "#f0f921"
             ]
            ],
            "type": "contour"
           }
          ],
          "contourcarpet": [
           {
            "colorbar": {
             "outlinewidth": 0,
             "ticks": ""
            },
            "type": "contourcarpet"
           }
          ],
          "heatmap": [
           {
            "colorbar": {
             "outlinewidth": 0,
             "ticks": ""
            },
            "colorscale": [
             [
              0,
              "#0d0887"
             ],
             [
              0.1111111111111111,
              "#46039f"
             ],
             [
              0.2222222222222222,
              "#7201a8"
             ],
             [
              0.3333333333333333,
              "#9c179e"
             ],
             [
              0.4444444444444444,
              "#bd3786"
             ],
             [
              0.5555555555555556,
              "#d8576b"
             ],
             [
              0.6666666666666666,
              "#ed7953"
             ],
             [
              0.7777777777777778,
              "#fb9f3a"
             ],
             [
              0.8888888888888888,
              "#fdca26"
             ],
             [
              1,
              "#f0f921"
             ]
            ],
            "type": "heatmap"
           }
          ],
          "histogram": [
           {
            "marker": {
             "pattern": {
              "fillmode": "overlay",
              "size": 10,
              "solidity": 0.2
             }
            },
            "type": "histogram"
           }
          ],
          "histogram2d": [
           {
            "colorbar": {
             "outlinewidth": 0,
             "ticks": ""
            },
            "colorscale": [
             [
              0,
              "#0d0887"
             ],
             [
              0.1111111111111111,
              "#46039f"
             ],
             [
              0.2222222222222222,
              "#7201a8"
             ],
             [
              0.3333333333333333,
              "#9c179e"
             ],
             [
              0.4444444444444444,
              "#bd3786"
             ],
             [
              0.5555555555555556,
              "#d8576b"
             ],
             [
              0.6666666666666666,
              "#ed7953"
             ],
             [
              0.7777777777777778,
              "#fb9f3a"
             ],
             [
              0.8888888888888888,
              "#fdca26"
             ],
             [
              1,
              "#f0f921"
             ]
            ],
            "type": "histogram2d"
           }
          ],
          "histogram2dcontour": [
           {
            "colorbar": {
             "outlinewidth": 0,
             "ticks": ""
            },
            "colorscale": [
             [
              0,
              "#0d0887"
             ],
             [
              0.1111111111111111,
              "#46039f"
             ],
             [
              0.2222222222222222,
              "#7201a8"
             ],
             [
              0.3333333333333333,
              "#9c179e"
             ],
             [
              0.4444444444444444,
              "#bd3786"
             ],
             [
              0.5555555555555556,
              "#d8576b"
             ],
             [
              0.6666666666666666,
              "#ed7953"
             ],
             [
              0.7777777777777778,
              "#fb9f3a"
             ],
             [
              0.8888888888888888,
              "#fdca26"
             ],
             [
              1,
              "#f0f921"
             ]
            ],
            "type": "histogram2dcontour"
           }
          ],
          "mesh3d": [
           {
            "colorbar": {
             "outlinewidth": 0,
             "ticks": ""
            },
            "type": "mesh3d"
           }
          ],
          "parcoords": [
           {
            "line": {
             "colorbar": {
              "outlinewidth": 0,
              "ticks": ""
             }
            },
            "type": "parcoords"
           }
          ],
          "pie": [
           {
            "automargin": true,
            "type": "pie"
           }
          ],
          "scatter": [
           {
            "fillpattern": {
             "fillmode": "overlay",
             "size": 10,
             "solidity": 0.2
            },
            "type": "scatter"
           }
          ],
          "scatter3d": [
           {
            "line": {
             "colorbar": {
              "outlinewidth": 0,
              "ticks": ""
             }
            },
            "marker": {
             "colorbar": {
              "outlinewidth": 0,
              "ticks": ""
             }
            },
            "type": "scatter3d"
           }
          ],
          "scattercarpet": [
           {
            "marker": {
             "colorbar": {
              "outlinewidth": 0,
              "ticks": ""
             }
            },
            "type": "scattercarpet"
           }
          ],
          "scattergeo": [
           {
            "marker": {
             "colorbar": {
              "outlinewidth": 0,
              "ticks": ""
             }
            },
            "type": "scattergeo"
           }
          ],
          "scattergl": [
           {
            "marker": {
             "colorbar": {
              "outlinewidth": 0,
              "ticks": ""
             }
            },
            "type": "scattergl"
           }
          ],
          "scattermap": [
           {
            "marker": {
             "colorbar": {
              "outlinewidth": 0,
              "ticks": ""
             }
            },
            "type": "scattermap"
           }
          ],
          "scattermapbox": [
           {
            "marker": {
             "colorbar": {
              "outlinewidth": 0,
              "ticks": ""
             }
            },
            "type": "scattermapbox"
           }
          ],
          "scatterpolar": [
           {
            "marker": {
             "colorbar": {
              "outlinewidth": 0,
              "ticks": ""
             }
            },
            "type": "scatterpolar"
           }
          ],
          "scatterpolargl": [
           {
            "marker": {
             "colorbar": {
              "outlinewidth": 0,
              "ticks": ""
             }
            },
            "type": "scatterpolargl"
           }
          ],
          "scatterternary": [
           {
            "marker": {
             "colorbar": {
              "outlinewidth": 0,
              "ticks": ""
             }
            },
            "type": "scatterternary"
           }
          ],
          "surface": [
           {
            "colorbar": {
             "outlinewidth": 0,
             "ticks": ""
            },
            "colorscale": [
             [
              0,
              "#0d0887"
             ],
             [
              0.1111111111111111,
              "#46039f"
             ],
             [
              0.2222222222222222,
              "#7201a8"
             ],
             [
              0.3333333333333333,
              "#9c179e"
             ],
             [
              0.4444444444444444,
              "#bd3786"
             ],
             [
              0.5555555555555556,
              "#d8576b"
             ],
             [
              0.6666666666666666,
              "#ed7953"
             ],
             [
              0.7777777777777778,
              "#fb9f3a"
             ],
             [
              0.8888888888888888,
              "#fdca26"
             ],
             [
              1,
              "#f0f921"
             ]
            ],
            "type": "surface"
           }
          ],
          "table": [
           {
            "cells": {
             "fill": {
              "color": "#EBF0F8"
             },
             "line": {
              "color": "white"
             }
            },
            "header": {
             "fill": {
              "color": "#C8D4E3"
             },
             "line": {
              "color": "white"
             }
            },
            "type": "table"
           }
          ]
         },
         "layout": {
          "annotationdefaults": {
           "arrowcolor": "#2a3f5f",
           "arrowhead": 0,
           "arrowwidth": 1
          },
          "autotypenumbers": "strict",
          "coloraxis": {
           "colorbar": {
            "outlinewidth": 0,
            "ticks": ""
           }
          },
          "colorscale": {
           "diverging": [
            [
             0,
             "#8e0152"
            ],
            [
             0.1,
             "#c51b7d"
            ],
            [
             0.2,
             "#de77ae"
            ],
            [
             0.3,
             "#f1b6da"
            ],
            [
             0.4,
             "#fde0ef"
            ],
            [
             0.5,
             "#f7f7f7"
            ],
            [
             0.6,
             "#e6f5d0"
            ],
            [
             0.7,
             "#b8e186"
            ],
            [
             0.8,
             "#7fbc41"
            ],
            [
             0.9,
             "#4d9221"
            ],
            [
             1,
             "#276419"
            ]
           ],
           "sequential": [
            [
             0,
             "#0d0887"
            ],
            [
             0.1111111111111111,
             "#46039f"
            ],
            [
             0.2222222222222222,
             "#7201a8"
            ],
            [
             0.3333333333333333,
             "#9c179e"
            ],
            [
             0.4444444444444444,
             "#bd3786"
            ],
            [
             0.5555555555555556,
             "#d8576b"
            ],
            [
             0.6666666666666666,
             "#ed7953"
            ],
            [
             0.7777777777777778,
             "#fb9f3a"
            ],
            [
             0.8888888888888888,
             "#fdca26"
            ],
            [
             1,
             "#f0f921"
            ]
           ],
           "sequentialminus": [
            [
             0,
             "#0d0887"
            ],
            [
             0.1111111111111111,
             "#46039f"
            ],
            [
             0.2222222222222222,
             "#7201a8"
            ],
            [
             0.3333333333333333,
             "#9c179e"
            ],
            [
             0.4444444444444444,
             "#bd3786"
            ],
            [
             0.5555555555555556,
             "#d8576b"
            ],
            [
             0.6666666666666666,
             "#ed7953"
            ],
            [
             0.7777777777777778,
             "#fb9f3a"
            ],
            [
             0.8888888888888888,
             "#fdca26"
            ],
            [
             1,
             "#f0f921"
            ]
           ]
          },
          "colorway": [
           "#636efa",
           "#EF553B",
           "#00cc96",
           "#ab63fa",
           "#FFA15A",
           "#19d3f3",
           "#FF6692",
           "#B6E880",
           "#FF97FF",
           "#FECB52"
          ],
          "font": {
           "color": "#2a3f5f"
          },
          "geo": {
           "bgcolor": "white",
           "lakecolor": "white",
           "landcolor": "#E5ECF6",
           "showlakes": true,
           "showland": true,
           "subunitcolor": "white"
          },
          "hoverlabel": {
           "align": "left"
          },
          "hovermode": "closest",
          "mapbox": {
           "style": "light"
          },
          "paper_bgcolor": "white",
          "plot_bgcolor": "#E5ECF6",
          "polar": {
           "angularaxis": {
            "gridcolor": "white",
            "linecolor": "white",
            "ticks": ""
           },
           "bgcolor": "#E5ECF6",
           "radialaxis": {
            "gridcolor": "white",
            "linecolor": "white",
            "ticks": ""
           }
          },
          "scene": {
           "xaxis": {
            "backgroundcolor": "#E5ECF6",
            "gridcolor": "white",
            "gridwidth": 2,
            "linecolor": "white",
            "showbackground": true,
            "ticks": "",
            "zerolinecolor": "white"
           },
           "yaxis": {
            "backgroundcolor": "#E5ECF6",
            "gridcolor": "white",
            "gridwidth": 2,
            "linecolor": "white",
            "showbackground": true,
            "ticks": "",
            "zerolinecolor": "white"
           },
           "zaxis": {
            "backgroundcolor": "#E5ECF6",
            "gridcolor": "white",
            "gridwidth": 2,
            "linecolor": "white",
            "showbackground": true,
            "ticks": "",
            "zerolinecolor": "white"
           }
          },
          "shapedefaults": {
           "line": {
            "color": "#2a3f5f"
           }
          },
          "ternary": {
           "aaxis": {
            "gridcolor": "white",
            "linecolor": "white",
            "ticks": ""
           },
           "baxis": {
            "gridcolor": "white",
            "linecolor": "white",
            "ticks": ""
           },
           "bgcolor": "#E5ECF6",
           "caxis": {
            "gridcolor": "white",
            "linecolor": "white",
            "ticks": ""
           }
          },
          "title": {
           "x": 0.05
          },
          "xaxis": {
           "automargin": true,
           "gridcolor": "white",
           "linecolor": "white",
           "ticks": "",
           "title": {
            "standoff": 15
           },
           "zerolinecolor": "white",
           "zerolinewidth": 2
          },
          "yaxis": {
           "automargin": true,
           "gridcolor": "white",
           "linecolor": "white",
           "ticks": "",
           "title": {
            "standoff": 15
           },
           "zerolinecolor": "white",
           "zerolinewidth": 2
          }
         }
        },
        "title": {
         "text": "Synthetic dataset for Nearest Neighbor"
        },
        "xaxis": {
         "title": {
          "text": "X1"
         }
        },
        "yaxis": {
         "title": {
          "text": "X2"
         }
        }
       }
      }
     },
     "metadata": {},
     "output_type": "display_data"
    }
   ],
   "source": [
    "X, y = synthetic_dataset_knn(n=800, std=0.8, random_state=42)\n",
    "correlation = np.corrcoef(X[:,0], X[:,1])[0,1]\n",
    "print(\"Correlation:\", correlation)\n",
    "draw_plot(X,y,\"Synthetic dataset for Nearest Neighbor\")"
   ]
  }
 ],
 "metadata": {
  "kernelspec": {
   "display_name": "Python 3",
   "language": "python",
   "name": "python3"
  },
  "language_info": {
   "codemirror_mode": {
    "name": "ipython",
    "version": 3
   },
   "file_extension": ".py",
   "mimetype": "text/x-python",
   "name": "python",
   "nbconvert_exporter": "python",
   "pygments_lexer": "ipython3",
   "version": "3.11.0"
  }
 },
 "nbformat": 4,
 "nbformat_minor": 5
}
