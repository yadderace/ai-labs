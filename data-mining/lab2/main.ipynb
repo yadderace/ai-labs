{
 "cells": [
  {
   "cell_type": "markdown",
   "id": "b0da93f5",
   "metadata": {},
   "source": [
    "# Lab 2"
   ]
  },
  {
   "cell_type": "code",
   "execution_count": null,
   "id": "cd0ee641",
   "metadata": {},
   "outputs": [],
   "source": [
    "%pip install plotly"
   ]
  },
  {
   "cell_type": "code",
   "execution_count": 7,
   "id": "d2e4dbe2",
   "metadata": {},
   "outputs": [],
   "source": [
    "import numpy as np\n",
    "import plotly.graph_objects as go\n",
    "from sklearn.datasets import make_classification, make_circles, make_moons, make_blobs"
   ]
  },
  {
   "cell_type": "markdown",
   "id": "14c18be8",
   "metadata": {},
   "source": [
    "## Utility Functions"
   ]
  },
  {
   "cell_type": "code",
   "execution_count": 17,
   "id": "313d5fa6",
   "metadata": {},
   "outputs": [],
   "source": [
    "def draw_plot(X, y, title=\"\"):\n",
    "    fig = go.Figure(data=go.Scatter(x=X[:, 0], y=X[:, 1], mode='markers', marker=dict(color=y)))\n",
    "    fig.update_layout(\n",
    "        title=title,\n",
    "        xaxis_title=\"X1\",\n",
    "        yaxis_title=\"X2\",\n",
    "        showlegend=False,\n",
    "        width=600,\n",
    "        height=600,\n",
    "    )\n",
    "    fig.show()"
   ]
  },
  {
   "cell_type": "markdown",
   "id": "8648ed3d",
   "metadata": {},
   "source": [
    "## Task 1"
   ]
  },
  {
   "cell_type": "code",
   "execution_count": 26,
   "id": "393b3f67",
   "metadata": {},
   "outputs": [],
   "source": [
    "pairs = [\n",
    "    (\"Naive Bayes\", \"Decision Tree\"),\n",
    "    (\"Logistic Regression\", \"Random Forest\"),\n",
    "    (\"SVM\", \"Nearest Neighbors\")\n",
    "]"
   ]
  },
  {
   "cell_type": "markdown",
   "id": "e7286ba0",
   "metadata": {},
   "source": [
    "## Task 2"
   ]
  },
  {
   "cell_type": "markdown",
   "id": "c8153b43",
   "metadata": {},
   "source": [
    "### Synthetic Data for Naive Bayes"
   ]
  },
  {
   "cell_type": "code",
   "execution_count": 64,
   "id": "f3b59b01",
   "metadata": {},
   "outputs": [],
   "source": [
    "def synthetic_dataset_nb(n_samples: int = 500, noise_scale: float = 0.5, random_state: int = 1505):\n",
    "    \"\"\"\n",
    "    Generate a synthetic dataset for Naive Bayes.\n",
    "    Description:\n",
    "    - Linearly separable classes\n",
    "    - No redundant features\n",
    "    - No correlation between features\n",
    "    \"\"\"\n",
    "\n",
    "    np.random.seed(random_state)\n",
    "    \n",
    "    # Create diagonal centers\n",
    "    centers = np.array([\n",
    "        [2, 2],   # Class 0\n",
    "        [4, 4],   # Class 1\n",
    "        [6, 6],   # Class 2\n",
    "        [8, 8]    # Class 3\n",
    "    ])\n",
    "\n",
    "    n_samples_per_class = int(n_samples // len(centers))\n",
    "\n",
    "    X_list = []\n",
    "    y_list = []\n",
    "\n",
    "    for i, (cx, cy) in enumerate(centers):\n",
    "        x1 = np.random.normal(cx, noise_scale, n_samples_per_class)\n",
    "        x2 = np.random.normal(cy, noise_scale, n_samples_per_class)\n",
    "        X_list.append(np.vstack([x1, x2]).T)\n",
    "        y_list.append(np.full(n_samples_per_class, i))\n",
    "\n",
    "    X = np.vstack(X_list)\n",
    "    y = np.concatenate(y_list)\n",
    "\n",
    "    return X, y\n",
    "    "
   ]
  },
  {
   "cell_type": "markdown",
   "id": "2f7f9db6",
   "metadata": {},
   "source": [
    "### Synthetic Data for Logistic Regression"
   ]
  },
  {
   "cell_type": "code",
   "execution_count": 68,
   "id": "b72fd07d",
   "metadata": {},
   "outputs": [],
   "source": [
    "def synthetic_dataset_lr(n_samples : int = 500, correlation : float = 0.3, noise_scale : float = 0.5, random_state : int = 1505):\n",
    "    \"\"\"Generate a synthetic dataset for Logistic Regression.\n",
    "    Description: \n",
    "    - No feature independence assumption\n",
    "    - Linear separability\n",
    "    \"\"\"\n",
    "    np.random.seed(random_state)\n",
    "    \n",
    "    # Create class means (arranged in a square)\n",
    "    class_means = np.array([\n",
    "        [2, 2],     # Class 0: top-right\n",
    "        [-2, 2],    # Class 1: top-left\n",
    "        [-2, -2],   # Class 2: bottom-left\n",
    "        [2, -2]     # Class 3: bottom-right\n",
    "    ])\n",
    "\n",
    "    # Create data for each class\n",
    "    X_list = []\n",
    "    y_list = []\n",
    "\n",
    "    n_samples_per_class = int(n_samples // len(class_means))\n",
    "\n",
    "    for class_idx, mean in enumerate(class_means):\n",
    "        # Generate points around each class mean with small variance\n",
    "        X_class = np.random.normal(loc=mean, scale=0.5, size=(n_samples_per_class, 2))\n",
    "        # Add some noise to make the classes less separable\n",
    "        X_class += np.random.normal(scale=noise_scale, size=X_class.shape)\n",
    "        X_list.append(X_class)\n",
    "        y_list.append(np.full(n_samples_per_class, class_idx))\n",
    "\n",
    "    # Combine all classes\n",
    "    X = np.vstack(X_list)\n",
    "    y = np.concatenate(y_list)\n",
    "\n",
    "    # Create covariance matrix\n",
    "    cov_matrix = np.array([\n",
    "        [1.0, correlation],  # Variance of X1 = 1, Cov(X1,X2) = rho\n",
    "        [correlation, 1.0]   # Cov(X1,X2) = rho, Variance of X2 = 1\n",
    "    ])\n",
    "\n",
    "    # Apply Cholesky decomposition to get transformation matrix\n",
    "    L = np.linalg.cholesky(cov_matrix)\n",
    "\n",
    "    # Apply the transformation to add correlation\n",
    "    X_correlated = X @ L.T\n",
    "\n",
    "    return X_correlated, y"
   ]
  },
  {
   "cell_type": "markdown",
   "id": "983b91de",
   "metadata": {},
   "source": [
    "### Synthetic Data for Support Vector Machine (Linear Kernel)"
   ]
  },
  {
   "cell_type": "code",
   "execution_count": 69,
   "id": "87c26968",
   "metadata": {},
   "outputs": [],
   "source": [
    "def synthetic_dataset_svm(n_samples: int = 500, correlation: float = 0.5, noise_scale: float = 0.4, random_state: int = 1505):\n",
    "    \"\"\"Generate a synthetic dataset for Support Vector Machine (Linear Kernel).\n",
    "    Description: \n",
    "    - No feature independence assumption\n",
    "    - Linear separability\n",
    "    - Doesnt handle well overlapping classes. So let's define less noise scale.\n",
    "    \"\"\"\n",
    "    np.random.seed(random_state)    \n",
    "\n",
    "    # Create class means (arranged in a square)\n",
    "    class_means = np.array([\n",
    "        [2, 2],     # Class 0: top-right\n",
    "        [-2, 2],    # Class 1: top-left\n",
    "        [-2, -2],   # Class 2: bottom-left\n",
    "        [2, -2]     # Class 3: bottom-right\n",
    "    ])\n",
    "\n",
    "    n_samples_per_class = int(n_samples // len(class_means))\n",
    "\n",
    "    # Create data for each class\n",
    "    X_list = []\n",
    "    y_list = []\n",
    "\n",
    "    for class_idx, mean in enumerate(class_means):\n",
    "        # Generate points around each class mean with small variance\n",
    "        X_class = np.random.normal(loc=mean, scale=0.5, size=(n_samples_per_class, 2))\n",
    "        # Add some noise to make the classes less separable\n",
    "        X_class += np.random.normal(scale=noise_scale, size=X_class.shape)\n",
    "        X_list.append(X_class)\n",
    "        y_list.append(np.full(n_samples_per_class, class_idx))\n",
    "\n",
    "    # Combine all classes\n",
    "    X = np.vstack(X_list)\n",
    "    y = np.concatenate(y_list)\n",
    "\n",
    "    # Create covariance matrix\n",
    "    cov_matrix = np.array([\n",
    "        [1.0, correlation],  # Variance of X1 = 1, Cov(X1,X2) = rho\n",
    "        [correlation, 1.0]   # Cov(X1,X2) = rho, Variance of X2 = 1\n",
    "    ])\n",
    "\n",
    "    # Apply Cholesky decomposition to get transformation matrix\n",
    "    L = np.linalg.cholesky(cov_matrix)\n",
    "\n",
    "    # Apply the transformation to add correlation\n",
    "    X_correlated = X @ L.T\n",
    "\n",
    "    return X_correlated, y"
   ]
  },
  {
   "cell_type": "markdown",
   "id": "bb40c58d",
   "metadata": {},
   "source": [
    "### Synthetic Data for Decision Trees"
   ]
  },
  {
   "cell_type": "code",
   "execution_count": 54,
   "id": "3cdd7041",
   "metadata": {},
   "outputs": [],
   "source": [
    "def synthetic_dataset_dt(n_samples: int =600, noise_rate: float =0.2, correlation: float = 0.5, random_state: int = 1505) -> tuple[np.ndarray, np.ndarray]:\n",
    "    \"\"\"\n",
    "    Generate a synthetic dataset for Decision Trees.\n",
    "    Description: \n",
    "    XOR structure: for correlation.\n",
    "    NB independence assumption fails; Tree captures interaction well.\n",
    "    \"\"\"\n",
    "    np.random.seed(random_state)\n",
    "\n",
    "    n_q = n_samples // 4\n",
    "    class_means = [(-1.5, -1.5), (1.5, 1.5), (-1.5, 1.5), (1.5, -1.5)]\n",
    "    data = []\n",
    "    labels = []\n",
    "    for i, (cx, cy) in enumerate(class_means):\n",
    "        pts = np.random.normal(loc=[cx, cy], scale=noise_rate, size=(n_q, 2))\n",
    "        data.append(pts)\n",
    "        labels.append(np.full(n_q, i))\n",
    "    X = np.vstack(data)\n",
    "    y = np.hstack(labels)\n",
    "\n",
    "    # Create covariance matrix\n",
    "    cov_matrix = np.array([\n",
    "        [1.0, correlation],  # Variance of X1 = 1, Cov(X1,X2) = rho\n",
    "        [correlation, 1.0]   # Cov(X1,X2) = rho, Variance of X2 = 1\n",
    "    ])\n",
    "\n",
    "    # Apply Cholesky decomposition to get transformation matrix\n",
    "    L = np.linalg.cholesky(cov_matrix)\n",
    "\n",
    "    # Apply the transformation to add correlation\n",
    "    X_correlated = X @ L.T\n",
    "\n",
    "    return X_correlated, y"
   ]
  },
  {
   "cell_type": "markdown",
   "id": "b3f1ee13",
   "metadata": {},
   "source": [
    "### Synthetic Data for Decision Rules"
   ]
  },
  {
   "cell_type": "code",
   "execution_count": 80,
   "id": "dcf79003",
   "metadata": {},
   "outputs": [],
   "source": [
    "def synthetic_dataset_dr(n_samples: int =600, noise_rate: float =0.05, random_state: int =1505) -> tuple[np.ndarray, np.ndarray]:\n",
    "    \"\"\"\n",
    "    Generate a synthetic dataset for Decision Rules.\n",
    "    Axis-aligned rectangular rules:\n",
    "      - Class 0: x1 <= 0 and x2 <= 0\n",
    "      - Class 1: x1 > 0 and x2 <= 0\n",
    "      - Class 2: x1 <= 0 and x2 > 0\n",
    "      - Class 3: x1 > 0 and x2 > 0\n",
    "    Shallow trees (decision rules) capture rectangles cleanly.\n",
    "    \"\"\"\n",
    "    np.random.seed(random_state)\n",
    "    \n",
    "    # Uniform points in 2D space\n",
    "    X = np.random.uniform(low=-2.0, high=2.0, size=(n_samples, 2))\n",
    "\n",
    "    # Assign class based on axis-aligned rules (quadrants)\n",
    "    y = np.zeros(n_samples, dtype=int)\n",
    "    y[(X[:,0] > 0) & (X[:,1] <= 0)] = 1\n",
    "    y[(X[:,0] <= 0) & (X[:,1] > 0)] = 2\n",
    "    y[(X[:,0] > 0) & (X[:,1] > 0)] = 3\n",
    "\n",
    "    # Add noise: flip labels for a fraction of samples\n",
    "    idx = np.random.choice(n_samples, size=int(noise_rate*n_samples), replace=False)\n",
    "    y[idx] = np.random.randint(0, 4, size=len(idx))\n",
    "\n",
    "    return X, y"
   ]
  },
  {
   "cell_type": "markdown",
   "id": "b5d44953",
   "metadata": {},
   "source": [
    "### Synthetic Data for Nearest Neighbor"
   ]
  },
  {
   "cell_type": "code",
   "execution_count": 87,
   "id": "daeafb3f",
   "metadata": {},
   "outputs": [],
   "source": [
    "def synthetic_dataset_knn(n_samples: int = 600, std: float = 0.6, noise: float = 0.6, random_state: int = 42) -> tuple[np.ndarray, np.ndarray]:\n",
    "    \"\"\"\n",
    "    Synthetic dataset designed to favor kNN over SVM.\n",
    "    - kNN advantages:\n",
    "    The same class is contiguous in feature space.\n",
    "    There's no dependency between features.\n",
    "    - SVM disadvantages:\n",
    "    The boundaries are not linearly separable.\n",
    "    \"\"\"\n",
    "    \n",
    "    np.random.seed(random_state)\n",
    "    X, y = [], []\n",
    "    n_classes = 4\n",
    "    \n",
    "    # Define radii and calculate samples per class\n",
    "    radii = [i for i in range(n_classes)]\n",
    "    n_samples_per_class = int(n_samples // len(radii))\n",
    "    \n",
    "    # Generate data\n",
    "    for i, r in enumerate(radii):\n",
    "        theta = np.linspace(0, 2 * np.pi, n_samples_per_class, endpoint=False)\n",
    "        circle = np.c_[r * np.cos(theta), r * np.sin(theta)]\n",
    "        circle += np.random.normal(0, noise, circle.shape)\n",
    "        X.append(circle)\n",
    "        y.extend([i] * n_samples_per_class)\n",
    "    \n",
    "    X = np.vstack(X)\n",
    "    y = np.array(y)\n",
    "    return X, y"
   ]
  },
  {
   "cell_type": "markdown",
   "id": "ce5ee77e",
   "metadata": {},
   "source": [
    "## Drawing data"
   ]
  },
  {
   "cell_type": "markdown",
   "id": "5458c535",
   "metadata": {},
   "source": [
    "### Naive Bayes"
   ]
  },
  {
   "cell_type": "code",
   "execution_count": 66,
   "id": "9813e3d1",
   "metadata": {},
   "outputs": [
    {
     "name": "stdout",
     "output_type": "stream",
     "text": [
      "Correlation: 0.9104225518895338\n"
     ]
    },
    {
     "data": {
      "application/vnd.plotly.v1+json": {
       "config": {
        "plotlyServerURL": "https://plot.ly"
       },
       "data": [
        {
         "marker": {
          "color": {
           "bdata": "AAAAAAAAAAAAAAAAAAAAAAAAAAAAAAAAAAAAAAAAAAAAAAAAAAAAAAAAAAAAAAAAAAAAAAAAAAAAAAAAAAAAAAAAAAAAAAAAAAAAAAAAAAAAAAAAAAAAAAAAAAAAAAAAAAAAAAAAAAAAAAAAAAAAAAAAAAAAAAAAAAAAAAABAQEBAQEBAQEBAQEBAQEBAQEBAQEBAQEBAQEBAQEBAQEBAQEBAQEBAQEBAQEBAQEBAQEBAQEBAQEBAQEBAQEBAQEBAQEBAQEBAQEBAQEBAQEBAQEBAQEBAQEBAQEBAQEBAQEBAQEBAQEBAQEBAQEBAQEBAQEBAQEBAQEBAQICAgICAgICAgICAgICAgICAgICAgICAgICAgICAgICAgICAgICAgICAgICAgICAgICAgICAgICAgICAgICAgICAgICAgICAgICAgICAgICAgICAgICAgICAgICAgICAgICAgICAgICAgICAgICAgICAgICAgICAgICAgICAwMDAwMDAwMDAwMDAwMDAwMDAwMDAwMDAwMDAwMDAwMDAwMDAwMDAwMDAwMDAwMDAwMDAwMDAwMDAwMDAwMDAwMDAwMDAwMDAwMDAwMDAwMDAwMDAwMDAwMDAwMDAwMDAwMDAwMDAwMDAwMDAwMDAwMDAwMDAwMDAwMDAwM=",
           "dtype": "i1"
          }
         },
         "mode": "markers",
         "type": "scatter",
         "x": {
          "bdata": "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",
          "dtype": "f8"
         },
         "y": {
          "bdata": "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",
          "dtype": "f8"
         }
        }
       ],
       "layout": {
        "height": 600,
        "showlegend": false,
        "template": {
         "data": {
          "bar": [
           {
            "error_x": {
             "color": "#2a3f5f"
            },
            "error_y": {
             "color": "#2a3f5f"
            },
            "marker": {
             "line": {
              "color": "#E5ECF6",
              "width": 0.5
             },
             "pattern": {
              "fillmode": "overlay",
              "size": 10,
              "solidity": 0.2
             }
            },
            "type": "bar"
           }
          ],
          "barpolar": [
           {
            "marker": {
             "line": {
              "color": "#E5ECF6",
              "width": 0.5
             },
             "pattern": {
              "fillmode": "overlay",
              "size": 10,
              "solidity": 0.2
             }
            },
            "type": "barpolar"
           }
          ],
          "carpet": [
           {
            "aaxis": {
             "endlinecolor": "#2a3f5f",
             "gridcolor": "white",
             "linecolor": "white",
             "minorgridcolor": "white",
             "startlinecolor": "#2a3f5f"
            },
            "baxis": {
             "endlinecolor": "#2a3f5f",
             "gridcolor": "white",
             "linecolor": "white",
             "minorgridcolor": "white",
             "startlinecolor": "#2a3f5f"
            },
            "type": "carpet"
           }
          ],
          "choropleth": [
           {
            "colorbar": {
             "outlinewidth": 0,
             "ticks": ""
            },
            "type": "choropleth"
           }
          ],
          "contour": [
           {
            "colorbar": {
             "outlinewidth": 0,
             "ticks": ""
            },
            "colorscale": [
             [
              0,
              "#0d0887"
             ],
             [
              0.1111111111111111,
              "#46039f"
             ],
             [
              0.2222222222222222,
              "#7201a8"
             ],
             [
              0.3333333333333333,
              "#9c179e"
             ],
             [
              0.4444444444444444,
              "#bd3786"
             ],
             [
              0.5555555555555556,
              "#d8576b"
             ],
             [
              0.6666666666666666,
              "#ed7953"
             ],
             [
              0.7777777777777778,
              "#fb9f3a"
             ],
             [
              0.8888888888888888,
              "#fdca26"
             ],
             [
              1,
              "#f0f921"
             ]
            ],
            "type": "contour"
           }
          ],
          "contourcarpet": [
           {
            "colorbar": {
             "outlinewidth": 0,
             "ticks": ""
            },
            "type": "contourcarpet"
           }
          ],
          "heatmap": [
           {
            "colorbar": {
             "outlinewidth": 0,
             "ticks": ""
            },
            "colorscale": [
             [
              0,
              "#0d0887"
             ],
             [
              0.1111111111111111,
              "#46039f"
             ],
             [
              0.2222222222222222,
              "#7201a8"
             ],
             [
              0.3333333333333333,
              "#9c179e"
             ],
             [
              0.4444444444444444,
              "#bd3786"
             ],
             [
              0.5555555555555556,
              "#d8576b"
             ],
             [
              0.6666666666666666,
              "#ed7953"
             ],
             [
              0.7777777777777778,
              "#fb9f3a"
             ],
             [
              0.8888888888888888,
              "#fdca26"
             ],
             [
              1,
              "#f0f921"
             ]
            ],
            "type": "heatmap"
           }
          ],
          "histogram": [
           {
            "marker": {
             "pattern": {
              "fillmode": "overlay",
              "size": 10,
              "solidity": 0.2
             }
            },
            "type": "histogram"
           }
          ],
          "histogram2d": [
           {
            "colorbar": {
             "outlinewidth": 0,
             "ticks": ""
            },
            "colorscale": [
             [
              0,
              "#0d0887"
             ],
             [
              0.1111111111111111,
              "#46039f"
             ],
             [
              0.2222222222222222,
              "#7201a8"
             ],
             [
              0.3333333333333333,
              "#9c179e"
             ],
             [
              0.4444444444444444,
              "#bd3786"
             ],
             [
              0.5555555555555556,
              "#d8576b"
             ],
             [
              0.6666666666666666,
              "#ed7953"
             ],
             [
              0.7777777777777778,
              "#fb9f3a"
             ],
             [
              0.8888888888888888,
              "#fdca26"
             ],
             [
              1,
              "#f0f921"
             ]
            ],
            "type": "histogram2d"
           }
          ],
          "histogram2dcontour": [
           {
            "colorbar": {
             "outlinewidth": 0,
             "ticks": ""
            },
            "colorscale": [
             [
              0,
              "#0d0887"
             ],
             [
              0.1111111111111111,
              "#46039f"
             ],
             [
              0.2222222222222222,
              "#7201a8"
             ],
             [
              0.3333333333333333,
              "#9c179e"
             ],
             [
              0.4444444444444444,
              "#bd3786"
             ],
             [
              0.5555555555555556,
              "#d8576b"
             ],
             [
              0.6666666666666666,
              "#ed7953"
             ],
             [
              0.7777777777777778,
              "#fb9f3a"
             ],
             [
              0.8888888888888888,
              "#fdca26"
             ],
             [
              1,
              "#f0f921"
             ]
            ],
            "type": "histogram2dcontour"
           }
          ],
          "mesh3d": [
           {
            "colorbar": {
             "outlinewidth": 0,
             "ticks": ""
            },
            "type": "mesh3d"
           }
          ],
          "parcoords": [
           {
            "line": {
             "colorbar": {
              "outlinewidth": 0,
              "ticks": ""
             }
            },
            "type": "parcoords"
           }
          ],
          "pie": [
           {
            "automargin": true,
            "type": "pie"
           }
          ],
          "scatter": [
           {
            "fillpattern": {
             "fillmode": "overlay",
             "size": 10,
             "solidity": 0.2
            },
            "type": "scatter"
           }
          ],
          "scatter3d": [
           {
            "line": {
             "colorbar": {
              "outlinewidth": 0,
              "ticks": ""
             }
            },
            "marker": {
             "colorbar": {
              "outlinewidth": 0,
              "ticks": ""
             }
            },
            "type": "scatter3d"
           }
          ],
          "scattercarpet": [
           {
            "marker": {
             "colorbar": {
              "outlinewidth": 0,
              "ticks": ""
             }
            },
            "type": "scattercarpet"
           }
          ],
          "scattergeo": [
           {
            "marker": {
             "colorbar": {
              "outlinewidth": 0,
              "ticks": ""
             }
            },
            "type": "scattergeo"
           }
          ],
          "scattergl": [
           {
            "marker": {
             "colorbar": {
              "outlinewidth": 0,
              "ticks": ""
             }
            },
            "type": "scattergl"
           }
          ],
          "scattermap": [
           {
            "marker": {
             "colorbar": {
              "outlinewidth": 0,
              "ticks": ""
             }
            },
            "type": "scattermap"
           }
          ],
          "scattermapbox": [
           {
            "marker": {
             "colorbar": {
              "outlinewidth": 0,
              "ticks": ""
             }
            },
            "type": "scattermapbox"
           }
          ],
          "scatterpolar": [
           {
            "marker": {
             "colorbar": {
              "outlinewidth": 0,
              "ticks": ""
             }
            },
            "type": "scatterpolar"
           }
          ],
          "scatterpolargl": [
           {
            "marker": {
             "colorbar": {
              "outlinewidth": 0,
              "ticks": ""
             }
            },
            "type": "scatterpolargl"
           }
          ],
          "scatterternary": [
           {
            "marker": {
             "colorbar": {
              "outlinewidth": 0,
              "ticks": ""
             }
            },
            "type": "scatterternary"
           }
          ],
          "surface": [
           {
            "colorbar": {
             "outlinewidth": 0,
             "ticks": ""
            },
            "colorscale": [
             [
              0,
              "#0d0887"
             ],
             [
              0.1111111111111111,
              "#46039f"
             ],
             [
              0.2222222222222222,
              "#7201a8"
             ],
             [
              0.3333333333333333,
              "#9c179e"
             ],
             [
              0.4444444444444444,
              "#bd3786"
             ],
             [
              0.5555555555555556,
              "#d8576b"
             ],
             [
              0.6666666666666666,
              "#ed7953"
             ],
             [
              0.7777777777777778,
              "#fb9f3a"
             ],
             [
              0.8888888888888888,
              "#fdca26"
             ],
             [
              1,
              "#f0f921"
             ]
            ],
            "type": "surface"
           }
          ],
          "table": [
           {
            "cells": {
             "fill": {
              "color": "#EBF0F8"
             },
             "line": {
              "color": "white"
             }
            },
            "header": {
             "fill": {
              "color": "#C8D4E3"
             },
             "line": {
              "color": "white"
             }
            },
            "type": "table"
           }
          ]
         },
         "layout": {
          "annotationdefaults": {
           "arrowcolor": "#2a3f5f",
           "arrowhead": 0,
           "arrowwidth": 1
          },
          "autotypenumbers": "strict",
          "coloraxis": {
           "colorbar": {
            "outlinewidth": 0,
            "ticks": ""
           }
          },
          "colorscale": {
           "diverging": [
            [
             0,
             "#8e0152"
            ],
            [
             0.1,
             "#c51b7d"
            ],
            [
             0.2,
             "#de77ae"
            ],
            [
             0.3,
             "#f1b6da"
            ],
            [
             0.4,
             "#fde0ef"
            ],
            [
             0.5,
             "#f7f7f7"
            ],
            [
             0.6,
             "#e6f5d0"
            ],
            [
             0.7,
             "#b8e186"
            ],
            [
             0.8,
             "#7fbc41"
            ],
            [
             0.9,
             "#4d9221"
            ],
            [
             1,
             "#276419"
            ]
           ],
           "sequential": [
            [
             0,
             "#0d0887"
            ],
            [
             0.1111111111111111,
             "#46039f"
            ],
            [
             0.2222222222222222,
             "#7201a8"
            ],
            [
             0.3333333333333333,
             "#9c179e"
            ],
            [
             0.4444444444444444,
             "#bd3786"
            ],
            [
             0.5555555555555556,
             "#d8576b"
            ],
            [
             0.6666666666666666,
             "#ed7953"
            ],
            [
             0.7777777777777778,
             "#fb9f3a"
            ],
            [
             0.8888888888888888,
             "#fdca26"
            ],
            [
             1,
             "#f0f921"
            ]
           ],
           "sequentialminus": [
            [
             0,
             "#0d0887"
            ],
            [
             0.1111111111111111,
             "#46039f"
            ],
            [
             0.2222222222222222,
             "#7201a8"
            ],
            [
             0.3333333333333333,
             "#9c179e"
            ],
            [
             0.4444444444444444,
             "#bd3786"
            ],
            [
             0.5555555555555556,
             "#d8576b"
            ],
            [
             0.6666666666666666,
             "#ed7953"
            ],
            [
             0.7777777777777778,
             "#fb9f3a"
            ],
            [
             0.8888888888888888,
             "#fdca26"
            ],
            [
             1,
             "#f0f921"
            ]
           ]
          },
          "colorway": [
           "#636efa",
           "#EF553B",
           "#00cc96",
           "#ab63fa",
           "#FFA15A",
           "#19d3f3",
           "#FF6692",
           "#B6E880",
           "#FF97FF",
           "#FECB52"
          ],
          "font": {
           "color": "#2a3f5f"
          },
          "geo": {
           "bgcolor": "white",
           "lakecolor": "white",
           "landcolor": "#E5ECF6",
           "showlakes": true,
           "showland": true,
           "subunitcolor": "white"
          },
          "hoverlabel": {
           "align": "left"
          },
          "hovermode": "closest",
          "mapbox": {
           "style": "light"
          },
          "paper_bgcolor": "white",
          "plot_bgcolor": "#E5ECF6",
          "polar": {
           "angularaxis": {
            "gridcolor": "white",
            "linecolor": "white",
            "ticks": ""
           },
           "bgcolor": "#E5ECF6",
           "radialaxis": {
            "gridcolor": "white",
            "linecolor": "white",
            "ticks": ""
           }
          },
          "scene": {
           "xaxis": {
            "backgroundcolor": "#E5ECF6",
            "gridcolor": "white",
            "gridwidth": 2,
            "linecolor": "white",
            "showbackground": true,
            "ticks": "",
            "zerolinecolor": "white"
           },
           "yaxis": {
            "backgroundcolor": "#E5ECF6",
            "gridcolor": "white",
            "gridwidth": 2,
            "linecolor": "white",
            "showbackground": true,
            "ticks": "",
            "zerolinecolor": "white"
           },
           "zaxis": {
            "backgroundcolor": "#E5ECF6",
            "gridcolor": "white",
            "gridwidth": 2,
            "linecolor": "white",
            "showbackground": true,
            "ticks": "",
            "zerolinecolor": "white"
           }
          },
          "shapedefaults": {
           "line": {
            "color": "#2a3f5f"
           }
          },
          "ternary": {
           "aaxis": {
            "gridcolor": "white",
            "linecolor": "white",
            "ticks": ""
           },
           "baxis": {
            "gridcolor": "white",
            "linecolor": "white",
            "ticks": ""
           },
           "bgcolor": "#E5ECF6",
           "caxis": {
            "gridcolor": "white",
            "linecolor": "white",
            "ticks": ""
           }
          },
          "title": {
           "x": 0.05
          },
          "xaxis": {
           "automargin": true,
           "gridcolor": "white",
           "linecolor": "white",
           "ticks": "",
           "title": {
            "standoff": 15
           },
           "zerolinecolor": "white",
           "zerolinewidth": 2
          },
          "yaxis": {
           "automargin": true,
           "gridcolor": "white",
           "linecolor": "white",
           "ticks": "",
           "title": {
            "standoff": 15
           },
           "zerolinecolor": "white",
           "zerolinewidth": 2
          }
         }
        },
        "title": {
         "text": "Synthetic dataset for Naive Bayes"
        },
        "width": 600,
        "xaxis": {
         "title": {
          "text": "X1"
         }
        },
        "yaxis": {
         "title": {
          "text": "X2"
         }
        }
       }
      }
     },
     "metadata": {},
     "output_type": "display_data"
    }
   ],
   "source": [
    "X,y = synthetic_dataset_nb(n_samples=500, noise_scale=0.7, random_state=1505)\n",
    "print(\"Correlation:\", np.corrcoef(X[:,0], X[:,1])[0,1])\n",
    "# Plotting the data\n",
    "draw_plot(X,y,\"Synthetic dataset for Naive Bayes\")\n"
   ]
  },
  {
   "cell_type": "markdown",
   "id": "e955afcb",
   "metadata": {},
   "source": [
    "### Logistic Regression"
   ]
  },
  {
   "cell_type": "code",
   "execution_count": 71,
   "id": "cc86cba7",
   "metadata": {},
   "outputs": [
    {
     "name": "stdout",
     "output_type": "stream",
     "text": [
      "Correlation: -0.4194113310085513\n"
     ]
    },
    {
     "data": {
      "application/vnd.plotly.v1+json": {
       "config": {
        "plotlyServerURL": "https://plot.ly"
       },
       "data": [
        {
         "marker": {
          "color": {
           "bdata": "AAAAAAAAAAAAAAAAAAAAAAAAAAAAAAAAAAAAAAAAAAAAAAAAAAAAAAAAAAAAAAAAAAAAAAAAAAAAAAAAAAAAAAAAAAAAAAAAAAAAAAAAAAAAAAAAAAAAAAAAAAAAAAAAAAAAAAAAAAAAAAAAAAAAAAAAAAAAAAAAAAAAAAABAQEBAQEBAQEBAQEBAQEBAQEBAQEBAQEBAQEBAQEBAQEBAQEBAQEBAQEBAQEBAQEBAQEBAQEBAQEBAQEBAQEBAQEBAQEBAQEBAQEBAQEBAQEBAQEBAQEBAQEBAQEBAQEBAQEBAQEBAQEBAQEBAQEBAQEBAQEBAQEBAQEBAQICAgICAgICAgICAgICAgICAgICAgICAgICAgICAgICAgICAgICAgICAgICAgICAgICAgICAgICAgICAgICAgICAgICAgICAgICAgICAgICAgICAgICAgICAgICAgICAgICAgICAgICAgICAgICAgICAgICAgICAgICAgICAwMDAwMDAwMDAwMDAwMDAwMDAwMDAwMDAwMDAwMDAwMDAwMDAwMDAwMDAwMDAwMDAwMDAwMDAwMDAwMDAwMDAwMDAwMDAwMDAwMDAwMDAwMDAwMDAwMDAwMDAwMDAwMDAwMDAwMDAwMDAwMDAwMDAwMDAwMDAwMDAwMDAwM=",
           "dtype": "i1"
          }
         },
         "mode": "markers",
         "type": "scatter",
         "x": {
          "bdata": "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",
          "dtype": "f8"
         },
         "y": {
          "bdata": "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",
          "dtype": "f8"
         }
        }
       ],
       "layout": {
        "height": 600,
        "showlegend": false,
        "template": {
         "data": {
          "bar": [
           {
            "error_x": {
             "color": "#2a3f5f"
            },
            "error_y": {
             "color": "#2a3f5f"
            },
            "marker": {
             "line": {
              "color": "#E5ECF6",
              "width": 0.5
             },
             "pattern": {
              "fillmode": "overlay",
              "size": 10,
              "solidity": 0.2
             }
            },
            "type": "bar"
           }
          ],
          "barpolar": [
           {
            "marker": {
             "line": {
              "color": "#E5ECF6",
              "width": 0.5
             },
             "pattern": {
              "fillmode": "overlay",
              "size": 10,
              "solidity": 0.2
             }
            },
            "type": "barpolar"
           }
          ],
          "carpet": [
           {
            "aaxis": {
             "endlinecolor": "#2a3f5f",
             "gridcolor": "white",
             "linecolor": "white",
             "minorgridcolor": "white",
             "startlinecolor": "#2a3f5f"
            },
            "baxis": {
             "endlinecolor": "#2a3f5f",
             "gridcolor": "white",
             "linecolor": "white",
             "minorgridcolor": "white",
             "startlinecolor": "#2a3f5f"
            },
            "type": "carpet"
           }
          ],
          "choropleth": [
           {
            "colorbar": {
             "outlinewidth": 0,
             "ticks": ""
            },
            "type": "choropleth"
           }
          ],
          "contour": [
           {
            "colorbar": {
             "outlinewidth": 0,
             "ticks": ""
            },
            "colorscale": [
             [
              0,
              "#0d0887"
             ],
             [
              0.1111111111111111,
              "#46039f"
             ],
             [
              0.2222222222222222,
              "#7201a8"
             ],
             [
              0.3333333333333333,
              "#9c179e"
             ],
             [
              0.4444444444444444,
              "#bd3786"
             ],
             [
              0.5555555555555556,
              "#d8576b"
             ],
             [
              0.6666666666666666,
              "#ed7953"
             ],
             [
              0.7777777777777778,
              "#fb9f3a"
             ],
             [
              0.8888888888888888,
              "#fdca26"
             ],
             [
              1,
              "#f0f921"
             ]
            ],
            "type": "contour"
           }
          ],
          "contourcarpet": [
           {
            "colorbar": {
             "outlinewidth": 0,
             "ticks": ""
            },
            "type": "contourcarpet"
           }
          ],
          "heatmap": [
           {
            "colorbar": {
             "outlinewidth": 0,
             "ticks": ""
            },
            "colorscale": [
             [
              0,
              "#0d0887"
             ],
             [
              0.1111111111111111,
              "#46039f"
             ],
             [
              0.2222222222222222,
              "#7201a8"
             ],
             [
              0.3333333333333333,
              "#9c179e"
             ],
             [
              0.4444444444444444,
              "#bd3786"
             ],
             [
              0.5555555555555556,
              "#d8576b"
             ],
             [
              0.6666666666666666,
              "#ed7953"
             ],
             [
              0.7777777777777778,
              "#fb9f3a"
             ],
             [
              0.8888888888888888,
              "#fdca26"
             ],
             [
              1,
              "#f0f921"
             ]
            ],
            "type": "heatmap"
           }
          ],
          "histogram": [
           {
            "marker": {
             "pattern": {
              "fillmode": "overlay",
              "size": 10,
              "solidity": 0.2
             }
            },
            "type": "histogram"
           }
          ],
          "histogram2d": [
           {
            "colorbar": {
             "outlinewidth": 0,
             "ticks": ""
            },
            "colorscale": [
             [
              0,
              "#0d0887"
             ],
             [
              0.1111111111111111,
              "#46039f"
             ],
             [
              0.2222222222222222,
              "#7201a8"
             ],
             [
              0.3333333333333333,
              "#9c179e"
             ],
             [
              0.4444444444444444,
              "#bd3786"
             ],
             [
              0.5555555555555556,
              "#d8576b"
             ],
             [
              0.6666666666666666,
              "#ed7953"
             ],
             [
              0.7777777777777778,
              "#fb9f3a"
             ],
             [
              0.8888888888888888,
              "#fdca26"
             ],
             [
              1,
              "#f0f921"
             ]
            ],
            "type": "histogram2d"
           }
          ],
          "histogram2dcontour": [
           {
            "colorbar": {
             "outlinewidth": 0,
             "ticks": ""
            },
            "colorscale": [
             [
              0,
              "#0d0887"
             ],
             [
              0.1111111111111111,
              "#46039f"
             ],
             [
              0.2222222222222222,
              "#7201a8"
             ],
             [
              0.3333333333333333,
              "#9c179e"
             ],
             [
              0.4444444444444444,
              "#bd3786"
             ],
             [
              0.5555555555555556,
              "#d8576b"
             ],
             [
              0.6666666666666666,
              "#ed7953"
             ],
             [
              0.7777777777777778,
              "#fb9f3a"
             ],
             [
              0.8888888888888888,
              "#fdca26"
             ],
             [
              1,
              "#f0f921"
             ]
            ],
            "type": "histogram2dcontour"
           }
          ],
          "mesh3d": [
           {
            "colorbar": {
             "outlinewidth": 0,
             "ticks": ""
            },
            "type": "mesh3d"
           }
          ],
          "parcoords": [
           {
            "line": {
             "colorbar": {
              "outlinewidth": 0,
              "ticks": ""
             }
            },
            "type": "parcoords"
           }
          ],
          "pie": [
           {
            "automargin": true,
            "type": "pie"
           }
          ],
          "scatter": [
           {
            "fillpattern": {
             "fillmode": "overlay",
             "size": 10,
             "solidity": 0.2
            },
            "type": "scatter"
           }
          ],
          "scatter3d": [
           {
            "line": {
             "colorbar": {
              "outlinewidth": 0,
              "ticks": ""
             }
            },
            "marker": {
             "colorbar": {
              "outlinewidth": 0,
              "ticks": ""
             }
            },
            "type": "scatter3d"
           }
          ],
          "scattercarpet": [
           {
            "marker": {
             "colorbar": {
              "outlinewidth": 0,
              "ticks": ""
             }
            },
            "type": "scattercarpet"
           }
          ],
          "scattergeo": [
           {
            "marker": {
             "colorbar": {
              "outlinewidth": 0,
              "ticks": ""
             }
            },
            "type": "scattergeo"
           }
          ],
          "scattergl": [
           {
            "marker": {
             "colorbar": {
              "outlinewidth": 0,
              "ticks": ""
             }
            },
            "type": "scattergl"
           }
          ],
          "scattermap": [
           {
            "marker": {
             "colorbar": {
              "outlinewidth": 0,
              "ticks": ""
             }
            },
            "type": "scattermap"
           }
          ],
          "scattermapbox": [
           {
            "marker": {
             "colorbar": {
              "outlinewidth": 0,
              "ticks": ""
             }
            },
            "type": "scattermapbox"
           }
          ],
          "scatterpolar": [
           {
            "marker": {
             "colorbar": {
              "outlinewidth": 0,
              "ticks": ""
             }
            },
            "type": "scatterpolar"
           }
          ],
          "scatterpolargl": [
           {
            "marker": {
             "colorbar": {
              "outlinewidth": 0,
              "ticks": ""
             }
            },
            "type": "scatterpolargl"
           }
          ],
          "scatterternary": [
           {
            "marker": {
             "colorbar": {
              "outlinewidth": 0,
              "ticks": ""
             }
            },
            "type": "scatterternary"
           }
          ],
          "surface": [
           {
            "colorbar": {
             "outlinewidth": 0,
             "ticks": ""
            },
            "colorscale": [
             [
              0,
              "#0d0887"
             ],
             [
              0.1111111111111111,
              "#46039f"
             ],
             [
              0.2222222222222222,
              "#7201a8"
             ],
             [
              0.3333333333333333,
              "#9c179e"
             ],
             [
              0.4444444444444444,
              "#bd3786"
             ],
             [
              0.5555555555555556,
              "#d8576b"
             ],
             [
              0.6666666666666666,
              "#ed7953"
             ],
             [
              0.7777777777777778,
              "#fb9f3a"
             ],
             [
              0.8888888888888888,
              "#fdca26"
             ],
             [
              1,
              "#f0f921"
             ]
            ],
            "type": "surface"
           }
          ],
          "table": [
           {
            "cells": {
             "fill": {
              "color": "#EBF0F8"
             },
             "line": {
              "color": "white"
             }
            },
            "header": {
             "fill": {
              "color": "#C8D4E3"
             },
             "line": {
              "color": "white"
             }
            },
            "type": "table"
           }
          ]
         },
         "layout": {
          "annotationdefaults": {
           "arrowcolor": "#2a3f5f",
           "arrowhead": 0,
           "arrowwidth": 1
          },
          "autotypenumbers": "strict",
          "coloraxis": {
           "colorbar": {
            "outlinewidth": 0,
            "ticks": ""
           }
          },
          "colorscale": {
           "diverging": [
            [
             0,
             "#8e0152"
            ],
            [
             0.1,
             "#c51b7d"
            ],
            [
             0.2,
             "#de77ae"
            ],
            [
             0.3,
             "#f1b6da"
            ],
            [
             0.4,
             "#fde0ef"
            ],
            [
             0.5,
             "#f7f7f7"
            ],
            [
             0.6,
             "#e6f5d0"
            ],
            [
             0.7,
             "#b8e186"
            ],
            [
             0.8,
             "#7fbc41"
            ],
            [
             0.9,
             "#4d9221"
            ],
            [
             1,
             "#276419"
            ]
           ],
           "sequential": [
            [
             0,
             "#0d0887"
            ],
            [
             0.1111111111111111,
             "#46039f"
            ],
            [
             0.2222222222222222,
             "#7201a8"
            ],
            [
             0.3333333333333333,
             "#9c179e"
            ],
            [
             0.4444444444444444,
             "#bd3786"
            ],
            [
             0.5555555555555556,
             "#d8576b"
            ],
            [
             0.6666666666666666,
             "#ed7953"
            ],
            [
             0.7777777777777778,
             "#fb9f3a"
            ],
            [
             0.8888888888888888,
             "#fdca26"
            ],
            [
             1,
             "#f0f921"
            ]
           ],
           "sequentialminus": [
            [
             0,
             "#0d0887"
            ],
            [
             0.1111111111111111,
             "#46039f"
            ],
            [
             0.2222222222222222,
             "#7201a8"
            ],
            [
             0.3333333333333333,
             "#9c179e"
            ],
            [
             0.4444444444444444,
             "#bd3786"
            ],
            [
             0.5555555555555556,
             "#d8576b"
            ],
            [
             0.6666666666666666,
             "#ed7953"
            ],
            [
             0.7777777777777778,
             "#fb9f3a"
            ],
            [
             0.8888888888888888,
             "#fdca26"
            ],
            [
             1,
             "#f0f921"
            ]
           ]
          },
          "colorway": [
           "#636efa",
           "#EF553B",
           "#00cc96",
           "#ab63fa",
           "#FFA15A",
           "#19d3f3",
           "#FF6692",
           "#B6E880",
           "#FF97FF",
           "#FECB52"
          ],
          "font": {
           "color": "#2a3f5f"
          },
          "geo": {
           "bgcolor": "white",
           "lakecolor": "white",
           "landcolor": "#E5ECF6",
           "showlakes": true,
           "showland": true,
           "subunitcolor": "white"
          },
          "hoverlabel": {
           "align": "left"
          },
          "hovermode": "closest",
          "mapbox": {
           "style": "light"
          },
          "paper_bgcolor": "white",
          "plot_bgcolor": "#E5ECF6",
          "polar": {
           "angularaxis": {
            "gridcolor": "white",
            "linecolor": "white",
            "ticks": ""
           },
           "bgcolor": "#E5ECF6",
           "radialaxis": {
            "gridcolor": "white",
            "linecolor": "white",
            "ticks": ""
           }
          },
          "scene": {
           "xaxis": {
            "backgroundcolor": "#E5ECF6",
            "gridcolor": "white",
            "gridwidth": 2,
            "linecolor": "white",
            "showbackground": true,
            "ticks": "",
            "zerolinecolor": "white"
           },
           "yaxis": {
            "backgroundcolor": "#E5ECF6",
            "gridcolor": "white",
            "gridwidth": 2,
            "linecolor": "white",
            "showbackground": true,
            "ticks": "",
            "zerolinecolor": "white"
           },
           "zaxis": {
            "backgroundcolor": "#E5ECF6",
            "gridcolor": "white",
            "gridwidth": 2,
            "linecolor": "white",
            "showbackground": true,
            "ticks": "",
            "zerolinecolor": "white"
           }
          },
          "shapedefaults": {
           "line": {
            "color": "#2a3f5f"
           }
          },
          "ternary": {
           "aaxis": {
            "gridcolor": "white",
            "linecolor": "white",
            "ticks": ""
           },
           "baxis": {
            "gridcolor": "white",
            "linecolor": "white",
            "ticks": ""
           },
           "bgcolor": "#E5ECF6",
           "caxis": {
            "gridcolor": "white",
            "linecolor": "white",
            "ticks": ""
           }
          },
          "title": {
           "x": 0.05
          },
          "xaxis": {
           "automargin": true,
           "gridcolor": "white",
           "linecolor": "white",
           "ticks": "",
           "title": {
            "standoff": 15
           },
           "zerolinecolor": "white",
           "zerolinewidth": 2
          },
          "yaxis": {
           "automargin": true,
           "gridcolor": "white",
           "linecolor": "white",
           "ticks": "",
           "title": {
            "standoff": 15
           },
           "zerolinecolor": "white",
           "zerolinewidth": 2
          }
         }
        },
        "title": {
         "text": "Synthetic dataset for Logistic Regression"
        },
        "width": 600,
        "xaxis": {
         "title": {
          "text": "X1"
         }
        },
        "yaxis": {
         "title": {
          "text": "X2"
         }
        }
       }
      }
     },
     "metadata": {},
     "output_type": "display_data"
    }
   ],
   "source": [
    "X,y = synthetic_dataset_lr(n_samples=500, correlation=-0.4, noise_scale=0.7)\n",
    "correlation = np.corrcoef(X[:,0], X[:,1])[0,1]\n",
    "print(\"Correlation:\", correlation)\n",
    "draw_plot(X,y,\"Synthetic dataset for Logistic Regression\")\n"
   ]
  },
  {
   "cell_type": "markdown",
   "id": "9093cbf1",
   "metadata": {},
   "source": [
    "### Support Vector Machine"
   ]
  },
  {
   "cell_type": "code",
   "execution_count": 73,
   "id": "3b67ad4c",
   "metadata": {},
   "outputs": [
    {
     "name": "stdout",
     "output_type": "stream",
     "text": [
      "Correlation: 0.8016553008473553\n"
     ]
    },
    {
     "data": {
      "application/vnd.plotly.v1+json": {
       "config": {
        "plotlyServerURL": "https://plot.ly"
       },
       "data": [
        {
         "marker": {
          "color": {
           "bdata": "AAAAAAAAAAAAAAAAAAAAAAAAAAAAAAAAAAAAAAAAAAAAAAAAAAAAAAAAAAAAAAAAAAAAAAAAAAAAAAAAAAAAAAAAAAAAAAAAAAAAAAAAAAAAAAAAAAAAAAAAAAAAAAAAAAAAAAAAAAAAAAAAAAAAAAAAAAAAAAAAAAAAAAABAQEBAQEBAQEBAQEBAQEBAQEBAQEBAQEBAQEBAQEBAQEBAQEBAQEBAQEBAQEBAQEBAQEBAQEBAQEBAQEBAQEBAQEBAQEBAQEBAQEBAQEBAQEBAQEBAQEBAQEBAQEBAQEBAQEBAQEBAQEBAQEBAQEBAQEBAQEBAQEBAQEBAQICAgICAgICAgICAgICAgICAgICAgICAgICAgICAgICAgICAgICAgICAgICAgICAgICAgICAgICAgICAgICAgICAgICAgICAgICAgICAgICAgICAgICAgICAgICAgICAgICAgICAgICAgICAgICAgICAgICAgICAgICAgICAwMDAwMDAwMDAwMDAwMDAwMDAwMDAwMDAwMDAwMDAwMDAwMDAwMDAwMDAwMDAwMDAwMDAwMDAwMDAwMDAwMDAwMDAwMDAwMDAwMDAwMDAwMDAwMDAwMDAwMDAwMDAwMDAwMDAwMDAwMDAwMDAwMDAwMDAwMDAwMDAwMDAwM=",
           "dtype": "i1"
          }
         },
         "mode": "markers",
         "type": "scatter",
         "x": {
          "bdata": "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",
          "dtype": "f8"
         },
         "y": {
          "bdata": "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",
          "dtype": "f8"
         }
        }
       ],
       "layout": {
        "height": 600,
        "showlegend": false,
        "template": {
         "data": {
          "bar": [
           {
            "error_x": {
             "color": "#2a3f5f"
            },
            "error_y": {
             "color": "#2a3f5f"
            },
            "marker": {
             "line": {
              "color": "#E5ECF6",
              "width": 0.5
             },
             "pattern": {
              "fillmode": "overlay",
              "size": 10,
              "solidity": 0.2
             }
            },
            "type": "bar"
           }
          ],
          "barpolar": [
           {
            "marker": {
             "line": {
              "color": "#E5ECF6",
              "width": 0.5
             },
             "pattern": {
              "fillmode": "overlay",
              "size": 10,
              "solidity": 0.2
             }
            },
            "type": "barpolar"
           }
          ],
          "carpet": [
           {
            "aaxis": {
             "endlinecolor": "#2a3f5f",
             "gridcolor": "white",
             "linecolor": "white",
             "minorgridcolor": "white",
             "startlinecolor": "#2a3f5f"
            },
            "baxis": {
             "endlinecolor": "#2a3f5f",
             "gridcolor": "white",
             "linecolor": "white",
             "minorgridcolor": "white",
             "startlinecolor": "#2a3f5f"
            },
            "type": "carpet"
           }
          ],
          "choropleth": [
           {
            "colorbar": {
             "outlinewidth": 0,
             "ticks": ""
            },
            "type": "choropleth"
           }
          ],
          "contour": [
           {
            "colorbar": {
             "outlinewidth": 0,
             "ticks": ""
            },
            "colorscale": [
             [
              0,
              "#0d0887"
             ],
             [
              0.1111111111111111,
              "#46039f"
             ],
             [
              0.2222222222222222,
              "#7201a8"
             ],
             [
              0.3333333333333333,
              "#9c179e"
             ],
             [
              0.4444444444444444,
              "#bd3786"
             ],
             [
              0.5555555555555556,
              "#d8576b"
             ],
             [
              0.6666666666666666,
              "#ed7953"
             ],
             [
              0.7777777777777778,
              "#fb9f3a"
             ],
             [
              0.8888888888888888,
              "#fdca26"
             ],
             [
              1,
              "#f0f921"
             ]
            ],
            "type": "contour"
           }
          ],
          "contourcarpet": [
           {
            "colorbar": {
             "outlinewidth": 0,
             "ticks": ""
            },
            "type": "contourcarpet"
           }
          ],
          "heatmap": [
           {
            "colorbar": {
             "outlinewidth": 0,
             "ticks": ""
            },
            "colorscale": [
             [
              0,
              "#0d0887"
             ],
             [
              0.1111111111111111,
              "#46039f"
             ],
             [
              0.2222222222222222,
              "#7201a8"
             ],
             [
              0.3333333333333333,
              "#9c179e"
             ],
             [
              0.4444444444444444,
              "#bd3786"
             ],
             [
              0.5555555555555556,
              "#d8576b"
             ],
             [
              0.6666666666666666,
              "#ed7953"
             ],
             [
              0.7777777777777778,
              "#fb9f3a"
             ],
             [
              0.8888888888888888,
              "#fdca26"
             ],
             [
              1,
              "#f0f921"
             ]
            ],
            "type": "heatmap"
           }
          ],
          "histogram": [
           {
            "marker": {
             "pattern": {
              "fillmode": "overlay",
              "size": 10,
              "solidity": 0.2
             }
            },
            "type": "histogram"
           }
          ],
          "histogram2d": [
           {
            "colorbar": {
             "outlinewidth": 0,
             "ticks": ""
            },
            "colorscale": [
             [
              0,
              "#0d0887"
             ],
             [
              0.1111111111111111,
              "#46039f"
             ],
             [
              0.2222222222222222,
              "#7201a8"
             ],
             [
              0.3333333333333333,
              "#9c179e"
             ],
             [
              0.4444444444444444,
              "#bd3786"
             ],
             [
              0.5555555555555556,
              "#d8576b"
             ],
             [
              0.6666666666666666,
              "#ed7953"
             ],
             [
              0.7777777777777778,
              "#fb9f3a"
             ],
             [
              0.8888888888888888,
              "#fdca26"
             ],
             [
              1,
              "#f0f921"
             ]
            ],
            "type": "histogram2d"
           }
          ],
          "histogram2dcontour": [
           {
            "colorbar": {
             "outlinewidth": 0,
             "ticks": ""
            },
            "colorscale": [
             [
              0,
              "#0d0887"
             ],
             [
              0.1111111111111111,
              "#46039f"
             ],
             [
              0.2222222222222222,
              "#7201a8"
             ],
             [
              0.3333333333333333,
              "#9c179e"
             ],
             [
              0.4444444444444444,
              "#bd3786"
             ],
             [
              0.5555555555555556,
              "#d8576b"
             ],
             [
              0.6666666666666666,
              "#ed7953"
             ],
             [
              0.7777777777777778,
              "#fb9f3a"
             ],
             [
              0.8888888888888888,
              "#fdca26"
             ],
             [
              1,
              "#f0f921"
             ]
            ],
            "type": "histogram2dcontour"
           }
          ],
          "mesh3d": [
           {
            "colorbar": {
             "outlinewidth": 0,
             "ticks": ""
            },
            "type": "mesh3d"
           }
          ],
          "parcoords": [
           {
            "line": {
             "colorbar": {
              "outlinewidth": 0,
              "ticks": ""
             }
            },
            "type": "parcoords"
           }
          ],
          "pie": [
           {
            "automargin": true,
            "type": "pie"
           }
          ],
          "scatter": [
           {
            "fillpattern": {
             "fillmode": "overlay",
             "size": 10,
             "solidity": 0.2
            },
            "type": "scatter"
           }
          ],
          "scatter3d": [
           {
            "line": {
             "colorbar": {
              "outlinewidth": 0,
              "ticks": ""
             }
            },
            "marker": {
             "colorbar": {
              "outlinewidth": 0,
              "ticks": ""
             }
            },
            "type": "scatter3d"
           }
          ],
          "scattercarpet": [
           {
            "marker": {
             "colorbar": {
              "outlinewidth": 0,
              "ticks": ""
             }
            },
            "type": "scattercarpet"
           }
          ],
          "scattergeo": [
           {
            "marker": {
             "colorbar": {
              "outlinewidth": 0,
              "ticks": ""
             }
            },
            "type": "scattergeo"
           }
          ],
          "scattergl": [
           {
            "marker": {
             "colorbar": {
              "outlinewidth": 0,
              "ticks": ""
             }
            },
            "type": "scattergl"
           }
          ],
          "scattermap": [
           {
            "marker": {
             "colorbar": {
              "outlinewidth": 0,
              "ticks": ""
             }
            },
            "type": "scattermap"
           }
          ],
          "scattermapbox": [
           {
            "marker": {
             "colorbar": {
              "outlinewidth": 0,
              "ticks": ""
             }
            },
            "type": "scattermapbox"
           }
          ],
          "scatterpolar": [
           {
            "marker": {
             "colorbar": {
              "outlinewidth": 0,
              "ticks": ""
             }
            },
            "type": "scatterpolar"
           }
          ],
          "scatterpolargl": [
           {
            "marker": {
             "colorbar": {
              "outlinewidth": 0,
              "ticks": ""
             }
            },
            "type": "scatterpolargl"
           }
          ],
          "scatterternary": [
           {
            "marker": {
             "colorbar": {
              "outlinewidth": 0,
              "ticks": ""
             }
            },
            "type": "scatterternary"
           }
          ],
          "surface": [
           {
            "colorbar": {
             "outlinewidth": 0,
             "ticks": ""
            },
            "colorscale": [
             [
              0,
              "#0d0887"
             ],
             [
              0.1111111111111111,
              "#46039f"
             ],
             [
              0.2222222222222222,
              "#7201a8"
             ],
             [
              0.3333333333333333,
              "#9c179e"
             ],
             [
              0.4444444444444444,
              "#bd3786"
             ],
             [
              0.5555555555555556,
              "#d8576b"
             ],
             [
              0.6666666666666666,
              "#ed7953"
             ],
             [
              0.7777777777777778,
              "#fb9f3a"
             ],
             [
              0.8888888888888888,
              "#fdca26"
             ],
             [
              1,
              "#f0f921"
             ]
            ],
            "type": "surface"
           }
          ],
          "table": [
           {
            "cells": {
             "fill": {
              "color": "#EBF0F8"
             },
             "line": {
              "color": "white"
             }
            },
            "header": {
             "fill": {
              "color": "#C8D4E3"
             },
             "line": {
              "color": "white"
             }
            },
            "type": "table"
           }
          ]
         },
         "layout": {
          "annotationdefaults": {
           "arrowcolor": "#2a3f5f",
           "arrowhead": 0,
           "arrowwidth": 1
          },
          "autotypenumbers": "strict",
          "coloraxis": {
           "colorbar": {
            "outlinewidth": 0,
            "ticks": ""
           }
          },
          "colorscale": {
           "diverging": [
            [
             0,
             "#8e0152"
            ],
            [
             0.1,
             "#c51b7d"
            ],
            [
             0.2,
             "#de77ae"
            ],
            [
             0.3,
             "#f1b6da"
            ],
            [
             0.4,
             "#fde0ef"
            ],
            [
             0.5,
             "#f7f7f7"
            ],
            [
             0.6,
             "#e6f5d0"
            ],
            [
             0.7,
             "#b8e186"
            ],
            [
             0.8,
             "#7fbc41"
            ],
            [
             0.9,
             "#4d9221"
            ],
            [
             1,
             "#276419"
            ]
           ],
           "sequential": [
            [
             0,
             "#0d0887"
            ],
            [
             0.1111111111111111,
             "#46039f"
            ],
            [
             0.2222222222222222,
             "#7201a8"
            ],
            [
             0.3333333333333333,
             "#9c179e"
            ],
            [
             0.4444444444444444,
             "#bd3786"
            ],
            [
             0.5555555555555556,
             "#d8576b"
            ],
            [
             0.6666666666666666,
             "#ed7953"
            ],
            [
             0.7777777777777778,
             "#fb9f3a"
            ],
            [
             0.8888888888888888,
             "#fdca26"
            ],
            [
             1,
             "#f0f921"
            ]
           ],
           "sequentialminus": [
            [
             0,
             "#0d0887"
            ],
            [
             0.1111111111111111,
             "#46039f"
            ],
            [
             0.2222222222222222,
             "#7201a8"
            ],
            [
             0.3333333333333333,
             "#9c179e"
            ],
            [
             0.4444444444444444,
             "#bd3786"
            ],
            [
             0.5555555555555556,
             "#d8576b"
            ],
            [
             0.6666666666666666,
             "#ed7953"
            ],
            [
             0.7777777777777778,
             "#fb9f3a"
            ],
            [
             0.8888888888888888,
             "#fdca26"
            ],
            [
             1,
             "#f0f921"
            ]
           ]
          },
          "colorway": [
           "#636efa",
           "#EF553B",
           "#00cc96",
           "#ab63fa",
           "#FFA15A",
           "#19d3f3",
           "#FF6692",
           "#B6E880",
           "#FF97FF",
           "#FECB52"
          ],
          "font": {
           "color": "#2a3f5f"
          },
          "geo": {
           "bgcolor": "white",
           "lakecolor": "white",
           "landcolor": "#E5ECF6",
           "showlakes": true,
           "showland": true,
           "subunitcolor": "white"
          },
          "hoverlabel": {
           "align": "left"
          },
          "hovermode": "closest",
          "mapbox": {
           "style": "light"
          },
          "paper_bgcolor": "white",
          "plot_bgcolor": "#E5ECF6",
          "polar": {
           "angularaxis": {
            "gridcolor": "white",
            "linecolor": "white",
            "ticks": ""
           },
           "bgcolor": "#E5ECF6",
           "radialaxis": {
            "gridcolor": "white",
            "linecolor": "white",
            "ticks": ""
           }
          },
          "scene": {
           "xaxis": {
            "backgroundcolor": "#E5ECF6",
            "gridcolor": "white",
            "gridwidth": 2,
            "linecolor": "white",
            "showbackground": true,
            "ticks": "",
            "zerolinecolor": "white"
           },
           "yaxis": {
            "backgroundcolor": "#E5ECF6",
            "gridcolor": "white",
            "gridwidth": 2,
            "linecolor": "white",
            "showbackground": true,
            "ticks": "",
            "zerolinecolor": "white"
           },
           "zaxis": {
            "backgroundcolor": "#E5ECF6",
            "gridcolor": "white",
            "gridwidth": 2,
            "linecolor": "white",
            "showbackground": true,
            "ticks": "",
            "zerolinecolor": "white"
           }
          },
          "shapedefaults": {
           "line": {
            "color": "#2a3f5f"
           }
          },
          "ternary": {
           "aaxis": {
            "gridcolor": "white",
            "linecolor": "white",
            "ticks": ""
           },
           "baxis": {
            "gridcolor": "white",
            "linecolor": "white",
            "ticks": ""
           },
           "bgcolor": "#E5ECF6",
           "caxis": {
            "gridcolor": "white",
            "linecolor": "white",
            "ticks": ""
           }
          },
          "title": {
           "x": 0.05
          },
          "xaxis": {
           "automargin": true,
           "gridcolor": "white",
           "linecolor": "white",
           "ticks": "",
           "title": {
            "standoff": 15
           },
           "zerolinecolor": "white",
           "zerolinewidth": 2
          },
          "yaxis": {
           "automargin": true,
           "gridcolor": "white",
           "linecolor": "white",
           "ticks": "",
           "title": {
            "standoff": 15
           },
           "zerolinecolor": "white",
           "zerolinewidth": 2
          }
         }
        },
        "title": {
         "text": "Synthetic dataset for SVM (Linear Kernel)"
        },
        "width": 600,
        "xaxis": {
         "title": {
          "text": "X1"
         }
        },
        "yaxis": {
         "title": {
          "text": "X2"
         }
        }
       }
      }
     },
     "metadata": {},
     "output_type": "display_data"
    }
   ],
   "source": [
    "X, y = synthetic_dataset_svm(n_samples=500, correlation=0.8)\n",
    "correlation = np.corrcoef(X[:,0], X[:,1])[0,1]\n",
    "print(\"Correlation:\", correlation)\n",
    "draw_plot(X,y,\"Synthetic dataset for SVM (Linear Kernel)\")"
   ]
  },
  {
   "cell_type": "markdown",
   "id": "8e3bd4a8",
   "metadata": {},
   "source": [
    "### Decision Tree"
   ]
  },
  {
   "cell_type": "code",
   "execution_count": 76,
   "id": "53ccee0d",
   "metadata": {},
   "outputs": [
    {
     "name": "stdout",
     "output_type": "stream",
     "text": [
      "Correlation: 0.5050440824524273\n"
     ]
    },
    {
     "data": {
      "application/vnd.plotly.v1+json": {
       "config": {
        "plotlyServerURL": "https://plot.ly"
       },
       "data": [
        {
         "marker": {
          "color": {
           "bdata": "AAAAAAAAAAAAAAAAAAAAAAAAAAAAAAAAAAAAAAAAAAAAAAAAAAAAAAAAAAAAAAAAAAAAAAAAAAAAAAAAAAAAAAAAAAAAAAAAAAAAAAAAAAAAAAAAAAAAAAAAAAAAAAAAAAAAAAAAAAAAAAAAAAAAAAAAAAAAAAAAAAAAAAABAQEBAQEBAQEBAQEBAQEBAQEBAQEBAQEBAQEBAQEBAQEBAQEBAQEBAQEBAQEBAQEBAQEBAQEBAQEBAQEBAQEBAQEBAQEBAQEBAQEBAQEBAQEBAQEBAQEBAQEBAQEBAQEBAQEBAQEBAQEBAQEBAQEBAQEBAQEBAQEBAQEBAQICAgICAgICAgICAgICAgICAgICAgICAgICAgICAgICAgICAgICAgICAgICAgICAgICAgICAgICAgICAgICAgICAgICAgICAgICAgICAgICAgICAgICAgICAgICAgICAgICAgICAgICAgICAgICAgICAgICAgICAgICAgICAwMDAwMDAwMDAwMDAwMDAwMDAwMDAwMDAwMDAwMDAwMDAwMDAwMDAwMDAwMDAwMDAwMDAwMDAwMDAwMDAwMDAwMDAwMDAwMDAwMDAwMDAwMDAwMDAwMDAwMDAwMDAwMDAwMDAwMDAwMDAwMDAwMDAwMDAwMDAwMDAwMDAwM=",
           "dtype": "i1"
          }
         },
         "mode": "markers",
         "type": "scatter",
         "x": {
          "bdata": "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",
          "dtype": "f8"
         },
         "y": {
          "bdata": "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",
          "dtype": "f8"
         }
        }
       ],
       "layout": {
        "height": 600,
        "showlegend": false,
        "template": {
         "data": {
          "bar": [
           {
            "error_x": {
             "color": "#2a3f5f"
            },
            "error_y": {
             "color": "#2a3f5f"
            },
            "marker": {
             "line": {
              "color": "#E5ECF6",
              "width": 0.5
             },
             "pattern": {
              "fillmode": "overlay",
              "size": 10,
              "solidity": 0.2
             }
            },
            "type": "bar"
           }
          ],
          "barpolar": [
           {
            "marker": {
             "line": {
              "color": "#E5ECF6",
              "width": 0.5
             },
             "pattern": {
              "fillmode": "overlay",
              "size": 10,
              "solidity": 0.2
             }
            },
            "type": "barpolar"
           }
          ],
          "carpet": [
           {
            "aaxis": {
             "endlinecolor": "#2a3f5f",
             "gridcolor": "white",
             "linecolor": "white",
             "minorgridcolor": "white",
             "startlinecolor": "#2a3f5f"
            },
            "baxis": {
             "endlinecolor": "#2a3f5f",
             "gridcolor": "white",
             "linecolor": "white",
             "minorgridcolor": "white",
             "startlinecolor": "#2a3f5f"
            },
            "type": "carpet"
           }
          ],
          "choropleth": [
           {
            "colorbar": {
             "outlinewidth": 0,
             "ticks": ""
            },
            "type": "choropleth"
           }
          ],
          "contour": [
           {
            "colorbar": {
             "outlinewidth": 0,
             "ticks": ""
            },
            "colorscale": [
             [
              0,
              "#0d0887"
             ],
             [
              0.1111111111111111,
              "#46039f"
             ],
             [
              0.2222222222222222,
              "#7201a8"
             ],
             [
              0.3333333333333333,
              "#9c179e"
             ],
             [
              0.4444444444444444,
              "#bd3786"
             ],
             [
              0.5555555555555556,
              "#d8576b"
             ],
             [
              0.6666666666666666,
              "#ed7953"
             ],
             [
              0.7777777777777778,
              "#fb9f3a"
             ],
             [
              0.8888888888888888,
              "#fdca26"
             ],
             [
              1,
              "#f0f921"
             ]
            ],
            "type": "contour"
           }
          ],
          "contourcarpet": [
           {
            "colorbar": {
             "outlinewidth": 0,
             "ticks": ""
            },
            "type": "contourcarpet"
           }
          ],
          "heatmap": [
           {
            "colorbar": {
             "outlinewidth": 0,
             "ticks": ""
            },
            "colorscale": [
             [
              0,
              "#0d0887"
             ],
             [
              0.1111111111111111,
              "#46039f"
             ],
             [
              0.2222222222222222,
              "#7201a8"
             ],
             [
              0.3333333333333333,
              "#9c179e"
             ],
             [
              0.4444444444444444,
              "#bd3786"
             ],
             [
              0.5555555555555556,
              "#d8576b"
             ],
             [
              0.6666666666666666,
              "#ed7953"
             ],
             [
              0.7777777777777778,
              "#fb9f3a"
             ],
             [
              0.8888888888888888,
              "#fdca26"
             ],
             [
              1,
              "#f0f921"
             ]
            ],
            "type": "heatmap"
           }
          ],
          "histogram": [
           {
            "marker": {
             "pattern": {
              "fillmode": "overlay",
              "size": 10,
              "solidity": 0.2
             }
            },
            "type": "histogram"
           }
          ],
          "histogram2d": [
           {
            "colorbar": {
             "outlinewidth": 0,
             "ticks": ""
            },
            "colorscale": [
             [
              0,
              "#0d0887"
             ],
             [
              0.1111111111111111,
              "#46039f"
             ],
             [
              0.2222222222222222,
              "#7201a8"
             ],
             [
              0.3333333333333333,
              "#9c179e"
             ],
             [
              0.4444444444444444,
              "#bd3786"
             ],
             [
              0.5555555555555556,
              "#d8576b"
             ],
             [
              0.6666666666666666,
              "#ed7953"
             ],
             [
              0.7777777777777778,
              "#fb9f3a"
             ],
             [
              0.8888888888888888,
              "#fdca26"
             ],
             [
              1,
              "#f0f921"
             ]
            ],
            "type": "histogram2d"
           }
          ],
          "histogram2dcontour": [
           {
            "colorbar": {
             "outlinewidth": 0,
             "ticks": ""
            },
            "colorscale": [
             [
              0,
              "#0d0887"
             ],
             [
              0.1111111111111111,
              "#46039f"
             ],
             [
              0.2222222222222222,
              "#7201a8"
             ],
             [
              0.3333333333333333,
              "#9c179e"
             ],
             [
              0.4444444444444444,
              "#bd3786"
             ],
             [
              0.5555555555555556,
              "#d8576b"
             ],
             [
              0.6666666666666666,
              "#ed7953"
             ],
             [
              0.7777777777777778,
              "#fb9f3a"
             ],
             [
              0.8888888888888888,
              "#fdca26"
             ],
             [
              1,
              "#f0f921"
             ]
            ],
            "type": "histogram2dcontour"
           }
          ],
          "mesh3d": [
           {
            "colorbar": {
             "outlinewidth": 0,
             "ticks": ""
            },
            "type": "mesh3d"
           }
          ],
          "parcoords": [
           {
            "line": {
             "colorbar": {
              "outlinewidth": 0,
              "ticks": ""
             }
            },
            "type": "parcoords"
           }
          ],
          "pie": [
           {
            "automargin": true,
            "type": "pie"
           }
          ],
          "scatter": [
           {
            "fillpattern": {
             "fillmode": "overlay",
             "size": 10,
             "solidity": 0.2
            },
            "type": "scatter"
           }
          ],
          "scatter3d": [
           {
            "line": {
             "colorbar": {
              "outlinewidth": 0,
              "ticks": ""
             }
            },
            "marker": {
             "colorbar": {
              "outlinewidth": 0,
              "ticks": ""
             }
            },
            "type": "scatter3d"
           }
          ],
          "scattercarpet": [
           {
            "marker": {
             "colorbar": {
              "outlinewidth": 0,
              "ticks": ""
             }
            },
            "type": "scattercarpet"
           }
          ],
          "scattergeo": [
           {
            "marker": {
             "colorbar": {
              "outlinewidth": 0,
              "ticks": ""
             }
            },
            "type": "scattergeo"
           }
          ],
          "scattergl": [
           {
            "marker": {
             "colorbar": {
              "outlinewidth": 0,
              "ticks": ""
             }
            },
            "type": "scattergl"
           }
          ],
          "scattermap": [
           {
            "marker": {
             "colorbar": {
              "outlinewidth": 0,
              "ticks": ""
             }
            },
            "type": "scattermap"
           }
          ],
          "scattermapbox": [
           {
            "marker": {
             "colorbar": {
              "outlinewidth": 0,
              "ticks": ""
             }
            },
            "type": "scattermapbox"
           }
          ],
          "scatterpolar": [
           {
            "marker": {
             "colorbar": {
              "outlinewidth": 0,
              "ticks": ""
             }
            },
            "type": "scatterpolar"
           }
          ],
          "scatterpolargl": [
           {
            "marker": {
             "colorbar": {
              "outlinewidth": 0,
              "ticks": ""
             }
            },
            "type": "scatterpolargl"
           }
          ],
          "scatterternary": [
           {
            "marker": {
             "colorbar": {
              "outlinewidth": 0,
              "ticks": ""
             }
            },
            "type": "scatterternary"
           }
          ],
          "surface": [
           {
            "colorbar": {
             "outlinewidth": 0,
             "ticks": ""
            },
            "colorscale": [
             [
              0,
              "#0d0887"
             ],
             [
              0.1111111111111111,
              "#46039f"
             ],
             [
              0.2222222222222222,
              "#7201a8"
             ],
             [
              0.3333333333333333,
              "#9c179e"
             ],
             [
              0.4444444444444444,
              "#bd3786"
             ],
             [
              0.5555555555555556,
              "#d8576b"
             ],
             [
              0.6666666666666666,
              "#ed7953"
             ],
             [
              0.7777777777777778,
              "#fb9f3a"
             ],
             [
              0.8888888888888888,
              "#fdca26"
             ],
             [
              1,
              "#f0f921"
             ]
            ],
            "type": "surface"
           }
          ],
          "table": [
           {
            "cells": {
             "fill": {
              "color": "#EBF0F8"
             },
             "line": {
              "color": "white"
             }
            },
            "header": {
             "fill": {
              "color": "#C8D4E3"
             },
             "line": {
              "color": "white"
             }
            },
            "type": "table"
           }
          ]
         },
         "layout": {
          "annotationdefaults": {
           "arrowcolor": "#2a3f5f",
           "arrowhead": 0,
           "arrowwidth": 1
          },
          "autotypenumbers": "strict",
          "coloraxis": {
           "colorbar": {
            "outlinewidth": 0,
            "ticks": ""
           }
          },
          "colorscale": {
           "diverging": [
            [
             0,
             "#8e0152"
            ],
            [
             0.1,
             "#c51b7d"
            ],
            [
             0.2,
             "#de77ae"
            ],
            [
             0.3,
             "#f1b6da"
            ],
            [
             0.4,
             "#fde0ef"
            ],
            [
             0.5,
             "#f7f7f7"
            ],
            [
             0.6,
             "#e6f5d0"
            ],
            [
             0.7,
             "#b8e186"
            ],
            [
             0.8,
             "#7fbc41"
            ],
            [
             0.9,
             "#4d9221"
            ],
            [
             1,
             "#276419"
            ]
           ],
           "sequential": [
            [
             0,
             "#0d0887"
            ],
            [
             0.1111111111111111,
             "#46039f"
            ],
            [
             0.2222222222222222,
             "#7201a8"
            ],
            [
             0.3333333333333333,
             "#9c179e"
            ],
            [
             0.4444444444444444,
             "#bd3786"
            ],
            [
             0.5555555555555556,
             "#d8576b"
            ],
            [
             0.6666666666666666,
             "#ed7953"
            ],
            [
             0.7777777777777778,
             "#fb9f3a"
            ],
            [
             0.8888888888888888,
             "#fdca26"
            ],
            [
             1,
             "#f0f921"
            ]
           ],
           "sequentialminus": [
            [
             0,
             "#0d0887"
            ],
            [
             0.1111111111111111,
             "#46039f"
            ],
            [
             0.2222222222222222,
             "#7201a8"
            ],
            [
             0.3333333333333333,
             "#9c179e"
            ],
            [
             0.4444444444444444,
             "#bd3786"
            ],
            [
             0.5555555555555556,
             "#d8576b"
            ],
            [
             0.6666666666666666,
             "#ed7953"
            ],
            [
             0.7777777777777778,
             "#fb9f3a"
            ],
            [
             0.8888888888888888,
             "#fdca26"
            ],
            [
             1,
             "#f0f921"
            ]
           ]
          },
          "colorway": [
           "#636efa",
           "#EF553B",
           "#00cc96",
           "#ab63fa",
           "#FFA15A",
           "#19d3f3",
           "#FF6692",
           "#B6E880",
           "#FF97FF",
           "#FECB52"
          ],
          "font": {
           "color": "#2a3f5f"
          },
          "geo": {
           "bgcolor": "white",
           "lakecolor": "white",
           "landcolor": "#E5ECF6",
           "showlakes": true,
           "showland": true,
           "subunitcolor": "white"
          },
          "hoverlabel": {
           "align": "left"
          },
          "hovermode": "closest",
          "mapbox": {
           "style": "light"
          },
          "paper_bgcolor": "white",
          "plot_bgcolor": "#E5ECF6",
          "polar": {
           "angularaxis": {
            "gridcolor": "white",
            "linecolor": "white",
            "ticks": ""
           },
           "bgcolor": "#E5ECF6",
           "radialaxis": {
            "gridcolor": "white",
            "linecolor": "white",
            "ticks": ""
           }
          },
          "scene": {
           "xaxis": {
            "backgroundcolor": "#E5ECF6",
            "gridcolor": "white",
            "gridwidth": 2,
            "linecolor": "white",
            "showbackground": true,
            "ticks": "",
            "zerolinecolor": "white"
           },
           "yaxis": {
            "backgroundcolor": "#E5ECF6",
            "gridcolor": "white",
            "gridwidth": 2,
            "linecolor": "white",
            "showbackground": true,
            "ticks": "",
            "zerolinecolor": "white"
           },
           "zaxis": {
            "backgroundcolor": "#E5ECF6",
            "gridcolor": "white",
            "gridwidth": 2,
            "linecolor": "white",
            "showbackground": true,
            "ticks": "",
            "zerolinecolor": "white"
           }
          },
          "shapedefaults": {
           "line": {
            "color": "#2a3f5f"
           }
          },
          "ternary": {
           "aaxis": {
            "gridcolor": "white",
            "linecolor": "white",
            "ticks": ""
           },
           "baxis": {
            "gridcolor": "white",
            "linecolor": "white",
            "ticks": ""
           },
           "bgcolor": "#E5ECF6",
           "caxis": {
            "gridcolor": "white",
            "linecolor": "white",
            "ticks": ""
           }
          },
          "title": {
           "x": 0.05
          },
          "xaxis": {
           "automargin": true,
           "gridcolor": "white",
           "linecolor": "white",
           "ticks": "",
           "title": {
            "standoff": 15
           },
           "zerolinecolor": "white",
           "zerolinewidth": 2
          },
          "yaxis": {
           "automargin": true,
           "gridcolor": "white",
           "linecolor": "white",
           "ticks": "",
           "title": {
            "standoff": 15
           },
           "zerolinecolor": "white",
           "zerolinewidth": 2
          }
         }
        },
        "title": {
         "text": "Synthetic dataset for Decision Tree"
        },
        "width": 600,
        "xaxis": {
         "title": {
          "text": "X1"
         }
        },
        "yaxis": {
         "title": {
          "text": "X2"
         }
        }
       }
      }
     },
     "metadata": {},
     "output_type": "display_data"
    }
   ],
   "source": [
    "X, y = synthetic_dataset_dt(n_samples=500, noise_rate=0.7, random_state=1505)\n",
    "correlation = np.corrcoef(X[:,0], X[:,1])[0,1]\n",
    "print(\"Correlation:\", correlation)\n",
    "draw_plot(X,y,\"Synthetic dataset for Decision Tree\")"
   ]
  },
  {
   "cell_type": "markdown",
   "id": "7ef20be8",
   "metadata": {},
   "source": [
    "### Decision Rules"
   ]
  },
  {
   "cell_type": "code",
   "execution_count": 82,
   "id": "9ea3d2ce",
   "metadata": {},
   "outputs": [
    {
     "name": "stdout",
     "output_type": "stream",
     "text": [
      "Correlation: 0.0028942143292361093\n"
     ]
    },
    {
     "data": {
      "application/vnd.plotly.v1+json": {
       "config": {
        "plotlyServerURL": "https://plot.ly"
       },
       "data": [
        {
         "marker": {
          "color": {
           "bdata": "AQMAAgIAAwACAQICAgABAAECAwIAAAMBAgMBAgIDAQMAAwIDAwAAAQMBAQAAAQEDAQEBAwAAAAABAQMDAQIBAgIAAAEAAQMCAQMAAwEBAgEAAwIDAQEDAwABAwIDAAICAgICAAMDAAICAwIDAgIDAQEAAQIDAgMCAgMDAwMCAAACAwAAAQEDAgACAAIBAwMAAgACAgABAgMDAwIAAAMBAAIDAQMAAwADAgEAAwADAwEBAgMAAwMBAQECAAMDAQACAgADAgMAAgIBAQEDAAIDAwIBAQEAAwIAAwIBAwMDAwIDAAMCAQABAwACAAMCAQEAAAICAgMAAAEDAAACAgEAAgEDAQIAAwADAQIBAgEDAgICAwIDAwECAAECAQEDAAMBAAEBAAIBAwMBAAEAAAMAAwEAAgEAAwMBAAMBAgMCAwMDAgIAAQMCAgMDAAICAwEBAwECAQMDAQEDAAMBAAEDAAIBAAMAAQIBAQACAwAAAwICAAMCAQADAgEAAgIAAAIDAgIDAQMDAAADAgECAQEAAAADAwEAAwMCAAIDAgIBAgECAAMCAgIDAQAAAQEBAAIBAQEAAgAAAAADAAADAQABAQMAAQIBAAAAAgMBAQMCAAMAAgACAgABAAMCAQEAAgICAQADAAABAgEDAwEDAQEDAQIDAwI=",
           "dtype": "i1"
          }
         },
         "mode": "markers",
         "type": "scatter",
         "x": {
          "bdata": "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",
          "dtype": "f8"
         },
         "y": {
          "bdata": "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",
          "dtype": "f8"
         }
        }
       ],
       "layout": {
        "height": 600,
        "showlegend": false,
        "template": {
         "data": {
          "bar": [
           {
            "error_x": {
             "color": "#2a3f5f"
            },
            "error_y": {
             "color": "#2a3f5f"
            },
            "marker": {
             "line": {
              "color": "#E5ECF6",
              "width": 0.5
             },
             "pattern": {
              "fillmode": "overlay",
              "size": 10,
              "solidity": 0.2
             }
            },
            "type": "bar"
           }
          ],
          "barpolar": [
           {
            "marker": {
             "line": {
              "color": "#E5ECF6",
              "width": 0.5
             },
             "pattern": {
              "fillmode": "overlay",
              "size": 10,
              "solidity": 0.2
             }
            },
            "type": "barpolar"
           }
          ],
          "carpet": [
           {
            "aaxis": {
             "endlinecolor": "#2a3f5f",
             "gridcolor": "white",
             "linecolor": "white",
             "minorgridcolor": "white",
             "startlinecolor": "#2a3f5f"
            },
            "baxis": {
             "endlinecolor": "#2a3f5f",
             "gridcolor": "white",
             "linecolor": "white",
             "minorgridcolor": "white",
             "startlinecolor": "#2a3f5f"
            },
            "type": "carpet"
           }
          ],
          "choropleth": [
           {
            "colorbar": {
             "outlinewidth": 0,
             "ticks": ""
            },
            "type": "choropleth"
           }
          ],
          "contour": [
           {
            "colorbar": {
             "outlinewidth": 0,
             "ticks": ""
            },
            "colorscale": [
             [
              0,
              "#0d0887"
             ],
             [
              0.1111111111111111,
              "#46039f"
             ],
             [
              0.2222222222222222,
              "#7201a8"
             ],
             [
              0.3333333333333333,
              "#9c179e"
             ],
             [
              0.4444444444444444,
              "#bd3786"
             ],
             [
              0.5555555555555556,
              "#d8576b"
             ],
             [
              0.6666666666666666,
              "#ed7953"
             ],
             [
              0.7777777777777778,
              "#fb9f3a"
             ],
             [
              0.8888888888888888,
              "#fdca26"
             ],
             [
              1,
              "#f0f921"
             ]
            ],
            "type": "contour"
           }
          ],
          "contourcarpet": [
           {
            "colorbar": {
             "outlinewidth": 0,
             "ticks": ""
            },
            "type": "contourcarpet"
           }
          ],
          "heatmap": [
           {
            "colorbar": {
             "outlinewidth": 0,
             "ticks": ""
            },
            "colorscale": [
             [
              0,
              "#0d0887"
             ],
             [
              0.1111111111111111,
              "#46039f"
             ],
             [
              0.2222222222222222,
              "#7201a8"
             ],
             [
              0.3333333333333333,
              "#9c179e"
             ],
             [
              0.4444444444444444,
              "#bd3786"
             ],
             [
              0.5555555555555556,
              "#d8576b"
             ],
             [
              0.6666666666666666,
              "#ed7953"
             ],
             [
              0.7777777777777778,
              "#fb9f3a"
             ],
             [
              0.8888888888888888,
              "#fdca26"
             ],
             [
              1,
              "#f0f921"
             ]
            ],
            "type": "heatmap"
           }
          ],
          "histogram": [
           {
            "marker": {
             "pattern": {
              "fillmode": "overlay",
              "size": 10,
              "solidity": 0.2
             }
            },
            "type": "histogram"
           }
          ],
          "histogram2d": [
           {
            "colorbar": {
             "outlinewidth": 0,
             "ticks": ""
            },
            "colorscale": [
             [
              0,
              "#0d0887"
             ],
             [
              0.1111111111111111,
              "#46039f"
             ],
             [
              0.2222222222222222,
              "#7201a8"
             ],
             [
              0.3333333333333333,
              "#9c179e"
             ],
             [
              0.4444444444444444,
              "#bd3786"
             ],
             [
              0.5555555555555556,
              "#d8576b"
             ],
             [
              0.6666666666666666,
              "#ed7953"
             ],
             [
              0.7777777777777778,
              "#fb9f3a"
             ],
             [
              0.8888888888888888,
              "#fdca26"
             ],
             [
              1,
              "#f0f921"
             ]
            ],
            "type": "histogram2d"
           }
          ],
          "histogram2dcontour": [
           {
            "colorbar": {
             "outlinewidth": 0,
             "ticks": ""
            },
            "colorscale": [
             [
              0,
              "#0d0887"
             ],
             [
              0.1111111111111111,
              "#46039f"
             ],
             [
              0.2222222222222222,
              "#7201a8"
             ],
             [
              0.3333333333333333,
              "#9c179e"
             ],
             [
              0.4444444444444444,
              "#bd3786"
             ],
             [
              0.5555555555555556,
              "#d8576b"
             ],
             [
              0.6666666666666666,
              "#ed7953"
             ],
             [
              0.7777777777777778,
              "#fb9f3a"
             ],
             [
              0.8888888888888888,
              "#fdca26"
             ],
             [
              1,
              "#f0f921"
             ]
            ],
            "type": "histogram2dcontour"
           }
          ],
          "mesh3d": [
           {
            "colorbar": {
             "outlinewidth": 0,
             "ticks": ""
            },
            "type": "mesh3d"
           }
          ],
          "parcoords": [
           {
            "line": {
             "colorbar": {
              "outlinewidth": 0,
              "ticks": ""
             }
            },
            "type": "parcoords"
           }
          ],
          "pie": [
           {
            "automargin": true,
            "type": "pie"
           }
          ],
          "scatter": [
           {
            "fillpattern": {
             "fillmode": "overlay",
             "size": 10,
             "solidity": 0.2
            },
            "type": "scatter"
           }
          ],
          "scatter3d": [
           {
            "line": {
             "colorbar": {
              "outlinewidth": 0,
              "ticks": ""
             }
            },
            "marker": {
             "colorbar": {
              "outlinewidth": 0,
              "ticks": ""
             }
            },
            "type": "scatter3d"
           }
          ],
          "scattercarpet": [
           {
            "marker": {
             "colorbar": {
              "outlinewidth": 0,
              "ticks": ""
             }
            },
            "type": "scattercarpet"
           }
          ],
          "scattergeo": [
           {
            "marker": {
             "colorbar": {
              "outlinewidth": 0,
              "ticks": ""
             }
            },
            "type": "scattergeo"
           }
          ],
          "scattergl": [
           {
            "marker": {
             "colorbar": {
              "outlinewidth": 0,
              "ticks": ""
             }
            },
            "type": "scattergl"
           }
          ],
          "scattermap": [
           {
            "marker": {
             "colorbar": {
              "outlinewidth": 0,
              "ticks": ""
             }
            },
            "type": "scattermap"
           }
          ],
          "scattermapbox": [
           {
            "marker": {
             "colorbar": {
              "outlinewidth": 0,
              "ticks": ""
             }
            },
            "type": "scattermapbox"
           }
          ],
          "scatterpolar": [
           {
            "marker": {
             "colorbar": {
              "outlinewidth": 0,
              "ticks": ""
             }
            },
            "type": "scatterpolar"
           }
          ],
          "scatterpolargl": [
           {
            "marker": {
             "colorbar": {
              "outlinewidth": 0,
              "ticks": ""
             }
            },
            "type": "scatterpolargl"
           }
          ],
          "scatterternary": [
           {
            "marker": {
             "colorbar": {
              "outlinewidth": 0,
              "ticks": ""
             }
            },
            "type": "scatterternary"
           }
          ],
          "surface": [
           {
            "colorbar": {
             "outlinewidth": 0,
             "ticks": ""
            },
            "colorscale": [
             [
              0,
              "#0d0887"
             ],
             [
              0.1111111111111111,
              "#46039f"
             ],
             [
              0.2222222222222222,
              "#7201a8"
             ],
             [
              0.3333333333333333,
              "#9c179e"
             ],
             [
              0.4444444444444444,
              "#bd3786"
             ],
             [
              0.5555555555555556,
              "#d8576b"
             ],
             [
              0.6666666666666666,
              "#ed7953"
             ],
             [
              0.7777777777777778,
              "#fb9f3a"
             ],
             [
              0.8888888888888888,
              "#fdca26"
             ],
             [
              1,
              "#f0f921"
             ]
            ],
            "type": "surface"
           }
          ],
          "table": [
           {
            "cells": {
             "fill": {
              "color": "#EBF0F8"
             },
             "line": {
              "color": "white"
             }
            },
            "header": {
             "fill": {
              "color": "#C8D4E3"
             },
             "line": {
              "color": "white"
             }
            },
            "type": "table"
           }
          ]
         },
         "layout": {
          "annotationdefaults": {
           "arrowcolor": "#2a3f5f",
           "arrowhead": 0,
           "arrowwidth": 1
          },
          "autotypenumbers": "strict",
          "coloraxis": {
           "colorbar": {
            "outlinewidth": 0,
            "ticks": ""
           }
          },
          "colorscale": {
           "diverging": [
            [
             0,
             "#8e0152"
            ],
            [
             0.1,
             "#c51b7d"
            ],
            [
             0.2,
             "#de77ae"
            ],
            [
             0.3,
             "#f1b6da"
            ],
            [
             0.4,
             "#fde0ef"
            ],
            [
             0.5,
             "#f7f7f7"
            ],
            [
             0.6,
             "#e6f5d0"
            ],
            [
             0.7,
             "#b8e186"
            ],
            [
             0.8,
             "#7fbc41"
            ],
            [
             0.9,
             "#4d9221"
            ],
            [
             1,
             "#276419"
            ]
           ],
           "sequential": [
            [
             0,
             "#0d0887"
            ],
            [
             0.1111111111111111,
             "#46039f"
            ],
            [
             0.2222222222222222,
             "#7201a8"
            ],
            [
             0.3333333333333333,
             "#9c179e"
            ],
            [
             0.4444444444444444,
             "#bd3786"
            ],
            [
             0.5555555555555556,
             "#d8576b"
            ],
            [
             0.6666666666666666,
             "#ed7953"
            ],
            [
             0.7777777777777778,
             "#fb9f3a"
            ],
            [
             0.8888888888888888,
             "#fdca26"
            ],
            [
             1,
             "#f0f921"
            ]
           ],
           "sequentialminus": [
            [
             0,
             "#0d0887"
            ],
            [
             0.1111111111111111,
             "#46039f"
            ],
            [
             0.2222222222222222,
             "#7201a8"
            ],
            [
             0.3333333333333333,
             "#9c179e"
            ],
            [
             0.4444444444444444,
             "#bd3786"
            ],
            [
             0.5555555555555556,
             "#d8576b"
            ],
            [
             0.6666666666666666,
             "#ed7953"
            ],
            [
             0.7777777777777778,
             "#fb9f3a"
            ],
            [
             0.8888888888888888,
             "#fdca26"
            ],
            [
             1,
             "#f0f921"
            ]
           ]
          },
          "colorway": [
           "#636efa",
           "#EF553B",
           "#00cc96",
           "#ab63fa",
           "#FFA15A",
           "#19d3f3",
           "#FF6692",
           "#B6E880",
           "#FF97FF",
           "#FECB52"
          ],
          "font": {
           "color": "#2a3f5f"
          },
          "geo": {
           "bgcolor": "white",
           "lakecolor": "white",
           "landcolor": "#E5ECF6",
           "showlakes": true,
           "showland": true,
           "subunitcolor": "white"
          },
          "hoverlabel": {
           "align": "left"
          },
          "hovermode": "closest",
          "mapbox": {
           "style": "light"
          },
          "paper_bgcolor": "white",
          "plot_bgcolor": "#E5ECF6",
          "polar": {
           "angularaxis": {
            "gridcolor": "white",
            "linecolor": "white",
            "ticks": ""
           },
           "bgcolor": "#E5ECF6",
           "radialaxis": {
            "gridcolor": "white",
            "linecolor": "white",
            "ticks": ""
           }
          },
          "scene": {
           "xaxis": {
            "backgroundcolor": "#E5ECF6",
            "gridcolor": "white",
            "gridwidth": 2,
            "linecolor": "white",
            "showbackground": true,
            "ticks": "",
            "zerolinecolor": "white"
           },
           "yaxis": {
            "backgroundcolor": "#E5ECF6",
            "gridcolor": "white",
            "gridwidth": 2,
            "linecolor": "white",
            "showbackground": true,
            "ticks": "",
            "zerolinecolor": "white"
           },
           "zaxis": {
            "backgroundcolor": "#E5ECF6",
            "gridcolor": "white",
            "gridwidth": 2,
            "linecolor": "white",
            "showbackground": true,
            "ticks": "",
            "zerolinecolor": "white"
           }
          },
          "shapedefaults": {
           "line": {
            "color": "#2a3f5f"
           }
          },
          "ternary": {
           "aaxis": {
            "gridcolor": "white",
            "linecolor": "white",
            "ticks": ""
           },
           "baxis": {
            "gridcolor": "white",
            "linecolor": "white",
            "ticks": ""
           },
           "bgcolor": "#E5ECF6",
           "caxis": {
            "gridcolor": "white",
            "linecolor": "white",
            "ticks": ""
           }
          },
          "title": {
           "x": 0.05
          },
          "xaxis": {
           "automargin": true,
           "gridcolor": "white",
           "linecolor": "white",
           "ticks": "",
           "title": {
            "standoff": 15
           },
           "zerolinecolor": "white",
           "zerolinewidth": 2
          },
          "yaxis": {
           "automargin": true,
           "gridcolor": "white",
           "linecolor": "white",
           "ticks": "",
           "title": {
            "standoff": 15
           },
           "zerolinecolor": "white",
           "zerolinewidth": 2
          }
         }
        },
        "title": {
         "text": "Synthetic dataset for Decision Rules"
        },
        "width": 600,
        "xaxis": {
         "title": {
          "text": "X1"
         }
        },
        "yaxis": {
         "title": {
          "text": "X2"
         }
        }
       }
      }
     },
     "metadata": {},
     "output_type": "display_data"
    }
   ],
   "source": [
    "X, y = synthetic_dataset_dr(n_samples=500, noise_rate=0.01, random_state=1505)\n",
    "correlation = np.corrcoef(X[:,0], X[:,1])[0,1]\n",
    "print(\"Correlation:\", correlation)\n",
    "draw_plot(X,y,\"Synthetic dataset for Decision Rules\")"
   ]
  },
  {
   "cell_type": "markdown",
   "id": "f11e67e4",
   "metadata": {},
   "source": [
    "### Nearest Neighbor"
   ]
  },
  {
   "cell_type": "code",
   "execution_count": 88,
   "id": "432c26b8",
   "metadata": {},
   "outputs": [
    {
     "name": "stdout",
     "output_type": "stream",
     "text": [
      "Correlation: -0.004685765220882318\n"
     ]
    },
    {
     "data": {
      "application/vnd.plotly.v1+json": {
       "config": {
        "plotlyServerURL": "https://plot.ly"
       },
       "data": [
        {
         "marker": {
          "color": {
           "bdata": "AAAAAAAAAAAAAAAAAAAAAAAAAAAAAAAAAAAAAAAAAAAAAAAAAAAAAAAAAAAAAAAAAAAAAAAAAAAAAAAAAAAAAAAAAAAAAAAAAAAAAAAAAAAAAAAAAAAAAAAAAAAAAAAAAAAAAAAAAAAAAAAAAAAAAAAAAAAAAAAAAAAAAAABAQEBAQEBAQEBAQEBAQEBAQEBAQEBAQEBAQEBAQEBAQEBAQEBAQEBAQEBAQEBAQEBAQEBAQEBAQEBAQEBAQEBAQEBAQEBAQEBAQEBAQEBAQEBAQEBAQEBAQEBAQEBAQEBAQEBAQEBAQEBAQEBAQEBAQEBAQEBAQEBAQEBAQICAgICAgICAgICAgICAgICAgICAgICAgICAgICAgICAgICAgICAgICAgICAgICAgICAgICAgICAgICAgICAgICAgICAgICAgICAgICAgICAgICAgICAgICAgICAgICAgICAgICAgICAgICAgICAgICAgICAgICAgICAgICAwMDAwMDAwMDAwMDAwMDAwMDAwMDAwMDAwMDAwMDAwMDAwMDAwMDAwMDAwMDAwMDAwMDAwMDAwMDAwMDAwMDAwMDAwMDAwMDAwMDAwMDAwMDAwMDAwMDAwMDAwMDAwMDAwMDAwMDAwMDAwMDAwMDAwMDAwMDAwMDAwMDAwM=",
           "dtype": "i1"
          }
         },
         "mode": "markers",
         "type": "scatter",
         "x": {
          "bdata": "/VmHIIhuuT8g5ekMsZTAPwCFrLIw+qe/oCnNucM21D8Jsseifgm4v8DiAL8bure/wPpLUeXGqD8PUPLzNRTWv/Ub0qWw7cm/yZzVmtM+x7/OPX9Mo8LSPz2JG3HYqIs/2imrT1Xfu7+8IUvJJnfNv+qS+wGxwL6/ci9DXLDOvr8CNo14JR1mv2CLsl2hDsU/+Lry2ztjpT8zryY2MwDRv5jkBlWd58I/5o2O+Eyvl784k8Aj0uzSv0jyTjuvlbe/oGczp9+XsT9gE/FZ1ZewPwthU6lGVMG/h5QhK8Jkyj+pqqVd5XvFvwgK2aDv9bA/3lEg8KGIuL8afS0VelLMv1oRbx/4zMQ/kDl4+85+jb9ogyAkCYSyP9m6UG3igLI/tVs71ENZfb/m5aW8MMTgvyFYCfnF05E/x6FrS+jKkj/OI6UVkX6mv8a1dGHD6tI/cFtYLouyxL+na9LnLW/HP+33+kWsH7u/yFWzz6jhkz8tbdOj+fjBv3zq1qJwE7S/0hlFip1Srj+uYdNzesFQPzfrcAjjHdK/PMMRGAeMsb+aXMQWAoSgvxZo/mmnJNg/JCwXaodfqj++KOn0bY/Yv1itFWOYq4g/UNIalaCyo7/aHCXylW98vy2yWIWaQc0/p5xDYhtAxD/3nGworfTRP98+D6UNDL4/7pExMJRbyb8dFz77mWiUP0g2LcQ22dO/4CXj4ukxy79B6bfliYnHv7PAgfcgDcS/jGRVaHfTxD/eKRzIuUqnP5TAEKxmk9S/FQbW6Kucqj/An//seqrPv+wT80Yxubo/lwQMEIWmqT+bEfcpnGjBv0QwRRO4Aq4/TJZaGcXh1z/ccwKcU3/Ov9yBw32s88i/z9kc1PiozT++mOLwlKnIP7mIQBZ0C8U/5Ec5xbMgqb+qx3SShcXGv8KKo0CzlI+/98uwhUhVrD9qNZKCY01lP90zXvHRGau/Tr2un18EwD/IoKt5M2rLv+Bk8F3x4aa/8fAn+NE6uD9pY44cjK3Fv+S0Qo+P3La/hhq6y1bspT+F9CCF1buhP2jxR7ZyoMa/7edOY6DXhz8H2FIql1GyP9DY7nbiucs/UvsA1Fii0b/NIMqVq166P2qGtkHVXro/vdKarsY6vT9k9XNdJWzIP3pxCAtMJLC/FEEyjsnIw7+oV+vQwdm4v1BxQ1asoN0/qKdri3mRwT9zs+aRtCm4v3SZrp8/VIo/i0PMe9BPwr8iQrvfh7LCv1xsNcONqoI/vL1np0Zx2z9iuPi6/OvZv/DCT3IV8cC/oglMKd1JxL9YmJ8h+Nq5P9+OYTVDus6/FdXDAzRRuL+IxjpbCpnWP5VPTfAq7uc/NAapA0zF9j94TwaQTR3mPw0lVQRf3/M/nHfqKxAZ8T/rHolL8w/pP4IqyhCEn9M/eh2H00xs7D+hmx9+ivLzP5nzr3z19uk/3oPEEQui8j/PbTeCiVbxPzlh03dGEuQ/0JaAPYKu6j8xNwr0StjoP1kr9aOyDeg/U6fnCngs8D/NAxGWwVTxP/bhfD3SzOI/uXoXSNpH5D90AD/fAqHfP4jMn0Sd/dc/vbAO6Bai4D+pPLSSg6biP/JjyfeEm+A/lhxUmPdUwj/q3nbiW0LaP3n6kHsRmso/uBqKtUzD2j/CzRIRiXPMP0QGdchkt5M/9kueaza9xj/g1ULTjZjMP6Ttcusn2qg/gXC3r0+tsr8sy0MrcIDFv4pWNfLxm9m/Z6dl+kUe378ItdQhEui5v4pnl1QvUdC/6uaWHxlo27/ES8XpnSfdv3DGGhNOcdS/OHWsbmsa579S20CgfX3gv+0AbznnqOm//LJPH/kK5L8phONApsjpv0vcoEelkfC/ESqoHkOC7b8Gfu+FE+bnv3A73RXXT+W/UZGpsmrE678ghxga8onsvwTL75TYDuu/CQeW5tRt6r+4QcZq0gDvv2i+kOIyXuq/R+/xxyvA7b9Ty/q8hOHuv0PvlAQ/l++/yoXCCSyf5r+Gq3qEozXiv4wEQeczaOq/stae3PPk4b9MHWAZmo/yv/kNjb+rjPa/dRnqJYsF8r9vLO9o/5jsv2mOMnR0Oei/FRRdhVjA8b/i+NY/VMnyv7ZOmhY43+S/7fcktgdO87/5UesYsYjrv/Qg7YTjC/K/XHXUZ5Lg6L85mhEbI8Dqv7SRqe4Wmu2/ZYN/5zvX5L8gKPopvK/fv/acVcCH8+y/NTOEbexi378mvhRqhiPKv82ql2liD86/QGRrQOTpi78EuYU+G37bv6V744VLFMq/vo0T5p2X3r+AnPgJ3miZv3bJPGFbI9u/y5tsZrKIyL8WTISgIzfLP5D4z6chb9I/rE/l9sL/1L+03TX0h97BP7AVwiWOPdO/3IsId1onub/U6Msqy0LSP2AQCIWTO8Q/v2SKLYz50j9OmE6o2WLEP5tft76r/9I/neSC8ZdT2z++6HOPpXLYP1rN4a5/uO0/FTxqMxcC3D8cvXi5dw3jP5eSxVAA8eg/3qXqGzzN4j92Rrn4EJHlP8R5gEnhZt0/MF9gAr738T8rAUSNAgvuP+gQiH7kd/c/DP+0xx856z9GeXUZ7X/iP1+kQ5BVm+g/5PJ5Q8Pm6T/iFlFKO630P/JTOCWS8e4/uPBgmrvZ7z9QUSvDQrH0P3MdHfI2M+k/SIGwSgpb6j/CGTvBXHsBQAIv21Pye/s/Rl7v4KHB/T9a/TX5vr39P/t9qrS4gv8/GpNVBTHc/z9R8mMNgcr9P90VQt+dMfw/yuThAeQM/z8X6zQETRn9P8v07aQgs/Y/FspegYYc+T/10M38Hen3P+aUJSoWM/Q/RPPel7E6+T+cqmWP2F75P+AhunpG/PU/RCbuMMTs8j+g9CfDpwTxP13V2qXUs/U/f9+6khfS8z8CN3EecHbxP/Fd0lmJwdk/8L8Gq7F67T98/3KhiS/pPzE90prNVOQ/s6rU3usq6D+KO3MtTnXfP1jvDVsDJ80/AeKnaZ5+0z+aDDylG37HPxxzieWHhMk/AvkrNTYaxT8AfJ4DnqrivyiIAl+pyuS/HUsz8MG/178F4PPRUhbav+RCNAm33dm/NbFCcOLK47/X3f5/aOLwv1d+JRpgFem/AC0tb0MT6r93r+WOm8Lvv5IWmsY7SvO/2oDVltN58L9DRZp3Jiv0v2r7AjPyE/S/9jZVkvJy878cT07X1Lv4v4K6ktIgVfq/oMKxlld3978InFcGpgT4v6omiCOTUvq/louOfIDl/r+pOVydW2gBwICfQzGsqPu/nPGUbUdp/b/u1dTjXvX2v8qMpTq11f6/Doa1HYL3/b++j1freiMBwIiwaKP44vm/0oKwPkbk+r/5KFNvDJQBwKlhvmsTu/+/Lj63ce+UAsBL01TcfgEAwNISblM4NgHAzgcz35Ym/L9HzZzBrjcBwPCWtcXN0/6/f74Nzz70/b+aXowv7TT9v9hkBWxGIwLAFBfeFTaK+7+RdRlpzfjzv7DOc9Fvxfm/mn4wmU5F77+kUsdIfbn2v46X+ykO+vS/wzswo7g79r8eP1l93jzzv+kEpGjjGfS/1bTLfipH8b9WGTdbrov3v4y9ZsZhRuO/KcT5ksJ/6r+J2zyK+07uvwDkKLRSWem/3ED4c5FL0r/jSq36q37Nv8UiljncWdi/IAuWXGDj2r80JP7kHpq/v3wkjw/gasU/KJalgKVVqz9AOLVnynSDPxxkH9LEaNw/sBYNv7hP3z9LBHGYjZvmP0m9PEqBbuA/2R3YnHRN4j/bO8H0rKXfP3BDc4V0gOQ/rHN2xs814j9O1RnOW9LxP2eOUu8TvfA/RTNE9Kym8z/CRrBnU2D1P4qs52iJCPU//A12udxP+D+H74XcfhX0P/sOzaFX9Pk/TAT/6Hpp+j/bf134LIH5P0EPlAgkq/w/qD+YVF4W/j8+etrRz14AQPzc+unY2/4/ItCusk3xAUBcV1HOlhr5P1wbowcfW/0/KPRx+YylAEBgjxms0TcAQGZ4rqCyAP4/sDJC+teFBkCqx2OthWgGQJHui/IaXAZAiBZ03laECEAA03xmpSQGQFg9j5UxUwZAChlGY0wDC0Apaae7Ul4IQPNNOLySBwZAT7Bx4SOVBEAWpztm7CkGQLpmpFeLbwVAV2CjRnrCBEDj7iQOceQBQHEKh3f1LQJAvf/Jz5HHAUD8NIfyiEEBQDjYiWFapwBAiLrbN7QpAECkRhnPu3/7PzJDp9IuGPs/lhWjZxyF+D9P9SSmIRDyP4NhPL2CNvM/k/LMnsky8T97PafJ19XxP0iR8dXsp+k/8sMvemiS4T8Y8Lg56gjhP8joF0b93uI/ICnLkeBTwz/wNlJmGu/UP7LNeLxm4rc/JPlRwPvlyr/EYwBKCmfZvzGZJ8ybTOW/qj3aGL32z7/XyyFzizbuvzxAgvFm1+W/9AYHTPGS878/Rg+MWb34vxYJ8B6azvm/QbQ3y9jN+L9kTMeyt8T1v6Qc8BOzjPm/HnXAyC/B/r8dRTuZHAECwB47hBJ/zwDAsVKacZ5wAcA7uLI2F7QDwHfb1LnWaQTA4s9tltgeBcDk4xtgG3YCwNgnuaekpQbA2iBYs+G5BsATdRbxbf0FwOUFoSUdQQTArmc3PrIRCMBe15ETZ+4GwB4b8GxskwbApvZYwgcYCMAm8LxwgyMKwOhfN+OgCwjAG3FRwBLSCMD3SudmRfUHwCNPk22FxAPAMwslPqNpCMCUz+y6MEwGwOK4MGKFJwbAq4IvLgrJBcDyNJsregAFwC4QNPjHIgTAyfIJ+ZMaA8Dyc3mkZQAFwJGPjRGWKwLAO73qgZfTAsC2fGI3GaMCwGcyvMjJmAHA8qlJGqxAA8CXUMx6tVn+v5/ZOkTMlP+/iHW+5cLm+7/AfxQk9Aj7v8rbJbVxv/a/5coxdLoF+L85oDDxdADxvz3DCPnLzfG/zd18omhN6L+CCIT2XvDuv0tq+1N9Xtm/PPsB27iK5b8MH7yZwn7mvy4O4AByeMa/UgcFbuxO1L9i1X7xICK2P2KNnFwWVLG/zNNjPbL93T+2AUBDgG7rP88Gz4q7LdU/lHXfssC/6D/skU0WKR/sPzgUtPinNOo/1/OUtJ0T8z/+LiZafp72P0/txQ1jefk/DCORFcLG+z9maQIaNFr8PwJvjFi/Xv0/AM8JcwZa/T/N+GVyW5UAQD4QkjtBswFAaMgdPsakA0AP2r4whVcCQD7HQQWFCgNAvyv+Vb7jAUD4d0VZ5EkGQHmsDljfCQRALA5wym0UBkCa1ZRtX+8IQBXTWksukAZARmI0G1SUB0CSrVxP/B4HQK70eUQDIAZAlmcru0/BCkBHQkzySA4HQA==",
          "dtype": "f8"
         },
         "y": {
          "bdata": "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",
          "dtype": "f8"
         }
        }
       ],
       "layout": {
        "height": 600,
        "showlegend": false,
        "template": {
         "data": {
          "bar": [
           {
            "error_x": {
             "color": "#2a3f5f"
            },
            "error_y": {
             "color": "#2a3f5f"
            },
            "marker": {
             "line": {
              "color": "#E5ECF6",
              "width": 0.5
             },
             "pattern": {
              "fillmode": "overlay",
              "size": 10,
              "solidity": 0.2
             }
            },
            "type": "bar"
           }
          ],
          "barpolar": [
           {
            "marker": {
             "line": {
              "color": "#E5ECF6",
              "width": 0.5
             },
             "pattern": {
              "fillmode": "overlay",
              "size": 10,
              "solidity": 0.2
             }
            },
            "type": "barpolar"
           }
          ],
          "carpet": [
           {
            "aaxis": {
             "endlinecolor": "#2a3f5f",
             "gridcolor": "white",
             "linecolor": "white",
             "minorgridcolor": "white",
             "startlinecolor": "#2a3f5f"
            },
            "baxis": {
             "endlinecolor": "#2a3f5f",
             "gridcolor": "white",
             "linecolor": "white",
             "minorgridcolor": "white",
             "startlinecolor": "#2a3f5f"
            },
            "type": "carpet"
           }
          ],
          "choropleth": [
           {
            "colorbar": {
             "outlinewidth": 0,
             "ticks": ""
            },
            "type": "choropleth"
           }
          ],
          "contour": [
           {
            "colorbar": {
             "outlinewidth": 0,
             "ticks": ""
            },
            "colorscale": [
             [
              0,
              "#0d0887"
             ],
             [
              0.1111111111111111,
              "#46039f"
             ],
             [
              0.2222222222222222,
              "#7201a8"
             ],
             [
              0.3333333333333333,
              "#9c179e"
             ],
             [
              0.4444444444444444,
              "#bd3786"
             ],
             [
              0.5555555555555556,
              "#d8576b"
             ],
             [
              0.6666666666666666,
              "#ed7953"
             ],
             [
              0.7777777777777778,
              "#fb9f3a"
             ],
             [
              0.8888888888888888,
              "#fdca26"
             ],
             [
              1,
              "#f0f921"
             ]
            ],
            "type": "contour"
           }
          ],
          "contourcarpet": [
           {
            "colorbar": {
             "outlinewidth": 0,
             "ticks": ""
            },
            "type": "contourcarpet"
           }
          ],
          "heatmap": [
           {
            "colorbar": {
             "outlinewidth": 0,
             "ticks": ""
            },
            "colorscale": [
             [
              0,
              "#0d0887"
             ],
             [
              0.1111111111111111,
              "#46039f"
             ],
             [
              0.2222222222222222,
              "#7201a8"
             ],
             [
              0.3333333333333333,
              "#9c179e"
             ],
             [
              0.4444444444444444,
              "#bd3786"
             ],
             [
              0.5555555555555556,
              "#d8576b"
             ],
             [
              0.6666666666666666,
              "#ed7953"
             ],
             [
              0.7777777777777778,
              "#fb9f3a"
             ],
             [
              0.8888888888888888,
              "#fdca26"
             ],
             [
              1,
              "#f0f921"
             ]
            ],
            "type": "heatmap"
           }
          ],
          "histogram": [
           {
            "marker": {
             "pattern": {
              "fillmode": "overlay",
              "size": 10,
              "solidity": 0.2
             }
            },
            "type": "histogram"
           }
          ],
          "histogram2d": [
           {
            "colorbar": {
             "outlinewidth": 0,
             "ticks": ""
            },
            "colorscale": [
             [
              0,
              "#0d0887"
             ],
             [
              0.1111111111111111,
              "#46039f"
             ],
             [
              0.2222222222222222,
              "#7201a8"
             ],
             [
              0.3333333333333333,
              "#9c179e"
             ],
             [
              0.4444444444444444,
              "#bd3786"
             ],
             [
              0.5555555555555556,
              "#d8576b"
             ],
             [
              0.6666666666666666,
              "#ed7953"
             ],
             [
              0.7777777777777778,
              "#fb9f3a"
             ],
             [
              0.8888888888888888,
              "#fdca26"
             ],
             [
              1,
              "#f0f921"
             ]
            ],
            "type": "histogram2d"
           }
          ],
          "histogram2dcontour": [
           {
            "colorbar": {
             "outlinewidth": 0,
             "ticks": ""
            },
            "colorscale": [
             [
              0,
              "#0d0887"
             ],
             [
              0.1111111111111111,
              "#46039f"
             ],
             [
              0.2222222222222222,
              "#7201a8"
             ],
             [
              0.3333333333333333,
              "#9c179e"
             ],
             [
              0.4444444444444444,
              "#bd3786"
             ],
             [
              0.5555555555555556,
              "#d8576b"
             ],
             [
              0.6666666666666666,
              "#ed7953"
             ],
             [
              0.7777777777777778,
              "#fb9f3a"
             ],
             [
              0.8888888888888888,
              "#fdca26"
             ],
             [
              1,
              "#f0f921"
             ]
            ],
            "type": "histogram2dcontour"
           }
          ],
          "mesh3d": [
           {
            "colorbar": {
             "outlinewidth": 0,
             "ticks": ""
            },
            "type": "mesh3d"
           }
          ],
          "parcoords": [
           {
            "line": {
             "colorbar": {
              "outlinewidth": 0,
              "ticks": ""
             }
            },
            "type": "parcoords"
           }
          ],
          "pie": [
           {
            "automargin": true,
            "type": "pie"
           }
          ],
          "scatter": [
           {
            "fillpattern": {
             "fillmode": "overlay",
             "size": 10,
             "solidity": 0.2
            },
            "type": "scatter"
           }
          ],
          "scatter3d": [
           {
            "line": {
             "colorbar": {
              "outlinewidth": 0,
              "ticks": ""
             }
            },
            "marker": {
             "colorbar": {
              "outlinewidth": 0,
              "ticks": ""
             }
            },
            "type": "scatter3d"
           }
          ],
          "scattercarpet": [
           {
            "marker": {
             "colorbar": {
              "outlinewidth": 0,
              "ticks": ""
             }
            },
            "type": "scattercarpet"
           }
          ],
          "scattergeo": [
           {
            "marker": {
             "colorbar": {
              "outlinewidth": 0,
              "ticks": ""
             }
            },
            "type": "scattergeo"
           }
          ],
          "scattergl": [
           {
            "marker": {
             "colorbar": {
              "outlinewidth": 0,
              "ticks": ""
             }
            },
            "type": "scattergl"
           }
          ],
          "scattermap": [
           {
            "marker": {
             "colorbar": {
              "outlinewidth": 0,
              "ticks": ""
             }
            },
            "type": "scattermap"
           }
          ],
          "scattermapbox": [
           {
            "marker": {
             "colorbar": {
              "outlinewidth": 0,
              "ticks": ""
             }
            },
            "type": "scattermapbox"
           }
          ],
          "scatterpolar": [
           {
            "marker": {
             "colorbar": {
              "outlinewidth": 0,
              "ticks": ""
             }
            },
            "type": "scatterpolar"
           }
          ],
          "scatterpolargl": [
           {
            "marker": {
             "colorbar": {
              "outlinewidth": 0,
              "ticks": ""
             }
            },
            "type": "scatterpolargl"
           }
          ],
          "scatterternary": [
           {
            "marker": {
             "colorbar": {
              "outlinewidth": 0,
              "ticks": ""
             }
            },
            "type": "scatterternary"
           }
          ],
          "surface": [
           {
            "colorbar": {
             "outlinewidth": 0,
             "ticks": ""
            },
            "colorscale": [
             [
              0,
              "#0d0887"
             ],
             [
              0.1111111111111111,
              "#46039f"
             ],
             [
              0.2222222222222222,
              "#7201a8"
             ],
             [
              0.3333333333333333,
              "#9c179e"
             ],
             [
              0.4444444444444444,
              "#bd3786"
             ],
             [
              0.5555555555555556,
              "#d8576b"
             ],
             [
              0.6666666666666666,
              "#ed7953"
             ],
             [
              0.7777777777777778,
              "#fb9f3a"
             ],
             [
              0.8888888888888888,
              "#fdca26"
             ],
             [
              1,
              "#f0f921"
             ]
            ],
            "type": "surface"
           }
          ],
          "table": [
           {
            "cells": {
             "fill": {
              "color": "#EBF0F8"
             },
             "line": {
              "color": "white"
             }
            },
            "header": {
             "fill": {
              "color": "#C8D4E3"
             },
             "line": {
              "color": "white"
             }
            },
            "type": "table"
           }
          ]
         },
         "layout": {
          "annotationdefaults": {
           "arrowcolor": "#2a3f5f",
           "arrowhead": 0,
           "arrowwidth": 1
          },
          "autotypenumbers": "strict",
          "coloraxis": {
           "colorbar": {
            "outlinewidth": 0,
            "ticks": ""
           }
          },
          "colorscale": {
           "diverging": [
            [
             0,
             "#8e0152"
            ],
            [
             0.1,
             "#c51b7d"
            ],
            [
             0.2,
             "#de77ae"
            ],
            [
             0.3,
             "#f1b6da"
            ],
            [
             0.4,
             "#fde0ef"
            ],
            [
             0.5,
             "#f7f7f7"
            ],
            [
             0.6,
             "#e6f5d0"
            ],
            [
             0.7,
             "#b8e186"
            ],
            [
             0.8,
             "#7fbc41"
            ],
            [
             0.9,
             "#4d9221"
            ],
            [
             1,
             "#276419"
            ]
           ],
           "sequential": [
            [
             0,
             "#0d0887"
            ],
            [
             0.1111111111111111,
             "#46039f"
            ],
            [
             0.2222222222222222,
             "#7201a8"
            ],
            [
             0.3333333333333333,
             "#9c179e"
            ],
            [
             0.4444444444444444,
             "#bd3786"
            ],
            [
             0.5555555555555556,
             "#d8576b"
            ],
            [
             0.6666666666666666,
             "#ed7953"
            ],
            [
             0.7777777777777778,
             "#fb9f3a"
            ],
            [
             0.8888888888888888,
             "#fdca26"
            ],
            [
             1,
             "#f0f921"
            ]
           ],
           "sequentialminus": [
            [
             0,
             "#0d0887"
            ],
            [
             0.1111111111111111,
             "#46039f"
            ],
            [
             0.2222222222222222,
             "#7201a8"
            ],
            [
             0.3333333333333333,
             "#9c179e"
            ],
            [
             0.4444444444444444,
             "#bd3786"
            ],
            [
             0.5555555555555556,
             "#d8576b"
            ],
            [
             0.6666666666666666,
             "#ed7953"
            ],
            [
             0.7777777777777778,
             "#fb9f3a"
            ],
            [
             0.8888888888888888,
             "#fdca26"
            ],
            [
             1,
             "#f0f921"
            ]
           ]
          },
          "colorway": [
           "#636efa",
           "#EF553B",
           "#00cc96",
           "#ab63fa",
           "#FFA15A",
           "#19d3f3",
           "#FF6692",
           "#B6E880",
           "#FF97FF",
           "#FECB52"
          ],
          "font": {
           "color": "#2a3f5f"
          },
          "geo": {
           "bgcolor": "white",
           "lakecolor": "white",
           "landcolor": "#E5ECF6",
           "showlakes": true,
           "showland": true,
           "subunitcolor": "white"
          },
          "hoverlabel": {
           "align": "left"
          },
          "hovermode": "closest",
          "mapbox": {
           "style": "light"
          },
          "paper_bgcolor": "white",
          "plot_bgcolor": "#E5ECF6",
          "polar": {
           "angularaxis": {
            "gridcolor": "white",
            "linecolor": "white",
            "ticks": ""
           },
           "bgcolor": "#E5ECF6",
           "radialaxis": {
            "gridcolor": "white",
            "linecolor": "white",
            "ticks": ""
           }
          },
          "scene": {
           "xaxis": {
            "backgroundcolor": "#E5ECF6",
            "gridcolor": "white",
            "gridwidth": 2,
            "linecolor": "white",
            "showbackground": true,
            "ticks": "",
            "zerolinecolor": "white"
           },
           "yaxis": {
            "backgroundcolor": "#E5ECF6",
            "gridcolor": "white",
            "gridwidth": 2,
            "linecolor": "white",
            "showbackground": true,
            "ticks": "",
            "zerolinecolor": "white"
           },
           "zaxis": {
            "backgroundcolor": "#E5ECF6",
            "gridcolor": "white",
            "gridwidth": 2,
            "linecolor": "white",
            "showbackground": true,
            "ticks": "",
            "zerolinecolor": "white"
           }
          },
          "shapedefaults": {
           "line": {
            "color": "#2a3f5f"
           }
          },
          "ternary": {
           "aaxis": {
            "gridcolor": "white",
            "linecolor": "white",
            "ticks": ""
           },
           "baxis": {
            "gridcolor": "white",
            "linecolor": "white",
            "ticks": ""
           },
           "bgcolor": "#E5ECF6",
           "caxis": {
            "gridcolor": "white",
            "linecolor": "white",
            "ticks": ""
           }
          },
          "title": {
           "x": 0.05
          },
          "xaxis": {
           "automargin": true,
           "gridcolor": "white",
           "linecolor": "white",
           "ticks": "",
           "title": {
            "standoff": 15
           },
           "zerolinecolor": "white",
           "zerolinewidth": 2
          },
          "yaxis": {
           "automargin": true,
           "gridcolor": "white",
           "linecolor": "white",
           "ticks": "",
           "title": {
            "standoff": 15
           },
           "zerolinecolor": "white",
           "zerolinewidth": 2
          }
         }
        },
        "title": {
         "text": "Synthetic dataset for Nearest Neighbor"
        },
        "width": 600,
        "xaxis": {
         "title": {
          "text": "X1"
         }
        },
        "yaxis": {
         "title": {
          "text": "X2"
         }
        }
       }
      }
     },
     "metadata": {},
     "output_type": "display_data"
    }
   ],
   "source": [
    "X, y = synthetic_dataset_knn(n_samples=500, std=0.8, noise=0.2, random_state=42)\n",
    "correlation = np.corrcoef(X[:,0], X[:,1])[0,1]\n",
    "print(\"Correlation:\", correlation)\n",
    "draw_plot(X,y,\"Synthetic dataset for Nearest Neighbor\")"
   ]
  }
 ],
 "metadata": {
  "kernelspec": {
   "display_name": "Python 3",
   "language": "python",
   "name": "python3"
  },
  "language_info": {
   "codemirror_mode": {
    "name": "ipython",
    "version": 3
   },
   "file_extension": ".py",
   "mimetype": "text/x-python",
   "name": "python",
   "nbconvert_exporter": "python",
   "pygments_lexer": "ipython3",
   "version": "3.12.6"
  }
 },
 "nbformat": 4,
 "nbformat_minor": 5
}
