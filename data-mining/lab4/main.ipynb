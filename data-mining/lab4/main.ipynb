{
 "cells": [
  {
   "cell_type": "markdown",
   "id": "4c91b748",
   "metadata": {},
   "source": [
    "# Lab 4: Clustering"
   ]
  },
  {
   "cell_type": "markdown",
   "id": "c4d1c757",
   "metadata": {},
   "source": [
    "## Libraries"
   ]
  },
  {
   "cell_type": "code",
   "execution_count": 30,
   "id": "2b7130b8",
   "metadata": {},
   "outputs": [],
   "source": [
    "from sklearn.datasets import make_blobs\n",
    "from sklearn.cluster import KMeans, DBSCAN\n",
    "import plotly.graph_objects as go\n",
    "from plotly.subplots import make_subplots\n",
    "from sklearn.preprocessing import LabelEncoder\n",
    "import numpy as np\n",
    "import pandas as pd\n",
    "import plotly.figure_factory as ff\n",
    "from scipy.cluster.hierarchy import linkage"
   ]
  },
  {
   "cell_type": "markdown",
   "id": "707905bf",
   "metadata": {},
   "source": [
    "## Utility Functions"
   ]
  },
  {
   "cell_type": "code",
   "execution_count": 32,
   "id": "abc2a4a4",
   "metadata": {},
   "outputs": [],
   "source": [
    "def plot_data(fig, X, y, clusters=None, kmean_centers=None, row=1, col=1):\n",
    "    \n",
    "    # Add data points\n",
    "    for k in range(clusters + 1):\n",
    "        mask = y == k\n",
    "        fig.add_trace(go.Scatter(\n",
    "            x=X[mask, 0],\n",
    "            y=X[mask, 1],\n",
    "            mode='markers',\n",
    "            name=f'Cluster {k}',\n",
    "            marker=dict(\n",
    "                size=8,\n",
    "                opacity=0.7,\n",
    "                line=dict(width=1, color='white')\n",
    "            )\n",
    "        ), row=row, col=col)\n",
    "\n",
    "    # Update layout\n",
    "    fig.update_xaxes(\n",
    "        title=\"X1\",\n",
    "        range=[-15, 15],\n",
    "        showgrid=True,\n",
    "        gridwidth=1,\n",
    "        gridcolor=\"LightGrey\",\n",
    "        row=row,\n",
    "        col=col\n",
    "    )\n",
    "\n",
    "    fig.update_yaxes(\n",
    "        title=\"X2\",\n",
    "        range=[-15, 15],\n",
    "        showgrid=True,\n",
    "        gridwidth=1,\n",
    "        gridcolor=\"LightGrey\",\n",
    "        row=row,\n",
    "        col=col\n",
    "    )\n",
    "\n",
    "    # Add center lines\n",
    "    fig.add_shape(\n",
    "        type=\"line\", x0=0, y0=-10, x1=0, y1=10,\n",
    "        line=dict(color=\"Black\", width=1, dash=\"dash\"),\n",
    "        row=row,\n",
    "        col=col\n",
    "    )\n",
    "    fig.add_shape(\n",
    "        type=\"line\", x0=-10, y0=0, x1=10, y1=0,\n",
    "        line=dict(color=\"Black\", width=1, dash=\"dash\"),\n",
    "        row=row,\n",
    "        col=col\n",
    "    )\n",
    "\n",
    "    # Hide legends\n",
    "    fig.update_layout(showlegend=False)\n",
    "\n",
    "    if kmean_centers is not None:\n",
    "        fig.add_trace(go.Scatter(\n",
    "            x=kmean_centers[:, 0],\n",
    "            y=kmean_centers[:, 1],\n",
    "            mode='markers',\n",
    "            name='Centers',\n",
    "            marker=dict(\n",
    "                size=12,\n",
    "                opacity=0.7,\n",
    "                line=dict(width=1, color='white')\n",
    "            )\n",
    "        ), row=row, col=col)"
   ]
  },
  {
   "cell_type": "code",
   "execution_count": 33,
   "id": "eb69d562",
   "metadata": {},
   "outputs": [],
   "source": [
    "def generate_cluster_data(\n",
    "    n: int = 10000,\n",
    "    centers: int = 4, \n",
    "    std: float = 0.6, \n",
    "    random_state: int = 42\n",
    ") -> tuple[np.ndarray, np.ndarray]:\n",
    "    \n",
    "    X, y = make_blobs(\n",
    "        n_samples=n, \n",
    "        centers=centers,\n",
    "        center_box=(-10, 10), \n",
    "        cluster_std=std, \n",
    "        random_state=random_state)\n",
    "    \n",
    "    return X, y"
   ]
  },
  {
   "cell_type": "code",
   "execution_count": 34,
   "id": "0ef878aa",
   "metadata": {},
   "outputs": [],
   "source": [
    "def plot_elbow_method(sse, K):\n",
    "    fig = go.Figure()\n",
    "    fig.add_trace(go.Scatter(\n",
    "        x=list(K),\n",
    "        y=sse,\n",
    "        mode='lines+markers',\n",
    "        name='SSE',\n",
    "        line=dict(color='royalblue', width=2),\n",
    "        marker=dict(size=8, color='royalblue'),\n",
    "        hovertemplate='K=%{x}<br>SSE=%{y:.2f}<extra></extra>'\n",
    "    ))\n",
    "    fig.update_layout(\n",
    "        title='Elbow Method For Optimal K',\n",
    "        title_x=0.5,\n",
    "        xaxis=dict(\n",
    "            title='Number of Clusters (K)',\n",
    "            tickmode='linear',\n",
    "            tick0=1,\n",
    "            dtick=1\n",
    "        ),\n",
    "        yaxis=dict(title='Sum of Squared Errors (SSE)'),\n",
    "        hovermode='x',\n",
    "        template='plotly_white',\n",
    "        width=500,\n",
    "        height=500,\n",
    "        showlegend=False\n",
    "    )\n",
    "    fig.update_xaxes(showgrid=True, gridwidth=1, gridcolor='lightgray')\n",
    "    fig.update_yaxes(showgrid=True, gridwidth=1, gridcolor='lightgray')\n",
    "    fig.show()"
   ]
  },
  {
   "cell_type": "markdown",
   "id": "4b5f4e59",
   "metadata": {},
   "source": [
    "## Asignment 1"
   ]
  },
  {
   "cell_type": "markdown",
   "id": "d0c45a0f",
   "metadata": {},
   "source": [
    "### (a) Generating data"
   ]
  },
  {
   "cell_type": "code",
   "execution_count": 35,
   "id": "c72dba35",
   "metadata": {},
   "outputs": [
    {
     "name": "stdout",
     "output_type": "stream",
     "text": [
      "X shape:  (300, 2)\n",
      "y shape:  (300,)\n"
     ]
    }
   ],
   "source": [
    "clusters = 4\n",
    "data_points = 300\n",
    "std = 0.6\n",
    "X, y = generate_cluster_data(n = data_points, centers=clusters, std=std, random_state=1505)\n",
    "\n",
    "print(\"X shape: \", X.shape)\n",
    "print(\"y shape: \", y.shape)\n",
    "\n"
   ]
  },
  {
   "cell_type": "code",
   "execution_count": 36,
   "id": "9dd2d223",
   "metadata": {},
   "outputs": [
    {
     "data": {
      "application/vnd.plotly.v1+json": {
       "config": {
        "plotlyServerURL": "https://plot.ly"
       },
       "data": [
        {
         "marker": {
          "line": {
           "color": "white",
           "width": 1
          },
          "opacity": 0.7,
          "size": 8
         },
         "mode": "markers",
         "name": "Cluster 0",
         "type": "scatter",
         "x": {
          "bdata": "WZj6NlOLBkAUxDN6D8MCQOzUayOn/gdAlhpwfl2TCUAg2uFc9D4MQOfA66tWggJA/FrgJVrlB0Ag6wxfaJ0JQPHY+LC9fgNA7d7mkiHJCUDGUJgAlyMBQC2ovRY5OwpAPEdug47Y/j8Nd0wzKBgDQPKwkyxPsvk/KMuWo32w/j+hIlP/20QOQKP325pzOgBA1Gd7mgEVC0Bt/xz+BTj/P15yt7srcAFAfQxIfcjYA0D085xV9EIGQAyKylOtoAhACy233XlIAkB8eTsK7Ob/P9r6bjTagAhAQo20ThihB0Ab7LEhkRYFQM77zVrGAwZAtQBrbXx1CECPDBBbstYCQCAn8+P93/g/F7lWGSC7DEBgbnMKhpoHQHh4nompfQZAIKTGwqMcBkAXGUOSbPT3P3iBly0ObgRAGK3M7vNSBkCkkMHmfWMBQJ82zHKcjgRAplt2yCU4CUBI8gBv3Q8BQHsfnfiuXApAx60CXU/fDkAs4uGODyXyP+0M1gkH4wxAaMTLnRJCBUCd7t04/4UAQDICxYY6GgNAuU00GmRrCEDROKFJ3X4EQEpu8s8UQABA//q27rvyCEAzJEDalm0CQMZ5h3ktlwNAEY11vUvXBkDHTKXCWAP7P8/ni/UcBQxAvzyG5YA/B0BOFshbDJoHQNucxXGyKglAK1ONGyTrCkC+/62WP9gDQKcAxeeTpgpA8sO6JvAtB0BTSk8DpwACQAKV+ZWtGAlA7bOlcfyZEEBeVcZu9K0FQC0ZjYVBAgZAun465rsdA0D6xkLWPSwHQMMN1jiBt/0/",
          "dtype": "f8"
         },
         "xaxis": "x",
         "y": {
          "bdata": "TE0e7PkXDcDSxU6OUyYTwLqmltePDRLA1l6UE8mAEcDzRiUDulwTwPACtFuARBTANJ8WShfTFMDHreFnhMYTwArctAsCAhLALkJ2Wa6fFMBsst2lNI0QwCCs7cwTLRjAw/TtvkVzEMDsNq9SGxAVwGJnnmXgRBHAXvkyMAaREsAJyGOw1pkMwK1Ils+AABPAS4UNYFhgDsA/DuUdDmESwJsAlMQJuAjA3jDCZb6SD8DNpXxUaSMQwEkH6+NpdhPAJERGx8vMEcB1Zqne7PkRwGztQdinwQvAKW5w6oltEsAuR86aBYcSwGOUC0Q0QxPAx6VDXvv5EMCUj2FBZf4SwE5vyCwoLw/AMIwVPHfYDcBacsEE+/gMwP8TAG8UQxfAsl/vZQj1EMD0w00nfqkXwOrcYanGHRPAocpuWpqHEcDHwxlVyrwMwC2MqbsorhbAgkkpDQ6pEcAumGFFc98PwH2kJeiFGRLABRpOSLocE8C0qs0JkEYKwHjURClOoBDASwuBkvR3FcCda6I0T3wOwBzkd/D1fBXAJaRMmSE3EMA7PYtOtisQwJ62DR/DHhDAsY3sFcxoEMCLRg0u7AUPwPxkFehRkA3ALbqHwBLoDMDZ3dSb8O0SwMP8ivPMAhTAaAX/6Il+EcBd07Xs15YQwNHU9cOaHRPA3WGg5firEMAhBwJeFNgPwIp4zXPlnRXAs+60KvnFE8BiQ63JlGkQwNKw0UbpjhXA01g9GECWE8ATKLYZD0YTwC8sfDcF9xLAKX4V5xP+C8DnyTC+fU0TwGpesdnvRg7A",
          "dtype": "f8"
         },
         "yaxis": "y"
        },
        {
         "marker": {
          "line": {
           "color": "white",
           "width": 1
          },
          "opacity": 0.7,
          "size": 8
         },
         "mode": "markers",
         "name": "Cluster 1",
         "type": "scatter",
         "x": {
          "bdata": "VBP5TfgQGkBS1bVunR4aQI10deuwFRdAoZPPFRU2HEDUoNaDP9UaQGwEBmxq1B9A+wRCcmMaG0DmeIVFzY8bQH6bigdtIhlA9HtSRolKGkDBVWN7vDIaQOO26TtKtxxAPnTl22RZG0ACRF872fwaQN4HUo3Y9hlA1VLjnZT9HkD11SY7Vb8dQMNbH4mW9x1AP95t3Q3nGkDzTyKIEt0cQHZXqrI7tB9A4gjgYtoyGkCG6eroLjIaQDR0gopwyx5AaX3T3jnfHkDaaPEVelMbQOAfofNB3hxAwBQRIghfG0BRgHoBqSgdQOt8zlKj/BxAr5U/9hSqGkCoyWTZ6y0dQGvU+QjMThlAjl3Sm1W2HEA/b27hPMQgQMw9pmjC9RpA5CcgxBeoHEDfMU9ByHUdQOu6sMC2jBpAOr83w3CTFkD1yabnEisfQNigwooh2B9A97nra4wlG0CGd7zzAOccQCAsV++vrBtASGbTfwfMHUAb7HsHqWUgQCZZykT+3RxA07gAji4tG0BHkwGx77UcQCZg+xOomx9AlFFgywMpG0DqumPdyZoeQKgHxCspWxtAXUZcFJhGHEDNWu28Z2caQBxHZYoSHR5AneyEvko2H0CY6vuN3BgeQIx5E5JokR5AQ2pnTWpXG0AzztwE0xYcQEQV/3PktB1AMusKsmdSHEBftVqOozYeQFE+yXBG+BlAG8YOSRRBG0BS7/cjgF4dQFZV9VRsvh1A90IjxP6SHECHgggUYbUcQLRRHxuOAx5AHFl5KPAEIECD6k1TIsseQKjhciuG5BtA",
          "dtype": "f8"
         },
         "xaxis": "x",
         "y": {
          "bdata": "OhvteIkdI0CKsPm8RMUlQJXAncds/CJATBC6nWeoI0DO5Sx/NfIhQELtfO1V7SNA48KJkRnbI0CGlVFvXWolQG196JI4oiJAT9SzVY+2I0Cw93T40K0iQLPbCwNhXSNAPvIVdSLhI0B8Jaw/aUwkQP5730AGtSJAbq9R/VwUJUCzzp55S1QjQNndixmVnCFARR6+VhobI0Ck1hTXqC0jQBit1fcSxyFAgBWfrFFCJEB51TZwomYiQGUDFJAcPSVAZH9b72QOIUCbngDU/dkiQOYTE/L03yJAJdebjWILJUB9eNzTCREiQId0HuEgDSJAlRoPjAV0JECBHKpbXnclQKwEazFZ8SJAQfp7SWGwI0D8e6AVphUjQEmXYvZedyNAwNuEy0YxJEDb2HYw2zkkQL7CmoSgliNAfKfJohuZI0CSFCOZSSUjQDDKQwS4CyVANX1nkvWXIUDYMfJKOo8kQKgmxFyLqSNAwGXgiwqbJUBH9kRhPVUkQKGJPYCS5iNATx2bLFO/I0DiOkA7vasiQBBWHX+UViNA28AfKHSLIkBviSocLgkkQKJrGkch9iJA/PdBDptDIkC3QJXeWegkQLtJ3PgiLCRA79RH19ELJUADi6VNzgAkQCVxnRDN+iNAEVEJuqaZIUBAfFEdeZ8jQHuVNQq7piNAfio2AxovJkBQ15yiPUIhQDrtxJUrOyJAGYibE7NrIkD5Xi6sQCEjQPOCim1luyRAD+9RiC1mI0DocB/mxfcjQKgFowVTvSJAWqJ1qzN4I0D9Axupa1slQES2JHolpiNA",
          "dtype": "f8"
         },
         "yaxis": "y"
        },
        {
         "marker": {
          "line": {
           "color": "white",
           "width": 1
          },
          "opacity": 0.7,
          "size": 8
         },
         "mode": "markers",
         "name": "Cluster 2",
         "type": "scatter",
         "x": {
          "bdata": "oSAYv/QA9L8oR5DjlpH8v+IxljdmKv2/wYOLr95x+r+Ky/dRfv3cvzNvEawkFQbAv1xzWgHe7b+5gRsE5ST7vzF98ZI4Peu//xguaXoABsDCniVZtrv0v+DtkV1XrvC/W4JXExesAMD3RRO2yp3wv5aOzQsnUgLAlKIthu5P9L8OUglrND37vyjjiONwfvO/XDHkO1Ht8784BeJIjusCwL4WxXmxJfm/mRjUiWzt77+T67f5V4flvy+A4b0go/K/we+hemQz/79C69DzlnH4v2+2nrGKLAXAcvXR/ICBAMC3+wm9goXzv0ewGSEUPP2/D1lkCMsk+L+25uztZXv5v5sXPZTYCfW/PHQlRS7l/b9r9WPuf3fwvycD0mNvOOe/jc3DX8Cj+r+rKq+W5V4DwAMR20F/6vG/saawKSZ/7b+LX+ESXs39v6y543i1hgLAcNuEg9Ni5r+mW4tx9wL3v/gmjLmNPPK/QJNJDifRAsDn9jUlQA/9v9cAIbG+lfa/JCWFgD4//7+uj4FF+77zv3+i2t6AZPm/usQ+7mz//b9nJ1lmrm4BwN8HzUkkafi/gQF1D5rz/L9g5wPwIDn/v6rpM0OZTv+/GZ5XXnUXDsBWqMN2TPYCwIX4JPhoeP6/7hOIPB3UA8Ct6SiSW9P7vzsqiduHXOy/NDDCLOzb678MByNO46vyv/WxKQ1kdgDAlQPlR0LFy79uHBWCHcQFwGeV7fKAIem/jpBDPhDn979+cLYycIPtvxkPXxgGd/e/uDbC1Wom8L+hkEbrD136v51en6wQeQDA",
          "dtype": "f8"
         },
         "xaxis": "x",
         "y": {
          "bdata": "RTYuIQMOGsDyiR4d77YVwFDr4jsIuRvA91UrnZ0YGMATyHXcyI4YwCytGIEA3hrAn2QY3Hp1GcBjO5A9k0kbwAndwNw33RjAybPsiUlTGsDxKkoMblYcwNxQpzBv7RzA14VAQhuaGsDMNq9t79sVwHyKhssKhxrAiMep6m7RF8C+A7fP3soXwNGPtowbthrAaulayWkGHMDg9wBlnmQbwPI3IMjvUxfAQCsBrSMFG8AElxmE3fAVwPYZDj+0BBrAWowZoZbzHcCBOk158HgWwC5NEOKtSBbAl3KDHmt+FsCfyneP1p0fwF4cIhMq9hnA2A2qnpRWG8AFko5rk4sdwKsfFxApdxzAnM5E80mnGcArIZZstswcwADsu+PbSRfANJmhfarwGcAq90g1InkYwFAl7l3LaxrAXcyLzv/4GcDTjgbYvWAZwOrisx7g6BvAeAGGvSzEGcC7fUSs/IocwFsNE1f0tBvA3t0M8KB4HsAZpttdkEQbwGizyFUrDB3ARFnIm+2uGMAecpvbGl0ZwAGem9LbkRnAD0jfJBO/GMB+TJPrk5gZwONsxmQaVBzAmTIb1Xq7GsB2d3qB0nQbwJs34UPFpBvAXPgI0UnQG8DrEpkyBFkcwB4PpHqNmxnAtWr6Hg/2GMAQtuIx7lYcwAIpVxzoxRzAASP+qMxPGcAX/1P9BCMcwEKJ5Hn7/RrADSIGudMuGsCPhS9mYEsewIoK/8DRFx7ABYoO+ElQGsBC0wNZ2R8cwJjb0ZO5sh3AmKsf31mOG8CFnBDOTXwZwGB+RlF4KxrA",
          "dtype": "f8"
         },
         "yaxis": "y"
        },
        {
         "marker": {
          "line": {
           "color": "white",
           "width": 1
          },
          "opacity": 0.7,
          "size": 8
         },
         "mode": "markers",
         "name": "Cluster 3",
         "type": "scatter",
         "x": {
          "bdata": "be9IunzK97/vrVZD5r77v4uX07R7Rvi/m3ymvoEGBMDPdOiRE0T4v5pKidm0V/O/dNTHkIrn4r+4sw9oN831v460fX1UZADAB4JZJErmCcC9NrxttQf2vwZn9QbTw/m/K1vyXLan+b+EL0cA6NjzvxGa49vNKQPAef21nVJH/7+Efy1bzRcGwJYKCzmjLu2/jZTFQ5ia+79TvQFNTMcAwGY8a3yLH+e/7ACSi9xX47+giZ2r7f/8v4SSu5ZdMQHAYW1oxdOw9b/qOOOnk3rwvyccsWX7OwPAmt/4UXqD+r/j68hmfVT9vwqBhOS57dy/NOVXmmLYAcCY0NQrQDr7v7G5iJ3v3fO/pL7nxPpk678xS2oMDx0FwDAKevDDWwTAfqx1KOuQ+b927uSw31f/v86Qps7swPO/OxmxJSw5AMD3L/HPLtDxv5sFZEe3ugPAdXwLOnoi6b+y4OYZw3f6v5QuHrzfNgPAITBY5T9W+L+Fo2dd8dXzv/uoYyURDPq/YtCzwEaD87+Cp+7NCEy0P6flg6nmHfC/aPjRZt7R8r+huIpDnFH4vyp34x43rvm/TWx6oEfTAMAoKjdaU/70v34EKHM9bP2/QL8lQ7wJ7b9CxcdEpAHxvwuNWfylOOW/j3l6Dicl8r+TUF0MSd/wvwcXpCvr2Pm/Rmhe41kE4r/zdXKBWg7sv6ML0OstmfC/nh+PO5fJ5L/QxGXDFvX8vzALboLRYPO/z727UwP86L+0X1fWjwsCwGmjAsny1f6/mMLiqHM48r/D+0Bo2jYBwEgQrIq7Z+e/",
          "dtype": "f8"
         },
         "xaxis": "x",
         "y": {
          "bdata": "h7X+7P8SA0A2IzgbvAUAQELIFh7QT/A/FgGRl2or/D8tYDGyYTfqP/ev0wj0XQJAyuHTaj628z/xAFnQTOn0P9UC++uDzvQ/ypyyfB2S+T8PyYAchh/0P0w2S8lxMQZAfqNvRFSY8D9vRqEkExj/PxIqS1hYctU/w4xURK43AUBwGw3FgXcDQAKNYjP+5gBAvSIxmzV69j+OYuSzIoD4P2BYfVXr2ABAx9LKGjb+9j/ZPM4C5TfvP9JLNuF9vv0/e/DKv6DYAUCDt/Iv4bYCQBZkLFX+r/s/Y9W5DfH09j97aPdhnRnkP/Tcaj3DlAJAAV5ii+e2AkDDDL26ZcHjP4IzdFxgRwdA6GETsEva8j8pIJ+OA2b6P51sg4XztwhA1SKflnceAEBYBWs9qKTyP1gabmH8+c4/FxxPx6o4+T9JgaB4nzPzPySe4oxNkfU/wTT0utjw7D8OKx6orVbqP9KXxjlCHP0/s0uT9tfNAUBkY97PJCbyPw6TvBSWJvo/AVn9Yu0h8j+tOD4/kAH6P0CqVlYc2QBAwJN5buwzAkAvK8hq8T76P7JtcrJXafg/gTCYfRXS9j+M1VM29TbxP9Stp9mOpfM/WiD2/2jt+T8D/stkV/P/Pw4iR16wg/8/T+6JmXuU9T9JnKhhIzgGQIQv93uY5/g/R7WZIaXA9D8ce7T2qw35P2s6TpM9RwNA7a97saRI5z+NI0sUIBHvP5Zy8RxUDABAo9zvYpFs+z9Nc9gTzkf0P41sAAn0J/I/jtd3L2GFAUBItSLcwD7iP6AzqEgBL9i/",
          "dtype": "f8"
         },
         "yaxis": "y"
        },
        {
         "marker": {
          "line": {
           "color": "white",
           "width": 1
          },
          "opacity": 0.7,
          "size": 8
         },
         "mode": "markers",
         "name": "Cluster 4",
         "type": "scatter",
         "x": [],
         "xaxis": "x",
         "y": [],
         "yaxis": "y"
        }
       ],
       "layout": {
        "shapes": [
         {
          "line": {
           "color": "Black",
           "dash": "dash",
           "width": 1
          },
          "type": "line",
          "x0": 0,
          "x1": 0,
          "xref": "x",
          "y0": -10,
          "y1": 10,
          "yref": "y"
         },
         {
          "line": {
           "color": "Black",
           "dash": "dash",
           "width": 1
          },
          "type": "line",
          "x0": -10,
          "x1": 10,
          "xref": "x",
          "y0": 0,
          "y1": 0,
          "yref": "y"
         }
        ],
        "showlegend": false,
        "template": {
         "data": {
          "bar": [
           {
            "error_x": {
             "color": "#2a3f5f"
            },
            "error_y": {
             "color": "#2a3f5f"
            },
            "marker": {
             "line": {
              "color": "#E5ECF6",
              "width": 0.5
             },
             "pattern": {
              "fillmode": "overlay",
              "size": 10,
              "solidity": 0.2
             }
            },
            "type": "bar"
           }
          ],
          "barpolar": [
           {
            "marker": {
             "line": {
              "color": "#E5ECF6",
              "width": 0.5
             },
             "pattern": {
              "fillmode": "overlay",
              "size": 10,
              "solidity": 0.2
             }
            },
            "type": "barpolar"
           }
          ],
          "carpet": [
           {
            "aaxis": {
             "endlinecolor": "#2a3f5f",
             "gridcolor": "white",
             "linecolor": "white",
             "minorgridcolor": "white",
             "startlinecolor": "#2a3f5f"
            },
            "baxis": {
             "endlinecolor": "#2a3f5f",
             "gridcolor": "white",
             "linecolor": "white",
             "minorgridcolor": "white",
             "startlinecolor": "#2a3f5f"
            },
            "type": "carpet"
           }
          ],
          "choropleth": [
           {
            "colorbar": {
             "outlinewidth": 0,
             "ticks": ""
            },
            "type": "choropleth"
           }
          ],
          "contour": [
           {
            "colorbar": {
             "outlinewidth": 0,
             "ticks": ""
            },
            "colorscale": [
             [
              0,
              "#0d0887"
             ],
             [
              0.1111111111111111,
              "#46039f"
             ],
             [
              0.2222222222222222,
              "#7201a8"
             ],
             [
              0.3333333333333333,
              "#9c179e"
             ],
             [
              0.4444444444444444,
              "#bd3786"
             ],
             [
              0.5555555555555556,
              "#d8576b"
             ],
             [
              0.6666666666666666,
              "#ed7953"
             ],
             [
              0.7777777777777778,
              "#fb9f3a"
             ],
             [
              0.8888888888888888,
              "#fdca26"
             ],
             [
              1,
              "#f0f921"
             ]
            ],
            "type": "contour"
           }
          ],
          "contourcarpet": [
           {
            "colorbar": {
             "outlinewidth": 0,
             "ticks": ""
            },
            "type": "contourcarpet"
           }
          ],
          "heatmap": [
           {
            "colorbar": {
             "outlinewidth": 0,
             "ticks": ""
            },
            "colorscale": [
             [
              0,
              "#0d0887"
             ],
             [
              0.1111111111111111,
              "#46039f"
             ],
             [
              0.2222222222222222,
              "#7201a8"
             ],
             [
              0.3333333333333333,
              "#9c179e"
             ],
             [
              0.4444444444444444,
              "#bd3786"
             ],
             [
              0.5555555555555556,
              "#d8576b"
             ],
             [
              0.6666666666666666,
              "#ed7953"
             ],
             [
              0.7777777777777778,
              "#fb9f3a"
             ],
             [
              0.8888888888888888,
              "#fdca26"
             ],
             [
              1,
              "#f0f921"
             ]
            ],
            "type": "heatmap"
           }
          ],
          "histogram": [
           {
            "marker": {
             "pattern": {
              "fillmode": "overlay",
              "size": 10,
              "solidity": 0.2
             }
            },
            "type": "histogram"
           }
          ],
          "histogram2d": [
           {
            "colorbar": {
             "outlinewidth": 0,
             "ticks": ""
            },
            "colorscale": [
             [
              0,
              "#0d0887"
             ],
             [
              0.1111111111111111,
              "#46039f"
             ],
             [
              0.2222222222222222,
              "#7201a8"
             ],
             [
              0.3333333333333333,
              "#9c179e"
             ],
             [
              0.4444444444444444,
              "#bd3786"
             ],
             [
              0.5555555555555556,
              "#d8576b"
             ],
             [
              0.6666666666666666,
              "#ed7953"
             ],
             [
              0.7777777777777778,
              "#fb9f3a"
             ],
             [
              0.8888888888888888,
              "#fdca26"
             ],
             [
              1,
              "#f0f921"
             ]
            ],
            "type": "histogram2d"
           }
          ],
          "histogram2dcontour": [
           {
            "colorbar": {
             "outlinewidth": 0,
             "ticks": ""
            },
            "colorscale": [
             [
              0,
              "#0d0887"
             ],
             [
              0.1111111111111111,
              "#46039f"
             ],
             [
              0.2222222222222222,
              "#7201a8"
             ],
             [
              0.3333333333333333,
              "#9c179e"
             ],
             [
              0.4444444444444444,
              "#bd3786"
             ],
             [
              0.5555555555555556,
              "#d8576b"
             ],
             [
              0.6666666666666666,
              "#ed7953"
             ],
             [
              0.7777777777777778,
              "#fb9f3a"
             ],
             [
              0.8888888888888888,
              "#fdca26"
             ],
             [
              1,
              "#f0f921"
             ]
            ],
            "type": "histogram2dcontour"
           }
          ],
          "mesh3d": [
           {
            "colorbar": {
             "outlinewidth": 0,
             "ticks": ""
            },
            "type": "mesh3d"
           }
          ],
          "parcoords": [
           {
            "line": {
             "colorbar": {
              "outlinewidth": 0,
              "ticks": ""
             }
            },
            "type": "parcoords"
           }
          ],
          "pie": [
           {
            "automargin": true,
            "type": "pie"
           }
          ],
          "scatter": [
           {
            "fillpattern": {
             "fillmode": "overlay",
             "size": 10,
             "solidity": 0.2
            },
            "type": "scatter"
           }
          ],
          "scatter3d": [
           {
            "line": {
             "colorbar": {
              "outlinewidth": 0,
              "ticks": ""
             }
            },
            "marker": {
             "colorbar": {
              "outlinewidth": 0,
              "ticks": ""
             }
            },
            "type": "scatter3d"
           }
          ],
          "scattercarpet": [
           {
            "marker": {
             "colorbar": {
              "outlinewidth": 0,
              "ticks": ""
             }
            },
            "type": "scattercarpet"
           }
          ],
          "scattergeo": [
           {
            "marker": {
             "colorbar": {
              "outlinewidth": 0,
              "ticks": ""
             }
            },
            "type": "scattergeo"
           }
          ],
          "scattergl": [
           {
            "marker": {
             "colorbar": {
              "outlinewidth": 0,
              "ticks": ""
             }
            },
            "type": "scattergl"
           }
          ],
          "scattermap": [
           {
            "marker": {
             "colorbar": {
              "outlinewidth": 0,
              "ticks": ""
             }
            },
            "type": "scattermap"
           }
          ],
          "scattermapbox": [
           {
            "marker": {
             "colorbar": {
              "outlinewidth": 0,
              "ticks": ""
             }
            },
            "type": "scattermapbox"
           }
          ],
          "scatterpolar": [
           {
            "marker": {
             "colorbar": {
              "outlinewidth": 0,
              "ticks": ""
             }
            },
            "type": "scatterpolar"
           }
          ],
          "scatterpolargl": [
           {
            "marker": {
             "colorbar": {
              "outlinewidth": 0,
              "ticks": ""
             }
            },
            "type": "scatterpolargl"
           }
          ],
          "scatterternary": [
           {
            "marker": {
             "colorbar": {
              "outlinewidth": 0,
              "ticks": ""
             }
            },
            "type": "scatterternary"
           }
          ],
          "surface": [
           {
            "colorbar": {
             "outlinewidth": 0,
             "ticks": ""
            },
            "colorscale": [
             [
              0,
              "#0d0887"
             ],
             [
              0.1111111111111111,
              "#46039f"
             ],
             [
              0.2222222222222222,
              "#7201a8"
             ],
             [
              0.3333333333333333,
              "#9c179e"
             ],
             [
              0.4444444444444444,
              "#bd3786"
             ],
             [
              0.5555555555555556,
              "#d8576b"
             ],
             [
              0.6666666666666666,
              "#ed7953"
             ],
             [
              0.7777777777777778,
              "#fb9f3a"
             ],
             [
              0.8888888888888888,
              "#fdca26"
             ],
             [
              1,
              "#f0f921"
             ]
            ],
            "type": "surface"
           }
          ],
          "table": [
           {
            "cells": {
             "fill": {
              "color": "#EBF0F8"
             },
             "line": {
              "color": "white"
             }
            },
            "header": {
             "fill": {
              "color": "#C8D4E3"
             },
             "line": {
              "color": "white"
             }
            },
            "type": "table"
           }
          ]
         },
         "layout": {
          "annotationdefaults": {
           "arrowcolor": "#2a3f5f",
           "arrowhead": 0,
           "arrowwidth": 1
          },
          "autotypenumbers": "strict",
          "coloraxis": {
           "colorbar": {
            "outlinewidth": 0,
            "ticks": ""
           }
          },
          "colorscale": {
           "diverging": [
            [
             0,
             "#8e0152"
            ],
            [
             0.1,
             "#c51b7d"
            ],
            [
             0.2,
             "#de77ae"
            ],
            [
             0.3,
             "#f1b6da"
            ],
            [
             0.4,
             "#fde0ef"
            ],
            [
             0.5,
             "#f7f7f7"
            ],
            [
             0.6,
             "#e6f5d0"
            ],
            [
             0.7,
             "#b8e186"
            ],
            [
             0.8,
             "#7fbc41"
            ],
            [
             0.9,
             "#4d9221"
            ],
            [
             1,
             "#276419"
            ]
           ],
           "sequential": [
            [
             0,
             "#0d0887"
            ],
            [
             0.1111111111111111,
             "#46039f"
            ],
            [
             0.2222222222222222,
             "#7201a8"
            ],
            [
             0.3333333333333333,
             "#9c179e"
            ],
            [
             0.4444444444444444,
             "#bd3786"
            ],
            [
             0.5555555555555556,
             "#d8576b"
            ],
            [
             0.6666666666666666,
             "#ed7953"
            ],
            [
             0.7777777777777778,
             "#fb9f3a"
            ],
            [
             0.8888888888888888,
             "#fdca26"
            ],
            [
             1,
             "#f0f921"
            ]
           ],
           "sequentialminus": [
            [
             0,
             "#0d0887"
            ],
            [
             0.1111111111111111,
             "#46039f"
            ],
            [
             0.2222222222222222,
             "#7201a8"
            ],
            [
             0.3333333333333333,
             "#9c179e"
            ],
            [
             0.4444444444444444,
             "#bd3786"
            ],
            [
             0.5555555555555556,
             "#d8576b"
            ],
            [
             0.6666666666666666,
             "#ed7953"
            ],
            [
             0.7777777777777778,
             "#fb9f3a"
            ],
            [
             0.8888888888888888,
             "#fdca26"
            ],
            [
             1,
             "#f0f921"
            ]
           ]
          },
          "colorway": [
           "#636efa",
           "#EF553B",
           "#00cc96",
           "#ab63fa",
           "#FFA15A",
           "#19d3f3",
           "#FF6692",
           "#B6E880",
           "#FF97FF",
           "#FECB52"
          ],
          "font": {
           "color": "#2a3f5f"
          },
          "geo": {
           "bgcolor": "white",
           "lakecolor": "white",
           "landcolor": "#E5ECF6",
           "showlakes": true,
           "showland": true,
           "subunitcolor": "white"
          },
          "hoverlabel": {
           "align": "left"
          },
          "hovermode": "closest",
          "mapbox": {
           "style": "light"
          },
          "paper_bgcolor": "white",
          "plot_bgcolor": "#E5ECF6",
          "polar": {
           "angularaxis": {
            "gridcolor": "white",
            "linecolor": "white",
            "ticks": ""
           },
           "bgcolor": "#E5ECF6",
           "radialaxis": {
            "gridcolor": "white",
            "linecolor": "white",
            "ticks": ""
           }
          },
          "scene": {
           "xaxis": {
            "backgroundcolor": "#E5ECF6",
            "gridcolor": "white",
            "gridwidth": 2,
            "linecolor": "white",
            "showbackground": true,
            "ticks": "",
            "zerolinecolor": "white"
           },
           "yaxis": {
            "backgroundcolor": "#E5ECF6",
            "gridcolor": "white",
            "gridwidth": 2,
            "linecolor": "white",
            "showbackground": true,
            "ticks": "",
            "zerolinecolor": "white"
           },
           "zaxis": {
            "backgroundcolor": "#E5ECF6",
            "gridcolor": "white",
            "gridwidth": 2,
            "linecolor": "white",
            "showbackground": true,
            "ticks": "",
            "zerolinecolor": "white"
           }
          },
          "shapedefaults": {
           "line": {
            "color": "#2a3f5f"
           }
          },
          "ternary": {
           "aaxis": {
            "gridcolor": "white",
            "linecolor": "white",
            "ticks": ""
           },
           "baxis": {
            "gridcolor": "white",
            "linecolor": "white",
            "ticks": ""
           },
           "bgcolor": "#E5ECF6",
           "caxis": {
            "gridcolor": "white",
            "linecolor": "white",
            "ticks": ""
           }
          },
          "title": {
           "x": 0.05
          },
          "xaxis": {
           "automargin": true,
           "gridcolor": "white",
           "linecolor": "white",
           "ticks": "",
           "title": {
            "standoff": 15
           },
           "zerolinecolor": "white",
           "zerolinewidth": 2
          },
          "yaxis": {
           "automargin": true,
           "gridcolor": "white",
           "linecolor": "white",
           "ticks": "",
           "title": {
            "standoff": 15
           },
           "zerolinecolor": "white",
           "zerolinewidth": 2
          }
         }
        },
        "xaxis": {
         "anchor": "y",
         "domain": [
          0,
          1
         ],
         "gridcolor": "LightGrey",
         "gridwidth": 1,
         "range": [
          -15,
          15
         ],
         "showgrid": true,
         "title": {
          "text": "X1"
         }
        },
        "yaxis": {
         "anchor": "x",
         "domain": [
          0,
          1
         ],
         "gridcolor": "LightGrey",
         "gridwidth": 1,
         "range": [
          -15,
          15
         ],
         "showgrid": true,
         "title": {
          "text": "X2"
         }
        }
       }
      }
     },
     "metadata": {},
     "output_type": "display_data"
    }
   ],
   "source": [
    "# Plotting data\n",
    "fig = make_subplots(rows=1, cols=1)\n",
    "plot_data(fig, X, y, clusters=clusters, row=1, col=1)\n",
    "fig.show()\n"
   ]
  },
  {
   "cell_type": "markdown",
   "id": "aa55c66d",
   "metadata": {},
   "source": [
    "### (b) Running K-means"
   ]
  },
  {
   "cell_type": "code",
   "execution_count": 37,
   "id": "66ecae02",
   "metadata": {},
   "outputs": [
    {
     "data": {
      "application/vnd.plotly.v1+json": {
       "config": {
        "plotlyServerURL": "https://plot.ly"
       },
       "data": [
        {
         "marker": {
          "line": {
           "color": "white",
           "width": 1
          },
          "opacity": 0.7,
          "size": 8
         },
         "mode": "markers",
         "name": "Cluster 0",
         "type": "scatter",
         "x": {
          "bdata": "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",
          "dtype": "f8"
         },
         "xaxis": "x",
         "y": {
          "bdata": "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",
          "dtype": "f8"
         },
         "yaxis": "y"
        },
        {
         "marker": {
          "line": {
           "color": "white",
           "width": 1
          },
          "opacity": 0.7,
          "size": 8
         },
         "mode": "markers",
         "name": "Cluster 1",
         "type": "scatter",
         "x": [],
         "xaxis": "x",
         "y": [],
         "yaxis": "y"
        },
        {
         "marker": {
          "line": {
           "color": "white",
           "width": 1
          },
          "opacity": 0.7,
          "size": 12
         },
         "mode": "markers",
         "name": "Centers",
         "type": "scatter",
         "x": {
          "bdata": "URQgPEXN+j8=",
          "dtype": "f8"
         },
         "xaxis": "x",
         "y": {
          "bdata": "xhpnPwoksT8=",
          "dtype": "f8"
         },
         "yaxis": "y"
        },
        {
         "marker": {
          "line": {
           "color": "white",
           "width": 1
          },
          "opacity": 0.7,
          "size": 8
         },
         "mode": "markers",
         "name": "Cluster 0",
         "type": "scatter",
         "x": {
          "bdata": "oSAYv/QA9L8oR5DjlpH8v+IxljdmKv2/wYOLr95x+r9t70i6fMr3v4rL91F+/dy/WZj6NlOLBkAUxDN6D8MCQDNvEawkFQbA761WQ+a++7+/XHNaAd7tv+zUayOn/gdAuYEbBOUk+78xffGSOD3rv5YacH5dkwlA/xguaXoABsCLl9O0e0b4v8KeJVm2u/S/4O2RXVeu8L9bglcTF6wAwPdFE7bKnfC/m3ymvoEGBMCWjs0LJ1ICwCDa4Vz0PgxA58Drq1aCAkD8WuAlWuUHQCDrDF9onQlA8dj4sL1+A0Dt3uaSIckJQM906JETRPi/lKIthu5P9L+aSonZtFfzvw5SCWs0Pfu/KOOI43B+879cMeQ7Ue3zv8ZQmACXIwFAOAXiSI7rAsAtqL0WOTsKQDxHboOO2P4/DXdMMygYA0C+FsV5sSX5v/KwkyxPsvk/dNTHkIrn4r8oy5ajfbD+P5kY1Ils7e+/uLMPaDfN9b+hIlP/20QOQKP325pzOgBAjrR9fVRkAMAHglkkSuYJwNRne5oBFQtAbf8c/gU4/z+9NrxttQf2v15yt7srcAFAk+u3+VeH5b99DEh9yNgDQPTznFX0QgZABmf1BtPD+b8rW/Jctqf5vy+A4b0go/K/hC9HAOjY878MispTraAIQMHvoXpkM/+/EZrj280pA8ALLbfdeUgCQELr0POWcfi/fHk7Cuzm/z9vtp6xiiwFwHn9tZ1SR/+/cvXR/ICBAMCEfy1bzRcGwNr6bjTagAhAQo20ThihB0CWCgs5oy7tvxvssSGRFgVAjZTFQ5ia+7/O+81axgMGQLf7Cb2ChfO/R7AZIRQ8/b8PWWQIyyT4v1O9AU1MxwDAZjxrfIsf57+25uztZXv5v7UAa218dQhAjwwQW7LWAkDsAJKL3Ffjv5sXPZTYCfW/ICfz4/3f+D8XuVYZILsMQKCJnavt//y/hJK7ll0xAcBhbWjF07D1v2BucwqGmgdA6jjjp5N68L8nHLFl+zsDwJrf+FF6g/q/4+vIZn1U/b94eJ6JqX0GQDx0JUUu5f2/a/Vj7n938L8KgYTkue3cvzTlV5pi2AHAJwPSY28457+NzcNfwKP6vyCkxsKjHAZAqyqvluVeA8AXGUOSbPT3P5jQ1CtAOvu/AxHbQX/q8b+xuYid793zv7GmsCkmf+2/i1/hEl7N/b+kvufE+mTrvzFLagwPHQXArLnjeLWGAsB4gZctDm4EQDAKevDDWwTAGK3M7vNSBkBw24SD02Lmv36sdSjrkPm/pJDB5n1jAUCfNsxynI4EQHbu5LDfV/+/plt2yCU4CUDOkKbO7MDzv6Zbi3H3Ave/SPIAb90PAUB7H534rlwKQDsZsSUsOQDA9y/xzy7Q8b+bBWRHt7oDwHV8Czp6Ium/suDmGcN3+r/HrQJdT98OQJQuHrzfNgPAITBY5T9W+L+Fo2dd8dXzv/uoYyURDPq/YtCzwEaD87/4Joy5jTzyv4Kn7s0ITLQ/LOLhjg8l8j/tDNYJB+MMQKflg6nmHfC/aMTLnRJCBUBo+NFm3tHyv53u3Tj/hQBAobiKQ5xR+L9Ak0kOJ9ECwDICxYY6GgNAKnfjHjeu+b9NbHqgR9MAwOf2NSVAD/2/KCo3WlP+9L+5TTQaZGsIQNE4oUndfgRASm7yzxRAAEDXACGxvpX2vyQlhYA+P/+/ro+BRfu+879/otregGT5v//6tu678ghAMyRA2pZtAkC6xD7ubP/9v2cnWWaubgHA3wfNSSRp+L9+BChzPWz9v0C/JUO8Ce2/xnmHeS2XA0CBAXUPmvP8vxGNdb1L1wZAQsXHRKQB8b9g5wPwIDn/v6rpM0OZTv+/x0ylwlgD+z8ZnldedRcOwFaow3ZM9gLAz+eL9RwFDEALjVn8pTjlv4X4JPhoeP6/j3l6Dicl8r+/PIblgD8HQO4TiDwd1APArekoklvT+79OFshbDJoHQNucxXGyKglAK1ONGyTrCkA7Konbh1zsv77/rZY/2ANAk1BdDEnf8L+nAMXnk6YKQDQwwizs2+u/BxekK+vY+b/yw7om8C0HQAwHI07jq/K/9bEpDWR2AMBGaF7jWQTiv/N1coFaDuy/owvQ6y2Z8L9TSk8DpwACQAKV+ZWtGAlA7bOlcfyZEECVA+VHQsXLv15Vxm70rQVAbhwVgh3EBcBnle3ygCHpv54fjzuXyeS/jpBDPhDn97/QxGXDFvX8vy0ZjYVBAgZAun465rsdA0D6xkLWPSwHQDALboLRYPO/z727UwP86L9+cLYycIPtv7RfV9aPCwLAaaMCyfLV/r8ZD18YBnf3v5jC4qhzOPK/uDbC1Wom8L/D+0Bo2jYBwEgQrIq7Z+e/oZBG6w9d+r+dXp+sEHkAwMMN1jiBt/0/",
          "dtype": "f8"
         },
         "xaxis": "x2",
         "y": {
          "bdata": "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",
          "dtype": "f8"
         },
         "yaxis": "y2"
        },
        {
         "marker": {
          "line": {
           "color": "white",
           "width": 1
          },
          "opacity": 0.7,
          "size": 8
         },
         "mode": "markers",
         "name": "Cluster 1",
         "type": "scatter",
         "x": {
          "bdata": "VBP5TfgQGkBS1bVunR4aQI10deuwFRdAoZPPFRU2HEDUoNaDP9UaQGwEBmxq1B9A+wRCcmMaG0DmeIVFzY8bQH6bigdtIhlA9HtSRolKGkDBVWN7vDIaQOO26TtKtxxAPnTl22RZG0ACRF872fwaQN4HUo3Y9hlA1VLjnZT9HkD11SY7Vb8dQMNbH4mW9x1AP95t3Q3nGkDzTyKIEt0cQHZXqrI7tB9A4gjgYtoyGkCG6eroLjIaQDR0gopwyx5AaX3T3jnfHkDaaPEVelMbQOAfofNB3hxAwBQRIghfG0BRgHoBqSgdQOt8zlKj/BxAr5U/9hSqGkCoyWTZ6y0dQGvU+QjMThlAjl3Sm1W2HEA/b27hPMQgQMw9pmjC9RpA5CcgxBeoHEDfMU9ByHUdQOu6sMC2jBpAOr83w3CTFkD1yabnEisfQNigwooh2B9A97nra4wlG0CGd7zzAOccQCAsV++vrBtASGbTfwfMHUAb7HsHqWUgQCZZykT+3RxA07gAji4tG0BHkwGx77UcQCZg+xOomx9AlFFgywMpG0DqumPdyZoeQKgHxCspWxtAXUZcFJhGHEDNWu28Z2caQBxHZYoSHR5AneyEvko2H0CY6vuN3BgeQIx5E5JokR5AQ2pnTWpXG0AzztwE0xYcQEQV/3PktB1AMusKsmdSHEBftVqOozYeQFE+yXBG+BlAG8YOSRRBG0BS7/cjgF4dQFZV9VRsvh1A90IjxP6SHECHgggUYbUcQLRRHxuOAx5AHFl5KPAEIECD6k1TIsseQKjhciuG5BtA",
          "dtype": "f8"
         },
         "xaxis": "x2",
         "y": {
          "bdata": "OhvteIkdI0CKsPm8RMUlQJXAncds/CJATBC6nWeoI0DO5Sx/NfIhQELtfO1V7SNA48KJkRnbI0CGlVFvXWolQG196JI4oiJAT9SzVY+2I0Cw93T40K0iQLPbCwNhXSNAPvIVdSLhI0B8Jaw/aUwkQP5730AGtSJAbq9R/VwUJUCzzp55S1QjQNndixmVnCFARR6+VhobI0Ck1hTXqC0jQBit1fcSxyFAgBWfrFFCJEB51TZwomYiQGUDFJAcPSVAZH9b72QOIUCbngDU/dkiQOYTE/L03yJAJdebjWILJUB9eNzTCREiQId0HuEgDSJAlRoPjAV0JECBHKpbXnclQKwEazFZ8SJAQfp7SWGwI0D8e6AVphUjQEmXYvZedyNAwNuEy0YxJEDb2HYw2zkkQL7CmoSgliNAfKfJohuZI0CSFCOZSSUjQDDKQwS4CyVANX1nkvWXIUDYMfJKOo8kQKgmxFyLqSNAwGXgiwqbJUBH9kRhPVUkQKGJPYCS5iNATx2bLFO/I0DiOkA7vasiQBBWHX+UViNA28AfKHSLIkBviSocLgkkQKJrGkch9iJA/PdBDptDIkC3QJXeWegkQLtJ3PgiLCRA79RH19ELJUADi6VNzgAkQCVxnRDN+iNAEVEJuqaZIUBAfFEdeZ8jQHuVNQq7piNAfio2AxovJkBQ15yiPUIhQDrtxJUrOyJAGYibE7NrIkD5Xi6sQCEjQPOCim1luyRAD+9RiC1mI0DocB/mxfcjQKgFowVTvSJAWqJ1qzN4I0D9Axupa1slQES2JHolpiNA",
          "dtype": "f8"
         },
         "yaxis": "y2"
        },
        {
         "marker": {
          "line": {
           "color": "white",
           "width": 1
          },
          "opacity": 0.7,
          "size": 8
         },
         "mode": "markers",
         "name": "Cluster 2",
         "type": "scatter",
         "x": [],
         "xaxis": "x2",
         "y": [],
         "yaxis": "y2"
        },
        {
         "marker": {
          "line": {
           "color": "white",
           "width": 1
          },
          "opacity": 0.7,
          "size": 12
         },
         "mode": "markers",
         "name": "Centers",
         "type": "scatter",
         "x": {
          "bdata": "OCUm+wv5wb/Np6tbnnwcQA==",
          "dtype": "f8"
         },
         "xaxis": "x2",
         "y": {
          "bdata": "gsOAeuFWCcB0y9ttSYojQA==",
          "dtype": "f8"
         },
         "yaxis": "y2"
        },
        {
         "marker": {
          "line": {
           "color": "white",
           "width": 1
          },
          "opacity": 0.7,
          "size": 8
         },
         "mode": "markers",
         "name": "Cluster 0",
         "type": "scatter",
         "x": {
          "bdata": "be9IunzK97/vrVZD5r77v4uX07R7Rvi/m3ymvoEGBMDPdOiRE0T4v5pKidm0V/O/dNTHkIrn4r+4sw9oN831v460fX1UZADAB4JZJErmCcC9NrxttQf2vwZn9QbTw/m/K1vyXLan+b+EL0cA6NjzvxGa49vNKQPAef21nVJH/7+Efy1bzRcGwJYKCzmjLu2/jZTFQ5ia+79TvQFNTMcAwGY8a3yLH+e/7ACSi9xX47+giZ2r7f/8v4SSu5ZdMQHAYW1oxdOw9b/qOOOnk3rwvyccsWX7OwPAmt/4UXqD+r/j68hmfVT9vwqBhOS57dy/NOVXmmLYAcCY0NQrQDr7v7G5iJ3v3fO/pL7nxPpk678xS2oMDx0FwDAKevDDWwTAfqx1KOuQ+b927uSw31f/v86Qps7swPO/OxmxJSw5AMD3L/HPLtDxv5sFZEe3ugPAdXwLOnoi6b+y4OYZw3f6v5QuHrzfNgPAITBY5T9W+L+Fo2dd8dXzv/uoYyURDPq/YtCzwEaD87+Cp+7NCEy0P6flg6nmHfC/aPjRZt7R8r+huIpDnFH4vyp34x43rvm/TWx6oEfTAMAoKjdaU/70v34EKHM9bP2/QL8lQ7wJ7b9CxcdEpAHxvwuNWfylOOW/j3l6Dicl8r+TUF0MSd/wvwcXpCvr2Pm/Rmhe41kE4r/zdXKBWg7sv6ML0OstmfC/nh+PO5fJ5L/QxGXDFvX8vzALboLRYPO/z727UwP86L+0X1fWjwsCwGmjAsny1f6/mMLiqHM48r/D+0Bo2jYBwEgQrIq7Z+e/",
          "dtype": "f8"
         },
         "xaxis": "x3",
         "y": {
          "bdata": "h7X+7P8SA0A2IzgbvAUAQELIFh7QT/A/FgGRl2or/D8tYDGyYTfqP/ev0wj0XQJAyuHTaj628z/xAFnQTOn0P9UC++uDzvQ/ypyyfB2S+T8PyYAchh/0P0w2S8lxMQZAfqNvRFSY8D9vRqEkExj/PxIqS1hYctU/w4xURK43AUBwGw3FgXcDQAKNYjP+5gBAvSIxmzV69j+OYuSzIoD4P2BYfVXr2ABAx9LKGjb+9j/ZPM4C5TfvP9JLNuF9vv0/e/DKv6DYAUCDt/Iv4bYCQBZkLFX+r/s/Y9W5DfH09j97aPdhnRnkP/Tcaj3DlAJAAV5ii+e2AkDDDL26ZcHjP4IzdFxgRwdA6GETsEva8j8pIJ+OA2b6P51sg4XztwhA1SKflnceAEBYBWs9qKTyP1gabmH8+c4/FxxPx6o4+T9JgaB4nzPzPySe4oxNkfU/wTT0utjw7D8OKx6orVbqP9KXxjlCHP0/s0uT9tfNAUBkY97PJCbyPw6TvBSWJvo/AVn9Yu0h8j+tOD4/kAH6P0CqVlYc2QBAwJN5buwzAkAvK8hq8T76P7JtcrJXafg/gTCYfRXS9j+M1VM29TbxP9Stp9mOpfM/WiD2/2jt+T8D/stkV/P/Pw4iR16wg/8/T+6JmXuU9T9JnKhhIzgGQIQv93uY5/g/R7WZIaXA9D8ce7T2qw35P2s6TpM9RwNA7a97saRI5z+NI0sUIBHvP5Zy8RxUDABAo9zvYpFs+z9Nc9gTzkf0P41sAAn0J/I/jtd3L2GFAUBItSLcwD7iP6AzqEgBL9i/",
          "dtype": "f8"
         },
         "yaxis": "y3"
        },
        {
         "marker": {
          "line": {
           "color": "white",
           "width": 1
          },
          "opacity": 0.7,
          "size": 8
         },
         "mode": "markers",
         "name": "Cluster 1",
         "type": "scatter",
         "x": {
          "bdata": "VBP5TfgQGkBS1bVunR4aQI10deuwFRdAoZPPFRU2HEDUoNaDP9UaQGwEBmxq1B9A+wRCcmMaG0DmeIVFzY8bQH6bigdtIhlA9HtSRolKGkDBVWN7vDIaQOO26TtKtxxAPnTl22RZG0ACRF872fwaQN4HUo3Y9hlA1VLjnZT9HkD11SY7Vb8dQMNbH4mW9x1AP95t3Q3nGkDzTyKIEt0cQHZXqrI7tB9A4gjgYtoyGkCG6eroLjIaQDR0gopwyx5AaX3T3jnfHkDaaPEVelMbQOAfofNB3hxAwBQRIghfG0BRgHoBqSgdQOt8zlKj/BxAr5U/9hSqGkCoyWTZ6y0dQGvU+QjMThlAjl3Sm1W2HEA/b27hPMQgQMw9pmjC9RpA5CcgxBeoHEDfMU9ByHUdQOu6sMC2jBpAOr83w3CTFkD1yabnEisfQNigwooh2B9A97nra4wlG0CGd7zzAOccQCAsV++vrBtASGbTfwfMHUAb7HsHqWUgQCZZykT+3RxA07gAji4tG0BHkwGx77UcQCZg+xOomx9AlFFgywMpG0DqumPdyZoeQKgHxCspWxtAXUZcFJhGHEDNWu28Z2caQBxHZYoSHR5AneyEvko2H0CY6vuN3BgeQIx5E5JokR5AQ2pnTWpXG0AzztwE0xYcQEQV/3PktB1AMusKsmdSHEBftVqOozYeQFE+yXBG+BlAG8YOSRRBG0BS7/cjgF4dQFZV9VRsvh1A90IjxP6SHECHgggUYbUcQLRRHxuOAx5AHFl5KPAEIECD6k1TIsseQKjhciuG5BtA",
          "dtype": "f8"
         },
         "xaxis": "x3",
         "y": {
          "bdata": "OhvteIkdI0CKsPm8RMUlQJXAncds/CJATBC6nWeoI0DO5Sx/NfIhQELtfO1V7SNA48KJkRnbI0CGlVFvXWolQG196JI4oiJAT9SzVY+2I0Cw93T40K0iQLPbCwNhXSNAPvIVdSLhI0B8Jaw/aUwkQP5730AGtSJAbq9R/VwUJUCzzp55S1QjQNndixmVnCFARR6+VhobI0Ck1hTXqC0jQBit1fcSxyFAgBWfrFFCJEB51TZwomYiQGUDFJAcPSVAZH9b72QOIUCbngDU/dkiQOYTE/L03yJAJdebjWILJUB9eNzTCREiQId0HuEgDSJAlRoPjAV0JECBHKpbXnclQKwEazFZ8SJAQfp7SWGwI0D8e6AVphUjQEmXYvZedyNAwNuEy0YxJEDb2HYw2zkkQL7CmoSgliNAfKfJohuZI0CSFCOZSSUjQDDKQwS4CyVANX1nkvWXIUDYMfJKOo8kQKgmxFyLqSNAwGXgiwqbJUBH9kRhPVUkQKGJPYCS5iNATx2bLFO/I0DiOkA7vasiQBBWHX+UViNA28AfKHSLIkBviSocLgkkQKJrGkch9iJA/PdBDptDIkC3QJXeWegkQLtJ3PgiLCRA79RH19ELJUADi6VNzgAkQCVxnRDN+iNAEVEJuqaZIUBAfFEdeZ8jQHuVNQq7piNAfio2AxovJkBQ15yiPUIhQDrtxJUrOyJAGYibE7NrIkD5Xi6sQCEjQPOCim1luyRAD+9RiC1mI0DocB/mxfcjQKgFowVTvSJAWqJ1qzN4I0D9Axupa1slQES2JHolpiNA",
          "dtype": "f8"
         },
         "yaxis": "y3"
        },
        {
         "marker": {
          "line": {
           "color": "white",
           "width": 1
          },
          "opacity": 0.7,
          "size": 8
         },
         "mode": "markers",
         "name": "Cluster 2",
         "type": "scatter",
         "x": {
          "bdata": "oSAYv/QA9L8oR5DjlpH8v+IxljdmKv2/wYOLr95x+r+Ky/dRfv3cv1mY+jZTiwZAFMQzeg/DAkAzbxGsJBUGwL9cc1oB3u2/7NRrI6f+B0C5gRsE5ST7vzF98ZI4Peu/lhpwfl2TCUD/GC5pegAGwMKeJVm2u/S/4O2RXVeu8L9bglcTF6wAwPdFE7bKnfC/lo7NCydSAsAg2uFc9D4MQOfA66tWggJA/FrgJVrlB0Ag6wxfaJ0JQPHY+LC9fgNA7d7mkiHJCUCUoi2G7k/0vw5SCWs0Pfu/KOOI43B+879cMeQ7Ue3zv8ZQmACXIwFAOAXiSI7rAsAtqL0WOTsKQDxHboOO2P4/DXdMMygYA0C+FsV5sSX5v/KwkyxPsvk/KMuWo32w/j+ZGNSJbO3vv6EiU//bRA5Ao/fbmnM6AEDUZ3uaARULQG3/HP4FOP8/XnK3uytwAUCT67f5V4flv30MSH3I2ANA9POcVfRCBkAvgOG9IKPyvwyKylOtoAhAwe+hemQz/78LLbfdeUgCQELr0POWcfi/fHk7Cuzm/z9vtp6xiiwFwHL10fyAgQDA2vpuNNqACEBCjbROGKEHQBvssSGRFgVAzvvNWsYDBkC3+wm9goXzv0ewGSEUPP2/D1lkCMsk+L+25uztZXv5v7UAa218dQhAjwwQW7LWAkCbFz2U2An1vyAn8+P93/g/F7lWGSC7DEBgbnMKhpoHQHh4nompfQZAPHQlRS7l/b9r9WPuf3fwvycD0mNvOOe/jc3DX8Cj+r8gpMbCoxwGQKsqr5blXgPAFxlDkmz09z8DEdtBf+rxv7GmsCkmf+2/i1/hEl7N/b+sueN4tYYCwHiBly0ObgRAGK3M7vNSBkBw24SD02Lmv6SQweZ9YwFAnzbMcpyOBECmW3bIJTgJQKZbi3H3Ave/SPIAb90PAUB7H534rlwKQMetAl1P3w5A+CaMuY088r8s4uGODyXyP+0M1gkH4wxAaMTLnRJCBUCd7t04/4UAQECTSQ4n0QLAMgLFhjoaA0Dn9jUlQA/9v7lNNBpkawhA0TihSd1+BEBKbvLPFEAAQNcAIbG+lfa/JCWFgD4//7+uj4FF+77zv3+i2t6AZPm///q27rvyCEAzJEDalm0CQLrEPu5s//2/ZydZZq5uAcDfB81JJGn4v8Z5h3ktlwNAgQF1D5rz/L8RjXW9S9cGQGDnA/AgOf+/qukzQ5lO/7/HTKXCWAP7PxmeV151Fw7AVqjDdkz2AsDP54v1HAUMQIX4JPhoeP6/vzyG5YA/B0DuE4g8HdQDwK3pKJJb0/u/ThbIWwyaB0DbnMVxsioJQCtTjRsk6wpAOyqJ24dc7L++/62WP9gDQKcAxeeTpgpANDDCLOzb67/yw7om8C0HQAwHI07jq/K/9bEpDWR2AMBTSk8DpwACQAKV+ZWtGAlA7bOlcfyZEECVA+VHQsXLv15Vxm70rQVAbhwVgh3EBcBnle3ygCHpv46QQz4Q5/e/LRmNhUECBkC6fjrmux0DQPrGQtY9LAdAfnC2MnCD7b8ZD18YBnf3v7g2wtVqJvC/oZBG6w9d+r+dXp+sEHkAwMMN1jiBt/0/",
          "dtype": "f8"
         },
         "xaxis": "x3",
         "y": {
          "bdata": "RTYuIQMOGsDyiR4d77YVwFDr4jsIuRvA91UrnZ0YGMATyHXcyI4YwExNHuz5Fw3A0sVOjlMmE8AsrRiBAN4awJ9kGNx6dRnAuqaW148NEsBjO5A9k0kbwAndwNw33RjA1l6UE8mAEcDJs+yJSVMawPEqSgxuVhzA3FCnMG/tHMDXhUBCG5oawMw2r23v2xXAfIqGywqHGsDzRiUDulwTwPACtFuARBTANJ8WShfTFMDHreFnhMYTwArctAsCAhLALkJ2Wa6fFMCIx6nqbtEXwL4Dt8/eyhfA0Y+2jBu2GsBq6VrJaQYcwGyy3aU0jRDA4PcAZZ5kG8AgrO3MEy0YwMP07b5FcxDA7DavUhsQFcDyNyDI71MXwGJnnmXgRBHAXvkyMAaREsBAKwGtIwUbwAnIY7DWmQzArUiWz4AAE8BLhQ1gWGAOwD8O5R0OYRLAmwCUxAm4CMAElxmE3fAVwN4wwmW+kg/AzaV8VGkjEMD2GQ4/tAQawEkH6+NpdhPAWowZoZbzHcAkREbHy8wRwIE6TXnweBbAdWap3uz5EcAuTRDirUgWwJdygx5rfhbAbO1B2KfBC8ApbnDqiW0SwC5HzpoFhxLAY5QLRDRDE8CfyneP1p0fwF4cIhMq9hnA2A2qnpRWG8AFko5rk4sdwMelQ177+RDAlI9hQWX+EsCrHxcQKXccwE5vyCwoLw/AMIwVPHfYDcBacsEE+/gMwP8TAG8UQxfAnM5E80mnGcArIZZstswcwADsu+PbSRfANJmhfarwGcCyX+9lCPUQwCr3SDUieRjA9MNNJ36pF8BQJe5dy2sawF3Mi87/+BnA044G2L1gGcDq4rMe4OgbwOrcYanGHRPAocpuWpqHEcB4AYa9LMQZwMfDGVXKvAzALYypuyiuFsCCSSkNDqkRwLt9RKz8ihzALphhRXPfD8B9pCXohRkSwAUaTki6HBPAWw0TV/S0G8C0qs0JkEYKwHjURClOoBDASwuBkvR3FcCda6I0T3wOwN7dDPCgeB7AHOR38PV8FcAZpttdkEQbwCWkTJkhNxDAOz2LTrYrEMCetg0fwx4QwGizyFUrDB3ARFnIm+2uGMAecpvbGl0ZwAGem9LbkRnAsY3sFcxoEMCLRg0u7AUPwA9I3yQTvxjAfkyT65OYGcDjbMZkGlQcwPxkFehRkA3AmTIb1Xq7GsAtuofAEugMwHZ3eoHSdBvAmzfhQ8WkG8DZ3dSb8O0SwFz4CNFJ0BvA6xKZMgRZHMDD/IrzzAIUwB4PpHqNmxnAaAX/6Il+EcC1avoeD/YYwBC24jHuVhzAXdO17NeWEMDR1PXDmh0TwN1hoOX4qxDAAilXHOjFHMAhBwJeFNgPwIp4zXPlnRXAASP+qMxPGcCz7rQq+cUTwBf/U/0EIxzAQonkefv9GsBiQ63JlGkQwNKw0UbpjhXA01g9GECWE8ANIga50y4awBMothkPRhPAj4UvZmBLHsCKCv/A0RcewAWKDvhJUBrALyx8NwX3EsApfhXnE/4LwOfJML59TRPAQtMDWdkfHMCY29GTubIdwJirH99ZjhvAhZwQzk18GcBgfkZReCsawGpesdnvRg7A",
          "dtype": "f8"
         },
         "yaxis": "y3"
        },
        {
         "marker": {
          "line": {
           "color": "white",
           "width": 1
          },
          "opacity": 0.7,
          "size": 8
         },
         "mode": "markers",
         "name": "Cluster 3",
         "type": "scatter",
         "x": [],
         "xaxis": "x3",
         "y": [],
         "yaxis": "y3"
        },
        {
         "marker": {
          "line": {
           "color": "white",
           "width": 1
          },
          "opacity": 0.7,
          "size": 12
         },
         "mode": "markers",
         "name": "Centers",
         "type": "scatter",
         "x": {
          "bdata": "UZ23V4Qc+L/Np6tbnnwcQFxPidkfX+E/",
          "dtype": "f8"
         },
         "xaxis": "x3",
         "y": {
          "bdata": "QNfioEdD+T90y9ttSYojQIjt/A+SKRbA",
          "dtype": "f8"
         },
         "yaxis": "y3"
        },
        {
         "marker": {
          "line": {
           "color": "white",
           "width": 1
          },
          "opacity": 0.7,
          "size": 8
         },
         "mode": "markers",
         "name": "Cluster 0",
         "type": "scatter",
         "x": {
          "bdata": "be9IunzK97/vrVZD5r77v4uX07R7Rvi/m3ymvoEGBMDPdOiRE0T4v5pKidm0V/O/dNTHkIrn4r+4sw9oN831v460fX1UZADAB4JZJErmCcC9NrxttQf2vwZn9QbTw/m/K1vyXLan+b+EL0cA6NjzvxGa49vNKQPAef21nVJH/7+Efy1bzRcGwJYKCzmjLu2/jZTFQ5ia+79TvQFNTMcAwGY8a3yLH+e/7ACSi9xX47+giZ2r7f/8v4SSu5ZdMQHAYW1oxdOw9b/qOOOnk3rwvyccsWX7OwPAmt/4UXqD+r/j68hmfVT9vwqBhOS57dy/NOVXmmLYAcCY0NQrQDr7v7G5iJ3v3fO/pL7nxPpk678xS2oMDx0FwDAKevDDWwTAfqx1KOuQ+b927uSw31f/v86Qps7swPO/OxmxJSw5AMD3L/HPLtDxv5sFZEe3ugPAdXwLOnoi6b+y4OYZw3f6v5QuHrzfNgPAITBY5T9W+L+Fo2dd8dXzv/uoYyURDPq/YtCzwEaD87+Cp+7NCEy0P6flg6nmHfC/aPjRZt7R8r+huIpDnFH4vyp34x43rvm/TWx6oEfTAMAoKjdaU/70v34EKHM9bP2/QL8lQ7wJ7b9CxcdEpAHxvwuNWfylOOW/j3l6Dicl8r+TUF0MSd/wvwcXpCvr2Pm/Rmhe41kE4r/zdXKBWg7sv6ML0OstmfC/nh+PO5fJ5L/QxGXDFvX8vzALboLRYPO/z727UwP86L+0X1fWjwsCwGmjAsny1f6/mMLiqHM48r/D+0Bo2jYBwEgQrIq7Z+e/",
          "dtype": "f8"
         },
         "xaxis": "x4",
         "y": {
          "bdata": "h7X+7P8SA0A2IzgbvAUAQELIFh7QT/A/FgGRl2or/D8tYDGyYTfqP/ev0wj0XQJAyuHTaj628z/xAFnQTOn0P9UC++uDzvQ/ypyyfB2S+T8PyYAchh/0P0w2S8lxMQZAfqNvRFSY8D9vRqEkExj/PxIqS1hYctU/w4xURK43AUBwGw3FgXcDQAKNYjP+5gBAvSIxmzV69j+OYuSzIoD4P2BYfVXr2ABAx9LKGjb+9j/ZPM4C5TfvP9JLNuF9vv0/e/DKv6DYAUCDt/Iv4bYCQBZkLFX+r/s/Y9W5DfH09j97aPdhnRnkP/Tcaj3DlAJAAV5ii+e2AkDDDL26ZcHjP4IzdFxgRwdA6GETsEva8j8pIJ+OA2b6P51sg4XztwhA1SKflnceAEBYBWs9qKTyP1gabmH8+c4/FxxPx6o4+T9JgaB4nzPzPySe4oxNkfU/wTT0utjw7D8OKx6orVbqP9KXxjlCHP0/s0uT9tfNAUBkY97PJCbyPw6TvBSWJvo/AVn9Yu0h8j+tOD4/kAH6P0CqVlYc2QBAwJN5buwzAkAvK8hq8T76P7JtcrJXafg/gTCYfRXS9j+M1VM29TbxP9Stp9mOpfM/WiD2/2jt+T8D/stkV/P/Pw4iR16wg/8/T+6JmXuU9T9JnKhhIzgGQIQv93uY5/g/R7WZIaXA9D8ce7T2qw35P2s6TpM9RwNA7a97saRI5z+NI0sUIBHvP5Zy8RxUDABAo9zvYpFs+z9Nc9gTzkf0P41sAAn0J/I/jtd3L2GFAUBItSLcwD7iP6AzqEgBL9i/",
          "dtype": "f8"
         },
         "yaxis": "y4"
        },
        {
         "marker": {
          "line": {
           "color": "white",
           "width": 1
          },
          "opacity": 0.7,
          "size": 8
         },
         "mode": "markers",
         "name": "Cluster 1",
         "type": "scatter",
         "x": {
          "bdata": "VBP5TfgQGkBS1bVunR4aQI10deuwFRdAoZPPFRU2HEDUoNaDP9UaQGwEBmxq1B9A+wRCcmMaG0DmeIVFzY8bQH6bigdtIhlA9HtSRolKGkDBVWN7vDIaQOO26TtKtxxAPnTl22RZG0ACRF872fwaQN4HUo3Y9hlA1VLjnZT9HkD11SY7Vb8dQMNbH4mW9x1AP95t3Q3nGkDzTyKIEt0cQHZXqrI7tB9A4gjgYtoyGkCG6eroLjIaQDR0gopwyx5AaX3T3jnfHkDaaPEVelMbQOAfofNB3hxAwBQRIghfG0BRgHoBqSgdQOt8zlKj/BxAr5U/9hSqGkCoyWTZ6y0dQGvU+QjMThlAjl3Sm1W2HEA/b27hPMQgQMw9pmjC9RpA5CcgxBeoHEDfMU9ByHUdQOu6sMC2jBpAOr83w3CTFkD1yabnEisfQNigwooh2B9A97nra4wlG0CGd7zzAOccQCAsV++vrBtASGbTfwfMHUAb7HsHqWUgQCZZykT+3RxA07gAji4tG0BHkwGx77UcQCZg+xOomx9AlFFgywMpG0DqumPdyZoeQKgHxCspWxtAXUZcFJhGHEDNWu28Z2caQBxHZYoSHR5AneyEvko2H0CY6vuN3BgeQIx5E5JokR5AQ2pnTWpXG0AzztwE0xYcQEQV/3PktB1AMusKsmdSHEBftVqOozYeQFE+yXBG+BlAG8YOSRRBG0BS7/cjgF4dQFZV9VRsvh1A90IjxP6SHECHgggUYbUcQLRRHxuOAx5AHFl5KPAEIECD6k1TIsseQKjhciuG5BtA",
          "dtype": "f8"
         },
         "xaxis": "x4",
         "y": {
          "bdata": "OhvteIkdI0CKsPm8RMUlQJXAncds/CJATBC6nWeoI0DO5Sx/NfIhQELtfO1V7SNA48KJkRnbI0CGlVFvXWolQG196JI4oiJAT9SzVY+2I0Cw93T40K0iQLPbCwNhXSNAPvIVdSLhI0B8Jaw/aUwkQP5730AGtSJAbq9R/VwUJUCzzp55S1QjQNndixmVnCFARR6+VhobI0Ck1hTXqC0jQBit1fcSxyFAgBWfrFFCJEB51TZwomYiQGUDFJAcPSVAZH9b72QOIUCbngDU/dkiQOYTE/L03yJAJdebjWILJUB9eNzTCREiQId0HuEgDSJAlRoPjAV0JECBHKpbXnclQKwEazFZ8SJAQfp7SWGwI0D8e6AVphUjQEmXYvZedyNAwNuEy0YxJEDb2HYw2zkkQL7CmoSgliNAfKfJohuZI0CSFCOZSSUjQDDKQwS4CyVANX1nkvWXIUDYMfJKOo8kQKgmxFyLqSNAwGXgiwqbJUBH9kRhPVUkQKGJPYCS5iNATx2bLFO/I0DiOkA7vasiQBBWHX+UViNA28AfKHSLIkBviSocLgkkQKJrGkch9iJA/PdBDptDIkC3QJXeWegkQLtJ3PgiLCRA79RH19ELJUADi6VNzgAkQCVxnRDN+iNAEVEJuqaZIUBAfFEdeZ8jQHuVNQq7piNAfio2AxovJkBQ15yiPUIhQDrtxJUrOyJAGYibE7NrIkD5Xi6sQCEjQPOCim1luyRAD+9RiC1mI0DocB/mxfcjQKgFowVTvSJAWqJ1qzN4I0D9Axupa1slQES2JHolpiNA",
          "dtype": "f8"
         },
         "yaxis": "y4"
        },
        {
         "marker": {
          "line": {
           "color": "white",
           "width": 1
          },
          "opacity": 0.7,
          "size": 8
         },
         "mode": "markers",
         "name": "Cluster 2",
         "type": "scatter",
         "x": {
          "bdata": "oSAYv/QA9L8oR5DjlpH8v+IxljdmKv2/wYOLr95x+r+Ky/dRfv3cvzNvEawkFQbAv1xzWgHe7b+5gRsE5ST7vzF98ZI4Peu//xguaXoABsDCniVZtrv0v+DtkV1XrvC/W4JXExesAMD3RRO2yp3wv5aOzQsnUgLAlKIthu5P9L8OUglrND37vyjjiONwfvO/XDHkO1Ht8784BeJIjusCwL4WxXmxJfm/mRjUiWzt77+T67f5V4flvy+A4b0go/K/we+hemQz/79C69DzlnH4v2+2nrGKLAXAcvXR/ICBAMC3+wm9goXzv0ewGSEUPP2/D1lkCMsk+L+25uztZXv5v5sXPZTYCfW/PHQlRS7l/b9r9WPuf3fwvycD0mNvOOe/jc3DX8Cj+r+rKq+W5V4DwAMR20F/6vG/saawKSZ/7b+LX+ESXs39v6y543i1hgLAcNuEg9Ni5r+mW4tx9wL3v/gmjLmNPPK/QJNJDifRAsDn9jUlQA/9v9cAIbG+lfa/JCWFgD4//7+uj4FF+77zv3+i2t6AZPm/usQ+7mz//b9nJ1lmrm4BwN8HzUkkafi/gQF1D5rz/L9g5wPwIDn/v6rpM0OZTv+/GZ5XXnUXDsBWqMN2TPYCwIX4JPhoeP6/7hOIPB3UA8Ct6SiSW9P7vzsqiduHXOy/NDDCLOzb678MByNO46vyv/WxKQ1kdgDAlQPlR0LFy79uHBWCHcQFwGeV7fKAIem/jpBDPhDn979+cLYycIPtvxkPXxgGd/e/uDbC1Wom8L+hkEbrD136v51en6wQeQDA",
          "dtype": "f8"
         },
         "xaxis": "x4",
         "y": {
          "bdata": "RTYuIQMOGsDyiR4d77YVwFDr4jsIuRvA91UrnZ0YGMATyHXcyI4YwCytGIEA3hrAn2QY3Hp1GcBjO5A9k0kbwAndwNw33RjAybPsiUlTGsDxKkoMblYcwNxQpzBv7RzA14VAQhuaGsDMNq9t79sVwHyKhssKhxrAiMep6m7RF8C+A7fP3soXwNGPtowbthrAaulayWkGHMDg9wBlnmQbwPI3IMjvUxfAQCsBrSMFG8AElxmE3fAVwPYZDj+0BBrAWowZoZbzHcCBOk158HgWwC5NEOKtSBbAl3KDHmt+FsCfyneP1p0fwF4cIhMq9hnA2A2qnpRWG8AFko5rk4sdwKsfFxApdxzAnM5E80mnGcArIZZstswcwADsu+PbSRfANJmhfarwGcAq90g1InkYwFAl7l3LaxrAXcyLzv/4GcDTjgbYvWAZwOrisx7g6BvAeAGGvSzEGcC7fUSs/IocwFsNE1f0tBvA3t0M8KB4HsAZpttdkEQbwGizyFUrDB3ARFnIm+2uGMAecpvbGl0ZwAGem9LbkRnAD0jfJBO/GMB+TJPrk5gZwONsxmQaVBzAmTIb1Xq7GsB2d3qB0nQbwJs34UPFpBvAXPgI0UnQG8DrEpkyBFkcwB4PpHqNmxnAtWr6Hg/2GMAQtuIx7lYcwAIpVxzoxRzAASP+qMxPGcAX/1P9BCMcwEKJ5Hn7/RrADSIGudMuGsCPhS9mYEsewIoK/8DRFx7ABYoO+ElQGsBC0wNZ2R8cwJjb0ZO5sh3AmKsf31mOG8CFnBDOTXwZwGB+RlF4KxrA",
          "dtype": "f8"
         },
         "yaxis": "y4"
        },
        {
         "marker": {
          "line": {
           "color": "white",
           "width": 1
          },
          "opacity": 0.7,
          "size": 8
         },
         "mode": "markers",
         "name": "Cluster 3",
         "type": "scatter",
         "x": {
          "bdata": "WZj6NlOLBkAUxDN6D8MCQOzUayOn/gdAlhpwfl2TCUAg2uFc9D4MQOfA66tWggJA/FrgJVrlB0Ag6wxfaJ0JQPHY+LC9fgNA7d7mkiHJCUDGUJgAlyMBQC2ovRY5OwpAPEdug47Y/j8Nd0wzKBgDQPKwkyxPsvk/KMuWo32w/j+hIlP/20QOQKP325pzOgBA1Gd7mgEVC0Bt/xz+BTj/P15yt7srcAFAfQxIfcjYA0D085xV9EIGQAyKylOtoAhACy233XlIAkB8eTsK7Ob/P9r6bjTagAhAQo20ThihB0Ab7LEhkRYFQM77zVrGAwZAtQBrbXx1CECPDBBbstYCQCAn8+P93/g/F7lWGSC7DEBgbnMKhpoHQHh4nompfQZAIKTGwqMcBkAXGUOSbPT3P3iBly0ObgRAGK3M7vNSBkCkkMHmfWMBQJ82zHKcjgRAplt2yCU4CUBI8gBv3Q8BQHsfnfiuXApAx60CXU/fDkAs4uGODyXyP+0M1gkH4wxAaMTLnRJCBUCd7t04/4UAQDICxYY6GgNAuU00GmRrCEDROKFJ3X4EQEpu8s8UQABA//q27rvyCEAzJEDalm0CQMZ5h3ktlwNAEY11vUvXBkDHTKXCWAP7P8/ni/UcBQxAvzyG5YA/B0BOFshbDJoHQNucxXGyKglAK1ONGyTrCkC+/62WP9gDQKcAxeeTpgpA8sO6JvAtB0BTSk8DpwACQAKV+ZWtGAlA7bOlcfyZEEBeVcZu9K0FQC0ZjYVBAgZAun465rsdA0D6xkLWPSwHQMMN1jiBt/0/",
          "dtype": "f8"
         },
         "xaxis": "x4",
         "y": {
          "bdata": "TE0e7PkXDcDSxU6OUyYTwLqmltePDRLA1l6UE8mAEcDzRiUDulwTwPACtFuARBTANJ8WShfTFMDHreFnhMYTwArctAsCAhLALkJ2Wa6fFMBsst2lNI0QwCCs7cwTLRjAw/TtvkVzEMDsNq9SGxAVwGJnnmXgRBHAXvkyMAaREsAJyGOw1pkMwK1Ils+AABPAS4UNYFhgDsA/DuUdDmESwJsAlMQJuAjA3jDCZb6SD8DNpXxUaSMQwEkH6+NpdhPAJERGx8vMEcB1Zqne7PkRwGztQdinwQvAKW5w6oltEsAuR86aBYcSwGOUC0Q0QxPAx6VDXvv5EMCUj2FBZf4SwE5vyCwoLw/AMIwVPHfYDcBacsEE+/gMwP8TAG8UQxfAsl/vZQj1EMD0w00nfqkXwOrcYanGHRPAocpuWpqHEcDHwxlVyrwMwC2MqbsorhbAgkkpDQ6pEcAumGFFc98PwH2kJeiFGRLABRpOSLocE8C0qs0JkEYKwHjURClOoBDASwuBkvR3FcCda6I0T3wOwBzkd/D1fBXAJaRMmSE3EMA7PYtOtisQwJ62DR/DHhDAsY3sFcxoEMCLRg0u7AUPwPxkFehRkA3ALbqHwBLoDMDZ3dSb8O0SwMP8ivPMAhTAaAX/6Il+EcBd07Xs15YQwNHU9cOaHRPA3WGg5firEMAhBwJeFNgPwIp4zXPlnRXAs+60KvnFE8BiQ63JlGkQwNKw0UbpjhXA01g9GECWE8ATKLYZD0YTwC8sfDcF9xLAKX4V5xP+C8DnyTC+fU0TwGpesdnvRg7A",
          "dtype": "f8"
         },
         "yaxis": "y4"
        },
        {
         "marker": {
          "line": {
           "color": "white",
           "width": 1
          },
          "opacity": 0.7,
          "size": 8
         },
         "mode": "markers",
         "name": "Cluster 4",
         "type": "scatter",
         "x": [],
         "xaxis": "x4",
         "y": [],
         "yaxis": "y4"
        },
        {
         "marker": {
          "line": {
           "color": "white",
           "width": 1
          },
          "opacity": 0.7,
          "size": 12
         },
         "mode": "markers",
         "name": "Centers",
         "type": "scatter",
         "x": {
          "bdata": "UZ23V4Qc+L/Np6tbnnwcQN3tfP2gmPm/nB6Da+B7BUA=",
          "dtype": "f8"
         },
         "xaxis": "x4",
         "y": {
          "bdata": "QNfioEdD+T90y9ttSYojQNFkvQndghrAP3Y8FkfQEcA=",
          "dtype": "f8"
         },
         "yaxis": "y4"
        },
        {
         "marker": {
          "line": {
           "color": "white",
           "width": 1
          },
          "opacity": 0.7,
          "size": 8
         },
         "mode": "markers",
         "name": "Cluster 0",
         "type": "scatter",
         "x": {
          "bdata": "be9IunzK97/vrVZD5r77v4uX07R7Rvi/m3ymvoEGBMDPdOiRE0T4v5pKidm0V/O/dNTHkIrn4r+4sw9oN831v460fX1UZADAB4JZJErmCcC9NrxttQf2vwZn9QbTw/m/K1vyXLan+b+EL0cA6NjzvxGa49vNKQPAef21nVJH/7+Efy1bzRcGwJYKCzmjLu2/jZTFQ5ia+79TvQFNTMcAwGY8a3yLH+e/7ACSi9xX47+giZ2r7f/8v4SSu5ZdMQHAYW1oxdOw9b/qOOOnk3rwvyccsWX7OwPAmt/4UXqD+r/j68hmfVT9vwqBhOS57dy/NOVXmmLYAcCY0NQrQDr7v7G5iJ3v3fO/pL7nxPpk678xS2oMDx0FwDAKevDDWwTAfqx1KOuQ+b927uSw31f/v86Qps7swPO/OxmxJSw5AMD3L/HPLtDxv5sFZEe3ugPAdXwLOnoi6b+y4OYZw3f6v5QuHrzfNgPAITBY5T9W+L+Fo2dd8dXzv/uoYyURDPq/YtCzwEaD87+Cp+7NCEy0P6flg6nmHfC/aPjRZt7R8r+huIpDnFH4vyp34x43rvm/TWx6oEfTAMAoKjdaU/70v34EKHM9bP2/QL8lQ7wJ7b9CxcdEpAHxvwuNWfylOOW/j3l6Dicl8r+TUF0MSd/wvwcXpCvr2Pm/Rmhe41kE4r/zdXKBWg7sv6ML0OstmfC/nh+PO5fJ5L/QxGXDFvX8vzALboLRYPO/z727UwP86L+0X1fWjwsCwGmjAsny1f6/mMLiqHM48r/D+0Bo2jYBwEgQrIq7Z+e/",
          "dtype": "f8"
         },
         "xaxis": "x5",
         "y": {
          "bdata": "h7X+7P8SA0A2IzgbvAUAQELIFh7QT/A/FgGRl2or/D8tYDGyYTfqP/ev0wj0XQJAyuHTaj628z/xAFnQTOn0P9UC++uDzvQ/ypyyfB2S+T8PyYAchh/0P0w2S8lxMQZAfqNvRFSY8D9vRqEkExj/PxIqS1hYctU/w4xURK43AUBwGw3FgXcDQAKNYjP+5gBAvSIxmzV69j+OYuSzIoD4P2BYfVXr2ABAx9LKGjb+9j/ZPM4C5TfvP9JLNuF9vv0/e/DKv6DYAUCDt/Iv4bYCQBZkLFX+r/s/Y9W5DfH09j97aPdhnRnkP/Tcaj3DlAJAAV5ii+e2AkDDDL26ZcHjP4IzdFxgRwdA6GETsEva8j8pIJ+OA2b6P51sg4XztwhA1SKflnceAEBYBWs9qKTyP1gabmH8+c4/FxxPx6o4+T9JgaB4nzPzPySe4oxNkfU/wTT0utjw7D8OKx6orVbqP9KXxjlCHP0/s0uT9tfNAUBkY97PJCbyPw6TvBSWJvo/AVn9Yu0h8j+tOD4/kAH6P0CqVlYc2QBAwJN5buwzAkAvK8hq8T76P7JtcrJXafg/gTCYfRXS9j+M1VM29TbxP9Stp9mOpfM/WiD2/2jt+T8D/stkV/P/Pw4iR16wg/8/T+6JmXuU9T9JnKhhIzgGQIQv93uY5/g/R7WZIaXA9D8ce7T2qw35P2s6TpM9RwNA7a97saRI5z+NI0sUIBHvP5Zy8RxUDABAo9zvYpFs+z9Nc9gTzkf0P41sAAn0J/I/jtd3L2GFAUBItSLcwD7iP6AzqEgBL9i/",
          "dtype": "f8"
         },
         "yaxis": "y5"
        },
        {
         "marker": {
          "line": {
           "color": "white",
           "width": 1
          },
          "opacity": 0.7,
          "size": 8
         },
         "mode": "markers",
         "name": "Cluster 1",
         "type": "scatter",
         "x": {
          "bdata": "VBP5TfgQGkBS1bVunR4aQI10deuwFRdAoZPPFRU2HEDUoNaDP9UaQGwEBmxq1B9A+wRCcmMaG0DmeIVFzY8bQH6bigdtIhlA9HtSRolKGkDBVWN7vDIaQOO26TtKtxxAPnTl22RZG0ACRF872fwaQN4HUo3Y9hlA1VLjnZT9HkD11SY7Vb8dQMNbH4mW9x1AP95t3Q3nGkDzTyKIEt0cQHZXqrI7tB9A4gjgYtoyGkCG6eroLjIaQDR0gopwyx5AaX3T3jnfHkDaaPEVelMbQOAfofNB3hxAwBQRIghfG0BRgHoBqSgdQOt8zlKj/BxAr5U/9hSqGkCoyWTZ6y0dQGvU+QjMThlAjl3Sm1W2HEA/b27hPMQgQMw9pmjC9RpA5CcgxBeoHEDfMU9ByHUdQOu6sMC2jBpAOr83w3CTFkD1yabnEisfQNigwooh2B9A97nra4wlG0CGd7zzAOccQCAsV++vrBtASGbTfwfMHUAb7HsHqWUgQCZZykT+3RxA07gAji4tG0BHkwGx77UcQCZg+xOomx9AlFFgywMpG0DqumPdyZoeQKgHxCspWxtAXUZcFJhGHEDNWu28Z2caQBxHZYoSHR5AneyEvko2H0CY6vuN3BgeQIx5E5JokR5AQ2pnTWpXG0AzztwE0xYcQEQV/3PktB1AMusKsmdSHEBftVqOozYeQFE+yXBG+BlAG8YOSRRBG0BS7/cjgF4dQFZV9VRsvh1A90IjxP6SHECHgggUYbUcQLRRHxuOAx5AHFl5KPAEIECD6k1TIsseQKjhciuG5BtA",
          "dtype": "f8"
         },
         "xaxis": "x5",
         "y": {
          "bdata": "OhvteIkdI0CKsPm8RMUlQJXAncds/CJATBC6nWeoI0DO5Sx/NfIhQELtfO1V7SNA48KJkRnbI0CGlVFvXWolQG196JI4oiJAT9SzVY+2I0Cw93T40K0iQLPbCwNhXSNAPvIVdSLhI0B8Jaw/aUwkQP5730AGtSJAbq9R/VwUJUCzzp55S1QjQNndixmVnCFARR6+VhobI0Ck1hTXqC0jQBit1fcSxyFAgBWfrFFCJEB51TZwomYiQGUDFJAcPSVAZH9b72QOIUCbngDU/dkiQOYTE/L03yJAJdebjWILJUB9eNzTCREiQId0HuEgDSJAlRoPjAV0JECBHKpbXnclQKwEazFZ8SJAQfp7SWGwI0D8e6AVphUjQEmXYvZedyNAwNuEy0YxJEDb2HYw2zkkQL7CmoSgliNAfKfJohuZI0CSFCOZSSUjQDDKQwS4CyVANX1nkvWXIUDYMfJKOo8kQKgmxFyLqSNAwGXgiwqbJUBH9kRhPVUkQKGJPYCS5iNATx2bLFO/I0DiOkA7vasiQBBWHX+UViNA28AfKHSLIkBviSocLgkkQKJrGkch9iJA/PdBDptDIkC3QJXeWegkQLtJ3PgiLCRA79RH19ELJUADi6VNzgAkQCVxnRDN+iNAEVEJuqaZIUBAfFEdeZ8jQHuVNQq7piNAfio2AxovJkBQ15yiPUIhQDrtxJUrOyJAGYibE7NrIkD5Xi6sQCEjQPOCim1luyRAD+9RiC1mI0DocB/mxfcjQKgFowVTvSJAWqJ1qzN4I0D9Axupa1slQES2JHolpiNA",
          "dtype": "f8"
         },
         "yaxis": "y5"
        },
        {
         "marker": {
          "line": {
           "color": "white",
           "width": 1
          },
          "opacity": 0.7,
          "size": 8
         },
         "mode": "markers",
         "name": "Cluster 2",
         "type": "scatter",
         "x": {
          "bdata": "oSAYv/QA9L+Ky/dRfv3cv79cc1oB3u2/MX3xkjg967/CniVZtrv0v+DtkV1XrvC/90UTtsqd8L+Uoi2G7k/0vyjjiONwfvO/XDHkO1Ht87+ZGNSJbO3vv5Prt/lXh+W/L4DhvSCj8r+3+wm9goXzvw9ZZAjLJPi/tubs7WV7+b+bFz2U2An1v2v1Y+5/d/C/JwPSY284578DEdtBf+rxv7GmsCkmf+2/cNuEg9Ni5r+mW4tx9wL3v/gmjLmNPPK/1wAhsb6V9r+uj4FF+77zv98HzUkkafi/OyqJ24dc7L80MMIs7NvrvwwHI07jq/K/lQPlR0LFy79nle3ygCHpv46QQz4Q5/e/fnC2MnCD7b8ZD18YBnf3v7g2wtVqJvC/",
          "dtype": "f8"
         },
         "xaxis": "x5",
         "y": {
          "bdata": "RTYuIQMOGsATyHXcyI4YwJ9kGNx6dRnACd3A3DfdGMDxKkoMblYcwNxQpzBv7RzAzDavbe/bFcCIx6nqbtEXwNGPtowbthrAaulayWkGHMBAKwGtIwUbwASXGYTd8BXA9hkOP7QEGsCfyneP1p0fwNgNqp6UVhvABZKOa5OLHcCrHxcQKXccwCshlmy2zBzAAOy749tJF8BQJe5dy2sawF3Mi87/+BnAeAGGvSzEGcC7fUSs/IocwFsNE1f0tBvAaLPIVSsMHcAecpvbGl0ZwONsxmQaVBzAAilXHOjFHMABI/6ozE8ZwBf/U/0EIxzADSIGudMuGsCKCv/A0RcewAWKDvhJUBrAQtMDWdkfHMCY29GTubIdwJirH99ZjhvA",
          "dtype": "f8"
         },
         "yaxis": "y5"
        },
        {
         "marker": {
          "line": {
           "color": "white",
           "width": 1
          },
          "opacity": 0.7,
          "size": 8
         },
         "mode": "markers",
         "name": "Cluster 3",
         "type": "scatter",
         "x": {
          "bdata": "WZj6NlOLBkAUxDN6D8MCQOzUayOn/gdAlhpwfl2TCUAg2uFc9D4MQOfA66tWggJA/FrgJVrlB0Ag6wxfaJ0JQPHY+LC9fgNA7d7mkiHJCUDGUJgAlyMBQC2ovRY5OwpAPEdug47Y/j8Nd0wzKBgDQPKwkyxPsvk/KMuWo32w/j+hIlP/20QOQKP325pzOgBA1Gd7mgEVC0Bt/xz+BTj/P15yt7srcAFAfQxIfcjYA0D085xV9EIGQAyKylOtoAhACy233XlIAkB8eTsK7Ob/P9r6bjTagAhAQo20ThihB0Ab7LEhkRYFQM77zVrGAwZAtQBrbXx1CECPDBBbstYCQCAn8+P93/g/F7lWGSC7DEBgbnMKhpoHQHh4nompfQZAIKTGwqMcBkAXGUOSbPT3P3iBly0ObgRAGK3M7vNSBkCkkMHmfWMBQJ82zHKcjgRAplt2yCU4CUBI8gBv3Q8BQHsfnfiuXApAx60CXU/fDkAs4uGODyXyP+0M1gkH4wxAaMTLnRJCBUCd7t04/4UAQDICxYY6GgNAuU00GmRrCEDROKFJ3X4EQEpu8s8UQABA//q27rvyCEAzJEDalm0CQMZ5h3ktlwNAEY11vUvXBkDHTKXCWAP7P8/ni/UcBQxAvzyG5YA/B0BOFshbDJoHQNucxXGyKglAK1ONGyTrCkC+/62WP9gDQKcAxeeTpgpA8sO6JvAtB0BTSk8DpwACQAKV+ZWtGAlA7bOlcfyZEEBeVcZu9K0FQC0ZjYVBAgZAun465rsdA0D6xkLWPSwHQMMN1jiBt/0/",
          "dtype": "f8"
         },
         "xaxis": "x5",
         "y": {
          "bdata": "TE0e7PkXDcDSxU6OUyYTwLqmltePDRLA1l6UE8mAEcDzRiUDulwTwPACtFuARBTANJ8WShfTFMDHreFnhMYTwArctAsCAhLALkJ2Wa6fFMBsst2lNI0QwCCs7cwTLRjAw/TtvkVzEMDsNq9SGxAVwGJnnmXgRBHAXvkyMAaREsAJyGOw1pkMwK1Ils+AABPAS4UNYFhgDsA/DuUdDmESwJsAlMQJuAjA3jDCZb6SD8DNpXxUaSMQwEkH6+NpdhPAJERGx8vMEcB1Zqne7PkRwGztQdinwQvAKW5w6oltEsAuR86aBYcSwGOUC0Q0QxPAx6VDXvv5EMCUj2FBZf4SwE5vyCwoLw/AMIwVPHfYDcBacsEE+/gMwP8TAG8UQxfAsl/vZQj1EMD0w00nfqkXwOrcYanGHRPAocpuWpqHEcDHwxlVyrwMwC2MqbsorhbAgkkpDQ6pEcAumGFFc98PwH2kJeiFGRLABRpOSLocE8C0qs0JkEYKwHjURClOoBDASwuBkvR3FcCda6I0T3wOwBzkd/D1fBXAJaRMmSE3EMA7PYtOtisQwJ62DR/DHhDAsY3sFcxoEMCLRg0u7AUPwPxkFehRkA3ALbqHwBLoDMDZ3dSb8O0SwMP8ivPMAhTAaAX/6Il+EcBd07Xs15YQwNHU9cOaHRPA3WGg5firEMAhBwJeFNgPwIp4zXPlnRXAs+60KvnFE8BiQ63JlGkQwNKw0UbpjhXA01g9GECWE8ATKLYZD0YTwC8sfDcF9xLAKX4V5xP+C8DnyTC+fU0TwGpesdnvRg7A",
          "dtype": "f8"
         },
         "yaxis": "y5"
        },
        {
         "marker": {
          "line": {
           "color": "white",
           "width": 1
          },
          "opacity": 0.7,
          "size": 8
         },
         "mode": "markers",
         "name": "Cluster 4",
         "type": "scatter",
         "x": {
          "bdata": "KEeQ45aR/L/iMZY3Zir9v8GDi6/ecfq/M28RrCQVBsC5gRsE5ST7v/8YLml6AAbAW4JXExesAMCWjs0LJ1ICwA5SCWs0Pfu/OAXiSI7rAsC+FsV5sSX5v8HvoXpkM/+/QuvQ85Zx+L9vtp6xiiwFwHL10fyAgQDAR7AZIRQ8/b88dCVFLuX9v43Nw1/Ao/q/qyqvluVeA8CLX+ESXs39v6y543i1hgLAQJNJDifRAsDn9jUlQA/9vyQlhYA+P/+/f6La3oBk+b+6xD7ubP/9v2cnWWaubgHAgQF1D5rz/L9g5wPwIDn/v6rpM0OZTv+/GZ5XXnUXDsBWqMN2TPYCwIX4JPhoeP6/7hOIPB3UA8Ct6SiSW9P7v/WxKQ1kdgDAbhwVgh3EBcChkEbrD136v51en6wQeQDA",
          "dtype": "f8"
         },
         "xaxis": "x5",
         "y": {
          "bdata": "8okeHe+2FcBQ6+I7CLkbwPdVK52dGBjALK0YgQDeGsBjO5A9k0kbwMmz7IlJUxrA14VAQhuaGsB8iobLCocawL4Dt8/eyhfA4PcAZZ5kG8DyNyDI71MXwFqMGaGW8x3AgTpNefB4FsAuTRDirUgWwJdygx5rfhbAXhwiEyr2GcCczkTzSacZwDSZoX2q8BnAKvdINSJ5GMDTjgbYvWAZwOrisx7g6BvA3t0M8KB4HsAZpttdkEQbwERZyJvtrhjAAZ6b0tuRGcAPSN8kE78YwH5Mk+uTmBnAmTIb1Xq7GsB2d3qB0nQbwJs34UPFpBvAXPgI0UnQG8DrEpkyBFkcwB4PpHqNmxnAtWr6Hg/2GMAQtuIx7lYcwEKJ5Hn7/RrAj4UvZmBLHsCFnBDOTXwZwGB+RlF4KxrA",
          "dtype": "f8"
         },
         "yaxis": "y5"
        },
        {
         "marker": {
          "line": {
           "color": "white",
           "width": 1
          },
          "opacity": 0.7,
          "size": 8
         },
         "mode": "markers",
         "name": "Cluster 5",
         "type": "scatter",
         "x": [],
         "xaxis": "x5",
         "y": [],
         "yaxis": "y5"
        },
        {
         "marker": {
          "line": {
           "color": "white",
           "width": 1
          },
          "opacity": 0.7,
          "size": 12
         },
         "mode": "markers",
         "name": "Centers",
         "type": "scatter",
         "x": {
          "bdata": "UZ23V4Qc+L/Np6tbnnwcQPNU2jmGZPG/nB6Da+B7BUCCvbrsl5UAwA==",
          "dtype": "f8"
         },
         "xaxis": "x5",
         "y": {
          "bdata": "QNfioEdD+T90y9ttSYojQIoAdKCu8RrAP3Y8FkfQEcDoXrK5kRwawA==",
          "dtype": "f8"
         },
         "yaxis": "y5"
        },
        {
         "marker": {
          "line": {
           "color": "white",
           "width": 1
          },
          "opacity": 0.7,
          "size": 8
         },
         "mode": "markers",
         "name": "Cluster 0",
         "type": "scatter",
         "x": {
          "bdata": "be9IunzK97/vrVZD5r77v4uX07R7Rvi/m3ymvoEGBMDPdOiRE0T4v5pKidm0V/O/dNTHkIrn4r+4sw9oN831v460fX1UZADAB4JZJErmCcC9NrxttQf2vwZn9QbTw/m/K1vyXLan+b+EL0cA6NjzvxGa49vNKQPAef21nVJH/7+Efy1bzRcGwJYKCzmjLu2/jZTFQ5ia+79TvQFNTMcAwGY8a3yLH+e/7ACSi9xX47+giZ2r7f/8v4SSu5ZdMQHAYW1oxdOw9b/qOOOnk3rwvyccsWX7OwPAmt/4UXqD+r/j68hmfVT9vwqBhOS57dy/NOVXmmLYAcCY0NQrQDr7v7G5iJ3v3fO/pL7nxPpk678xS2oMDx0FwDAKevDDWwTAfqx1KOuQ+b927uSw31f/v86Qps7swPO/OxmxJSw5AMD3L/HPLtDxv5sFZEe3ugPAdXwLOnoi6b+y4OYZw3f6v5QuHrzfNgPAITBY5T9W+L+Fo2dd8dXzv/uoYyURDPq/YtCzwEaD87+Cp+7NCEy0P6flg6nmHfC/aPjRZt7R8r+huIpDnFH4vyp34x43rvm/TWx6oEfTAMAoKjdaU/70v34EKHM9bP2/QL8lQ7wJ7b9CxcdEpAHxvwuNWfylOOW/j3l6Dicl8r+TUF0MSd/wvwcXpCvr2Pm/Rmhe41kE4r/zdXKBWg7sv6ML0OstmfC/nh+PO5fJ5L/QxGXDFvX8vzALboLRYPO/z727UwP86L+0X1fWjwsCwGmjAsny1f6/mMLiqHM48r/D+0Bo2jYBwEgQrIq7Z+e/",
          "dtype": "f8"
         },
         "xaxis": "x6",
         "y": {
          "bdata": "h7X+7P8SA0A2IzgbvAUAQELIFh7QT/A/FgGRl2or/D8tYDGyYTfqP/ev0wj0XQJAyuHTaj628z/xAFnQTOn0P9UC++uDzvQ/ypyyfB2S+T8PyYAchh/0P0w2S8lxMQZAfqNvRFSY8D9vRqEkExj/PxIqS1hYctU/w4xURK43AUBwGw3FgXcDQAKNYjP+5gBAvSIxmzV69j+OYuSzIoD4P2BYfVXr2ABAx9LKGjb+9j/ZPM4C5TfvP9JLNuF9vv0/e/DKv6DYAUCDt/Iv4bYCQBZkLFX+r/s/Y9W5DfH09j97aPdhnRnkP/Tcaj3DlAJAAV5ii+e2AkDDDL26ZcHjP4IzdFxgRwdA6GETsEva8j8pIJ+OA2b6P51sg4XztwhA1SKflnceAEBYBWs9qKTyP1gabmH8+c4/FxxPx6o4+T9JgaB4nzPzPySe4oxNkfU/wTT0utjw7D8OKx6orVbqP9KXxjlCHP0/s0uT9tfNAUBkY97PJCbyPw6TvBSWJvo/AVn9Yu0h8j+tOD4/kAH6P0CqVlYc2QBAwJN5buwzAkAvK8hq8T76P7JtcrJXafg/gTCYfRXS9j+M1VM29TbxP9Stp9mOpfM/WiD2/2jt+T8D/stkV/P/Pw4iR16wg/8/T+6JmXuU9T9JnKhhIzgGQIQv93uY5/g/R7WZIaXA9D8ce7T2qw35P2s6TpM9RwNA7a97saRI5z+NI0sUIBHvP5Zy8RxUDABAo9zvYpFs+z9Nc9gTzkf0P41sAAn0J/I/jtd3L2GFAUBItSLcwD7iP6AzqEgBL9i/",
          "dtype": "f8"
         },
         "yaxis": "y6"
        },
        {
         "marker": {
          "line": {
           "color": "white",
           "width": 1
          },
          "opacity": 0.7,
          "size": 8
         },
         "mode": "markers",
         "name": "Cluster 1",
         "type": "scatter",
         "x": {
          "bdata": "VBP5TfgQGkBS1bVunR4aQI10deuwFRdAoZPPFRU2HEDUoNaDP9UaQGwEBmxq1B9A+wRCcmMaG0DmeIVFzY8bQH6bigdtIhlA9HtSRolKGkDBVWN7vDIaQOO26TtKtxxAPnTl22RZG0ACRF872fwaQN4HUo3Y9hlA1VLjnZT9HkD11SY7Vb8dQMNbH4mW9x1AP95t3Q3nGkDzTyKIEt0cQHZXqrI7tB9A4gjgYtoyGkCG6eroLjIaQDR0gopwyx5AaX3T3jnfHkDaaPEVelMbQOAfofNB3hxAwBQRIghfG0BRgHoBqSgdQOt8zlKj/BxAr5U/9hSqGkCoyWTZ6y0dQGvU+QjMThlAjl3Sm1W2HEA/b27hPMQgQMw9pmjC9RpA5CcgxBeoHEDfMU9ByHUdQOu6sMC2jBpAOr83w3CTFkD1yabnEisfQNigwooh2B9A97nra4wlG0CGd7zzAOccQCAsV++vrBtASGbTfwfMHUAb7HsHqWUgQCZZykT+3RxA07gAji4tG0BHkwGx77UcQCZg+xOomx9AlFFgywMpG0DqumPdyZoeQKgHxCspWxtAXUZcFJhGHEDNWu28Z2caQBxHZYoSHR5AneyEvko2H0CY6vuN3BgeQIx5E5JokR5AQ2pnTWpXG0AzztwE0xYcQEQV/3PktB1AMusKsmdSHEBftVqOozYeQFE+yXBG+BlAG8YOSRRBG0BS7/cjgF4dQFZV9VRsvh1A90IjxP6SHECHgggUYbUcQLRRHxuOAx5AHFl5KPAEIECD6k1TIsseQKjhciuG5BtA",
          "dtype": "f8"
         },
         "xaxis": "x6",
         "y": {
          "bdata": "OhvteIkdI0CKsPm8RMUlQJXAncds/CJATBC6nWeoI0DO5Sx/NfIhQELtfO1V7SNA48KJkRnbI0CGlVFvXWolQG196JI4oiJAT9SzVY+2I0Cw93T40K0iQLPbCwNhXSNAPvIVdSLhI0B8Jaw/aUwkQP5730AGtSJAbq9R/VwUJUCzzp55S1QjQNndixmVnCFARR6+VhobI0Ck1hTXqC0jQBit1fcSxyFAgBWfrFFCJEB51TZwomYiQGUDFJAcPSVAZH9b72QOIUCbngDU/dkiQOYTE/L03yJAJdebjWILJUB9eNzTCREiQId0HuEgDSJAlRoPjAV0JECBHKpbXnclQKwEazFZ8SJAQfp7SWGwI0D8e6AVphUjQEmXYvZedyNAwNuEy0YxJEDb2HYw2zkkQL7CmoSgliNAfKfJohuZI0CSFCOZSSUjQDDKQwS4CyVANX1nkvWXIUDYMfJKOo8kQKgmxFyLqSNAwGXgiwqbJUBH9kRhPVUkQKGJPYCS5iNATx2bLFO/I0DiOkA7vasiQBBWHX+UViNA28AfKHSLIkBviSocLgkkQKJrGkch9iJA/PdBDptDIkC3QJXeWegkQLtJ3PgiLCRA79RH19ELJUADi6VNzgAkQCVxnRDN+iNAEVEJuqaZIUBAfFEdeZ8jQHuVNQq7piNAfio2AxovJkBQ15yiPUIhQDrtxJUrOyJAGYibE7NrIkD5Xi6sQCEjQPOCim1luyRAD+9RiC1mI0DocB/mxfcjQKgFowVTvSJAWqJ1qzN4I0D9Axupa1slQES2JHolpiNA",
          "dtype": "f8"
         },
         "yaxis": "y6"
        },
        {
         "marker": {
          "line": {
           "color": "white",
           "width": 1
          },
          "opacity": 0.7,
          "size": 8
         },
         "mode": "markers",
         "name": "Cluster 2",
         "type": "scatter",
         "x": {
          "bdata": "oSAYv/QA9L+Ky/dRfv3cv79cc1oB3u2/MX3xkjg967/CniVZtrv0v+DtkV1XrvC/90UTtsqd8L+Uoi2G7k/0vyjjiONwfvO/XDHkO1Ht87+ZGNSJbO3vv5Prt/lXh+W/L4DhvSCj8r+3+wm9goXzvw9ZZAjLJPi/tubs7WV7+b+bFz2U2An1v2v1Y+5/d/C/JwPSY284578DEdtBf+rxv7GmsCkmf+2/cNuEg9Ni5r+mW4tx9wL3v/gmjLmNPPK/1wAhsb6V9r+uj4FF+77zv98HzUkkafi/OyqJ24dc7L80MMIs7NvrvwwHI07jq/K/lQPlR0LFy79nle3ygCHpv46QQz4Q5/e/fnC2MnCD7b8ZD18YBnf3v7g2wtVqJvC/",
          "dtype": "f8"
         },
         "xaxis": "x6",
         "y": {
          "bdata": "RTYuIQMOGsATyHXcyI4YwJ9kGNx6dRnACd3A3DfdGMDxKkoMblYcwNxQpzBv7RzAzDavbe/bFcCIx6nqbtEXwNGPtowbthrAaulayWkGHMBAKwGtIwUbwASXGYTd8BXA9hkOP7QEGsCfyneP1p0fwNgNqp6UVhvABZKOa5OLHcCrHxcQKXccwCshlmy2zBzAAOy749tJF8BQJe5dy2sawF3Mi87/+BnAeAGGvSzEGcC7fUSs/IocwFsNE1f0tBvAaLPIVSsMHcAecpvbGl0ZwONsxmQaVBzAAilXHOjFHMABI/6ozE8ZwBf/U/0EIxzADSIGudMuGsCKCv/A0RcewAWKDvhJUBrAQtMDWdkfHMCY29GTubIdwJirH99ZjhvA",
          "dtype": "f8"
         },
         "yaxis": "y6"
        },
        {
         "marker": {
          "line": {
           "color": "white",
           "width": 1
          },
          "opacity": 0.7,
          "size": 8
         },
         "mode": "markers",
         "name": "Cluster 3",
         "type": "scatter",
         "x": {
          "bdata": "WZj6NlOLBkDx2PiwvX4DQMZQmACXIwFAPEdug47Y/j/ysJMsT7L5PyjLlqN9sP4/oSJT/9tEDkCj99uaczoAQNRne5oBFQtAbf8c/gU4/z9ecre7K3ABQH0MSH3I2ANA9POcVfRCBkALLbfdeUgCQHx5Owrs5v8/2vpuNNqACEC1AGttfHUIQCAn8+P93/g/F7lWGSC7DEBgbnMKhpoHQCCkxsKjHAZAGK3M7vNSBkCkkMHmfWMBQEjyAG/dDwFALOLhjg8l8j+d7t04/4UAQLlNNBpkawhA0TihSd1+BEBKbvLPFEAAQP/6tu678ghAMyRA2pZtAkDGeYd5LZcDQBGNdb1L1wZAx0ylwlgD+z+/PIblgD8HQE4WyFsMmgdAK1ONGyTrCkC+/62WP9gDQFNKTwOnAAJAun465rsdA0DDDdY4gbf9Pw==",
          "dtype": "f8"
         },
         "xaxis": "x6",
         "y": {
          "bdata": "TE0e7PkXDcAK3LQLAgISwGyy3aU0jRDAw/TtvkVzEMBiZ55l4EQRwF75MjAGkRLACchjsNaZDMCtSJbPgAATwEuFDWBYYA7APw7lHQ5hEsCbAJTECbgIwN4wwmW+kg/AzaV8VGkjEMAkREbHy8wRwHVmqd7s+RHAbO1B2KfBC8DHpUNe+/kQwE5vyCwoLw/AMIwVPHfYDcBacsEE+/gMwLJf72UI9RDAocpuWpqHEcDHwxlVyrwMwC6YYUVz3w/AtKrNCZBGCsCda6I0T3wOwCWkTJkhNxDAOz2LTrYrEMCetg0fwx4QwLGN7BXMaBDAi0YNLuwFD8D8ZBXoUZANwC26h8AS6AzA2d3Um/DtEsBoBf/oiX4RwF3TtezXlhDA3WGg5firEMAhBwJeFNgPwGJDrcmUaRDAKX4V5xP+C8BqXrHZ70YOwA==",
          "dtype": "f8"
         },
         "yaxis": "y6"
        },
        {
         "marker": {
          "line": {
           "color": "white",
           "width": 1
          },
          "opacity": 0.7,
          "size": 8
         },
         "mode": "markers",
         "name": "Cluster 4",
         "type": "scatter",
         "x": {
          "bdata": "KEeQ45aR/L/iMZY3Zir9v8GDi6/ecfq/M28RrCQVBsC5gRsE5ST7v/8YLml6AAbAW4JXExesAMCWjs0LJ1ICwA5SCWs0Pfu/OAXiSI7rAsC+FsV5sSX5v8HvoXpkM/+/QuvQ85Zx+L9vtp6xiiwFwHL10fyAgQDAR7AZIRQ8/b88dCVFLuX9v43Nw1/Ao/q/qyqvluVeA8CLX+ESXs39v6y543i1hgLAQJNJDifRAsDn9jUlQA/9vyQlhYA+P/+/f6La3oBk+b+6xD7ubP/9v2cnWWaubgHAgQF1D5rz/L9g5wPwIDn/v6rpM0OZTv+/GZ5XXnUXDsBWqMN2TPYCwIX4JPhoeP6/7hOIPB3UA8Ct6SiSW9P7v/WxKQ1kdgDAbhwVgh3EBcChkEbrD136v51en6wQeQDA",
          "dtype": "f8"
         },
         "xaxis": "x6",
         "y": {
          "bdata": "8okeHe+2FcBQ6+I7CLkbwPdVK52dGBjALK0YgQDeGsBjO5A9k0kbwMmz7IlJUxrA14VAQhuaGsB8iobLCocawL4Dt8/eyhfA4PcAZZ5kG8DyNyDI71MXwFqMGaGW8x3AgTpNefB4FsAuTRDirUgWwJdygx5rfhbAXhwiEyr2GcCczkTzSacZwDSZoX2q8BnAKvdINSJ5GMDTjgbYvWAZwOrisx7g6BvA3t0M8KB4HsAZpttdkEQbwERZyJvtrhjAAZ6b0tuRGcAPSN8kE78YwH5Mk+uTmBnAmTIb1Xq7GsB2d3qB0nQbwJs34UPFpBvAXPgI0UnQG8DrEpkyBFkcwB4PpHqNmxnAtWr6Hg/2GMAQtuIx7lYcwEKJ5Hn7/RrAj4UvZmBLHsCFnBDOTXwZwGB+RlF4KxrA",
          "dtype": "f8"
         },
         "yaxis": "y6"
        },
        {
         "marker": {
          "line": {
           "color": "white",
           "width": 1
          },
          "opacity": 0.7,
          "size": 8
         },
         "mode": "markers",
         "name": "Cluster 5",
         "type": "scatter",
         "x": {
          "bdata": "FMQzeg/DAkDs1Gsjp/4HQJYacH5dkwlAINrhXPQ+DEDnwOurVoICQPxa4CVa5QdAIOsMX2idCUDt3uaSIckJQC2ovRY5OwpADXdMMygYA0AMispTraAIQEKNtE4YoQdAG+yxIZEWBUDO+81axgMGQI8MEFuy1gJAeHieial9BkAXGUOSbPT3P3iBly0ObgRAnzbMcpyOBECmW3bIJTgJQHsfnfiuXApAx60CXU/fDkDtDNYJB+MMQGjEy50SQgVAMgLFhjoaA0DP54v1HAUMQNucxXGyKglApwDF55OmCkDyw7om8C0HQAKV+ZWtGAlA7bOlcfyZEEBeVcZu9K0FQC0ZjYVBAgZA+sZC1j0sB0A=",
          "dtype": "f8"
         },
         "xaxis": "x6",
         "y": {
          "bdata": "0sVOjlMmE8C6ppbXjw0SwNZelBPJgBHA80YlA7pcE8DwArRbgEQUwDSfFkoX0xTAx63hZ4TGE8AuQnZZrp8UwCCs7cwTLRjA7DavUhsQFcBJB+vjaXYTwClucOqJbRLALkfOmgWHEsBjlAtENEMTwJSPYUFl/hLA/xMAbxRDF8D0w00nfqkXwOrcYanGHRPALYypuyiuFsCCSSkNDqkRwH2kJeiFGRLABRpOSLocE8B41EQpTqAQwEsLgZL0dxXAHOR38PV8FcDD/IrzzAIUwNHU9cOaHRPAinjNc+WdFcCz7rQq+cUTwNKw0UbpjhXA01g9GECWE8ATKLYZD0YTwC8sfDcF9xLA58kwvn1NE8A=",
          "dtype": "f8"
         },
         "yaxis": "y6"
        },
        {
         "marker": {
          "line": {
           "color": "white",
           "width": 1
          },
          "opacity": 0.7,
          "size": 8
         },
         "mode": "markers",
         "name": "Cluster 6",
         "type": "scatter",
         "x": [],
         "xaxis": "x6",
         "y": [],
         "yaxis": "y6"
        },
        {
         "marker": {
          "line": {
           "color": "white",
           "width": 1
          },
          "opacity": 0.7,
          "size": 12
         },
         "mode": "markers",
         "name": "Centers",
         "type": "scatter",
         "x": {
          "bdata": "UZ23V4Qc+L/Np6tbnnwcQPNU2jmGZPG/EHviYYX5A0CCvbrsl5UAwO+orBqaZwdA",
          "dtype": "f8"
         },
         "xaxis": "x6",
         "y": {
          "bdata": "QNfioEdD+T90y9ttSYojQIoAdKCu8RrAERA59AYREMDoXrK5kRwawBk+EnCBCRTA",
          "dtype": "f8"
         },
         "yaxis": "y6"
        },
        {
         "marker": {
          "line": {
           "color": "white",
           "width": 1
          },
          "opacity": 0.7,
          "size": 8
         },
         "mode": "markers",
         "name": "Cluster 0",
         "type": "scatter",
         "x": {
          "bdata": "i5fTtHtG+L+bfKa+gQYEwM906JETRPi/uLMPaDfN9b+OtH19VGQAwAeCWSRK5gnAvTa8bbUH9r8rW/Jctqf5vxGa49vNKQPAhH8tW80XBsCNlMVDmJr7v1O9AU1MxwDAoImdq+3//L+EkruWXTEBwCccsWX7OwPAmt/4UXqD+r/j68hmfVT9v5jQ1CtAOvu/pL7nxPpk678xS2oMDx0FwHbu5LDfV/+/zpCmzuzA8787GbElLDkAwPcv8c8u0PG/mwVkR7e6A8B1fAs6eiLpv7Lg5hnDd/q/lC4evN82A8CFo2dd8dXzv/uoYyURDPq/YtCzwEaD87+huIpDnFH4vyp34x43rvm/TWx6oEfTAMAoKjdaU/70v34EKHM9bP2/j3l6Dicl8r8HF6Qr69j5v54fjzuXyeS/0MRlwxb1/L+0X1fWjwsCwGmjAsny1f6/w/tAaNo2AcBIEKyKu2fnvw==",
          "dtype": "f8"
         },
         "xaxis": "x7",
         "y": {
          "bdata": "QsgWHtBP8D8WAZGXaiv8Py1gMbJhN+o/8QBZ0Ezp9D/VAvvrg870P8qcsnwdkvk/D8mAHIYf9D9+o29EVJjwPxIqS1hYctU/cBsNxYF3A0C9IjGbNXr2P45i5LMigPg/2TzOAuU37z/SSzbhfb79PxZkLFX+r/s/Y9W5DfH09j97aPdhnRnkP8MMvbplweM/6GETsEva8j8pIJ+OA2b6P1gFaz2opPI/WBpuYfz5zj8XHE/Hqjj5P0mBoHifM/M/JJ7ijE2R9T/BNPS62PDsPw4rHqitVuo/0pfGOUIc/T9kY97PJCbyPw6TvBSWJvo/AVn9Yu0h8j8vK8hq8T76P7JtcrJXafg/gTCYfRXS9j+M1VM29TbxP9Stp9mOpfM/T+6JmXuU9T+EL/d7mOf4P+2ve7GkSOc/jSNLFCAR7z9Nc9gTzkf0P41sAAn0J/I/SLUi3MA+4j+gM6hIAS/Yvw==",
          "dtype": "f8"
         },
         "yaxis": "y7"
        },
        {
         "marker": {
          "line": {
           "color": "white",
           "width": 1
          },
          "opacity": 0.7,
          "size": 8
         },
         "mode": "markers",
         "name": "Cluster 1",
         "type": "scatter",
         "x": {
          "bdata": "VBP5TfgQGkBS1bVunR4aQI10deuwFRdAoZPPFRU2HEDUoNaDP9UaQGwEBmxq1B9A+wRCcmMaG0DmeIVFzY8bQH6bigdtIhlA9HtSRolKGkDBVWN7vDIaQOO26TtKtxxAPnTl22RZG0ACRF872fwaQN4HUo3Y9hlA1VLjnZT9HkD11SY7Vb8dQMNbH4mW9x1AP95t3Q3nGkDzTyKIEt0cQHZXqrI7tB9A4gjgYtoyGkCG6eroLjIaQDR0gopwyx5AaX3T3jnfHkDaaPEVelMbQOAfofNB3hxAwBQRIghfG0BRgHoBqSgdQOt8zlKj/BxAr5U/9hSqGkCoyWTZ6y0dQGvU+QjMThlAjl3Sm1W2HEA/b27hPMQgQMw9pmjC9RpA5CcgxBeoHEDfMU9ByHUdQOu6sMC2jBpAOr83w3CTFkD1yabnEisfQNigwooh2B9A97nra4wlG0CGd7zzAOccQCAsV++vrBtASGbTfwfMHUAb7HsHqWUgQCZZykT+3RxA07gAji4tG0BHkwGx77UcQCZg+xOomx9AlFFgywMpG0DqumPdyZoeQKgHxCspWxtAXUZcFJhGHEDNWu28Z2caQBxHZYoSHR5AneyEvko2H0CY6vuN3BgeQIx5E5JokR5AQ2pnTWpXG0AzztwE0xYcQEQV/3PktB1AMusKsmdSHEBftVqOozYeQFE+yXBG+BlAG8YOSRRBG0BS7/cjgF4dQFZV9VRsvh1A90IjxP6SHECHgggUYbUcQLRRHxuOAx5AHFl5KPAEIECD6k1TIsseQKjhciuG5BtA",
          "dtype": "f8"
         },
         "xaxis": "x7",
         "y": {
          "bdata": "OhvteIkdI0CKsPm8RMUlQJXAncds/CJATBC6nWeoI0DO5Sx/NfIhQELtfO1V7SNA48KJkRnbI0CGlVFvXWolQG196JI4oiJAT9SzVY+2I0Cw93T40K0iQLPbCwNhXSNAPvIVdSLhI0B8Jaw/aUwkQP5730AGtSJAbq9R/VwUJUCzzp55S1QjQNndixmVnCFARR6+VhobI0Ck1hTXqC0jQBit1fcSxyFAgBWfrFFCJEB51TZwomYiQGUDFJAcPSVAZH9b72QOIUCbngDU/dkiQOYTE/L03yJAJdebjWILJUB9eNzTCREiQId0HuEgDSJAlRoPjAV0JECBHKpbXnclQKwEazFZ8SJAQfp7SWGwI0D8e6AVphUjQEmXYvZedyNAwNuEy0YxJEDb2HYw2zkkQL7CmoSgliNAfKfJohuZI0CSFCOZSSUjQDDKQwS4CyVANX1nkvWXIUDYMfJKOo8kQKgmxFyLqSNAwGXgiwqbJUBH9kRhPVUkQKGJPYCS5iNATx2bLFO/I0DiOkA7vasiQBBWHX+UViNA28AfKHSLIkBviSocLgkkQKJrGkch9iJA/PdBDptDIkC3QJXeWegkQLtJ3PgiLCRA79RH19ELJUADi6VNzgAkQCVxnRDN+iNAEVEJuqaZIUBAfFEdeZ8jQHuVNQq7piNAfio2AxovJkBQ15yiPUIhQDrtxJUrOyJAGYibE7NrIkD5Xi6sQCEjQPOCim1luyRAD+9RiC1mI0DocB/mxfcjQKgFowVTvSJAWqJ1qzN4I0D9Axupa1slQES2JHolpiNA",
          "dtype": "f8"
         },
         "yaxis": "y7"
        },
        {
         "marker": {
          "line": {
           "color": "white",
           "width": 1
          },
          "opacity": 0.7,
          "size": 8
         },
         "mode": "markers",
         "name": "Cluster 2",
         "type": "scatter",
         "x": {
          "bdata": "oSAYv/QA9L+Ky/dRfv3cv79cc1oB3u2/MX3xkjg967/CniVZtrv0v+DtkV1XrvC/90UTtsqd8L+Uoi2G7k/0vyjjiONwfvO/XDHkO1Ht87+ZGNSJbO3vv5Prt/lXh+W/L4DhvSCj8r+3+wm9goXzvw9ZZAjLJPi/tubs7WV7+b+bFz2U2An1v2v1Y+5/d/C/JwPSY284578DEdtBf+rxv7GmsCkmf+2/cNuEg9Ni5r+mW4tx9wL3v/gmjLmNPPK/1wAhsb6V9r+uj4FF+77zv98HzUkkafi/OyqJ24dc7L80MMIs7NvrvwwHI07jq/K/lQPlR0LFy79nle3ygCHpv46QQz4Q5/e/fnC2MnCD7b8ZD18YBnf3v7g2wtVqJvC/",
          "dtype": "f8"
         },
         "xaxis": "x7",
         "y": {
          "bdata": "RTYuIQMOGsATyHXcyI4YwJ9kGNx6dRnACd3A3DfdGMDxKkoMblYcwNxQpzBv7RzAzDavbe/bFcCIx6nqbtEXwNGPtowbthrAaulayWkGHMBAKwGtIwUbwASXGYTd8BXA9hkOP7QEGsCfyneP1p0fwNgNqp6UVhvABZKOa5OLHcCrHxcQKXccwCshlmy2zBzAAOy749tJF8BQJe5dy2sawF3Mi87/+BnAeAGGvSzEGcC7fUSs/IocwFsNE1f0tBvAaLPIVSsMHcAecpvbGl0ZwONsxmQaVBzAAilXHOjFHMABI/6ozE8ZwBf/U/0EIxzADSIGudMuGsCKCv/A0RcewAWKDvhJUBrAQtMDWdkfHMCY29GTubIdwJirH99ZjhvA",
          "dtype": "f8"
         },
         "yaxis": "y7"
        },
        {
         "marker": {
          "line": {
           "color": "white",
           "width": 1
          },
          "opacity": 0.7,
          "size": 8
         },
         "mode": "markers",
         "name": "Cluster 3",
         "type": "scatter",
         "x": {
          "bdata": "WZj6NlOLBkDx2PiwvX4DQMZQmACXIwFAPEdug47Y/j/ysJMsT7L5PyjLlqN9sP4/oSJT/9tEDkCj99uaczoAQNRne5oBFQtAbf8c/gU4/z9ecre7K3ABQH0MSH3I2ANA9POcVfRCBkALLbfdeUgCQHx5Owrs5v8/2vpuNNqACEC1AGttfHUIQCAn8+P93/g/F7lWGSC7DEBgbnMKhpoHQCCkxsKjHAZAGK3M7vNSBkCkkMHmfWMBQEjyAG/dDwFALOLhjg8l8j+d7t04/4UAQLlNNBpkawhA0TihSd1+BEBKbvLPFEAAQP/6tu678ghAMyRA2pZtAkDGeYd5LZcDQBGNdb1L1wZAx0ylwlgD+z+/PIblgD8HQE4WyFsMmgdAK1ONGyTrCkC+/62WP9gDQFNKTwOnAAJAun465rsdA0DDDdY4gbf9Pw==",
          "dtype": "f8"
         },
         "xaxis": "x7",
         "y": {
          "bdata": "TE0e7PkXDcAK3LQLAgISwGyy3aU0jRDAw/TtvkVzEMBiZ55l4EQRwF75MjAGkRLACchjsNaZDMCtSJbPgAATwEuFDWBYYA7APw7lHQ5hEsCbAJTECbgIwN4wwmW+kg/AzaV8VGkjEMAkREbHy8wRwHVmqd7s+RHAbO1B2KfBC8DHpUNe+/kQwE5vyCwoLw/AMIwVPHfYDcBacsEE+/gMwLJf72UI9RDAocpuWpqHEcDHwxlVyrwMwC6YYUVz3w/AtKrNCZBGCsCda6I0T3wOwCWkTJkhNxDAOz2LTrYrEMCetg0fwx4QwLGN7BXMaBDAi0YNLuwFD8D8ZBXoUZANwC26h8AS6AzA2d3Um/DtEsBoBf/oiX4RwF3TtezXlhDA3WGg5firEMAhBwJeFNgPwGJDrcmUaRDAKX4V5xP+C8BqXrHZ70YOwA==",
          "dtype": "f8"
         },
         "yaxis": "y7"
        },
        {
         "marker": {
          "line": {
           "color": "white",
           "width": 1
          },
          "opacity": 0.7,
          "size": 8
         },
         "mode": "markers",
         "name": "Cluster 4",
         "type": "scatter",
         "x": {
          "bdata": "KEeQ45aR/L/iMZY3Zir9v8GDi6/ecfq/M28RrCQVBsC5gRsE5ST7v/8YLml6AAbAW4JXExesAMCWjs0LJ1ICwA5SCWs0Pfu/OAXiSI7rAsC+FsV5sSX5v8HvoXpkM/+/QuvQ85Zx+L9vtp6xiiwFwHL10fyAgQDAR7AZIRQ8/b88dCVFLuX9v43Nw1/Ao/q/qyqvluVeA8CLX+ESXs39v6y543i1hgLAQJNJDifRAsDn9jUlQA/9vyQlhYA+P/+/f6La3oBk+b+6xD7ubP/9v2cnWWaubgHAgQF1D5rz/L9g5wPwIDn/v6rpM0OZTv+/GZ5XXnUXDsBWqMN2TPYCwIX4JPhoeP6/7hOIPB3UA8Ct6SiSW9P7v/WxKQ1kdgDAbhwVgh3EBcChkEbrD136v51en6wQeQDA",
          "dtype": "f8"
         },
         "xaxis": "x7",
         "y": {
          "bdata": "8okeHe+2FcBQ6+I7CLkbwPdVK52dGBjALK0YgQDeGsBjO5A9k0kbwMmz7IlJUxrA14VAQhuaGsB8iobLCocawL4Dt8/eyhfA4PcAZZ5kG8DyNyDI71MXwFqMGaGW8x3AgTpNefB4FsAuTRDirUgWwJdygx5rfhbAXhwiEyr2GcCczkTzSacZwDSZoX2q8BnAKvdINSJ5GMDTjgbYvWAZwOrisx7g6BvA3t0M8KB4HsAZpttdkEQbwERZyJvtrhjAAZ6b0tuRGcAPSN8kE78YwH5Mk+uTmBnAmTIb1Xq7GsB2d3qB0nQbwJs34UPFpBvAXPgI0UnQG8DrEpkyBFkcwB4PpHqNmxnAtWr6Hg/2GMAQtuIx7lYcwEKJ5Hn7/RrAj4UvZmBLHsCFnBDOTXwZwGB+RlF4KxrA",
          "dtype": "f8"
         },
         "yaxis": "y7"
        },
        {
         "marker": {
          "line": {
           "color": "white",
           "width": 1
          },
          "opacity": 0.7,
          "size": 8
         },
         "mode": "markers",
         "name": "Cluster 5",
         "type": "scatter",
         "x": {
          "bdata": "FMQzeg/DAkDs1Gsjp/4HQJYacH5dkwlAINrhXPQ+DEDnwOurVoICQPxa4CVa5QdAIOsMX2idCUDt3uaSIckJQC2ovRY5OwpADXdMMygYA0AMispTraAIQEKNtE4YoQdAG+yxIZEWBUDO+81axgMGQI8MEFuy1gJAeHieial9BkAXGUOSbPT3P3iBly0ObgRAnzbMcpyOBECmW3bIJTgJQHsfnfiuXApAx60CXU/fDkDtDNYJB+MMQGjEy50SQgVAMgLFhjoaA0DP54v1HAUMQNucxXGyKglApwDF55OmCkDyw7om8C0HQAKV+ZWtGAlA7bOlcfyZEEBeVcZu9K0FQC0ZjYVBAgZA+sZC1j0sB0A=",
          "dtype": "f8"
         },
         "xaxis": "x7",
         "y": {
          "bdata": "0sVOjlMmE8C6ppbXjw0SwNZelBPJgBHA80YlA7pcE8DwArRbgEQUwDSfFkoX0xTAx63hZ4TGE8AuQnZZrp8UwCCs7cwTLRjA7DavUhsQFcBJB+vjaXYTwClucOqJbRLALkfOmgWHEsBjlAtENEMTwJSPYUFl/hLA/xMAbxRDF8D0w00nfqkXwOrcYanGHRPALYypuyiuFsCCSSkNDqkRwH2kJeiFGRLABRpOSLocE8B41EQpTqAQwEsLgZL0dxXAHOR38PV8FcDD/IrzzAIUwNHU9cOaHRPAinjNc+WdFcCz7rQq+cUTwNKw0UbpjhXA01g9GECWE8ATKLYZD0YTwC8sfDcF9xLA58kwvn1NE8A=",
          "dtype": "f8"
         },
         "yaxis": "y7"
        },
        {
         "marker": {
          "line": {
           "color": "white",
           "width": 1
          },
          "opacity": 0.7,
          "size": 8
         },
         "mode": "markers",
         "name": "Cluster 6",
         "type": "scatter",
         "x": {
          "bdata": "be9IunzK97/vrVZD5r77v5pKidm0V/O/dNTHkIrn4r8GZ/UG08P5v4QvRwDo2PO/ef21nVJH/7+WCgs5oy7tv2Y8a3yLH+e/7ACSi9xX479hbWjF07D1v+o446eTevC/CoGE5Lnt3L805VeaYtgBwLG5iJ3v3fO/MAp68MNbBMB+rHUo65D5vyEwWOU/Vvi/gqfuzQhMtD+n5YOp5h3wv2j40Wbe0fK/QL8lQ7wJ7b9CxcdEpAHxvwuNWfylOOW/k1BdDEnf8L9GaF7jWQTiv/N1coFaDuy/owvQ6y2Z8L8wC26C0WDzv8+9u1MD/Oi/mMLiqHM48r8=",
          "dtype": "f8"
         },
         "xaxis": "x7",
         "y": {
          "bdata": "h7X+7P8SA0A2IzgbvAUAQPev0wj0XQJAyuHTaj628z9MNkvJcTEGQG9GoSQTGP8/w4xURK43AUACjWIz/uYAQGBYfVXr2ABAx9LKGjb+9j978Mq/oNgBQIO38i/htgJA9NxqPcOUAkABXmKL57YCQIIzdFxgRwdAnWyDhfO3CEDVIp+Wdx4AQLNLk/bXzQFArTg+P5AB+j9AqlZWHNkAQMCTeW7sMwJAWiD2/2jt+T8D/stkV/P/Pw4iR16wg/8/SZyoYSM4BkBHtZkhpcD0Pxx7tParDfk/azpOkz1HA0CWcvEcVAwAQKPc72KRbPs/jtd3L2GFAUA=",
          "dtype": "f8"
         },
         "yaxis": "y7"
        },
        {
         "marker": {
          "line": {
           "color": "white",
           "width": 1
          },
          "opacity": 0.7,
          "size": 8
         },
         "mode": "markers",
         "name": "Cluster 7",
         "type": "scatter",
         "x": [],
         "xaxis": "x7",
         "y": [],
         "yaxis": "y7"
        },
        {
         "marker": {
          "line": {
           "color": "white",
           "width": 1
          },
          "opacity": 0.7,
          "size": 12
         },
         "mode": "markers",
         "name": "Centers",
         "type": "scatter",
         "x": {
          "bdata": "iwhVxEM2/L/Np6tbnnwcQPNU2jmGZPG/EHviYYX5A0CCvbrsl5UAwO+orBqaZwdAmTb5ao1K8r8=",
          "dtype": "f8"
         },
         "xaxis": "x7",
         "y": {
          "bdata": "4uv++29B8z90y9ttSYojQIoAdKCu8RrAERA59AYREMDoXrK5kRwawBk+EnCBCRTAltCnCwPlAEA=",
          "dtype": "f8"
         },
         "yaxis": "y7"
        },
        {
         "marker": {
          "line": {
           "color": "white",
           "width": 1
          },
          "opacity": 0.7,
          "size": 8
         },
         "mode": "markers",
         "name": "Cluster 0",
         "type": "scatter",
         "x": {
          "bdata": "be9IunzK97/vrVZD5r77v5t8pr6BBgTAmkqJ2bRX87+OtH19VGQAwAeCWSRK5gnABmf1BtPD+b+EL0cA6NjzvxGa49vNKQPAef21nVJH/7+Efy1bzRcGwI2UxUOYmvu/U70BTUzHAMCgiZ2r7f/8v4SSu5ZdMQHAYW1oxdOw9b/qOOOnk3rwvyccsWX7OwPAmt/4UXqD+r805VeaYtgBwLG5iJ3v3fO/MUtqDA8dBcAwCnrww1sEwH6sdSjrkPm/du7ksN9X/787GbElLDkAwJsFZEe3ugPAlC4evN82A8AhMFjlP1b4v/uoYyURDPq/aPjRZt7R8r+huIpDnFH4vyp34x43rvm/TWx6oEfTAMB+BChzPWz9v5NQXQxJ3/C/BxekK+vY+b+jC9DrLZnwv9DEZcMW9fy/MAtugtFg87+0X1fWjwsCwGmjAsny1f6/mMLiqHM48r/D+0Bo2jYBwA==",
          "dtype": "f8"
         },
         "xaxis": "x8",
         "y": {
          "bdata": "h7X+7P8SA0A2IzgbvAUAQBYBkZdqK/w/96/TCPRdAkDVAvvrg870P8qcsnwdkvk/TDZLyXExBkBvRqEkExj/PxIqS1hYctU/w4xURK43AUBwGw3FgXcDQL0iMZs1evY/jmLksyKA+D/ZPM4C5TfvP9JLNuF9vv0/e/DKv6DYAUCDt/Iv4bYCQBZkLFX+r/s/Y9W5DfH09j8BXmKL57YCQIIzdFxgRwdAKSCfjgNm+j+dbIOF87cIQNUin5Z3HgBAWAVrPaik8j8XHE/Hqjj5PySe4oxNkfU/0pfGOUIc/T+zS5P2180BQA6TvBSWJvo/wJN5buwzAkAvK8hq8T76P7JtcrJXafg/gTCYfRXS9j/UrafZjqXzP0mcqGEjOAZAhC/3e5jn+D9rOk6TPUcDQI0jSxQgEe8/lnLxHFQMAEBNc9gTzkf0P41sAAn0J/I/jtd3L2GFAUBItSLcwD7iPw==",
          "dtype": "f8"
         },
         "yaxis": "y8"
        },
        {
         "marker": {
          "line": {
           "color": "white",
           "width": 1
          },
          "opacity": 0.7,
          "size": 8
         },
         "mode": "markers",
         "name": "Cluster 1",
         "type": "scatter",
         "x": {
          "bdata": "VBP5TfgQGkCNdHXrsBUXQKGTzxUVNhxA1KDWgz/VGkD7BEJyYxobQH6bigdtIhlA9HtSRolKGkDBVWN7vDIaQOO26TtKtxxAPnTl22RZG0DeB1KN2PYZQMNbH4mW9x1AP95t3Q3nGkDzTyKIEt0cQHZXqrI7tB9A4gjgYtoyGkCG6eroLjIaQGl909453x5A2mjxFXpTG0DgH6HzQd4cQFGAegGpKB1A63zOUqP8HEBr1PkIzE4ZQMw9pmjC9RpA67qwwLaMGkA6vzfDcJMWQPe562uMJRtAICxX76+sG0DTuACOLi0bQEeTAbHvtRxAlFFgywMpG0CoB8QrKVsbQF1GXBSYRhxAQ2pnTWpXG0AzztwE0xYcQF+1Wo6jNh5AUT7JcEb4GUAbxg5JFEEbQFLv9yOAXh1A90IjxP6SHEC0UR8bjgMeQKjhciuG5BtA",
          "dtype": "f8"
         },
         "xaxis": "x8",
         "y": {
          "bdata": "OhvteIkdI0CVwJ3HbPwiQEwQup1nqCNAzuUsfzXyIUDjwomRGdsjQG196JI4oiJAT9SzVY+2I0Cw93T40K0iQLPbCwNhXSNAPvIVdSLhI0D+e99ABrUiQNndixmVnCFARR6+VhobI0Ck1hTXqC0jQBit1fcSxyFAgBWfrFFCJEB51TZwomYiQGR/W+9kDiFAm54A1P3ZIkDmExPy9N8iQH143NMJESJAh3Qe4SANIkCsBGsxWfEiQEmXYvZedyNAvsKahKCWI0B8p8miG5kjQDV9Z5L1lyFAqCbEXIupI0BPHZssU78jQOI6QDu9qyJA28AfKHSLIkCiaxpHIfYiQPz3QQ6bQyJAEVEJuqaZIUBAfFEdeZ8jQFDXnKI9QiFAOu3ElSs7IkAZiJsTs2siQPleLqxAISNAD+9RiC1mI0CoBaMFU70iQES2JHolpiNA",
          "dtype": "f8"
         },
         "yaxis": "y8"
        },
        {
         "marker": {
          "line": {
           "color": "white",
           "width": 1
          },
          "opacity": 0.7,
          "size": 8
         },
         "mode": "markers",
         "name": "Cluster 2",
         "type": "scatter",
         "x": {
          "bdata": "WZj6NlOLBkAUxDN6D8MCQPHY+LC9fgNAxlCYAJcjAUA8R26Djtj+P/KwkyxPsvk/KMuWo32w/j+j99uaczoAQG3/HP4FOP8/XnK3uytwAUB9DEh9yNgDQPTznFX0QgZACy233XlIAkB8eTsK7Ob/P9r6bjTagAhAjwwQW7LWAkAgJ/Pj/d/4P2BucwqGmgdAFxlDkmz09z+kkMHmfWMBQEjyAG/dDwFALOLhjg8l8j+d7t04/4UAQNE4oUndfgRASm7yzxRAAEAzJEDalm0CQMZ5h3ktlwNAEY11vUvXBkDHTKXCWAP7P77/rZY/2ANAU0pPA6cAAkC6fjrmux0DQMMN1jiBt/0/",
          "dtype": "f8"
         },
         "xaxis": "x8",
         "y": {
          "bdata": "TE0e7PkXDcDSxU6OUyYTwArctAsCAhLAbLLdpTSNEMDD9O2+RXMQwGJnnmXgRBHAXvkyMAaREsCtSJbPgAATwD8O5R0OYRLAmwCUxAm4CMDeMMJlvpIPwM2lfFRpIxDAJERGx8vMEcB1Zqne7PkRwGztQdinwQvAlI9hQWX+EsBOb8gsKC8PwFpywQT7+AzA9MNNJ36pF8DHwxlVyrwMwC6YYUVz3w/AtKrNCZBGCsCda6I0T3wOwDs9i062KxDAnrYNH8MeEMCLRg0u7AUPwPxkFehRkA3ALbqHwBLoDMDZ3dSb8O0SwCEHAl4U2A/AYkOtyZRpEMApfhXnE/4LwGpesdnvRg7A",
          "dtype": "f8"
         },
         "yaxis": "y8"
        },
        {
         "marker": {
          "line": {
           "color": "white",
           "width": 1
          },
          "opacity": 0.7,
          "size": 8
         },
         "mode": "markers",
         "name": "Cluster 3",
         "type": "scatter",
         "x": {
          "bdata": "KEeQ45aR/L/iMZY3Zir9v8GDi6/ecfq/M28RrCQVBsC5gRsE5ST7v/8YLml6AAbAW4JXExesAMCWjs0LJ1ICwA5SCWs0Pfu/OAXiSI7rAsC+FsV5sSX5v8HvoXpkM/+/QuvQ85Zx+L9vtp6xiiwFwHL10fyAgQDAR7AZIRQ8/b88dCVFLuX9v43Nw1/Ao/q/qyqvluVeA8CLX+ESXs39v6y543i1hgLAQJNJDifRAsDn9jUlQA/9vyQlhYA+P/+/f6La3oBk+b+6xD7ubP/9v2cnWWaubgHAgQF1D5rz/L9g5wPwIDn/v6rpM0OZTv+/GZ5XXnUXDsBWqMN2TPYCwIX4JPhoeP6/7hOIPB3UA8Ct6SiSW9P7v/WxKQ1kdgDAbhwVgh3EBcChkEbrD136v51en6wQeQDA",
          "dtype": "f8"
         },
         "xaxis": "x8",
         "y": {
          "bdata": "8okeHe+2FcBQ6+I7CLkbwPdVK52dGBjALK0YgQDeGsBjO5A9k0kbwMmz7IlJUxrA14VAQhuaGsB8iobLCocawL4Dt8/eyhfA4PcAZZ5kG8DyNyDI71MXwFqMGaGW8x3AgTpNefB4FsAuTRDirUgWwJdygx5rfhbAXhwiEyr2GcCczkTzSacZwDSZoX2q8BnAKvdINSJ5GMDTjgbYvWAZwOrisx7g6BvA3t0M8KB4HsAZpttdkEQbwERZyJvtrhjAAZ6b0tuRGcAPSN8kE78YwH5Mk+uTmBnAmTIb1Xq7GsB2d3qB0nQbwJs34UPFpBvAXPgI0UnQG8DrEpkyBFkcwB4PpHqNmxnAtWr6Hg/2GMAQtuIx7lYcwEKJ5Hn7/RrAj4UvZmBLHsCFnBDOTXwZwGB+RlF4KxrA",
          "dtype": "f8"
         },
         "yaxis": "y8"
        },
        {
         "marker": {
          "line": {
           "color": "white",
           "width": 1
          },
          "opacity": 0.7,
          "size": 8
         },
         "mode": "markers",
         "name": "Cluster 4",
         "type": "scatter",
         "x": {
          "bdata": "i5fTtHtG+L/PdOiRE0T4v3TUx5CK5+K/uLMPaDfN9b+9NrxttQf2vytb8ly2p/m/lgoLOaMu7b9mPGt8ix/nv+wAkovcV+O/4+vIZn1U/b8KgYTkue3cv5jQ1CtAOvu/pL7nxPpk67/OkKbO7MDzv/cv8c8u0PG/dXwLOnoi6b+y4OYZw3f6v4WjZ13x1fO/YtCzwEaD87+Cp+7NCEy0P6flg6nmHfC/KCo3WlP+9L9AvyVDvAntv0LFx0SkAfG/C41Z/KU45b+PeXoOJyXyv0ZoXuNZBOK/83VygVoO7L+eH487l8nkv8+9u1MD/Oi/SBCsirtn578=",
          "dtype": "f8"
         },
         "xaxis": "x8",
         "y": {
          "bdata": "QsgWHtBP8D8tYDGyYTfqP8rh02o+tvM/8QBZ0Ezp9D8PyYAchh/0P36jb0RUmPA/Ao1iM/7mAEBgWH1V69gAQMfSyho2/vY/e2j3YZ0Z5D/03Go9w5QCQMMMvbplweM/6GETsEva8j9YGm5h/PnOP0mBoHifM/M/wTT0utjw7D8OKx6orVbqP2Rj3s8kJvI/AVn9Yu0h8j+tOD4/kAH6P0CqVlYc2QBAjNVTNvU28T9aIPb/aO35PwP+y2RX8/8/DiJHXrCD/z9P7omZe5T1P0e1mSGlwPQ/HHu09qsN+T/tr3uxpEjnP6Pc72KRbPs/oDOoSAEv2L8=",
          "dtype": "f8"
         },
         "yaxis": "y8"
        },
        {
         "marker": {
          "line": {
           "color": "white",
           "width": 1
          },
          "opacity": 0.7,
          "size": 8
         },
         "mode": "markers",
         "name": "Cluster 5",
         "type": "scatter",
         "x": {
          "bdata": "UtW1bp0eGkBsBAZsatQfQOZ4hUXNjxtAAkRfO9n8GkDVUuOdlP0eQPXVJjtVvx1ANHSCinDLHkDAFBEiCF8bQK+VP/YUqhpAqMlk2estHUCOXdKbVbYcQD9vbuE8xCBA5CcgxBeoHEDfMU9ByHUdQPXJpucSKx9A2KDCiiHYH0CGd7zzAOccQEhm038HzB1AG+x7B6llIEAmWcpE/t0cQCZg+xOomx9A6rpj3cmaHkDNWu28Z2caQBxHZYoSHR5AneyEvko2H0CY6vuN3BgeQIx5E5JokR5ARBX/c+S0HUAy6wqyZ1IcQFZV9VRsvh1Ah4IIFGG1HEAcWXko8AQgQIPqTVMiyx5A",
          "dtype": "f8"
         },
         "xaxis": "x8",
         "y": {
          "bdata": "irD5vETFJUBC7XztVe0jQIaVUW9daiVAfCWsP2lMJEBur1H9XBQlQLPOnnlLVCNAZQMUkBw9JUAl15uNYgslQJUaD4wFdCRAgRyqW153JUBB+ntJYbAjQPx7oBWmFSNAwNuEy0YxJEDb2HYw2zkkQJIUI5lJJSNAMMpDBLgLJUDYMfJKOo8kQMBl4IsKmyVAR/ZEYT1VJEChiT2AkuYjQBBWHX+UViNAb4kqHC4JJEC3QJXeWegkQLtJ3PgiLCRA79RH19ELJUADi6VNzgAkQCVxnRDN+iNAe5U1CrumI0B+KjYDGi8mQPOCim1luyRA6HAf5sX3I0BaonWrM3gjQP0DG6lrWyVA",
          "dtype": "f8"
         },
         "yaxis": "y8"
        },
        {
         "marker": {
          "line": {
           "color": "white",
           "width": 1
          },
          "opacity": 0.7,
          "size": 8
         },
         "mode": "markers",
         "name": "Cluster 6",
         "type": "scatter",
         "x": {
          "bdata": "7NRrI6f+B0CWGnB+XZMJQCDa4Vz0PgxA58Drq1aCAkD8WuAlWuUHQCDrDF9onQlA7d7mkiHJCUAtqL0WOTsKQA13TDMoGANAoSJT/9tEDkDUZ3uaARULQAyKylOtoAhAQo20ThihB0Ab7LEhkRYFQM77zVrGAwZAtQBrbXx1CEAXuVYZILsMQHh4nompfQZAIKTGwqMcBkB4gZctDm4EQBitzO7zUgZAnzbMcpyOBECmW3bIJTgJQHsfnfiuXApAx60CXU/fDkDtDNYJB+MMQGjEy50SQgVAMgLFhjoaA0C5TTQaZGsIQP/6tu678ghAz+eL9RwFDEC/PIblgD8HQE4WyFsMmgdA25zFcbIqCUArU40bJOsKQKcAxeeTpgpA8sO6JvAtB0AClfmVrRgJQO2zpXH8mRBAXlXGbvStBUAtGY2FQQIGQPrGQtY9LAdA",
          "dtype": "f8"
         },
         "xaxis": "x8",
         "y": {
          "bdata": "uqaW148NEsDWXpQTyYARwPNGJQO6XBPA8AK0W4BEFMA0nxZKF9MUwMet4WeExhPALkJ2Wa6fFMAgrO3MEy0YwOw2r1IbEBXACchjsNaZDMBLhQ1gWGAOwEkH6+NpdhPAKW5w6oltEsAuR86aBYcSwGOUC0Q0QxPAx6VDXvv5EMAwjBU8d9gNwP8TAG8UQxfAsl/vZQj1EMDq3GGpxh0TwKHKblqahxHALYypuyiuFsCCSSkNDqkRwH2kJeiFGRLABRpOSLocE8B41EQpTqAQwEsLgZL0dxXAHOR38PV8FcAlpEyZITcQwLGN7BXMaBDAw/yK88wCFMBoBf/oiX4RwF3TtezXlhDA0dT1w5odE8DdYaDl+KsQwIp4zXPlnRXAs+60KvnFE8DSsNFG6Y4VwNNYPRhAlhPAEyi2GQ9GE8AvLHw3BfcSwOfJML59TRPA",
          "dtype": "f8"
         },
         "yaxis": "y8"
        },
        {
         "marker": {
          "line": {
           "color": "white",
           "width": 1
          },
          "opacity": 0.7,
          "size": 8
         },
         "mode": "markers",
         "name": "Cluster 7",
         "type": "scatter",
         "x": {
          "bdata": "oSAYv/QA9L+Ky/dRfv3cv79cc1oB3u2/MX3xkjg967/CniVZtrv0v+DtkV1XrvC/90UTtsqd8L+Uoi2G7k/0vyjjiONwfvO/XDHkO1Ht87+ZGNSJbO3vv5Prt/lXh+W/L4DhvSCj8r+3+wm9goXzvw9ZZAjLJPi/tubs7WV7+b+bFz2U2An1v2v1Y+5/d/C/JwPSY284578DEdtBf+rxv7GmsCkmf+2/cNuEg9Ni5r+mW4tx9wL3v/gmjLmNPPK/1wAhsb6V9r+uj4FF+77zv98HzUkkafi/OyqJ24dc7L80MMIs7NvrvwwHI07jq/K/lQPlR0LFy79nle3ygCHpv46QQz4Q5/e/fnC2MnCD7b8ZD18YBnf3v7g2wtVqJvC/",
          "dtype": "f8"
         },
         "xaxis": "x8",
         "y": {
          "bdata": "RTYuIQMOGsATyHXcyI4YwJ9kGNx6dRnACd3A3DfdGMDxKkoMblYcwNxQpzBv7RzAzDavbe/bFcCIx6nqbtEXwNGPtowbthrAaulayWkGHMBAKwGtIwUbwASXGYTd8BXA9hkOP7QEGsCfyneP1p0fwNgNqp6UVhvABZKOa5OLHcCrHxcQKXccwCshlmy2zBzAAOy749tJF8BQJe5dy2sawF3Mi87/+BnAeAGGvSzEGcC7fUSs/IocwFsNE1f0tBvAaLPIVSsMHcAecpvbGl0ZwONsxmQaVBzAAilXHOjFHMABI/6ozE8ZwBf/U/0EIxzADSIGudMuGsCKCv/A0RcewAWKDvhJUBrAQtMDWdkfHMCY29GTubIdwJirH99ZjhvA",
          "dtype": "f8"
         },
         "yaxis": "y8"
        },
        {
         "marker": {
          "line": {
           "color": "white",
           "width": 1
          },
          "opacity": 0.7,
          "size": 8
         },
         "mode": "markers",
         "name": "Cluster 8",
         "type": "scatter",
         "x": [],
         "xaxis": "x8",
         "y": [],
         "yaxis": "y8"
        },
        {
         "marker": {
          "line": {
           "color": "white",
           "width": 1
          },
          "opacity": 0.7,
          "size": 12
         },
         "mode": "markers",
         "name": "Centers",
         "type": "scatter",
         "x": {
          "bdata": "CUc2LTZ//b9lc57Es4MbQFKy9kwmnwFAgr267JeVAMDx3ST3qHfwv2iNGdZruR1AHk+ozLuECEDzVNo5hmTxvw==",
          "dtype": "f8"
         },
         "xaxis": "x8",
         "y": {
          "bdata": "qFW32FDQ/D/p/7s+gNQiQJ/qBE+pYhDA6F6yuZEcGsBKExD/CDn0P8rlj5KmcSRAg4jDMozvEsCKAHSgrvEawA==",
          "dtype": "f8"
         },
         "yaxis": "y8"
        },
        {
         "marker": {
          "line": {
           "color": "white",
           "width": 1
          },
          "opacity": 0.7,
          "size": 8
         },
         "mode": "markers",
         "name": "Cluster 0",
         "type": "scatter",
         "x": {
          "bdata": "be9IunzK97/vrVZD5r77v5t8pr6BBgTAmkqJ2bRX87+OtH19VGQAwAeCWSRK5gnABmf1BtPD+b+EL0cA6NjzvxGa49vNKQPAef21nVJH/7+Efy1bzRcGwI2UxUOYmvu/U70BTUzHAMCgiZ2r7f/8v4SSu5ZdMQHAYW1oxdOw9b/qOOOnk3rwvyccsWX7OwPAmt/4UXqD+r805VeaYtgBwLG5iJ3v3fO/MUtqDA8dBcAwCnrww1sEwH6sdSjrkPm/du7ksN9X/787GbElLDkAwJsFZEe3ugPAlC4evN82A8AhMFjlP1b4v/uoYyURDPq/aPjRZt7R8r+huIpDnFH4vyp34x43rvm/TWx6oEfTAMB+BChzPWz9v5NQXQxJ3/C/BxekK+vY+b+jC9DrLZnwv9DEZcMW9fy/MAtugtFg87+0X1fWjwsCwGmjAsny1f6/mMLiqHM48r/D+0Bo2jYBwA==",
          "dtype": "f8"
         },
         "xaxis": "x9",
         "y": {
          "bdata": "h7X+7P8SA0A2IzgbvAUAQBYBkZdqK/w/96/TCPRdAkDVAvvrg870P8qcsnwdkvk/TDZLyXExBkBvRqEkExj/PxIqS1hYctU/w4xURK43AUBwGw3FgXcDQL0iMZs1evY/jmLksyKA+D/ZPM4C5TfvP9JLNuF9vv0/e/DKv6DYAUCDt/Iv4bYCQBZkLFX+r/s/Y9W5DfH09j8BXmKL57YCQIIzdFxgRwdAKSCfjgNm+j+dbIOF87cIQNUin5Z3HgBAWAVrPaik8j8XHE/Hqjj5PySe4oxNkfU/0pfGOUIc/T+zS5P2180BQA6TvBSWJvo/wJN5buwzAkAvK8hq8T76P7JtcrJXafg/gTCYfRXS9j/UrafZjqXzP0mcqGEjOAZAhC/3e5jn+D9rOk6TPUcDQI0jSxQgEe8/lnLxHFQMAEBNc9gTzkf0P41sAAn0J/I/jtd3L2GFAUBItSLcwD7iPw==",
          "dtype": "f8"
         },
         "yaxis": "y9"
        },
        {
         "marker": {
          "line": {
           "color": "white",
           "width": 1
          },
          "opacity": 0.7,
          "size": 8
         },
         "mode": "markers",
         "name": "Cluster 1",
         "type": "scatter",
         "x": {
          "bdata": "47bpO0q3HED11SY7Vb8dQMNbH4mW9x1A808iiBLdHEB2V6qyO7QfQGl909453x5A4B+h80HeHEBRgHoBqSgdQOt8zlKj/BxAP29u4TzEIED1yabnEisfQEeTAbHvtRxAJmD7E6ibH0BdRlwUmEYcQENqZ01qVxtAX7VajqM2HkBS7/cjgF4dQLRRHxuOAx5AHFl5KPAEIEA=",
          "dtype": "f8"
         },
         "xaxis": "x9",
         "y": {
          "bdata": "s9sLA2FdI0Czzp55S1QjQNndixmVnCFApNYU16gtI0AYrdX3EschQGR/W+9kDiFA5hMT8vTfIkB9eNzTCREiQId0HuEgDSJA/HugFaYVI0CSFCOZSSUjQOI6QDu9qyJAEFYdf5RWI0D890EOm0MiQBFRCbqmmSFAUNecoj1CIUD5Xi6sQCEjQKgFowVTvSJAWqJ1qzN4I0A=",
          "dtype": "f8"
         },
         "yaxis": "y9"
        },
        {
         "marker": {
          "line": {
           "color": "white",
           "width": 1
          },
          "opacity": 0.7,
          "size": 8
         },
         "mode": "markers",
         "name": "Cluster 2",
         "type": "scatter",
         "x": {
          "bdata": "WZj6NlOLBkAUxDN6D8MCQPHY+LC9fgNAxlCYAJcjAUA8R26Djtj+P/KwkyxPsvk/KMuWo32w/j+j99uaczoAQG3/HP4FOP8/XnK3uytwAUB9DEh9yNgDQPTznFX0QgZACy233XlIAkB8eTsK7Ob/P9r6bjTagAhAjwwQW7LWAkAgJ/Pj/d/4P2BucwqGmgdAFxlDkmz09z+kkMHmfWMBQEjyAG/dDwFALOLhjg8l8j+d7t04/4UAQNE4oUndfgRASm7yzxRAAEAzJEDalm0CQMZ5h3ktlwNAEY11vUvXBkDHTKXCWAP7P77/rZY/2ANAU0pPA6cAAkC6fjrmux0DQMMN1jiBt/0/",
          "dtype": "f8"
         },
         "xaxis": "x9",
         "y": {
          "bdata": "TE0e7PkXDcDSxU6OUyYTwArctAsCAhLAbLLdpTSNEMDD9O2+RXMQwGJnnmXgRBHAXvkyMAaREsCtSJbPgAATwD8O5R0OYRLAmwCUxAm4CMDeMMJlvpIPwM2lfFRpIxDAJERGx8vMEcB1Zqne7PkRwGztQdinwQvAlI9hQWX+EsBOb8gsKC8PwFpywQT7+AzA9MNNJ36pF8DHwxlVyrwMwC6YYUVz3w/AtKrNCZBGCsCda6I0T3wOwDs9i062KxDAnrYNH8MeEMCLRg0u7AUPwPxkFehRkA3ALbqHwBLoDMDZ3dSb8O0SwCEHAl4U2A/AYkOtyZRpEMApfhXnE/4LwGpesdnvRg7A",
          "dtype": "f8"
         },
         "yaxis": "y9"
        },
        {
         "marker": {
          "line": {
           "color": "white",
           "width": 1
          },
          "opacity": 0.7,
          "size": 8
         },
         "mode": "markers",
         "name": "Cluster 3",
         "type": "scatter",
         "x": {
          "bdata": "KEeQ45aR/L/iMZY3Zir9v8GDi6/ecfq/M28RrCQVBsC5gRsE5ST7v/8YLml6AAbAW4JXExesAMCWjs0LJ1ICwA5SCWs0Pfu/OAXiSI7rAsC+FsV5sSX5v8HvoXpkM/+/QuvQ85Zx+L9vtp6xiiwFwHL10fyAgQDAR7AZIRQ8/b88dCVFLuX9v43Nw1/Ao/q/qyqvluVeA8CLX+ESXs39v6y543i1hgLAQJNJDifRAsDn9jUlQA/9vyQlhYA+P/+/f6La3oBk+b+6xD7ubP/9v2cnWWaubgHAgQF1D5rz/L9g5wPwIDn/v6rpM0OZTv+/GZ5XXnUXDsBWqMN2TPYCwIX4JPhoeP6/7hOIPB3UA8Ct6SiSW9P7v/WxKQ1kdgDAbhwVgh3EBcChkEbrD136v51en6wQeQDA",
          "dtype": "f8"
         },
         "xaxis": "x9",
         "y": {
          "bdata": "8okeHe+2FcBQ6+I7CLkbwPdVK52dGBjALK0YgQDeGsBjO5A9k0kbwMmz7IlJUxrA14VAQhuaGsB8iobLCocawL4Dt8/eyhfA4PcAZZ5kG8DyNyDI71MXwFqMGaGW8x3AgTpNefB4FsAuTRDirUgWwJdygx5rfhbAXhwiEyr2GcCczkTzSacZwDSZoX2q8BnAKvdINSJ5GMDTjgbYvWAZwOrisx7g6BvA3t0M8KB4HsAZpttdkEQbwERZyJvtrhjAAZ6b0tuRGcAPSN8kE78YwH5Mk+uTmBnAmTIb1Xq7GsB2d3qB0nQbwJs34UPFpBvAXPgI0UnQG8DrEpkyBFkcwB4PpHqNmxnAtWr6Hg/2GMAQtuIx7lYcwEKJ5Hn7/RrAj4UvZmBLHsCFnBDOTXwZwGB+RlF4KxrA",
          "dtype": "f8"
         },
         "yaxis": "y9"
        },
        {
         "marker": {
          "line": {
           "color": "white",
           "width": 1
          },
          "opacity": 0.7,
          "size": 8
         },
         "mode": "markers",
         "name": "Cluster 4",
         "type": "scatter",
         "x": {
          "bdata": "i5fTtHtG+L/PdOiRE0T4v3TUx5CK5+K/uLMPaDfN9b+9NrxttQf2vytb8ly2p/m/lgoLOaMu7b9mPGt8ix/nv+wAkovcV+O/4+vIZn1U/b8KgYTkue3cv5jQ1CtAOvu/pL7nxPpk67/OkKbO7MDzv/cv8c8u0PG/dXwLOnoi6b+y4OYZw3f6v4WjZ13x1fO/YtCzwEaD87+Cp+7NCEy0P6flg6nmHfC/KCo3WlP+9L9AvyVDvAntv0LFx0SkAfG/C41Z/KU45b+PeXoOJyXyv0ZoXuNZBOK/83VygVoO7L+eH487l8nkv8+9u1MD/Oi/SBCsirtn578=",
          "dtype": "f8"
         },
         "xaxis": "x9",
         "y": {
          "bdata": "QsgWHtBP8D8tYDGyYTfqP8rh02o+tvM/8QBZ0Ezp9D8PyYAchh/0P36jb0RUmPA/Ao1iM/7mAEBgWH1V69gAQMfSyho2/vY/e2j3YZ0Z5D/03Go9w5QCQMMMvbplweM/6GETsEva8j9YGm5h/PnOP0mBoHifM/M/wTT0utjw7D8OKx6orVbqP2Rj3s8kJvI/AVn9Yu0h8j+tOD4/kAH6P0CqVlYc2QBAjNVTNvU28T9aIPb/aO35PwP+y2RX8/8/DiJHXrCD/z9P7omZe5T1P0e1mSGlwPQ/HHu09qsN+T/tr3uxpEjnP6Pc72KRbPs/oDOoSAEv2L8=",
          "dtype": "f8"
         },
         "yaxis": "y9"
        },
        {
         "marker": {
          "line": {
           "color": "white",
           "width": 1
          },
          "opacity": 0.7,
          "size": 8
         },
         "mode": "markers",
         "name": "Cluster 5",
         "type": "scatter",
         "x": {
          "bdata": "UtW1bp0eGkBsBAZsatQfQOZ4hUXNjxtA1VLjnZT9HkA0dIKKcMseQMAUESIIXxtAqMlk2estHUCOXdKbVbYcQOQnIMQXqBxA3zFPQch1HUDYoMKKIdgfQIZ3vPMA5xxASGbTfwfMHUAb7HsHqWUgQCZZykT+3RxA6rpj3cmaHkDNWu28Z2caQBxHZYoSHR5AneyEvko2H0CY6vuN3BgeQIx5E5JokR5ARBX/c+S0HUAy6wqyZ1IcQFZV9VRsvh1Ah4IIFGG1HECD6k1TIsseQA==",
          "dtype": "f8"
         },
         "xaxis": "x9",
         "y": {
          "bdata": "irD5vETFJUBC7XztVe0jQIaVUW9daiVAbq9R/VwUJUBlAxSQHD0lQCXXm41iCyVAgRyqW153JUBB+ntJYbAjQMDbhMtGMSRA29h2MNs5JEAwykMEuAslQNgx8ko6jyRAwGXgiwqbJUBH9kRhPVUkQKGJPYCS5iNAb4kqHC4JJEC3QJXeWegkQLtJ3PgiLCRA79RH19ELJUADi6VNzgAkQCVxnRDN+iNAe5U1CrumI0B+KjYDGi8mQPOCim1luyRA6HAf5sX3I0D9Axupa1slQA==",
          "dtype": "f8"
         },
         "yaxis": "y9"
        },
        {
         "marker": {
          "line": {
           "color": "white",
           "width": 1
          },
          "opacity": 0.7,
          "size": 8
         },
         "mode": "markers",
         "name": "Cluster 6",
         "type": "scatter",
         "x": {
          "bdata": "7NRrI6f+B0CWGnB+XZMJQCDa4Vz0PgxA58Drq1aCAkD8WuAlWuUHQCDrDF9onQlA7d7mkiHJCUAtqL0WOTsKQA13TDMoGANAoSJT/9tEDkDUZ3uaARULQAyKylOtoAhAQo20ThihB0Ab7LEhkRYFQM77zVrGAwZAtQBrbXx1CEAXuVYZILsMQHh4nompfQZAIKTGwqMcBkB4gZctDm4EQBitzO7zUgZAnzbMcpyOBECmW3bIJTgJQHsfnfiuXApAx60CXU/fDkDtDNYJB+MMQGjEy50SQgVAMgLFhjoaA0C5TTQaZGsIQP/6tu678ghAz+eL9RwFDEC/PIblgD8HQE4WyFsMmgdA25zFcbIqCUArU40bJOsKQKcAxeeTpgpA8sO6JvAtB0AClfmVrRgJQO2zpXH8mRBAXlXGbvStBUAtGY2FQQIGQPrGQtY9LAdA",
          "dtype": "f8"
         },
         "xaxis": "x9",
         "y": {
          "bdata": "uqaW148NEsDWXpQTyYARwPNGJQO6XBPA8AK0W4BEFMA0nxZKF9MUwMet4WeExhPALkJ2Wa6fFMAgrO3MEy0YwOw2r1IbEBXACchjsNaZDMBLhQ1gWGAOwEkH6+NpdhPAKW5w6oltEsAuR86aBYcSwGOUC0Q0QxPAx6VDXvv5EMAwjBU8d9gNwP8TAG8UQxfAsl/vZQj1EMDq3GGpxh0TwKHKblqahxHALYypuyiuFsCCSSkNDqkRwH2kJeiFGRLABRpOSLocE8B41EQpTqAQwEsLgZL0dxXAHOR38PV8FcAlpEyZITcQwLGN7BXMaBDAw/yK88wCFMBoBf/oiX4RwF3TtezXlhDA0dT1w5odE8DdYaDl+KsQwIp4zXPlnRXAs+60KvnFE8DSsNFG6Y4VwNNYPRhAlhPAEyi2GQ9GE8AvLHw3BfcSwOfJML59TRPA",
          "dtype": "f8"
         },
         "yaxis": "y9"
        },
        {
         "marker": {
          "line": {
           "color": "white",
           "width": 1
          },
          "opacity": 0.7,
          "size": 8
         },
         "mode": "markers",
         "name": "Cluster 7",
         "type": "scatter",
         "x": {
          "bdata": "oSAYv/QA9L+Ky/dRfv3cv79cc1oB3u2/MX3xkjg967/CniVZtrv0v+DtkV1XrvC/90UTtsqd8L+Uoi2G7k/0vyjjiONwfvO/XDHkO1Ht87+ZGNSJbO3vv5Prt/lXh+W/L4DhvSCj8r+3+wm9goXzvw9ZZAjLJPi/tubs7WV7+b+bFz2U2An1v2v1Y+5/d/C/JwPSY284578DEdtBf+rxv7GmsCkmf+2/cNuEg9Ni5r+mW4tx9wL3v/gmjLmNPPK/1wAhsb6V9r+uj4FF+77zv98HzUkkafi/OyqJ24dc7L80MMIs7NvrvwwHI07jq/K/lQPlR0LFy79nle3ygCHpv46QQz4Q5/e/fnC2MnCD7b8ZD18YBnf3v7g2wtVqJvC/",
          "dtype": "f8"
         },
         "xaxis": "x9",
         "y": {
          "bdata": "RTYuIQMOGsATyHXcyI4YwJ9kGNx6dRnACd3A3DfdGMDxKkoMblYcwNxQpzBv7RzAzDavbe/bFcCIx6nqbtEXwNGPtowbthrAaulayWkGHMBAKwGtIwUbwASXGYTd8BXA9hkOP7QEGsCfyneP1p0fwNgNqp6UVhvABZKOa5OLHcCrHxcQKXccwCshlmy2zBzAAOy749tJF8BQJe5dy2sawF3Mi87/+BnAeAGGvSzEGcC7fUSs/IocwFsNE1f0tBvAaLPIVSsMHcAecpvbGl0ZwONsxmQaVBzAAilXHOjFHMABI/6ozE8ZwBf/U/0EIxzADSIGudMuGsCKCv/A0RcewAWKDvhJUBrAQtMDWdkfHMCY29GTubIdwJirH99ZjhvA",
          "dtype": "f8"
         },
         "yaxis": "y9"
        },
        {
         "marker": {
          "line": {
           "color": "white",
           "width": 1
          },
          "opacity": 0.7,
          "size": 8
         },
         "mode": "markers",
         "name": "Cluster 8",
         "type": "scatter",
         "x": {
          "bdata": "VBP5TfgQGkCNdHXrsBUXQKGTzxUVNhxA1KDWgz/VGkD7BEJyYxobQH6bigdtIhlA9HtSRolKGkDBVWN7vDIaQD505dtkWRtAAkRfO9n8GkDeB1KN2PYZQD/ebd0N5xpA4gjgYtoyGkCG6eroLjIaQNpo8RV6UxtAr5U/9hSqGkBr1PkIzE4ZQMw9pmjC9RpA67qwwLaMGkA6vzfDcJMWQPe562uMJRtAICxX76+sG0DTuACOLi0bQJRRYMsDKRtAqAfEKylbG0AzztwE0xYcQFE+yXBG+BlAG8YOSRRBG0D3QiPE/pIcQKjhciuG5BtA",
          "dtype": "f8"
         },
         "xaxis": "x9",
         "y": {
          "bdata": "OhvteIkdI0CVwJ3HbPwiQEwQup1nqCNAzuUsfzXyIUDjwomRGdsjQG196JI4oiJAT9SzVY+2I0Cw93T40K0iQD7yFXUi4SNAfCWsP2lMJED+e99ABrUiQEUevlYaGyNAgBWfrFFCJEB51TZwomYiQJueANT92SJAlRoPjAV0JECsBGsxWfEiQEmXYvZedyNAvsKahKCWI0B8p8miG5kjQDV9Z5L1lyFAqCbEXIupI0BPHZssU78jQNvAHyh0iyJAomsaRyH2IkBAfFEdeZ8jQDrtxJUrOyJAGYibE7NrIkAP71GILWYjQES2JHolpiNA",
          "dtype": "f8"
         },
         "yaxis": "y9"
        },
        {
         "marker": {
          "line": {
           "color": "white",
           "width": 1
          },
          "opacity": 0.7,
          "size": 8
         },
         "mode": "markers",
         "name": "Cluster 9",
         "type": "scatter",
         "x": [],
         "xaxis": "x9",
         "y": [],
         "yaxis": "y9"
        },
        {
         "marker": {
          "line": {
           "color": "white",
           "width": 1
          },
          "opacity": 0.7,
          "size": 12
         },
         "mode": "markers",
         "name": "Centers",
         "type": "scatter",
         "x": {
          "bdata": "CUc2LTZ//b+BUs/2ofQdQFKy9kwmnwFAgr267JeVAMDx3ST3qHfwv51gWbI2lR1AHk+ozLuECEDzVNo5hmTxv8lfXD9LmxpA",
          "dtype": "f8"
         },
         "xaxis": "x9",
         "y": {
          "bdata": "qFW32FDQ/D8dQZKW5YYiQJ/qBE+pYhDA6F6yuZEcGsBKExD/CDn0P252iMydrCRAg4jDMozvEsCKAHSgrvEawF2Gwb3yMiNA",
          "dtype": "f8"
         },
         "yaxis": "y9"
        },
        {
         "marker": {
          "line": {
           "color": "white",
           "width": 1
          },
          "opacity": 0.7,
          "size": 8
         },
         "mode": "markers",
         "name": "Cluster 0",
         "type": "scatter",
         "x": {
          "bdata": "be9IunzK97/vrVZD5r77v5t8pr6BBgTAmkqJ2bRX87+OtH19VGQAwAeCWSRK5gnABmf1BtPD+b+EL0cA6NjzvxGa49vNKQPAef21nVJH/7+Efy1bzRcGwI2UxUOYmvu/U70BTUzHAMCgiZ2r7f/8v4SSu5ZdMQHAYW1oxdOw9b/qOOOnk3rwvyccsWX7OwPAmt/4UXqD+r805VeaYtgBwLG5iJ3v3fO/MUtqDA8dBcAwCnrww1sEwH6sdSjrkPm/du7ksN9X/787GbElLDkAwJsFZEe3ugPAlC4evN82A8AhMFjlP1b4v/uoYyURDPq/aPjRZt7R8r+huIpDnFH4vyp34x43rvm/TWx6oEfTAMB+BChzPWz9v5NQXQxJ3/C/BxekK+vY+b+jC9DrLZnwv9DEZcMW9fy/MAtugtFg87+0X1fWjwsCwGmjAsny1f6/mMLiqHM48r/D+0Bo2jYBwA==",
          "dtype": "f8"
         },
         "xaxis": "x10",
         "y": {
          "bdata": "h7X+7P8SA0A2IzgbvAUAQBYBkZdqK/w/96/TCPRdAkDVAvvrg870P8qcsnwdkvk/TDZLyXExBkBvRqEkExj/PxIqS1hYctU/w4xURK43AUBwGw3FgXcDQL0iMZs1evY/jmLksyKA+D/ZPM4C5TfvP9JLNuF9vv0/e/DKv6DYAUCDt/Iv4bYCQBZkLFX+r/s/Y9W5DfH09j8BXmKL57YCQIIzdFxgRwdAKSCfjgNm+j+dbIOF87cIQNUin5Z3HgBAWAVrPaik8j8XHE/Hqjj5PySe4oxNkfU/0pfGOUIc/T+zS5P2180BQA6TvBSWJvo/wJN5buwzAkAvK8hq8T76P7JtcrJXafg/gTCYfRXS9j/UrafZjqXzP0mcqGEjOAZAhC/3e5jn+D9rOk6TPUcDQI0jSxQgEe8/lnLxHFQMAEBNc9gTzkf0P41sAAn0J/I/jtd3L2GFAUBItSLcwD7iPw==",
          "dtype": "f8"
         },
         "yaxis": "y10"
        },
        {
         "marker": {
          "line": {
           "color": "white",
           "width": 1
          },
          "opacity": 0.7,
          "size": 8
         },
         "mode": "markers",
         "name": "Cluster 1",
         "type": "scatter",
         "x": {
          "bdata": "47bpO0q3HED11SY7Vb8dQMNbH4mW9x1A808iiBLdHEB2V6qyO7QfQGl909453x5A4B+h80HeHEBRgHoBqSgdQOt8zlKj/BxAP29u4TzEIED1yabnEisfQEeTAbHvtRxAJmD7E6ibH0BdRlwUmEYcQENqZ01qVxtAX7VajqM2HkBS7/cjgF4dQLRRHxuOAx5AHFl5KPAEIEA=",
          "dtype": "f8"
         },
         "xaxis": "x10",
         "y": {
          "bdata": "s9sLA2FdI0Czzp55S1QjQNndixmVnCFApNYU16gtI0AYrdX3EschQGR/W+9kDiFA5hMT8vTfIkB9eNzTCREiQId0HuEgDSJA/HugFaYVI0CSFCOZSSUjQOI6QDu9qyJAEFYdf5RWI0D890EOm0MiQBFRCbqmmSFAUNecoj1CIUD5Xi6sQCEjQKgFowVTvSJAWqJ1qzN4I0A=",
          "dtype": "f8"
         },
         "yaxis": "y10"
        },
        {
         "marker": {
          "line": {
           "color": "white",
           "width": 1
          },
          "opacity": 0.7,
          "size": 8
         },
         "mode": "markers",
         "name": "Cluster 2",
         "type": "scatter",
         "x": {
          "bdata": "8dj4sL1+A0DGUJgAlyMBQDxHboOO2P4/8rCTLE+y+T8oy5ajfbD+P6P325pzOgBAbf8c/gU4/z9ecre7K3ABQH0MSH3I2ANACy233XlIAkB8eTsK7Ob/PyAn8+P93/g/pJDB5n1jAUBI8gBv3Q8BQCzi4Y4PJfI/ne7dOP+FAEDROKFJ3X4EQEpu8s8UQABAMyRA2pZtAkDGeYd5LZcDQMdMpcJYA/s/vv+tlj/YA0BTSk8DpwACQLp+Oua7HQNAww3WOIG3/T8=",
          "dtype": "f8"
         },
         "xaxis": "x10",
         "y": {
          "bdata": "Cty0CwICEsBsst2lNI0QwMP07b5FcxDAYmeeZeBEEcBe+TIwBpESwK1Ils+AABPAPw7lHQ5hEsCbAJTECbgIwN4wwmW+kg/AJERGx8vMEcB1Zqne7PkRwE5vyCwoLw/Ax8MZVcq8DMAumGFFc98PwLSqzQmQRgrAnWuiNE98DsA7PYtOtisQwJ62DR/DHhDAi0YNLuwFD8D8ZBXoUZANwNnd1Jvw7RLAIQcCXhTYD8BiQ63JlGkQwCl+FecT/gvAal6x2e9GDsA=",
          "dtype": "f8"
         },
         "yaxis": "y10"
        },
        {
         "marker": {
          "line": {
           "color": "white",
           "width": 1
          },
          "opacity": 0.7,
          "size": 8
         },
         "mode": "markers",
         "name": "Cluster 3",
         "type": "scatter",
         "x": {
          "bdata": "KEeQ45aR/L/iMZY3Zir9v8GDi6/ecfq/M28RrCQVBsC5gRsE5ST7v/8YLml6AAbAW4JXExesAMCWjs0LJ1ICwA5SCWs0Pfu/OAXiSI7rAsC+FsV5sSX5v8HvoXpkM/+/QuvQ85Zx+L9vtp6xiiwFwHL10fyAgQDAR7AZIRQ8/b88dCVFLuX9v43Nw1/Ao/q/qyqvluVeA8CLX+ESXs39v6y543i1hgLAQJNJDifRAsDn9jUlQA/9vyQlhYA+P/+/f6La3oBk+b+6xD7ubP/9v2cnWWaubgHAgQF1D5rz/L9g5wPwIDn/v6rpM0OZTv+/GZ5XXnUXDsBWqMN2TPYCwIX4JPhoeP6/7hOIPB3UA8Ct6SiSW9P7v/WxKQ1kdgDAbhwVgh3EBcChkEbrD136v51en6wQeQDA",
          "dtype": "f8"
         },
         "xaxis": "x10",
         "y": {
          "bdata": "8okeHe+2FcBQ6+I7CLkbwPdVK52dGBjALK0YgQDeGsBjO5A9k0kbwMmz7IlJUxrA14VAQhuaGsB8iobLCocawL4Dt8/eyhfA4PcAZZ5kG8DyNyDI71MXwFqMGaGW8x3AgTpNefB4FsAuTRDirUgWwJdygx5rfhbAXhwiEyr2GcCczkTzSacZwDSZoX2q8BnAKvdINSJ5GMDTjgbYvWAZwOrisx7g6BvA3t0M8KB4HsAZpttdkEQbwERZyJvtrhjAAZ6b0tuRGcAPSN8kE78YwH5Mk+uTmBnAmTIb1Xq7GsB2d3qB0nQbwJs34UPFpBvAXPgI0UnQG8DrEpkyBFkcwB4PpHqNmxnAtWr6Hg/2GMAQtuIx7lYcwEKJ5Hn7/RrAj4UvZmBLHsCFnBDOTXwZwGB+RlF4KxrA",
          "dtype": "f8"
         },
         "yaxis": "y10"
        },
        {
         "marker": {
          "line": {
           "color": "white",
           "width": 1
          },
          "opacity": 0.7,
          "size": 8
         },
         "mode": "markers",
         "name": "Cluster 4",
         "type": "scatter",
         "x": {
          "bdata": "i5fTtHtG+L/PdOiRE0T4v3TUx5CK5+K/uLMPaDfN9b+9NrxttQf2vytb8ly2p/m/lgoLOaMu7b9mPGt8ix/nv+wAkovcV+O/4+vIZn1U/b8KgYTkue3cv5jQ1CtAOvu/pL7nxPpk67/OkKbO7MDzv/cv8c8u0PG/dXwLOnoi6b+y4OYZw3f6v4WjZ13x1fO/YtCzwEaD87+Cp+7NCEy0P6flg6nmHfC/KCo3WlP+9L9AvyVDvAntv0LFx0SkAfG/C41Z/KU45b+PeXoOJyXyv0ZoXuNZBOK/83VygVoO7L+eH487l8nkv8+9u1MD/Oi/SBCsirtn578=",
          "dtype": "f8"
         },
         "xaxis": "x10",
         "y": {
          "bdata": "QsgWHtBP8D8tYDGyYTfqP8rh02o+tvM/8QBZ0Ezp9D8PyYAchh/0P36jb0RUmPA/Ao1iM/7mAEBgWH1V69gAQMfSyho2/vY/e2j3YZ0Z5D/03Go9w5QCQMMMvbplweM/6GETsEva8j9YGm5h/PnOP0mBoHifM/M/wTT0utjw7D8OKx6orVbqP2Rj3s8kJvI/AVn9Yu0h8j+tOD4/kAH6P0CqVlYc2QBAjNVTNvU28T9aIPb/aO35PwP+y2RX8/8/DiJHXrCD/z9P7omZe5T1P0e1mSGlwPQ/HHu09qsN+T/tr3uxpEjnP6Pc72KRbPs/oDOoSAEv2L8=",
          "dtype": "f8"
         },
         "yaxis": "y10"
        },
        {
         "marker": {
          "line": {
           "color": "white",
           "width": 1
          },
          "opacity": 0.7,
          "size": 8
         },
         "mode": "markers",
         "name": "Cluster 5",
         "type": "scatter",
         "x": {
          "bdata": "UtW1bp0eGkBsBAZsatQfQOZ4hUXNjxtA1VLjnZT9HkA0dIKKcMseQMAUESIIXxtAqMlk2estHUCOXdKbVbYcQOQnIMQXqBxA3zFPQch1HUDYoMKKIdgfQIZ3vPMA5xxASGbTfwfMHUAb7HsHqWUgQCZZykT+3RxA6rpj3cmaHkDNWu28Z2caQBxHZYoSHR5AneyEvko2H0CY6vuN3BgeQIx5E5JokR5ARBX/c+S0HUAy6wqyZ1IcQFZV9VRsvh1Ah4IIFGG1HECD6k1TIsseQA==",
          "dtype": "f8"
         },
         "xaxis": "x10",
         "y": {
          "bdata": "irD5vETFJUBC7XztVe0jQIaVUW9daiVAbq9R/VwUJUBlAxSQHD0lQCXXm41iCyVAgRyqW153JUBB+ntJYbAjQMDbhMtGMSRA29h2MNs5JEAwykMEuAslQNgx8ko6jyRAwGXgiwqbJUBH9kRhPVUkQKGJPYCS5iNAb4kqHC4JJEC3QJXeWegkQLtJ3PgiLCRA79RH19ELJUADi6VNzgAkQCVxnRDN+iNAe5U1CrumI0B+KjYDGi8mQPOCim1luyRA6HAf5sX3I0D9Axupa1slQA==",
          "dtype": "f8"
         },
         "yaxis": "y10"
        },
        {
         "marker": {
          "line": {
           "color": "white",
           "width": 1
          },
          "opacity": 0.7,
          "size": 8
         },
         "mode": "markers",
         "name": "Cluster 6",
         "type": "scatter",
         "x": {
          "bdata": "WZj6NlOLBkDs1Gsjp/4HQJYacH5dkwlAINrhXPQ+DEChIlP/20QOQNRne5oBFQtA9POcVfRCBkDa+m402oAIQEKNtE4YoQdAtQBrbXx1CEAXuVYZILsMQGBucwqGmgdAIKTGwqMcBkAYrczu81IGQKZbdsglOAlAex+d+K5cCkDHrQJdT98OQO0M1gkH4wxAuU00GmRrCED/+rbuu/IIQBGNdb1L1wZAvzyG5YA/B0BOFshbDJoHQCtTjRsk6wpA7bOlcfyZEEA=",
          "dtype": "f8"
         },
         "xaxis": "x10",
         "y": {
          "bdata": "TE0e7PkXDcC6ppbXjw0SwNZelBPJgBHA80YlA7pcE8AJyGOw1pkMwEuFDWBYYA7AzaV8VGkjEMBs7UHYp8ELwClucOqJbRLAx6VDXvv5EMAwjBU8d9gNwFpywQT7+AzAsl/vZQj1EMChym5amocRwIJJKQ0OqRHAfaQl6IUZEsAFGk5IuhwTwHjURClOoBDAJaRMmSE3EMCxjewVzGgQwC26h8AS6AzAaAX/6Il+EcBd07Xs15YQwN1hoOX4qxDA01g9GECWE8A=",
          "dtype": "f8"
         },
         "yaxis": "y10"
        },
        {
         "marker": {
          "line": {
           "color": "white",
           "width": 1
          },
          "opacity": 0.7,
          "size": 8
         },
         "mode": "markers",
         "name": "Cluster 7",
         "type": "scatter",
         "x": {
          "bdata": "oSAYv/QA9L+Ky/dRfv3cv79cc1oB3u2/MX3xkjg967/CniVZtrv0v+DtkV1XrvC/90UTtsqd8L+Uoi2G7k/0vyjjiONwfvO/XDHkO1Ht87+ZGNSJbO3vv5Prt/lXh+W/L4DhvSCj8r+3+wm9goXzvw9ZZAjLJPi/tubs7WV7+b+bFz2U2An1v2v1Y+5/d/C/JwPSY284578DEdtBf+rxv7GmsCkmf+2/cNuEg9Ni5r+mW4tx9wL3v/gmjLmNPPK/1wAhsb6V9r+uj4FF+77zv98HzUkkafi/OyqJ24dc7L80MMIs7NvrvwwHI07jq/K/lQPlR0LFy79nle3ygCHpv46QQz4Q5/e/fnC2MnCD7b8ZD18YBnf3v7g2wtVqJvC/",
          "dtype": "f8"
         },
         "xaxis": "x10",
         "y": {
          "bdata": "RTYuIQMOGsATyHXcyI4YwJ9kGNx6dRnACd3A3DfdGMDxKkoMblYcwNxQpzBv7RzAzDavbe/bFcCIx6nqbtEXwNGPtowbthrAaulayWkGHMBAKwGtIwUbwASXGYTd8BXA9hkOP7QEGsCfyneP1p0fwNgNqp6UVhvABZKOa5OLHcCrHxcQKXccwCshlmy2zBzAAOy749tJF8BQJe5dy2sawF3Mi87/+BnAeAGGvSzEGcC7fUSs/IocwFsNE1f0tBvAaLPIVSsMHcAecpvbGl0ZwONsxmQaVBzAAilXHOjFHMABI/6ozE8ZwBf/U/0EIxzADSIGudMuGsCKCv/A0RcewAWKDvhJUBrAQtMDWdkfHMCY29GTubIdwJirH99ZjhvA",
          "dtype": "f8"
         },
         "yaxis": "y10"
        },
        {
         "marker": {
          "line": {
           "color": "white",
           "width": 1
          },
          "opacity": 0.7,
          "size": 8
         },
         "mode": "markers",
         "name": "Cluster 8",
         "type": "scatter",
         "x": {
          "bdata": "VBP5TfgQGkCNdHXrsBUXQKGTzxUVNhxA1KDWgz/VGkD7BEJyYxobQH6bigdtIhlA9HtSRolKGkDBVWN7vDIaQD505dtkWRtAAkRfO9n8GkDeB1KN2PYZQD/ebd0N5xpA4gjgYtoyGkCG6eroLjIaQNpo8RV6UxtAr5U/9hSqGkBr1PkIzE4ZQMw9pmjC9RpA67qwwLaMGkA6vzfDcJMWQPe562uMJRtAICxX76+sG0DTuACOLi0bQJRRYMsDKRtAqAfEKylbG0AzztwE0xYcQFE+yXBG+BlAG8YOSRRBG0D3QiPE/pIcQKjhciuG5BtA",
          "dtype": "f8"
         },
         "xaxis": "x10",
         "y": {
          "bdata": "OhvteIkdI0CVwJ3HbPwiQEwQup1nqCNAzuUsfzXyIUDjwomRGdsjQG196JI4oiJAT9SzVY+2I0Cw93T40K0iQD7yFXUi4SNAfCWsP2lMJED+e99ABrUiQEUevlYaGyNAgBWfrFFCJEB51TZwomYiQJueANT92SJAlRoPjAV0JECsBGsxWfEiQEmXYvZedyNAvsKahKCWI0B8p8miG5kjQDV9Z5L1lyFAqCbEXIupI0BPHZssU78jQNvAHyh0iyJAomsaRyH2IkBAfFEdeZ8jQDrtxJUrOyJAGYibE7NrIkAP71GILWYjQES2JHolpiNA",
          "dtype": "f8"
         },
         "yaxis": "y10"
        },
        {
         "marker": {
          "line": {
           "color": "white",
           "width": 1
          },
          "opacity": 0.7,
          "size": 8
         },
         "mode": "markers",
         "name": "Cluster 9",
         "type": "scatter",
         "x": {
          "bdata": "FMQzeg/DAkDnwOurVoICQPxa4CVa5QdAIOsMX2idCUDt3uaSIckJQC2ovRY5OwpADXdMMygYA0AMispTraAIQBvssSGRFgVAzvvNWsYDBkCPDBBbstYCQHh4nompfQZAFxlDkmz09z94gZctDm4EQJ82zHKcjgRAaMTLnRJCBUAyAsWGOhoDQM/ni/UcBQxA25zFcbIqCUCnAMXnk6YKQPLDuibwLQdAApX5la0YCUBeVcZu9K0FQC0ZjYVBAgZA+sZC1j0sB0A=",
          "dtype": "f8"
         },
         "xaxis": "x10",
         "y": {
          "bdata": "0sVOjlMmE8DwArRbgEQUwDSfFkoX0xTAx63hZ4TGE8AuQnZZrp8UwCCs7cwTLRjA7DavUhsQFcBJB+vjaXYTwC5HzpoFhxLAY5QLRDRDE8CUj2FBZf4SwP8TAG8UQxfA9MNNJ36pF8Dq3GGpxh0TwC2MqbsorhbASwuBkvR3FcAc5Hfw9XwVwMP8ivPMAhTA0dT1w5odE8CKeM1z5Z0VwLPutCr5xRPA0rDRRumOFcATKLYZD0YTwC8sfDcF9xLA58kwvn1NE8A=",
          "dtype": "f8"
         },
         "yaxis": "y10"
        },
        {
         "marker": {
          "line": {
           "color": "white",
           "width": 1
          },
          "opacity": 0.7,
          "size": 8
         },
         "mode": "markers",
         "name": "Cluster 10",
         "type": "scatter",
         "x": [],
         "xaxis": "x10",
         "y": [],
         "yaxis": "y10"
        },
        {
         "marker": {
          "line": {
           "color": "white",
           "width": 1
          },
          "opacity": 0.7,
          "size": 12
         },
         "mode": "markers",
         "name": "Centers",
         "type": "scatter",
         "x": {
          "bdata": "CUc2LTZ//b+BUs/2ofQdQIxnnn24pQBAgr267JeVAMDx3ST3qHfwv51gWbI2lR1AtHo4NB+YCUDzVNo5hmTxv8lfXD9LmxpAknmykMk1BkA=",
          "dtype": "f8"
         },
         "xaxis": "x10",
         "y": {
          "bdata": "qFW32FDQ/D8dQZKW5YYiQDHfxexkNxDA6F6yuZEcGsBKExD/CDn0P252iMydrCRAY1ElpQSwEMCKAHSgrvEawF2Gwb3yMiNAJDLKsGuJFMA=",
          "dtype": "f8"
         },
         "yaxis": "y10"
        }
       ],
       "layout": {
        "height": 2000,
        "shapes": [
         {
          "line": {
           "color": "Black",
           "dash": "dash",
           "width": 1
          },
          "type": "line",
          "x0": 0,
          "x1": 0,
          "xref": "x",
          "y0": -10,
          "y1": 10,
          "yref": "y"
         },
         {
          "line": {
           "color": "Black",
           "dash": "dash",
           "width": 1
          },
          "type": "line",
          "x0": -10,
          "x1": 10,
          "xref": "x",
          "y0": 0,
          "y1": 0,
          "yref": "y"
         },
         {
          "line": {
           "color": "Black",
           "dash": "dash",
           "width": 1
          },
          "type": "line",
          "x0": 0,
          "x1": 0,
          "xref": "x2",
          "y0": -10,
          "y1": 10,
          "yref": "y2"
         },
         {
          "line": {
           "color": "Black",
           "dash": "dash",
           "width": 1
          },
          "type": "line",
          "x0": -10,
          "x1": 10,
          "xref": "x2",
          "y0": 0,
          "y1": 0,
          "yref": "y2"
         },
         {
          "line": {
           "color": "Black",
           "dash": "dash",
           "width": 1
          },
          "type": "line",
          "x0": 0,
          "x1": 0,
          "xref": "x3",
          "y0": -10,
          "y1": 10,
          "yref": "y3"
         },
         {
          "line": {
           "color": "Black",
           "dash": "dash",
           "width": 1
          },
          "type": "line",
          "x0": -10,
          "x1": 10,
          "xref": "x3",
          "y0": 0,
          "y1": 0,
          "yref": "y3"
         },
         {
          "line": {
           "color": "Black",
           "dash": "dash",
           "width": 1
          },
          "type": "line",
          "x0": 0,
          "x1": 0,
          "xref": "x4",
          "y0": -10,
          "y1": 10,
          "yref": "y4"
         },
         {
          "line": {
           "color": "Black",
           "dash": "dash",
           "width": 1
          },
          "type": "line",
          "x0": -10,
          "x1": 10,
          "xref": "x4",
          "y0": 0,
          "y1": 0,
          "yref": "y4"
         },
         {
          "line": {
           "color": "Black",
           "dash": "dash",
           "width": 1
          },
          "type": "line",
          "x0": 0,
          "x1": 0,
          "xref": "x5",
          "y0": -10,
          "y1": 10,
          "yref": "y5"
         },
         {
          "line": {
           "color": "Black",
           "dash": "dash",
           "width": 1
          },
          "type": "line",
          "x0": -10,
          "x1": 10,
          "xref": "x5",
          "y0": 0,
          "y1": 0,
          "yref": "y5"
         },
         {
          "line": {
           "color": "Black",
           "dash": "dash",
           "width": 1
          },
          "type": "line",
          "x0": 0,
          "x1": 0,
          "xref": "x6",
          "y0": -10,
          "y1": 10,
          "yref": "y6"
         },
         {
          "line": {
           "color": "Black",
           "dash": "dash",
           "width": 1
          },
          "type": "line",
          "x0": -10,
          "x1": 10,
          "xref": "x6",
          "y0": 0,
          "y1": 0,
          "yref": "y6"
         },
         {
          "line": {
           "color": "Black",
           "dash": "dash",
           "width": 1
          },
          "type": "line",
          "x0": 0,
          "x1": 0,
          "xref": "x7",
          "y0": -10,
          "y1": 10,
          "yref": "y7"
         },
         {
          "line": {
           "color": "Black",
           "dash": "dash",
           "width": 1
          },
          "type": "line",
          "x0": -10,
          "x1": 10,
          "xref": "x7",
          "y0": 0,
          "y1": 0,
          "yref": "y7"
         },
         {
          "line": {
           "color": "Black",
           "dash": "dash",
           "width": 1
          },
          "type": "line",
          "x0": 0,
          "x1": 0,
          "xref": "x8",
          "y0": -10,
          "y1": 10,
          "yref": "y8"
         },
         {
          "line": {
           "color": "Black",
           "dash": "dash",
           "width": 1
          },
          "type": "line",
          "x0": -10,
          "x1": 10,
          "xref": "x8",
          "y0": 0,
          "y1": 0,
          "yref": "y8"
         },
         {
          "line": {
           "color": "Black",
           "dash": "dash",
           "width": 1
          },
          "type": "line",
          "x0": 0,
          "x1": 0,
          "xref": "x9",
          "y0": -10,
          "y1": 10,
          "yref": "y9"
         },
         {
          "line": {
           "color": "Black",
           "dash": "dash",
           "width": 1
          },
          "type": "line",
          "x0": -10,
          "x1": 10,
          "xref": "x9",
          "y0": 0,
          "y1": 0,
          "yref": "y9"
         },
         {
          "line": {
           "color": "Black",
           "dash": "dash",
           "width": 1
          },
          "type": "line",
          "x0": 0,
          "x1": 0,
          "xref": "x10",
          "y0": -10,
          "y1": 10,
          "yref": "y10"
         },
         {
          "line": {
           "color": "Black",
           "dash": "dash",
           "width": 1
          },
          "type": "line",
          "x0": -10,
          "x1": 10,
          "xref": "x10",
          "y0": 0,
          "y1": 0,
          "yref": "y10"
         }
        ],
        "showlegend": false,
        "template": {
         "data": {
          "bar": [
           {
            "error_x": {
             "color": "#2a3f5f"
            },
            "error_y": {
             "color": "#2a3f5f"
            },
            "marker": {
             "line": {
              "color": "#E5ECF6",
              "width": 0.5
             },
             "pattern": {
              "fillmode": "overlay",
              "size": 10,
              "solidity": 0.2
             }
            },
            "type": "bar"
           }
          ],
          "barpolar": [
           {
            "marker": {
             "line": {
              "color": "#E5ECF6",
              "width": 0.5
             },
             "pattern": {
              "fillmode": "overlay",
              "size": 10,
              "solidity": 0.2
             }
            },
            "type": "barpolar"
           }
          ],
          "carpet": [
           {
            "aaxis": {
             "endlinecolor": "#2a3f5f",
             "gridcolor": "white",
             "linecolor": "white",
             "minorgridcolor": "white",
             "startlinecolor": "#2a3f5f"
            },
            "baxis": {
             "endlinecolor": "#2a3f5f",
             "gridcolor": "white",
             "linecolor": "white",
             "minorgridcolor": "white",
             "startlinecolor": "#2a3f5f"
            },
            "type": "carpet"
           }
          ],
          "choropleth": [
           {
            "colorbar": {
             "outlinewidth": 0,
             "ticks": ""
            },
            "type": "choropleth"
           }
          ],
          "contour": [
           {
            "colorbar": {
             "outlinewidth": 0,
             "ticks": ""
            },
            "colorscale": [
             [
              0,
              "#0d0887"
             ],
             [
              0.1111111111111111,
              "#46039f"
             ],
             [
              0.2222222222222222,
              "#7201a8"
             ],
             [
              0.3333333333333333,
              "#9c179e"
             ],
             [
              0.4444444444444444,
              "#bd3786"
             ],
             [
              0.5555555555555556,
              "#d8576b"
             ],
             [
              0.6666666666666666,
              "#ed7953"
             ],
             [
              0.7777777777777778,
              "#fb9f3a"
             ],
             [
              0.8888888888888888,
              "#fdca26"
             ],
             [
              1,
              "#f0f921"
             ]
            ],
            "type": "contour"
           }
          ],
          "contourcarpet": [
           {
            "colorbar": {
             "outlinewidth": 0,
             "ticks": ""
            },
            "type": "contourcarpet"
           }
          ],
          "heatmap": [
           {
            "colorbar": {
             "outlinewidth": 0,
             "ticks": ""
            },
            "colorscale": [
             [
              0,
              "#0d0887"
             ],
             [
              0.1111111111111111,
              "#46039f"
             ],
             [
              0.2222222222222222,
              "#7201a8"
             ],
             [
              0.3333333333333333,
              "#9c179e"
             ],
             [
              0.4444444444444444,
              "#bd3786"
             ],
             [
              0.5555555555555556,
              "#d8576b"
             ],
             [
              0.6666666666666666,
              "#ed7953"
             ],
             [
              0.7777777777777778,
              "#fb9f3a"
             ],
             [
              0.8888888888888888,
              "#fdca26"
             ],
             [
              1,
              "#f0f921"
             ]
            ],
            "type": "heatmap"
           }
          ],
          "histogram": [
           {
            "marker": {
             "pattern": {
              "fillmode": "overlay",
              "size": 10,
              "solidity": 0.2
             }
            },
            "type": "histogram"
           }
          ],
          "histogram2d": [
           {
            "colorbar": {
             "outlinewidth": 0,
             "ticks": ""
            },
            "colorscale": [
             [
              0,
              "#0d0887"
             ],
             [
              0.1111111111111111,
              "#46039f"
             ],
             [
              0.2222222222222222,
              "#7201a8"
             ],
             [
              0.3333333333333333,
              "#9c179e"
             ],
             [
              0.4444444444444444,
              "#bd3786"
             ],
             [
              0.5555555555555556,
              "#d8576b"
             ],
             [
              0.6666666666666666,
              "#ed7953"
             ],
             [
              0.7777777777777778,
              "#fb9f3a"
             ],
             [
              0.8888888888888888,
              "#fdca26"
             ],
             [
              1,
              "#f0f921"
             ]
            ],
            "type": "histogram2d"
           }
          ],
          "histogram2dcontour": [
           {
            "colorbar": {
             "outlinewidth": 0,
             "ticks": ""
            },
            "colorscale": [
             [
              0,
              "#0d0887"
             ],
             [
              0.1111111111111111,
              "#46039f"
             ],
             [
              0.2222222222222222,
              "#7201a8"
             ],
             [
              0.3333333333333333,
              "#9c179e"
             ],
             [
              0.4444444444444444,
              "#bd3786"
             ],
             [
              0.5555555555555556,
              "#d8576b"
             ],
             [
              0.6666666666666666,
              "#ed7953"
             ],
             [
              0.7777777777777778,
              "#fb9f3a"
             ],
             [
              0.8888888888888888,
              "#fdca26"
             ],
             [
              1,
              "#f0f921"
             ]
            ],
            "type": "histogram2dcontour"
           }
          ],
          "mesh3d": [
           {
            "colorbar": {
             "outlinewidth": 0,
             "ticks": ""
            },
            "type": "mesh3d"
           }
          ],
          "parcoords": [
           {
            "line": {
             "colorbar": {
              "outlinewidth": 0,
              "ticks": ""
             }
            },
            "type": "parcoords"
           }
          ],
          "pie": [
           {
            "automargin": true,
            "type": "pie"
           }
          ],
          "scatter": [
           {
            "fillpattern": {
             "fillmode": "overlay",
             "size": 10,
             "solidity": 0.2
            },
            "type": "scatter"
           }
          ],
          "scatter3d": [
           {
            "line": {
             "colorbar": {
              "outlinewidth": 0,
              "ticks": ""
             }
            },
            "marker": {
             "colorbar": {
              "outlinewidth": 0,
              "ticks": ""
             }
            },
            "type": "scatter3d"
           }
          ],
          "scattercarpet": [
           {
            "marker": {
             "colorbar": {
              "outlinewidth": 0,
              "ticks": ""
             }
            },
            "type": "scattercarpet"
           }
          ],
          "scattergeo": [
           {
            "marker": {
             "colorbar": {
              "outlinewidth": 0,
              "ticks": ""
             }
            },
            "type": "scattergeo"
           }
          ],
          "scattergl": [
           {
            "marker": {
             "colorbar": {
              "outlinewidth": 0,
              "ticks": ""
             }
            },
            "type": "scattergl"
           }
          ],
          "scattermap": [
           {
            "marker": {
             "colorbar": {
              "outlinewidth": 0,
              "ticks": ""
             }
            },
            "type": "scattermap"
           }
          ],
          "scattermapbox": [
           {
            "marker": {
             "colorbar": {
              "outlinewidth": 0,
              "ticks": ""
             }
            },
            "type": "scattermapbox"
           }
          ],
          "scatterpolar": [
           {
            "marker": {
             "colorbar": {
              "outlinewidth": 0,
              "ticks": ""
             }
            },
            "type": "scatterpolar"
           }
          ],
          "scatterpolargl": [
           {
            "marker": {
             "colorbar": {
              "outlinewidth": 0,
              "ticks": ""
             }
            },
            "type": "scatterpolargl"
           }
          ],
          "scatterternary": [
           {
            "marker": {
             "colorbar": {
              "outlinewidth": 0,
              "ticks": ""
             }
            },
            "type": "scatterternary"
           }
          ],
          "surface": [
           {
            "colorbar": {
             "outlinewidth": 0,
             "ticks": ""
            },
            "colorscale": [
             [
              0,
              "#0d0887"
             ],
             [
              0.1111111111111111,
              "#46039f"
             ],
             [
              0.2222222222222222,
              "#7201a8"
             ],
             [
              0.3333333333333333,
              "#9c179e"
             ],
             [
              0.4444444444444444,
              "#bd3786"
             ],
             [
              0.5555555555555556,
              "#d8576b"
             ],
             [
              0.6666666666666666,
              "#ed7953"
             ],
             [
              0.7777777777777778,
              "#fb9f3a"
             ],
             [
              0.8888888888888888,
              "#fdca26"
             ],
             [
              1,
              "#f0f921"
             ]
            ],
            "type": "surface"
           }
          ],
          "table": [
           {
            "cells": {
             "fill": {
              "color": "#EBF0F8"
             },
             "line": {
              "color": "white"
             }
            },
            "header": {
             "fill": {
              "color": "#C8D4E3"
             },
             "line": {
              "color": "white"
             }
            },
            "type": "table"
           }
          ]
         },
         "layout": {
          "annotationdefaults": {
           "arrowcolor": "#2a3f5f",
           "arrowhead": 0,
           "arrowwidth": 1
          },
          "autotypenumbers": "strict",
          "coloraxis": {
           "colorbar": {
            "outlinewidth": 0,
            "ticks": ""
           }
          },
          "colorscale": {
           "diverging": [
            [
             0,
             "#8e0152"
            ],
            [
             0.1,
             "#c51b7d"
            ],
            [
             0.2,
             "#de77ae"
            ],
            [
             0.3,
             "#f1b6da"
            ],
            [
             0.4,
             "#fde0ef"
            ],
            [
             0.5,
             "#f7f7f7"
            ],
            [
             0.6,
             "#e6f5d0"
            ],
            [
             0.7,
             "#b8e186"
            ],
            [
             0.8,
             "#7fbc41"
            ],
            [
             0.9,
             "#4d9221"
            ],
            [
             1,
             "#276419"
            ]
           ],
           "sequential": [
            [
             0,
             "#0d0887"
            ],
            [
             0.1111111111111111,
             "#46039f"
            ],
            [
             0.2222222222222222,
             "#7201a8"
            ],
            [
             0.3333333333333333,
             "#9c179e"
            ],
            [
             0.4444444444444444,
             "#bd3786"
            ],
            [
             0.5555555555555556,
             "#d8576b"
            ],
            [
             0.6666666666666666,
             "#ed7953"
            ],
            [
             0.7777777777777778,
             "#fb9f3a"
            ],
            [
             0.8888888888888888,
             "#fdca26"
            ],
            [
             1,
             "#f0f921"
            ]
           ],
           "sequentialminus": [
            [
             0,
             "#0d0887"
            ],
            [
             0.1111111111111111,
             "#46039f"
            ],
            [
             0.2222222222222222,
             "#7201a8"
            ],
            [
             0.3333333333333333,
             "#9c179e"
            ],
            [
             0.4444444444444444,
             "#bd3786"
            ],
            [
             0.5555555555555556,
             "#d8576b"
            ],
            [
             0.6666666666666666,
             "#ed7953"
            ],
            [
             0.7777777777777778,
             "#fb9f3a"
            ],
            [
             0.8888888888888888,
             "#fdca26"
            ],
            [
             1,
             "#f0f921"
            ]
           ]
          },
          "colorway": [
           "#636efa",
           "#EF553B",
           "#00cc96",
           "#ab63fa",
           "#FFA15A",
           "#19d3f3",
           "#FF6692",
           "#B6E880",
           "#FF97FF",
           "#FECB52"
          ],
          "font": {
           "color": "#2a3f5f"
          },
          "geo": {
           "bgcolor": "white",
           "lakecolor": "white",
           "landcolor": "#E5ECF6",
           "showlakes": true,
           "showland": true,
           "subunitcolor": "white"
          },
          "hoverlabel": {
           "align": "left"
          },
          "hovermode": "closest",
          "mapbox": {
           "style": "light"
          },
          "paper_bgcolor": "white",
          "plot_bgcolor": "#E5ECF6",
          "polar": {
           "angularaxis": {
            "gridcolor": "white",
            "linecolor": "white",
            "ticks": ""
           },
           "bgcolor": "#E5ECF6",
           "radialaxis": {
            "gridcolor": "white",
            "linecolor": "white",
            "ticks": ""
           }
          },
          "scene": {
           "xaxis": {
            "backgroundcolor": "#E5ECF6",
            "gridcolor": "white",
            "gridwidth": 2,
            "linecolor": "white",
            "showbackground": true,
            "ticks": "",
            "zerolinecolor": "white"
           },
           "yaxis": {
            "backgroundcolor": "#E5ECF6",
            "gridcolor": "white",
            "gridwidth": 2,
            "linecolor": "white",
            "showbackground": true,
            "ticks": "",
            "zerolinecolor": "white"
           },
           "zaxis": {
            "backgroundcolor": "#E5ECF6",
            "gridcolor": "white",
            "gridwidth": 2,
            "linecolor": "white",
            "showbackground": true,
            "ticks": "",
            "zerolinecolor": "white"
           }
          },
          "shapedefaults": {
           "line": {
            "color": "#2a3f5f"
           }
          },
          "ternary": {
           "aaxis": {
            "gridcolor": "white",
            "linecolor": "white",
            "ticks": ""
           },
           "baxis": {
            "gridcolor": "white",
            "linecolor": "white",
            "ticks": ""
           },
           "bgcolor": "#E5ECF6",
           "caxis": {
            "gridcolor": "white",
            "linecolor": "white",
            "ticks": ""
           }
          },
          "title": {
           "x": 0.05
          },
          "xaxis": {
           "automargin": true,
           "gridcolor": "white",
           "linecolor": "white",
           "ticks": "",
           "title": {
            "standoff": 15
           },
           "zerolinecolor": "white",
           "zerolinewidth": 2
          },
          "yaxis": {
           "automargin": true,
           "gridcolor": "white",
           "linecolor": "white",
           "ticks": "",
           "title": {
            "standoff": 15
           },
           "zerolinecolor": "white",
           "zerolinewidth": 2
          }
         }
        },
        "width": 800,
        "xaxis": {
         "anchor": "y",
         "domain": [
          0,
          0.45
         ],
         "gridcolor": "LightGrey",
         "gridwidth": 1,
         "range": [
          -15,
          15
         ],
         "showgrid": true,
         "title": {
          "text": "X1"
         }
        },
        "xaxis10": {
         "anchor": "y10",
         "domain": [
          0.55,
          1
         ],
         "gridcolor": "LightGrey",
         "gridwidth": 1,
         "range": [
          -15,
          15
         ],
         "showgrid": true,
         "title": {
          "text": "X1"
         }
        },
        "xaxis2": {
         "anchor": "y2",
         "domain": [
          0.55,
          1
         ],
         "gridcolor": "LightGrey",
         "gridwidth": 1,
         "range": [
          -15,
          15
         ],
         "showgrid": true,
         "title": {
          "text": "X1"
         }
        },
        "xaxis3": {
         "anchor": "y3",
         "domain": [
          0,
          0.45
         ],
         "gridcolor": "LightGrey",
         "gridwidth": 1,
         "range": [
          -15,
          15
         ],
         "showgrid": true,
         "title": {
          "text": "X1"
         }
        },
        "xaxis4": {
         "anchor": "y4",
         "domain": [
          0.55,
          1
         ],
         "gridcolor": "LightGrey",
         "gridwidth": 1,
         "range": [
          -15,
          15
         ],
         "showgrid": true,
         "title": {
          "text": "X1"
         }
        },
        "xaxis5": {
         "anchor": "y5",
         "domain": [
          0,
          0.45
         ],
         "gridcolor": "LightGrey",
         "gridwidth": 1,
         "range": [
          -15,
          15
         ],
         "showgrid": true,
         "title": {
          "text": "X1"
         }
        },
        "xaxis6": {
         "anchor": "y6",
         "domain": [
          0.55,
          1
         ],
         "gridcolor": "LightGrey",
         "gridwidth": 1,
         "range": [
          -15,
          15
         ],
         "showgrid": true,
         "title": {
          "text": "X1"
         }
        },
        "xaxis7": {
         "anchor": "y7",
         "domain": [
          0,
          0.45
         ],
         "gridcolor": "LightGrey",
         "gridwidth": 1,
         "range": [
          -15,
          15
         ],
         "showgrid": true,
         "title": {
          "text": "X1"
         }
        },
        "xaxis8": {
         "anchor": "y8",
         "domain": [
          0.55,
          1
         ],
         "gridcolor": "LightGrey",
         "gridwidth": 1,
         "range": [
          -15,
          15
         ],
         "showgrid": true,
         "title": {
          "text": "X1"
         }
        },
        "xaxis9": {
         "anchor": "y9",
         "domain": [
          0,
          0.45
         ],
         "gridcolor": "LightGrey",
         "gridwidth": 1,
         "range": [
          -15,
          15
         ],
         "showgrid": true,
         "title": {
          "text": "X1"
         }
        },
        "yaxis": {
         "anchor": "x",
         "domain": [
          0.848,
          1
         ],
         "gridcolor": "LightGrey",
         "gridwidth": 1,
         "range": [
          -15,
          15
         ],
         "showgrid": true,
         "title": {
          "text": "X2"
         }
        },
        "yaxis10": {
         "anchor": "x10",
         "domain": [
          0,
          0.152
         ],
         "gridcolor": "LightGrey",
         "gridwidth": 1,
         "range": [
          -15,
          15
         ],
         "showgrid": true,
         "title": {
          "text": "X2"
         }
        },
        "yaxis2": {
         "anchor": "x2",
         "domain": [
          0.848,
          1
         ],
         "gridcolor": "LightGrey",
         "gridwidth": 1,
         "range": [
          -15,
          15
         ],
         "showgrid": true,
         "title": {
          "text": "X2"
         }
        },
        "yaxis3": {
         "anchor": "x3",
         "domain": [
          0.6359999999999999,
          0.7879999999999999
         ],
         "gridcolor": "LightGrey",
         "gridwidth": 1,
         "range": [
          -15,
          15
         ],
         "showgrid": true,
         "title": {
          "text": "X2"
         }
        },
        "yaxis4": {
         "anchor": "x4",
         "domain": [
          0.6359999999999999,
          0.7879999999999999
         ],
         "gridcolor": "LightGrey",
         "gridwidth": 1,
         "range": [
          -15,
          15
         ],
         "showgrid": true,
         "title": {
          "text": "X2"
         }
        },
        "yaxis5": {
         "anchor": "x5",
         "domain": [
          0.424,
          0.576
         ],
         "gridcolor": "LightGrey",
         "gridwidth": 1,
         "range": [
          -15,
          15
         ],
         "showgrid": true,
         "title": {
          "text": "X2"
         }
        },
        "yaxis6": {
         "anchor": "x6",
         "domain": [
          0.424,
          0.576
         ],
         "gridcolor": "LightGrey",
         "gridwidth": 1,
         "range": [
          -15,
          15
         ],
         "showgrid": true,
         "title": {
          "text": "X2"
         }
        },
        "yaxis7": {
         "anchor": "x7",
         "domain": [
          0.212,
          0.364
         ],
         "gridcolor": "LightGrey",
         "gridwidth": 1,
         "range": [
          -15,
          15
         ],
         "showgrid": true,
         "title": {
          "text": "X2"
         }
        },
        "yaxis8": {
         "anchor": "x8",
         "domain": [
          0.212,
          0.364
         ],
         "gridcolor": "LightGrey",
         "gridwidth": 1,
         "range": [
          -15,
          15
         ],
         "showgrid": true,
         "title": {
          "text": "X2"
         }
        },
        "yaxis9": {
         "anchor": "x9",
         "domain": [
          0,
          0.152
         ],
         "gridcolor": "LightGrey",
         "gridwidth": 1,
         "range": [
          -15,
          15
         ],
         "showgrid": true,
         "title": {
          "text": "X2"
         }
        }
       }
      }
     },
     "metadata": {},
     "output_type": "display_data"
    }
   ],
   "source": [
    "K = [1, 2, 3, 4, 5, 6, 7, 8, 9, 10]\n",
    "fig = make_subplots(rows=5, cols=2)\n",
    "sse = []\n",
    "\n",
    "for k in K:\n",
    "    kmeans = KMeans(n_clusters=k, random_state=1505)\n",
    "    y_clusters = kmeans.fit_predict(X)\n",
    "    centers = kmeans.cluster_centers_\n",
    "    plot_data(fig,X, y_clusters, clusters=k, kmean_centers=centers, row=(K.index(k) // 2) + 1, col=(K.index(k) % 2) + 1)\n",
    "    sse.append(kmeans.inertia_)\n",
    "# Changing the size of the figs\n",
    "fig.update_layout(height=2000, width=800)\n",
    "\n",
    "fig.show()\n",
    "    "
   ]
  },
  {
   "cell_type": "markdown",
   "id": "05be65fe",
   "metadata": {},
   "source": [
    "### (c) Plot SSE per K - Elbow Method"
   ]
  },
  {
   "cell_type": "code",
   "execution_count": 38,
   "id": "3519af78",
   "metadata": {},
   "outputs": [
    {
     "data": {
      "application/vnd.plotly.v1+json": {
       "config": {
        "plotlyServerURL": "https://plot.ly"
       },
       "data": [
        {
         "hovertemplate": "K=%{x}<br>SSE=%{y:.2f}<extra></extra>",
         "line": {
          "color": "royalblue",
          "width": 2
         },
         "marker": {
          "color": "royalblue",
          "size": 8
         },
         "mode": "lines+markers",
         "name": "SSE",
         "type": "scatter",
         "x": [
          1,
          2,
          3,
          4,
          5,
          6,
          7,
          8,
          9,
          10
         ],
         "y": [
          16205.043240719802,
          3823.433171461598,
          1078.964586393137,
          213.0378486616278,
          194.02745837785693,
          172.35695529179105,
          150.35925118464138,
          137.80322724545448,
          130.2244805973686,
          117.9739503958111
         ]
        }
       ],
       "layout": {
        "height": 500,
        "hovermode": "x",
        "showlegend": false,
        "template": {
         "data": {
          "bar": [
           {
            "error_x": {
             "color": "#2a3f5f"
            },
            "error_y": {
             "color": "#2a3f5f"
            },
            "marker": {
             "line": {
              "color": "white",
              "width": 0.5
             },
             "pattern": {
              "fillmode": "overlay",
              "size": 10,
              "solidity": 0.2
             }
            },
            "type": "bar"
           }
          ],
          "barpolar": [
           {
            "marker": {
             "line": {
              "color": "white",
              "width": 0.5
             },
             "pattern": {
              "fillmode": "overlay",
              "size": 10,
              "solidity": 0.2
             }
            },
            "type": "barpolar"
           }
          ],
          "carpet": [
           {
            "aaxis": {
             "endlinecolor": "#2a3f5f",
             "gridcolor": "#C8D4E3",
             "linecolor": "#C8D4E3",
             "minorgridcolor": "#C8D4E3",
             "startlinecolor": "#2a3f5f"
            },
            "baxis": {
             "endlinecolor": "#2a3f5f",
             "gridcolor": "#C8D4E3",
             "linecolor": "#C8D4E3",
             "minorgridcolor": "#C8D4E3",
             "startlinecolor": "#2a3f5f"
            },
            "type": "carpet"
           }
          ],
          "choropleth": [
           {
            "colorbar": {
             "outlinewidth": 0,
             "ticks": ""
            },
            "type": "choropleth"
           }
          ],
          "contour": [
           {
            "colorbar": {
             "outlinewidth": 0,
             "ticks": ""
            },
            "colorscale": [
             [
              0,
              "#0d0887"
             ],
             [
              0.1111111111111111,
              "#46039f"
             ],
             [
              0.2222222222222222,
              "#7201a8"
             ],
             [
              0.3333333333333333,
              "#9c179e"
             ],
             [
              0.4444444444444444,
              "#bd3786"
             ],
             [
              0.5555555555555556,
              "#d8576b"
             ],
             [
              0.6666666666666666,
              "#ed7953"
             ],
             [
              0.7777777777777778,
              "#fb9f3a"
             ],
             [
              0.8888888888888888,
              "#fdca26"
             ],
             [
              1,
              "#f0f921"
             ]
            ],
            "type": "contour"
           }
          ],
          "contourcarpet": [
           {
            "colorbar": {
             "outlinewidth": 0,
             "ticks": ""
            },
            "type": "contourcarpet"
           }
          ],
          "heatmap": [
           {
            "colorbar": {
             "outlinewidth": 0,
             "ticks": ""
            },
            "colorscale": [
             [
              0,
              "#0d0887"
             ],
             [
              0.1111111111111111,
              "#46039f"
             ],
             [
              0.2222222222222222,
              "#7201a8"
             ],
             [
              0.3333333333333333,
              "#9c179e"
             ],
             [
              0.4444444444444444,
              "#bd3786"
             ],
             [
              0.5555555555555556,
              "#d8576b"
             ],
             [
              0.6666666666666666,
              "#ed7953"
             ],
             [
              0.7777777777777778,
              "#fb9f3a"
             ],
             [
              0.8888888888888888,
              "#fdca26"
             ],
             [
              1,
              "#f0f921"
             ]
            ],
            "type": "heatmap"
           }
          ],
          "histogram": [
           {
            "marker": {
             "pattern": {
              "fillmode": "overlay",
              "size": 10,
              "solidity": 0.2
             }
            },
            "type": "histogram"
           }
          ],
          "histogram2d": [
           {
            "colorbar": {
             "outlinewidth": 0,
             "ticks": ""
            },
            "colorscale": [
             [
              0,
              "#0d0887"
             ],
             [
              0.1111111111111111,
              "#46039f"
             ],
             [
              0.2222222222222222,
              "#7201a8"
             ],
             [
              0.3333333333333333,
              "#9c179e"
             ],
             [
              0.4444444444444444,
              "#bd3786"
             ],
             [
              0.5555555555555556,
              "#d8576b"
             ],
             [
              0.6666666666666666,
              "#ed7953"
             ],
             [
              0.7777777777777778,
              "#fb9f3a"
             ],
             [
              0.8888888888888888,
              "#fdca26"
             ],
             [
              1,
              "#f0f921"
             ]
            ],
            "type": "histogram2d"
           }
          ],
          "histogram2dcontour": [
           {
            "colorbar": {
             "outlinewidth": 0,
             "ticks": ""
            },
            "colorscale": [
             [
              0,
              "#0d0887"
             ],
             [
              0.1111111111111111,
              "#46039f"
             ],
             [
              0.2222222222222222,
              "#7201a8"
             ],
             [
              0.3333333333333333,
              "#9c179e"
             ],
             [
              0.4444444444444444,
              "#bd3786"
             ],
             [
              0.5555555555555556,
              "#d8576b"
             ],
             [
              0.6666666666666666,
              "#ed7953"
             ],
             [
              0.7777777777777778,
              "#fb9f3a"
             ],
             [
              0.8888888888888888,
              "#fdca26"
             ],
             [
              1,
              "#f0f921"
             ]
            ],
            "type": "histogram2dcontour"
           }
          ],
          "mesh3d": [
           {
            "colorbar": {
             "outlinewidth": 0,
             "ticks": ""
            },
            "type": "mesh3d"
           }
          ],
          "parcoords": [
           {
            "line": {
             "colorbar": {
              "outlinewidth": 0,
              "ticks": ""
             }
            },
            "type": "parcoords"
           }
          ],
          "pie": [
           {
            "automargin": true,
            "type": "pie"
           }
          ],
          "scatter": [
           {
            "fillpattern": {
             "fillmode": "overlay",
             "size": 10,
             "solidity": 0.2
            },
            "type": "scatter"
           }
          ],
          "scatter3d": [
           {
            "line": {
             "colorbar": {
              "outlinewidth": 0,
              "ticks": ""
             }
            },
            "marker": {
             "colorbar": {
              "outlinewidth": 0,
              "ticks": ""
             }
            },
            "type": "scatter3d"
           }
          ],
          "scattercarpet": [
           {
            "marker": {
             "colorbar": {
              "outlinewidth": 0,
              "ticks": ""
             }
            },
            "type": "scattercarpet"
           }
          ],
          "scattergeo": [
           {
            "marker": {
             "colorbar": {
              "outlinewidth": 0,
              "ticks": ""
             }
            },
            "type": "scattergeo"
           }
          ],
          "scattergl": [
           {
            "marker": {
             "colorbar": {
              "outlinewidth": 0,
              "ticks": ""
             }
            },
            "type": "scattergl"
           }
          ],
          "scattermap": [
           {
            "marker": {
             "colorbar": {
              "outlinewidth": 0,
              "ticks": ""
             }
            },
            "type": "scattermap"
           }
          ],
          "scattermapbox": [
           {
            "marker": {
             "colorbar": {
              "outlinewidth": 0,
              "ticks": ""
             }
            },
            "type": "scattermapbox"
           }
          ],
          "scatterpolar": [
           {
            "marker": {
             "colorbar": {
              "outlinewidth": 0,
              "ticks": ""
             }
            },
            "type": "scatterpolar"
           }
          ],
          "scatterpolargl": [
           {
            "marker": {
             "colorbar": {
              "outlinewidth": 0,
              "ticks": ""
             }
            },
            "type": "scatterpolargl"
           }
          ],
          "scatterternary": [
           {
            "marker": {
             "colorbar": {
              "outlinewidth": 0,
              "ticks": ""
             }
            },
            "type": "scatterternary"
           }
          ],
          "surface": [
           {
            "colorbar": {
             "outlinewidth": 0,
             "ticks": ""
            },
            "colorscale": [
             [
              0,
              "#0d0887"
             ],
             [
              0.1111111111111111,
              "#46039f"
             ],
             [
              0.2222222222222222,
              "#7201a8"
             ],
             [
              0.3333333333333333,
              "#9c179e"
             ],
             [
              0.4444444444444444,
              "#bd3786"
             ],
             [
              0.5555555555555556,
              "#d8576b"
             ],
             [
              0.6666666666666666,
              "#ed7953"
             ],
             [
              0.7777777777777778,
              "#fb9f3a"
             ],
             [
              0.8888888888888888,
              "#fdca26"
             ],
             [
              1,
              "#f0f921"
             ]
            ],
            "type": "surface"
           }
          ],
          "table": [
           {
            "cells": {
             "fill": {
              "color": "#EBF0F8"
             },
             "line": {
              "color": "white"
             }
            },
            "header": {
             "fill": {
              "color": "#C8D4E3"
             },
             "line": {
              "color": "white"
             }
            },
            "type": "table"
           }
          ]
         },
         "layout": {
          "annotationdefaults": {
           "arrowcolor": "#2a3f5f",
           "arrowhead": 0,
           "arrowwidth": 1
          },
          "autotypenumbers": "strict",
          "coloraxis": {
           "colorbar": {
            "outlinewidth": 0,
            "ticks": ""
           }
          },
          "colorscale": {
           "diverging": [
            [
             0,
             "#8e0152"
            ],
            [
             0.1,
             "#c51b7d"
            ],
            [
             0.2,
             "#de77ae"
            ],
            [
             0.3,
             "#f1b6da"
            ],
            [
             0.4,
             "#fde0ef"
            ],
            [
             0.5,
             "#f7f7f7"
            ],
            [
             0.6,
             "#e6f5d0"
            ],
            [
             0.7,
             "#b8e186"
            ],
            [
             0.8,
             "#7fbc41"
            ],
            [
             0.9,
             "#4d9221"
            ],
            [
             1,
             "#276419"
            ]
           ],
           "sequential": [
            [
             0,
             "#0d0887"
            ],
            [
             0.1111111111111111,
             "#46039f"
            ],
            [
             0.2222222222222222,
             "#7201a8"
            ],
            [
             0.3333333333333333,
             "#9c179e"
            ],
            [
             0.4444444444444444,
             "#bd3786"
            ],
            [
             0.5555555555555556,
             "#d8576b"
            ],
            [
             0.6666666666666666,
             "#ed7953"
            ],
            [
             0.7777777777777778,
             "#fb9f3a"
            ],
            [
             0.8888888888888888,
             "#fdca26"
            ],
            [
             1,
             "#f0f921"
            ]
           ],
           "sequentialminus": [
            [
             0,
             "#0d0887"
            ],
            [
             0.1111111111111111,
             "#46039f"
            ],
            [
             0.2222222222222222,
             "#7201a8"
            ],
            [
             0.3333333333333333,
             "#9c179e"
            ],
            [
             0.4444444444444444,
             "#bd3786"
            ],
            [
             0.5555555555555556,
             "#d8576b"
            ],
            [
             0.6666666666666666,
             "#ed7953"
            ],
            [
             0.7777777777777778,
             "#fb9f3a"
            ],
            [
             0.8888888888888888,
             "#fdca26"
            ],
            [
             1,
             "#f0f921"
            ]
           ]
          },
          "colorway": [
           "#636efa",
           "#EF553B",
           "#00cc96",
           "#ab63fa",
           "#FFA15A",
           "#19d3f3",
           "#FF6692",
           "#B6E880",
           "#FF97FF",
           "#FECB52"
          ],
          "font": {
           "color": "#2a3f5f"
          },
          "geo": {
           "bgcolor": "white",
           "lakecolor": "white",
           "landcolor": "white",
           "showlakes": true,
           "showland": true,
           "subunitcolor": "#C8D4E3"
          },
          "hoverlabel": {
           "align": "left"
          },
          "hovermode": "closest",
          "mapbox": {
           "style": "light"
          },
          "paper_bgcolor": "white",
          "plot_bgcolor": "white",
          "polar": {
           "angularaxis": {
            "gridcolor": "#EBF0F8",
            "linecolor": "#EBF0F8",
            "ticks": ""
           },
           "bgcolor": "white",
           "radialaxis": {
            "gridcolor": "#EBF0F8",
            "linecolor": "#EBF0F8",
            "ticks": ""
           }
          },
          "scene": {
           "xaxis": {
            "backgroundcolor": "white",
            "gridcolor": "#DFE8F3",
            "gridwidth": 2,
            "linecolor": "#EBF0F8",
            "showbackground": true,
            "ticks": "",
            "zerolinecolor": "#EBF0F8"
           },
           "yaxis": {
            "backgroundcolor": "white",
            "gridcolor": "#DFE8F3",
            "gridwidth": 2,
            "linecolor": "#EBF0F8",
            "showbackground": true,
            "ticks": "",
            "zerolinecolor": "#EBF0F8"
           },
           "zaxis": {
            "backgroundcolor": "white",
            "gridcolor": "#DFE8F3",
            "gridwidth": 2,
            "linecolor": "#EBF0F8",
            "showbackground": true,
            "ticks": "",
            "zerolinecolor": "#EBF0F8"
           }
          },
          "shapedefaults": {
           "line": {
            "color": "#2a3f5f"
           }
          },
          "ternary": {
           "aaxis": {
            "gridcolor": "#DFE8F3",
            "linecolor": "#A2B1C6",
            "ticks": ""
           },
           "baxis": {
            "gridcolor": "#DFE8F3",
            "linecolor": "#A2B1C6",
            "ticks": ""
           },
           "bgcolor": "white",
           "caxis": {
            "gridcolor": "#DFE8F3",
            "linecolor": "#A2B1C6",
            "ticks": ""
           }
          },
          "title": {
           "x": 0.05
          },
          "xaxis": {
           "automargin": true,
           "gridcolor": "#EBF0F8",
           "linecolor": "#EBF0F8",
           "ticks": "",
           "title": {
            "standoff": 15
           },
           "zerolinecolor": "#EBF0F8",
           "zerolinewidth": 2
          },
          "yaxis": {
           "automargin": true,
           "gridcolor": "#EBF0F8",
           "linecolor": "#EBF0F8",
           "ticks": "",
           "title": {
            "standoff": 15
           },
           "zerolinecolor": "#EBF0F8",
           "zerolinewidth": 2
          }
         }
        },
        "title": {
         "text": "Elbow Method For Optimal K",
         "x": 0.5
        },
        "width": 500,
        "xaxis": {
         "dtick": 1,
         "gridcolor": "lightgray",
         "gridwidth": 1,
         "showgrid": true,
         "tick0": 1,
         "tickmode": "linear",
         "title": {
          "text": "Number of Clusters (K)"
         }
        },
        "yaxis": {
         "gridcolor": "lightgray",
         "gridwidth": 1,
         "showgrid": true,
         "title": {
          "text": "Sum of Squared Errors (SSE)"
         }
        }
       }
      }
     },
     "metadata": {},
     "output_type": "display_data"
    }
   ],
   "source": [
    "plot_elbow_method(sse, K)\n"
   ]
  },
  {
   "cell_type": "markdown",
   "id": "8a7db4f1",
   "metadata": {},
   "source": [
    "### (d) Repeat the process with std = 0.1"
   ]
  },
  {
   "cell_type": "code",
   "execution_count": 39,
   "id": "3ba6d2f9",
   "metadata": {},
   "outputs": [
    {
     "name": "stdout",
     "output_type": "stream",
     "text": [
      "X shape:  (300, 2)\n",
      "y shape:  (300,)\n"
     ]
    }
   ],
   "source": [
    "clusters = 4\n",
    "data_points = 300\n",
    "std = 0.1\n",
    "X, y = generate_cluster_data(n = data_points, centers=clusters, std=std, random_state=1505)\n",
    "\n",
    "print(\"X shape: \", X.shape)\n",
    "print(\"y shape: \", y.shape)\n"
   ]
  },
  {
   "cell_type": "code",
   "execution_count": 40,
   "id": "8ac9850f",
   "metadata": {},
   "outputs": [
    {
     "data": {
      "application/vnd.plotly.v1+json": {
       "config": {
        "plotlyServerURL": "https://plot.ly"
       },
       "data": [
        {
         "marker": {
          "line": {
           "color": "white",
           "width": 1
          },
          "opacity": 0.7,
          "size": 8
         },
         "mode": "markers",
         "name": "Cluster 0",
         "type": "scatter",
         "x": {
          "bdata": "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",
          "dtype": "f8"
         },
         "xaxis": "x",
         "y": {
          "bdata": "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",
          "dtype": "f8"
         },
         "yaxis": "y"
        },
        {
         "marker": {
          "line": {
           "color": "white",
           "width": 1
          },
          "opacity": 0.7,
          "size": 8
         },
         "mode": "markers",
         "name": "Cluster 1",
         "type": "scatter",
         "x": [],
         "xaxis": "x",
         "y": [],
         "yaxis": "y"
        },
        {
         "marker": {
          "line": {
           "color": "white",
           "width": 1
          },
          "opacity": 0.7,
          "size": 12
         },
         "mode": "markers",
         "name": "Centers",
         "type": "scatter",
         "x": {
          "bdata": "v/NFmu9a+j8=",
          "dtype": "f8"
         },
         "xaxis": "x",
         "y": {
          "bdata": "Scxm5ckxoj8=",
          "dtype": "f8"
         },
         "yaxis": "y"
        },
        {
         "marker": {
          "line": {
           "color": "white",
           "width": 1
          },
          "opacity": 0.7,
          "size": 8
         },
         "mode": "markers",
         "name": "Cluster 0",
         "type": "scatter",
         "x": {
          "bdata": "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",
          "dtype": "f8"
         },
         "xaxis": "x2",
         "y": {
          "bdata": "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",
          "dtype": "f8"
         },
         "yaxis": "y2"
        },
        {
         "marker": {
          "line": {
           "color": "white",
           "width": 1
          },
          "opacity": 0.7,
          "size": 8
         },
         "mode": "markers",
         "name": "Cluster 1",
         "type": "scatter",
         "x": {
          "bdata": "kJywVLOvG0A6EtCE+bEbQG5XRcR8MBtA8rGpIDgLHEDQ3qrdadAbQBQaCK+bpRxA1sS82u/bG0B9rfJ9ge8bQEEznnPxhxtAqtgUfku5G0D3/OwGVLUbQNK3WPzAIBxAt6wCF3DmG0CtpEF8A9cbQFHFlLRYqxtA0FECYs2BHEBVko3RwkwcQPf9NgkjVhxAtxNEl2HTG0BV0QwJDSccQEB9I5A+oBxA0hrXAlm1G0CYlYNuPLUbQLUscglyeRxA6FgqQr58HEB7Va+gc+UbQFJJ95o/JxxAzJy0omDnG0C6LkYdpjMcQNTYftVPLBxAnwdnGzjJG0Ce5ZeWhjQcQBMShp5WjxtARH7/NpggHEAX6SvoSO4cQPl4zQPV1RtAUnUMkzgeHECnoemngEAcQCnjeRJTxBtAiw47aMcaG0BVkE1uYokcQHuJJzQ6phxAqw1ZBMzdG0CYgqbFtCgcQLKgle9R9BtADlWqh+BOHEALaDBKws4cQN3SKFM0JxxAz+KxtBHfG0COXIc6hyAcQLP+sPUlnBxA8CaX6V/eG0DTDe1BVnEcQEjFp3m75htAvM9roPgNHEDO/YM8G74bQDGlwl5iXBxAx0AdEkGLHEDGFbG0rlscQO4CtQrGbxxADavtqRvmG0Bf5itzAgYcQDjyBlsFSxxANesIkPAPHEA84sA0pWAcQGVO06+VqxtAWzo0qWLiG0Dla7BNnzwcQDtShQCcTBxAK09iaLQaHEAYL7N1byAcQKBRjKEhWBxAtuGEqoSuHEBtwD4AZXkcQEiU706g/RtA",
          "dtype": "f8"
         },
         "xaxis": "x2",
         "y": {
          "bdata": "T5z237ZvI0DcX6PAAOEjQN63vhcyaiNAKMUY5tuGI0C96KuL0z0jQPvpY/NYkiNAQbgQ5E6PI0AHBrIz2tEjQK0sS2QpWyNAKLsX2jeJI0BjluIfGF0jQLkRUcxaeiNAJcBSX1CQI0BacxaBMaIjQBtX9KtLXiNAArVcy4TDI0COj2k113gjQGpnZiWOLyNAfMfuBE9vI0CMO/3EZnIjQPQJyB+jNiNABkaU6IKgI0CvkC0JO1EjQKxt0mNPyiNAAa2zc9sXI0CKhyTvdGQjQBabJ3RzZSNATGa+uAXCI0AwgR7v9kIjQNzV/htQQiNANJzRjcuoI0Awx8AFBdQjQDhDtn5ZaCNAe8FjLTCII0Aa12lPZm4jQKfbNMqvfiNAEOcPw6udI0CV5uLTGZ8jQOXi6GHlgyNABQlGPE+EI0Azm/+PAXEjQHi5L/cTwiNApKw15MguI0C/ykxYVK0jQOLI74UMhyNAZdPJDffZI0AnlloxqqMjQLauLmE4kSNAU0c+062KI0BAzFmAv1wjQHP7U7Y4eSNA6rcp/V1XI0ADhCv7/JYjQAt/U4IlaSNAcBbaeGRLI0Dk9+fwLrwjQA8kSXXQnCNAQ7sFRRjCI0CbWRWul5UjQKGqPnmXlCNA8097FREvI0DQAbLQXoUjQFpbLXiUhiNA2x5YTKTyI0BT5pORfyAjQPrpb4/8SSNAygNpJBNSI0DvfIFoVXAjQEPYEN6wtCNAnb/cN9J7I0Ds/35HFpQjQLeYv8ytXyNAKgi4PdN+I0DF7aiSXM8jQCY21Yp7hiNA",
          "dtype": "f8"
         },
         "yaxis": "y2"
        },
        {
         "marker": {
          "line": {
           "color": "white",
           "width": 1
          },
          "opacity": 0.7,
          "size": 8
         },
         "mode": "markers",
         "name": "Cluster 2",
         "type": "scatter",
         "x": [],
         "xaxis": "x2",
         "y": [],
         "yaxis": "y2"
        },
        {
         "marker": {
          "line": {
           "color": "white",
           "width": 1
          },
          "opacity": 0.7,
          "size": 12
         },
         "mode": "markers",
         "name": "Centers",
         "type": "scatter",
         "x": {
          "bdata": "UIIEa2uAwr/2X06s+RYcQA==",
          "dtype": "f8"
         },
         "xaxis": "x2",
         "y": {
          "bdata": "jGG2SGqhCcBYZB7e1oEjQA==",
          "dtype": "f8"
         },
         "yaxis": "y2"
        },
        {
         "marker": {
          "line": {
           "color": "white",
           "width": 1
          },
          "opacity": 0.7,
          "size": 8
         },
         "mode": "markers",
         "name": "Cluster 0",
         "type": "scatter",
         "x": {
          "bdata": "jcjPkHsd+b/4ElLSN8b5v5Lk5g8mMvm/2XRQsTzT+7/IXmpfvzH5vxUtBZavX/i/BZ0pU7K59r+aPsatmsj4vyoymJstnfq/qHbhfX/I/b8b/2JZWtL4v9Exl520cfm/LQXsKwVt+b+RKHocOHX4v1YpumWrifu/OqAMjPRc+r8ny9I6q4P8v902L2H0lPe/vY5k0irA+b8XNcTgKr76v1mQzGayE/e/uSBlfQ7D9r9A4l0Oufv5vyd8V/mF4fq/4bL/Z9/D+L8iKhRjf+X3v7NUqZO6j/u/lXDC1KWR+b9MHeUC0Qn6v1t7njD5Wva/DO3gTzIZ+78UbrwjHLD5v5i/r7YOdvi/3kUsAtFu978LD+d1FjD8vwukQReo7/u/u5Isozhp+b9kyOm5tl/6vx0Oiuk4cfi/uVOp08qO+r9P02uUbh74vy9NOjT5ufu/r5VEoZs+978ZxhT2sY/5v9daeLAGjvu/q6inwsY0+b88kf+ruXT4v3rn/ve+ffm/tpjhkfJm+L+SeZ6vRvD0v5fxrjgN1ve/DEqRLWFJ+L9rv1rSADT5v4I0lKEabvm/am/sUSnC+r+sJyJWH6b4vxBMSlrGDfq/68UGIuGR978x7OQnAvz3vxEXy0Yf6/a/k18t9Jcs+L9pgyhJSPb3vydPtKM4dfm/q34LmsOm9r/Pf+JR7nz3v+v3EBmZ6ve/840PDN7h9r/IllSS6vn5v9j31Vw0Yfi/zEUTDmc797+MwOBjQSr7v+K77j0PSvq/FME+Y88v+L88ny4/WuP6vwGi/Ge2Gfe/",
          "dtype": "f8"
         },
         "xaxis": "x3",
         "y": {
          "bdata": "bsR2JV/p+j9TPt808+T5P0upJYasRfc/xLJkmps/+T9EpVCl/Lz2Pz1taNkFrfo/jS1F6L7W9z++sjD56wn4P7lddih1Bfg/DaI/a7nQ+D8YVDfbSuj3P69EkBmF8/s/1c2JjMJR9z+oE5JcYrz5P1ZUei94cvU/17bol+5K+j9m5tDC3wr7P5Zh7TwJMPo/YLhUcL1M+D8DQx2fD6P4P2ClS0hYK/o/YQCZhb1i+D+ot11Bsif3Pzk/AHzJgvk/aS0QwZSA+j9sGsg7qsr6P+/tU48JK/k/0YBrAzJh+D/1JaGegTr2P+cm8OpKv/o/QadCWqzK+j+m8wamJzP2PxaZSPUpUPw/58LPcxay9z+dYjxuCvT4P3UBo60Fy/w/3ehWszHt+T96s7PgJan3P819KcPpMvU/mQyv99DB+D8iSOe/+cD3P5z3nBjsJfg/UIwL5hv39j/XYCRPmL/2P472woq/Z/k/J6H9ffx8+j8mQxz5D5T3PxhLQS946fg/FmyhEVyT9z8IPKyLTOP4P1Zr6Z1oK/o/K7mfUAOf+j/IOUNoh+34PzOa3x5Dn/g/qzq7wGJb+D/YgNq0Mmz3P47Pvfr20/c/peLKq/Df+D9BMpm87eD5P0O4LeZRzvk/+IRjxXMm+D9ZEVpMwPX7PyxlIOtNtPg/zNAQXCUD+D8aR5V/prr4Pw9GkQfJ+vo/P4FB5Wx+9j+MdX0tdyT3P3IDHeAl5/k/XNdJvMwf+T8im3CEAe/3PwOaTC1dlPc/xc9J5tRk+j+xwSQ+7xL2PxrbGh6/i/M/",
          "dtype": "f8"
         },
         "yaxis": "y3"
        },
        {
         "marker": {
          "line": {
           "color": "white",
           "width": 1
          },
          "opacity": 0.7,
          "size": 8
         },
         "mode": "markers",
         "name": "Cluster 1",
         "type": "scatter",
         "x": {
          "bdata": "kJywVLOvG0A6EtCE+bEbQG5XRcR8MBtA8rGpIDgLHEDQ3qrdadAbQBQaCK+bpRxA1sS82u/bG0B9rfJ9ge8bQEEznnPxhxtAqtgUfku5G0D3/OwGVLUbQNK3WPzAIBxAt6wCF3DmG0CtpEF8A9cbQFHFlLRYqxtA0FECYs2BHEBVko3RwkwcQPf9NgkjVhxAtxNEl2HTG0BV0QwJDSccQEB9I5A+oBxA0hrXAlm1G0CYlYNuPLUbQLUscglyeRxA6FgqQr58HEB7Va+gc+UbQFJJ95o/JxxAzJy0omDnG0C6LkYdpjMcQNTYftVPLBxAnwdnGzjJG0Ce5ZeWhjQcQBMShp5WjxtARH7/NpggHEAX6SvoSO4cQPl4zQPV1RtAUnUMkzgeHECnoemngEAcQCnjeRJTxBtAiw47aMcaG0BVkE1uYokcQHuJJzQ6phxAqw1ZBMzdG0CYgqbFtCgcQLKgle9R9BtADlWqh+BOHEALaDBKws4cQN3SKFM0JxxAz+KxtBHfG0COXIc6hyAcQLP+sPUlnBxA8CaX6V/eG0DTDe1BVnEcQEjFp3m75htAvM9roPgNHEDO/YM8G74bQDGlwl5iXBxAx0AdEkGLHEDGFbG0rlscQO4CtQrGbxxADavtqRvmG0Bf5itzAgYcQDjyBlsFSxxANesIkPAPHEA84sA0pWAcQGVO06+VqxtAWzo0qWLiG0Dla7BNnzwcQDtShQCcTBxAK09iaLQaHEAYL7N1byAcQKBRjKEhWBxAtuGEqoSuHEBtwD4AZXkcQEiU706g/RtA",
          "dtype": "f8"
         },
         "xaxis": "x3",
         "y": {
          "bdata": "T5z237ZvI0DcX6PAAOEjQN63vhcyaiNAKMUY5tuGI0C96KuL0z0jQPvpY/NYkiNAQbgQ5E6PI0AHBrIz2tEjQK0sS2QpWyNAKLsX2jeJI0BjluIfGF0jQLkRUcxaeiNAJcBSX1CQI0BacxaBMaIjQBtX9KtLXiNAArVcy4TDI0COj2k113gjQGpnZiWOLyNAfMfuBE9vI0CMO/3EZnIjQPQJyB+jNiNABkaU6IKgI0CvkC0JO1EjQKxt0mNPyiNAAa2zc9sXI0CKhyTvdGQjQBabJ3RzZSNATGa+uAXCI0AwgR7v9kIjQNzV/htQQiNANJzRjcuoI0Awx8AFBdQjQDhDtn5ZaCNAe8FjLTCII0Aa12lPZm4jQKfbNMqvfiNAEOcPw6udI0CV5uLTGZ8jQOXi6GHlgyNABQlGPE+EI0Azm/+PAXEjQHi5L/cTwiNApKw15MguI0C/ykxYVK0jQOLI74UMhyNAZdPJDffZI0AnlloxqqMjQLauLmE4kSNAU0c+062KI0BAzFmAv1wjQHP7U7Y4eSNA6rcp/V1XI0ADhCv7/JYjQAt/U4IlaSNAcBbaeGRLI0Dk9+fwLrwjQA8kSXXQnCNAQ7sFRRjCI0CbWRWul5UjQKGqPnmXlCNA8097FREvI0DQAbLQXoUjQFpbLXiUhiNA2x5YTKTyI0BT5pORfyAjQPrpb4/8SSNAygNpJBNSI0DvfIFoVXAjQEPYEN6wtCNAnb/cN9J7I0Ds/35HFpQjQLeYv8ytXyNAKgi4PdN+I0DF7aiSXM8jQCY21Yp7hiNA",
          "dtype": "f8"
         },
         "yaxis": "y3"
        },
        {
         "marker": {
          "line": {
           "color": "white",
           "width": 1
          },
          "opacity": 0.7,
          "size": 8
         },
         "mode": "markers",
         "name": "Cluster 2",
         "type": "scatter",
         "x": {
          "bdata": "Xg1KtpPV978fabMRBEP5v+m6CfV7XPm/jkhdXmXo+L8UWzAvULX1v7ibYZ7VrAVAAiPr/nQLBUD/LCEld9z7v6lP+l1A/fa/Jnt08LjqBUCNncrBOwb5vwd9r6Ivxfa/woZKqiwuBkBDEIC5k9X7v2Siofqz9Pe/k6+z0M5H97+3iDjyxw76v0I+ybQMRfe/dTe173eb+r9Z0bIkG6AGQM93NIerAAVAKDzdcIHmBUAuVA8l2S8GQHymtrK8KgVAe6ezrSI3BkCxTXhXveL3v/DqnP1ICvm/yi2yEdO/97/TuhbLTdL3vx/l+z82xgRAVrRmWZrO+r9bHgKZJkoGQJld1kr+fARA1kBvyKMZBUC4ixGACLH4v2gmRK4jDwRAl2iEjad5BEBQX0L3Myn3v25dcGps9gZA74BcBFufBECiE/eucm4GQPLsZOryhARAYxWBtPnSBEA6BkDrXEv2v2mEbn++OQVAp1UnzsWgBUD2Rxa2RZv3vwBEhPi5BQZAjlo2AFGz+b+AtCu6BvcEQM7ZaBQEk/i/ySESFoaTBEC+RFB87o77vxSvtuqVAPq/eAH1HWwABkA071UiIdsFQK0pgEW1bgVASyxaJD6WBUCNXPK1AMH3v0+ln0ZuX/m/xhYsbTeG+L9iLhg+Ub/4v8dXdCeH/gVAwdkPz7oOBUDdiyWvuQH4v5bFNuic/QNAgvZwGc20BkAOaqDBCNoFQGiWJ6yOqgVATZuhTJ17+b/VsNboqj73vzGIFzR0b/a/MKpmprXw+L+unQMLY5oFQCcWq8gM9fq/Fm+9dvvpA0DEimohgHz3v33AlMRY9fa/MO1ARKV3+b8nm7y+/Kz6vz1tJnKfUgVA2EmvZ3CjBUDixLs2p132v8Rvrbvc0ARAGTavfQxYBUDv5qC2+B4GQDSXsn7pVfi/CgC4p+zCBEDoXKc+uk8GQKD0Yk8qEAdAwmNdNS2K97+CqsoLCW4DQHuE25ZzuwZAus3ZhPV1BUDD1FxJ8qsEQFmO3kXNxfq/sQKuK/wZBUC/W6Sc9Vf5v/M5627Y/AVAIWF9oWxVBUBgP+A3S6AEQGfdoF61Q/i/yTjcq0q1+b829bDMlMr3v67NP2aAu/i/01ZWEmcTBkCy3Zc5Nv0EQLgoexP9f/m/u7/jDaVP+r8+ib2im5H4v0rBI1TPLgVALohZ7llT+b+BxCAKf7kFQClZcb5FtPm/4K5OzNm3+b9k8xrQOSsEQEznjWDnh/6/YJVcEy/S+r9MfiQ+d5YGQK+GIRUnlPm/yeF4O93KBUA9uUhVHxz7v+AuIoRPI/m/tjDZefTZBUAjx9jSuhwGQNu6JG94ZwZAyCC86CDd9r+e11SupzkFQHACLhELXAZAnTbWRGnS9r9R+FbG78cFQHDey3i7nPe/6u3TmuH8+b9iuW9ADusEQCkbjAO6GQZA+GjE5ZtzB0BWzZqiMRT1v46QA33whwVAaBHNwXTB+7+3Ka+qNZj2v7BK0aDte/i/MbEkVv2VBUDI7Ja7kRoFQChOmGOnxwVA+DtVRbT19r8dNStFQWn4v7e7u2QnMfe/XnX8ku3k+L94J/vPxf35v89Y9NnnZARA",
          "dtype": "f8"
         },
         "xaxis": "x3",
         "y": {
          "bdata": "enu6ukWUGsAXNA26F9sZwPzuLT9x2xrAbatkz7RAGsAcaUavZlQawBlCNM3jbxHAodw+kUc0EsBLj2H177YawInYNq/ZehrAxywgSHwFEsBUfHW/3cgawJvsUi95YRrAd8sf0gXuEcAQO9p20Z8awOzO6eGs9RrAk6pOvdcOG8AS3pIVn6sawOZQJXJC4RnA2N5zrHGoGsAm8rekWD0SwNBmerP5YxLAhivghb17EsD0rSxg+k4SwFXgz1CPAxLABRxwCCxzEsAFaaSx1zQawLmdJq2/MxrAZ4qmzEmwGsCr7sHWVugawBAELBVtxRHAvptdm1/NGsADAwTxvAoTwHNkWZkawRHA0ESk3OiFEsAX0eIr7R8awI53IbUJ5BHAOOXkVmUbEsD5TgjSdb0awKlhj91gZRHAxcfKxvktEsBvMYgBQYsRwAg+LalmExLAtbvoyY8SEcBEtuF1v+QZwGXqAYLJpBHA9YFGMsuzEcDCdgqVuJIawDSSg5+gQRLA0wm3+og6G8AExxLwsPoRwIRRaklt+xnAEaL4czYCEsBMfzUwYvMZwIgFng9X/BnAHDo39lxTEcCveERLexUSwNscVJO6GRLADv+Irxc5EsCJaXGik4EbwNMhYzhMkBrAEsr5pAjLGsBvNXUcMykbwJ+s5zOO1xHAQf7B2Z8tEsC294tiIfsawJpvQv18nBHArNyIPu5/EcCF2kGPTm0RwFMUBwy94xLAiD++3SaDGsCgIqGcYwkbwG7EfDA/HhrATGF4n2GPGsCbS4QKu9YRwPXwvujKUBrAprG+qs70EsD8zS8a56MawCm/9CzFkBrAkt8z2WR3GsBAGKaPauMawM+1bMDaMhLAwzJEsyjvEcBYHclU94cawPmLnoBKaBHAsP3NGOvKEsA+nbj7u/QRwLjc6FFv/hrArN356S2rEcC9ATigegcSwFQVlAWuMhLAqPS1Q8PaGsA33wKlxTMRwBLfZwCcyBHA4JKcvDeXEsCgRD+TlY0RwL7sNF21UBvAArdFTA2YEsAdDoLvB8gawATXE5MUtxHAMpvzWy21EcAYWgnUBLMRwAA71Bj3ExvApNZ+JMJZGsBzBSKvyXYawBli94KUfxrAmyjZp1u/EcDf1rJSDZkRwMZTrRBzXBrAhFTLMbOAGsDq2VObSfUawBOEMyLreRHA3fphAy+xGsDXtefe5WsRwK3bcfUS0BrAs/uCwBDYGsBNiyq+4SoSwH5GtIJR3xrAQKChPRv2GsB0kHN3BlkSwEnK+B4ygRrA5JGx9aXtEcCN2bEPnWUawHE7gz3C9RrA416lSwjHEcAgX4Vv0zISwE0hd8qNyhHARPnrOUEIG8BAPAeskKoRwGr604yKnRLAmc0H/JF0GsBx408r404SwEhya18b7RrA+jMudES8GsCO8SMbfb8RwCFZ/y8LmxLAdkqR/e5GEsDGIgnUvZkawKwX0H2RORLAsQiQmypJG8CGSV3VkkAbwBo0NYlRnxrAWxhxLWUsEsAshnP3ZVgRwE/dOZnOOhLApBVeGZTsGsBdbIB4uS8bwAgPuC9U1BrA2uGK1/x7GsDU3BOYLpkawNzYVfYiiRHA",
          "dtype": "f8"
         },
         "yaxis": "y3"
        },
        {
         "marker": {
          "line": {
           "color": "white",
           "width": 1
          },
          "opacity": 0.7,
          "size": 8
         },
         "mode": "markers",
         "name": "Cluster 3",
         "type": "scatter",
         "x": [],
         "xaxis": "x3",
         "y": [],
         "yaxis": "y3"
        },
        {
         "marker": {
          "line": {
           "color": "white",
           "width": 1
          },
          "opacity": 0.7,
          "size": 12
         },
         "mode": "markers",
         "name": "Centers",
         "type": "scatter",
         "x": {
          "bdata": "4TpigCcr+b/2X06s+RYcQPKJQDj/OuI/",
          "dtype": "f8"
         },
         "xaxis": "x3",
         "y": {
          "bdata": "IgGdxpXD+D9YZB7e1oEjQEtpXG+CURbA",
          "dtype": "f8"
         },
         "yaxis": "y3"
        },
        {
         "marker": {
          "line": {
           "color": "white",
           "width": 1
          },
          "opacity": 0.7,
          "size": 8
         },
         "mode": "markers",
         "name": "Cluster 0",
         "type": "scatter",
         "x": {
          "bdata": "jcjPkHsd+b/4ElLSN8b5v5Lk5g8mMvm/2XRQsTzT+7/IXmpfvzH5vxUtBZavX/i/BZ0pU7K59r+aPsatmsj4vyoymJstnfq/qHbhfX/I/b8b/2JZWtL4v9Exl520cfm/LQXsKwVt+b+RKHocOHX4v1YpumWrifu/OqAMjPRc+r8ny9I6q4P8v902L2H0lPe/vY5k0irA+b8XNcTgKr76v1mQzGayE/e/uSBlfQ7D9r9A4l0Oufv5vyd8V/mF4fq/4bL/Z9/D+L8iKhRjf+X3v7NUqZO6j/u/lXDC1KWR+b9MHeUC0Qn6v1t7njD5Wva/DO3gTzIZ+78UbrwjHLD5v5i/r7YOdvi/3kUsAtFu978LD+d1FjD8vwukQReo7/u/u5Isozhp+b9kyOm5tl/6vx0Oiuk4cfi/uVOp08qO+r9P02uUbh74vy9NOjT5ufu/r5VEoZs+978ZxhT2sY/5v9daeLAGjvu/q6inwsY0+b88kf+ruXT4v3rn/ve+ffm/tpjhkfJm+L+SeZ6vRvD0v5fxrjgN1ve/DEqRLWFJ+L9rv1rSADT5v4I0lKEabvm/am/sUSnC+r+sJyJWH6b4vxBMSlrGDfq/68UGIuGR978x7OQnAvz3vxEXy0Yf6/a/k18t9Jcs+L9pgyhJSPb3vydPtKM4dfm/q34LmsOm9r/Pf+JR7nz3v+v3EBmZ6ve/840PDN7h9r/IllSS6vn5v9j31Vw0Yfi/zEUTDmc797+MwOBjQSr7v+K77j0PSvq/FME+Y88v+L88ny4/WuP6vwGi/Ge2Gfe/",
          "dtype": "f8"
         },
         "xaxis": "x4",
         "y": {
          "bdata": "bsR2JV/p+j9TPt808+T5P0upJYasRfc/xLJkmps/+T9EpVCl/Lz2Pz1taNkFrfo/jS1F6L7W9z++sjD56wn4P7lddih1Bfg/DaI/a7nQ+D8YVDfbSuj3P69EkBmF8/s/1c2JjMJR9z+oE5JcYrz5P1ZUei94cvU/17bol+5K+j9m5tDC3wr7P5Zh7TwJMPo/YLhUcL1M+D8DQx2fD6P4P2ClS0hYK/o/YQCZhb1i+D+ot11Bsif3Pzk/AHzJgvk/aS0QwZSA+j9sGsg7qsr6P+/tU48JK/k/0YBrAzJh+D/1JaGegTr2P+cm8OpKv/o/QadCWqzK+j+m8wamJzP2PxaZSPUpUPw/58LPcxay9z+dYjxuCvT4P3UBo60Fy/w/3ehWszHt+T96s7PgJan3P819KcPpMvU/mQyv99DB+D8iSOe/+cD3P5z3nBjsJfg/UIwL5hv39j/XYCRPmL/2P472woq/Z/k/J6H9ffx8+j8mQxz5D5T3PxhLQS946fg/FmyhEVyT9z8IPKyLTOP4P1Zr6Z1oK/o/K7mfUAOf+j/IOUNoh+34PzOa3x5Dn/g/qzq7wGJb+D/YgNq0Mmz3P47Pvfr20/c/peLKq/Df+D9BMpm87eD5P0O4LeZRzvk/+IRjxXMm+D9ZEVpMwPX7PyxlIOtNtPg/zNAQXCUD+D8aR5V/prr4Pw9GkQfJ+vo/P4FB5Wx+9j+MdX0tdyT3P3IDHeAl5/k/XNdJvMwf+T8im3CEAe/3PwOaTC1dlPc/xc9J5tRk+j+xwSQ+7xL2PxrbGh6/i/M/",
          "dtype": "f8"
         },
         "yaxis": "y4"
        },
        {
         "marker": {
          "line": {
           "color": "white",
           "width": 1
          },
          "opacity": 0.7,
          "size": 8
         },
         "mode": "markers",
         "name": "Cluster 1",
         "type": "scatter",
         "x": {
          "bdata": "kJywVLOvG0A6EtCE+bEbQG5XRcR8MBtA8rGpIDgLHEDQ3qrdadAbQBQaCK+bpRxA1sS82u/bG0B9rfJ9ge8bQEEznnPxhxtAqtgUfku5G0D3/OwGVLUbQNK3WPzAIBxAt6wCF3DmG0CtpEF8A9cbQFHFlLRYqxtA0FECYs2BHEBVko3RwkwcQPf9NgkjVhxAtxNEl2HTG0BV0QwJDSccQEB9I5A+oBxA0hrXAlm1G0CYlYNuPLUbQLUscglyeRxA6FgqQr58HEB7Va+gc+UbQFJJ95o/JxxAzJy0omDnG0C6LkYdpjMcQNTYftVPLBxAnwdnGzjJG0Ce5ZeWhjQcQBMShp5WjxtARH7/NpggHEAX6SvoSO4cQPl4zQPV1RtAUnUMkzgeHECnoemngEAcQCnjeRJTxBtAiw47aMcaG0BVkE1uYokcQHuJJzQ6phxAqw1ZBMzdG0CYgqbFtCgcQLKgle9R9BtADlWqh+BOHEALaDBKws4cQN3SKFM0JxxAz+KxtBHfG0COXIc6hyAcQLP+sPUlnBxA8CaX6V/eG0DTDe1BVnEcQEjFp3m75htAvM9roPgNHEDO/YM8G74bQDGlwl5iXBxAx0AdEkGLHEDGFbG0rlscQO4CtQrGbxxADavtqRvmG0Bf5itzAgYcQDjyBlsFSxxANesIkPAPHEA84sA0pWAcQGVO06+VqxtAWzo0qWLiG0Dla7BNnzwcQDtShQCcTBxAK09iaLQaHEAYL7N1byAcQKBRjKEhWBxAtuGEqoSuHEBtwD4AZXkcQEiU706g/RtA",
          "dtype": "f8"
         },
         "xaxis": "x4",
         "y": {
          "bdata": "T5z237ZvI0DcX6PAAOEjQN63vhcyaiNAKMUY5tuGI0C96KuL0z0jQPvpY/NYkiNAQbgQ5E6PI0AHBrIz2tEjQK0sS2QpWyNAKLsX2jeJI0BjluIfGF0jQLkRUcxaeiNAJcBSX1CQI0BacxaBMaIjQBtX9KtLXiNAArVcy4TDI0COj2k113gjQGpnZiWOLyNAfMfuBE9vI0CMO/3EZnIjQPQJyB+jNiNABkaU6IKgI0CvkC0JO1EjQKxt0mNPyiNAAa2zc9sXI0CKhyTvdGQjQBabJ3RzZSNATGa+uAXCI0AwgR7v9kIjQNzV/htQQiNANJzRjcuoI0Awx8AFBdQjQDhDtn5ZaCNAe8FjLTCII0Aa12lPZm4jQKfbNMqvfiNAEOcPw6udI0CV5uLTGZ8jQOXi6GHlgyNABQlGPE+EI0Azm/+PAXEjQHi5L/cTwiNApKw15MguI0C/ykxYVK0jQOLI74UMhyNAZdPJDffZI0AnlloxqqMjQLauLmE4kSNAU0c+062KI0BAzFmAv1wjQHP7U7Y4eSNA6rcp/V1XI0ADhCv7/JYjQAt/U4IlaSNAcBbaeGRLI0Dk9+fwLrwjQA8kSXXQnCNAQ7sFRRjCI0CbWRWul5UjQKGqPnmXlCNA8097FREvI0DQAbLQXoUjQFpbLXiUhiNA2x5YTKTyI0BT5pORfyAjQPrpb4/8SSNAygNpJBNSI0DvfIFoVXAjQEPYEN6wtCNAnb/cN9J7I0Ds/35HFpQjQLeYv8ytXyNAKgi4PdN+I0DF7aiSXM8jQCY21Yp7hiNA",
          "dtype": "f8"
         },
         "yaxis": "y4"
        },
        {
         "marker": {
          "line": {
           "color": "white",
           "width": 1
          },
          "opacity": 0.7,
          "size": 8
         },
         "mode": "markers",
         "name": "Cluster 2",
         "type": "scatter",
         "x": {
          "bdata": "uJthntWsBUACI+v+dAsFQCZ7dPC46gVAwoZKqiwuBkBZ0bIkG6AGQM93NIerAAVAKDzdcIHmBUAuVA8l2S8GQHymtrK8KgVAe6ezrSI3BkAf5fs/NsYEQFseApkmSgZAmV3WSv58BEDWQG/IoxkFQGgmRK4jDwRAl2iEjad5BEBuXXBqbPYGQO+AXARbnwRAohP3rnJuBkDy7GTq8oQEQGMVgbT50gRAaYRuf745BUCnVSfOxaAFQABEhPi5BQZAgLQrugb3BEDJIRIWhpMEQHgB9R1sAAZANO9VIiHbBUCtKYBFtW4FQEssWiQ+lgVAx1d0J4f+BUDB2Q/Pug4FQJbFNuic/QNAgvZwGc20BkAOaqDBCNoFQGiWJ6yOqgVArp0DC2OaBUAWb712++kDQD1tJnKfUgVA2EmvZ3CjBUDEb6273NAEQBk2r30MWAVA7+agtvgeBkAKALin7MIEQOhcpz66TwZAoPRiTyoQB0CCqsoLCW4DQHuE25ZzuwZAus3ZhPV1BUDD1FxJ8qsEQLECriv8GQVA8znrbtj8BUAhYX2hbFUFQGA/4DdLoARA01ZWEmcTBkCy3Zc5Nv0EQErBI1TPLgVAgcQgCn+5BUBk8xrQOSsEQEx+JD53lgZAyeF4O93KBUC2MNl59NkFQCPH2NK6HAZA27okb3hnBkCe11SupzkFQHACLhELXAZAUfhWxu/HBUBiuW9ADusEQCkbjAO6GQZA+GjE5ZtzB0COkAN98IcFQDGxJFb9lQVAyOyWu5EaBUAoTphjp8cFQM9Y9NnnZARA",
          "dtype": "f8"
         },
         "xaxis": "x4",
         "y": {
          "bdata": "GUI0zeNvEcCh3D6RRzQSwMcsIEh8BRLAd8sf0gXuEcAm8rekWD0SwNBmerP5YxLAhivghb17EsD0rSxg+k4SwFXgz1CPAxLABRxwCCxzEsAQBCwVbcURwAMDBPG8ChPAc2RZmRrBEcDQRKTc6IUSwI53IbUJ5BHAOOXkVmUbEsCpYY/dYGURwMXHysb5LRLAbzGIAUGLEcAIPi2pZhMSwLW76MmPEhHAZeoBgsmkEcD1gUYyy7MRwDSSg5+gQRLABMcS8LD6EcARovhzNgISwBw6N/ZcUxHAr3hES3sVEsDbHFSTuhkSwA7/iK8XORLAn6znM47XEcBB/sHZny0SwJpvQv18nBHArNyIPu5/EcCF2kGPTm0RwFMUBwy94xLAm0uECrvWEcCmsb6qzvQSwM+1bMDaMhLAwzJEsyjvEcD5i56ASmgRwLD9zRjryhLAPp24+7v0EcCs3fnpLasRwL0BOKB6BxLAVBWUBa4yEsA33wKlxTMRwBLfZwCcyBHA4JKcvDeXEsCgRD+TlY0RwAK3RUwNmBLABNcTkxS3EcAym/NbLbURwBhaCdQEsxHAmyjZp1u/EcDf1rJSDZkRwBOEMyLreRHA17Xn3uVrEcBNiyq+4SoSwHSQc3cGWRLA5JGx9aXtEcDjXqVLCMcRwCBfhW/TMhLATSF3yo3KEcBAPAeskKoRwGr604yKnRLAceNPK+NOEsCO8SMbfb8RwCFZ/y8LmxLAdkqR/e5GEsCsF9B9kTkSwFsYcS1lLBLALIZz92VYEcBP3TmZzjoSwNzYVfYiiRHA",
          "dtype": "f8"
         },
         "yaxis": "y4"
        },
        {
         "marker": {
          "line": {
           "color": "white",
           "width": 1
          },
          "opacity": 0.7,
          "size": 8
         },
         "mode": "markers",
         "name": "Cluster 3",
         "type": "scatter",
         "x": {
          "bdata": "Xg1KtpPV978fabMRBEP5v+m6CfV7XPm/jkhdXmXo+L8UWzAvULX1v/8sISV33Pu/qU/6XUD99r+NncrBOwb5vwd9r6Ivxfa/QxCAuZPV+79koqH6s/T3v5Ovs9DOR/e/t4g48scO+r9CPsm0DEX3v3U3te93m/q/sU14V73i97/w6pz9SAr5v8otshHTv/e/07oWy03S979WtGZZms76v7iLEYAIsfi/UF9C9zMp9786BkDrXEv2v/ZHFrZFm/e/jlo2AFGz+b/O2WgUBJP4v75EUHzujvu/FK+26pUA+r+NXPK1AMH3v0+ln0ZuX/m/xhYsbTeG+L9iLhg+Ub/4v92LJa+5Afi/TZuhTJ17+b/VsNboqj73vzGIFzR0b/a/MKpmprXw+L8nFqvIDPX6v8SKaiGAfPe/fcCUxFj19r8w7UBEpXf5vyebvL78rPq/4sS7Nqdd9r80l7J+6VX4v8JjXTUtive/WY7eRc3F+r+/W6Sc9Vf5v2fdoF61Q/i/yTjcq0q1+b829bDMlMr3v67NP2aAu/i/uCh7E/1/+b+7v+MNpU/6vz6JvaKbkfi/LohZ7llT+b8pWXG+RbT5v+CuTszZt/m/TOeNYOeH/r9glVwTL9L6v6+GIRUnlPm/PblIVR8c+7/gLiKETyP5v8ggvOgg3fa/nTbWRGnS9r9w3st4u5z3v+rt05rh/Pm/Vs2aojEU9b9oEc3BdMH7v7cpr6o1mPa/sErRoO17+L/4O1VFtPX2vx01K0VBafi/t7u7ZCcx979edfyS7eT4v3gn+8/F/fm/",
          "dtype": "f8"
         },
         "xaxis": "x4",
         "y": {
          "bdata": "enu6ukWUGsAXNA26F9sZwPzuLT9x2xrAbatkz7RAGsAcaUavZlQawEuPYfXvthrAidg2r9l6GsBUfHW/3cgawJvsUi95YRrAEDvadtGfGsDszunhrPUawJOqTr3XDhvAEt6SFZ+rGsDmUCVyQuEZwNjec6xxqBrABWmksdc0GsC5nSatvzMawGeKpsxJsBrAq+7B1lboGsC+m12bX80awBfR4ivtHxrA+U4I0nW9GsBEtuF1v+QZwMJ2CpW4khrA0wm3+og6G8CEUWpJbfsZwEx/NTBi8xnAiAWeD1f8GcCJaXGik4EbwNMhYzhMkBrAEsr5pAjLGsBvNXUcMykbwLb3i2Ih+xrAiD++3SaDGsCgIqGcYwkbwG7EfDA/HhrATGF4n2GPGsD18L7oylAawPzNLxrnoxrAKb/0LMWQGsCS3zPZZHcawEAYpo9q4xrAWB3JVPeHGsC43OhRb/4awKj0tUPD2hrAvuw0XbVQG8AdDoLvB8gawAA71Bj3ExvApNZ+JMJZGsBzBSKvyXYawBli94KUfxrAxlOtEHNcGsCEVMsxs4AawOrZU5tJ9RrA3fphAy+xGsCt23H1EtAawLP7gsAQ2BrAfka0glHfGsBAoKE9G/YawEnK+B4ygRrAjdmxD51lGsBxO4M9wvUawET56zlBCBvAmc0H/JF0GsBIcmtfG+0awPozLnREvBrAxiIJ1L2ZGsCxCJCbKkkbwIZJXdWSQBvAGjQ1iVGfGsCkFV4ZlOwawF1sgHi5LxvACA+4L1TUGsDa4YrX/HsawNTcE5gumRrA",
          "dtype": "f8"
         },
         "yaxis": "y4"
        },
        {
         "marker": {
          "line": {
           "color": "white",
           "width": 1
          },
          "opacity": 0.7,
          "size": 8
         },
         "mode": "markers",
         "name": "Cluster 4",
         "type": "scatter",
         "x": [],
         "xaxis": "x4",
         "y": [],
         "yaxis": "y4"
        },
        {
         "marker": {
          "line": {
           "color": "white",
           "width": 1
          },
          "opacity": 0.7,
          "size": 12
         },
         "mode": "markers",
         "name": "Centers",
         "type": "scatter",
         "x": {
          "bdata": "4TpigCcr+b/2X06s+RYcQBiyzdGXfwVAPdpaazDE+L8=",
          "dtype": "f8"
         },
         "xaxis": "x4",
         "y": {
          "bdata": "IgGdxpXD+D9YZB7e1oEjQF/PO31F+xHAOgN9Yb+nGsA=",
          "dtype": "f8"
         },
         "yaxis": "y4"
        },
        {
         "marker": {
          "line": {
           "color": "white",
           "width": 1
          },
          "opacity": 0.7,
          "size": 8
         },
         "mode": "markers",
         "name": "Cluster 0",
         "type": "scatter",
         "x": {
          "bdata": "jcjPkHsd+b/4ElLSN8b5v5Lk5g8mMvm/2XRQsTzT+7/IXmpfvzH5vxUtBZavX/i/BZ0pU7K59r+aPsatmsj4vyoymJstnfq/qHbhfX/I/b8b/2JZWtL4v9Exl520cfm/LQXsKwVt+b+RKHocOHX4v1YpumWrifu/OqAMjPRc+r8ny9I6q4P8v902L2H0lPe/vY5k0irA+b8XNcTgKr76v1mQzGayE/e/uSBlfQ7D9r9A4l0Oufv5vyd8V/mF4fq/4bL/Z9/D+L8iKhRjf+X3v7NUqZO6j/u/lXDC1KWR+b9MHeUC0Qn6v1t7njD5Wva/DO3gTzIZ+78UbrwjHLD5v5i/r7YOdvi/3kUsAtFu978LD+d1FjD8vwukQReo7/u/u5Isozhp+b9kyOm5tl/6vx0Oiuk4cfi/uVOp08qO+r9P02uUbh74vy9NOjT5ufu/r5VEoZs+978ZxhT2sY/5v9daeLAGjvu/q6inwsY0+b88kf+ruXT4v3rn/ve+ffm/tpjhkfJm+L+SeZ6vRvD0v5fxrjgN1ve/DEqRLWFJ+L9rv1rSADT5v4I0lKEabvm/am/sUSnC+r+sJyJWH6b4vxBMSlrGDfq/68UGIuGR978x7OQnAvz3vxEXy0Yf6/a/k18t9Jcs+L9pgyhJSPb3vydPtKM4dfm/q34LmsOm9r/Pf+JR7nz3v+v3EBmZ6ve/840PDN7h9r/IllSS6vn5v9j31Vw0Yfi/zEUTDmc797+MwOBjQSr7v+K77j0PSvq/FME+Y88v+L88ny4/WuP6vwGi/Ge2Gfe/",
          "dtype": "f8"
         },
         "xaxis": "x5",
         "y": {
          "bdata": "bsR2JV/p+j9TPt808+T5P0upJYasRfc/xLJkmps/+T9EpVCl/Lz2Pz1taNkFrfo/jS1F6L7W9z++sjD56wn4P7lddih1Bfg/DaI/a7nQ+D8YVDfbSuj3P69EkBmF8/s/1c2JjMJR9z+oE5JcYrz5P1ZUei94cvU/17bol+5K+j9m5tDC3wr7P5Zh7TwJMPo/YLhUcL1M+D8DQx2fD6P4P2ClS0hYK/o/YQCZhb1i+D+ot11Bsif3Pzk/AHzJgvk/aS0QwZSA+j9sGsg7qsr6P+/tU48JK/k/0YBrAzJh+D/1JaGegTr2P+cm8OpKv/o/QadCWqzK+j+m8wamJzP2PxaZSPUpUPw/58LPcxay9z+dYjxuCvT4P3UBo60Fy/w/3ehWszHt+T96s7PgJan3P819KcPpMvU/mQyv99DB+D8iSOe/+cD3P5z3nBjsJfg/UIwL5hv39j/XYCRPmL/2P472woq/Z/k/J6H9ffx8+j8mQxz5D5T3PxhLQS946fg/FmyhEVyT9z8IPKyLTOP4P1Zr6Z1oK/o/K7mfUAOf+j/IOUNoh+34PzOa3x5Dn/g/qzq7wGJb+D/YgNq0Mmz3P47Pvfr20/c/peLKq/Df+D9BMpm87eD5P0O4LeZRzvk/+IRjxXMm+D9ZEVpMwPX7PyxlIOtNtPg/zNAQXCUD+D8aR5V/prr4Pw9GkQfJ+vo/P4FB5Wx+9j+MdX0tdyT3P3IDHeAl5/k/XNdJvMwf+T8im3CEAe/3PwOaTC1dlPc/xc9J5tRk+j+xwSQ+7xL2PxrbGh6/i/M/",
          "dtype": "f8"
         },
         "yaxis": "y5"
        },
        {
         "marker": {
          "line": {
           "color": "white",
           "width": 1
          },
          "opacity": 0.7,
          "size": 8
         },
         "mode": "markers",
         "name": "Cluster 1",
         "type": "scatter",
         "x": {
          "bdata": "kJywVLOvG0BuV0XEfDAbQNDeqt1p0BtAQTOec/GHG0D3/OwGVLUbQFHFlLRYqxtA9/02CSNWHEC3E0SXYdMbQEB9I5A+oBxAmJWDbjy1G0DoWCpCvnwcQHtVr6Bz5RtAUkn3mj8nHEC6LkYdpjMcQNTYftVPLBxAExKGnlaPG0D5eM0D1dUbQIsOO2jHGhtAqw1ZBMzdG0COXIc6hyAcQPAml+lf3htASMWnebvmG0C8z2ug+A0cQA2r7akb5htAPOLANKVgHEBlTtOvlasbQFs6NKli4htAoFGMoSFYHEA=",
          "dtype": "f8"
         },
         "xaxis": "x5",
         "y": {
          "bdata": "T5z237ZvI0Det74XMmojQL3oq4vTPSNArSxLZClbI0BjluIfGF0jQBtX9KtLXiNAamdmJY4vI0B8x+4ET28jQPQJyB+jNiNAr5AtCTtRI0ABrbNz2xcjQIqHJO90ZCNAFpsndHNlI0AwgR7v9kIjQNzV/htQQiNAOEO2flloI0Cn2zTKr34jQAUJRjxPhCNApKw15MguI0BAzFmAv1wjQOq3Kf1dVyNAC39TgiVpI0BwFtp4ZEsjQPNPexURLyNAU+aTkX8gI0D66W+P/EkjQMoDaSQTUiNAt5i/zK1fI0A=",
          "dtype": "f8"
         },
         "yaxis": "y5"
        },
        {
         "marker": {
          "line": {
           "color": "white",
           "width": 1
          },
          "opacity": 0.7,
          "size": 8
         },
         "mode": "markers",
         "name": "Cluster 2",
         "type": "scatter",
         "x": {
          "bdata": "uJthntWsBUACI+v+dAsFQCZ7dPC46gVAwoZKqiwuBkBZ0bIkG6AGQM93NIerAAVAKDzdcIHmBUAuVA8l2S8GQHymtrK8KgVAe6ezrSI3BkAf5fs/NsYEQFseApkmSgZAmV3WSv58BEDWQG/IoxkFQGgmRK4jDwRAl2iEjad5BEBuXXBqbPYGQO+AXARbnwRAohP3rnJuBkDy7GTq8oQEQGMVgbT50gRAaYRuf745BUCnVSfOxaAFQABEhPi5BQZAgLQrugb3BEDJIRIWhpMEQHgB9R1sAAZANO9VIiHbBUCtKYBFtW4FQEssWiQ+lgVAx1d0J4f+BUDB2Q/Pug4FQJbFNuic/QNAgvZwGc20BkAOaqDBCNoFQGiWJ6yOqgVArp0DC2OaBUAWb712++kDQD1tJnKfUgVA2EmvZ3CjBUDEb6273NAEQBk2r30MWAVA7+agtvgeBkAKALin7MIEQOhcpz66TwZAoPRiTyoQB0CCqsoLCW4DQHuE25ZzuwZAus3ZhPV1BUDD1FxJ8qsEQLECriv8GQVA8znrbtj8BUAhYX2hbFUFQGA/4DdLoARA01ZWEmcTBkCy3Zc5Nv0EQErBI1TPLgVAgcQgCn+5BUBk8xrQOSsEQEx+JD53lgZAyeF4O93KBUC2MNl59NkFQCPH2NK6HAZA27okb3hnBkCe11SupzkFQHACLhELXAZAUfhWxu/HBUBiuW9ADusEQCkbjAO6GQZA+GjE5ZtzB0COkAN98IcFQDGxJFb9lQVAyOyWu5EaBUAoTphjp8cFQM9Y9NnnZARA",
          "dtype": "f8"
         },
         "xaxis": "x5",
         "y": {
          "bdata": "GUI0zeNvEcCh3D6RRzQSwMcsIEh8BRLAd8sf0gXuEcAm8rekWD0SwNBmerP5YxLAhivghb17EsD0rSxg+k4SwFXgz1CPAxLABRxwCCxzEsAQBCwVbcURwAMDBPG8ChPAc2RZmRrBEcDQRKTc6IUSwI53IbUJ5BHAOOXkVmUbEsCpYY/dYGURwMXHysb5LRLAbzGIAUGLEcAIPi2pZhMSwLW76MmPEhHAZeoBgsmkEcD1gUYyy7MRwDSSg5+gQRLABMcS8LD6EcARovhzNgISwBw6N/ZcUxHAr3hES3sVEsDbHFSTuhkSwA7/iK8XORLAn6znM47XEcBB/sHZny0SwJpvQv18nBHArNyIPu5/EcCF2kGPTm0RwFMUBwy94xLAm0uECrvWEcCmsb6qzvQSwM+1bMDaMhLAwzJEsyjvEcD5i56ASmgRwLD9zRjryhLAPp24+7v0EcCs3fnpLasRwL0BOKB6BxLAVBWUBa4yEsA33wKlxTMRwBLfZwCcyBHA4JKcvDeXEsCgRD+TlY0RwAK3RUwNmBLABNcTkxS3EcAym/NbLbURwBhaCdQEsxHAmyjZp1u/EcDf1rJSDZkRwBOEMyLreRHA17Xn3uVrEcBNiyq+4SoSwHSQc3cGWRLA5JGx9aXtEcDjXqVLCMcRwCBfhW/TMhLATSF3yo3KEcBAPAeskKoRwGr604yKnRLAceNPK+NOEsCO8SMbfb8RwCFZ/y8LmxLAdkqR/e5GEsCsF9B9kTkSwFsYcS1lLBLALIZz92VYEcBP3TmZzjoSwNzYVfYiiRHA",
          "dtype": "f8"
         },
         "yaxis": "y5"
        },
        {
         "marker": {
          "line": {
           "color": "white",
           "width": 1
          },
          "opacity": 0.7,
          "size": 8
         },
         "mode": "markers",
         "name": "Cluster 3",
         "type": "scatter",
         "x": {
          "bdata": "Xg1KtpPV978fabMRBEP5v+m6CfV7XPm/jkhdXmXo+L8UWzAvULX1v/8sISV33Pu/qU/6XUD99r+NncrBOwb5vwd9r6Ivxfa/QxCAuZPV+79koqH6s/T3v5Ovs9DOR/e/t4g48scO+r9CPsm0DEX3v3U3te93m/q/sU14V73i97/w6pz9SAr5v8otshHTv/e/07oWy03S979WtGZZms76v7iLEYAIsfi/UF9C9zMp9786BkDrXEv2v/ZHFrZFm/e/jlo2AFGz+b/O2WgUBJP4v75EUHzujvu/FK+26pUA+r+NXPK1AMH3v0+ln0ZuX/m/xhYsbTeG+L9iLhg+Ub/4v92LJa+5Afi/TZuhTJ17+b/VsNboqj73vzGIFzR0b/a/MKpmprXw+L8nFqvIDPX6v8SKaiGAfPe/fcCUxFj19r8w7UBEpXf5vyebvL78rPq/4sS7Nqdd9r80l7J+6VX4v8JjXTUtive/WY7eRc3F+r+/W6Sc9Vf5v2fdoF61Q/i/yTjcq0q1+b829bDMlMr3v67NP2aAu/i/uCh7E/1/+b+7v+MNpU/6vz6JvaKbkfi/LohZ7llT+b8pWXG+RbT5v+CuTszZt/m/TOeNYOeH/r9glVwTL9L6v6+GIRUnlPm/PblIVR8c+7/gLiKETyP5v8ggvOgg3fa/nTbWRGnS9r9w3st4u5z3v+rt05rh/Pm/Vs2aojEU9b9oEc3BdMH7v7cpr6o1mPa/sErRoO17+L/4O1VFtPX2vx01K0VBafi/t7u7ZCcx979edfyS7eT4v3gn+8/F/fm/",
          "dtype": "f8"
         },
         "xaxis": "x5",
         "y": {
          "bdata": "enu6ukWUGsAXNA26F9sZwPzuLT9x2xrAbatkz7RAGsAcaUavZlQawEuPYfXvthrAidg2r9l6GsBUfHW/3cgawJvsUi95YRrAEDvadtGfGsDszunhrPUawJOqTr3XDhvAEt6SFZ+rGsDmUCVyQuEZwNjec6xxqBrABWmksdc0GsC5nSatvzMawGeKpsxJsBrAq+7B1lboGsC+m12bX80awBfR4ivtHxrA+U4I0nW9GsBEtuF1v+QZwMJ2CpW4khrA0wm3+og6G8CEUWpJbfsZwEx/NTBi8xnAiAWeD1f8GcCJaXGik4EbwNMhYzhMkBrAEsr5pAjLGsBvNXUcMykbwLb3i2Ih+xrAiD++3SaDGsCgIqGcYwkbwG7EfDA/HhrATGF4n2GPGsD18L7oylAawPzNLxrnoxrAKb/0LMWQGsCS3zPZZHcawEAYpo9q4xrAWB3JVPeHGsC43OhRb/4awKj0tUPD2hrAvuw0XbVQG8AdDoLvB8gawAA71Bj3ExvApNZ+JMJZGsBzBSKvyXYawBli94KUfxrAxlOtEHNcGsCEVMsxs4AawOrZU5tJ9RrA3fphAy+xGsCt23H1EtAawLP7gsAQ2BrAfka0glHfGsBAoKE9G/YawEnK+B4ygRrAjdmxD51lGsBxO4M9wvUawET56zlBCBvAmc0H/JF0GsBIcmtfG+0awPozLnREvBrAxiIJ1L2ZGsCxCJCbKkkbwIZJXdWSQBvAGjQ1iVGfGsCkFV4ZlOwawF1sgHi5LxvACA+4L1TUGsDa4YrX/HsawNTcE5gumRrA",
          "dtype": "f8"
         },
         "yaxis": "y5"
        },
        {
         "marker": {
          "line": {
           "color": "white",
           "width": 1
          },
          "opacity": 0.7,
          "size": 8
         },
         "mode": "markers",
         "name": "Cluster 4",
         "type": "scatter",
         "x": {
          "bdata": "OhLQhPmxG0DysakgOAscQBQaCK+bpRxA1sS82u/bG0B9rfJ9ge8bQKrYFH5LuRtA0rdY/MAgHEC3rAIXcOYbQK2kQXwD1xtA0FECYs2BHEBVko3RwkwcQFXRDAkNJxxA0hrXAlm1G0C1LHIJcnkcQMyctKJg5xtAnwdnGzjJG0Ce5ZeWhjQcQER+/zaYIBxAF+kr6EjuHEBSdQyTOB4cQKeh6aeAQBxAKeN5ElPEG0BVkE1uYokcQHuJJzQ6phxAmIKmxbQoHECyoJXvUfQbQA5VqofgThxAC2gwSsLOHEDd0ihTNCccQM/isbQR3xtAs/6w9SWcHEDTDe1BVnEcQM79gzwbvhtAMaXCXmJcHEDHQB0SQYscQMYVsbSuWxxA7gK1CsZvHEBf5itzAgYcQDjyBlsFSxxANesIkPAPHEDla7BNnzwcQDtShQCcTBxAK09iaLQaHEAYL7N1byAcQLbhhKqErhxAbcA+AGV5HEBIlO9OoP0bQA==",
          "dtype": "f8"
         },
         "xaxis": "x5",
         "y": {
          "bdata": "3F+jwADhI0AoxRjm24YjQPvpY/NYkiNAQbgQ5E6PI0AHBrIz2tEjQCi7F9o3iSNAuRFRzFp6I0AlwFJfUJAjQFpzFoExoiNAArVcy4TDI0COj2k113gjQIw7/cRmciNABkaU6IKgI0CsbdJjT8ojQExmvrgFwiNANJzRjcuoI0Awx8AFBdQjQHvBYy0wiCNAGtdpT2ZuI0AQ5w/Dq50jQJXm4tMZnyNA5eLoYeWDI0Azm/+PAXEjQHi5L/cTwiNAv8pMWFStI0DiyO+FDIcjQGXTyQ332SNAJ5ZaMaqjI0C2ri5hOJEjQFNHPtOtiiNAc/tTtjh5I0ADhCv7/JYjQOT35/AuvCNADyRJddCcI0BDuwVFGMIjQJtZFa6XlSNAoao+eZeUI0DQAbLQXoUjQFpbLXiUhiNA2x5YTKTyI0DvfIFoVXAjQEPYEN6wtCNAnb/cN9J7I0Ds/35HFpQjQCoIuD3TfiNAxe2oklzPI0AmNtWKe4YjQA==",
          "dtype": "f8"
         },
         "yaxis": "y5"
        },
        {
         "marker": {
          "line": {
           "color": "white",
           "width": 1
          },
          "opacity": 0.7,
          "size": 8
         },
         "mode": "markers",
         "name": "Cluster 5",
         "type": "scatter",
         "x": [],
         "xaxis": "x5",
         "y": [],
         "yaxis": "y5"
        },
        {
         "marker": {
          "line": {
           "color": "white",
           "width": 1
          },
          "opacity": 0.7,
          "size": 12
         },
         "mode": "markers",
         "name": "Centers",
         "type": "scatter",
         "x": {
          "bdata": "4TpigCcr+b94QK/r0PEbQBiyzdGXfwVAPdpaazDE+L9ir4hBsSocQA==",
          "dtype": "f8"
         },
         "xaxis": "x5",
         "y": {
          "bdata": "IgGdxpXD+D82FLNhC08jQF/PO31F+xHAOgN9Yb+nGsAdwzKtypwjQA==",
          "dtype": "f8"
         },
         "yaxis": "y5"
        },
        {
         "marker": {
          "line": {
           "color": "white",
           "width": 1
          },
          "opacity": 0.7,
          "size": 8
         },
         "mode": "markers",
         "name": "Cluster 0",
         "type": "scatter",
         "x": {
          "bdata": "jcjPkHsd+b/4ElLSN8b5v5Lk5g8mMvm/2XRQsTzT+7/IXmpfvzH5vxUtBZavX/i/BZ0pU7K59r+aPsatmsj4vyoymJstnfq/qHbhfX/I/b8b/2JZWtL4v9Exl520cfm/LQXsKwVt+b+RKHocOHX4v1YpumWrifu/OqAMjPRc+r8ny9I6q4P8v902L2H0lPe/vY5k0irA+b8XNcTgKr76v1mQzGayE/e/uSBlfQ7D9r9A4l0Oufv5vyd8V/mF4fq/4bL/Z9/D+L8iKhRjf+X3v7NUqZO6j/u/lXDC1KWR+b9MHeUC0Qn6v1t7njD5Wva/DO3gTzIZ+78UbrwjHLD5v5i/r7YOdvi/3kUsAtFu978LD+d1FjD8vwukQReo7/u/u5Isozhp+b9kyOm5tl/6vx0Oiuk4cfi/uVOp08qO+r9P02uUbh74vy9NOjT5ufu/r5VEoZs+978ZxhT2sY/5v9daeLAGjvu/q6inwsY0+b88kf+ruXT4v3rn/ve+ffm/tpjhkfJm+L+SeZ6vRvD0v5fxrjgN1ve/DEqRLWFJ+L9rv1rSADT5v4I0lKEabvm/am/sUSnC+r+sJyJWH6b4vxBMSlrGDfq/68UGIuGR978x7OQnAvz3vxEXy0Yf6/a/k18t9Jcs+L9pgyhJSPb3vydPtKM4dfm/q34LmsOm9r/Pf+JR7nz3v+v3EBmZ6ve/840PDN7h9r/IllSS6vn5v9j31Vw0Yfi/zEUTDmc797+MwOBjQSr7v+K77j0PSvq/FME+Y88v+L88ny4/WuP6vwGi/Ge2Gfe/",
          "dtype": "f8"
         },
         "xaxis": "x6",
         "y": {
          "bdata": "bsR2JV/p+j9TPt808+T5P0upJYasRfc/xLJkmps/+T9EpVCl/Lz2Pz1taNkFrfo/jS1F6L7W9z++sjD56wn4P7lddih1Bfg/DaI/a7nQ+D8YVDfbSuj3P69EkBmF8/s/1c2JjMJR9z+oE5JcYrz5P1ZUei94cvU/17bol+5K+j9m5tDC3wr7P5Zh7TwJMPo/YLhUcL1M+D8DQx2fD6P4P2ClS0hYK/o/YQCZhb1i+D+ot11Bsif3Pzk/AHzJgvk/aS0QwZSA+j9sGsg7qsr6P+/tU48JK/k/0YBrAzJh+D/1JaGegTr2P+cm8OpKv/o/QadCWqzK+j+m8wamJzP2PxaZSPUpUPw/58LPcxay9z+dYjxuCvT4P3UBo60Fy/w/3ehWszHt+T96s7PgJan3P819KcPpMvU/mQyv99DB+D8iSOe/+cD3P5z3nBjsJfg/UIwL5hv39j/XYCRPmL/2P472woq/Z/k/J6H9ffx8+j8mQxz5D5T3PxhLQS946fg/FmyhEVyT9z8IPKyLTOP4P1Zr6Z1oK/o/K7mfUAOf+j/IOUNoh+34PzOa3x5Dn/g/qzq7wGJb+D/YgNq0Mmz3P47Pvfr20/c/peLKq/Df+D9BMpm87eD5P0O4LeZRzvk/+IRjxXMm+D9ZEVpMwPX7PyxlIOtNtPg/zNAQXCUD+D8aR5V/prr4Pw9GkQfJ+vo/P4FB5Wx+9j+MdX0tdyT3P3IDHeAl5/k/XNdJvMwf+T8im3CEAe/3PwOaTC1dlPc/xc9J5tRk+j+xwSQ+7xL2PxrbGh6/i/M/",
          "dtype": "f8"
         },
         "yaxis": "y6"
        },
        {
         "marker": {
          "line": {
           "color": "white",
           "width": 1
          },
          "opacity": 0.7,
          "size": 8
         },
         "mode": "markers",
         "name": "Cluster 1",
         "type": "scatter",
         "x": {
          "bdata": "kJywVLOvG0BuV0XEfDAbQNDeqt1p0BtAQTOec/GHG0D3/OwGVLUbQFHFlLRYqxtA9/02CSNWHEC3E0SXYdMbQEB9I5A+oBxAmJWDbjy1G0DoWCpCvnwcQHtVr6Bz5RtAUkn3mj8nHEC6LkYdpjMcQNTYftVPLBxAExKGnlaPG0D5eM0D1dUbQIsOO2jHGhtAqw1ZBMzdG0COXIc6hyAcQPAml+lf3htASMWnebvmG0C8z2ug+A0cQA2r7akb5htAPOLANKVgHEBlTtOvlasbQFs6NKli4htAoFGMoSFYHEA=",
          "dtype": "f8"
         },
         "xaxis": "x6",
         "y": {
          "bdata": "T5z237ZvI0Det74XMmojQL3oq4vTPSNArSxLZClbI0BjluIfGF0jQBtX9KtLXiNAamdmJY4vI0B8x+4ET28jQPQJyB+jNiNAr5AtCTtRI0ABrbNz2xcjQIqHJO90ZCNAFpsndHNlI0AwgR7v9kIjQNzV/htQQiNAOEO2flloI0Cn2zTKr34jQAUJRjxPhCNApKw15MguI0BAzFmAv1wjQOq3Kf1dVyNAC39TgiVpI0BwFtp4ZEsjQPNPexURLyNAU+aTkX8gI0D66W+P/EkjQMoDaSQTUiNAt5i/zK1fI0A=",
          "dtype": "f8"
         },
         "yaxis": "y6"
        },
        {
         "marker": {
          "line": {
           "color": "white",
           "width": 1
          },
          "opacity": 0.7,
          "size": 8
         },
         "mode": "markers",
         "name": "Cluster 2",
         "type": "scatter",
         "x": {
          "bdata": "uJthntWsBUACI+v+dAsFQCZ7dPC46gVAwoZKqiwuBkBZ0bIkG6AGQM93NIerAAVAKDzdcIHmBUAuVA8l2S8GQHymtrK8KgVAe6ezrSI3BkAf5fs/NsYEQFseApkmSgZAmV3WSv58BEDWQG/IoxkFQGgmRK4jDwRAl2iEjad5BEBuXXBqbPYGQO+AXARbnwRAohP3rnJuBkDy7GTq8oQEQGMVgbT50gRAaYRuf745BUCnVSfOxaAFQABEhPi5BQZAgLQrugb3BEDJIRIWhpMEQHgB9R1sAAZANO9VIiHbBUCtKYBFtW4FQEssWiQ+lgVAx1d0J4f+BUDB2Q/Pug4FQJbFNuic/QNAgvZwGc20BkAOaqDBCNoFQGiWJ6yOqgVArp0DC2OaBUAWb712++kDQD1tJnKfUgVA2EmvZ3CjBUDEb6273NAEQBk2r30MWAVA7+agtvgeBkAKALin7MIEQOhcpz66TwZAoPRiTyoQB0CCqsoLCW4DQHuE25ZzuwZAus3ZhPV1BUDD1FxJ8qsEQLECriv8GQVA8znrbtj8BUAhYX2hbFUFQGA/4DdLoARA01ZWEmcTBkCy3Zc5Nv0EQErBI1TPLgVAgcQgCn+5BUBk8xrQOSsEQEx+JD53lgZAyeF4O93KBUC2MNl59NkFQCPH2NK6HAZA27okb3hnBkCe11SupzkFQHACLhELXAZAUfhWxu/HBUBiuW9ADusEQCkbjAO6GQZA+GjE5ZtzB0COkAN98IcFQDGxJFb9lQVAyOyWu5EaBUAoTphjp8cFQM9Y9NnnZARA",
          "dtype": "f8"
         },
         "xaxis": "x6",
         "y": {
          "bdata": "GUI0zeNvEcCh3D6RRzQSwMcsIEh8BRLAd8sf0gXuEcAm8rekWD0SwNBmerP5YxLAhivghb17EsD0rSxg+k4SwFXgz1CPAxLABRxwCCxzEsAQBCwVbcURwAMDBPG8ChPAc2RZmRrBEcDQRKTc6IUSwI53IbUJ5BHAOOXkVmUbEsCpYY/dYGURwMXHysb5LRLAbzGIAUGLEcAIPi2pZhMSwLW76MmPEhHAZeoBgsmkEcD1gUYyy7MRwDSSg5+gQRLABMcS8LD6EcARovhzNgISwBw6N/ZcUxHAr3hES3sVEsDbHFSTuhkSwA7/iK8XORLAn6znM47XEcBB/sHZny0SwJpvQv18nBHArNyIPu5/EcCF2kGPTm0RwFMUBwy94xLAm0uECrvWEcCmsb6qzvQSwM+1bMDaMhLAwzJEsyjvEcD5i56ASmgRwLD9zRjryhLAPp24+7v0EcCs3fnpLasRwL0BOKB6BxLAVBWUBa4yEsA33wKlxTMRwBLfZwCcyBHA4JKcvDeXEsCgRD+TlY0RwAK3RUwNmBLABNcTkxS3EcAym/NbLbURwBhaCdQEsxHAmyjZp1u/EcDf1rJSDZkRwBOEMyLreRHA17Xn3uVrEcBNiyq+4SoSwHSQc3cGWRLA5JGx9aXtEcDjXqVLCMcRwCBfhW/TMhLATSF3yo3KEcBAPAeskKoRwGr604yKnRLAceNPK+NOEsCO8SMbfb8RwCFZ/y8LmxLAdkqR/e5GEsCsF9B9kTkSwFsYcS1lLBLALIZz92VYEcBP3TmZzjoSwNzYVfYiiRHA",
          "dtype": "f8"
         },
         "yaxis": "y6"
        },
        {
         "marker": {
          "line": {
           "color": "white",
           "width": 1
          },
          "opacity": 0.7,
          "size": 8
         },
         "mode": "markers",
         "name": "Cluster 3",
         "type": "scatter",
         "x": {
          "bdata": "6boJ9Xtc+b//LCEld9z7v42dysE7Bvm/QxCAuZPV+79koqH6s/T3v5Ovs9DOR/e/t4g48scO+r91N7Xvd5v6v9O6FstN0ve/VrRmWZrO+r+OWjYAUbP5v41c8rUAwfe/T6WfRm5f+b/GFixtN4b4v2IuGD5Rv/i/3Yslr7kB+L9Nm6FMnXv5v9Ww1uiqPve/MKpmprXw+L8nFqvIDPX6vzDtQESld/m/J5u8vvys+r80l7J+6VX4v8JjXTUtive/WY7eRc3F+r+/W6Sc9Vf5v2fdoF61Q/i/u7/jDaVP+r8+ib2im5H4vy6IWe5ZU/m/KVlxvkW0+b/grk7M2bf5v0znjWDnh/6/YJVcEy/S+r+vhiEVJ5T5vz25SFUfHPu/4C4ihE8j+b/IILzoIN32v3Dey3i7nPe/6u3TmuH8+b9oEc3BdMH7v7cpr6o1mPa/sErRoO17+L/4O1VFtPX2vx01K0VBafi/t7u7ZCcx9794J/vPxf35vw==",
          "dtype": "f8"
         },
         "xaxis": "x6",
         "y": {
          "bdata": "/O4tP3HbGsBLj2H177YawFR8db/dyBrAEDvadtGfGsDszunhrPUawJOqTr3XDhvAEt6SFZ+rGsDY3nOscagawKvuwdZW6BrAvptdm1/NGsDTCbf6iDobwIlpcaKTgRvA0yFjOEyQGsASyvmkCMsawG81dRwzKRvAtveLYiH7GsCIP77dJoMawKAioZxjCRvATGF4n2GPGsD18L7oylAawJLfM9lkdxrAQBimj2rjGsC43OhRb/4awKj0tUPD2hrAvuw0XbVQG8AdDoLvB8gawAA71Bj3ExvAhFTLMbOAGsDq2VObSfUawN36YQMvsRrArdtx9RLQGsCz+4LAENgawH5GtIJR3xrAQKChPRv2GsBJyvgeMoEawI3ZsQ+dZRrAcTuDPcL1GsBE+es5QQgbwEhya18b7RrA+jMudES8GsCxCJCbKkkbwIZJXdWSQBvAGjQ1iVGfGsCkFV4ZlOwawF1sgHi5LxvACA+4L1TUGsDU3BOYLpkawA==",
          "dtype": "f8"
         },
         "yaxis": "y6"
        },
        {
         "marker": {
          "line": {
           "color": "white",
           "width": 1
          },
          "opacity": 0.7,
          "size": 8
         },
         "mode": "markers",
         "name": "Cluster 4",
         "type": "scatter",
         "x": {
          "bdata": "OhLQhPmxG0DysakgOAscQBQaCK+bpRxA1sS82u/bG0B9rfJ9ge8bQKrYFH5LuRtA0rdY/MAgHEC3rAIXcOYbQK2kQXwD1xtA0FECYs2BHEBVko3RwkwcQFXRDAkNJxxA0hrXAlm1G0C1LHIJcnkcQMyctKJg5xtAnwdnGzjJG0Ce5ZeWhjQcQER+/zaYIBxAF+kr6EjuHEBSdQyTOB4cQKeh6aeAQBxAKeN5ElPEG0BVkE1uYokcQHuJJzQ6phxAmIKmxbQoHECyoJXvUfQbQA5VqofgThxAC2gwSsLOHEDd0ihTNCccQM/isbQR3xtAs/6w9SWcHEDTDe1BVnEcQM79gzwbvhtAMaXCXmJcHEDHQB0SQYscQMYVsbSuWxxA7gK1CsZvHEBf5itzAgYcQDjyBlsFSxxANesIkPAPHEDla7BNnzwcQDtShQCcTBxAK09iaLQaHEAYL7N1byAcQLbhhKqErhxAbcA+AGV5HEBIlO9OoP0bQA==",
          "dtype": "f8"
         },
         "xaxis": "x6",
         "y": {
          "bdata": "3F+jwADhI0AoxRjm24YjQPvpY/NYkiNAQbgQ5E6PI0AHBrIz2tEjQCi7F9o3iSNAuRFRzFp6I0AlwFJfUJAjQFpzFoExoiNAArVcy4TDI0COj2k113gjQIw7/cRmciNABkaU6IKgI0CsbdJjT8ojQExmvrgFwiNANJzRjcuoI0Awx8AFBdQjQHvBYy0wiCNAGtdpT2ZuI0AQ5w/Dq50jQJXm4tMZnyNA5eLoYeWDI0Azm/+PAXEjQHi5L/cTwiNAv8pMWFStI0DiyO+FDIcjQGXTyQ332SNAJ5ZaMaqjI0C2ri5hOJEjQFNHPtOtiiNAc/tTtjh5I0ADhCv7/JYjQOT35/AuvCNADyRJddCcI0BDuwVFGMIjQJtZFa6XlSNAoao+eZeUI0DQAbLQXoUjQFpbLXiUhiNA2x5YTKTyI0DvfIFoVXAjQEPYEN6wtCNAnb/cN9J7I0Ds/35HFpQjQCoIuD3TfiNAxe2oklzPI0AmNtWKe4YjQA==",
          "dtype": "f8"
         },
         "yaxis": "y6"
        },
        {
         "marker": {
          "line": {
           "color": "white",
           "width": 1
          },
          "opacity": 0.7,
          "size": 8
         },
         "mode": "markers",
         "name": "Cluster 5",
         "type": "scatter",
         "x": {
          "bdata": "Xg1KtpPV978fabMRBEP5v45IXV5l6Pi/FFswL1C19b+pT/pdQP32vwd9r6Ivxfa/Qj7JtAxF97+xTXhXveL3v/DqnP1ICvm/yi2yEdO/97+4ixGACLH4v1BfQvczKfe/OgZA61xL9r/2Rxa2RZv3v87ZaBQEk/i/vkRQfO6O+78Ur7bqlQD6vzGIFzR0b/a/xIpqIYB89799wJTEWPX2v+LEuzanXfa/yTjcq0q1+b829bDMlMr3v67NP2aAu/i/uCh7E/1/+b+dNtZEadL2v1bNmqIxFPW/XnX8ku3k+L8=",
          "dtype": "f8"
         },
         "xaxis": "x6",
         "y": {
          "bdata": "enu6ukWUGsAXNA26F9sZwG2rZM+0QBrAHGlGr2ZUGsCJ2Dav2XoawJvsUi95YRrA5lAlckLhGcAFaaSx1zQawLmdJq2/MxrAZ4qmzEmwGsAX0eIr7R8awPlOCNJ1vRrARLbhdb/kGcDCdgqVuJIawIRRaklt+xnATH81MGLzGcCIBZ4PV/wZwG7EfDA/HhrA/M0vGuejGsApv/QsxZAawFgdyVT3hxrApNZ+JMJZGsBzBSKvyXYawBli94KUfxrAxlOtEHNcGsCZzQf8kXQawMYiCdS9mRrA2uGK1/x7GsA=",
          "dtype": "f8"
         },
         "yaxis": "y6"
        },
        {
         "marker": {
          "line": {
           "color": "white",
           "width": 1
          },
          "opacity": 0.7,
          "size": 8
         },
         "mode": "markers",
         "name": "Cluster 6",
         "type": "scatter",
         "x": [],
         "xaxis": "x6",
         "y": [],
         "yaxis": "y6"
        },
        {
         "marker": {
          "line": {
           "color": "white",
           "width": 1
          },
          "opacity": 0.7,
          "size": 12
         },
         "mode": "markers",
         "name": "Centers",
         "type": "scatter",
         "x": {
          "bdata": "4TpigCcr+b94QK/r0PEbQBiyzdGXfwVAm0etGN01+b9ir4hBsSocQF298NX07fe/",
          "dtype": "f8"
         },
         "xaxis": "x6",
         "y": {
          "bdata": "IgGdxpXD+D82FLNhC08jQF/PO31F+xHARO29vUnYGsAdwzKtypwjQECFjHhETBrA",
          "dtype": "f8"
         },
         "yaxis": "y6"
        },
        {
         "marker": {
          "line": {
           "color": "white",
           "width": 1
          },
          "opacity": 0.7,
          "size": 8
         },
         "mode": "markers",
         "name": "Cluster 0",
         "type": "scatter",
         "x": {
          "bdata": "jcjPkHsd+b/4ElLSN8b5v9l0ULE80/u/FS0Flq9f+L+oduF9f8j9v9Exl520cfm/kSh6HDh1+L86oAyM9Fz6vyfL0jqrg/y/3TYvYfSU97+9jmTSKsD5vxc1xOAqvvq/WZDMZrIT97+5IGV9DsP2vyd8V/mF4fq/4bL/Z9/D+L8iKhRjf+X3v7NUqZO6j/u/lXDC1KWR+b9be54w+Vr2vwzt4E8yGfu/mL+vtg52+L8LD+d1FjD8vwukQReo7/u/u5Isozhp+b+5U6nTyo76v9daeLAGjvu/q6inwsY0+b965/73vn35v5J5nq9G8PS/l/GuOA3W978MSpEtYUn4v2u/WtIANPm/gjSUoRpu+b9qb+xRKcL6v+vFBiLhkfe/MezkJwL8978RF8tGH+v2v2mDKElI9ve/J0+0ozh1+b/Pf+JR7nz3v+v3EBmZ6ve/2PfVXDRh+L/MRRMOZzv3vxTBPmPPL/i/",
          "dtype": "f8"
         },
         "xaxis": "x7",
         "y": {
          "bdata": "bsR2JV/p+j9TPt808+T5P8SyZJqbP/k/PW1o2QWt+j8Noj9rudD4P69EkBmF8/s/qBOSXGK8+T/XtuiX7kr6P2bm0MLfCvs/lmHtPAkw+j9guFRwvUz4PwNDHZ8Po/g/YKVLSFgr+j9hAJmFvWL4Pzk/AHzJgvk/aS0QwZSA+j9sGsg7qsr6P+/tU48JK/k/0YBrAzJh+D/nJvDqSr/6P0GnQlqsyvo/FplI9SlQ/D+dYjxuCvT4P3UBo60Fy/w/3ehWszHt+T+ZDK/30MH4P472woq/Z/k/J6H9ffx8+j8YS0EveOn4Pwg8rItM4/g/VmvpnWgr+j8ruZ9QA5/6P8g5Q2iH7fg/M5rfHkOf+D+rOrvAYlv4P6Xiyqvw3/g/QTKZvO3g+T9DuC3mUc75P1kRWkzA9fs/LGUg6020+D8aR5V/prr4Pw9GkQfJ+vo/cgMd4CXn+T9c10m8zB/5P8XPSebUZPo/",
          "dtype": "f8"
         },
         "yaxis": "y7"
        },
        {
         "marker": {
          "line": {
           "color": "white",
           "width": 1
          },
          "opacity": 0.7,
          "size": 8
         },
         "mode": "markers",
         "name": "Cluster 1",
         "type": "scatter",
         "x": {
          "bdata": "kJywVLOvG0BuV0XEfDAbQNDeqt1p0BtAQTOec/GHG0D3/OwGVLUbQFHFlLRYqxtA9/02CSNWHEC3E0SXYdMbQEB9I5A+oBxAmJWDbjy1G0DoWCpCvnwcQHtVr6Bz5RtAUkn3mj8nHEC6LkYdpjMcQNTYftVPLBxAExKGnlaPG0D5eM0D1dUbQIsOO2jHGhtAqw1ZBMzdG0COXIc6hyAcQPAml+lf3htASMWnebvmG0C8z2ug+A0cQA2r7akb5htAPOLANKVgHEBlTtOvlasbQFs6NKli4htAoFGMoSFYHEA=",
          "dtype": "f8"
         },
         "xaxis": "x7",
         "y": {
          "bdata": "T5z237ZvI0Det74XMmojQL3oq4vTPSNArSxLZClbI0BjluIfGF0jQBtX9KtLXiNAamdmJY4vI0B8x+4ET28jQPQJyB+jNiNAr5AtCTtRI0ABrbNz2xcjQIqHJO90ZCNAFpsndHNlI0AwgR7v9kIjQNzV/htQQiNAOEO2flloI0Cn2zTKr34jQAUJRjxPhCNApKw15MguI0BAzFmAv1wjQOq3Kf1dVyNAC39TgiVpI0BwFtp4ZEsjQPNPexURLyNAU+aTkX8gI0D66W+P/EkjQMoDaSQTUiNAt5i/zK1fI0A=",
          "dtype": "f8"
         },
         "yaxis": "y7"
        },
        {
         "marker": {
          "line": {
           "color": "white",
           "width": 1
          },
          "opacity": 0.7,
          "size": 8
         },
         "mode": "markers",
         "name": "Cluster 2",
         "type": "scatter",
         "x": {
          "bdata": "uJthntWsBUACI+v+dAsFQCZ7dPC46gVAwoZKqiwuBkBZ0bIkG6AGQM93NIerAAVAKDzdcIHmBUAuVA8l2S8GQHymtrK8KgVAe6ezrSI3BkAf5fs/NsYEQFseApkmSgZAmV3WSv58BEDWQG/IoxkFQGgmRK4jDwRAl2iEjad5BEBuXXBqbPYGQO+AXARbnwRAohP3rnJuBkDy7GTq8oQEQGMVgbT50gRAaYRuf745BUCnVSfOxaAFQABEhPi5BQZAgLQrugb3BEDJIRIWhpMEQHgB9R1sAAZANO9VIiHbBUCtKYBFtW4FQEssWiQ+lgVAx1d0J4f+BUDB2Q/Pug4FQJbFNuic/QNAgvZwGc20BkAOaqDBCNoFQGiWJ6yOqgVArp0DC2OaBUAWb712++kDQD1tJnKfUgVA2EmvZ3CjBUDEb6273NAEQBk2r30MWAVA7+agtvgeBkAKALin7MIEQOhcpz66TwZAoPRiTyoQB0CCqsoLCW4DQHuE25ZzuwZAus3ZhPV1BUDD1FxJ8qsEQLECriv8GQVA8znrbtj8BUAhYX2hbFUFQGA/4DdLoARA01ZWEmcTBkCy3Zc5Nv0EQErBI1TPLgVAgcQgCn+5BUBk8xrQOSsEQEx+JD53lgZAyeF4O93KBUC2MNl59NkFQCPH2NK6HAZA27okb3hnBkCe11SupzkFQHACLhELXAZAUfhWxu/HBUBiuW9ADusEQCkbjAO6GQZA+GjE5ZtzB0COkAN98IcFQDGxJFb9lQVAyOyWu5EaBUAoTphjp8cFQM9Y9NnnZARA",
          "dtype": "f8"
         },
         "xaxis": "x7",
         "y": {
          "bdata": "GUI0zeNvEcCh3D6RRzQSwMcsIEh8BRLAd8sf0gXuEcAm8rekWD0SwNBmerP5YxLAhivghb17EsD0rSxg+k4SwFXgz1CPAxLABRxwCCxzEsAQBCwVbcURwAMDBPG8ChPAc2RZmRrBEcDQRKTc6IUSwI53IbUJ5BHAOOXkVmUbEsCpYY/dYGURwMXHysb5LRLAbzGIAUGLEcAIPi2pZhMSwLW76MmPEhHAZeoBgsmkEcD1gUYyy7MRwDSSg5+gQRLABMcS8LD6EcARovhzNgISwBw6N/ZcUxHAr3hES3sVEsDbHFSTuhkSwA7/iK8XORLAn6znM47XEcBB/sHZny0SwJpvQv18nBHArNyIPu5/EcCF2kGPTm0RwFMUBwy94xLAm0uECrvWEcCmsb6qzvQSwM+1bMDaMhLAwzJEsyjvEcD5i56ASmgRwLD9zRjryhLAPp24+7v0EcCs3fnpLasRwL0BOKB6BxLAVBWUBa4yEsA33wKlxTMRwBLfZwCcyBHA4JKcvDeXEsCgRD+TlY0RwAK3RUwNmBLABNcTkxS3EcAym/NbLbURwBhaCdQEsxHAmyjZp1u/EcDf1rJSDZkRwBOEMyLreRHA17Xn3uVrEcBNiyq+4SoSwHSQc3cGWRLA5JGx9aXtEcDjXqVLCMcRwCBfhW/TMhLATSF3yo3KEcBAPAeskKoRwGr604yKnRLAceNPK+NOEsCO8SMbfb8RwCFZ/y8LmxLAdkqR/e5GEsCsF9B9kTkSwFsYcS1lLBLALIZz92VYEcBP3TmZzjoSwNzYVfYiiRHA",
          "dtype": "f8"
         },
         "yaxis": "y7"
        },
        {
         "marker": {
          "line": {
           "color": "white",
           "width": 1
          },
          "opacity": 0.7,
          "size": 8
         },
         "mode": "markers",
         "name": "Cluster 3",
         "type": "scatter",
         "x": {
          "bdata": "6boJ9Xtc+b//LCEld9z7v42dysE7Bvm/QxCAuZPV+79koqH6s/T3v5Ovs9DOR/e/t4g48scO+r91N7Xvd5v6v9O6FstN0ve/VrRmWZrO+r+OWjYAUbP5v41c8rUAwfe/T6WfRm5f+b/GFixtN4b4v2IuGD5Rv/i/3Yslr7kB+L9Nm6FMnXv5v9Ww1uiqPve/MKpmprXw+L8nFqvIDPX6vzDtQESld/m/J5u8vvys+r80l7J+6VX4v8JjXTUtive/WY7eRc3F+r+/W6Sc9Vf5v2fdoF61Q/i/u7/jDaVP+r8+ib2im5H4vy6IWe5ZU/m/KVlxvkW0+b/grk7M2bf5v0znjWDnh/6/YJVcEy/S+r+vhiEVJ5T5vz25SFUfHPu/4C4ihE8j+b/IILzoIN32v3Dey3i7nPe/6u3TmuH8+b9oEc3BdMH7v7cpr6o1mPa/sErRoO17+L/4O1VFtPX2vx01K0VBafi/t7u7ZCcx9794J/vPxf35vw==",
          "dtype": "f8"
         },
         "xaxis": "x7",
         "y": {
          "bdata": "/O4tP3HbGsBLj2H177YawFR8db/dyBrAEDvadtGfGsDszunhrPUawJOqTr3XDhvAEt6SFZ+rGsDY3nOscagawKvuwdZW6BrAvptdm1/NGsDTCbf6iDobwIlpcaKTgRvA0yFjOEyQGsASyvmkCMsawG81dRwzKRvAtveLYiH7GsCIP77dJoMawKAioZxjCRvATGF4n2GPGsD18L7oylAawJLfM9lkdxrAQBimj2rjGsC43OhRb/4awKj0tUPD2hrAvuw0XbVQG8AdDoLvB8gawAA71Bj3ExvAhFTLMbOAGsDq2VObSfUawN36YQMvsRrArdtx9RLQGsCz+4LAENgawH5GtIJR3xrAQKChPRv2GsBJyvgeMoEawI3ZsQ+dZRrAcTuDPcL1GsBE+es5QQgbwEhya18b7RrA+jMudES8GsCxCJCbKkkbwIZJXdWSQBvAGjQ1iVGfGsCkFV4ZlOwawF1sgHi5LxvACA+4L1TUGsDU3BOYLpkawA==",
          "dtype": "f8"
         },
         "yaxis": "y7"
        },
        {
         "marker": {
          "line": {
           "color": "white",
           "width": 1
          },
          "opacity": 0.7,
          "size": 8
         },
         "mode": "markers",
         "name": "Cluster 4",
         "type": "scatter",
         "x": {
          "bdata": "OhLQhPmxG0DysakgOAscQBQaCK+bpRxA1sS82u/bG0B9rfJ9ge8bQKrYFH5LuRtA0rdY/MAgHEC3rAIXcOYbQK2kQXwD1xtA0FECYs2BHEBVko3RwkwcQFXRDAkNJxxA0hrXAlm1G0C1LHIJcnkcQMyctKJg5xtAnwdnGzjJG0Ce5ZeWhjQcQER+/zaYIBxAF+kr6EjuHEBSdQyTOB4cQKeh6aeAQBxAKeN5ElPEG0BVkE1uYokcQHuJJzQ6phxAmIKmxbQoHECyoJXvUfQbQA5VqofgThxAC2gwSsLOHEDd0ihTNCccQM/isbQR3xtAs/6w9SWcHEDTDe1BVnEcQM79gzwbvhtAMaXCXmJcHEDHQB0SQYscQMYVsbSuWxxA7gK1CsZvHEBf5itzAgYcQDjyBlsFSxxANesIkPAPHEDla7BNnzwcQDtShQCcTBxAK09iaLQaHEAYL7N1byAcQLbhhKqErhxAbcA+AGV5HEBIlO9OoP0bQA==",
          "dtype": "f8"
         },
         "xaxis": "x7",
         "y": {
          "bdata": "3F+jwADhI0AoxRjm24YjQPvpY/NYkiNAQbgQ5E6PI0AHBrIz2tEjQCi7F9o3iSNAuRFRzFp6I0AlwFJfUJAjQFpzFoExoiNAArVcy4TDI0COj2k113gjQIw7/cRmciNABkaU6IKgI0CsbdJjT8ojQExmvrgFwiNANJzRjcuoI0Awx8AFBdQjQHvBYy0wiCNAGtdpT2ZuI0AQ5w/Dq50jQJXm4tMZnyNA5eLoYeWDI0Azm/+PAXEjQHi5L/cTwiNAv8pMWFStI0DiyO+FDIcjQGXTyQ332SNAJ5ZaMaqjI0C2ri5hOJEjQFNHPtOtiiNAc/tTtjh5I0ADhCv7/JYjQOT35/AuvCNADyRJddCcI0BDuwVFGMIjQJtZFa6XlSNAoao+eZeUI0DQAbLQXoUjQFpbLXiUhiNA2x5YTKTyI0DvfIFoVXAjQEPYEN6wtCNAnb/cN9J7I0Ds/35HFpQjQCoIuD3TfiNAxe2oklzPI0AmNtWKe4YjQA==",
          "dtype": "f8"
         },
         "yaxis": "y7"
        },
        {
         "marker": {
          "line": {
           "color": "white",
           "width": 1
          },
          "opacity": 0.7,
          "size": 8
         },
         "mode": "markers",
         "name": "Cluster 5",
         "type": "scatter",
         "x": {
          "bdata": "Xg1KtpPV978fabMRBEP5v45IXV5l6Pi/FFswL1C19b+pT/pdQP32vwd9r6Ivxfa/Qj7JtAxF97+xTXhXveL3v/DqnP1ICvm/yi2yEdO/97+4ixGACLH4v1BfQvczKfe/OgZA61xL9r/2Rxa2RZv3v87ZaBQEk/i/vkRQfO6O+78Ur7bqlQD6vzGIFzR0b/a/xIpqIYB89799wJTEWPX2v+LEuzanXfa/yTjcq0q1+b829bDMlMr3v67NP2aAu/i/uCh7E/1/+b+dNtZEadL2v1bNmqIxFPW/XnX8ku3k+L8=",
          "dtype": "f8"
         },
         "xaxis": "x7",
         "y": {
          "bdata": "enu6ukWUGsAXNA26F9sZwG2rZM+0QBrAHGlGr2ZUGsCJ2Dav2XoawJvsUi95YRrA5lAlckLhGcAFaaSx1zQawLmdJq2/MxrAZ4qmzEmwGsAX0eIr7R8awPlOCNJ1vRrARLbhdb/kGcDCdgqVuJIawIRRaklt+xnATH81MGLzGcCIBZ4PV/wZwG7EfDA/HhrA/M0vGuejGsApv/QsxZAawFgdyVT3hxrApNZ+JMJZGsBzBSKvyXYawBli94KUfxrAxlOtEHNcGsCZzQf8kXQawMYiCdS9mRrA2uGK1/x7GsA=",
          "dtype": "f8"
         },
         "yaxis": "y7"
        },
        {
         "marker": {
          "line": {
           "color": "white",
           "width": 1
          },
          "opacity": 0.7,
          "size": 8
         },
         "mode": "markers",
         "name": "Cluster 6",
         "type": "scatter",
         "x": {
          "bdata": "kuTmDyYy+b/IXmpfvzH5vwWdKVOyufa/mj7GrZrI+L8qMpibLZ36vxv/Ylla0vi/LQXsKwVt+b9WKbplq4n7v0DiXQ65+/m/TB3lAtEJ+r8UbrwjHLD5v95FLALRbve/ZMjpubZf+r8dDorpOHH4v0/Ta5RuHvi/L006NPm5+7+vlUShmz73vxnGFPaxj/m/PJH/q7l0+L+2mOGR8mb4v6wnIlYfpvi/EExKWsYN+r+TXy30lyz4v6t+C5rDpva/840PDN7h9r/IllSS6vn5v4zA4GNBKvu/4rvuPQ9K+r88ny4/WuP6vwGi/Ge2Gfe/",
          "dtype": "f8"
         },
         "xaxis": "x7",
         "y": {
          "bdata": "S6klhqxF9z9EpVCl/Lz2P40tRei+1vc/vrIw+esJ+D+5XXYodQX4PxhUN9tK6Pc/1c2JjMJR9z9WVHoveHL1P6i3XUGyJ/c/9SWhnoE69j+m8wamJzP2P+fCz3MWsvc/erOz4CWp9z/NfSnD6TL1PyJI57/5wPc/nPecGOwl+D9QjAvmG/f2P9dgJE+Yv/Y/JkMc+Q+U9z8WbKERXJP3P9iA2rQybPc/js+9+vbT9z/4hGPFcyb4P8zQEFwlA/g/P4FB5Wx+9j+MdX0tdyT3PyKbcIQB7/c/A5pMLV2U9z+xwSQ+7xL2PxrbGh6/i/M/",
          "dtype": "f8"
         },
         "yaxis": "y7"
        },
        {
         "marker": {
          "line": {
           "color": "white",
           "width": 1
          },
          "opacity": 0.7,
          "size": 8
         },
         "mode": "markers",
         "name": "Cluster 7",
         "type": "scatter",
         "x": [],
         "xaxis": "x7",
         "y": [],
         "yaxis": "y7"
        },
        {
         "marker": {
          "line": {
           "color": "white",
           "width": 1
          },
          "opacity": 0.7,
          "size": 12
         },
         "mode": "markers",
         "name": "Centers",
         "type": "scatter",
         "x": {
          "bdata": "Q12Tk8Im+b94QK/r0PEbQBiyzdGXfwVAm0etGN01+b9ir4hBsSocQF298NX07fe/wdGZ9300+b8=",
          "dtype": "f8"
         },
         "xaxis": "x7",
         "y": {
          "bdata": "8/S7vtKk+T82FLNhC08jQF/PO31F+xHARO29vUnYGsAdwzKtypwjQECFjHhETBrA/jpbN/Tk9j8=",
          "dtype": "f8"
         },
         "yaxis": "y7"
        },
        {
         "marker": {
          "line": {
           "color": "white",
           "width": 1
          },
          "opacity": 0.7,
          "size": 8
         },
         "mode": "markers",
         "name": "Cluster 0",
         "type": "scatter",
         "x": {
          "bdata": "kuTmDyYy+b/ZdFCxPNP7v8heal+/Mfm/mj7GrZrI+L8qMpibLZ36v6h24X1/yP2/G/9iWVrS+L8tBewrBW35v1YpumWrifu/J8vSOquD/L+9jmTSKsD5vxc1xOAqvvq/QOJdDrn7+b8nfFf5heH6v7NUqZO6j/u/lXDC1KWR+b9MHeUC0Qn6vxRuvCMcsPm/3kUsAtFu978LD+d1FjD8v2TI6bm2X/q/HQ6K6Thx+L+5U6nTyo76v0/Ta5RuHvi/L006NPm5+7+vlUShmz73vxnGFPaxj/m/11p4sAaO+788kf+ruXT4v3rn/ve+ffm/tpjhkfJm+L9rv1rSADT5v4I0lKEabvm/am/sUSnC+r+sJyJWH6b4vxBMSlrGDfq/k18t9Jcs+L8nT7SjOHX5v/ONDwze4fa/yJZUkur5+b+MwOBjQSr7v+K77j0PSvq/PJ8uP1rj+r8Bovxnthn3vw==",
          "dtype": "f8"
         },
         "xaxis": "x8",
         "y": {
          "bdata": "S6klhqxF9z/EsmSamz/5P0SlUKX8vPY/vrIw+esJ+D+5XXYodQX4Pw2iP2u50Pg/GFQ320ro9z/VzYmMwlH3P1ZUei94cvU/ZubQwt8K+z9guFRwvUz4PwNDHZ8Po/g/qLddQbIn9z85PwB8yYL5P+/tU48JK/k/0YBrAzJh+D/1JaGegTr2P6bzBqYnM/Y/58LPcxay9z+dYjxuCvT4P3qzs+Alqfc/zX0pw+ky9T+ZDK/30MH4PyJI57/5wPc/nPecGOwl+D9QjAvmG/f2P9dgJE+Yv/Y/jvbCir9n+T8mQxz5D5T3PxhLQS946fg/FmyhEVyT9z/IOUNoh+34PzOa3x5Dn/g/qzq7wGJb+D/YgNq0Mmz3P47Pvfr20/c/+IRjxXMm+D8sZSDrTbT4Pz+BQeVsfvY/jHV9LXck9z8im3CEAe/3PwOaTC1dlPc/scEkPu8S9j8a2xoev4vzPw==",
          "dtype": "f8"
         },
         "yaxis": "y8"
        },
        {
         "marker": {
          "line": {
           "color": "white",
           "width": 1
          },
          "opacity": 0.7,
          "size": 8
         },
         "mode": "markers",
         "name": "Cluster 1",
         "type": "scatter",
         "x": {
          "bdata": "0N6q3WnQG0BBM55z8YcbQPf87AZUtRtAUcWUtFirG0D3/TYJI1YcQEB9I5A+oBxAmJWDbjy1G0DoWCpCvnwcQHtVr6Bz5RtAUkn3mj8nHEC6LkYdpjMcQNTYftVPLBxAF+kr6EjuHEBVkE1uYokcQKsNWQTM3RtAjlyHOocgHEDwJpfpX94bQEjFp3m75htAvM9roPgNHEANq+2pG+YbQDziwDSlYBxAZU7Tr5WrG0BbOjSpYuIbQKBRjKEhWBxA",
          "dtype": "f8"
         },
         "xaxis": "x8",
         "y": {
          "bdata": "veiri9M9I0CtLEtkKVsjQGOW4h8YXSNAG1f0q0teI0BqZ2Ylji8jQPQJyB+jNiNAr5AtCTtRI0ABrbNz2xcjQIqHJO90ZCNAFpsndHNlI0AwgR7v9kIjQNzV/htQQiNAGtdpT2ZuI0Azm/+PAXEjQKSsNeTILiNAQMxZgL9cI0Dqtyn9XVcjQAt/U4IlaSNAcBbaeGRLI0DzT3sVES8jQFPmk5F/ICNA+ulvj/xJI0DKA2kkE1IjQLeYv8ytXyNA",
          "dtype": "f8"
         },
         "yaxis": "y8"
        },
        {
         "marker": {
          "line": {
           "color": "white",
           "width": 1
          },
          "opacity": 0.7,
          "size": 8
         },
         "mode": "markers",
         "name": "Cluster 2",
         "type": "scatter",
         "x": {
          "bdata": "uJthntWsBUACI+v+dAsFQM93NIerAAVAfKa2srwqBUAf5fs/NsYEQJld1kr+fARAaCZEriMPBECXaISNp3kEQO+AXARbnwRA8uxk6vKEBEBjFYG0+dIEQGmEbn++OQVAgLQrugb3BEDJIRIWhpMEQMHZD8+6DgVAlsU26Jz9A0AWb712++kDQMRvrbvc0ARACgC4p+zCBECCqsoLCW4DQMPUXEnyqwRAIWF9oWxVBUBgP+A3S6AEQLLdlzk2/QRASsEjVM8uBUBk8xrQOSsEQJ7XVK6nOQVAYrlvQA7rBEDI7Ja7kRoFQM9Y9NnnZARA",
          "dtype": "f8"
         },
         "xaxis": "x8",
         "y": {
          "bdata": "GUI0zeNvEcCh3D6RRzQSwNBmerP5YxLAVeDPUI8DEsAQBCwVbcURwHNkWZkawRHAjnchtQnkEcA45eRWZRsSwMXHysb5LRLACD4tqWYTEsC1u+jJjxIRwGXqAYLJpBHABMcS8LD6EcARovhzNgISwEH+wdmfLRLAmm9C/XycEcCmsb6qzvQSwPmLnoBKaBHArN356S2rEcA33wKlxTMRwKBEP5OVjRHAMpvzWy21EcAYWgnUBLMRwN/WslINmRHAE4QzIut5EcBNiyq+4SoSwEA8B6yQqhHAjvEjG32/EcAshnP3ZVgRwNzYVfYiiRHA",
          "dtype": "f8"
         },
         "yaxis": "y8"
        },
        {
         "marker": {
          "line": {
           "color": "white",
           "width": 1
          },
          "opacity": 0.7,
          "size": 8
         },
         "mode": "markers",
         "name": "Cluster 3",
         "type": "scatter",
         "x": {
          "bdata": "6boJ9Xtc+b//LCEld9z7v42dysE7Bvm/QxCAuZPV+79koqH6s/T3v5Ovs9DOR/e/t4g48scO+r91N7Xvd5v6v8otshHTv/e/07oWy03S979WtGZZms76v45aNgBRs/m/vkRQfO6O+7+NXPK1AMH3v0+ln0ZuX/m/xhYsbTeG+L9iLhg+Ub/4v92LJa+5Afi/TZuhTJ17+b/VsNboqj73vzCqZqa18Pi/JxaryAz1+r8w7UBEpXf5vyebvL78rPq/NJeyfulV+L/CY101LYr3v1mO3kXNxfq/v1uknPVX+b9n3aBetUP4v8k43KtKtfm/rs0/ZoC7+L+4KHsT/X/5v7u/4w2lT/q/Pom9opuR+L8uiFnuWVP5vylZcb5FtPm/4K5OzNm3+b9M541g54f+v2CVXBMv0vq/r4YhFSeU+b89uUhVHxz7v+AuIoRPI/m/yCC86CDd9r9w3st4u5z3v+rt05rh/Pm/aBHNwXTB+7+3Ka+qNZj2v7BK0aDte/i/+DtVRbT19r8dNStFQWn4v7e7u2QnMfe/XnX8ku3k+L94J/vPxf35vw==",
          "dtype": "f8"
         },
         "xaxis": "x8",
         "y": {
          "bdata": "/O4tP3HbGsBLj2H177YawFR8db/dyBrAEDvadtGfGsDszunhrPUawJOqTr3XDhvAEt6SFZ+rGsDY3nOscagawGeKpsxJsBrAq+7B1lboGsC+m12bX80awNMJt/qIOhvATH81MGLzGcCJaXGik4EbwNMhYzhMkBrAEsr5pAjLGsBvNXUcMykbwLb3i2Ih+xrAiD++3SaDGsCgIqGcYwkbwExheJ9hjxrA9fC+6MpQGsCS3zPZZHcawEAYpo9q4xrAuNzoUW/+GsCo9LVDw9oawL7sNF21UBvAHQ6C7wfIGsAAO9QY9xMbwKTWfiTCWRrAGWL3gpR/GsDGU60Qc1wawIRUyzGzgBrA6tlTm0n1GsDd+mEDL7EawK3bcfUS0BrAs/uCwBDYGsB+RrSCUd8awECgoT0b9hrAScr4HjKBGsCN2bEPnWUawHE7gz3C9RrARPnrOUEIG8BIcmtfG+0awPozLnREvBrAsQiQmypJG8CGSV3VkkAbwBo0NYlRnxrApBVeGZTsGsBdbIB4uS8bwAgPuC9U1BrA2uGK1/x7GsDU3BOYLpkawA==",
          "dtype": "f8"
         },
         "yaxis": "y8"
        },
        {
         "marker": {
          "line": {
           "color": "white",
           "width": 1
          },
          "opacity": 0.7,
          "size": 8
         },
         "mode": "markers",
         "name": "Cluster 4",
         "type": "scatter",
         "x": {
          "bdata": "kJywVLOvG0A6EtCE+bEbQG5XRcR8MBtA8rGpIDgLHEAUGgivm6UcQNbEvNrv2xtAfa3yfYHvG0Cq2BR+S7kbQNK3WPzAIBxAt6wCF3DmG0CtpEF8A9cbQNBRAmLNgRxAVZKN0cJMHEC3E0SXYdMbQFXRDAkNJxxA0hrXAlm1G0C1LHIJcnkcQMyctKJg5xtAnwdnGzjJG0Ce5ZeWhjQcQBMShp5WjxtARH7/NpggHED5eM0D1dUbQFJ1DJM4HhxAp6Hpp4BAHEAp43kSU8QbQIsOO2jHGhtAe4knNDqmHECYgqbFtCgcQLKgle9R9BtADlWqh+BOHEALaDBKws4cQN3SKFM0JxxAz+KxtBHfG0Cz/rD1JZwcQNMN7UFWcRxAzv2DPBu+G0AxpcJeYlwcQMdAHRJBixxAxhWxtK5bHEDuArUKxm8cQF/mK3MCBhxAOPIGWwVLHEA16wiQ8A8cQOVrsE2fPBxAO1KFAJxMHEArT2JotBocQBgvs3VvIBxAtuGEqoSuHEBtwD4AZXkcQEiU706g/RtA",
          "dtype": "f8"
         },
         "xaxis": "x8",
         "y": {
          "bdata": "T5z237ZvI0DcX6PAAOEjQN63vhcyaiNAKMUY5tuGI0D76WPzWJIjQEG4EOROjyNABwayM9rRI0AouxfaN4kjQLkRUcxaeiNAJcBSX1CQI0BacxaBMaIjQAK1XMuEwyNAjo9pNdd4I0B8x+4ET28jQIw7/cRmciNABkaU6IKgI0CsbdJjT8ojQExmvrgFwiNANJzRjcuoI0Awx8AFBdQjQDhDtn5ZaCNAe8FjLTCII0Cn2zTKr34jQBDnD8OrnSNAlebi0xmfI0Dl4uhh5YMjQAUJRjxPhCNAeLkv9xPCI0C/ykxYVK0jQOLI74UMhyNAZdPJDffZI0AnlloxqqMjQLauLmE4kSNAU0c+062KI0Bz+1O2OHkjQAOEK/v8liNA5Pfn8C68I0APJEl10JwjQEO7BUUYwiNAm1kVrpeVI0Chqj55l5QjQNABstBehSNAWlsteJSGI0DbHlhMpPIjQO98gWhVcCNAQ9gQ3rC0I0Cdv9w30nsjQOz/fkcWlCNAKgi4PdN+I0DF7aiSXM8jQCY21Yp7hiNA",
          "dtype": "f8"
         },
         "yaxis": "y8"
        },
        {
         "marker": {
          "line": {
           "color": "white",
           "width": 1
          },
          "opacity": 0.7,
          "size": 8
         },
         "mode": "markers",
         "name": "Cluster 5",
         "type": "scatter",
         "x": {
          "bdata": "Jnt08LjqBUDChkqqLC4GQFnRsiQboAZAKDzdcIHmBUAuVA8l2S8GQHuns60iNwZAWx4CmSZKBkDWQG/IoxkFQG5dcGps9gZAohP3rnJuBkCnVSfOxaAFQABEhPi5BQZAeAH1HWwABkA071UiIdsFQK0pgEW1bgVASyxaJD6WBUDHV3Qnh/4FQIL2cBnNtAZADmqgwQjaBUBoliesjqoFQK6dAwtjmgVAPW0mcp9SBUDYSa9ncKMFQBk2r30MWAVA7+agtvgeBkDoXKc+uk8GQKD0Yk8qEAdAe4TblnO7BkC6zdmE9XUFQLECriv8GQVA8znrbtj8BUDTVlYSZxMGQIHEIAp/uQVATH4kPneWBkDJ4Xg73coFQLYw2Xn02QVAI8fY0rocBkDbuiRveGcGQHACLhELXAZAUfhWxu/HBUApG4wDuhkGQPhoxOWbcwdAjpADffCHBUAxsSRW/ZUFQChOmGOnxwVA",
          "dtype": "f8"
         },
         "xaxis": "x8",
         "y": {
          "bdata": "xywgSHwFEsB3yx/SBe4RwCbyt6RYPRLAhivghb17EsD0rSxg+k4SwAUccAgscxLAAwME8bwKE8DQRKTc6IUSwKlhj91gZRHAbzGIAUGLEcD1gUYyy7MRwDSSg5+gQRLAHDo39lxTEcCveERLexUSwNscVJO6GRLADv+Irxc5EsCfrOczjtcRwKzciD7ufxHAhdpBj05tEcBTFAcMveMSwJtLhAq71hHAz7VswNoyEsDDMkSzKO8RwLD9zRjryhLAPp24+7v0EcC9ATigegcSwFQVlAWuMhLAEt9nAJzIEcDgkpy8N5cSwAK3RUwNmBLABNcTkxS3EcCbKNmnW78RwNe1597laxHAdJBzdwZZEsDkkbH1pe0RwONepUsIxxHAIF+Fb9MyEsBNIXfKjcoRwGr604yKnRLAceNPK+NOEsAhWf8vC5sSwHZKkf3uRhLArBfQfZE5EsBbGHEtZSwSwE/dOZnOOhLA",
          "dtype": "f8"
         },
         "yaxis": "y8"
        },
        {
         "marker": {
          "line": {
           "color": "white",
           "width": 1
          },
          "opacity": 0.7,
          "size": 8
         },
         "mode": "markers",
         "name": "Cluster 6",
         "type": "scatter",
         "x": {
          "bdata": "jcjPkHsd+b/4ElLSN8b5vxUtBZavX/i/BZ0pU7K59r/RMZedtHH5v5Eoehw4dfi/OqAMjPRc+r/dNi9h9JT3v1mQzGayE/e/uSBlfQ7D9r/hsv9n38P4vyIqFGN/5fe/W3ueMPla9r8M7eBPMhn7v5i/r7YOdvi/C6RBF6jv+7+7kiyjOGn5v6uop8LGNPm/knmer0bw9L+X8a44Ddb3vwxKkS1hSfi/68UGIuGR978x7OQnAvz3vxEXy0Yf6/a/aYMoSUj297+rfguaw6b2v89/4lHufPe/6/cQGZnq97/Y99VcNGH4v8xFEw5nO/e/FME+Y88v+L8=",
          "dtype": "f8"
         },
         "xaxis": "x8",
         "y": {
          "bdata": "bsR2JV/p+j9TPt808+T5Pz1taNkFrfo/jS1F6L7W9z+vRJAZhfP7P6gTklxivPk/17bol+5K+j+WYe08CTD6P2ClS0hYK/o/YQCZhb1i+D9pLRDBlID6P2wayDuqyvo/5ybw6kq/+j9Bp0JarMr6PxaZSPUpUPw/dQGjrQXL/D/d6FazMe35Pyeh/X38fPo/CDysi0zj+D9Wa+mdaCv6Pyu5n1ADn/o/peLKq/Df+D9BMpm87eD5P0O4LeZRzvk/WRFaTMD1+z/M0BBcJQP4PxpHlX+muvg/D0aRB8n6+j9yAx3gJef5P1zXSbzMH/k/xc9J5tRk+j8=",
          "dtype": "f8"
         },
         "yaxis": "y8"
        },
        {
         "marker": {
          "line": {
           "color": "white",
           "width": 1
          },
          "opacity": 0.7,
          "size": 8
         },
         "mode": "markers",
         "name": "Cluster 7",
         "type": "scatter",
         "x": {
          "bdata": "Xg1KtpPV978fabMRBEP5v45IXV5l6Pi/FFswL1C19b+pT/pdQP32vwd9r6Ivxfa/Qj7JtAxF97+xTXhXveL3v/DqnP1ICvm/uIsRgAix+L9QX0L3Myn3vzoGQOtcS/a/9kcWtkWb97/O2WgUBJP4vxSvtuqVAPq/MYgXNHRv9r/EimohgHz3v33AlMRY9fa/4sS7Nqdd9r829bDMlMr3v5021kRp0va/Vs2aojEU9b8=",
          "dtype": "f8"
         },
         "xaxis": "x8",
         "y": {
          "bdata": "enu6ukWUGsAXNA26F9sZwG2rZM+0QBrAHGlGr2ZUGsCJ2Dav2XoawJvsUi95YRrA5lAlckLhGcAFaaSx1zQawLmdJq2/MxrAF9HiK+0fGsD5TgjSdb0awES24XW/5BnAwnYKlbiSGsCEUWpJbfsZwIgFng9X/BnAbsR8MD8eGsD8zS8a56MawCm/9CzFkBrAWB3JVPeHGsBzBSKvyXYawJnNB/yRdBrAxiIJ1L2ZGsA=",
          "dtype": "f8"
         },
         "yaxis": "y8"
        },
        {
         "marker": {
          "line": {
           "color": "white",
           "width": 1
          },
          "opacity": 0.7,
          "size": 8
         },
         "mode": "markers",
         "name": "Cluster 8",
         "type": "scatter",
         "x": [],
         "xaxis": "x8",
         "y": [],
         "yaxis": "y8"
        },
        {
         "marker": {
          "line": {
           "color": "white",
           "width": 1
          },
          "opacity": 0.7,
          "size": 12
         },
         "mode": "markers",
         "name": "Centers",
         "type": "scatter",
         "x": {
          "bdata": "EyInvRza+b9y3WRWVCkcQEXF1W/PvgRAicX1vmQy+b9YOGLiLREcQOQakiwPDwZAFX9CrtMy+L9rxoRMYH/3vw==",
          "dtype": "f8"
         },
         "xaxis": "x8",
         "y": {
          "bdata": "PK8hK0fD9z+6TFxK90UjQCnOr9xs3xHAmHCu6FjKGsAEALonv5QjQLQXmIP+DxLAxyKvL2Av+j/BEXL7xEEawA==",
          "dtype": "f8"
         },
         "yaxis": "y8"
        },
        {
         "marker": {
          "line": {
           "color": "white",
           "width": 1
          },
          "opacity": 0.7,
          "size": 8
         },
         "mode": "markers",
         "name": "Cluster 0",
         "type": "scatter",
         "x": {
          "bdata": "kuTmDyYy+b/ZdFCxPNP7v8heal+/Mfm/mj7GrZrI+L8qMpibLZ36v6h24X1/yP2/G/9iWVrS+L8tBewrBW35v1YpumWrifu/J8vSOquD/L+9jmTSKsD5vxc1xOAqvvq/QOJdDrn7+b8nfFf5heH6v7NUqZO6j/u/lXDC1KWR+b9MHeUC0Qn6vxRuvCMcsPm/3kUsAtFu978LD+d1FjD8v2TI6bm2X/q/HQ6K6Thx+L+5U6nTyo76v0/Ta5RuHvi/L006NPm5+7+vlUShmz73vxnGFPaxj/m/11p4sAaO+788kf+ruXT4v3rn/ve+ffm/tpjhkfJm+L9rv1rSADT5v4I0lKEabvm/am/sUSnC+r+sJyJWH6b4vxBMSlrGDfq/k18t9Jcs+L8nT7SjOHX5v/ONDwze4fa/yJZUkur5+b+MwOBjQSr7v+K77j0PSvq/PJ8uP1rj+r8Bovxnthn3vw==",
          "dtype": "f8"
         },
         "xaxis": "x9",
         "y": {
          "bdata": "S6klhqxF9z/EsmSamz/5P0SlUKX8vPY/vrIw+esJ+D+5XXYodQX4Pw2iP2u50Pg/GFQ320ro9z/VzYmMwlH3P1ZUei94cvU/ZubQwt8K+z9guFRwvUz4PwNDHZ8Po/g/qLddQbIn9z85PwB8yYL5P+/tU48JK/k/0YBrAzJh+D/1JaGegTr2P6bzBqYnM/Y/58LPcxay9z+dYjxuCvT4P3qzs+Alqfc/zX0pw+ky9T+ZDK/30MH4PyJI57/5wPc/nPecGOwl+D9QjAvmG/f2P9dgJE+Yv/Y/jvbCir9n+T8mQxz5D5T3PxhLQS946fg/FmyhEVyT9z/IOUNoh+34PzOa3x5Dn/g/qzq7wGJb+D/YgNq0Mmz3P47Pvfr20/c/+IRjxXMm+D8sZSDrTbT4Pz+BQeVsfvY/jHV9LXck9z8im3CEAe/3PwOaTC1dlPc/scEkPu8S9j8a2xoev4vzPw==",
          "dtype": "f8"
         },
         "yaxis": "y9"
        },
        {
         "marker": {
          "line": {
           "color": "white",
           "width": 1
          },
          "opacity": 0.7,
          "size": 8
         },
         "mode": "markers",
         "name": "Cluster 1",
         "type": "scatter",
         "x": {
          "bdata": "0N6q3WnQG0BBM55z8YcbQPf87AZUtRtAUcWUtFirG0D3/TYJI1YcQEB9I5A+oBxAmJWDbjy1G0DoWCpCvnwcQHtVr6Bz5RtAUkn3mj8nHEC6LkYdpjMcQNTYftVPLBxAF+kr6EjuHEBVkE1uYokcQKsNWQTM3RtAjlyHOocgHEDwJpfpX94bQEjFp3m75htAvM9roPgNHEANq+2pG+YbQDziwDSlYBxAZU7Tr5WrG0BbOjSpYuIbQKBRjKEhWBxA",
          "dtype": "f8"
         },
         "xaxis": "x9",
         "y": {
          "bdata": "veiri9M9I0CtLEtkKVsjQGOW4h8YXSNAG1f0q0teI0BqZ2Ylji8jQPQJyB+jNiNAr5AtCTtRI0ABrbNz2xcjQIqHJO90ZCNAFpsndHNlI0AwgR7v9kIjQNzV/htQQiNAGtdpT2ZuI0Azm/+PAXEjQKSsNeTILiNAQMxZgL9cI0Dqtyn9XVcjQAt/U4IlaSNAcBbaeGRLI0DzT3sVES8jQFPmk5F/ICNA+ulvj/xJI0DKA2kkE1IjQLeYv8ytXyNA",
          "dtype": "f8"
         },
         "yaxis": "y9"
        },
        {
         "marker": {
          "line": {
           "color": "white",
           "width": 1
          },
          "opacity": 0.7,
          "size": 8
         },
         "mode": "markers",
         "name": "Cluster 2",
         "type": "scatter",
         "x": {
          "bdata": "AiPr/nQLBUDPdzSHqwAFQHymtrK8KgVA1kBvyKMZBUCXaISNp3kEQO+AXARbnwRA8uxk6vKEBECAtCu6BvcEQMkhEhaGkwRArSmARbVuBUDB2Q/Pug4FQGiWJ6yOqgVAFm+9dvvpA0A9bSZyn1IFQBk2r30MWAVAus3ZhPV1BUCxAq4r/BkFQGTzGtA5KwRAjpADffCHBUA=",
          "dtype": "f8"
         },
         "xaxis": "x9",
         "y": {
          "bdata": "odw+kUc0EsDQZnqz+WMSwFXgz1CPAxLA0ESk3OiFEsA45eRWZRsSwMXHysb5LRLACD4tqWYTEsAExxLwsPoRwBGi+HM2AhLA2xxUk7oZEsBB/sHZny0SwFMUBwy94xLAprG+qs70EsDPtWzA2jISwLD9zRjryhLA4JKcvDeXEsACt0VMDZgSwE2LKr7hKhLArBfQfZE5EsA=",
          "dtype": "f8"
         },
         "yaxis": "y9"
        },
        {
         "marker": {
          "line": {
           "color": "white",
           "width": 1
          },
          "opacity": 0.7,
          "size": 8
         },
         "mode": "markers",
         "name": "Cluster 3",
         "type": "scatter",
         "x": {
          "bdata": "6boJ9Xtc+b//LCEld9z7v42dysE7Bvm/QxCAuZPV+79koqH6s/T3v5Ovs9DOR/e/t4g48scO+r91N7Xvd5v6v8otshHTv/e/07oWy03S979WtGZZms76v45aNgBRs/m/vkRQfO6O+7+NXPK1AMH3v0+ln0ZuX/m/xhYsbTeG+L9iLhg+Ub/4v92LJa+5Afi/TZuhTJ17+b/VsNboqj73vzCqZqa18Pi/JxaryAz1+r8w7UBEpXf5vyebvL78rPq/NJeyfulV+L/CY101LYr3v1mO3kXNxfq/v1uknPVX+b9n3aBetUP4v8k43KtKtfm/rs0/ZoC7+L+4KHsT/X/5v7u/4w2lT/q/Pom9opuR+L8uiFnuWVP5vylZcb5FtPm/4K5OzNm3+b9M541g54f+v2CVXBMv0vq/r4YhFSeU+b89uUhVHxz7v+AuIoRPI/m/yCC86CDd9r9w3st4u5z3v+rt05rh/Pm/aBHNwXTB+7+3Ka+qNZj2v7BK0aDte/i/+DtVRbT19r8dNStFQWn4v7e7u2QnMfe/XnX8ku3k+L94J/vPxf35vw==",
          "dtype": "f8"
         },
         "xaxis": "x9",
         "y": {
          "bdata": "/O4tP3HbGsBLj2H177YawFR8db/dyBrAEDvadtGfGsDszunhrPUawJOqTr3XDhvAEt6SFZ+rGsDY3nOscagawGeKpsxJsBrAq+7B1lboGsC+m12bX80awNMJt/qIOhvATH81MGLzGcCJaXGik4EbwNMhYzhMkBrAEsr5pAjLGsBvNXUcMykbwLb3i2Ih+xrAiD++3SaDGsCgIqGcYwkbwExheJ9hjxrA9fC+6MpQGsCS3zPZZHcawEAYpo9q4xrAuNzoUW/+GsCo9LVDw9oawL7sNF21UBvAHQ6C7wfIGsAAO9QY9xMbwKTWfiTCWRrAGWL3gpR/GsDGU60Qc1wawIRUyzGzgBrA6tlTm0n1GsDd+mEDL7EawK3bcfUS0BrAs/uCwBDYGsB+RrSCUd8awECgoT0b9hrAScr4HjKBGsCN2bEPnWUawHE7gz3C9RrARPnrOUEIG8BIcmtfG+0awPozLnREvBrAsQiQmypJG8CGSV3VkkAbwBo0NYlRnxrApBVeGZTsGsBdbIB4uS8bwAgPuC9U1BrA2uGK1/x7GsDU3BOYLpkawA==",
          "dtype": "f8"
         },
         "yaxis": "y9"
        },
        {
         "marker": {
          "line": {
           "color": "white",
           "width": 1
          },
          "opacity": 0.7,
          "size": 8
         },
         "mode": "markers",
         "name": "Cluster 4",
         "type": "scatter",
         "x": {
          "bdata": "kJywVLOvG0A6EtCE+bEbQG5XRcR8MBtA8rGpIDgLHEAUGgivm6UcQNbEvNrv2xtAfa3yfYHvG0Cq2BR+S7kbQNK3WPzAIBxAt6wCF3DmG0CtpEF8A9cbQNBRAmLNgRxAVZKN0cJMHEC3E0SXYdMbQFXRDAkNJxxA0hrXAlm1G0C1LHIJcnkcQMyctKJg5xtAnwdnGzjJG0Ce5ZeWhjQcQBMShp5WjxtARH7/NpggHED5eM0D1dUbQFJ1DJM4HhxAp6Hpp4BAHEAp43kSU8QbQIsOO2jHGhtAe4knNDqmHECYgqbFtCgcQLKgle9R9BtADlWqh+BOHEALaDBKws4cQN3SKFM0JxxAz+KxtBHfG0Cz/rD1JZwcQNMN7UFWcRxAzv2DPBu+G0AxpcJeYlwcQMdAHRJBixxAxhWxtK5bHEDuArUKxm8cQF/mK3MCBhxAOPIGWwVLHEA16wiQ8A8cQOVrsE2fPBxAO1KFAJxMHEArT2JotBocQBgvs3VvIBxAtuGEqoSuHEBtwD4AZXkcQEiU706g/RtA",
          "dtype": "f8"
         },
         "xaxis": "x9",
         "y": {
          "bdata": "T5z237ZvI0DcX6PAAOEjQN63vhcyaiNAKMUY5tuGI0D76WPzWJIjQEG4EOROjyNABwayM9rRI0AouxfaN4kjQLkRUcxaeiNAJcBSX1CQI0BacxaBMaIjQAK1XMuEwyNAjo9pNdd4I0B8x+4ET28jQIw7/cRmciNABkaU6IKgI0CsbdJjT8ojQExmvrgFwiNANJzRjcuoI0Awx8AFBdQjQDhDtn5ZaCNAe8FjLTCII0Cn2zTKr34jQBDnD8OrnSNAlebi0xmfI0Dl4uhh5YMjQAUJRjxPhCNAeLkv9xPCI0C/ykxYVK0jQOLI74UMhyNAZdPJDffZI0AnlloxqqMjQLauLmE4kSNAU0c+062KI0Bz+1O2OHkjQAOEK/v8liNA5Pfn8C68I0APJEl10JwjQEO7BUUYwiNAm1kVrpeVI0Chqj55l5QjQNABstBehSNAWlsteJSGI0DbHlhMpPIjQO98gWhVcCNAQ9gQ3rC0I0Cdv9w30nsjQOz/fkcWlCNAKgi4PdN+I0DF7aiSXM8jQCY21Yp7hiNA",
          "dtype": "f8"
         },
         "yaxis": "y9"
        },
        {
         "marker": {
          "line": {
           "color": "white",
           "width": 1
          },
          "opacity": 0.7,
          "size": 8
         },
         "mode": "markers",
         "name": "Cluster 5",
         "type": "scatter",
         "x": {
          "bdata": "Jnt08LjqBUDChkqqLC4GQFnRsiQboAZAKDzdcIHmBUAuVA8l2S8GQHuns60iNwZAWx4CmSZKBkBuXXBqbPYGQKIT965ybgZAAESE+LkFBkA071UiIdsFQEssWiQ+lgVAx1d0J4f+BUCC9nAZzbQGQK6dAwtjmgVA2EmvZ3CjBUDv5qC2+B4GQOhcpz66TwZAoPRiTyoQB0B7hNuWc7sGQPM5627Y/AVA01ZWEmcTBkBMfiQ+d5YGQMnheDvdygVAtjDZefTZBUAjx9jSuhwGQNu6JG94ZwZAcAIuEQtcBkBR+FbG78cFQCkbjAO6GQZA+GjE5ZtzB0AxsSRW/ZUFQChOmGOnxwVA",
          "dtype": "f8"
         },
         "xaxis": "x9",
         "y": {
          "bdata": "xywgSHwFEsB3yx/SBe4RwCbyt6RYPRLAhivghb17EsD0rSxg+k4SwAUccAgscxLAAwME8bwKE8CpYY/dYGURwG8xiAFBixHANJKDn6BBEsCveERLexUSwA7/iK8XORLAn6znM47XEcCs3Ig+7n8RwJtLhAq71hHAwzJEsyjvEcA+nbj7u/QRwL0BOKB6BxLAVBWUBa4yEsAS32cAnMgRwATXE5MUtxHAmyjZp1u/EcB0kHN3BlkSwOSRsfWl7RHA416lSwjHEcAgX4Vv0zISwE0hd8qNyhHAavrTjIqdEsBx408r404SwCFZ/y8LmxLAdkqR/e5GEsBbGHEtZSwSwE/dOZnOOhLA",
          "dtype": "f8"
         },
         "yaxis": "y9"
        },
        {
         "marker": {
          "line": {
           "color": "white",
           "width": 1
          },
          "opacity": 0.7,
          "size": 8
         },
         "mode": "markers",
         "name": "Cluster 6",
         "type": "scatter",
         "x": {
          "bdata": "jcjPkHsd+b/4ElLSN8b5vxUtBZavX/i/BZ0pU7K59r/RMZedtHH5v5Eoehw4dfi/OqAMjPRc+r/dNi9h9JT3v1mQzGayE/e/uSBlfQ7D9r/hsv9n38P4vyIqFGN/5fe/W3ueMPla9r8M7eBPMhn7v5i/r7YOdvi/C6RBF6jv+7+7kiyjOGn5v6uop8LGNPm/knmer0bw9L+X8a44Ddb3vwxKkS1hSfi/68UGIuGR978x7OQnAvz3vxEXy0Yf6/a/aYMoSUj297+rfguaw6b2v89/4lHufPe/6/cQGZnq97/Y99VcNGH4v8xFEw5nO/e/FME+Y88v+L8=",
          "dtype": "f8"
         },
         "xaxis": "x9",
         "y": {
          "bdata": "bsR2JV/p+j9TPt808+T5Pz1taNkFrfo/jS1F6L7W9z+vRJAZhfP7P6gTklxivPk/17bol+5K+j+WYe08CTD6P2ClS0hYK/o/YQCZhb1i+D9pLRDBlID6P2wayDuqyvo/5ybw6kq/+j9Bp0JarMr6PxaZSPUpUPw/dQGjrQXL/D/d6FazMe35Pyeh/X38fPo/CDysi0zj+D9Wa+mdaCv6Pyu5n1ADn/o/peLKq/Df+D9BMpm87eD5P0O4LeZRzvk/WRFaTMD1+z/M0BBcJQP4PxpHlX+muvg/D0aRB8n6+j9yAx3gJef5P1zXSbzMH/k/xc9J5tRk+j8=",
          "dtype": "f8"
         },
         "yaxis": "y9"
        },
        {
         "marker": {
          "line": {
           "color": "white",
           "width": 1
          },
          "opacity": 0.7,
          "size": 8
         },
         "mode": "markers",
         "name": "Cluster 7",
         "type": "scatter",
         "x": {
          "bdata": "Xg1KtpPV978fabMRBEP5v45IXV5l6Pi/FFswL1C19b+pT/pdQP32vwd9r6Ivxfa/Qj7JtAxF97+xTXhXveL3v/DqnP1ICvm/uIsRgAix+L9QX0L3Myn3vzoGQOtcS/a/9kcWtkWb97/O2WgUBJP4vxSvtuqVAPq/MYgXNHRv9r/EimohgHz3v33AlMRY9fa/4sS7Nqdd9r829bDMlMr3v5021kRp0va/Vs2aojEU9b8=",
          "dtype": "f8"
         },
         "xaxis": "x9",
         "y": {
          "bdata": "enu6ukWUGsAXNA26F9sZwG2rZM+0QBrAHGlGr2ZUGsCJ2Dav2XoawJvsUi95YRrA5lAlckLhGcAFaaSx1zQawLmdJq2/MxrAF9HiK+0fGsD5TgjSdb0awES24XW/5BnAwnYKlbiSGsCEUWpJbfsZwIgFng9X/BnAbsR8MD8eGsD8zS8a56MawCm/9CzFkBrAWB3JVPeHGsBzBSKvyXYawJnNB/yRdBrAxiIJ1L2ZGsA=",
          "dtype": "f8"
         },
         "yaxis": "y9"
        },
        {
         "marker": {
          "line": {
           "color": "white",
           "width": 1
          },
          "opacity": 0.7,
          "size": 8
         },
         "mode": "markers",
         "name": "Cluster 8",
         "type": "scatter",
         "x": {
          "bdata": "uJthntWsBUAf5fs/NsYEQJld1kr+fARAaCZEriMPBEBjFYG0+dIEQGmEbn++OQVAp1UnzsWgBUB4AfUdbAAGQJbFNuic/QNADmqgwQjaBUDEb6273NAEQAoAuKfswgRAgqrKCwluA0DD1FxJ8qsEQCFhfaFsVQVAYD/gN0ugBECy3Zc5Nv0EQErBI1TPLgVAgcQgCn+5BUCe11SupzkFQGK5b0AO6wRAyOyWu5EaBUDPWPTZ52QEQA==",
          "dtype": "f8"
         },
         "xaxis": "x9",
         "y": {
          "bdata": "GUI0zeNvEcAQBCwVbcURwHNkWZkawRHAjnchtQnkEcC1u+jJjxIRwGXqAYLJpBHA9YFGMsuzEcAcOjf2XFMRwJpvQv18nBHAhdpBj05tEcD5i56ASmgRwKzd+ektqxHAN98CpcUzEcCgRD+TlY0RwDKb81sttRHAGFoJ1ASzEcDf1rJSDZkRwBOEMyLreRHA17Xn3uVrEcBAPAeskKoRwI7xIxt9vxHALIZz92VYEcDc2FX2IokRwA==",
          "dtype": "f8"
         },
         "yaxis": "y9"
        },
        {
         "marker": {
          "line": {
           "color": "white",
           "width": 1
          },
          "opacity": 0.7,
          "size": 8
         },
         "mode": "markers",
         "name": "Cluster 9",
         "type": "scatter",
         "x": [],
         "xaxis": "x9",
         "y": [],
         "yaxis": "y9"
        },
        {
         "marker": {
          "line": {
           "color": "white",
           "width": 1
          },
          "opacity": 0.7,
          "size": 12
         },
         "mode": "markers",
         "name": "Centers",
         "type": "scatter",
         "x": {
          "bdata": "EyInvRza+b9y3WRWVCkcQMjot2SJ6QRAicX1vmQy+b9YOGLiLREcQAwNE4feJQZAFX9CrtMy+L9rxoRMYH/3v6ggaap58QRA",
          "dtype": "f8"
         },
         "xaxis": "x9",
         "y": {
          "bdata": "PK8hK0fD9z+6TFxK90UjQJEAlYQWWBLAmHCu6FjKGsAEALonv5QjQFcUlMusFhLAxyKvL2Av+j/BEXL7xEEawDamJYb3jBHA",
          "dtype": "f8"
         },
         "yaxis": "y9"
        },
        {
         "marker": {
          "line": {
           "color": "white",
           "width": 1
          },
          "opacity": 0.7,
          "size": 8
         },
         "mode": "markers",
         "name": "Cluster 0",
         "type": "scatter",
         "x": {
          "bdata": "+BJS0jfG+b/ZdFCxPNP7vyoymJstnfq/qHbhfX/I/b86oAyM9Fz6vyfL0jqrg/y/vY5k0irA+b8XNcTgKr76vyd8V/mF4fq/s1Spk7qP+7+VcMLUpZH5vwzt4E8yGfu/Cw/ndRYw/L8LpEEXqO/7v7uSLKM4afm/ZMjpubZf+r+5U6nTyo76vy9NOjT5ufu/11p4sAaO+7965/73vn35v2u/WtIANPm/gjSUoRpu+b9qb+xRKcL6vxBMSlrGDfq/J0+0ozh1+b+MwOBjQSr7v+K77j0PSvq/",
          "dtype": "f8"
         },
         "xaxis": "x10",
         "y": {
          "bdata": "Uz7fNPPk+T/EsmSamz/5P7lddih1Bfg/DaI/a7nQ+D/XtuiX7kr6P2bm0MLfCvs/YLhUcL1M+D8DQx2fD6P4Pzk/AHzJgvk/7+1Tjwkr+T/RgGsDMmH4P0GnQlqsyvo/nWI8bgr0+D91AaOtBcv8P93oVrMx7fk/erOz4CWp9z+ZDK/30MH4P5z3nBjsJfg/jvbCir9n+T8YS0EveOn4P8g5Q2iH7fg/M5rfHkOf+D+rOrvAYlv4P47Pvfr20/c/LGUg6020+D8im3CEAe/3PwOaTC1dlPc/",
          "dtype": "f8"
         },
         "yaxis": "y10"
        },
        {
         "marker": {
          "line": {
           "color": "white",
           "width": 1
          },
          "opacity": 0.7,
          "size": 8
         },
         "mode": "markers",
         "name": "Cluster 1",
         "type": "scatter",
         "x": {
          "bdata": "kJywVLOvG0BuV0XEfDAbQNDeqt1p0BtAQTOec/GHG0D3/OwGVLUbQFHFlLRYqxtA9/02CSNWHEC3E0SXYdMbQFXRDAkNJxxAQH0jkD6gHECYlYNuPLUbQOhYKkK+fBxAe1WvoHPlG0BSSfeaPyccQLouRh2mMxxA1Nh+1U8sHEATEoaeVo8bQBfpK+hI7hxAVZBNbmKJHECrDVkEzN0bQI5chzqHIBxA8CaX6V/eG0BIxad5u+YbQLzPa6D4DRxADavtqRvmG0A84sA0pWAcQGVO06+VqxtAWzo0qWLiG0Dla7BNnzwcQKBRjKEhWBxA",
          "dtype": "f8"
         },
         "xaxis": "x10",
         "y": {
          "bdata": "T5z237ZvI0Det74XMmojQL3oq4vTPSNArSxLZClbI0BjluIfGF0jQBtX9KtLXiNAamdmJY4vI0B8x+4ET28jQIw7/cRmciNA9AnIH6M2I0CvkC0JO1EjQAGts3PbFyNAiock73RkI0AWmyd0c2UjQDCBHu/2QiNA3NX+G1BCI0A4Q7Z+WWgjQBrXaU9mbiNAM5v/jwFxI0CkrDXkyC4jQEDMWYC/XCNA6rcp/V1XI0ALf1OCJWkjQHAW2nhkSyNA8097FREvI0BT5pORfyAjQPrpb4/8SSNAygNpJBNSI0DvfIFoVXAjQLeYv8ytXyNA",
          "dtype": "f8"
         },
         "yaxis": "y10"
        },
        {
         "marker": {
          "line": {
           "color": "white",
           "width": 1
          },
          "opacity": 0.7,
          "size": 8
         },
         "mode": "markers",
         "name": "Cluster 2",
         "type": "scatter",
         "x": {
          "bdata": "AiPr/nQLBUDPdzSHqwAFQHymtrK8KgVA1kBvyKMZBUCXaISNp3kEQO+AXARbnwRA8uxk6vKEBECAtCu6BvcEQMkhEhaGkwRArSmARbVuBUBLLFokPpYFQMHZD8+6DgVAaJYnrI6qBUAWb712++kDQD1tJnKfUgVAGTavfQxYBUC6zdmE9XUFQLECriv8GQVAZPMa0DkrBECOkAN98IcFQA==",
          "dtype": "f8"
         },
         "xaxis": "x10",
         "y": {
          "bdata": "odw+kUc0EsDQZnqz+WMSwFXgz1CPAxLA0ESk3OiFEsA45eRWZRsSwMXHysb5LRLACD4tqWYTEsAExxLwsPoRwBGi+HM2AhLA2xxUk7oZEsAO/4ivFzkSwEH+wdmfLRLAUxQHDL3jEsCmsb6qzvQSwM+1bMDaMhLAsP3NGOvKEsDgkpy8N5cSwAK3RUwNmBLATYsqvuEqEsCsF9B9kTkSwA==",
          "dtype": "f8"
         },
         "yaxis": "y10"
        },
        {
         "marker": {
          "line": {
           "color": "white",
           "width": 1
          },
          "opacity": 0.7,
          "size": 8
         },
         "mode": "markers",
         "name": "Cluster 3",
         "type": "scatter",
         "x": {
          "bdata": "6boJ9Xtc+b//LCEld9z7v42dysE7Bvm/QxCAuZPV+79koqH6s/T3v5Ovs9DOR/e/t4g48scO+r91N7Xvd5v6v9O6FstN0ve/VrRmWZrO+r+OWjYAUbP5v75EUHzujvu/jVzytQDB979PpZ9Gbl/5v8YWLG03hvi/Yi4YPlG/+L/diyWvuQH4v02boUyde/m/1bDW6Ko+978wqmamtfD4vycWq8gM9fq/MO1ARKV3+b8nm7y+/Kz6vzSXsn7pVfi/wmNdNS2K979Zjt5FzcX6v79bpJz1V/m/Z92gXrVD+L/JONyrSrX5v67NP2aAu/i/uCh7E/1/+b+7v+MNpU/6vz6JvaKbkfi/LohZ7llT+b8pWXG+RbT5v+CuTszZt/m/TOeNYOeH/r9glVwTL9L6v6+GIRUnlPm/PblIVR8c+7/gLiKETyP5v8ggvOgg3fa/cN7LeLuc97/q7dOa4fz5v2gRzcF0wfu/tymvqjWY9r+wStGg7Xv4v/g7VUW09fa/HTUrRUFp+L9edfyS7eT4v3gn+8/F/fm/",
          "dtype": "f8"
         },
         "xaxis": "x10",
         "y": {
          "bdata": "/O4tP3HbGsBLj2H177YawFR8db/dyBrAEDvadtGfGsDszunhrPUawJOqTr3XDhvAEt6SFZ+rGsDY3nOscagawKvuwdZW6BrAvptdm1/NGsDTCbf6iDobwEx/NTBi8xnAiWlxopOBG8DTIWM4TJAawBLK+aQIyxrAbzV1HDMpG8C294tiIfsawIg/vt0mgxrAoCKhnGMJG8BMYXifYY8awPXwvujKUBrAkt8z2WR3GsBAGKaPauMawLjc6FFv/hrAqPS1Q8PaGsC+7DRdtVAbwB0Ogu8HyBrAADvUGPcTG8Ck1n4kwlkawBli94KUfxrAxlOtEHNcGsCEVMsxs4AawOrZU5tJ9RrA3fphAy+xGsCt23H1EtAawLP7gsAQ2BrAfka0glHfGsBAoKE9G/YawEnK+B4ygRrAjdmxD51lGsBxO4M9wvUawET56zlBCBvASHJrXxvtGsD6My50RLwawLEIkJsqSRvAhkld1ZJAG8AaNDWJUZ8awKQVXhmU7BrAXWyAeLkvG8Da4YrX/HsawNTcE5gumRrA",
          "dtype": "f8"
         },
         "yaxis": "y10"
        },
        {
         "marker": {
          "line": {
           "color": "white",
           "width": 1
          },
          "opacity": 0.7,
          "size": 8
         },
         "mode": "markers",
         "name": "Cluster 4",
         "type": "scatter",
         "x": {
          "bdata": "OhLQhPmxG0DysakgOAscQBQaCK+bpRxA1sS82u/bG0B9rfJ9ge8bQKrYFH5LuRtA0rdY/MAgHEC3rAIXcOYbQK2kQXwD1xtA0FECYs2BHEBVko3RwkwcQNIa1wJZtRtAtSxyCXJ5HEDMnLSiYOcbQJ8HZxs4yRtAnuWXloY0HEBEfv82mCAcQPl4zQPV1RtAUnUMkzgeHECnoemngEAcQCnjeRJTxBtAiw47aMcaG0B7iSc0OqYcQJiCpsW0KBxAsqCV71H0G0AOVaqH4E4cQAtoMErCzhxA3dIoUzQnHEDP4rG0Ed8bQLP+sPUlnBxA0w3tQVZxHEDO/YM8G74bQDGlwl5iXBxAx0AdEkGLHEDGFbG0rlscQO4CtQrGbxxAX+YrcwIGHEA48gZbBUscQDXrCJDwDxxAO1KFAJxMHEArT2JotBocQBgvs3VvIBxAtuGEqoSuHEBtwD4AZXkcQEiU706g/RtA",
          "dtype": "f8"
         },
         "xaxis": "x10",
         "y": {
          "bdata": "3F+jwADhI0AoxRjm24YjQPvpY/NYkiNAQbgQ5E6PI0AHBrIz2tEjQCi7F9o3iSNAuRFRzFp6I0AlwFJfUJAjQFpzFoExoiNAArVcy4TDI0COj2k113gjQAZGlOiCoCNArG3SY0/KI0BMZr64BcIjQDSc0Y3LqCNAMMfABQXUI0B7wWMtMIgjQKfbNMqvfiNAEOcPw6udI0CV5uLTGZ8jQOXi6GHlgyNABQlGPE+EI0B4uS/3E8IjQL/KTFhUrSNA4sjvhQyHI0Bl08kN99kjQCeWWjGqoyNAtq4uYTiRI0BTRz7TrYojQHP7U7Y4eSNAA4Qr+/yWI0Dk9+fwLrwjQA8kSXXQnCNAQ7sFRRjCI0CbWRWul5UjQKGqPnmXlCNA0AGy0F6FI0BaWy14lIYjQNseWEyk8iNAQ9gQ3rC0I0Cdv9w30nsjQOz/fkcWlCNAKgi4PdN+I0DF7aiSXM8jQCY21Yp7hiNA",
          "dtype": "f8"
         },
         "yaxis": "y10"
        },
        {
         "marker": {
          "line": {
           "color": "white",
           "width": 1
          },
          "opacity": 0.7,
          "size": 8
         },
         "mode": "markers",
         "name": "Cluster 5",
         "type": "scatter",
         "x": {
          "bdata": "Jnt08LjqBUDChkqqLC4GQFnRsiQboAZAKDzdcIHmBUAuVA8l2S8GQHuns60iNwZAWx4CmSZKBkBuXXBqbPYGQKIT965ybgZAAESE+LkFBkA071UiIdsFQMdXdCeH/gVAgvZwGc20BkCunQMLY5oFQNhJr2dwowVA7+agtvgeBkDoXKc+uk8GQKD0Yk8qEAdAe4TblnO7BkDzOetu2PwFQNNWVhJnEwZATH4kPneWBkDJ4Xg73coFQLYw2Xn02QVAI8fY0rocBkDbuiRveGcGQHACLhELXAZAUfhWxu/HBUApG4wDuhkGQPhoxOWbcwdAMbEkVv2VBUAoTphjp8cFQA==",
          "dtype": "f8"
         },
         "xaxis": "x10",
         "y": {
          "bdata": "xywgSHwFEsB3yx/SBe4RwCbyt6RYPRLAhivghb17EsD0rSxg+k4SwAUccAgscxLAAwME8bwKE8CpYY/dYGURwG8xiAFBixHANJKDn6BBEsCveERLexUSwJ+s5zOO1xHArNyIPu5/EcCbS4QKu9YRwMMyRLMo7xHAPp24+7v0EcC9ATigegcSwFQVlAWuMhLAEt9nAJzIEcAE1xOTFLcRwJso2adbvxHAdJBzdwZZEsDkkbH1pe0RwONepUsIxxHAIF+Fb9MyEsBNIXfKjcoRwGr604yKnRLAceNPK+NOEsAhWf8vC5sSwHZKkf3uRhLAWxhxLWUsEsBP3TmZzjoSwA==",
          "dtype": "f8"
         },
         "yaxis": "y10"
        },
        {
         "marker": {
          "line": {
           "color": "white",
           "width": 1
          },
          "opacity": 0.7,
          "size": 8
         },
         "mode": "markers",
         "name": "Cluster 6",
         "type": "scatter",
         "x": {
          "bdata": "jcjPkHsd+b8VLQWWr1/4v9Exl520cfm/kSh6HDh1+L/dNi9h9JT3v1mQzGayE/e/uSBlfQ7D9r/hsv9n38P4vyIqFGN/5fe/W3ueMPla9r+Yv6+2Dnb4v6uop8LGNPm/knmer0bw9L+X8a44Ddb3vwxKkS1hSfi/68UGIuGR978x7OQnAvz3vxEXy0Yf6/a/aYMoSUj297/Pf+JR7nz3v+v3EBmZ6ve/2PfVXDRh+L/MRRMOZzv3vxTBPmPPL/i/",
          "dtype": "f8"
         },
         "xaxis": "x10",
         "y": {
          "bdata": "bsR2JV/p+j89bWjZBa36P69EkBmF8/s/qBOSXGK8+T+WYe08CTD6P2ClS0hYK/o/YQCZhb1i+D9pLRDBlID6P2wayDuqyvo/5ybw6kq/+j8WmUj1KVD8Pyeh/X38fPo/CDysi0zj+D9Wa+mdaCv6Pyu5n1ADn/o/peLKq/Df+D9BMpm87eD5P0O4LeZRzvk/WRFaTMD1+z8aR5V/prr4Pw9GkQfJ+vo/cgMd4CXn+T9c10m8zB/5P8XPSebUZPo/",
          "dtype": "f8"
         },
         "yaxis": "y10"
        },
        {
         "marker": {
          "line": {
           "color": "white",
           "width": 1
          },
          "opacity": 0.7,
          "size": 8
         },
         "mode": "markers",
         "name": "Cluster 7",
         "type": "scatter",
         "x": {
          "bdata": "Xg1KtpPV978fabMRBEP5v45IXV5l6Pi/FFswL1C19b+pT/pdQP32vwd9r6Ivxfa/Qj7JtAxF97+xTXhXveL3v/DqnP1ICvm/yi2yEdO/97+4ixGACLH4v1BfQvczKfe/OgZA61xL9r/2Rxa2RZv3v87ZaBQEk/i/FK+26pUA+r8xiBc0dG/2v8SKaiGAfPe/fcCUxFj19r/ixLs2p132vzb1sMyUyve/nTbWRGnS9r9WzZqiMRT1v7e7u2QnMfe/",
          "dtype": "f8"
         },
         "xaxis": "x10",
         "y": {
          "bdata": "enu6ukWUGsAXNA26F9sZwG2rZM+0QBrAHGlGr2ZUGsCJ2Dav2XoawJvsUi95YRrA5lAlckLhGcAFaaSx1zQawLmdJq2/MxrAZ4qmzEmwGsAX0eIr7R8awPlOCNJ1vRrARLbhdb/kGcDCdgqVuJIawIRRaklt+xnAiAWeD1f8GcBuxHwwPx4awPzNLxrnoxrAKb/0LMWQGsBYHclU94cawHMFIq/JdhrAmc0H/JF0GsDGIgnUvZkawAgPuC9U1BrA",
          "dtype": "f8"
         },
         "yaxis": "y10"
        },
        {
         "marker": {
          "line": {
           "color": "white",
           "width": 1
          },
          "opacity": 0.7,
          "size": 8
         },
         "mode": "markers",
         "name": "Cluster 8",
         "type": "scatter",
         "x": {
          "bdata": "uJthntWsBUAf5fs/NsYEQJld1kr+fARAaCZEriMPBEBjFYG0+dIEQGmEbn++OQVAp1UnzsWgBUB4AfUdbAAGQJbFNuic/QNADmqgwQjaBUDEb6273NAEQAoAuKfswgRAgqrKCwluA0DD1FxJ8qsEQCFhfaFsVQVAYD/gN0ugBECy3Zc5Nv0EQErBI1TPLgVAgcQgCn+5BUCe11SupzkFQGK5b0AO6wRAyOyWu5EaBUDPWPTZ52QEQA==",
          "dtype": "f8"
         },
         "xaxis": "x10",
         "y": {
          "bdata": "GUI0zeNvEcAQBCwVbcURwHNkWZkawRHAjnchtQnkEcC1u+jJjxIRwGXqAYLJpBHA9YFGMsuzEcAcOjf2XFMRwJpvQv18nBHAhdpBj05tEcD5i56ASmgRwKzd+ektqxHAN98CpcUzEcCgRD+TlY0RwDKb81sttRHAGFoJ1ASzEcDf1rJSDZkRwBOEMyLreRHA17Xn3uVrEcBAPAeskKoRwI7xIxt9vxHALIZz92VYEcDc2FX2IokRwA==",
          "dtype": "f8"
         },
         "yaxis": "y10"
        },
        {
         "marker": {
          "line": {
           "color": "white",
           "width": 1
          },
          "opacity": 0.7,
          "size": 8
         },
         "mode": "markers",
         "name": "Cluster 9",
         "type": "scatter",
         "x": {
          "bdata": "kuTmDyYy+b/IXmpfvzH5vwWdKVOyufa/mj7GrZrI+L8b/2JZWtL4vy0F7CsFbfm/Vim6ZauJ+79A4l0Oufv5v0wd5QLRCfq/FG68Ixyw+b/eRSwC0W73vx0Oiuk4cfi/T9NrlG4e+L+vlUShmz73vxnGFPaxj/m/PJH/q7l0+L+2mOGR8mb4v6wnIlYfpvi/k18t9Jcs+L+rfguaw6b2v/ONDwze4fa/yJZUkur5+b88ny4/WuP6vwGi/Ge2Gfe/",
          "dtype": "f8"
         },
         "xaxis": "x10",
         "y": {
          "bdata": "S6klhqxF9z9EpVCl/Lz2P40tRei+1vc/vrIw+esJ+D8YVDfbSuj3P9XNiYzCUfc/VlR6L3hy9T+ot11Bsif3P/UloZ6BOvY/pvMGpicz9j/nws9zFrL3P819KcPpMvU/Ikjnv/nA9z9QjAvmG/f2P9dgJE+Yv/Y/JkMc+Q+U9z8WbKERXJP3P9iA2rQybPc/+IRjxXMm+D/M0BBcJQP4Pz+BQeVsfvY/jHV9LXck9z+xwSQ+7xL2PxrbGh6/i/M/",
          "dtype": "f8"
         },
         "yaxis": "y10"
        },
        {
         "marker": {
          "line": {
           "color": "white",
           "width": 1
          },
          "opacity": 0.7,
          "size": 8
         },
         "mode": "markers",
         "name": "Cluster 10",
         "type": "scatter",
         "x": [],
         "xaxis": "x10",
         "y": [],
         "yaxis": "y10"
        },
        {
         "marker": {
          "line": {
           "color": "white",
           "width": 1
          },
          "opacity": 0.7,
          "size": 12
         },
         "mode": "markers",
         "name": "Centers",
         "type": "scatter",
         "x": {
          "bdata": "K0JfLVW++r99lKUf1RIcQDyJkPjh+ARAOcd3JhJL+b9/g1LB7BgcQJ+6H5E0MAZAs8SB3WnX97/5KpUoP3/3v6ggaap58QRAywimwFG5+L8=",
          "dtype": "f8"
         },
         "xaxis": "x10",
         "y": {
          "bdata": "bNafbUQP+T9eoQLu30wjQJVhNhkzUxLAxmDaClbMGsD8oViLw5ojQJeAymqGFRLAYMcT1f9B+j/ORNY9mk8awDamJYb3jBHA5wpDPAfw9j8=",
          "dtype": "f8"
         },
         "yaxis": "y10"
        }
       ],
       "layout": {
        "height": 2000,
        "shapes": [
         {
          "line": {
           "color": "Black",
           "dash": "dash",
           "width": 1
          },
          "type": "line",
          "x0": 0,
          "x1": 0,
          "xref": "x",
          "y0": -10,
          "y1": 10,
          "yref": "y"
         },
         {
          "line": {
           "color": "Black",
           "dash": "dash",
           "width": 1
          },
          "type": "line",
          "x0": -10,
          "x1": 10,
          "xref": "x",
          "y0": 0,
          "y1": 0,
          "yref": "y"
         },
         {
          "line": {
           "color": "Black",
           "dash": "dash",
           "width": 1
          },
          "type": "line",
          "x0": 0,
          "x1": 0,
          "xref": "x2",
          "y0": -10,
          "y1": 10,
          "yref": "y2"
         },
         {
          "line": {
           "color": "Black",
           "dash": "dash",
           "width": 1
          },
          "type": "line",
          "x0": -10,
          "x1": 10,
          "xref": "x2",
          "y0": 0,
          "y1": 0,
          "yref": "y2"
         },
         {
          "line": {
           "color": "Black",
           "dash": "dash",
           "width": 1
          },
          "type": "line",
          "x0": 0,
          "x1": 0,
          "xref": "x3",
          "y0": -10,
          "y1": 10,
          "yref": "y3"
         },
         {
          "line": {
           "color": "Black",
           "dash": "dash",
           "width": 1
          },
          "type": "line",
          "x0": -10,
          "x1": 10,
          "xref": "x3",
          "y0": 0,
          "y1": 0,
          "yref": "y3"
         },
         {
          "line": {
           "color": "Black",
           "dash": "dash",
           "width": 1
          },
          "type": "line",
          "x0": 0,
          "x1": 0,
          "xref": "x4",
          "y0": -10,
          "y1": 10,
          "yref": "y4"
         },
         {
          "line": {
           "color": "Black",
           "dash": "dash",
           "width": 1
          },
          "type": "line",
          "x0": -10,
          "x1": 10,
          "xref": "x4",
          "y0": 0,
          "y1": 0,
          "yref": "y4"
         },
         {
          "line": {
           "color": "Black",
           "dash": "dash",
           "width": 1
          },
          "type": "line",
          "x0": 0,
          "x1": 0,
          "xref": "x5",
          "y0": -10,
          "y1": 10,
          "yref": "y5"
         },
         {
          "line": {
           "color": "Black",
           "dash": "dash",
           "width": 1
          },
          "type": "line",
          "x0": -10,
          "x1": 10,
          "xref": "x5",
          "y0": 0,
          "y1": 0,
          "yref": "y5"
         },
         {
          "line": {
           "color": "Black",
           "dash": "dash",
           "width": 1
          },
          "type": "line",
          "x0": 0,
          "x1": 0,
          "xref": "x6",
          "y0": -10,
          "y1": 10,
          "yref": "y6"
         },
         {
          "line": {
           "color": "Black",
           "dash": "dash",
           "width": 1
          },
          "type": "line",
          "x0": -10,
          "x1": 10,
          "xref": "x6",
          "y0": 0,
          "y1": 0,
          "yref": "y6"
         },
         {
          "line": {
           "color": "Black",
           "dash": "dash",
           "width": 1
          },
          "type": "line",
          "x0": 0,
          "x1": 0,
          "xref": "x7",
          "y0": -10,
          "y1": 10,
          "yref": "y7"
         },
         {
          "line": {
           "color": "Black",
           "dash": "dash",
           "width": 1
          },
          "type": "line",
          "x0": -10,
          "x1": 10,
          "xref": "x7",
          "y0": 0,
          "y1": 0,
          "yref": "y7"
         },
         {
          "line": {
           "color": "Black",
           "dash": "dash",
           "width": 1
          },
          "type": "line",
          "x0": 0,
          "x1": 0,
          "xref": "x8",
          "y0": -10,
          "y1": 10,
          "yref": "y8"
         },
         {
          "line": {
           "color": "Black",
           "dash": "dash",
           "width": 1
          },
          "type": "line",
          "x0": -10,
          "x1": 10,
          "xref": "x8",
          "y0": 0,
          "y1": 0,
          "yref": "y8"
         },
         {
          "line": {
           "color": "Black",
           "dash": "dash",
           "width": 1
          },
          "type": "line",
          "x0": 0,
          "x1": 0,
          "xref": "x9",
          "y0": -10,
          "y1": 10,
          "yref": "y9"
         },
         {
          "line": {
           "color": "Black",
           "dash": "dash",
           "width": 1
          },
          "type": "line",
          "x0": -10,
          "x1": 10,
          "xref": "x9",
          "y0": 0,
          "y1": 0,
          "yref": "y9"
         },
         {
          "line": {
           "color": "Black",
           "dash": "dash",
           "width": 1
          },
          "type": "line",
          "x0": 0,
          "x1": 0,
          "xref": "x10",
          "y0": -10,
          "y1": 10,
          "yref": "y10"
         },
         {
          "line": {
           "color": "Black",
           "dash": "dash",
           "width": 1
          },
          "type": "line",
          "x0": -10,
          "x1": 10,
          "xref": "x10",
          "y0": 0,
          "y1": 0,
          "yref": "y10"
         }
        ],
        "showlegend": false,
        "template": {
         "data": {
          "bar": [
           {
            "error_x": {
             "color": "#2a3f5f"
            },
            "error_y": {
             "color": "#2a3f5f"
            },
            "marker": {
             "line": {
              "color": "#E5ECF6",
              "width": 0.5
             },
             "pattern": {
              "fillmode": "overlay",
              "size": 10,
              "solidity": 0.2
             }
            },
            "type": "bar"
           }
          ],
          "barpolar": [
           {
            "marker": {
             "line": {
              "color": "#E5ECF6",
              "width": 0.5
             },
             "pattern": {
              "fillmode": "overlay",
              "size": 10,
              "solidity": 0.2
             }
            },
            "type": "barpolar"
           }
          ],
          "carpet": [
           {
            "aaxis": {
             "endlinecolor": "#2a3f5f",
             "gridcolor": "white",
             "linecolor": "white",
             "minorgridcolor": "white",
             "startlinecolor": "#2a3f5f"
            },
            "baxis": {
             "endlinecolor": "#2a3f5f",
             "gridcolor": "white",
             "linecolor": "white",
             "minorgridcolor": "white",
             "startlinecolor": "#2a3f5f"
            },
            "type": "carpet"
           }
          ],
          "choropleth": [
           {
            "colorbar": {
             "outlinewidth": 0,
             "ticks": ""
            },
            "type": "choropleth"
           }
          ],
          "contour": [
           {
            "colorbar": {
             "outlinewidth": 0,
             "ticks": ""
            },
            "colorscale": [
             [
              0,
              "#0d0887"
             ],
             [
              0.1111111111111111,
              "#46039f"
             ],
             [
              0.2222222222222222,
              "#7201a8"
             ],
             [
              0.3333333333333333,
              "#9c179e"
             ],
             [
              0.4444444444444444,
              "#bd3786"
             ],
             [
              0.5555555555555556,
              "#d8576b"
             ],
             [
              0.6666666666666666,
              "#ed7953"
             ],
             [
              0.7777777777777778,
              "#fb9f3a"
             ],
             [
              0.8888888888888888,
              "#fdca26"
             ],
             [
              1,
              "#f0f921"
             ]
            ],
            "type": "contour"
           }
          ],
          "contourcarpet": [
           {
            "colorbar": {
             "outlinewidth": 0,
             "ticks": ""
            },
            "type": "contourcarpet"
           }
          ],
          "heatmap": [
           {
            "colorbar": {
             "outlinewidth": 0,
             "ticks": ""
            },
            "colorscale": [
             [
              0,
              "#0d0887"
             ],
             [
              0.1111111111111111,
              "#46039f"
             ],
             [
              0.2222222222222222,
              "#7201a8"
             ],
             [
              0.3333333333333333,
              "#9c179e"
             ],
             [
              0.4444444444444444,
              "#bd3786"
             ],
             [
              0.5555555555555556,
              "#d8576b"
             ],
             [
              0.6666666666666666,
              "#ed7953"
             ],
             [
              0.7777777777777778,
              "#fb9f3a"
             ],
             [
              0.8888888888888888,
              "#fdca26"
             ],
             [
              1,
              "#f0f921"
             ]
            ],
            "type": "heatmap"
           }
          ],
          "histogram": [
           {
            "marker": {
             "pattern": {
              "fillmode": "overlay",
              "size": 10,
              "solidity": 0.2
             }
            },
            "type": "histogram"
           }
          ],
          "histogram2d": [
           {
            "colorbar": {
             "outlinewidth": 0,
             "ticks": ""
            },
            "colorscale": [
             [
              0,
              "#0d0887"
             ],
             [
              0.1111111111111111,
              "#46039f"
             ],
             [
              0.2222222222222222,
              "#7201a8"
             ],
             [
              0.3333333333333333,
              "#9c179e"
             ],
             [
              0.4444444444444444,
              "#bd3786"
             ],
             [
              0.5555555555555556,
              "#d8576b"
             ],
             [
              0.6666666666666666,
              "#ed7953"
             ],
             [
              0.7777777777777778,
              "#fb9f3a"
             ],
             [
              0.8888888888888888,
              "#fdca26"
             ],
             [
              1,
              "#f0f921"
             ]
            ],
            "type": "histogram2d"
           }
          ],
          "histogram2dcontour": [
           {
            "colorbar": {
             "outlinewidth": 0,
             "ticks": ""
            },
            "colorscale": [
             [
              0,
              "#0d0887"
             ],
             [
              0.1111111111111111,
              "#46039f"
             ],
             [
              0.2222222222222222,
              "#7201a8"
             ],
             [
              0.3333333333333333,
              "#9c179e"
             ],
             [
              0.4444444444444444,
              "#bd3786"
             ],
             [
              0.5555555555555556,
              "#d8576b"
             ],
             [
              0.6666666666666666,
              "#ed7953"
             ],
             [
              0.7777777777777778,
              "#fb9f3a"
             ],
             [
              0.8888888888888888,
              "#fdca26"
             ],
             [
              1,
              "#f0f921"
             ]
            ],
            "type": "histogram2dcontour"
           }
          ],
          "mesh3d": [
           {
            "colorbar": {
             "outlinewidth": 0,
             "ticks": ""
            },
            "type": "mesh3d"
           }
          ],
          "parcoords": [
           {
            "line": {
             "colorbar": {
              "outlinewidth": 0,
              "ticks": ""
             }
            },
            "type": "parcoords"
           }
          ],
          "pie": [
           {
            "automargin": true,
            "type": "pie"
           }
          ],
          "scatter": [
           {
            "fillpattern": {
             "fillmode": "overlay",
             "size": 10,
             "solidity": 0.2
            },
            "type": "scatter"
           }
          ],
          "scatter3d": [
           {
            "line": {
             "colorbar": {
              "outlinewidth": 0,
              "ticks": ""
             }
            },
            "marker": {
             "colorbar": {
              "outlinewidth": 0,
              "ticks": ""
             }
            },
            "type": "scatter3d"
           }
          ],
          "scattercarpet": [
           {
            "marker": {
             "colorbar": {
              "outlinewidth": 0,
              "ticks": ""
             }
            },
            "type": "scattercarpet"
           }
          ],
          "scattergeo": [
           {
            "marker": {
             "colorbar": {
              "outlinewidth": 0,
              "ticks": ""
             }
            },
            "type": "scattergeo"
           }
          ],
          "scattergl": [
           {
            "marker": {
             "colorbar": {
              "outlinewidth": 0,
              "ticks": ""
             }
            },
            "type": "scattergl"
           }
          ],
          "scattermap": [
           {
            "marker": {
             "colorbar": {
              "outlinewidth": 0,
              "ticks": ""
             }
            },
            "type": "scattermap"
           }
          ],
          "scattermapbox": [
           {
            "marker": {
             "colorbar": {
              "outlinewidth": 0,
              "ticks": ""
             }
            },
            "type": "scattermapbox"
           }
          ],
          "scatterpolar": [
           {
            "marker": {
             "colorbar": {
              "outlinewidth": 0,
              "ticks": ""
             }
            },
            "type": "scatterpolar"
           }
          ],
          "scatterpolargl": [
           {
            "marker": {
             "colorbar": {
              "outlinewidth": 0,
              "ticks": ""
             }
            },
            "type": "scatterpolargl"
           }
          ],
          "scatterternary": [
           {
            "marker": {
             "colorbar": {
              "outlinewidth": 0,
              "ticks": ""
             }
            },
            "type": "scatterternary"
           }
          ],
          "surface": [
           {
            "colorbar": {
             "outlinewidth": 0,
             "ticks": ""
            },
            "colorscale": [
             [
              0,
              "#0d0887"
             ],
             [
              0.1111111111111111,
              "#46039f"
             ],
             [
              0.2222222222222222,
              "#7201a8"
             ],
             [
              0.3333333333333333,
              "#9c179e"
             ],
             [
              0.4444444444444444,
              "#bd3786"
             ],
             [
              0.5555555555555556,
              "#d8576b"
             ],
             [
              0.6666666666666666,
              "#ed7953"
             ],
             [
              0.7777777777777778,
              "#fb9f3a"
             ],
             [
              0.8888888888888888,
              "#fdca26"
             ],
             [
              1,
              "#f0f921"
             ]
            ],
            "type": "surface"
           }
          ],
          "table": [
           {
            "cells": {
             "fill": {
              "color": "#EBF0F8"
             },
             "line": {
              "color": "white"
             }
            },
            "header": {
             "fill": {
              "color": "#C8D4E3"
             },
             "line": {
              "color": "white"
             }
            },
            "type": "table"
           }
          ]
         },
         "layout": {
          "annotationdefaults": {
           "arrowcolor": "#2a3f5f",
           "arrowhead": 0,
           "arrowwidth": 1
          },
          "autotypenumbers": "strict",
          "coloraxis": {
           "colorbar": {
            "outlinewidth": 0,
            "ticks": ""
           }
          },
          "colorscale": {
           "diverging": [
            [
             0,
             "#8e0152"
            ],
            [
             0.1,
             "#c51b7d"
            ],
            [
             0.2,
             "#de77ae"
            ],
            [
             0.3,
             "#f1b6da"
            ],
            [
             0.4,
             "#fde0ef"
            ],
            [
             0.5,
             "#f7f7f7"
            ],
            [
             0.6,
             "#e6f5d0"
            ],
            [
             0.7,
             "#b8e186"
            ],
            [
             0.8,
             "#7fbc41"
            ],
            [
             0.9,
             "#4d9221"
            ],
            [
             1,
             "#276419"
            ]
           ],
           "sequential": [
            [
             0,
             "#0d0887"
            ],
            [
             0.1111111111111111,
             "#46039f"
            ],
            [
             0.2222222222222222,
             "#7201a8"
            ],
            [
             0.3333333333333333,
             "#9c179e"
            ],
            [
             0.4444444444444444,
             "#bd3786"
            ],
            [
             0.5555555555555556,
             "#d8576b"
            ],
            [
             0.6666666666666666,
             "#ed7953"
            ],
            [
             0.7777777777777778,
             "#fb9f3a"
            ],
            [
             0.8888888888888888,
             "#fdca26"
            ],
            [
             1,
             "#f0f921"
            ]
           ],
           "sequentialminus": [
            [
             0,
             "#0d0887"
            ],
            [
             0.1111111111111111,
             "#46039f"
            ],
            [
             0.2222222222222222,
             "#7201a8"
            ],
            [
             0.3333333333333333,
             "#9c179e"
            ],
            [
             0.4444444444444444,
             "#bd3786"
            ],
            [
             0.5555555555555556,
             "#d8576b"
            ],
            [
             0.6666666666666666,
             "#ed7953"
            ],
            [
             0.7777777777777778,
             "#fb9f3a"
            ],
            [
             0.8888888888888888,
             "#fdca26"
            ],
            [
             1,
             "#f0f921"
            ]
           ]
          },
          "colorway": [
           "#636efa",
           "#EF553B",
           "#00cc96",
           "#ab63fa",
           "#FFA15A",
           "#19d3f3",
           "#FF6692",
           "#B6E880",
           "#FF97FF",
           "#FECB52"
          ],
          "font": {
           "color": "#2a3f5f"
          },
          "geo": {
           "bgcolor": "white",
           "lakecolor": "white",
           "landcolor": "#E5ECF6",
           "showlakes": true,
           "showland": true,
           "subunitcolor": "white"
          },
          "hoverlabel": {
           "align": "left"
          },
          "hovermode": "closest",
          "mapbox": {
           "style": "light"
          },
          "paper_bgcolor": "white",
          "plot_bgcolor": "#E5ECF6",
          "polar": {
           "angularaxis": {
            "gridcolor": "white",
            "linecolor": "white",
            "ticks": ""
           },
           "bgcolor": "#E5ECF6",
           "radialaxis": {
            "gridcolor": "white",
            "linecolor": "white",
            "ticks": ""
           }
          },
          "scene": {
           "xaxis": {
            "backgroundcolor": "#E5ECF6",
            "gridcolor": "white",
            "gridwidth": 2,
            "linecolor": "white",
            "showbackground": true,
            "ticks": "",
            "zerolinecolor": "white"
           },
           "yaxis": {
            "backgroundcolor": "#E5ECF6",
            "gridcolor": "white",
            "gridwidth": 2,
            "linecolor": "white",
            "showbackground": true,
            "ticks": "",
            "zerolinecolor": "white"
           },
           "zaxis": {
            "backgroundcolor": "#E5ECF6",
            "gridcolor": "white",
            "gridwidth": 2,
            "linecolor": "white",
            "showbackground": true,
            "ticks": "",
            "zerolinecolor": "white"
           }
          },
          "shapedefaults": {
           "line": {
            "color": "#2a3f5f"
           }
          },
          "ternary": {
           "aaxis": {
            "gridcolor": "white",
            "linecolor": "white",
            "ticks": ""
           },
           "baxis": {
            "gridcolor": "white",
            "linecolor": "white",
            "ticks": ""
           },
           "bgcolor": "#E5ECF6",
           "caxis": {
            "gridcolor": "white",
            "linecolor": "white",
            "ticks": ""
           }
          },
          "title": {
           "x": 0.05
          },
          "xaxis": {
           "automargin": true,
           "gridcolor": "white",
           "linecolor": "white",
           "ticks": "",
           "title": {
            "standoff": 15
           },
           "zerolinecolor": "white",
           "zerolinewidth": 2
          },
          "yaxis": {
           "automargin": true,
           "gridcolor": "white",
           "linecolor": "white",
           "ticks": "",
           "title": {
            "standoff": 15
           },
           "zerolinecolor": "white",
           "zerolinewidth": 2
          }
         }
        },
        "width": 800,
        "xaxis": {
         "anchor": "y",
         "domain": [
          0,
          0.45
         ],
         "gridcolor": "LightGrey",
         "gridwidth": 1,
         "range": [
          -15,
          15
         ],
         "showgrid": true,
         "title": {
          "text": "X1"
         }
        },
        "xaxis10": {
         "anchor": "y10",
         "domain": [
          0.55,
          1
         ],
         "gridcolor": "LightGrey",
         "gridwidth": 1,
         "range": [
          -15,
          15
         ],
         "showgrid": true,
         "title": {
          "text": "X1"
         }
        },
        "xaxis2": {
         "anchor": "y2",
         "domain": [
          0.55,
          1
         ],
         "gridcolor": "LightGrey",
         "gridwidth": 1,
         "range": [
          -15,
          15
         ],
         "showgrid": true,
         "title": {
          "text": "X1"
         }
        },
        "xaxis3": {
         "anchor": "y3",
         "domain": [
          0,
          0.45
         ],
         "gridcolor": "LightGrey",
         "gridwidth": 1,
         "range": [
          -15,
          15
         ],
         "showgrid": true,
         "title": {
          "text": "X1"
         }
        },
        "xaxis4": {
         "anchor": "y4",
         "domain": [
          0.55,
          1
         ],
         "gridcolor": "LightGrey",
         "gridwidth": 1,
         "range": [
          -15,
          15
         ],
         "showgrid": true,
         "title": {
          "text": "X1"
         }
        },
        "xaxis5": {
         "anchor": "y5",
         "domain": [
          0,
          0.45
         ],
         "gridcolor": "LightGrey",
         "gridwidth": 1,
         "range": [
          -15,
          15
         ],
         "showgrid": true,
         "title": {
          "text": "X1"
         }
        },
        "xaxis6": {
         "anchor": "y6",
         "domain": [
          0.55,
          1
         ],
         "gridcolor": "LightGrey",
         "gridwidth": 1,
         "range": [
          -15,
          15
         ],
         "showgrid": true,
         "title": {
          "text": "X1"
         }
        },
        "xaxis7": {
         "anchor": "y7",
         "domain": [
          0,
          0.45
         ],
         "gridcolor": "LightGrey",
         "gridwidth": 1,
         "range": [
          -15,
          15
         ],
         "showgrid": true,
         "title": {
          "text": "X1"
         }
        },
        "xaxis8": {
         "anchor": "y8",
         "domain": [
          0.55,
          1
         ],
         "gridcolor": "LightGrey",
         "gridwidth": 1,
         "range": [
          -15,
          15
         ],
         "showgrid": true,
         "title": {
          "text": "X1"
         }
        },
        "xaxis9": {
         "anchor": "y9",
         "domain": [
          0,
          0.45
         ],
         "gridcolor": "LightGrey",
         "gridwidth": 1,
         "range": [
          -15,
          15
         ],
         "showgrid": true,
         "title": {
          "text": "X1"
         }
        },
        "yaxis": {
         "anchor": "x",
         "domain": [
          0.848,
          1
         ],
         "gridcolor": "LightGrey",
         "gridwidth": 1,
         "range": [
          -15,
          15
         ],
         "showgrid": true,
         "title": {
          "text": "X2"
         }
        },
        "yaxis10": {
         "anchor": "x10",
         "domain": [
          0,
          0.152
         ],
         "gridcolor": "LightGrey",
         "gridwidth": 1,
         "range": [
          -15,
          15
         ],
         "showgrid": true,
         "title": {
          "text": "X2"
         }
        },
        "yaxis2": {
         "anchor": "x2",
         "domain": [
          0.848,
          1
         ],
         "gridcolor": "LightGrey",
         "gridwidth": 1,
         "range": [
          -15,
          15
         ],
         "showgrid": true,
         "title": {
          "text": "X2"
         }
        },
        "yaxis3": {
         "anchor": "x3",
         "domain": [
          0.6359999999999999,
          0.7879999999999999
         ],
         "gridcolor": "LightGrey",
         "gridwidth": 1,
         "range": [
          -15,
          15
         ],
         "showgrid": true,
         "title": {
          "text": "X2"
         }
        },
        "yaxis4": {
         "anchor": "x4",
         "domain": [
          0.6359999999999999,
          0.7879999999999999
         ],
         "gridcolor": "LightGrey",
         "gridwidth": 1,
         "range": [
          -15,
          15
         ],
         "showgrid": true,
         "title": {
          "text": "X2"
         }
        },
        "yaxis5": {
         "anchor": "x5",
         "domain": [
          0.424,
          0.576
         ],
         "gridcolor": "LightGrey",
         "gridwidth": 1,
         "range": [
          -15,
          15
         ],
         "showgrid": true,
         "title": {
          "text": "X2"
         }
        },
        "yaxis6": {
         "anchor": "x6",
         "domain": [
          0.424,
          0.576
         ],
         "gridcolor": "LightGrey",
         "gridwidth": 1,
         "range": [
          -15,
          15
         ],
         "showgrid": true,
         "title": {
          "text": "X2"
         }
        },
        "yaxis7": {
         "anchor": "x7",
         "domain": [
          0.212,
          0.364
         ],
         "gridcolor": "LightGrey",
         "gridwidth": 1,
         "range": [
          -15,
          15
         ],
         "showgrid": true,
         "title": {
          "text": "X2"
         }
        },
        "yaxis8": {
         "anchor": "x8",
         "domain": [
          0.212,
          0.364
         ],
         "gridcolor": "LightGrey",
         "gridwidth": 1,
         "range": [
          -15,
          15
         ],
         "showgrid": true,
         "title": {
          "text": "X2"
         }
        },
        "yaxis9": {
         "anchor": "x9",
         "domain": [
          0,
          0.152
         ],
         "gridcolor": "LightGrey",
         "gridwidth": 1,
         "range": [
          -15,
          15
         ],
         "showgrid": true,
         "title": {
          "text": "X2"
         }
        }
       }
      }
     },
     "metadata": {},
     "output_type": "display_data"
    }
   ],
   "source": [
    "K = [1, 2, 3, 4, 5, 6, 7, 8, 9, 10]\n",
    "fig = make_subplots(rows=5, cols=2)\n",
    "sse = []\n",
    "\n",
    "for k in K:\n",
    "    kmeans = KMeans(n_clusters=k, random_state=1505)\n",
    "    y_clusters = kmeans.fit_predict(X)\n",
    "    centers = kmeans.cluster_centers_\n",
    "    plot_data(fig,X, y_clusters, clusters=k, kmean_centers=centers, row=(K.index(k) // 2) + 1, col=(K.index(k) % 2) + 1)\n",
    "    sse.append(kmeans.inertia_)\n",
    "# Changing the size of the figs\n",
    "fig.update_layout(height=2000, width=800)\n",
    "\n",
    "fig.show()"
   ]
  },
  {
   "cell_type": "code",
   "execution_count": 41,
   "id": "5daca2a2",
   "metadata": {},
   "outputs": [
    {
     "data": {
      "application/vnd.plotly.v1+json": {
       "config": {
        "plotlyServerURL": "https://plot.ly"
       },
       "data": [
        {
         "hovertemplate": "K=%{x}<br>SSE=%{y:.2f}<extra></extra>",
         "line": {
          "color": "royalblue",
          "width": 2
         },
         "marker": {
          "color": "royalblue",
          "size": 8
         },
         "mode": "lines+markers",
         "name": "SSE",
         "type": "scatter",
         "x": [
          1,
          2,
          3,
          4,
          5,
          6,
          7,
          8,
          9,
          10
         ],
         "y": [
          15957.780172555948,
          3624.402471729424,
          854.880805510016,
          5.917718018378549,
          5.454830959800807,
          5.025592459793785,
          4.514301650660604,
          3.991124681112507,
          3.669199913105364,
          3.2419645608350427
         ]
        }
       ],
       "layout": {
        "height": 500,
        "hovermode": "x",
        "showlegend": false,
        "template": {
         "data": {
          "bar": [
           {
            "error_x": {
             "color": "#2a3f5f"
            },
            "error_y": {
             "color": "#2a3f5f"
            },
            "marker": {
             "line": {
              "color": "white",
              "width": 0.5
             },
             "pattern": {
              "fillmode": "overlay",
              "size": 10,
              "solidity": 0.2
             }
            },
            "type": "bar"
           }
          ],
          "barpolar": [
           {
            "marker": {
             "line": {
              "color": "white",
              "width": 0.5
             },
             "pattern": {
              "fillmode": "overlay",
              "size": 10,
              "solidity": 0.2
             }
            },
            "type": "barpolar"
           }
          ],
          "carpet": [
           {
            "aaxis": {
             "endlinecolor": "#2a3f5f",
             "gridcolor": "#C8D4E3",
             "linecolor": "#C8D4E3",
             "minorgridcolor": "#C8D4E3",
             "startlinecolor": "#2a3f5f"
            },
            "baxis": {
             "endlinecolor": "#2a3f5f",
             "gridcolor": "#C8D4E3",
             "linecolor": "#C8D4E3",
             "minorgridcolor": "#C8D4E3",
             "startlinecolor": "#2a3f5f"
            },
            "type": "carpet"
           }
          ],
          "choropleth": [
           {
            "colorbar": {
             "outlinewidth": 0,
             "ticks": ""
            },
            "type": "choropleth"
           }
          ],
          "contour": [
           {
            "colorbar": {
             "outlinewidth": 0,
             "ticks": ""
            },
            "colorscale": [
             [
              0,
              "#0d0887"
             ],
             [
              0.1111111111111111,
              "#46039f"
             ],
             [
              0.2222222222222222,
              "#7201a8"
             ],
             [
              0.3333333333333333,
              "#9c179e"
             ],
             [
              0.4444444444444444,
              "#bd3786"
             ],
             [
              0.5555555555555556,
              "#d8576b"
             ],
             [
              0.6666666666666666,
              "#ed7953"
             ],
             [
              0.7777777777777778,
              "#fb9f3a"
             ],
             [
              0.8888888888888888,
              "#fdca26"
             ],
             [
              1,
              "#f0f921"
             ]
            ],
            "type": "contour"
           }
          ],
          "contourcarpet": [
           {
            "colorbar": {
             "outlinewidth": 0,
             "ticks": ""
            },
            "type": "contourcarpet"
           }
          ],
          "heatmap": [
           {
            "colorbar": {
             "outlinewidth": 0,
             "ticks": ""
            },
            "colorscale": [
             [
              0,
              "#0d0887"
             ],
             [
              0.1111111111111111,
              "#46039f"
             ],
             [
              0.2222222222222222,
              "#7201a8"
             ],
             [
              0.3333333333333333,
              "#9c179e"
             ],
             [
              0.4444444444444444,
              "#bd3786"
             ],
             [
              0.5555555555555556,
              "#d8576b"
             ],
             [
              0.6666666666666666,
              "#ed7953"
             ],
             [
              0.7777777777777778,
              "#fb9f3a"
             ],
             [
              0.8888888888888888,
              "#fdca26"
             ],
             [
              1,
              "#f0f921"
             ]
            ],
            "type": "heatmap"
           }
          ],
          "histogram": [
           {
            "marker": {
             "pattern": {
              "fillmode": "overlay",
              "size": 10,
              "solidity": 0.2
             }
            },
            "type": "histogram"
           }
          ],
          "histogram2d": [
           {
            "colorbar": {
             "outlinewidth": 0,
             "ticks": ""
            },
            "colorscale": [
             [
              0,
              "#0d0887"
             ],
             [
              0.1111111111111111,
              "#46039f"
             ],
             [
              0.2222222222222222,
              "#7201a8"
             ],
             [
              0.3333333333333333,
              "#9c179e"
             ],
             [
              0.4444444444444444,
              "#bd3786"
             ],
             [
              0.5555555555555556,
              "#d8576b"
             ],
             [
              0.6666666666666666,
              "#ed7953"
             ],
             [
              0.7777777777777778,
              "#fb9f3a"
             ],
             [
              0.8888888888888888,
              "#fdca26"
             ],
             [
              1,
              "#f0f921"
             ]
            ],
            "type": "histogram2d"
           }
          ],
          "histogram2dcontour": [
           {
            "colorbar": {
             "outlinewidth": 0,
             "ticks": ""
            },
            "colorscale": [
             [
              0,
              "#0d0887"
             ],
             [
              0.1111111111111111,
              "#46039f"
             ],
             [
              0.2222222222222222,
              "#7201a8"
             ],
             [
              0.3333333333333333,
              "#9c179e"
             ],
             [
              0.4444444444444444,
              "#bd3786"
             ],
             [
              0.5555555555555556,
              "#d8576b"
             ],
             [
              0.6666666666666666,
              "#ed7953"
             ],
             [
              0.7777777777777778,
              "#fb9f3a"
             ],
             [
              0.8888888888888888,
              "#fdca26"
             ],
             [
              1,
              "#f0f921"
             ]
            ],
            "type": "histogram2dcontour"
           }
          ],
          "mesh3d": [
           {
            "colorbar": {
             "outlinewidth": 0,
             "ticks": ""
            },
            "type": "mesh3d"
           }
          ],
          "parcoords": [
           {
            "line": {
             "colorbar": {
              "outlinewidth": 0,
              "ticks": ""
             }
            },
            "type": "parcoords"
           }
          ],
          "pie": [
           {
            "automargin": true,
            "type": "pie"
           }
          ],
          "scatter": [
           {
            "fillpattern": {
             "fillmode": "overlay",
             "size": 10,
             "solidity": 0.2
            },
            "type": "scatter"
           }
          ],
          "scatter3d": [
           {
            "line": {
             "colorbar": {
              "outlinewidth": 0,
              "ticks": ""
             }
            },
            "marker": {
             "colorbar": {
              "outlinewidth": 0,
              "ticks": ""
             }
            },
            "type": "scatter3d"
           }
          ],
          "scattercarpet": [
           {
            "marker": {
             "colorbar": {
              "outlinewidth": 0,
              "ticks": ""
             }
            },
            "type": "scattercarpet"
           }
          ],
          "scattergeo": [
           {
            "marker": {
             "colorbar": {
              "outlinewidth": 0,
              "ticks": ""
             }
            },
            "type": "scattergeo"
           }
          ],
          "scattergl": [
           {
            "marker": {
             "colorbar": {
              "outlinewidth": 0,
              "ticks": ""
             }
            },
            "type": "scattergl"
           }
          ],
          "scattermap": [
           {
            "marker": {
             "colorbar": {
              "outlinewidth": 0,
              "ticks": ""
             }
            },
            "type": "scattermap"
           }
          ],
          "scattermapbox": [
           {
            "marker": {
             "colorbar": {
              "outlinewidth": 0,
              "ticks": ""
             }
            },
            "type": "scattermapbox"
           }
          ],
          "scatterpolar": [
           {
            "marker": {
             "colorbar": {
              "outlinewidth": 0,
              "ticks": ""
             }
            },
            "type": "scatterpolar"
           }
          ],
          "scatterpolargl": [
           {
            "marker": {
             "colorbar": {
              "outlinewidth": 0,
              "ticks": ""
             }
            },
            "type": "scatterpolargl"
           }
          ],
          "scatterternary": [
           {
            "marker": {
             "colorbar": {
              "outlinewidth": 0,
              "ticks": ""
             }
            },
            "type": "scatterternary"
           }
          ],
          "surface": [
           {
            "colorbar": {
             "outlinewidth": 0,
             "ticks": ""
            },
            "colorscale": [
             [
              0,
              "#0d0887"
             ],
             [
              0.1111111111111111,
              "#46039f"
             ],
             [
              0.2222222222222222,
              "#7201a8"
             ],
             [
              0.3333333333333333,
              "#9c179e"
             ],
             [
              0.4444444444444444,
              "#bd3786"
             ],
             [
              0.5555555555555556,
              "#d8576b"
             ],
             [
              0.6666666666666666,
              "#ed7953"
             ],
             [
              0.7777777777777778,
              "#fb9f3a"
             ],
             [
              0.8888888888888888,
              "#fdca26"
             ],
             [
              1,
              "#f0f921"
             ]
            ],
            "type": "surface"
           }
          ],
          "table": [
           {
            "cells": {
             "fill": {
              "color": "#EBF0F8"
             },
             "line": {
              "color": "white"
             }
            },
            "header": {
             "fill": {
              "color": "#C8D4E3"
             },
             "line": {
              "color": "white"
             }
            },
            "type": "table"
           }
          ]
         },
         "layout": {
          "annotationdefaults": {
           "arrowcolor": "#2a3f5f",
           "arrowhead": 0,
           "arrowwidth": 1
          },
          "autotypenumbers": "strict",
          "coloraxis": {
           "colorbar": {
            "outlinewidth": 0,
            "ticks": ""
           }
          },
          "colorscale": {
           "diverging": [
            [
             0,
             "#8e0152"
            ],
            [
             0.1,
             "#c51b7d"
            ],
            [
             0.2,
             "#de77ae"
            ],
            [
             0.3,
             "#f1b6da"
            ],
            [
             0.4,
             "#fde0ef"
            ],
            [
             0.5,
             "#f7f7f7"
            ],
            [
             0.6,
             "#e6f5d0"
            ],
            [
             0.7,
             "#b8e186"
            ],
            [
             0.8,
             "#7fbc41"
            ],
            [
             0.9,
             "#4d9221"
            ],
            [
             1,
             "#276419"
            ]
           ],
           "sequential": [
            [
             0,
             "#0d0887"
            ],
            [
             0.1111111111111111,
             "#46039f"
            ],
            [
             0.2222222222222222,
             "#7201a8"
            ],
            [
             0.3333333333333333,
             "#9c179e"
            ],
            [
             0.4444444444444444,
             "#bd3786"
            ],
            [
             0.5555555555555556,
             "#d8576b"
            ],
            [
             0.6666666666666666,
             "#ed7953"
            ],
            [
             0.7777777777777778,
             "#fb9f3a"
            ],
            [
             0.8888888888888888,
             "#fdca26"
            ],
            [
             1,
             "#f0f921"
            ]
           ],
           "sequentialminus": [
            [
             0,
             "#0d0887"
            ],
            [
             0.1111111111111111,
             "#46039f"
            ],
            [
             0.2222222222222222,
             "#7201a8"
            ],
            [
             0.3333333333333333,
             "#9c179e"
            ],
            [
             0.4444444444444444,
             "#bd3786"
            ],
            [
             0.5555555555555556,
             "#d8576b"
            ],
            [
             0.6666666666666666,
             "#ed7953"
            ],
            [
             0.7777777777777778,
             "#fb9f3a"
            ],
            [
             0.8888888888888888,
             "#fdca26"
            ],
            [
             1,
             "#f0f921"
            ]
           ]
          },
          "colorway": [
           "#636efa",
           "#EF553B",
           "#00cc96",
           "#ab63fa",
           "#FFA15A",
           "#19d3f3",
           "#FF6692",
           "#B6E880",
           "#FF97FF",
           "#FECB52"
          ],
          "font": {
           "color": "#2a3f5f"
          },
          "geo": {
           "bgcolor": "white",
           "lakecolor": "white",
           "landcolor": "white",
           "showlakes": true,
           "showland": true,
           "subunitcolor": "#C8D4E3"
          },
          "hoverlabel": {
           "align": "left"
          },
          "hovermode": "closest",
          "mapbox": {
           "style": "light"
          },
          "paper_bgcolor": "white",
          "plot_bgcolor": "white",
          "polar": {
           "angularaxis": {
            "gridcolor": "#EBF0F8",
            "linecolor": "#EBF0F8",
            "ticks": ""
           },
           "bgcolor": "white",
           "radialaxis": {
            "gridcolor": "#EBF0F8",
            "linecolor": "#EBF0F8",
            "ticks": ""
           }
          },
          "scene": {
           "xaxis": {
            "backgroundcolor": "white",
            "gridcolor": "#DFE8F3",
            "gridwidth": 2,
            "linecolor": "#EBF0F8",
            "showbackground": true,
            "ticks": "",
            "zerolinecolor": "#EBF0F8"
           },
           "yaxis": {
            "backgroundcolor": "white",
            "gridcolor": "#DFE8F3",
            "gridwidth": 2,
            "linecolor": "#EBF0F8",
            "showbackground": true,
            "ticks": "",
            "zerolinecolor": "#EBF0F8"
           },
           "zaxis": {
            "backgroundcolor": "white",
            "gridcolor": "#DFE8F3",
            "gridwidth": 2,
            "linecolor": "#EBF0F8",
            "showbackground": true,
            "ticks": "",
            "zerolinecolor": "#EBF0F8"
           }
          },
          "shapedefaults": {
           "line": {
            "color": "#2a3f5f"
           }
          },
          "ternary": {
           "aaxis": {
            "gridcolor": "#DFE8F3",
            "linecolor": "#A2B1C6",
            "ticks": ""
           },
           "baxis": {
            "gridcolor": "#DFE8F3",
            "linecolor": "#A2B1C6",
            "ticks": ""
           },
           "bgcolor": "white",
           "caxis": {
            "gridcolor": "#DFE8F3",
            "linecolor": "#A2B1C6",
            "ticks": ""
           }
          },
          "title": {
           "x": 0.05
          },
          "xaxis": {
           "automargin": true,
           "gridcolor": "#EBF0F8",
           "linecolor": "#EBF0F8",
           "ticks": "",
           "title": {
            "standoff": 15
           },
           "zerolinecolor": "#EBF0F8",
           "zerolinewidth": 2
          },
          "yaxis": {
           "automargin": true,
           "gridcolor": "#EBF0F8",
           "linecolor": "#EBF0F8",
           "ticks": "",
           "title": {
            "standoff": 15
           },
           "zerolinecolor": "#EBF0F8",
           "zerolinewidth": 2
          }
         }
        },
        "title": {
         "text": "Elbow Method For Optimal K",
         "x": 0.5
        },
        "width": 500,
        "xaxis": {
         "dtick": 1,
         "gridcolor": "lightgray",
         "gridwidth": 1,
         "showgrid": true,
         "tick0": 1,
         "tickmode": "linear",
         "title": {
          "text": "Number of Clusters (K)"
         }
        },
        "yaxis": {
         "gridcolor": "lightgray",
         "gridwidth": 1,
         "showgrid": true,
         "title": {
          "text": "Sum of Squared Errors (SSE)"
         }
        }
       }
      }
     },
     "metadata": {},
     "output_type": "display_data"
    }
   ],
   "source": [
    "plot_elbow_method(sse, K)\n"
   ]
  },
  {
   "cell_type": "markdown",
   "id": "5ed3e943",
   "metadata": {},
   "source": [
    "### Repeat the process with std = 2.5 "
   ]
  },
  {
   "cell_type": "code",
   "execution_count": 42,
   "id": "9340112b",
   "metadata": {},
   "outputs": [
    {
     "name": "stdout",
     "output_type": "stream",
     "text": [
      "X shape:  (300, 2)\n",
      "y shape:  (300,)\n"
     ]
    },
    {
     "data": {
      "application/vnd.plotly.v1+json": {
       "config": {
        "plotlyServerURL": "https://plot.ly"
       },
       "data": [
        {
         "marker": {
          "line": {
           "color": "white",
           "width": 1
          },
          "opacity": 0.7,
          "size": 8
         },
         "mode": "markers",
         "name": "Cluster 0",
         "type": "scatter",
         "x": {
          "bdata": "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",
          "dtype": "f8"
         },
         "xaxis": "x",
         "y": {
          "bdata": "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",
          "dtype": "f8"
         },
         "yaxis": "y"
        },
        {
         "marker": {
          "line": {
           "color": "white",
           "width": 1
          },
          "opacity": 0.7,
          "size": 8
         },
         "mode": "markers",
         "name": "Cluster 1",
         "type": "scatter",
         "x": [],
         "xaxis": "x",
         "y": [],
         "yaxis": "y"
        },
        {
         "marker": {
          "line": {
           "color": "white",
           "width": 1
          },
          "opacity": 0.7,
          "size": 12
         },
         "mode": "markers",
         "name": "Centers",
         "type": "scatter",
         "x": {
          "bdata": "ffZc1r1//D8=",
          "dtype": "f8"
         },
         "xaxis": "x",
         "y": {
          "bdata": "DsvVl2Xaxz8=",
          "dtype": "f8"
         },
         "yaxis": "y"
        },
        {
         "marker": {
          "line": {
           "color": "white",
           "width": 1
          },
          "opacity": 0.7,
          "size": 8
         },
         "mode": "markers",
         "name": "Cluster 0",
         "type": "scatter",
         "x": {
          "bdata": "2AmmZ/7oE0BZtnvxTcLyv3qHuBrZIRRAaiaxNKny/T9sIPlS9tgcQBiCFsjRGhdA36UYnVf2JUC8+NV+5zoYQAyxGW8gJBpAgMlD2TmxjL8ywdlsDwcQQHLob3La2BRA9XOLz691FEBYsxDHU/MeQKedqWFtQRlArNTPRNK/F0DBBO7EJHwTQI9eUNrENiRAEAWdzMCfIUB9xmKE8xQiQK2sDOgCZRdAGjGnBMGQH0AD/vQw4Pv6v4j97ppLsyVAUl5oaSx2FECmW0DtYXMUQL6ORgdPziNA4IMyteWS8z9Ct0TMh/cjQGJjapQrGQBA2RiG08UoGUDK6IxEsZUfQMYPCgbrWBlAOoStC6Vq5z/7pyD/2WUgQD325H0jCiBAwmmquTYeCUBSfnbP9WYWQBsWnuvPcCBAuIN+nfC/EEByFFqBWO8eQIRBWOfMgilAH5B3gUiiF0Cas9YiZUXDv9o0nn4BtB5AjcQbxIUGIUDP7k3wl+wVQK+trEDRd/U/aYmmxClSFsAQ7Pzzi5UkQGqWIR0V/iVAfhUZj2dpGECqgKlvIrofQClxA4h7nBpAEocEMTS6IUBudJAwuvgnQG5XY0GXlB9AEubFxzWJGECiyZ7Zr+0eQKHPVxAYgCVAN40p8th3GEC6jEbJ82gjQA5AFQP3aRVA4APJA8pIGUBuj3JT8W7qP7RD6vlbRL8/JwnuzMIdHUD5iEoLJFEVQM1wtDELYyJAmgmh8+qsJEAP8NhjRVoiQIsEChdpVSNAEHScui45GUAjP7BhuFYcQKAzCoMAiiFAYc98pFoUAkD0t0Uz+U4dQNhrnqROmCJAYxS0G2gj5D+hZwlOGYITQL5ygKgd3BhAkqRQ3ATWIEDhUk2An2vmP8bjtZfbnSFA/noAVBlcHkAtWeagXeseQDRcjfThLSJASGWw5LdlJkA5xUMUrM0jQOA6zNcihRtA1xG4BgrO0T8=",
          "dtype": "f8"
         },
         "xaxis": "x2",
         "y": {
          "bdata": "hf3IV0PlIUAQeTLVSzYUQE8WqEh69SxAfq5TyktbIUCl+h7x4CckQIHo+jggDBpATZN1PRdHJUAbuFW+G/skQGtQFoW2eitAItjYuR29EkBcLRaI5MYfQK8ABcXbYiRAbWnUlcITIEDRdJ5sRe8iQGh9yMdAFCVAl/3kEz3TJkBgO5BDyzEgQAVnwVRfFCpApb4CsGvJIkAxpmc/kkIXQN40BfQe2yFAaIputXAoIkCr2tEKubUaQEBleSarpBhAU5AuLzCpJkC6tU28VtYdQIxvQDgovipAn56vz+VfD0C4PX+Kq6ESQPvtyd1BJQ9AQvZE09LLIED43pHQreQgQC23S4P27ilAhtKuIGF2E0DgrlylCQ0bQIk4LWl07BpAiCBpZ00vE0DS+itSSHgnQIIthwjlsCtANUqA2CQtIUDLnnHnG0kkQFe7CTplxCFAFy3dN5JbI0Aw6hFov/gcQFpKQYUtYiZASz7cKe2FJkAo4nEIzt0jQECbilsk6CNAfvZGqJz4H0DH4amIjgUiQITWXJxa8ClAiivjgwscF0BrhjMYpOknQM5XHo2gLCRAsV5p0YdFLECOY4xKBvgmQIfJQvboKiVA2rDIGWGHJEAUrHgBGwsgQP9H50bx0iJARF+NYyoJH0ALnvP/G7slQFSSAlBeQf4/3iHbMhFBIUB2GP4LDiYPQLBy8uKNZRJAWdX/i26yHEAL71r//FwpQEc/2OzCTCZASgNDNsbwKUD0ecl4N5glQINj0k8yfyVACBF9IyUqF0Ac5xXaqQIkQJOlITXnICRACdpTE3KaCkAgvU7tcq4uQL1vSmC5URRAzhk/CKvDGkBeJkP1ImwcQPIw6g2MAB5AH+1Yrb70IUBAI1iaIaMUQFrYWCitoShAJ3BC7e4TI0DYtxp0lHIlQKKjaXdgVCBA34WsfwhfI0AG8jLLcTwrQIADhgd4HiRA839Zyuv5EEA=",
          "dtype": "f8"
         },
         "yaxis": "y2"
        },
        {
         "marker": {
          "line": {
           "color": "white",
           "width": 1
          },
          "opacity": 0.7,
          "size": 8
         },
         "mode": "markers",
         "name": "Cluster 1",
         "type": "scatter",
         "x": {
          "bdata": "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",
          "dtype": "f8"
         },
         "xaxis": "x2",
         "y": {
          "bdata": "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",
          "dtype": "f8"
         },
         "yaxis": "y2"
        },
        {
         "marker": {
          "line": {
           "color": "white",
           "width": 1
          },
          "opacity": 0.7,
          "size": 8
         },
         "mode": "markers",
         "name": "Cluster 2",
         "type": "scatter",
         "x": [],
         "xaxis": "x2",
         "y": [],
         "yaxis": "y2"
        },
        {
         "marker": {
          "line": {
           "color": "white",
           "width": 1
          },
          "opacity": 0.7,
          "size": 12
         },
         "mode": "markers",
         "name": "Centers",
         "type": "scatter",
         "x": {
          "bdata": "OvILqFQaGUCwPDuwTn/Gvw==",
          "dtype": "f8"
         },
         "xaxis": "x2",
         "y": {
          "bdata": "BxfMMVHxIUCWlW6FBRwNwA==",
          "dtype": "f8"
         },
         "yaxis": "y2"
        },
        {
         "marker": {
          "line": {
           "color": "white",
           "width": 1
          },
          "opacity": 0.7,
          "size": 8
         },
         "mode": "markers",
         "name": "Cluster 0",
         "type": "scatter",
         "x": {
          "bdata": "2C9SzUiRBMBZtnvxTcLyvyIlcxTK2AlAZn2aK1ieAcDXcr1a9Mb0v+Sfc/AsVeE/cyKDh4qgFcAdYpQe7bz0v4DJQ9k5sYy//kTfiSx+BEAhexqLr/Dkv/0H8gBCBB1AWgOHf1gdDMDgtgYDtu4gwFEUuA8f2Oa/khsY9kBJ4j9YJFCTYIYAQAP+9DDg+/q/86E9F76G+r/ItfiovJ3Cv8dgXN6R8ve/inT9gB2jGMAcYzY9j/oIwEga++Xn0g3A2L3xYj3vGcBzCuxEPgERQOCDMrXlkvM/hYiBrLVSAcDiJy1gtrkNwGJjapQrGQBArFb3eSwJBEAixLu1v0MAwHSBeYz6zxlAbRwumic7BMAxIF4TqXMPwPwwU+obBOS/lUuVhchCDkA6hK0LpWrnP4GZLk6d+hPAFh8ulG4a/r94fsgKU+sEwMJpqrk2HglAsRGKpskVEcBG8Esl/okAwJqz1iJlRcO/wgx8/FlM9z8qZjCU2+QXwGmJpsQpUhbAy3SLvMQn+r9waWvD73XhPynZgnoKHQnA1CZdvIVpC8D98hzR2pfYP4equLmkAhXAT0Ecc5AB/D/5eDjVnen9v+N/PAL57xPARZmQz6UI9b9MezLJ9DrCv4C7FQXjKPy/wEohh6Hdrb8OQBUD92kVQB5pSjwwSQ7Abo9yU/Fu6j+0Q+r5W0S/PwDodt/YUrg/CNINWFH19L9CQaqU1qH6v/UApOai6w3AlgEc2jBp3L8PLX95cmTxPxBHOc/NHAXAfYsl4Mbf8z/SoNGoWRT7P84gHppVFQtAYJ3nmhoF4z9hz3ykWhQCQF4ogmmxD9M/YxS0G2gj5D9Z28zJxFP7v1jA15PUagVANGSwM33r9T/hUk2An2vmP10BpQIKiAJAEe25i5IkBMBzH1DdUSD3PzAslYV31pe/fw7t0rJR/D+Q+4jjZ4ARwNC8wOxcDgjA1xG4BgrO0T+1Vl98hooPwJGO4Wi4tei/",
          "dtype": "f8"
         },
         "xaxis": "x3",
         "y": {
          "bdata": "w0AbI1Pp978QeTLVSzYUQESMd4rkguy/z+X+alK1C0AuhEN0hEbkv6SBhgwDUvq/WhUDYIuiA0DKJu8ub3z3vyLY2LkdvRJANqHIayUe0D82VOQD4A3iP5I0qFGZTOS/SLl/P6su4T/PiGclAHH8P7SvX1LQ+NY/+LhEBF8z9j+dGh6C2K77v6va0Qq5tRpANGG0NDfq4b99UDrbP7oJQLRfvZFfRQLAslBspTSzAMAipHpgDFgQQHGI1kcIcwLAX82lrK8HFUCAOSVTMubIv5+er8/lXw9A2G3tSMka7z/RQAw2a/v3P/vtyd1BJQ9AFL8huGaz8T84jMUKSa3/v5MnSIqGhfS/HLZQ42Uh6r8McRvkSOoGQDZJseFapxFAgaAWJUx+6r+G0q4gYXYTQO54sdVpoQJA80mwAceM8T+/SglrOR0CwIggaWdNLxNAuMIsX252E0Cev5AOHnkCwDDqEWi/+BxAwIev3n7FnD/ZVhZw6eP/P372Rqic+B9Aj7nWl18cDEDvQoG1IJPmv2DjsJAYGpu/jfBI3Ez8+j/kDWychnS+P4nHCSfmhec/lpau3GHP8b921UGZOzv3v7hknZxMmAVAlVx9PuOQEUCe3WUAYNzDv+gKkUmh2/4/guJd2OxoxL9UkgJQXkH+P0K0HdyqdOI/dhj+Cw4mD0CwcvLijWUSQMjCiKHj2vm/HVrB2h1B/z+SxAawcpz3P0dweX6J+/A/iNXiqZ6A2b8y461qqlX+v8DTz0UZEM4/pdcAc2Xt/T+Ji/F4Tyzyv0v4qV6CZOm/8k6TCw6DC0AJ2lMTcpoKQJtj0eVloOc/zhk/CKvDGkDTllqigKr5P/0yqlMVu+A/JKfEISdJ+j9AI1iaIaMUQFCrafB4mP2/g58dxe/C6r9cdckXK1HUv9wFg8fL0AtAwF6zh/EUAkC4b79sKpjZP4IBojoPoMO/839Zyuv5EEAUMBwh3wsEwB6qWlYeHvi/",
          "dtype": "f8"
         },
         "yaxis": "y3"
        },
        {
         "marker": {
          "line": {
           "color": "white",
           "width": 1
          },
          "opacity": 0.7,
          "size": 8
         },
         "mode": "markers",
         "name": "Cluster 1",
         "type": "scatter",
         "x": {
          "bdata": "TqdptWLK1b8xLglno88FwMKYnQuJJADAuv8Twv/ZB0CwtsIDtSz0PyIgF6CzhxrA0jne5BVb7z/d9koY/eMPQDA/dOaAmQHAp669PC0n9T+RDBkfJT0TQIwsaD+mXBrAte7Ps3754L/+fal8Q8vgP8E60kNZhA7AhWE0knixEsDwsDAZSs0YQORGFaJbEfI/ItCFopF6D0BbFLUdEVITQI9kgiG2SPo/myW7SSitE0C9x3qrpe7av4wGOVImzAHA2qIs1ESWyr/EaF3VEoPUv/mBIuTOmdo/Aq7Jpg/xE8CM8w9H2ZoUQD5fL6Homd6/I4qQX9jx9j+iwNVhAOH6v1qf2rwsG/2/RGSbRNaa4L8eK8v0gcXmP+AeHoO9C66/fe2FWZBgFkBmYc/5y2LYv8y8ax0QN/0/fU3Cvj6rCEAgsO7Zq4KPPxzK6nCLQxFAwvm2cgoNCsB+yhdvvtQTwGUhX5YrL/A/fDP8tKP/yb9DTE/3KV4OQCACb2ahxwNAjEO5Kf+jB0DOKlEm7YHLvy4g22J49AXA8FRtiZWy9r8qo3vwGkb8v1LBozuQ6RBABmjuqlfQ9D9wiJP1m4Tjv1CgyGzcnwlAGKPzLcRUB8AhP9PFRpTiP5KXlAl7hv0/Kt0SkHSMAMA2VkWwmQsIQFwRNd5a4RTAtDaVyoMuAsASusrjhgLKPzIYWu0oc/A/pyI7xScjB8CekCKg9h4TwCWbq8J/CQFAQiYJveftCEBOqorHf0P/P504B+MlkQFAx75QuRt/EkDcFsi6ufy+v77fjz/5+vG/lokX708I2D9tgaHdjuAUQOJpyq4HRh5A4GYinJ6mvj8dcC2sGyMaQGQHMJbnfARAk8C27A26E8AHZ9LBGwP3P6cIFhYUlwXAcMzxOIjUEEBsbCliiU8BQLDbt4t7Lqi/s7rUHeIz8L+mU1BUuyUKwHU3nHXPftG/mzFa3LXm+79rtawzf+4RQMcKk2NxiwfAODXXjpLXEMCpgqHEXs/3vxG0bhN6XQXATWiYvP0YCsC8F+dpuEUKwAyW5iDanve/QVa/iZibJcCAbAoxcQcUwMiiPVfJVBhAWaEyeH6HCMDO/LhriMcMQKdMDs2O1RXAw9e64/cEA8D2sSCDzUAOQEwxCxoWYxJAyJfAO1gJFkDTsIFlndDyPzz9Z0abMv0/ipY0JYF6FUALj/VmjNzzPyMwaftXfgxAQHEr+FOFej/Aq2j/maQNwNgqUJ9Hses/ncvM+os9EkAZTEbDiZAhQHhrYZ/9tw9ADw5E0mk+BkCzc0mz5N4ZwIvRxXSWi/k/2GaPlGCx9b/uPYAGq50HQBiSylZGdwxAHAmOWjlq8D9wS1ehi97zv/AeF5P2N+U/Vw0jC/Ob/z/UkcY6X/L/vyn70pe+rw3A",
          "dtype": "f8"
         },
         "xaxis": "x3",
         "y": {
          "bdata": "4ciy2dIPGMCQEPnIEgMfwDjvorxXzQ/Avv1cuwrTEcDCCFi2Gr4WwE64A5RychvAW9/XuUWUFcCJ3FiSQCwSwDXe9U+rMh3AFNWVPNkZE8BPt54YXsMPwIh+zDh4MBnAgveo1nLJIMAssRWNCgQiwMJp1LiMVxrAHH3NdB0IGsDLIiudxaAXwGqHKA6AZhvALb0Ymp+4HcDqeZHrkFkZwFVlgWsc/BHAljknWmriHMD09hXtJ3wNwAdChAx3RQ3AAT7AmTjMGsBUhDZLvyIgwC7FATGJ1QfAke+gyVmjHcAuZEyIyNclwK6Y3gFt/QbAVzU/E9u2HsBoSkbNWWYJwNlT8m4g0A3AiN+OAwNQFMBPcEwghRUcwFD/AfGBIBbAckMFttrx+L/bi58MJIgTwPLByHKWdQHAAFwu4OpjBMDwUoIrCukXwC/EDRvNCxjAx1euDDImJMAAh25Yr+ELwG3sCflkHhHAvlB82m7aEcArRuTgJ7wTwGpOa+pVJhTAdGWVq202F8AtBEg9N54nwJ4HKx91rBfAxnXhudtoHcDreHeygE0jwCWxqDEBYAvAalEmy7kXFsBc9ZMeow0hwJS88tlJ8CPATO4QRc9jFsDQjZz03r8hwILRV7NeEgnAbzo+MIyVF8B2vj8cwzYLwPBBIljUeBHAKOvpGabFJMCP1ycslZYZwPBkYwFFuBfAMI+N09w9FcA8GLWka8ofwFA+0lF6mhbAO+S6ES78D8COlyDlKtwWwJ4hqXkJuiLAHtg7HHmJEMC4AGGiI/wOwP0jnU7xNiHAwEU2wTK1AsCIqKwsF14SwECSqhIclhbAap5BOhXyHsCPi7Iis3QIwHNqP3nHMyDARuzT21w7JcAmrgH9ND4gwNUaMAHKHR3A4fhIyD8IBcDqSf0DF6kEwM6SPHgsPQTAej4bhRJEIsAHsN8t+VgSwD9Cz7e1LhXAcU6lZ4QKFsBt6NLWIaYGwFfoaT5AnBLA0fpXeoMmFsDlgFbkmcQgwJY5DvKa4hrA2S2bld3mHcByTkdqpq4ewIoXXBkp0xXAQpwXYfljH8AfsCJR1s4gwFmYfTG/VBrAF3vIo+gyFsC7eBcLpbAPwLX42iVagRPAA8Smz33KIMBegrXU2SUIwDvHOmvDmRbAMHutmezVCMDQCMQisbEhwLW+0qd8lgLAtvjzo9KCIMDxzT86RfcUwBazAcJMVxnAfHF991deIMBWzf/1svcbwNknbluqrAbAoRiSm5pjIMCYwmRKdJAYwE8fYVKNmBjA0cyG0FJCF8CgyUZnFt0kwAJ0zDmtcSTAgdCuA/ojGcDx3T/3/vgVwMMZ231KYRfAf2vWC71XIMCIpwMxEJ8jwLwxdkY8UR7APPnLWNzSGcBDyAyqtLAVwKlKbXeQihjA",
          "dtype": "f8"
         },
         "yaxis": "y3"
        },
        {
         "marker": {
          "line": {
           "color": "white",
           "width": 1
          },
          "opacity": 0.7,
          "size": 8
         },
         "mode": "markers",
         "name": "Cluster 2",
         "type": "scatter",
         "x": {
          "bdata": "2AmmZ/7oE0B6h7ga2SEUQGomsTSp8v0/bCD5UvbYHEAYghbI0RoXQN+lGJ1X9iVAvPjVfuc6GEAMsRlvICQaQDLB2WwPBxBAcuhvctrYFED1c4vPr3UUQFizEMdT8x5Ap52pYW1BGUCs1M9E0r8XQMEE7sQkfBNAj15Q2sQ2JEAQBZ3MwJ8hQH3GYoTzFCJArawM6AJlF0AaMacEwZAfQIj97ppLsyVAUl5oaSx2FECmW0DtYXMUQL6ORgdPziNAQrdEzIf3I0DZGIbTxSgZQMrojESxlR9Axg8KButYGUD7pyD/2WUgQD325H0jCiBAUn52z/VmFkAbFp7rz3AgQLiDfp3wvxBAchRagVjvHkCEQVjnzIIpQB+Qd4FIohdA2jSefgG0HkCNxBvEhQYhQM/uTfCX7BVAr62sQNF39T8Q7Pzzi5UkQGqWIR0V/iVAfhUZj2dpGECqgKlvIrofQClxA4h7nBpAEocEMTS6IUBudJAwuvgnQG5XY0GXlB9AEubFxzWJGECiyZ7Zr+0eQKHPVxAYgCVAN40p8th3GEC6jEbJ82gjQOADyQPKSBlAJwnuzMIdHUD5iEoLJFEVQM1wtDELYyJAmgmh8+qsJEAP8NhjRVoiQIsEChdpVSNAEHScui45GUAjP7BhuFYcQKAzCoMAiiFA9LdFM/lOHUDYa56kTpgiQKFnCU4ZghNAvnKAqB3cGECSpFDcBNYgQMbjtZfbnSFA/noAVBlcHkAtWeagXeseQDRcjfThLSJASGWw5LdlJkA5xUMUrM0jQOA6zNcihRtA",
          "dtype": "f8"
         },
         "xaxis": "x3",
         "y": {
          "bdata": "hf3IV0PlIUBPFqhIevUsQH6uU8pLWyFApfoe8eAnJECB6Po4IAwaQE2TdT0XRyVAG7hVvhv7JEBrUBaFtnorQFwtFojkxh9ArwAFxdtiJEBtadSVwhMgQNF0nmxF7yJAaH3Ix0AUJUCX/eQTPdMmQGA7kEPLMSBABWfBVF8UKkClvgKwa8kiQDGmZz+SQhdA3jQF9B7bIUBoim61cCgiQEBleSarpBhAU5AuLzCpJkC6tU28VtYdQIxvQDgovipAuD1/iquhEkBC9kTT0ssgQPjekdCt5CBALbdLg/buKUDgrlylCQ0bQIk4LWl07BpA0vorUkh4J0CCLYcI5bArQDVKgNgkLSFAy55x5xtJJEBXuwk6ZcQhQBct3TeSWyNAWkpBhS1iJkBLPtwp7YUmQCjicQjO3SNAQJuKWyToI0DH4amIjgUiQITWXJxa8ClAiivjgwscF0BrhjMYpOknQM5XHo2gLCRAsV5p0YdFLECOY4xKBvgmQIfJQvboKiVA2rDIGWGHJEAUrHgBGwsgQP9H50bx0iJARF+NYyoJH0ALnvP/G7slQN4h2zIRQSFAWdX/i26yHEAL71r//FwpQEc/2OzCTCZASgNDNsbwKUD0ecl4N5glQINj0k8yfyVACBF9IyUqF0Ac5xXaqQIkQJOlITXnICRAIL1O7XKuLkC9b0pguVEUQF4mQ/UibBxA8jDqDYwAHkAf7VitvvQhQFrYWCitoShAJ3BC7e4TI0DYtxp0lHIlQKKjaXdgVCBA34WsfwhfI0AG8jLLcTwrQIADhgd4HiRA",
          "dtype": "f8"
         },
         "yaxis": "y3"
        },
        {
         "marker": {
          "line": {
           "color": "white",
           "width": 1
          },
          "opacity": 0.7,
          "size": 8
         },
         "mode": "markers",
         "name": "Cluster 3",
         "type": "scatter",
         "x": [],
         "xaxis": "x3",
         "y": [],
         "yaxis": "y3"
        },
        {
         "marker": {
          "line": {
           "color": "white",
           "width": 1
          },
          "opacity": 0.7,
          "size": 12
         },
         "mode": "markers",
         "name": "Centers",
         "type": "scatter",
         "x": {
          "bdata": "zIV+6+ni6b/UShYgAN/WPyYfDvbc/h1A",
          "dtype": "f8"
         },
         "xaxis": "x3",
         "y": {
          "bdata": "3Xn6wz5C9D+W8EQpsDgYwHqGqyljqiNA",
          "dtype": "f8"
         },
         "yaxis": "y3"
        },
        {
         "marker": {
          "line": {
           "color": "white",
           "width": 1
          },
          "opacity": 0.7,
          "size": 8
         },
         "mode": "markers",
         "name": "Cluster 0",
         "type": "scatter",
         "x": {
          "bdata": "2C9SzUiRBMBZtnvxTcLyv2Z9mitYngHA13K9WvTG9L9zIoOHiqAVwB1ilB7tvPS/gMlD2TmxjL/+RN+JLH4EQCF7Gouv8OS/WgOHf1gdDMDgtgYDtu4gwFEUuA8f2Oa/khsY9kBJ4j8D/vQw4Pv6v/OhPRe+hvq/yLX4qLydwr/HYFzekfL3v4p0/YAdoxjAHGM2PY/6CMBIGvvl59INwNi98WI97xnA4IMyteWS8z+FiIGstVIBwOInLWC2uQ3AYmNqlCsZAECsVvd5LAkEQCLEu7W/QwDAbRwumic7BMAxIF4TqXMPwPwwU+obBOS/OoStC6Vq5z+BmS5OnfoTwBYfLpRuGv6/eH7IClPrBMDCaaq5Nh4JQLERiqbJFRHARvBLJf6JAMCas9YiZUXDv8IMfPxZTPc/KmYwlNvkF8BpiabEKVIWwMt0i7zEJ/q/cGlrw+914T8p2YJ6Ch0JwNQmXbyFaQvA/fIc0dqX2D+Hqri5pAIVwPl4ONWd6f2/4388AvnvE8BFmZDPpQj1v0x7Msn0OsK/gLsVBeMo/L/ASiGHod2tvx5pSjwwSQ7Abo9yU/Fu6j+0Q+r5W0S/PwDodt/YUrg/CNINWFH19L9CQaqU1qH6v/UApOai6w3AlgEc2jBp3L8QRznPzRwFwH2LJeDG3/M/YJ3nmhoF4z9hz3ykWhQCQF4ogmmxD9M/YxS0G2gj5D9Z28zJxFP7v1jA15PUagVANGSwM33r9T/hUk2An2vmPxHtuYuSJATAcx9Q3VEg9z8wLJWFd9aXv38O7dKyUfw/kPuI42eAEcDQvMDsXA4IwNcRuAYKztE/tVZffIaKD8CRjuFouLXovw==",
          "dtype": "f8"
         },
         "xaxis": "x4",
         "y": {
          "bdata": "w0AbI1Pp978QeTLVSzYUQM/l/mpStQtALoRDdIRG5L9aFQNgi6IDQMom7y5vfPe/ItjYuR29EkA2ochrJR7QPzZU5APgDeI/SLl/P6su4T/PiGclAHH8P7SvX1LQ+NY/+LhEBF8z9j+r2tEKubUaQDRhtDQ36uG/fVA62z+6CUC0X72RX0UCwLJQbKU0swDAIqR6YAxYEEBxiNZHCHMCwF/NpayvBxVAn56vz+VfD0DYbe1IyRrvP9FADDZr+/c/++3J3UElD0AUvyG4ZrPxPziMxQpJrf+/HLZQ42Uh6r8McRvkSOoGQDZJseFapxFAhtKuIGF2E0DueLHVaaECQPNJsAHHjPE/v0oJazkdAsCIIGlnTS8TQLjCLF9udhNAnr+QDh55AsAw6hFov/gcQMCHr95+xZw/2VYWcOnj/z9+9kaonPgfQI+51pdfHAxA70KBtSCT5r9g47CQGBqbv43wSNxM/Po/5A1snIZ0vj+Jxwkn5oXnP3bVQZk7O/e/uGSdnEyYBUCVXH0+45ARQJ7dZQBg3MO/6AqRSaHb/j+C4l3Y7GjEv0K0HdyqdOI/dhj+Cw4mD0CwcvLijWUSQMjCiKHj2vm/HVrB2h1B/z+SxAawcpz3P0dweX6J+/A/iNXiqZ6A2b/A089FGRDOP6XXAHNl7f0/8k6TCw6DC0AJ2lMTcpoKQJtj0eVloOc/zhk/CKvDGkDTllqigKr5P/0yqlMVu+A/JKfEISdJ+j9AI1iaIaMUQIOfHcXvwuq/XHXJFytR1L/cBYPHy9ALQMBes4fxFAJAuG+/bCqY2T+CAaI6D6DDv/N/Wcrr+RBAFDAcId8LBMAeqlpWHh74vw==",
          "dtype": "f8"
         },
         "yaxis": "y4"
        },
        {
         "marker": {
          "line": {
           "color": "white",
           "width": 1
          },
          "opacity": 0.7,
          "size": 8
         },
         "mode": "markers",
         "name": "Cluster 1",
         "type": "scatter",
         "x": {
          "bdata": "TqdptWLK1b8xLglno88FwMKYnQuJJADAIiAXoLOHGsAwP3TmgJkBwIwsaD+mXBrAte7Ps3754L/+fal8Q8vgP8E60kNZhA7AhWE0knixEsDkRhWiWxHyP73Hequl7tq/jAY5UibMAcDaoizURJbKv8RoXdUSg9S/Aq7Jpg/xE8AjipBf2PH2P6LA1WEA4fq/Wp/avCwb/b9EZJtE1prgvx4ry/SBxeY/4B4eg70Lrr9mYc/5y2LYvyCw7tmrgo8/wvm2cgoNCsB+yhdvvtQTwHwz/LSj/8m/zipRJu2By78uINtiePQFwPBUbYmVsva/KqN78BpG/L9wiJP1m4Tjvxij8y3EVAfAIT/TxUaU4j8q3RKQdIwAwFwRNd5a4RTAtDaVyoMuAsASusrjhgLKP6ciO8UnIwfAnpAioPYeE8CdOAfjJZEBQL7fjz/5+vG/4GYinJ6mvj+TwLbsDboTwAdn0sEbA/c/pwgWFhSXBcCzutQd4jPwv6ZTUFS7JQrAdTecdc9+0b+bMVrcteb7v8cKk2NxiwfAODXXjpLXEMCpgqHEXs/3vxG0bhN6XQXATWiYvP0YCsC8F+dpuEUKwAyW5iDanve/QVa/iZibJcCAbAoxcQcUwFmhMnh+hwjAp0wOzY7VFcDD17rj9wQDwNOwgWWd0PI/QHEr+FOFej/Aq2j/maQNwLNzSbPk3hnAi9HFdJaL+T/YZo+UYLH1vxwJjlo5avA/cEtXoYve87/wHheT9jflP9SRxjpf8v+/KfvSl76vDcA=",
          "dtype": "f8"
         },
         "xaxis": "x4",
         "y": {
          "bdata": "4ciy2dIPGMCQEPnIEgMfwDjvorxXzQ/ATrgDlHJyG8A13vVPqzIdwIh+zDh4MBnAgveo1nLJIMAssRWNCgQiwMJp1LiMVxrAHH3NdB0IGsBqhygOgGYbwPT2Fe0nfA3AB0KEDHdFDcABPsCZOMwawFSENku/IiDAke+gyVmjHcBXNT8T27YewGhKRs1ZZgnA2VPybiDQDcCI344DA1AUwE9wTCCFFRzAUP8B8YEgFsDbi58MJIgTwPBSgisK6RfAx1euDDImJMAAh25Yr+ELwL5QfNpu2hHALQRIPTeeJ8CeBysfdawXwMZ14bnbaB3A63h3soBNI8Bc9ZMeow0hwEzuEEXPYxbA0I2c9N6/IcBvOj4wjJUXwPBBIljUeBHAKOvpGabFJMCP1ycslZYZwDCPjdPcPRXAPBi1pGvKH8CeIal5CboiwP0jnU7xNiHAap5BOhXyHsBG7NPbXDslwCauAf00PiDA1RowAcodHcB6PhuFEkQiwAew3y35WBLAP0LPt7UuFcBxTqVnhAoWwFfoaT5AnBLA0fpXeoMmFsDlgFbkmcQgwJY5DvKa4hrA2S2bld3mHcByTkdqpq4ewIoXXBkp0xXAQpwXYfljH8AfsCJR1s4gwBd7yKPoMhbAtfjaJVqBE8ADxKbPfcogwNAIxCKxsSHAfHF991deIMBWzf/1svcbwKDJRmcW3STAAnTMOa1xJMCB0K4D+iMZwH9r1gu9VyDAiKcDMRCfI8C8MXZGPFEewEPIDKq0sBXAqUptd5CKGMA=",
          "dtype": "f8"
         },
         "yaxis": "y4"
        },
        {
         "marker": {
          "line": {
           "color": "white",
           "width": 1
          },
          "opacity": 0.7,
          "size": 8
         },
         "mode": "markers",
         "name": "Cluster 2",
         "type": "scatter",
         "x": {
          "bdata": "2AmmZ/7oE0B6h7ga2SEUQGomsTSp8v0/bCD5UvbYHEAYghbI0RoXQN+lGJ1X9iVAvPjVfuc6GEAMsRlvICQaQDLB2WwPBxBAcuhvctrYFED1c4vPr3UUQFizEMdT8x5Ap52pYW1BGUCs1M9E0r8XQMEE7sQkfBNAj15Q2sQ2JEAQBZ3MwJ8hQH3GYoTzFCJArawM6AJlF0AaMacEwZAfQIj97ppLsyVAUl5oaSx2FECmW0DtYXMUQL6ORgdPziNAQrdEzIf3I0DZGIbTxSgZQMrojESxlR9Axg8KButYGUD7pyD/2WUgQD325H0jCiBAUn52z/VmFkAbFp7rz3AgQLiDfp3wvxBAchRagVjvHkCEQVjnzIIpQB+Qd4FIohdA2jSefgG0HkCNxBvEhQYhQM/uTfCX7BVAr62sQNF39T8Q7Pzzi5UkQGqWIR0V/iVAfhUZj2dpGECqgKlvIrofQClxA4h7nBpAEocEMTS6IUBudJAwuvgnQG5XY0GXlB9AEubFxzWJGECiyZ7Zr+0eQKHPVxAYgCVAN40p8th3GEC6jEbJ82gjQOADyQPKSBlAJwnuzMIdHUD5iEoLJFEVQM1wtDELYyJAmgmh8+qsJEAP8NhjRVoiQIsEChdpVSNAEHScui45GUAjP7BhuFYcQKAzCoMAiiFA9LdFM/lOHUDYa56kTpgiQKFnCU4ZghNAvnKAqB3cGECSpFDcBNYgQMbjtZfbnSFA/noAVBlcHkAtWeagXeseQDRcjfThLSJASGWw5LdlJkA5xUMUrM0jQOA6zNcihRtA",
          "dtype": "f8"
         },
         "xaxis": "x4",
         "y": {
          "bdata": "hf3IV0PlIUBPFqhIevUsQH6uU8pLWyFApfoe8eAnJECB6Po4IAwaQE2TdT0XRyVAG7hVvhv7JEBrUBaFtnorQFwtFojkxh9ArwAFxdtiJEBtadSVwhMgQNF0nmxF7yJAaH3Ix0AUJUCX/eQTPdMmQGA7kEPLMSBABWfBVF8UKkClvgKwa8kiQDGmZz+SQhdA3jQF9B7bIUBoim61cCgiQEBleSarpBhAU5AuLzCpJkC6tU28VtYdQIxvQDgovipAuD1/iquhEkBC9kTT0ssgQPjekdCt5CBALbdLg/buKUDgrlylCQ0bQIk4LWl07BpA0vorUkh4J0CCLYcI5bArQDVKgNgkLSFAy55x5xtJJEBXuwk6ZcQhQBct3TeSWyNAWkpBhS1iJkBLPtwp7YUmQCjicQjO3SNAQJuKWyToI0DH4amIjgUiQITWXJxa8ClAiivjgwscF0BrhjMYpOknQM5XHo2gLCRAsV5p0YdFLECOY4xKBvgmQIfJQvboKiVA2rDIGWGHJEAUrHgBGwsgQP9H50bx0iJARF+NYyoJH0ALnvP/G7slQN4h2zIRQSFAWdX/i26yHEAL71r//FwpQEc/2OzCTCZASgNDNsbwKUD0ecl4N5glQINj0k8yfyVACBF9IyUqF0Ac5xXaqQIkQJOlITXnICRAIL1O7XKuLkC9b0pguVEUQF4mQ/UibBxA8jDqDYwAHkAf7VitvvQhQFrYWCitoShAJ3BC7e4TI0DYtxp0lHIlQKKjaXdgVCBA34WsfwhfI0AG8jLLcTwrQIADhgd4HiRA",
          "dtype": "f8"
         },
         "yaxis": "y4"
        },
        {
         "marker": {
          "line": {
           "color": "white",
           "width": 1
          },
          "opacity": 0.7,
          "size": 8
         },
         "mode": "markers",
         "name": "Cluster 3",
         "type": "scatter",
         "x": {
          "bdata": "uv8Twv/ZB0AiJXMUytgJQLC2wgO1LPQ/0jne5BVb7z/d9koY/eMPQKeuvTwtJ/U/kQwZHyU9E0Dkn3PwLFXhP/CwMBlKzRhAItCFopF6D0BbFLUdEVITQI9kgiG2SPo/myW7SSitE0D5gSLkzpnaP4zzD0fZmhRAPl8voeiZ3r/9B/IAQgQdQH3thVmQYBZAWCRQk2CGAEDMvGsdEDf9P31Nwr4+qwhAHMrqcItDEUBlIV+WKy/wP3MK7EQ+ARFAQ0xP9yleDkAgAm9moccDQIxDuSn/owdAUsGjO5DpEEAGaO6qV9D0P3SBeYz6zxlAlUuVhchCDkBQoMhs3J8JQJKXlAl7hv0/NlZFsJkLCEAyGFrtKHPwPyWbq8J/CQFAQiYJveftCEBOqorHf0P/P8e+ULkbfxJA3BbIurn8vr+WiRfvTwjYP22Bod2O4BRAT0Ecc5AB/D/iacquB0YeQA5AFQP3aRVAHXAtrBsjGkBkBzCW53wEQHDM8TiI1BBAbGwpYolPAUCw27eLey6ov2u1rDN/7hFADy1/eXJk8T/SoNGoWRT7P84gHppVFQtAyKI9V8lUGEDO/LhriMcMQPaxIIPNQA5ATDELGhZjEkDIl8A7WAkWQDz9Z0abMv0/ipY0JYF6FUALj/VmjNzzPyMwaftXfgxA2CpQn0ex6z+dy8z6iz0SQBlMRsOJkCFAeGthn/23D0APDkTSaT4GQF0BpQIKiAJA7j2ABqudB0AYkspWRncMQFcNIwvzm/8/",
          "dtype": "f8"
         },
         "xaxis": "x4",
         "y": {
          "bdata": "vv1cuwrTEcBEjHeK5ILsv8IIWLYavhbAW9/XuUWUFcCJ3FiSQCwSwBTVlTzZGRPAT7eeGF7DD8CkgYYMA1L6v8siK53FoBfALb0Ymp+4HcDqeZHrkFkZwFVlgWsc/BHAljknWmriHMAuxQExidUHwC5kTIjI1yXArpjeAW39BsCSNKhRmUzkv3JDBbba8fi/nRoegtiu+7/ywchylnUBwABcLuDqYwTAL8QNG80LGMBt7An5ZB4RwIA5JVMy5si/K0bk4Ce8E8BqTmvqVSYUwHRllattNhfAJbGoMQFgC8BqUSbLuRcWwJMnSIqGhfS/gaAWJUx+6r+UvPLZSfAjwILRV7NeEgnAdr4/HMM2C8DwZGMBRbgXwFA+0lF6mhbAO+S6ES78D8COlyDlKtwWwB7YOxx5iRDAuABhoiP8DsDARTbBMrUCwIiorCwXXhLAlpau3GHP8b9AkqoSHJYWwFSSAlBeQf4/j4uyIrN0CMBzaj95xzMgwOH4SMg/CAXA6kn9AxepBMDOkjx4LD0EwG3o0tYhpgbAMuOtaqpV/r+Ji/F4Tyzyv0v4qV6CZOm/WZh9Mb9UGsC7eBcLpbAPwF6CtdTZJQjAO8c6a8OZFsAwe62Z7NUIwLW+0qd8lgLAtvjzo9KCIMDxzT86RfcUwBazAcJMVxnA2SduW6qsBsChGJKbmmMgwJjCZEp0kBjATx9hUo2YGMDRzIbQUkIXwFCrafB4mP2/8d0/9/74FcDDGdt9SmEXwDz5y1jc0hnA",
          "dtype": "f8"
         },
         "yaxis": "y4"
        },
        {
         "marker": {
          "line": {
           "color": "white",
           "width": 1
          },
          "opacity": 0.7,
          "size": 8
         },
         "mode": "markers",
         "name": "Cluster 4",
         "type": "scatter",
         "x": [],
         "xaxis": "x4",
         "y": [],
         "yaxis": "y4"
        },
        {
         "marker": {
          "line": {
           "color": "white",
           "width": 1
          },
          "opacity": 0.7,
          "size": 12
         },
         "mode": "markers",
         "name": "Centers",
         "type": "scatter",
         "x": {
          "bdata": "VilgKumt979Q4iOAT5z/vyYfDvbc/h1A+KRd/+gPCkA=",
          "dtype": "f8"
         },
         "xaxis": "x4",
         "y": {
          "bdata": "JUNGbav4+T8K5G/j9eobwHqGqyljqiNAgiJbAtXFEMA=",
          "dtype": "f8"
         },
         "yaxis": "y4"
        },
        {
         "marker": {
          "line": {
           "color": "white",
           "width": 1
          },
          "opacity": 0.7,
          "size": 8
         },
         "mode": "markers",
         "name": "Cluster 0",
         "type": "scatter",
         "x": {
          "bdata": "2C9SzUiRBMBZtnvxTcLyv2Z9mitYngHA13K9WvTG9L9zIoOHiqAVwB1ilB7tvPS/gMlD2TmxjL8hexqLr/Dkv1oDh39YHQzA4LYGA7buIMBRFLgPH9jmv5IbGPZASeI/A/70MOD7+r/zoT0Xvob6v8i1+Ki8ncK/HGM2PY/6CMDYvfFiPe8ZwOCDMrXlkvM/hYiBrLVSAcDiJy1gtrkNwGJjapQrGQBArFb3eSwJBEBtHC6aJzsEwDEgXhOpcw/A/DBT6hsE5L86hK0LpWrnP4GZLk6d+hPAFh8ulG4a/r/Caaq5Nh4JQLERiqbJFRHAmrPWImVFw7/CDHz8WUz3PypmMJTb5BfAaYmmxClSFsDLdIu8xCf6v3Bpa8PvdeE/KdmCegodCcDUJl28hWkLwP3yHNHal9g/h6q4uaQCFcD5eDjVnen9v+N/PAL57xPARZmQz6UI9b9MezLJ9DrCv4C7FQXjKPy/wEohh6Hdrb8eaUo8MEkOwG6PclPxbuo/tEPq+VtEvz8I0g1YUfX0v0JBqpTWofq/9QCk5qLrDcCWARzaMGncvxBHOc/NHAXAfYsl4Mbf8z9gneeaGgXjP2HPfKRaFAJAXiiCabEP0z9jFLQbaCPkP1nbzMnEU/u/NGSwM33r9T/hUk2An2vmPxHtuYuSJATAMCyVhXfWl79/Du3SslH8P5D7iONngBHA0LzA7FwOCMDXEbgGCs7RP5GO4Wi4tei/",
          "dtype": "f8"
         },
         "xaxis": "x5",
         "y": {
          "bdata": "w0AbI1Pp978QeTLVSzYUQM/l/mpStQtALoRDdIRG5L9aFQNgi6IDQMom7y5vfPe/ItjYuR29EkA2VOQD4A3iP0i5fz+rLuE/z4hnJQBx/D+0r19S0PjWP/i4RARfM/Y/q9rRCrm1GkA0YbQ0N+rhv31QOts/uglAIqR6YAxYEEBfzaWsrwcVQJ+er8/lXw9A2G3tSMka7z/RQAw2a/v3P/vtyd1BJQ9AFL8huGaz8T8ctlDjZSHqvwxxG+RI6gZANkmx4VqnEUCG0q4gYXYTQO54sdVpoQJA80mwAceM8T+IIGlnTS8TQLjCLF9udhNAMOoRaL/4HEDAh6/efsWcP9lWFnDp4/8/fvZGqJz4H0CPudaXXxwMQO9CgbUgk+a/YOOwkBgam7+N8EjcTPz6P+QNbJyGdL4/iccJJ+aF5z921UGZOzv3v7hknZxMmAVAlVx9PuOQEUCe3WUAYNzDv+gKkUmh2/4/guJd2OxoxL9CtB3cqnTiP3YY/gsOJg9AsHLy4o1lEkAdWsHaHUH/P5LEBrBynPc/R3B5fon78D+I1eKpnoDZv8DTz0UZEM4/pdcAc2Xt/T/yTpMLDoMLQAnaUxNymgpAm2PR5WWg5z/OGT8Iq8MaQNOWWqKAqvk/JKfEISdJ+j9AI1iaIaMUQIOfHcXvwuq/3AWDx8vQC0DAXrOH8RQCQLhvv2wqmNk/ggGiOg+gw7/zf1nK6/kQQB6qWlYeHvi/",
          "dtype": "f8"
         },
         "yaxis": "y5"
        },
        {
         "marker": {
          "line": {
           "color": "white",
           "width": 1
          },
          "opacity": 0.7,
          "size": 8
         },
         "mode": "markers",
         "name": "Cluster 1",
         "type": "scatter",
         "x": {
          "bdata": "TqdptWLK1b+wtsIDtSz0P9I53uQVW+8/te7Ps3754L/+fal8Q8vgP+RGFaJbEfI/ItCFopF6D0DaoizURJbKv8RoXdUSg9S/jPMPR9maFEAjipBf2PH2Px4ry/SBxeY/4B4eg70Lrr8gsO7Zq4KPP8L5tnIKDQrAzipRJu2By7/wVG2JlbL2vyqje/AaRvy/BmjuqlfQ9D9wiJP1m4Tjv1CgyGzcnwlAIT/TxUaU4j+0NpXKgy4CwBK6yuOGAso/Mhha7Shz8D9OqorHf0P/P504B+MlkQFAvt+PP/n68b/gZiKcnqa+P2QHMJbnfARAB2fSwRsD9z+zutQd4jPwv3U3nHXPftG/qYKhxF7P97/D17rj9wQDwNOwgWWd0PI/ipY0JYF6FUALj/VmjNzzP0BxK/hThXo/ncvM+os9EkCL0cV0lov5PxwJjlo5avA/cEtXoYve87/wHheT9jflP1cNIwvzm/8/",
          "dtype": "f8"
         },
         "xaxis": "x5",
         "y": {
          "bdata": "4ciy2dIPGMDCCFi2Gr4WwFvf17lFlBXAgveo1nLJIMAssRWNCgQiwGqHKA6AZhvALb0Ymp+4HcABPsCZOMwawFSENku/IiDALmRMiMjXJcBXNT8T27YewE9wTCCFFRzAUP8B8YEgFsDwUoIrCukXwMdXrgwyJiTALQRIPTeeJ8DGdeG522gdwOt4d7KATSPAalEmy7kXFsBc9ZMeow0hwJS88tlJ8CPA0I2c9N6/IcAo6+kZpsUkwI/XJyyVlhnA8GRjAUW4F8COlyDlKtwWwJ4hqXkJuiLA/SOdTvE2IcBqnkE6FfIewHNqP3nHMyDAJq4B/TQ+IMB6PhuFEkQiwD9Cz7e1LhXA5YBW5JnEIMADxKbPfcogwNAIxCKxsSHAtvjzo9KCIMDxzT86RfcUwHxxffdXXiDAoRiSm5pjIMACdMw5rXEkwH9r1gu9VyDAiKcDMRCfI8C8MXZGPFEewDz5y1jc0hnA",
          "dtype": "f8"
         },
         "yaxis": "y5"
        },
        {
         "marker": {
          "line": {
           "color": "white",
           "width": 1
          },
          "opacity": 0.7,
          "size": 8
         },
         "mode": "markers",
         "name": "Cluster 2",
         "type": "scatter",
         "x": {
          "bdata": "2AmmZ/7oE0B6h7ga2SEUQGomsTSp8v0/bCD5UvbYHEAYghbI0RoXQN+lGJ1X9iVAvPjVfuc6GEAMsRlvICQaQDLB2WwPBxBAcuhvctrYFED1c4vPr3UUQFizEMdT8x5Ap52pYW1BGUCs1M9E0r8XQMEE7sQkfBNAj15Q2sQ2JEAQBZ3MwJ8hQH3GYoTzFCJArawM6AJlF0AaMacEwZAfQIj97ppLsyVAUl5oaSx2FECmW0DtYXMUQL6ORgdPziNAQrdEzIf3I0DZGIbTxSgZQMrojESxlR9Axg8KButYGUD7pyD/2WUgQD325H0jCiBAUn52z/VmFkAbFp7rz3AgQLiDfp3wvxBAchRagVjvHkCEQVjnzIIpQB+Qd4FIohdA2jSefgG0HkCNxBvEhQYhQM/uTfCX7BVAr62sQNF39T8Q7Pzzi5UkQGqWIR0V/iVAfhUZj2dpGECqgKlvIrofQClxA4h7nBpAEocEMTS6IUBudJAwuvgnQG5XY0GXlB9AEubFxzWJGECiyZ7Zr+0eQKHPVxAYgCVAN40p8th3GEC6jEbJ82gjQOADyQPKSBlAJwnuzMIdHUD5iEoLJFEVQM1wtDELYyJAmgmh8+qsJEAP8NhjRVoiQIsEChdpVSNAEHScui45GUAjP7BhuFYcQKAzCoMAiiFA9LdFM/lOHUDYa56kTpgiQKFnCU4ZghNAvnKAqB3cGECSpFDcBNYgQMbjtZfbnSFA/noAVBlcHkAtWeagXeseQDRcjfThLSJASGWw5LdlJkA5xUMUrM0jQOA6zNcihRtA",
          "dtype": "f8"
         },
         "xaxis": "x5",
         "y": {
          "bdata": "hf3IV0PlIUBPFqhIevUsQH6uU8pLWyFApfoe8eAnJECB6Po4IAwaQE2TdT0XRyVAG7hVvhv7JEBrUBaFtnorQFwtFojkxh9ArwAFxdtiJEBtadSVwhMgQNF0nmxF7yJAaH3Ix0AUJUCX/eQTPdMmQGA7kEPLMSBABWfBVF8UKkClvgKwa8kiQDGmZz+SQhdA3jQF9B7bIUBoim61cCgiQEBleSarpBhAU5AuLzCpJkC6tU28VtYdQIxvQDgovipAuD1/iquhEkBC9kTT0ssgQPjekdCt5CBALbdLg/buKUDgrlylCQ0bQIk4LWl07BpA0vorUkh4J0CCLYcI5bArQDVKgNgkLSFAy55x5xtJJEBXuwk6ZcQhQBct3TeSWyNAWkpBhS1iJkBLPtwp7YUmQCjicQjO3SNAQJuKWyToI0DH4amIjgUiQITWXJxa8ClAiivjgwscF0BrhjMYpOknQM5XHo2gLCRAsV5p0YdFLECOY4xKBvgmQIfJQvboKiVA2rDIGWGHJEAUrHgBGwsgQP9H50bx0iJARF+NYyoJH0ALnvP/G7slQN4h2zIRQSFAWdX/i26yHEAL71r//FwpQEc/2OzCTCZASgNDNsbwKUD0ecl4N5glQINj0k8yfyVACBF9IyUqF0Ac5xXaqQIkQJOlITXnICRAIL1O7XKuLkC9b0pguVEUQF4mQ/UibBxA8jDqDYwAHkAf7VitvvQhQFrYWCitoShAJ3BC7e4TI0DYtxp0lHIlQKKjaXdgVCBA34WsfwhfI0AG8jLLcTwrQIADhgd4HiRA",
          "dtype": "f8"
         },
         "yaxis": "y5"
        },
        {
         "marker": {
          "line": {
           "color": "white",
           "width": 1
          },
          "opacity": 0.7,
          "size": 8
         },
         "mode": "markers",
         "name": "Cluster 3",
         "type": "scatter",
         "x": {
          "bdata": "uv8Twv/ZB0AiJXMUytgJQN32Shj94w9Ap669PC0n9T+RDBkfJT0TQOSfc/AsVeE/8LAwGUrNGEBbFLUdEVITQI9kgiG2SPo/myW7SSitE0D5gSLkzpnaP/5E34ksfgRA/QfyAEIEHUB97YVZkGAWQFgkUJNghgBAzLxrHRA3/T99TcK+PqsIQBzK6nCLQxFAZSFflisv8D9zCuxEPgERQENMT/cpXg5AIAJvZqHHA0CMQ7kp/6MHQFLBozuQ6RBAdIF5jPrPGUCVS5WFyEIOQJKXlAl7hv0/NlZFsJkLCEAlm6vCfwkBQEImCb3n7QhAx75QuRt/EkCWiRfvTwjYP22Bod2O4BRAT0Ecc5AB/D/iacquB0YeQA5AFQP3aRVAHXAtrBsjGkAA6Hbf2FK4P3DM8TiI1BBAbGwpYolPAUCw27eLey6ov2u1rDN/7hFADy1/eXJk8T/SoNGoWRT7P84gHppVFQtAyKI9V8lUGEDO/LhriMcMQPaxIIPNQA5ATDELGhZjEkDIl8A7WAkWQDz9Z0abMv0/IzBp+1d+DEBYwNeT1GoFQNgqUJ9Hses/GUxGw4mQIUB4a2Gf/bcPQA8ORNJpPgZAXQGlAgqIAkDuPYAGq50HQHMfUN1RIPc/GJLKVkZ3DEA=",
          "dtype": "f8"
         },
         "xaxis": "x5",
         "y": {
          "bdata": "vv1cuwrTEcBEjHeK5ILsv4ncWJJALBLAFNWVPNkZE8BPt54YXsMPwKSBhgwDUvq/yyIrncWgF8DqeZHrkFkZwFVlgWsc/BHAljknWmriHMAuxQExidUHwDahyGslHtA/kjSoUZlM5L9yQwW22vH4v50aHoLYrvu/8sHIcpZ1AcAAXC7g6mMEwC/EDRvNCxjAbewJ+WQeEcCAOSVTMubIvytG5OAnvBPAak5r6lUmFMB0ZZWrbTYXwCWxqDEBYAvAkydIioaF9L+BoBYlTH7qv4LRV7NeEgnAdr4/HMM2C8BQPtJRepoWwDvkuhEu/A/AHtg7HHmJEMDARTbBMrUCwIiorCwXXhLAlpau3GHP8b9AkqoSHJYWwFSSAlBeQf4/j4uyIrN0CMDIwoih49r5v+H4SMg/CAXA6kn9AxepBMDOkjx4LD0EwG3o0tYhpgbAMuOtaqpV/r+Ji/F4Tyzyv0v4qV6CZOm/WZh9Mb9UGsC7eBcLpbAPwF6CtdTZJQjAO8c6a8OZFsAwe62Z7NUIwLW+0qd8lgLAFrMBwkxXGcD9MqpTFbvgP9knbluqrAbAmMJkSnSQGMBPH2FSjZgYwNHMhtBSQhfAUKtp8HiY/b/x3T/3/vgVwFx1yRcrUdS/wxnbfUphF8A=",
          "dtype": "f8"
         },
         "yaxis": "y5"
        },
        {
         "marker": {
          "line": {
           "color": "white",
           "width": 1
          },
          "opacity": 0.7,
          "size": 8
         },
         "mode": "markers",
         "name": "Cluster 4",
         "type": "scatter",
         "x": {
          "bdata": "MS4JZ6PPBcDCmJ0LiSQAwCIgF6CzhxrAMD905oCZAcCMLGg/plwawME60kNZhA7AhWE0knixEsC9x3qrpe7av4wGOVImzAHAAq7Jpg/xE8A+Xy+h6Jnev6LA1WEA4fq/Wp/avCwb/b9EZJtE1prgv2Zhz/nLYti/fsoXb77UE8DHYFzekfL3v3wz/LSj/8m/inT9gB2jGMBIGvvl59INwC4g22J49AXAIsS7tb9DAMB4fsgKU+sEwBij8y3EVAfAKt0SkHSMAMBcETXeWuEUwEbwSyX+iQDApyI7xScjB8CekCKg9h4TwNwWyLq5/L6/k8C27A26E8CnCBYWFJcFwKZTUFS7JQrAmzFa3LXm+7/HCpNjcYsHwDg1146S1xDAEbRuE3pdBcBNaJi8/RgKwLwX52m4RQrADJbmINqe979BVr+JmJslwIBsCjFxBxTAWaEyeH6HCMCnTA7NjtUVwMCraP+ZpA3As3NJs+TeGcDYZo+UYLH1v7VWX3yGig/A1JHGOl/y/78p+9KXvq8NwA==",
          "dtype": "f8"
         },
         "xaxis": "x5",
         "y": {
          "bdata": "kBD5yBIDH8A476K8V80PwE64A5RychvANd71T6syHcCIfsw4eDAZwMJp1LiMVxrAHH3NdB0IGsD09hXtJ3wNwAdChAx3RQ3Ake+gyVmjHcCumN4Bbf0GwGhKRs1ZZgnA2VPybiDQDcCI344DA1AUwNuLnwwkiBPAAIduWK/hC8C0X72RX0UCwL5QfNpu2hHAslBspTSzAMBxiNZHCHMCwJ4HKx91rBfAOIzFCkmt/7+/SglrOR0CwEzuEEXPYxbAbzo+MIyVF8DwQSJY1HgRwJ6/kA4eeQLAMI+N09w9FcA8GLWka8ofwLgAYaIj/A7ARuzT21w7JcDVGjAByh0dwAew3y35WBLAcU6lZ4QKFsBX6Gk+QJwSwNH6V3qDJhbAljkO8priGsDZLZuV3eYdwHJOR2qmrh7AihdcGSnTFcBCnBdh+WMfwB+wIlHWziDAF3vIo+gyFsC1+NolWoETwFbN//Wy9xvAoMlGZxbdJMCB0K4D+iMZwBQwHCHfCwTAQ8gMqrSwFcCpSm13kIoYwA==",
          "dtype": "f8"
         },
         "yaxis": "y5"
        },
        {
         "marker": {
          "line": {
           "color": "white",
           "width": 1
          },
          "opacity": 0.7,
          "size": 8
         },
         "mode": "markers",
         "name": "Cluster 5",
         "type": "scatter",
         "x": [],
         "xaxis": "x5",
         "y": [],
         "yaxis": "y5"
        },
        {
         "marker": {
          "line": {
           "color": "white",
           "width": 1
          },
          "opacity": 0.7,
          "size": 12
         },
         "mode": "markers",
         "name": "Centers",
         "type": "scatter",
         "x": {
          "bdata": "aIl+EETq97+0IXWOuX/kPyYfDvbc/h1A4K1k+MYzC0Abyk4ujMkJwA==",
          "dtype": "f8"
         },
         "xaxis": "x5",
         "y": {
          "bdata": "xj05xMUDAUAwatGg3o0fwHqGqyljqiNA2nQaEGOwCsBy+X5i25UVwA==",
          "dtype": "f8"
         },
         "yaxis": "y5"
        },
        {
         "marker": {
          "line": {
           "color": "white",
           "width": 1
          },
          "opacity": 0.7,
          "size": 8
         },
         "mode": "markers",
         "name": "Cluster 0",
         "type": "scatter",
         "x": {
          "bdata": "WbZ78U3C8r9mfZorWJ4BwHMig4eKoBXAgMlD2TmxjL9aA4d/WB0MwOC2BgO27iDAkhsY9kBJ4j8D/vQw4Pv6v8i1+Ki8ncK/HGM2PY/6CMDYvfFiPe8ZwOCDMrXlkvM/hYiBrLVSAcDiJy1gtrkNwGJjapQrGQBAMSBeE6lzD8D8MFPqGwTkvzqErQulauc/gZkuTp36E8AWHy6Ubhr+v8Jpqrk2HglAsRGKpskVEcCas9YiZUXDvypmMJTb5BfAaYmmxClSFsDLdIu8xCf6v9QmXbyFaQvAh6q4uaQCFcDjfzwC+e8TwEWZkM+lCPW/gLsVBeMo/L8eaUo8MEkOwG6PclPxbuo/tEPq+VtEvz8I0g1YUfX0v0JBqpTWofq/9QCk5qLrDcB9iyXgxt/zP2Cd55oaBeM/Yc98pFoUAkBjFLQbaCPkP1nbzMnEU/u/NGSwM33r9T/hUk2An2vmPzAslYV31pe/fw7t0rJR/D+Q+4jjZ4ARwNcRuAYKztE/",
          "dtype": "f8"
         },
         "xaxis": "x6",
         "y": {
          "bdata": "EHky1Us2FEDP5f5qUrULQFoVA2CLogNAItjYuR29EkBIuX8/qy7hP8+IZyUAcfw/+LhEBF8z9j+r2tEKubUaQH1QOts/uglAIqR6YAxYEEBfzaWsrwcVQJ+er8/lXw9A2G3tSMka7z/RQAw2a/v3P/vtyd1BJQ9ADHEb5EjqBkA2SbHhWqcRQIbSriBhdhNA7nix1WmhAkDzSbABx4zxP4ggaWdNLxNAuMIsX252E0Aw6hFov/gcQNlWFnDp4/8/fvZGqJz4H0CPudaXXxwMQI3wSNxM/Po/iccJJ+aF5z+4ZJ2cTJgFQJVcfT7jkBFA6AqRSaHb/j9CtB3cqnTiP3YY/gsOJg9AsHLy4o1lEkAdWsHaHUH/P5LEBrBynPc/R3B5fon78D+l1wBzZe39P/JOkwsOgwtACdpTE3KaCkDOGT8Iq8MaQNOWWqKAqvk/JKfEISdJ+j9AI1iaIaMUQNwFg8fL0AtAwF6zh/EUAkC4b79sKpjZP/N/Wcrr+RBA",
          "dtype": "f8"
         },
         "yaxis": "y6"
        },
        {
         "marker": {
          "line": {
           "color": "white",
           "width": 1
          },
          "opacity": 0.7,
          "size": 8
         },
         "mode": "markers",
         "name": "Cluster 1",
         "type": "scatter",
         "x": {
          "bdata": "TqdptWLK1b+wtsIDtSz0P9I53uQVW+8/te7Ps3754L/+fal8Q8vgP+RGFaJbEfI/2qIs1ESWyr/EaF3VEoPUv4zzD0fZmhRAI4qQX9jx9j9EZJtE1prgvx4ry/SBxeY/4B4eg70Lrr9mYc/5y2LYvyCw7tmrgo8/zipRJu2By7/wVG2JlbL2vyqje/AaRvy/BmjuqlfQ9D9wiJP1m4Tjv1CgyGzcnwlAIT/TxUaU4j+0NpXKgy4CwBK6yuOGAso/Mhha7Shz8D9OqorHf0P/P504B+MlkQFAvt+PP/n68b/gZiKcnqa+P2QHMJbnfARAB2fSwRsD9z+zutQd4jPwv3U3nHXPftG/qYKhxF7P97/TsIFlndDyPwuP9WaM3PM/QHEr+FOFej+L0cV0lov5P9hmj5RgsfW/HAmOWjlq8D9wS1ehi97zv/AeF5P2N+U/Vw0jC/Ob/z8=",
          "dtype": "f8"
         },
         "xaxis": "x6",
         "y": {
          "bdata": "4ciy2dIPGMDCCFi2Gr4WwFvf17lFlBXAgveo1nLJIMAssRWNCgQiwGqHKA6AZhvAAT7AmTjMGsBUhDZLvyIgwC5kTIjI1yXAVzU/E9u2HsCI344DA1AUwE9wTCCFFRzAUP8B8YEgFsDbi58MJIgTwPBSgisK6RfALQRIPTeeJ8DGdeG522gdwOt4d7KATSPAalEmy7kXFsBc9ZMeow0hwJS88tlJ8CPA0I2c9N6/IcAo6+kZpsUkwI/XJyyVlhnA8GRjAUW4F8COlyDlKtwWwJ4hqXkJuiLA/SOdTvE2IcBqnkE6FfIewHNqP3nHMyDAJq4B/TQ+IMB6PhuFEkQiwD9Cz7e1LhXA5YBW5JnEIMDQCMQisbEhwPHNPzpF9xTAfHF991deIMACdMw5rXEkwIHQrgP6IxnAf2vWC71XIMCIpwMxEJ8jwLwxdkY8UR7APPnLWNzSGcA=",
          "dtype": "f8"
         },
         "yaxis": "y6"
        },
        {
         "marker": {
          "line": {
           "color": "white",
           "width": 1
          },
          "opacity": 0.7,
          "size": 8
         },
         "mode": "markers",
         "name": "Cluster 2",
         "type": "scatter",
         "x": {
          "bdata": "2AmmZ/7oE0B6h7ga2SEUQGomsTSp8v0/bCD5UvbYHEAYghbI0RoXQN+lGJ1X9iVAvPjVfuc6GEAMsRlvICQaQDLB2WwPBxBAcuhvctrYFED1c4vPr3UUQFizEMdT8x5Ap52pYW1BGUCs1M9E0r8XQMEE7sQkfBNAj15Q2sQ2JEAQBZ3MwJ8hQH3GYoTzFCJArawM6AJlF0AaMacEwZAfQIj97ppLsyVAUl5oaSx2FECmW0DtYXMUQL6ORgdPziNAQrdEzIf3I0DZGIbTxSgZQMrojESxlR9Axg8KButYGUD7pyD/2WUgQD325H0jCiBAUn52z/VmFkAbFp7rz3AgQLiDfp3wvxBAchRagVjvHkCEQVjnzIIpQB+Qd4FIohdA2jSefgG0HkCNxBvEhQYhQM/uTfCX7BVAr62sQNF39T8Q7Pzzi5UkQGqWIR0V/iVAfhUZj2dpGECqgKlvIrofQClxA4h7nBpAEocEMTS6IUBudJAwuvgnQG5XY0GXlB9AEubFxzWJGECiyZ7Zr+0eQKHPVxAYgCVAN40p8th3GEC6jEbJ82gjQOADyQPKSBlAJwnuzMIdHUD5iEoLJFEVQM1wtDELYyJAmgmh8+qsJEAP8NhjRVoiQIsEChdpVSNAEHScui45GUAjP7BhuFYcQKAzCoMAiiFA9LdFM/lOHUDYa56kTpgiQKFnCU4ZghNAvnKAqB3cGECSpFDcBNYgQMbjtZfbnSFA/noAVBlcHkAtWeagXeseQDRcjfThLSJASGWw5LdlJkA5xUMUrM0jQOA6zNcihRtA",
          "dtype": "f8"
         },
         "xaxis": "x6",
         "y": {
          "bdata": "hf3IV0PlIUBPFqhIevUsQH6uU8pLWyFApfoe8eAnJECB6Po4IAwaQE2TdT0XRyVAG7hVvhv7JEBrUBaFtnorQFwtFojkxh9ArwAFxdtiJEBtadSVwhMgQNF0nmxF7yJAaH3Ix0AUJUCX/eQTPdMmQGA7kEPLMSBABWfBVF8UKkClvgKwa8kiQDGmZz+SQhdA3jQF9B7bIUBoim61cCgiQEBleSarpBhAU5AuLzCpJkC6tU28VtYdQIxvQDgovipAuD1/iquhEkBC9kTT0ssgQPjekdCt5CBALbdLg/buKUDgrlylCQ0bQIk4LWl07BpA0vorUkh4J0CCLYcI5bArQDVKgNgkLSFAy55x5xtJJEBXuwk6ZcQhQBct3TeSWyNAWkpBhS1iJkBLPtwp7YUmQCjicQjO3SNAQJuKWyToI0DH4amIjgUiQITWXJxa8ClAiivjgwscF0BrhjMYpOknQM5XHo2gLCRAsV5p0YdFLECOY4xKBvgmQIfJQvboKiVA2rDIGWGHJEAUrHgBGwsgQP9H50bx0iJARF+NYyoJH0ALnvP/G7slQN4h2zIRQSFAWdX/i26yHEAL71r//FwpQEc/2OzCTCZASgNDNsbwKUD0ecl4N5glQINj0k8yfyVACBF9IyUqF0Ac5xXaqQIkQJOlITXnICRAIL1O7XKuLkC9b0pguVEUQF4mQ/UibBxA8jDqDYwAHkAf7VitvvQhQFrYWCitoShAJ3BC7e4TI0DYtxp0lHIlQKKjaXdgVCBA34WsfwhfI0AG8jLLcTwrQIADhgd4HiRA",
          "dtype": "f8"
         },
         "yaxis": "y6"
        },
        {
         "marker": {
          "line": {
           "color": "white",
           "width": 1
          },
          "opacity": 0.7,
          "size": 8
         },
         "mode": "markers",
         "name": "Cluster 3",
         "type": "scatter",
         "x": {
          "bdata": "uv8Twv/ZB0AiJXMUytgJQN32Shj94w9Ap669PC0n9T+RDBkfJT0TQPCwMBlKzRhAItCFopF6D0BbFLUdEVITQI9kgiG2SPo/myW7SSitE0D9B/IAQgQdQH3thVmQYBZAfU3Cvj6rCEAcyupwi0MRQHMK7EQ+ARFAQ0xP9yleDkAgAm9moccDQIxDuSn/owdAUsGjO5DpEEB0gXmM+s8ZQJVLlYXIQg5AkpeUCXuG/T82VkWwmQsIQCWbq8J/CQFAQiYJveftCEDHvlC5G38SQG2Bod2O4BRA4mnKrgdGHkAOQBUD92kVQB1wLawbIxpAcMzxOIjUEEBsbCliiU8BQGu1rDN/7hFAziAemlUVC0DIoj1XyVQYQM78uGuIxwxA9rEgg81ADkBMMQsaFmMSQMiXwDtYCRZAipY0JYF6FUAjMGn7V34MQJ3LzPqLPRJAGUxGw4mQIUB4a2Gf/bcPQA8ORNJpPgZA7j2ABqudB0AYkspWRncMQA==",
          "dtype": "f8"
         },
         "xaxis": "x6",
         "y": {
          "bdata": "vv1cuwrTEcBEjHeK5ILsv4ncWJJALBLAFNWVPNkZE8BPt54YXsMPwMsiK53FoBfALb0Ymp+4HcDqeZHrkFkZwFVlgWsc/BHAljknWmriHMCSNKhRmUzkv3JDBbba8fi/AFwu4OpjBMAvxA0bzQsYwIA5JVMy5si/K0bk4Ce8E8BqTmvqVSYUwHRllattNhfAJbGoMQFgC8CTJ0iKhoX0v4GgFiVMfuq/gtFXs14SCcB2vj8cwzYLwFA+0lF6mhbAO+S6ES78D8Ae2DsceYkQwIiorCwXXhLAQJKqEhyWFsBUkgJQXkH+P4+LsiKzdAjA4fhIyD8IBcDqSf0DF6kEwG3o0tYhpgbAS/ipXoJk6b9ZmH0xv1QawLt4FwulsA/AXoK11NklCMA7xzprw5kWwDB7rZns1QjAtvjzo9KCIMAWswHCTFcZwKEYkpuaYyDAmMJkSnSQGMBPH2FSjZgYwNHMhtBSQhfA8d0/9/74FcDDGdt9SmEXwA==",
          "dtype": "f8"
         },
         "yaxis": "y6"
        },
        {
         "marker": {
          "line": {
           "color": "white",
           "width": 1
          },
          "opacity": 0.7,
          "size": 8
         },
         "mode": "markers",
         "name": "Cluster 4",
         "type": "scatter",
         "x": {
          "bdata": "MS4JZ6PPBcAiIBegs4cawDA/dOaAmQHAjCxoP6ZcGsDBOtJDWYQOwIVhNJJ4sRLAAq7Jpg/xE8DC+bZyCg0KwH7KF2++1BPAinT9gB2jGMAuINtiePQFwBij8y3EVAfAKt0SkHSMAMBcETXeWuEUwKciO8UnIwfAnpAioPYeE8CTwLbsDboTwKcIFhYUlwXAplNQVLslCsCbMVrcteb7v8cKk2NxiwfAODXXjpLXEMARtG4Tel0FwE1omLz9GArAvBfnabhFCsAMluYg2p73v0FWv4mYmyXAgGwKMXEHFMBZoTJ4focIwKdMDs2O1RXAw9e64/cEA8DAq2j/maQNwLNzSbPk3hnA1JHGOl/y/78p+9KXvq8NwA==",
          "dtype": "f8"
         },
         "xaxis": "x6",
         "y": {
          "bdata": "kBD5yBIDH8BOuAOUcnIbwDXe9U+rMh3AiH7MOHgwGcDCadS4jFcawBx9zXQdCBrAke+gyVmjHcDHV64MMiYkwACHbliv4QvAslBspTSzAMCeBysfdawXwEzuEEXPYxbAbzo+MIyVF8DwQSJY1HgRwDCPjdPcPRXAPBi1pGvKH8BG7NPbXDslwNUaMAHKHR3AB7DfLflYEsBxTqVnhAoWwFfoaT5AnBLA0fpXeoMmFsCWOQ7ymuIawNktm5Xd5h3Ack5HaqauHsCKF1wZKdMVwEKcF2H5Yx/AH7AiUdbOIMAXe8ij6DIWwLX42iVagRPAA8Smz33KIMBWzf/1svcbwKDJRmcW3STAQ8gMqrSwFcCpSm13kIoYwA==",
          "dtype": "f8"
         },
         "yaxis": "y6"
        },
        {
         "marker": {
          "line": {
           "color": "white",
           "width": 1
          },
          "opacity": 0.7,
          "size": 8
         },
         "mode": "markers",
         "name": "Cluster 5",
         "type": "scatter",
         "x": {
          "bdata": "2C9SzUiRBMDCmJ0LiSQAwNdyvVr0xvS/5J9z8CxV4T8dYpQe7bz0v73Hequl7tq/jAY5UibMAcD5gSLkzpnaPz5fL6Homd6/osDVYQDh+r9an9q8LBv9v/5E34ksfgRAIXsai6/w5L9RFLgPH9jmv1gkUJNghgBAzLxrHRA3/T/zoT0Xvob6v2UhX5YrL/A/x2Bc3pHy9798M/y0o//Jv0ga++Xn0g3ArFb3eSwJBEAixLu1v0MAwG0cLponOwTAeH7IClPrBMBG8Esl/okAwMIMfPxZTPc/cGlrw+914T8p2YJ6Ch0JwNwWyLq5/L6/lokX708I2D/98hzR2pfYP09BHHOQAfw/+Xg41Z3p/b9MezLJ9DrCv8BKIYeh3a2/AOh239hSuD+WARzaMGncv7Dbt4t7Lqi/Dy1/eXJk8T8QRznPzRwFwNKg0ahZFPs/XiiCabEP0z88/WdGmzL9P1jA15PUagVA2CpQn0ex6z9dAaUCCogCQBHtuYuSJATAcx9Q3VEg9z/QvMDsXA4IwLVWX3yGig/AkY7haLi16L8=",
          "dtype": "f8"
         },
         "xaxis": "x6",
         "y": {
          "bdata": "w0AbI1Pp978476K8V80PwC6EQ3SERuS/pIGGDANS+r/KJu8ub3z3v/T2Fe0nfA3AB0KEDHdFDcAuxQExidUHwK6Y3gFt/QbAaEpGzVlmCcDZU/JuINANwDahyGslHtA/NlTkA+AN4j+0r19S0PjWP50aHoLYrvu/8sHIcpZ1AcA0YbQ0N+rhv23sCflkHhHAtF+9kV9FAsC+UHzabtoRwHGI1kcIcwLAFL8huGaz8T84jMUKSa3/vxy2UONlIeq/v0oJazkdAsCev5AOHnkCwMCHr95+xZw/70KBtSCT5r9g47CQGBqbv7gAYaIj/A7AwEU2wTK1AsDkDWychnS+P5aWrtxhz/G/dtVBmTs797+e3WUAYNzDv4LiXdjsaMS/yMKIoePa+b+I1eKpnoDZv86SPHgsPQTAMuOtaqpV/r/A089FGRDOP4mL8XhPLPK/m2PR5WWg5z+1vtKnfJYCwP0yqlMVu+A/2SduW6qsBsBQq2nweJj9v4OfHcXvwuq/XHXJFytR1L+CAaI6D6DDvxQwHCHfCwTAHqpaVh4e+L8=",
          "dtype": "f8"
         },
         "yaxis": "y6"
        },
        {
         "marker": {
          "line": {
           "color": "white",
           "width": 1
          },
          "opacity": 0.7,
          "size": 8
         },
         "mode": "markers",
         "name": "Cluster 6",
         "type": "scatter",
         "x": [],
         "xaxis": "x6",
         "y": [],
         "yaxis": "y6"
        },
        {
         "marker": {
          "line": {
           "color": "white",
           "width": 1
          },
          "opacity": 0.7,
          "size": 12
         },
         "mode": "markers",
         "name": "Centers",
         "type": "scatter",
         "x": {
          "bdata": "KJk/8bGr+7+EuL+9/0vbPyYfDvbc/h1AWR23ac/qEEBRXv+vhO4PwNi+eAwqptu/",
          "dtype": "f8"
         },
         "xaxis": "x6",
         "y": {
          "bdata": "syV0I1WpCUBaQPmX8JcewHqGqyljqiNAAx/XJYrMEMCEb/+0uioawHh75bKjtPi/",
          "dtype": "f8"
         },
         "yaxis": "y6"
        },
        {
         "marker": {
          "line": {
           "color": "white",
           "width": 1
          },
          "opacity": 0.7,
          "size": 8
         },
         "mode": "markers",
         "name": "Cluster 0",
         "type": "scatter",
         "x": {
          "bdata": "WbZ78U3C8r9mfZorWJ4BwHMig4eKoBXAgMlD2TmxjL9aA4d/WB0MwOC2BgO27iDAkhsY9kBJ4j8D/vQw4Pv6v8i1+Ki8ncK/HGM2PY/6CMDYvfFiPe8ZwOCDMrXlkvM/hYiBrLVSAcDiJy1gtrkNwGJjapQrGQBAMSBeE6lzD8D8MFPqGwTkvzqErQulauc/gZkuTp36E8AWHy6Ubhr+v7ERiqbJFRHAmrPWImVFw78qZjCU2+QXwGmJpsQpUhbAy3SLvMQn+r/UJl28hWkLwIequLmkAhXA4388AvnvE8BFmZDPpQj1v4C7FQXjKPy/HmlKPDBJDsBuj3JT8W7qP7RD6vlbRL8/CNINWFH19L9CQaqU1qH6v/UApOai6w3AfYsl4Mbf8z9gneeaGgXjP2HPfKRaFAJAYxS0G2gj5D9Z28zJxFP7vzRksDN96/U/4VJNgJ9r5j8wLJWFd9aXv38O7dKyUfw/kPuI42eAEcDXEbgGCs7RPw==",
          "dtype": "f8"
         },
         "xaxis": "x7",
         "y": {
          "bdata": "EHky1Us2FEDP5f5qUrULQFoVA2CLogNAItjYuR29EkBIuX8/qy7hP8+IZyUAcfw/+LhEBF8z9j+r2tEKubUaQH1QOts/uglAIqR6YAxYEEBfzaWsrwcVQJ+er8/lXw9A2G3tSMka7z/RQAw2a/v3P/vtyd1BJQ9ADHEb5EjqBkA2SbHhWqcRQIbSriBhdhNA7nix1WmhAkDzSbABx4zxP7jCLF9udhNAMOoRaL/4HEDZVhZw6eP/P372Rqic+B9Aj7nWl18cDECN8EjcTPz6P4nHCSfmhec/uGSdnEyYBUCVXH0+45ARQOgKkUmh2/4/QrQd3Kp04j92GP4LDiYPQLBy8uKNZRJAHVrB2h1B/z+SxAawcpz3P0dweX6J+/A/pdcAc2Xt/T/yTpMLDoMLQAnaUxNymgpAzhk/CKvDGkDTllqigKr5PySnxCEnSfo/QCNYmiGjFEDcBYPHy9ALQMBes4fxFAJAuG+/bCqY2T/zf1nK6/kQQA==",
          "dtype": "f8"
         },
         "yaxis": "y7"
        },
        {
         "marker": {
          "line": {
           "color": "white",
           "width": 1
          },
          "opacity": 0.7,
          "size": 8
         },
         "mode": "markers",
         "name": "Cluster 1",
         "type": "scatter",
         "x": {
          "bdata": "TqdptWLK1b+wtsIDtSz0P9I53uQVW+8/te7Ps3754L/+fal8Q8vgP+RGFaJbEfI/2qIs1ESWyr/EaF3VEoPUv4zzD0fZmhRAI4qQX9jx9j9EZJtE1prgvx4ry/SBxeY/4B4eg70Lrr9mYc/5y2LYvyCw7tmrgo8/zipRJu2By7/wVG2JlbL2vyqje/AaRvy/BmjuqlfQ9D9wiJP1m4Tjv1CgyGzcnwlAIT/TxUaU4j+0NpXKgy4CwBK6yuOGAso/Mhha7Shz8D9OqorHf0P/P504B+MlkQFAvt+PP/n68b/gZiKcnqa+P2QHMJbnfARAB2fSwRsD9z+zutQd4jPwv3U3nHXPftG/qYKhxF7P97/TsIFlndDyPwuP9WaM3PM/QHEr+FOFej+L0cV0lov5P9hmj5RgsfW/HAmOWjlq8D9wS1ehi97zv/AeF5P2N+U/Vw0jC/Ob/z8=",
          "dtype": "f8"
         },
         "xaxis": "x7",
         "y": {
          "bdata": "4ciy2dIPGMDCCFi2Gr4WwFvf17lFlBXAgveo1nLJIMAssRWNCgQiwGqHKA6AZhvAAT7AmTjMGsBUhDZLvyIgwC5kTIjI1yXAVzU/E9u2HsCI344DA1AUwE9wTCCFFRzAUP8B8YEgFsDbi58MJIgTwPBSgisK6RfALQRIPTeeJ8DGdeG522gdwOt4d7KATSPAalEmy7kXFsBc9ZMeow0hwJS88tlJ8CPA0I2c9N6/IcAo6+kZpsUkwI/XJyyVlhnA8GRjAUW4F8COlyDlKtwWwJ4hqXkJuiLA/SOdTvE2IcBqnkE6FfIewHNqP3nHMyDAJq4B/TQ+IMB6PhuFEkQiwD9Cz7e1LhXA5YBW5JnEIMDQCMQisbEhwPHNPzpF9xTAfHF991deIMACdMw5rXEkwIHQrgP6IxnAf2vWC71XIMCIpwMxEJ8jwLwxdkY8UR7APPnLWNzSGcA=",
          "dtype": "f8"
         },
         "yaxis": "y7"
        },
        {
         "marker": {
          "line": {
           "color": "white",
           "width": 1
          },
          "opacity": 0.7,
          "size": 8
         },
         "mode": "markers",
         "name": "Cluster 2",
         "type": "scatter",
         "x": {
          "bdata": "2AmmZ/7oE0BqJrE0qfL9P2wg+VL22BxAGIIWyNEaF0C8+NV+5zoYQDLB2WwPBxBAcuhvctrYFED1c4vPr3UUQFizEMdT8x5Ap52pYW1BGUDBBO7EJHwTQH3GYoTzFCJArawM6AJlF0AaMacEwZAfQIj97ppLsyVAUl5oaSx2FECmW0DtYXMUQEK3RMyH9yNA2RiG08UoGUDK6IxEsZUfQPunIP/ZZSBAPfbkfSMKIEDCaaq5Nh4JQLiDfp3wvxBAH5B3gUiiF0DP7k3wl+wVQK+trEDRd/U/fhUZj2dpGEApcQOIe5waQBLmxcc1iRhAosme2a/tHkA3jSny2HcYQOADyQPKSBlAJwnuzMIdHUAQdJy6LjkZQCM/sGG4VhxA2GuepE6YIkChZwlOGYITQL5ygKgd3BhAkqRQ3ATWIED+egBUGVweQDRcjfThLSJA4DrM1yKFG0A=",
          "dtype": "f8"
         },
         "xaxis": "x7",
         "y": {
          "bdata": "hf3IV0PlIUB+rlPKS1shQKX6HvHgJyRAgej6OCAMGkAbuFW+G/skQFwtFojkxh9ArwAFxdtiJEBtadSVwhMgQNF0nmxF7yJAaH3Ix0AUJUBgO5BDyzEgQDGmZz+SQhdA3jQF9B7bIUBoim61cCgiQEBleSarpBhAU5AuLzCpJkC6tU28VtYdQLg9f4qroRJAQvZE09LLIED43pHQreQgQOCuXKUJDRtAiTgtaXTsGkCIIGlnTS8TQDVKgNgkLSFAFy3dN5JbI0Ao4nEIzt0jQECbilsk6CNAiivjgwscF0DOVx6NoCwkQNqwyBlhhyRAFKx4ARsLIEBEX41jKgkfQN4h2zIRQSFAWdX/i26yHEAIEX0jJSoXQBznFdqpAiRAvW9KYLlRFEBeJkP1ImwcQPIw6g2MAB5AH+1Yrb70IUAncELt7hMjQKKjaXdgVCBAgAOGB3geJEA=",
          "dtype": "f8"
         },
         "yaxis": "y7"
        },
        {
         "marker": {
          "line": {
           "color": "white",
           "width": 1
          },
          "opacity": 0.7,
          "size": 8
         },
         "mode": "markers",
         "name": "Cluster 3",
         "type": "scatter",
         "x": {
          "bdata": "uv8Twv/ZB0AiJXMUytgJQN32Shj94w9Ap669PC0n9T+RDBkfJT0TQPCwMBlKzRhAItCFopF6D0BbFLUdEVITQI9kgiG2SPo/myW7SSitE0D9B/IAQgQdQH3thVmQYBZAfU3Cvj6rCEAcyupwi0MRQHMK7EQ+ARFAQ0xP9yleDkAgAm9moccDQIxDuSn/owdAUsGjO5DpEEB0gXmM+s8ZQJVLlYXIQg5AkpeUCXuG/T82VkWwmQsIQCWbq8J/CQFAQiYJveftCEDHvlC5G38SQG2Bod2O4BRA4mnKrgdGHkAOQBUD92kVQB1wLawbIxpAcMzxOIjUEEBsbCliiU8BQGu1rDN/7hFAziAemlUVC0DIoj1XyVQYQM78uGuIxwxA9rEgg81ADkBMMQsaFmMSQMiXwDtYCRZAipY0JYF6FUAjMGn7V34MQJ3LzPqLPRJAGUxGw4mQIUB4a2Gf/bcPQA8ORNJpPgZA7j2ABqudB0AYkspWRncMQA==",
          "dtype": "f8"
         },
         "xaxis": "x7",
         "y": {
          "bdata": "vv1cuwrTEcBEjHeK5ILsv4ncWJJALBLAFNWVPNkZE8BPt54YXsMPwMsiK53FoBfALb0Ymp+4HcDqeZHrkFkZwFVlgWsc/BHAljknWmriHMCSNKhRmUzkv3JDBbba8fi/AFwu4OpjBMAvxA0bzQsYwIA5JVMy5si/K0bk4Ce8E8BqTmvqVSYUwHRllattNhfAJbGoMQFgC8CTJ0iKhoX0v4GgFiVMfuq/gtFXs14SCcB2vj8cwzYLwFA+0lF6mhbAO+S6ES78D8Ae2DsceYkQwIiorCwXXhLAQJKqEhyWFsBUkgJQXkH+P4+LsiKzdAjA4fhIyD8IBcDqSf0DF6kEwG3o0tYhpgbAS/ipXoJk6b9ZmH0xv1QawLt4FwulsA/AXoK11NklCMA7xzprw5kWwDB7rZns1QjAtvjzo9KCIMAWswHCTFcZwKEYkpuaYyDAmMJkSnSQGMBPH2FSjZgYwNHMhtBSQhfA8d0/9/74FcDDGdt9SmEXwA==",
          "dtype": "f8"
         },
         "yaxis": "y7"
        },
        {
         "marker": {
          "line": {
           "color": "white",
           "width": 1
          },
          "opacity": 0.7,
          "size": 8
         },
         "mode": "markers",
         "name": "Cluster 4",
         "type": "scatter",
         "x": {
          "bdata": "MS4JZ6PPBcAiIBegs4cawDA/dOaAmQHAjCxoP6ZcGsDBOtJDWYQOwIVhNJJ4sRLAAq7Jpg/xE8DC+bZyCg0KwH7KF2++1BPAinT9gB2jGMAuINtiePQFwBij8y3EVAfAKt0SkHSMAMBcETXeWuEUwKciO8UnIwfAnpAioPYeE8CTwLbsDboTwKcIFhYUlwXAplNQVLslCsCbMVrcteb7v8cKk2NxiwfAODXXjpLXEMARtG4Tel0FwE1omLz9GArAvBfnabhFCsAMluYg2p73v0FWv4mYmyXAgGwKMXEHFMBZoTJ4focIwKdMDs2O1RXAw9e64/cEA8DAq2j/maQNwLNzSbPk3hnA1JHGOl/y/78p+9KXvq8NwA==",
          "dtype": "f8"
         },
         "xaxis": "x7",
         "y": {
          "bdata": "kBD5yBIDH8BOuAOUcnIbwDXe9U+rMh3AiH7MOHgwGcDCadS4jFcawBx9zXQdCBrAke+gyVmjHcDHV64MMiYkwACHbliv4QvAslBspTSzAMCeBysfdawXwEzuEEXPYxbAbzo+MIyVF8DwQSJY1HgRwDCPjdPcPRXAPBi1pGvKH8BG7NPbXDslwNUaMAHKHR3AB7DfLflYEsBxTqVnhAoWwFfoaT5AnBLA0fpXeoMmFsCWOQ7ymuIawNktm5Xd5h3Ack5HaqauHsCKF1wZKdMVwEKcF2H5Yx/AH7AiUdbOIMAXe8ij6DIWwLX42iVagRPAA8Smz33KIMBWzf/1svcbwKDJRmcW3STAQ8gMqrSwFcCpSm13kIoYwA==",
          "dtype": "f8"
         },
         "yaxis": "y7"
        },
        {
         "marker": {
          "line": {
           "color": "white",
           "width": 1
          },
          "opacity": 0.7,
          "size": 8
         },
         "mode": "markers",
         "name": "Cluster 5",
         "type": "scatter",
         "x": {
          "bdata": "2C9SzUiRBMDCmJ0LiSQAwNdyvVr0xvS/5J9z8CxV4T8dYpQe7bz0v73Hequl7tq/jAY5UibMAcD5gSLkzpnaPz5fL6Homd6/osDVYQDh+r9an9q8LBv9v/5E34ksfgRAIXsai6/w5L9RFLgPH9jmv1gkUJNghgBAzLxrHRA3/T/zoT0Xvob6v2UhX5YrL/A/x2Bc3pHy9798M/y0o//Jv0ga++Xn0g3ArFb3eSwJBEAixLu1v0MAwG0cLponOwTAeH7IClPrBMBG8Esl/okAwMIMfPxZTPc/cGlrw+914T8p2YJ6Ch0JwNwWyLq5/L6/lokX708I2D/98hzR2pfYP09BHHOQAfw/+Xg41Z3p/b9MezLJ9DrCv8BKIYeh3a2/AOh239hSuD+WARzaMGncv7Dbt4t7Lqi/Dy1/eXJk8T8QRznPzRwFwNKg0ahZFPs/XiiCabEP0z88/WdGmzL9P1jA15PUagVA2CpQn0ex6z9dAaUCCogCQBHtuYuSJATAcx9Q3VEg9z/QvMDsXA4IwLVWX3yGig/AkY7haLi16L8=",
          "dtype": "f8"
         },
         "xaxis": "x7",
         "y": {
          "bdata": "w0AbI1Pp978476K8V80PwC6EQ3SERuS/pIGGDANS+r/KJu8ub3z3v/T2Fe0nfA3AB0KEDHdFDcAuxQExidUHwK6Y3gFt/QbAaEpGzVlmCcDZU/JuINANwDahyGslHtA/NlTkA+AN4j+0r19S0PjWP50aHoLYrvu/8sHIcpZ1AcA0YbQ0N+rhv23sCflkHhHAtF+9kV9FAsC+UHzabtoRwHGI1kcIcwLAFL8huGaz8T84jMUKSa3/vxy2UONlIeq/v0oJazkdAsCev5AOHnkCwMCHr95+xZw/70KBtSCT5r9g47CQGBqbv7gAYaIj/A7AwEU2wTK1AsDkDWychnS+P5aWrtxhz/G/dtVBmTs797+e3WUAYNzDv4LiXdjsaMS/yMKIoePa+b+I1eKpnoDZv86SPHgsPQTAMuOtaqpV/r/A089FGRDOP4mL8XhPLPK/m2PR5WWg5z+1vtKnfJYCwP0yqlMVu+A/2SduW6qsBsBQq2nweJj9v4OfHcXvwuq/XHXJFytR1L+CAaI6D6DDvxQwHCHfCwTAHqpaVh4e+L8=",
          "dtype": "f8"
         },
         "yaxis": "y7"
        },
        {
         "marker": {
          "line": {
           "color": "white",
           "width": 1
          },
          "opacity": 0.7,
          "size": 8
         },
         "mode": "markers",
         "name": "Cluster 6",
         "type": "scatter",
         "x": {
          "bdata": "eoe4GtkhFEDfpRidV/YlQAyxGW8gJBpArNTPRNK/F0CPXlDaxDYkQBAFnczAnyFAvo5GB0/OI0DGDwoG61gZQFJ+ds/1ZhZAGxae689wIEByFFqBWO8eQIRBWOfMgilA2jSefgG0HkCNxBvEhQYhQBDs/POLlSRAapYhHRX+JUCqgKlvIrofQBKHBDE0uiFAbnSQMLr4J0BuV2NBl5QfQKHPVxAYgCVAuoxGyfNoI0D5iEoLJFEVQM1wtDELYyJAmgmh8+qsJEAP8NhjRVoiQIsEChdpVSNAoDMKgwCKIUD0t0Uz+U4dQMbjtZfbnSFALVnmoF3rHkBIZbDkt2UmQDnFQxSszSNA",
          "dtype": "f8"
         },
         "xaxis": "x7",
         "y": {
          "bdata": "TxaoSHr1LEBNk3U9F0clQGtQFoW2eitAl/3kEz3TJkAFZ8FUXxQqQKW+ArBrySJAjG9AOCi+KkAtt0uD9u4pQNL6K1JIeCdAgi2HCOWwK0DLnnHnG0kkQFe7CTplxCFAWkpBhS1iJkBLPtwp7YUmQMfhqYiOBSJAhNZcnFrwKUBrhjMYpOknQLFeadGHRSxAjmOMSgb4JkCHyUL26ColQP9H50bx0iJAC57z/xu7JUAL71r//FwpQEc/2OzCTCZASgNDNsbwKUD0ecl4N5glQINj0k8yfyVAk6UhNecgJEAgvU7tcq4uQFrYWCitoShA2LcadJRyJUDfhax/CF8jQAbyMstxPCtA",
          "dtype": "f8"
         },
         "yaxis": "y7"
        },
        {
         "marker": {
          "line": {
           "color": "white",
           "width": 1
          },
          "opacity": 0.7,
          "size": 8
         },
         "mode": "markers",
         "name": "Cluster 7",
         "type": "scatter",
         "x": [],
         "xaxis": "x7",
         "y": [],
         "yaxis": "y7"
        },
        {
         "marker": {
          "line": {
           "color": "white",
           "width": 1
          },
          "opacity": 0.7,
          "size": 12
         },
         "mode": "markers",
         "name": "Centers",
         "type": "scatter",
         "x": {
          "bdata": "hP1dwglU/b+EuL+9/0vbP4C7AOsFohlAWR23ac/qEEBRXv+vhO4PwNi+eAwqptu/lVjB5G+TIUA=",
          "dtype": "f8"
         },
         "xaxis": "x7",
         "y": {
          "bdata": "w+MlMB1kCUBaQPmX8JcewAR0myuXiiBAAx/XJYrMEMCEb/+0uioawHh75bKjtPi/K/SZQmduJ0A=",
          "dtype": "f8"
         },
         "yaxis": "y7"
        },
        {
         "marker": {
          "line": {
           "color": "white",
           "width": 1
          },
          "opacity": 0.7,
          "size": 8
         },
         "mode": "markers",
         "name": "Cluster 0",
         "type": "scatter",
         "x": {
          "bdata": "Zn2aK1ieAcBzIoOHiqAVwCF7Gouv8OS/WgOHf1gdDMDgtgYDtu4gwFEUuA8f2Oa/inT9gB2jGMAcYzY9j/oIwNi98WI97xnAhYiBrLVSAcDiJy1gtrkNwDEgXhOpcw/AgZkuTp36E8AWHy6Ubhr+v7ERiqbJFRHAKmYwlNvkF8Ap2YJ6Ch0JwNQmXbyFaQvAh6q4uaQCFcDjfzwC+e8TwIC7FQXjKPy/HmlKPDBJDsAI0g1YUfX0v0JBqpTWofq/9QCk5qLrDcAQRznPzRwFwFnbzMnEU/u/kPuI42eAEcDQvMDsXA4IwA==",
          "dtype": "f8"
         },
         "xaxis": "x8",
         "y": {
          "bdata": "z+X+alK1C0BaFQNgi6IDQDZU5APgDeI/SLl/P6su4T/PiGclAHH8P7SvX1LQ+NY/slBspTSzAMAipHpgDFgQQF/NpayvBxVA2G3tSMka7z/RQAw2a/v3PwxxG+RI6gZA7nix1WmhAkDzSbABx4zxP7jCLF9udhNA2VYWcOnj/z9g47CQGBqbv43wSNxM/Po/iccJJ+aF5z+4ZJ2cTJgFQOgKkUmh2/4/QrQd3Kp04j8dWsHaHUH/P5LEBrBynPc/R3B5fon78D/A089FGRDOP9OWWqKAqvk/uG+/bCqY2T+CAaI6D6DDvw==",
          "dtype": "f8"
         },
         "yaxis": "y8"
        },
        {
         "marker": {
          "line": {
           "color": "white",
           "width": 1
          },
          "opacity": 0.7,
          "size": 8
         },
         "mode": "markers",
         "name": "Cluster 1",
         "type": "scatter",
         "x": {
          "bdata": "TqdptWLK1b+wtsIDtSz0P9I53uQVW+8/p669PC0n9T+17s+zfvngv/59qXxDy+A/5EYVolsR8j/aoizURJbKv8RoXdUSg9S/I4qQX9jx9j8eK8v0gcXmP+AeHoO9C66/ILDu2auCjz/OKlEm7YHLv/BUbYmVsva/KqN78BpG/L8GaO6qV9D0P3CIk/WbhOO/UKDIbNyfCUAhP9PFRpTiPxK6yuOGAso/Mhha7Shz8D9OqorHf0P/P504B+MlkQFAvt+PP/n68b/gZiKcnqa+P2QHMJbnfARAB2fSwRsD9z+zutQd4jPwv3U3nHXPftG/qYKhxF7P97/TsIFlndDyPwuP9WaM3PM/QHEr+FOFej+L0cV0lov5P9hmj5RgsfW/HAmOWjlq8D9wS1ehi97zv/AeF5P2N+U/Vw0jC/Ob/z8=",
          "dtype": "f8"
         },
         "xaxis": "x8",
         "y": {
          "bdata": "4ciy2dIPGMDCCFi2Gr4WwFvf17lFlBXAFNWVPNkZE8CC96jWcskgwCyxFY0KBCLAaocoDoBmG8ABPsCZOMwawFSENku/IiDAVzU/E9u2HsBPcEwghRUcwFD/AfGBIBbA8FKCKwrpF8AtBEg9N54nwMZ14bnbaB3A63h3soBNI8BqUSbLuRcWwFz1kx6jDSHAlLzy2UnwI8DQjZz03r8hwI/XJyyVlhnA8GRjAUW4F8COlyDlKtwWwJ4hqXkJuiLA/SOdTvE2IcBqnkE6FfIewHNqP3nHMyDAJq4B/TQ+IMB6PhuFEkQiwD9Cz7e1LhXA5YBW5JnEIMDQCMQisbEhwPHNPzpF9xTAfHF991deIMACdMw5rXEkwIHQrgP6IxnAf2vWC71XIMCIpwMxEJ8jwLwxdkY8UR7APPnLWNzSGcA=",
          "dtype": "f8"
         },
         "yaxis": "y8"
        },
        {
         "marker": {
          "line": {
           "color": "white",
           "width": 1
          },
          "opacity": 0.7,
          "size": 8
         },
         "mode": "markers",
         "name": "Cluster 2",
         "type": "scatter",
         "x": {
          "bdata": "2AmmZ/7oE0B6h7ga2SEUQGwg+VL22BxAGIIWyNEaF0DfpRidV/YlQLz41X7nOhhADLEZbyAkGkAywdlsDwcQQHLob3La2BRA9XOLz691FEBYsxDHU/MeQKedqWFtQRlArNTPRNK/F0DBBO7EJHwTQI9eUNrENiRAEAWdzMCfIUB9xmKE8xQiQK2sDOgCZRdAGjGnBMGQH0CI/e6aS7MlQFJeaGksdhRApltA7WFzFEC+jkYHT84jQEK3RMyH9yNA2RiG08UoGUDK6IxEsZUfQMYPCgbrWBlA+6cg/9llIEA99uR9IwogQFJ+ds/1ZhZAGxae689wIEC4g36d8L8QQHIUWoFY7x5AhEFY58yCKUAfkHeBSKIXQNo0nn4BtB5AjcQbxIUGIUDP7k3wl+wVQBDs/POLlSRAapYhHRX+JUB+FRmPZ2kYQKqAqW8iuh9AKXEDiHucGkAShwQxNLohQG50kDC6+CdAbldjQZeUH0AS5sXHNYkYQKLJntmv7R5Aoc9XEBiAJUA3jSny2HcYQLqMRsnzaCNA4APJA8pIGUAnCe7Mwh0dQPmISgskURVAzXC0MQtjIkCaCaHz6qwkQA/w2GNFWiJAiwQKF2lVI0AQdJy6LjkZQCM/sGG4VhxAoDMKgwCKIUD0t0Uz+U4dQNhrnqROmCJAoWcJThmCE0C+coCoHdwYQJKkUNwE1iBAxuO1l9udIUD+egBUGVweQC1Z5qBd6x5ANFyN9OEtIkBIZbDkt2UmQDnFQxSszSNA4DrM1yKFG0A=",
          "dtype": "f8"
         },
         "xaxis": "x8",
         "y": {
          "bdata": "hf3IV0PlIUBPFqhIevUsQKX6HvHgJyRAgej6OCAMGkBNk3U9F0clQBu4Vb4b+yRAa1AWhbZ6K0BcLRaI5MYfQK8ABcXbYiRAbWnUlcITIEDRdJ5sRe8iQGh9yMdAFCVAl/3kEz3TJkBgO5BDyzEgQAVnwVRfFCpApb4CsGvJIkAxpmc/kkIXQN40BfQe2yFAaIputXAoIkBAZXkmq6QYQFOQLi8wqSZAurVNvFbWHUCMb0A4KL4qQLg9f4qroRJAQvZE09LLIED43pHQreQgQC23S4P27ilA4K5cpQkNG0CJOC1pdOwaQNL6K1JIeCdAgi2HCOWwK0A1SoDYJC0hQMuececbSSRAV7sJOmXEIUAXLd03klsjQFpKQYUtYiZASz7cKe2FJkAo4nEIzt0jQMfhqYiOBSJAhNZcnFrwKUCKK+ODCxwXQGuGMxik6SdAzlcejaAsJECxXmnRh0UsQI5jjEoG+CZAh8lC9ugqJUDasMgZYYckQBSseAEbCyBA/0fnRvHSIkBEX41jKgkfQAue8/8buyVA3iHbMhFBIUBZ1f+LbrIcQAvvWv/8XClARz/Y7MJMJkBKA0M2xvApQPR5yXg3mCVAg2PSTzJ/JUAIEX0jJSoXQBznFdqpAiRAk6UhNecgJEAgvU7tcq4uQL1vSmC5URRAXiZD9SJsHEDyMOoNjAAeQB/tWK2+9CFAWthYKK2hKEAncELt7hMjQNi3GnSUciVAoqNpd2BUIEDfhax/CF8jQAbyMstxPCtAgAOGB3geJEA=",
          "dtype": "f8"
         },
         "yaxis": "y8"
        },
        {
         "marker": {
          "line": {
           "color": "white",
           "width": 1
          },
          "opacity": 0.7,
          "size": 8
         },
         "mode": "markers",
         "name": "Cluster 3",
         "type": "scatter",
         "x": {
          "bdata": "IiVzFMrYCUDkn3PwLFXhP/5E34ksfgRA/QfyAEIEHUB97YVZkGAWQJIbGPZASeI/WCRQk2CGAEDMvGsdEDf9P31Nwr4+qwhAcwrsRD4BEUCsVvd5LAkEQHSBeYz6zxlAlUuVhchCDkCSl5QJe4b9P8IMfPxZTPc/cGlrw+914T/98hzR2pfYP09BHHOQAfw/THsyyfQ6wr/ASiGHod2tvw5AFQP3aRVAcMzxOIjUEEBsbCliiU8BQA8tf3lyZPE/fYsl4Mbf8z/SoNGoWRT7P84gHppVFQtAXiiCabEP0z88/WdGmzL9P1jA15PUagVANGSwM33r9T9dAaUCCogCQHMfUN1RIPc/fw7t0rJR/D8=",
          "dtype": "f8"
         },
         "xaxis": "x8",
         "y": {
          "bdata": "RIx3iuSC7L+kgYYMA1L6vzahyGslHtA/kjSoUZlM5L9yQwW22vH4v/i4RARfM/Y/nRoegtiu+7/ywchylnUBwABcLuDqYwTAgDklUzLmyL8UvyG4ZrPxP5MnSIqGhfS/gaAWJUx+6r+C0VezXhIJwMCHr95+xZw/70KBtSCT5r/kDWychnS+P5aWrtxhz/G/nt1lAGDcw7+C4l3Y7GjEv1SSAlBeQf4/4fhIyD8IBcDqSf0DF6kEwDLjrWqqVf6/pdcAc2Xt/T+Ji/F4Tyzyv0v4qV6CZOm/m2PR5WWg5z+1vtKnfJYCwP0yqlMVu+A/JKfEISdJ+j9Qq2nweJj9v1x1yRcrUdS/wF6zh/EUAkA=",
          "dtype": "f8"
         },
         "yaxis": "y8"
        },
        {
         "marker": {
          "line": {
           "color": "white",
           "width": 1
          },
          "opacity": 0.7,
          "size": 8
         },
         "mode": "markers",
         "name": "Cluster 4",
         "type": "scatter",
         "x": {
          "bdata": "2C9SzUiRBMDCmJ0LiSQAwNdyvVr0xvS/HWKUHu289L+9x3qrpe7av4wGOVImzAHA+YEi5M6Z2j8+Xy+h6Jnev6LA1WEA4fq/Wp/avCwb/b9EZJtE1prgv2Zhz/nLYti/86E9F76G+r9+yhdvvtQTwGUhX5YrL/A/x2Bc3pHy9798M/y0o//Jv0ga++Xn0g3AIsS7tb9DAMBtHC6aJzsEwHh+yApT6wTARvBLJf6JAMDcFsi6ufy+v5aJF+9PCNg/+Xg41Z3p/b8A6Hbf2FK4P5YBHNowady/sNu3i3suqL+mU1BUuyUKwJsxWty15vu/xwqTY3GLB8AMluYg2p73v9gqUJ9Hses/Ee25i5IkBMC1Vl98hooPwNSRxjpf8v+/kY7haLi16L8=",
          "dtype": "f8"
         },
         "xaxis": "x8",
         "y": {
          "bdata": "w0AbI1Pp978476K8V80PwC6EQ3SERuS/yibvLm9897/09hXtJ3wNwAdChAx3RQ3ALsUBMYnVB8CumN4Bbf0GwGhKRs1ZZgnA2VPybiDQDcCI344DA1AUwNuLnwwkiBPANGG0NDfq4b8Ah25Yr+ELwG3sCflkHhHAtF+9kV9FAsC+UHzabtoRwHGI1kcIcwLAOIzFCkmt/78ctlDjZSHqv79KCWs5HQLAnr+QDh55AsC4AGGiI/wOwMBFNsEytQLAdtVBmTs797/Iwoih49r5v4jV4qmegNm/zpI8eCw9BMAHsN8t+VgSwHFOpWeEChbAV+hpPkCcEsCKF1wZKdMVwNknbluqrAbAg58dxe/C6r8UMBwh3wsEwEPIDKq0sBXAHqpaVh4e+L8=",
          "dtype": "f8"
         },
         "yaxis": "y8"
        },
        {
         "marker": {
          "line": {
           "color": "white",
           "width": 1
          },
          "opacity": 0.7,
          "size": 8
         },
         "mode": "markers",
         "name": "Cluster 5",
         "type": "scatter",
         "x": {
          "bdata": "WbZ78U3C8r9qJrE0qfL9P4DJQ9k5sYy/A/70MOD7+r/ItfiovJ3Cv+CDMrXlkvM/YmNqlCsZAED8MFPqGwTkvzqErQulauc/wmmquTYeCUCas9YiZUXDv6+trEDRd/U/aYmmxClSFsDLdIu8xCf6v0WZkM+lCPW/bo9yU/Fu6j+0Q+r5W0S/P2Cd55oaBeM/Yc98pFoUAkBjFLQbaCPkP+FSTYCfa+Y/MCyVhXfWl7/XEbgGCs7RPw==",
          "dtype": "f8"
         },
         "xaxis": "x8",
         "y": {
          "bdata": "EHky1Us2FEB+rlPKS1shQCLY2LkdvRJAq9rRCrm1GkB9UDrbP7oJQJ+er8/lXw9A++3J3UElD0A2SbHhWqcRQIbSriBhdhNAiCBpZ00vE0Aw6hFov/gcQECbilsk6CNAfvZGqJz4H0CPudaXXxwMQJVcfT7jkBFAdhj+Cw4mD0CwcvLijWUSQPJOkwsOgwtACdpTE3KaCkDOGT8Iq8MaQEAjWJohoxRA3AWDx8vQC0Dzf1nK6/kQQA==",
          "dtype": "f8"
         },
         "yaxis": "y8"
        },
        {
         "marker": {
          "line": {
           "color": "white",
           "width": 1
          },
          "opacity": 0.7,
          "size": 8
         },
         "mode": "markers",
         "name": "Cluster 6",
         "type": "scatter",
         "x": {
          "bdata": "MS4JZ6PPBcAiIBegs4cawDA/dOaAmQHAjCxoP6ZcGsDBOtJDWYQOwIVhNJJ4sRLAAq7Jpg/xE8DC+bZyCg0KwC4g22J49AXAGKPzLcRUB8Aq3RKQdIwAwFwRNd5a4RTAtDaVyoMuAsCnIjvFJyMHwJ6QIqD2HhPAk8C27A26E8CnCBYWFJcFwDg1146S1xDAEbRuE3pdBcBNaJi8/RgKwLwX52m4RQrAQVa/iZibJcCAbAoxcQcUwFmhMnh+hwjAp0wOzY7VFcDD17rj9wQDwMCraP+ZpA3As3NJs+TeGcAp+9KXvq8NwA==",
          "dtype": "f8"
         },
         "xaxis": "x8",
         "y": {
          "bdata": "kBD5yBIDH8BOuAOUcnIbwDXe9U+rMh3AiH7MOHgwGcDCadS4jFcawBx9zXQdCBrAke+gyVmjHcDHV64MMiYkwJ4HKx91rBfATO4QRc9jFsBvOj4wjJUXwPBBIljUeBHAKOvpGabFJMAwj43T3D0VwDwYtaRryh/ARuzT21w7JcDVGjAByh0dwNH6V3qDJhbAljkO8priGsDZLZuV3eYdwHJOR2qmrh7AQpwXYfljH8AfsCJR1s4gwBd7yKPoMhbAtfjaJVqBE8ADxKbPfcogwFbN//Wy9xvAoMlGZxbdJMCpSm13kIoYwA==",
          "dtype": "f8"
         },
         "yaxis": "y8"
        },
        {
         "marker": {
          "line": {
           "color": "white",
           "width": 1
          },
          "opacity": 0.7,
          "size": 8
         },
         "mode": "markers",
         "name": "Cluster 7",
         "type": "scatter",
         "x": {
          "bdata": "uv8Twv/ZB0Dd9koY/eMPQJEMGR8lPRNA8LAwGUrNGEAi0IWikXoPQFsUtR0RUhNAj2SCIbZI+j+bJbtJKK0TQIzzD0fZmhRAHMrqcItDEUBDTE/3KV4OQCACb2ahxwNAjEO5Kf+jB0BSwaM7kOkQQDZWRbCZCwhAJZurwn8JAUBCJgm95+0IQMe+ULkbfxJAbYGh3Y7gFEDiacquB0YeQB1wLawbIxpAa7WsM3/uEUDIoj1XyVQYQM78uGuIxwxA9rEgg81ADkBMMQsaFmMSQMiXwDtYCRZAipY0JYF6FUAjMGn7V34MQJ3LzPqLPRJAGUxGw4mQIUB4a2Gf/bcPQA8ORNJpPgZA7j2ABqudB0AYkspWRncMQA==",
          "dtype": "f8"
         },
         "xaxis": "x8",
         "y": {
          "bdata": "vv1cuwrTEcCJ3FiSQCwSwE+3nhheww/AyyIrncWgF8AtvRian7gdwOp5keuQWRnAVWWBaxz8EcCWOSdaauIcwC5kTIjI1yXAL8QNG80LGMArRuTgJ7wTwGpOa+pVJhTAdGWVq202F8AlsagxAWALwHa+PxzDNgvAUD7SUXqaFsA75LoRLvwPwB7YOxx5iRDAiKisLBdeEsBAkqoSHJYWwI+LsiKzdAjAbejS1iGmBsBZmH0xv1QawLt4FwulsA/AXoK11NklCMA7xzprw5kWwDB7rZns1QjAtvjzo9KCIMAWswHCTFcZwKEYkpuaYyDAmMJkSnSQGMBPH2FSjZgYwNHMhtBSQhfA8d0/9/74FcDDGdt9SmEXwA==",
          "dtype": "f8"
         },
         "yaxis": "y8"
        },
        {
         "marker": {
          "line": {
           "color": "white",
           "width": 1
          },
          "opacity": 0.7,
          "size": 8
         },
         "mode": "markers",
         "name": "Cluster 8",
         "type": "scatter",
         "x": [],
         "xaxis": "x8",
         "y": [],
         "yaxis": "y8"
        },
        {
         "marker": {
          "line": {
           "color": "white",
           "width": 1
          },
          "opacity": 0.7,
          "size": 12
         },
         "mode": "markers",
         "name": "Centers",
         "type": "scatter",
         "x": {
          "bdata": "Z+8Na0HQDMD4ewUbMUvcP1L7ZHwqpB5AL1RkcwLnAkBkHtFASoP3v6BXHFc91cI/BJ2pwBB5EMDLkogzHl8RQA==",
          "dtype": "f8"
         },
         "xaxis": "x8",
         "y": {
          "bdata": "RrXYvmR++T+n0CspGz0ewCqQcXejsSNAyD4f65FE478ovLMuYVQHwIttVBAHixRAc06ah661HMBFKDq8hYYVwA==",
          "dtype": "f8"
         },
         "yaxis": "y8"
        },
        {
         "marker": {
          "line": {
           "color": "white",
           "width": 1
          },
          "opacity": 0.7,
          "size": 8
         },
         "mode": "markers",
         "name": "Cluster 0",
         "type": "scatter",
         "x": {
          "bdata": "cyKDh4qgFcAhexqLr/Dkv1oDh39YHQzA4LYGA7buIMBRFLgPH9jmv4p0/YAdoxjAHGM2PY/6CMDYvfFiPe8ZwIWIgay1UgHA4ictYLa5DcBtHC6aJzsEwDEgXhOpcw/AgZkuTp36E8AWHy6Ubhr+v7ERiqbJFRHAKmYwlNvkF8Ap2YJ6Ch0JwNQmXbyFaQvAh6q4uaQCFcDjfzwC+e8TwIC7FQXjKPy/HmlKPDBJDsAI0g1YUfX0v0JBqpTWofq/9QCk5qLrDcAQRznPzRwFwFnbzMnEU/u/Ee25i5IkBMCQ+4jjZ4ARwNC8wOxcDgjA",
          "dtype": "f8"
         },
         "xaxis": "x9",
         "y": {
          "bdata": "WhUDYIuiA0A2VOQD4A3iP0i5fz+rLuE/z4hnJQBx/D+0r19S0PjWP7JQbKU0swDAIqR6YAxYEEBfzaWsrwcVQNht7UjJGu8/0UAMNmv79z8ctlDjZSHqvwxxG+RI6gZA7nix1WmhAkDzSbABx4zxP7jCLF9udhNA2VYWcOnj/z9g47CQGBqbv43wSNxM/Po/iccJJ+aF5z+4ZJ2cTJgFQOgKkUmh2/4/QrQd3Kp04j8dWsHaHUH/P5LEBrBynPc/R3B5fon78D/A089FGRDOP9OWWqKAqvk/g58dxe/C6r+4b79sKpjZP4IBojoPoMO/",
          "dtype": "f8"
         },
         "yaxis": "y9"
        },
        {
         "marker": {
          "line": {
           "color": "white",
           "width": 1
          },
          "opacity": 0.7,
          "size": 8
         },
         "mode": "markers",
         "name": "Cluster 1",
         "type": "scatter",
         "x": {
          "bdata": "TqdptWLK1b+wtsIDtSz0P9I53uQVW+8/p669PC0n9T+17s+zfvngv/59qXxDy+A/5EYVolsR8j/aoizURJbKv8RoXdUSg9S/I4qQX9jx9j8eK8v0gcXmP+AeHoO9C66/ILDu2auCjz/OKlEm7YHLv/BUbYmVsva/KqN78BpG/L8GaO6qV9D0P3CIk/WbhOO/UKDIbNyfCUAhP9PFRpTiPxK6yuOGAso/Mhha7Shz8D9OqorHf0P/P504B+MlkQFAvt+PP/n68b/gZiKcnqa+P2QHMJbnfARAB2fSwRsD9z+zutQd4jPwv3U3nHXPftG/qYKhxF7P97/TsIFlndDyPwuP9WaM3PM/QHEr+FOFej+L0cV0lov5P9hmj5RgsfW/HAmOWjlq8D9wS1ehi97zv/AeF5P2N+U/Vw0jC/Ob/z8=",
          "dtype": "f8"
         },
         "xaxis": "x9",
         "y": {
          "bdata": "4ciy2dIPGMDCCFi2Gr4WwFvf17lFlBXAFNWVPNkZE8CC96jWcskgwCyxFY0KBCLAaocoDoBmG8ABPsCZOMwawFSENku/IiDAVzU/E9u2HsBPcEwghRUcwFD/AfGBIBbA8FKCKwrpF8AtBEg9N54nwMZ14bnbaB3A63h3soBNI8BqUSbLuRcWwFz1kx6jDSHAlLzy2UnwI8DQjZz03r8hwI/XJyyVlhnA8GRjAUW4F8COlyDlKtwWwJ4hqXkJuiLA/SOdTvE2IcBqnkE6FfIewHNqP3nHMyDAJq4B/TQ+IMB6PhuFEkQiwD9Cz7e1LhXA5YBW5JnEIMDQCMQisbEhwPHNPzpF9xTAfHF991deIMACdMw5rXEkwIHQrgP6IxnAf2vWC71XIMCIpwMxEJ8jwLwxdkY8UR7APPnLWNzSGcA=",
          "dtype": "f8"
         },
         "yaxis": "y9"
        },
        {
         "marker": {
          "line": {
           "color": "white",
           "width": 1
          },
          "opacity": 0.7,
          "size": 8
         },
         "mode": "markers",
         "name": "Cluster 2",
         "type": "scatter",
         "x": {
          "bdata": "eoe4GtkhFEBsIPlS9tgcQN+lGJ1X9iVAvPjVfuc6GEAMsRlvICQaQFizEMdT8x5Ap52pYW1BGUCs1M9E0r8XQI9eUNrENiRAEAWdzMCfIUBSXmhpLHYUQL6ORgdPziNAxg8KButYGUBSfnbP9WYWQBsWnuvPcCBAchRagVjvHkCEQVjnzIIpQNo0nn4BtB5AjcQbxIUGIUAQ7Pzzi5UkQGqWIR0V/iVAqoCpbyK6H0ApcQOIe5waQBKHBDE0uiFAbnSQMLr4J0BuV2NBl5QfQBLmxcc1iRhAoc9XEBiAJUC6jEbJ82gjQPmISgskURVAzXC0MQtjIkCaCaHz6qwkQA/w2GNFWiJAiwQKF2lVI0AjP7BhuFYcQKAzCoMAiiFA9LdFM/lOHUCSpFDcBNYgQMbjtZfbnSFA/noAVBlcHkAtWeagXeseQEhlsOS3ZSZAOcVDFKzNI0DgOszXIoUbQA==",
          "dtype": "f8"
         },
         "xaxis": "x9",
         "y": {
          "bdata": "TxaoSHr1LECl+h7x4CckQE2TdT0XRyVAG7hVvhv7JEBrUBaFtnorQNF0nmxF7yJAaH3Ix0AUJUCX/eQTPdMmQAVnwVRfFCpApb4CsGvJIkBTkC4vMKkmQIxvQDgovipALbdLg/buKUDS+itSSHgnQIIthwjlsCtAy55x5xtJJEBXuwk6ZcQhQFpKQYUtYiZASz7cKe2FJkDH4amIjgUiQITWXJxa8ClAa4YzGKTpJ0DOVx6NoCwkQLFeadGHRSxAjmOMSgb4JkCHyUL26ColQNqwyBlhhyRA/0fnRvHSIkALnvP/G7slQAvvWv/8XClARz/Y7MJMJkBKA0M2xvApQPR5yXg3mCVAg2PSTzJ/JUAc5xXaqQIkQJOlITXnICRAIL1O7XKuLkAf7VitvvQhQFrYWCitoShAJ3BC7e4TI0DYtxp0lHIlQN+FrH8IXyNABvIyy3E8K0CAA4YHeB4kQA==",
          "dtype": "f8"
         },
         "yaxis": "y9"
        },
        {
         "marker": {
          "line": {
           "color": "white",
           "width": 1
          },
          "opacity": 0.7,
          "size": 8
         },
         "mode": "markers",
         "name": "Cluster 3",
         "type": "scatter",
         "x": {
          "bdata": "IiVzFMrYCUDkn3PwLFXhP/5E34ksfgRA/QfyAEIEHUB97YVZkGAWQFgkUJNghgBAzLxrHRA3/T99TcK+PqsIQHMK7EQ+ARFArFb3eSwJBEB0gXmM+s8ZQJVLlYXIQg5AkpeUCXuG/T82VkWwmQsIQMIMfPxZTPc/cGlrw+914T/98hzR2pfYP09BHHOQAfw/THsyyfQ6wr/ASiGHod2tvw5AFQP3aRVAcMzxOIjUEEBsbCliiU8BQGu1rDN/7hFADy1/eXJk8T/SoNGoWRT7P84gHppVFQtAXiiCabEP0z/2sSCDzUAOQDz9Z0abMv0/WMDXk9RqBUBdAaUCCogCQHMfUN1RIPc/",
          "dtype": "f8"
         },
         "xaxis": "x9",
         "y": {
          "bdata": "RIx3iuSC7L+kgYYMA1L6vzahyGslHtA/kjSoUZlM5L9yQwW22vH4v50aHoLYrvu/8sHIcpZ1AcAAXC7g6mMEwIA5JVMy5si/FL8huGaz8T+TJ0iKhoX0v4GgFiVMfuq/gtFXs14SCcB2vj8cwzYLwMCHr95+xZw/70KBtSCT5r/kDWychnS+P5aWrtxhz/G/nt1lAGDcw7+C4l3Y7GjEv1SSAlBeQf4/4fhIyD8IBcDqSf0DF6kEwG3o0tYhpgbAMuOtaqpV/r+Ji/F4Tyzyv0v4qV6CZOm/m2PR5WWg5z9egrXU2SUIwLW+0qd8lgLA/TKqUxW74D9Qq2nweJj9v1x1yRcrUdS/",
          "dtype": "f8"
         },
         "yaxis": "y9"
        },
        {
         "marker": {
          "line": {
           "color": "white",
           "width": 1
          },
          "opacity": 0.7,
          "size": 8
         },
         "mode": "markers",
         "name": "Cluster 4",
         "type": "scatter",
         "x": {
          "bdata": "2C9SzUiRBMDCmJ0LiSQAwNdyvVr0xvS/HWKUHu289L+9x3qrpe7av4wGOVImzAHA+YEi5M6Z2j8+Xy+h6Jnev6LA1WEA4fq/Wp/avCwb/b9EZJtE1prgv2Zhz/nLYti/86E9F76G+r9+yhdvvtQTwGUhX5YrL/A/x2Bc3pHy9798M/y0o//Jv0ga++Xn0g3AIsS7tb9DAMB4fsgKU+sEwEbwSyX+iQDA3BbIurn8vr+WiRfvTwjYP/l4ONWd6f2/AOh239hSuD+WARzaMGncv7Dbt4t7Lqi/plNQVLslCsCbMVrcteb7v8cKk2NxiwfADJbmINqe97/YKlCfR7HrP7VWX3yGig/A1JHGOl/y/7+RjuFouLXovw==",
          "dtype": "f8"
         },
         "xaxis": "x9",
         "y": {
          "bdata": "w0AbI1Pp978476K8V80PwC6EQ3SERuS/yibvLm9897/09hXtJ3wNwAdChAx3RQ3ALsUBMYnVB8CumN4Bbf0GwGhKRs1ZZgnA2VPybiDQDcCI344DA1AUwNuLnwwkiBPANGG0NDfq4b8Ah25Yr+ELwG3sCflkHhHAtF+9kV9FAsC+UHzabtoRwHGI1kcIcwLAOIzFCkmt/7+/SglrOR0CwJ6/kA4eeQLAuABhoiP8DsDARTbBMrUCwHbVQZk7O/e/yMKIoePa+b+I1eKpnoDZv86SPHgsPQTAB7DfLflYEsBxTqVnhAoWwFfoaT5AnBLAihdcGSnTFcDZJ25bqqwGwBQwHCHfCwTAQ8gMqrSwFcAeqlpWHh74vw==",
          "dtype": "f8"
         },
         "yaxis": "y9"
        },
        {
         "marker": {
          "line": {
           "color": "white",
           "width": 1
          },
          "opacity": 0.7,
          "size": 8
         },
         "mode": "markers",
         "name": "Cluster 5",
         "type": "scatter",
         "x": {
          "bdata": "WbZ78U3C8r9mfZorWJ4BwIDJQ9k5sYy/khsY9kBJ4j8D/vQw4Pv6v8i1+Ki8ncK/4IMyteWS8z9iY2qUKxkAQPwwU+obBOS/OoStC6Vq5z/Caaq5Nh4JQJqz1iJlRcO/aYmmxClSFsDLdIu8xCf6v0WZkM+lCPW/bo9yU/Fu6j+0Q+r5W0S/P32LJeDG3/M/YJ3nmhoF4z9hz3ykWhQCQGMUtBtoI+Q/NGSwM33r9T/hUk2An2vmPzAslYV31pe/fw7t0rJR/D/XEbgGCs7RPw==",
          "dtype": "f8"
         },
         "xaxis": "x9",
         "y": {
          "bdata": "EHky1Us2FEDP5f5qUrULQCLY2LkdvRJA+LhEBF8z9j+r2tEKubUaQH1QOts/uglAn56vz+VfD0D77cndQSUPQDZJseFapxFAhtKuIGF2E0CIIGlnTS8TQDDqEWi/+BxAfvZGqJz4H0CPudaXXxwMQJVcfT7jkBFAdhj+Cw4mD0CwcvLijWUSQKXXAHNl7f0/8k6TCw6DC0AJ2lMTcpoKQM4ZPwirwxpAJKfEISdJ+j9AI1iaIaMUQNwFg8fL0AtAwF6zh/EUAkDzf1nK6/kQQA==",
          "dtype": "f8"
         },
         "yaxis": "y9"
        },
        {
         "marker": {
          "line": {
           "color": "white",
           "width": 1
          },
          "opacity": 0.7,
          "size": 8
         },
         "mode": "markers",
         "name": "Cluster 6",
         "type": "scatter",
         "x": {
          "bdata": "MS4JZ6PPBcAiIBegs4cawDA/dOaAmQHAjCxoP6ZcGsDBOtJDWYQOwIVhNJJ4sRLAAq7Jpg/xE8DC+bZyCg0KwC4g22J49AXAGKPzLcRUB8Aq3RKQdIwAwFwRNd5a4RTAtDaVyoMuAsCnIjvFJyMHwJ6QIqD2HhPAk8C27A26E8CnCBYWFJcFwDg1146S1xDAEbRuE3pdBcBNaJi8/RgKwLwX52m4RQrAQVa/iZibJcCAbAoxcQcUwFmhMnh+hwjAp0wOzY7VFcDD17rj9wQDwMCraP+ZpA3As3NJs+TeGcAp+9KXvq8NwA==",
          "dtype": "f8"
         },
         "xaxis": "x9",
         "y": {
          "bdata": "kBD5yBIDH8BOuAOUcnIbwDXe9U+rMh3AiH7MOHgwGcDCadS4jFcawBx9zXQdCBrAke+gyVmjHcDHV64MMiYkwJ4HKx91rBfATO4QRc9jFsBvOj4wjJUXwPBBIljUeBHAKOvpGabFJMAwj43T3D0VwDwYtaRryh/ARuzT21w7JcDVGjAByh0dwNH6V3qDJhbAljkO8priGsDZLZuV3eYdwHJOR2qmrh7AQpwXYfljH8AfsCJR1s4gwBd7yKPoMhbAtfjaJVqBE8ADxKbPfcogwFbN//Wy9xvAoMlGZxbdJMCpSm13kIoYwA==",
          "dtype": "f8"
         },
         "yaxis": "y9"
        },
        {
         "marker": {
          "line": {
           "color": "white",
           "width": 1
          },
          "opacity": 0.7,
          "size": 8
         },
         "mode": "markers",
         "name": "Cluster 7",
         "type": "scatter",
         "x": {
          "bdata": "uv8Twv/ZB0Dd9koY/eMPQJEMGR8lPRNA8LAwGUrNGEAi0IWikXoPQFsUtR0RUhNAj2SCIbZI+j+bJbtJKK0TQIzzD0fZmhRAHMrqcItDEUBDTE/3KV4OQCACb2ahxwNAjEO5Kf+jB0BSwaM7kOkQQCWbq8J/CQFAQiYJveftCEDHvlC5G38SQG2Bod2O4BRA4mnKrgdGHkAdcC2sGyMaQMiiPVfJVBhAzvy4a4jHDEBMMQsaFmMSQMiXwDtYCRZAipY0JYF6FUAjMGn7V34MQJ3LzPqLPRJAGUxGw4mQIUB4a2Gf/bcPQA8ORNJpPgZA7j2ABqudB0AYkspWRncMQA==",
          "dtype": "f8"
         },
         "xaxis": "x9",
         "y": {
          "bdata": "vv1cuwrTEcCJ3FiSQCwSwE+3nhheww/AyyIrncWgF8AtvRian7gdwOp5keuQWRnAVWWBaxz8EcCWOSdaauIcwC5kTIjI1yXAL8QNG80LGMArRuTgJ7wTwGpOa+pVJhTAdGWVq202F8AlsagxAWALwFA+0lF6mhbAO+S6ES78D8Ae2DsceYkQwIiorCwXXhLAQJKqEhyWFsCPi7Iis3QIwFmYfTG/VBrAu3gXC6WwD8A7xzprw5kWwDB7rZns1QjAtvjzo9KCIMAWswHCTFcZwKEYkpuaYyDAmMJkSnSQGMBPH2FSjZgYwNHMhtBSQhfA8d0/9/74FcDDGdt9SmEXwA==",
          "dtype": "f8"
         },
         "yaxis": "y9"
        },
        {
         "marker": {
          "line": {
           "color": "white",
           "width": 1
          },
          "opacity": 0.7,
          "size": 8
         },
         "mode": "markers",
         "name": "Cluster 8",
         "type": "scatter",
         "x": {
          "bdata": "2AmmZ/7oE0BqJrE0qfL9PxiCFsjRGhdAMsHZbA8HEEBy6G9y2tgUQPVzi8+vdRRAwQTuxCR8E0B9xmKE8xQiQK2sDOgCZRdAGjGnBMGQH0CI/e6aS7MlQKZbQO1hcxRAQrdEzIf3I0DZGIbTxSgZQMrojESxlR9A+6cg/9llIEA99uR9IwogQLiDfp3wvxBAH5B3gUiiF0DP7k3wl+wVQK+trEDRd/U/fhUZj2dpGECiyZ7Zr+0eQDeNKfLYdxhA4APJA8pIGUAnCe7Mwh0dQBB0nLouORlA2GuepE6YIkChZwlOGYITQL5ygKgd3BhANFyN9OEtIkA=",
          "dtype": "f8"
         },
         "xaxis": "x9",
         "y": {
          "bdata": "hf3IV0PlIUB+rlPKS1shQIHo+jggDBpAXC0WiOTGH0CvAAXF22IkQG1p1JXCEyBAYDuQQ8sxIEAxpmc/kkIXQN40BfQe2yFAaIputXAoIkBAZXkmq6QYQLq1TbxW1h1AuD1/iquhEkBC9kTT0ssgQPjekdCt5CBA4K5cpQkNG0CJOC1pdOwaQDVKgNgkLSFAFy3dN5JbI0Ao4nEIzt0jQECbilsk6CNAiivjgwscF0AUrHgBGwsgQERfjWMqCR9A3iHbMhFBIUBZ1f+LbrIcQAgRfSMlKhdAvW9KYLlRFEBeJkP1ImwcQPIw6g2MAB5AoqNpd2BUIEA=",
          "dtype": "f8"
         },
         "yaxis": "y9"
        },
        {
         "marker": {
          "line": {
           "color": "white",
           "width": 1
          },
          "opacity": 0.7,
          "size": 8
         },
         "mode": "markers",
         "name": "Cluster 9",
         "type": "scatter",
         "x": [],
         "xaxis": "x9",
         "y": [],
         "yaxis": "y9"
        },
        {
         "marker": {
          "line": {
           "color": "white",
           "width": 1
          },
          "opacity": 0.7,
          "size": 12
         },
         "mode": "markers",
         "name": "Centers",
         "type": "scatter",
         "x": {
          "bdata": "XzCyTY+cDMD4ewUbMUvcPwySUFGVmSBAKVYgGaoBBUB+wOXxooz2vzDUL6ebxLw/BJ2pwBB5EMDCYvJxY5cRQJTmC7+PchlA",
          "dtype": "f8"
         },
         "xaxis": "x9",
         "y": {
          "bdata": "SOsCZknq9T+n0CspGz0ewHGRLnOQnCZAZaYfsSbi8b8vcmUY8UgIwBYdXUXc8BBAc06ah661HMBme8BKF2MWwP6S86vi9x5A",
          "dtype": "f8"
         },
         "yaxis": "y9"
        },
        {
         "marker": {
          "line": {
           "color": "white",
           "width": 1
          },
          "opacity": 0.7,
          "size": 8
         },
         "mode": "markers",
         "name": "Cluster 0",
         "type": "scatter",
         "x": {
          "bdata": "Zn2aK1ieAcBzIoOHiqAVwFoDh39YHQzA4LYGA7buIMCKdP2AHaMYwBxjNj2P+gjA2L3xYj3vGcCFiIGstVIBwOInLWC2uQ3AbRwumic7BMAxIF4TqXMPwIGZLk6d+hPAFh8ulG4a/r+xEYqmyRURwCpmMJTb5BfAKdmCegodCcDUJl28hWkLwIequLmkAhXA4388AvnvE8CAuxUF4yj8vx5pSjwwSQ7ACNINWFH19L9CQaqU1qH6v/UApOai6w3AEEc5z80cBcBZ28zJxFP7vxHtuYuSJATAkPuI42eAEcDQvMDsXA4IwA==",
          "dtype": "f8"
         },
         "xaxis": "x10",
         "y": {
          "bdata": "z+X+alK1C0BaFQNgi6IDQEi5fz+rLuE/z4hnJQBx/D+yUGylNLMAwCKkemAMWBBAX82lrK8HFUDYbe1IyRrvP9FADDZr+/c/HLZQ42Uh6r8McRvkSOoGQO54sdVpoQJA80mwAceM8T+4wixfbnYTQNlWFnDp4/8/YOOwkBgam7+N8EjcTPz6P4nHCSfmhec/uGSdnEyYBUDoCpFJodv+P0K0HdyqdOI/HVrB2h1B/z+SxAawcpz3P0dweX6J+/A/wNPPRRkQzj/TllqigKr5P4OfHcXvwuq/uG+/bCqY2T+CAaI6D6DDvw==",
          "dtype": "f8"
         },
         "yaxis": "y10"
        },
        {
         "marker": {
          "line": {
           "color": "white",
           "width": 1
          },
          "opacity": 0.7,
          "size": 8
         },
         "mode": "markers",
         "name": "Cluster 1",
         "type": "scatter",
         "x": {
          "bdata": "TqdptWLK1b+wtsIDtSz0P9I53uQVW+8/p669PC0n9T+17s+zfvngv/59qXxDy+A/5EYVolsR8j/aoizURJbKv8RoXdUSg9S/I4qQX9jx9j8eK8v0gcXmP+AeHoO9C66/ILDu2auCjz/OKlEm7YHLv/BUbYmVsva/KqN78BpG/L8GaO6qV9D0P3CIk/WbhOO/UKDIbNyfCUAhP9PFRpTiPxK6yuOGAso/Mhha7Shz8D8lm6vCfwkBQE6qisd/Q/8/nTgH4yWRAUC+348/+frxv+BmIpyepr4/ZAcwlud8BEAHZ9LBGwP3P7O61B3iM/C/qYKhxF7P97/TsIFlndDyPwuP9WaM3PM/QHEr+FOFej+L0cV0lov5P9hmj5RgsfW/HAmOWjlq8D9wS1ehi97zv/AeF5P2N+U/Vw0jC/Ob/z8=",
          "dtype": "f8"
         },
         "xaxis": "x10",
         "y": {
          "bdata": "4ciy2dIPGMDCCFi2Gr4WwFvf17lFlBXAFNWVPNkZE8CC96jWcskgwCyxFY0KBCLAaocoDoBmG8ABPsCZOMwawFSENku/IiDAVzU/E9u2HsBPcEwghRUcwFD/AfGBIBbA8FKCKwrpF8AtBEg9N54nwMZ14bnbaB3A63h3soBNI8BqUSbLuRcWwFz1kx6jDSHAlLzy2UnwI8DQjZz03r8hwI/XJyyVlhnA8GRjAUW4F8BQPtJRepoWwI6XIOUq3BbAniGpeQm6IsD9I51O8TYhwGqeQToV8h7Ac2o/ecczIMAmrgH9ND4gwHo+G4USRCLA5YBW5JnEIMDQCMQisbEhwPHNPzpF9xTAfHF991deIMACdMw5rXEkwIHQrgP6IxnAf2vWC71XIMCIpwMxEJ8jwLwxdkY8UR7APPnLWNzSGcA=",
          "dtype": "f8"
         },
         "yaxis": "y10"
        },
        {
         "marker": {
          "line": {
           "color": "white",
           "width": 1
          },
          "opacity": 0.7,
          "size": 8
         },
         "mode": "markers",
         "name": "Cluster 2",
         "type": "scatter",
         "x": {
          "bdata": "eoe4GtkhFEBsIPlS9tgcQN+lGJ1X9iVAvPjVfuc6GEAMsRlvICQaQFizEMdT8x5Ap52pYW1BGUCs1M9E0r8XQI9eUNrENiRAEAWdzMCfIUBSXmhpLHYUQL6ORgdPziNAxg8KButYGUBSfnbP9WYWQBsWnuvPcCBAchRagVjvHkCEQVjnzIIpQNo0nn4BtB5AjcQbxIUGIUAQ7Pzzi5UkQGqWIR0V/iVAqoCpbyK6H0ApcQOIe5waQBKHBDE0uiFAbnSQMLr4J0BuV2NBl5QfQBLmxcc1iRhAoc9XEBiAJUC6jEbJ82gjQPmISgskURVAzXC0MQtjIkCaCaHz6qwkQA/w2GNFWiJAiwQKF2lVI0AjP7BhuFYcQKAzCoMAiiFA9LdFM/lOHUDG47WX250hQP56AFQZXB5ALVnmoF3rHkBIZbDkt2UmQDnFQxSszSNA4DrM1yKFG0A=",
          "dtype": "f8"
         },
         "xaxis": "x10",
         "y": {
          "bdata": "TxaoSHr1LECl+h7x4CckQE2TdT0XRyVAG7hVvhv7JEBrUBaFtnorQNF0nmxF7yJAaH3Ix0AUJUCX/eQTPdMmQAVnwVRfFCpApb4CsGvJIkBTkC4vMKkmQIxvQDgovipALbdLg/buKUDS+itSSHgnQIIthwjlsCtAy55x5xtJJEBXuwk6ZcQhQFpKQYUtYiZASz7cKe2FJkDH4amIjgUiQITWXJxa8ClAa4YzGKTpJ0DOVx6NoCwkQLFeadGHRSxAjmOMSgb4JkCHyUL26ColQNqwyBlhhyRA/0fnRvHSIkALnvP/G7slQAvvWv/8XClARz/Y7MJMJkBKA0M2xvApQPR5yXg3mCVAg2PSTzJ/JUAc5xXaqQIkQJOlITXnICRAIL1O7XKuLkBa2FgoraEoQCdwQu3uEyNA2LcadJRyJUDfhax/CF8jQAbyMstxPCtAgAOGB3geJEA=",
          "dtype": "f8"
         },
         "yaxis": "y10"
        },
        {
         "marker": {
          "line": {
           "color": "white",
           "width": 1
          },
          "opacity": 0.7,
          "size": 8
         },
         "mode": "markers",
         "name": "Cluster 3",
         "type": "scatter",
         "x": {
          "bdata": "uv8Twv/ZB0AiJXMUytgJQN32Shj94w9AkQwZHyU9E0CPZIIhtkj6P/0H8gBCBB1Afe2FWZBgFkBYJFCTYIYAQMy8ax0QN/0/fU3Cvj6rCEBzCuxEPgERQCACb2ahxwNAUsGjO5DpEEB0gXmM+s8ZQJVLlYXIQg5AkpeUCXuG/T82VkWwmQsIQEImCb3n7QhAx75QuRt/EkAdcC2sGyMaQHDM8TiI1BBAbGwpYolPAUBrtawzf+4RQM4gHppVFQtAzvy4a4jHDED2sSCDzUAOQMiXwDtYCRZAPP1nRpsy/T9dAaUCCogCQA==",
          "dtype": "f8"
         },
         "xaxis": "x10",
         "y": {
          "bdata": "vv1cuwrTEcBEjHeK5ILsv4ncWJJALBLAT7eeGF7DD8BVZYFrHPwRwJI0qFGZTOS/ckMFttrx+L+dGh6C2K77v/LByHKWdQHAAFwu4OpjBMCAOSVTMubIv2pOa+pVJhTAJbGoMQFgC8CTJ0iKhoX0v4GgFiVMfuq/gtFXs14SCcB2vj8cwzYLwDvkuhEu/A/AHtg7HHmJEMCPi7Iis3QIwOH4SMg/CAXA6kn9AxepBMBt6NLWIaYGwEv4qV6CZOm/u3gXC6WwD8BegrXU2SUIwDB7rZns1QjAtb7Sp3yWAsBQq2nweJj9vw==",
          "dtype": "f8"
         },
         "yaxis": "y10"
        },
        {
         "marker": {
          "line": {
           "color": "white",
           "width": 1
          },
          "opacity": 0.7,
          "size": 8
         },
         "mode": "markers",
         "name": "Cluster 4",
         "type": "scatter",
         "x": {
          "bdata": "2C9SzUiRBMDCmJ0LiSQAwB1ilB7tvPS/vcd6q6Xu2r+MBjlSJswBwPmBIuTOmdo/Pl8voeiZ3r+iwNVhAOH6v1qf2rwsG/2/RGSbRNaa4L9mYc/5y2LYv37KF2++1BPAZSFflisv8D/HYFzekfL3v3wz/LSj/8m/SBr75efSDcAixLu1v0MAwHh+yApT6wTARvBLJf6JAMDcFsi6ufy+v5aJF+9PCNg/+Xg41Z3p/b+w27eLey6ov6ZTUFS7JQrAdTecdc9+0b+bMVrcteb7v8cKk2NxiwfADJbmINqe97/YKlCfR7HrP7VWX3yGig/A1JHGOl/y/7+RjuFouLXovw==",
          "dtype": "f8"
         },
         "xaxis": "x10",
         "y": {
          "bdata": "w0AbI1Pp978476K8V80PwMom7y5vfPe/9PYV7Sd8DcAHQoQMd0UNwC7FATGJ1QfArpjeAW39BsBoSkbNWWYJwNlT8m4g0A3AiN+OAwNQFMDbi58MJIgTwACHbliv4QvAbewJ+WQeEcC0X72RX0UCwL5QfNpu2hHAcYjWRwhzAsA4jMUKSa3/v79KCWs5HQLAnr+QDh55AsC4AGGiI/wOwMBFNsEytQLAdtVBmTs797/Okjx4LD0EwAew3y35WBLAP0LPt7UuFcBxTqVnhAoWwFfoaT5AnBLAihdcGSnTFcDZJ25bqqwGwBQwHCHfCwTAQ8gMqrSwFcAeqlpWHh74vw==",
          "dtype": "f8"
         },
         "yaxis": "y10"
        },
        {
         "marker": {
          "line": {
           "color": "white",
           "width": 1
          },
          "opacity": 0.7,
          "size": 8
         },
         "mode": "markers",
         "name": "Cluster 5",
         "type": "scatter",
         "x": {
          "bdata": "WbZ78U3C8r9qJrE0qfL9P4DJQ9k5sYy/A/70MOD7+r/ItfiovJ3Cv+CDMrXlkvM/YmNqlCsZAED8MFPqGwTkvzqErQulauc/wmmquTYeCUCas9YiZUXDv6+trEDRd/U/aYmmxClSFsDLdIu8xCf6v0WZkM+lCPW/bo9yU/Fu6j+0Q+r5W0S/P2Cd55oaBeM/Yc98pFoUAkBjFLQbaCPkP+FSTYCfa+Y/MCyVhXfWl7/XEbgGCs7RPw==",
          "dtype": "f8"
         },
         "xaxis": "x10",
         "y": {
          "bdata": "EHky1Us2FEB+rlPKS1shQCLY2LkdvRJAq9rRCrm1GkB9UDrbP7oJQJ+er8/lXw9A++3J3UElD0A2SbHhWqcRQIbSriBhdhNAiCBpZ00vE0Aw6hFov/gcQECbilsk6CNAfvZGqJz4H0CPudaXXxwMQJVcfT7jkBFAdhj+Cw4mD0CwcvLijWUSQPJOkwsOgwtACdpTE3KaCkDOGT8Iq8MaQEAjWJohoxRA3AWDx8vQC0Dzf1nK6/kQQA==",
          "dtype": "f8"
         },
         "yaxis": "y10"
        },
        {
         "marker": {
          "line": {
           "color": "white",
           "width": 1
          },
          "opacity": 0.7,
          "size": 8
         },
         "mode": "markers",
         "name": "Cluster 6",
         "type": "scatter",
         "x": {
          "bdata": "MS4JZ6PPBcAiIBegs4cawDA/dOaAmQHAjCxoP6ZcGsDBOtJDWYQOwIVhNJJ4sRLAAq7Jpg/xE8DC+bZyCg0KwC4g22J49AXAGKPzLcRUB8Aq3RKQdIwAwFwRNd5a4RTAtDaVyoMuAsCnIjvFJyMHwJ6QIqD2HhPAk8C27A26E8CnCBYWFJcFwDg1146S1xDAEbRuE3pdBcBNaJi8/RgKwLwX52m4RQrAQVa/iZibJcCAbAoxcQcUwFmhMnh+hwjAp0wOzY7VFcDD17rj9wQDwMCraP+ZpA3As3NJs+TeGcAp+9KXvq8NwA==",
          "dtype": "f8"
         },
         "xaxis": "x10",
         "y": {
          "bdata": "kBD5yBIDH8BOuAOUcnIbwDXe9U+rMh3AiH7MOHgwGcDCadS4jFcawBx9zXQdCBrAke+gyVmjHcDHV64MMiYkwJ4HKx91rBfATO4QRc9jFsBvOj4wjJUXwPBBIljUeBHAKOvpGabFJMAwj43T3D0VwDwYtaRryh/ARuzT21w7JcDVGjAByh0dwNH6V3qDJhbAljkO8priGsDZLZuV3eYdwHJOR2qmrh7AQpwXYfljH8AfsCJR1s4gwBd7yKPoMhbAtfjaJVqBE8ADxKbPfcogwFbN//Wy9xvAoMlGZxbdJMCpSm13kIoYwA==",
          "dtype": "f8"
         },
         "yaxis": "y10"
        },
        {
         "marker": {
          "line": {
           "color": "white",
           "width": 1
          },
          "opacity": 0.7,
          "size": 8
         },
         "mode": "markers",
         "name": "Cluster 7",
         "type": "scatter",
         "x": {
          "bdata": "8LAwGUrNGEAi0IWikXoPQFsUtR0RUhNAmyW7SSitE0CM8w9H2ZoUQBzK6nCLQxFAQ0xP9yleDkCMQ7kp/6MHQG2Bod2O4BRA4mnKrgdGHkDIoj1XyVQYQEwxCxoWYxJAipY0JYF6FUAjMGn7V34MQJ3LzPqLPRJAGUxGw4mQIUB4a2Gf/bcPQA8ORNJpPgZA7j2ABqudB0AYkspWRncMQA==",
          "dtype": "f8"
         },
         "xaxis": "x10",
         "y": {
          "bdata": "yyIrncWgF8AtvRian7gdwOp5keuQWRnAljknWmriHMAuZEyIyNclwC/EDRvNCxjAK0bk4Ce8E8B0ZZWrbTYXwIiorCwXXhLAQJKqEhyWFsBZmH0xv1QawDvHOmvDmRbAtvjzo9KCIMAWswHCTFcZwKEYkpuaYyDAmMJkSnSQGMBPH2FSjZgYwNHMhtBSQhfA8d0/9/74FcDDGdt9SmEXwA==",
          "dtype": "f8"
         },
         "yaxis": "y10"
        },
        {
         "marker": {
          "line": {
           "color": "white",
           "width": 1
          },
          "opacity": 0.7,
          "size": 8
         },
         "mode": "markers",
         "name": "Cluster 8",
         "type": "scatter",
         "x": {
          "bdata": "2AmmZ/7oE0AYghbI0RoXQDLB2WwPBxBAcuhvctrYFED1c4vPr3UUQMEE7sQkfBNAfcZihPMUIkCtrAzoAmUXQBoxpwTBkB9AiP3umkuzJUCmW0DtYXMUQEK3RMyH9yNA2RiG08UoGUDK6IxEsZUfQPunIP/ZZSBAPfbkfSMKIEC4g36d8L8QQB+Qd4FIohdAz+5N8JfsFUB+FRmPZ2kYQKLJntmv7R5AN40p8th3GEDgA8kDykgZQCcJ7szCHR1AEHScui45GUDYa56kTpgiQKFnCU4ZghNAvnKAqB3cGECSpFDcBNYgQDRcjfThLSJA",
          "dtype": "f8"
         },
         "xaxis": "x10",
         "y": {
          "bdata": "hf3IV0PlIUCB6Po4IAwaQFwtFojkxh9ArwAFxdtiJEBtadSVwhMgQGA7kEPLMSBAMaZnP5JCF0DeNAX0HtshQGiKbrVwKCJAQGV5JqukGEC6tU28VtYdQLg9f4qroRJAQvZE09LLIED43pHQreQgQOCuXKUJDRtAiTgtaXTsGkA1SoDYJC0hQBct3TeSWyNAKOJxCM7dI0CKK+ODCxwXQBSseAEbCyBARF+NYyoJH0DeIdsyEUEhQFnV/4tushxACBF9IyUqF0C9b0pguVEUQF4mQ/UibBxA8jDqDYwAHkAf7VitvvQhQKKjaXdgVCBA",
          "dtype": "f8"
         },
         "yaxis": "y10"
        },
        {
         "marker": {
          "line": {
           "color": "white",
           "width": 1
          },
          "opacity": 0.7,
          "size": 8
         },
         "mode": "markers",
         "name": "Cluster 9",
         "type": "scatter",
         "x": {
          "bdata": "13K9WvTG9L/kn3PwLFXhP/5E34ksfgRAIXsai6/w5L9RFLgPH9jmv5IbGPZASeI/86E9F76G+r+sVvd5LAkEQMIMfPxZTPc/cGlrw+914T/98hzR2pfYP09BHHOQAfw/THsyyfQ6wr/ASiGHod2tvw5AFQP3aRVAAOh239hSuD+WARzaMGncvw8tf3lyZPE/fYsl4Mbf8z/SoNGoWRT7P14ogmmxD9M/WMDXk9RqBUA0ZLAzfev1P3MfUN1RIPc/fw7t0rJR/D8=",
          "dtype": "f8"
         },
         "xaxis": "x10",
         "y": {
          "bdata": "LoRDdIRG5L+kgYYMA1L6vzahyGslHtA/NlTkA+AN4j+0r19S0PjWP/i4RARfM/Y/NGG0NDfq4b8UvyG4ZrPxP8CHr95+xZw/70KBtSCT5r/kDWychnS+P5aWrtxhz/G/nt1lAGDcw7+C4l3Y7GjEv1SSAlBeQf4/yMKIoePa+b+I1eKpnoDZvzLjrWqqVf6/pdcAc2Xt/T+Ji/F4Tyzyv5tj0eVloOc//TKqUxW74D8kp8QhJ0n6P1x1yRcrUdS/wF6zh/EUAkA=",
          "dtype": "f8"
         },
         "yaxis": "y10"
        },
        {
         "marker": {
          "line": {
           "color": "white",
           "width": 1
          },
          "opacity": 0.7,
          "size": 8
         },
         "mode": "markers",
         "name": "Cluster 10",
         "type": "scatter",
         "x": [],
         "xaxis": "x10",
         "y": [],
         "yaxis": "y10"
        },
        {
         "marker": {
          "line": {
           "color": "white",
           "width": 1
          },
          "opacity": 0.7,
          "size": 12
         },
         "mode": "markers",
         "name": "Centers",
         "type": "scatter",
         "x": {
          "bdata": "J4BNQwjUDcCWdD8fuxHgPwPfqYMtmCBA3HOZ0w7PDUC+LapOuSX3v6BXHFc91cI/BJ2pwBB5EMAot/3UFQUTQACg7F9c/RpAZVzroWGk7D8=",
          "dtype": "f8"
         },
         "xaxis": "x10",
         "y": {
          "bdata": "j5iCKY4S+D/0Fp9GM0YewPU72u5HuCZAT5xy+2muBcBb86lpZRULwIttVBAHixRAc06ah661HMDo5NT1Y9oZwKgApqmith5AL1ZeluGjuD8=",
          "dtype": "f8"
         },
         "yaxis": "y10"
        }
       ],
       "layout": {
        "height": 2000,
        "shapes": [
         {
          "line": {
           "color": "Black",
           "dash": "dash",
           "width": 1
          },
          "type": "line",
          "x0": 0,
          "x1": 0,
          "xref": "x",
          "y0": -10,
          "y1": 10,
          "yref": "y"
         },
         {
          "line": {
           "color": "Black",
           "dash": "dash",
           "width": 1
          },
          "type": "line",
          "x0": -10,
          "x1": 10,
          "xref": "x",
          "y0": 0,
          "y1": 0,
          "yref": "y"
         },
         {
          "line": {
           "color": "Black",
           "dash": "dash",
           "width": 1
          },
          "type": "line",
          "x0": 0,
          "x1": 0,
          "xref": "x2",
          "y0": -10,
          "y1": 10,
          "yref": "y2"
         },
         {
          "line": {
           "color": "Black",
           "dash": "dash",
           "width": 1
          },
          "type": "line",
          "x0": -10,
          "x1": 10,
          "xref": "x2",
          "y0": 0,
          "y1": 0,
          "yref": "y2"
         },
         {
          "line": {
           "color": "Black",
           "dash": "dash",
           "width": 1
          },
          "type": "line",
          "x0": 0,
          "x1": 0,
          "xref": "x3",
          "y0": -10,
          "y1": 10,
          "yref": "y3"
         },
         {
          "line": {
           "color": "Black",
           "dash": "dash",
           "width": 1
          },
          "type": "line",
          "x0": -10,
          "x1": 10,
          "xref": "x3",
          "y0": 0,
          "y1": 0,
          "yref": "y3"
         },
         {
          "line": {
           "color": "Black",
           "dash": "dash",
           "width": 1
          },
          "type": "line",
          "x0": 0,
          "x1": 0,
          "xref": "x4",
          "y0": -10,
          "y1": 10,
          "yref": "y4"
         },
         {
          "line": {
           "color": "Black",
           "dash": "dash",
           "width": 1
          },
          "type": "line",
          "x0": -10,
          "x1": 10,
          "xref": "x4",
          "y0": 0,
          "y1": 0,
          "yref": "y4"
         },
         {
          "line": {
           "color": "Black",
           "dash": "dash",
           "width": 1
          },
          "type": "line",
          "x0": 0,
          "x1": 0,
          "xref": "x5",
          "y0": -10,
          "y1": 10,
          "yref": "y5"
         },
         {
          "line": {
           "color": "Black",
           "dash": "dash",
           "width": 1
          },
          "type": "line",
          "x0": -10,
          "x1": 10,
          "xref": "x5",
          "y0": 0,
          "y1": 0,
          "yref": "y5"
         },
         {
          "line": {
           "color": "Black",
           "dash": "dash",
           "width": 1
          },
          "type": "line",
          "x0": 0,
          "x1": 0,
          "xref": "x6",
          "y0": -10,
          "y1": 10,
          "yref": "y6"
         },
         {
          "line": {
           "color": "Black",
           "dash": "dash",
           "width": 1
          },
          "type": "line",
          "x0": -10,
          "x1": 10,
          "xref": "x6",
          "y0": 0,
          "y1": 0,
          "yref": "y6"
         },
         {
          "line": {
           "color": "Black",
           "dash": "dash",
           "width": 1
          },
          "type": "line",
          "x0": 0,
          "x1": 0,
          "xref": "x7",
          "y0": -10,
          "y1": 10,
          "yref": "y7"
         },
         {
          "line": {
           "color": "Black",
           "dash": "dash",
           "width": 1
          },
          "type": "line",
          "x0": -10,
          "x1": 10,
          "xref": "x7",
          "y0": 0,
          "y1": 0,
          "yref": "y7"
         },
         {
          "line": {
           "color": "Black",
           "dash": "dash",
           "width": 1
          },
          "type": "line",
          "x0": 0,
          "x1": 0,
          "xref": "x8",
          "y0": -10,
          "y1": 10,
          "yref": "y8"
         },
         {
          "line": {
           "color": "Black",
           "dash": "dash",
           "width": 1
          },
          "type": "line",
          "x0": -10,
          "x1": 10,
          "xref": "x8",
          "y0": 0,
          "y1": 0,
          "yref": "y8"
         },
         {
          "line": {
           "color": "Black",
           "dash": "dash",
           "width": 1
          },
          "type": "line",
          "x0": 0,
          "x1": 0,
          "xref": "x9",
          "y0": -10,
          "y1": 10,
          "yref": "y9"
         },
         {
          "line": {
           "color": "Black",
           "dash": "dash",
           "width": 1
          },
          "type": "line",
          "x0": -10,
          "x1": 10,
          "xref": "x9",
          "y0": 0,
          "y1": 0,
          "yref": "y9"
         },
         {
          "line": {
           "color": "Black",
           "dash": "dash",
           "width": 1
          },
          "type": "line",
          "x0": 0,
          "x1": 0,
          "xref": "x10",
          "y0": -10,
          "y1": 10,
          "yref": "y10"
         },
         {
          "line": {
           "color": "Black",
           "dash": "dash",
           "width": 1
          },
          "type": "line",
          "x0": -10,
          "x1": 10,
          "xref": "x10",
          "y0": 0,
          "y1": 0,
          "yref": "y10"
         }
        ],
        "showlegend": false,
        "template": {
         "data": {
          "bar": [
           {
            "error_x": {
             "color": "#2a3f5f"
            },
            "error_y": {
             "color": "#2a3f5f"
            },
            "marker": {
             "line": {
              "color": "#E5ECF6",
              "width": 0.5
             },
             "pattern": {
              "fillmode": "overlay",
              "size": 10,
              "solidity": 0.2
             }
            },
            "type": "bar"
           }
          ],
          "barpolar": [
           {
            "marker": {
             "line": {
              "color": "#E5ECF6",
              "width": 0.5
             },
             "pattern": {
              "fillmode": "overlay",
              "size": 10,
              "solidity": 0.2
             }
            },
            "type": "barpolar"
           }
          ],
          "carpet": [
           {
            "aaxis": {
             "endlinecolor": "#2a3f5f",
             "gridcolor": "white",
             "linecolor": "white",
             "minorgridcolor": "white",
             "startlinecolor": "#2a3f5f"
            },
            "baxis": {
             "endlinecolor": "#2a3f5f",
             "gridcolor": "white",
             "linecolor": "white",
             "minorgridcolor": "white",
             "startlinecolor": "#2a3f5f"
            },
            "type": "carpet"
           }
          ],
          "choropleth": [
           {
            "colorbar": {
             "outlinewidth": 0,
             "ticks": ""
            },
            "type": "choropleth"
           }
          ],
          "contour": [
           {
            "colorbar": {
             "outlinewidth": 0,
             "ticks": ""
            },
            "colorscale": [
             [
              0,
              "#0d0887"
             ],
             [
              0.1111111111111111,
              "#46039f"
             ],
             [
              0.2222222222222222,
              "#7201a8"
             ],
             [
              0.3333333333333333,
              "#9c179e"
             ],
             [
              0.4444444444444444,
              "#bd3786"
             ],
             [
              0.5555555555555556,
              "#d8576b"
             ],
             [
              0.6666666666666666,
              "#ed7953"
             ],
             [
              0.7777777777777778,
              "#fb9f3a"
             ],
             [
              0.8888888888888888,
              "#fdca26"
             ],
             [
              1,
              "#f0f921"
             ]
            ],
            "type": "contour"
           }
          ],
          "contourcarpet": [
           {
            "colorbar": {
             "outlinewidth": 0,
             "ticks": ""
            },
            "type": "contourcarpet"
           }
          ],
          "heatmap": [
           {
            "colorbar": {
             "outlinewidth": 0,
             "ticks": ""
            },
            "colorscale": [
             [
              0,
              "#0d0887"
             ],
             [
              0.1111111111111111,
              "#46039f"
             ],
             [
              0.2222222222222222,
              "#7201a8"
             ],
             [
              0.3333333333333333,
              "#9c179e"
             ],
             [
              0.4444444444444444,
              "#bd3786"
             ],
             [
              0.5555555555555556,
              "#d8576b"
             ],
             [
              0.6666666666666666,
              "#ed7953"
             ],
             [
              0.7777777777777778,
              "#fb9f3a"
             ],
             [
              0.8888888888888888,
              "#fdca26"
             ],
             [
              1,
              "#f0f921"
             ]
            ],
            "type": "heatmap"
           }
          ],
          "histogram": [
           {
            "marker": {
             "pattern": {
              "fillmode": "overlay",
              "size": 10,
              "solidity": 0.2
             }
            },
            "type": "histogram"
           }
          ],
          "histogram2d": [
           {
            "colorbar": {
             "outlinewidth": 0,
             "ticks": ""
            },
            "colorscale": [
             [
              0,
              "#0d0887"
             ],
             [
              0.1111111111111111,
              "#46039f"
             ],
             [
              0.2222222222222222,
              "#7201a8"
             ],
             [
              0.3333333333333333,
              "#9c179e"
             ],
             [
              0.4444444444444444,
              "#bd3786"
             ],
             [
              0.5555555555555556,
              "#d8576b"
             ],
             [
              0.6666666666666666,
              "#ed7953"
             ],
             [
              0.7777777777777778,
              "#fb9f3a"
             ],
             [
              0.8888888888888888,
              "#fdca26"
             ],
             [
              1,
              "#f0f921"
             ]
            ],
            "type": "histogram2d"
           }
          ],
          "histogram2dcontour": [
           {
            "colorbar": {
             "outlinewidth": 0,
             "ticks": ""
            },
            "colorscale": [
             [
              0,
              "#0d0887"
             ],
             [
              0.1111111111111111,
              "#46039f"
             ],
             [
              0.2222222222222222,
              "#7201a8"
             ],
             [
              0.3333333333333333,
              "#9c179e"
             ],
             [
              0.4444444444444444,
              "#bd3786"
             ],
             [
              0.5555555555555556,
              "#d8576b"
             ],
             [
              0.6666666666666666,
              "#ed7953"
             ],
             [
              0.7777777777777778,
              "#fb9f3a"
             ],
             [
              0.8888888888888888,
              "#fdca26"
             ],
             [
              1,
              "#f0f921"
             ]
            ],
            "type": "histogram2dcontour"
           }
          ],
          "mesh3d": [
           {
            "colorbar": {
             "outlinewidth": 0,
             "ticks": ""
            },
            "type": "mesh3d"
           }
          ],
          "parcoords": [
           {
            "line": {
             "colorbar": {
              "outlinewidth": 0,
              "ticks": ""
             }
            },
            "type": "parcoords"
           }
          ],
          "pie": [
           {
            "automargin": true,
            "type": "pie"
           }
          ],
          "scatter": [
           {
            "fillpattern": {
             "fillmode": "overlay",
             "size": 10,
             "solidity": 0.2
            },
            "type": "scatter"
           }
          ],
          "scatter3d": [
           {
            "line": {
             "colorbar": {
              "outlinewidth": 0,
              "ticks": ""
             }
            },
            "marker": {
             "colorbar": {
              "outlinewidth": 0,
              "ticks": ""
             }
            },
            "type": "scatter3d"
           }
          ],
          "scattercarpet": [
           {
            "marker": {
             "colorbar": {
              "outlinewidth": 0,
              "ticks": ""
             }
            },
            "type": "scattercarpet"
           }
          ],
          "scattergeo": [
           {
            "marker": {
             "colorbar": {
              "outlinewidth": 0,
              "ticks": ""
             }
            },
            "type": "scattergeo"
           }
          ],
          "scattergl": [
           {
            "marker": {
             "colorbar": {
              "outlinewidth": 0,
              "ticks": ""
             }
            },
            "type": "scattergl"
           }
          ],
          "scattermap": [
           {
            "marker": {
             "colorbar": {
              "outlinewidth": 0,
              "ticks": ""
             }
            },
            "type": "scattermap"
           }
          ],
          "scattermapbox": [
           {
            "marker": {
             "colorbar": {
              "outlinewidth": 0,
              "ticks": ""
             }
            },
            "type": "scattermapbox"
           }
          ],
          "scatterpolar": [
           {
            "marker": {
             "colorbar": {
              "outlinewidth": 0,
              "ticks": ""
             }
            },
            "type": "scatterpolar"
           }
          ],
          "scatterpolargl": [
           {
            "marker": {
             "colorbar": {
              "outlinewidth": 0,
              "ticks": ""
             }
            },
            "type": "scatterpolargl"
           }
          ],
          "scatterternary": [
           {
            "marker": {
             "colorbar": {
              "outlinewidth": 0,
              "ticks": ""
             }
            },
            "type": "scatterternary"
           }
          ],
          "surface": [
           {
            "colorbar": {
             "outlinewidth": 0,
             "ticks": ""
            },
            "colorscale": [
             [
              0,
              "#0d0887"
             ],
             [
              0.1111111111111111,
              "#46039f"
             ],
             [
              0.2222222222222222,
              "#7201a8"
             ],
             [
              0.3333333333333333,
              "#9c179e"
             ],
             [
              0.4444444444444444,
              "#bd3786"
             ],
             [
              0.5555555555555556,
              "#d8576b"
             ],
             [
              0.6666666666666666,
              "#ed7953"
             ],
             [
              0.7777777777777778,
              "#fb9f3a"
             ],
             [
              0.8888888888888888,
              "#fdca26"
             ],
             [
              1,
              "#f0f921"
             ]
            ],
            "type": "surface"
           }
          ],
          "table": [
           {
            "cells": {
             "fill": {
              "color": "#EBF0F8"
             },
             "line": {
              "color": "white"
             }
            },
            "header": {
             "fill": {
              "color": "#C8D4E3"
             },
             "line": {
              "color": "white"
             }
            },
            "type": "table"
           }
          ]
         },
         "layout": {
          "annotationdefaults": {
           "arrowcolor": "#2a3f5f",
           "arrowhead": 0,
           "arrowwidth": 1
          },
          "autotypenumbers": "strict",
          "coloraxis": {
           "colorbar": {
            "outlinewidth": 0,
            "ticks": ""
           }
          },
          "colorscale": {
           "diverging": [
            [
             0,
             "#8e0152"
            ],
            [
             0.1,
             "#c51b7d"
            ],
            [
             0.2,
             "#de77ae"
            ],
            [
             0.3,
             "#f1b6da"
            ],
            [
             0.4,
             "#fde0ef"
            ],
            [
             0.5,
             "#f7f7f7"
            ],
            [
             0.6,
             "#e6f5d0"
            ],
            [
             0.7,
             "#b8e186"
            ],
            [
             0.8,
             "#7fbc41"
            ],
            [
             0.9,
             "#4d9221"
            ],
            [
             1,
             "#276419"
            ]
           ],
           "sequential": [
            [
             0,
             "#0d0887"
            ],
            [
             0.1111111111111111,
             "#46039f"
            ],
            [
             0.2222222222222222,
             "#7201a8"
            ],
            [
             0.3333333333333333,
             "#9c179e"
            ],
            [
             0.4444444444444444,
             "#bd3786"
            ],
            [
             0.5555555555555556,
             "#d8576b"
            ],
            [
             0.6666666666666666,
             "#ed7953"
            ],
            [
             0.7777777777777778,
             "#fb9f3a"
            ],
            [
             0.8888888888888888,
             "#fdca26"
            ],
            [
             1,
             "#f0f921"
            ]
           ],
           "sequentialminus": [
            [
             0,
             "#0d0887"
            ],
            [
             0.1111111111111111,
             "#46039f"
            ],
            [
             0.2222222222222222,
             "#7201a8"
            ],
            [
             0.3333333333333333,
             "#9c179e"
            ],
            [
             0.4444444444444444,
             "#bd3786"
            ],
            [
             0.5555555555555556,
             "#d8576b"
            ],
            [
             0.6666666666666666,
             "#ed7953"
            ],
            [
             0.7777777777777778,
             "#fb9f3a"
            ],
            [
             0.8888888888888888,
             "#fdca26"
            ],
            [
             1,
             "#f0f921"
            ]
           ]
          },
          "colorway": [
           "#636efa",
           "#EF553B",
           "#00cc96",
           "#ab63fa",
           "#FFA15A",
           "#19d3f3",
           "#FF6692",
           "#B6E880",
           "#FF97FF",
           "#FECB52"
          ],
          "font": {
           "color": "#2a3f5f"
          },
          "geo": {
           "bgcolor": "white",
           "lakecolor": "white",
           "landcolor": "#E5ECF6",
           "showlakes": true,
           "showland": true,
           "subunitcolor": "white"
          },
          "hoverlabel": {
           "align": "left"
          },
          "hovermode": "closest",
          "mapbox": {
           "style": "light"
          },
          "paper_bgcolor": "white",
          "plot_bgcolor": "#E5ECF6",
          "polar": {
           "angularaxis": {
            "gridcolor": "white",
            "linecolor": "white",
            "ticks": ""
           },
           "bgcolor": "#E5ECF6",
           "radialaxis": {
            "gridcolor": "white",
            "linecolor": "white",
            "ticks": ""
           }
          },
          "scene": {
           "xaxis": {
            "backgroundcolor": "#E5ECF6",
            "gridcolor": "white",
            "gridwidth": 2,
            "linecolor": "white",
            "showbackground": true,
            "ticks": "",
            "zerolinecolor": "white"
           },
           "yaxis": {
            "backgroundcolor": "#E5ECF6",
            "gridcolor": "white",
            "gridwidth": 2,
            "linecolor": "white",
            "showbackground": true,
            "ticks": "",
            "zerolinecolor": "white"
           },
           "zaxis": {
            "backgroundcolor": "#E5ECF6",
            "gridcolor": "white",
            "gridwidth": 2,
            "linecolor": "white",
            "showbackground": true,
            "ticks": "",
            "zerolinecolor": "white"
           }
          },
          "shapedefaults": {
           "line": {
            "color": "#2a3f5f"
           }
          },
          "ternary": {
           "aaxis": {
            "gridcolor": "white",
            "linecolor": "white",
            "ticks": ""
           },
           "baxis": {
            "gridcolor": "white",
            "linecolor": "white",
            "ticks": ""
           },
           "bgcolor": "#E5ECF6",
           "caxis": {
            "gridcolor": "white",
            "linecolor": "white",
            "ticks": ""
           }
          },
          "title": {
           "x": 0.05
          },
          "xaxis": {
           "automargin": true,
           "gridcolor": "white",
           "linecolor": "white",
           "ticks": "",
           "title": {
            "standoff": 15
           },
           "zerolinecolor": "white",
           "zerolinewidth": 2
          },
          "yaxis": {
           "automargin": true,
           "gridcolor": "white",
           "linecolor": "white",
           "ticks": "",
           "title": {
            "standoff": 15
           },
           "zerolinecolor": "white",
           "zerolinewidth": 2
          }
         }
        },
        "width": 800,
        "xaxis": {
         "anchor": "y",
         "domain": [
          0,
          0.45
         ],
         "gridcolor": "LightGrey",
         "gridwidth": 1,
         "range": [
          -15,
          15
         ],
         "showgrid": true,
         "title": {
          "text": "X1"
         }
        },
        "xaxis10": {
         "anchor": "y10",
         "domain": [
          0.55,
          1
         ],
         "gridcolor": "LightGrey",
         "gridwidth": 1,
         "range": [
          -15,
          15
         ],
         "showgrid": true,
         "title": {
          "text": "X1"
         }
        },
        "xaxis2": {
         "anchor": "y2",
         "domain": [
          0.55,
          1
         ],
         "gridcolor": "LightGrey",
         "gridwidth": 1,
         "range": [
          -15,
          15
         ],
         "showgrid": true,
         "title": {
          "text": "X1"
         }
        },
        "xaxis3": {
         "anchor": "y3",
         "domain": [
          0,
          0.45
         ],
         "gridcolor": "LightGrey",
         "gridwidth": 1,
         "range": [
          -15,
          15
         ],
         "showgrid": true,
         "title": {
          "text": "X1"
         }
        },
        "xaxis4": {
         "anchor": "y4",
         "domain": [
          0.55,
          1
         ],
         "gridcolor": "LightGrey",
         "gridwidth": 1,
         "range": [
          -15,
          15
         ],
         "showgrid": true,
         "title": {
          "text": "X1"
         }
        },
        "xaxis5": {
         "anchor": "y5",
         "domain": [
          0,
          0.45
         ],
         "gridcolor": "LightGrey",
         "gridwidth": 1,
         "range": [
          -15,
          15
         ],
         "showgrid": true,
         "title": {
          "text": "X1"
         }
        },
        "xaxis6": {
         "anchor": "y6",
         "domain": [
          0.55,
          1
         ],
         "gridcolor": "LightGrey",
         "gridwidth": 1,
         "range": [
          -15,
          15
         ],
         "showgrid": true,
         "title": {
          "text": "X1"
         }
        },
        "xaxis7": {
         "anchor": "y7",
         "domain": [
          0,
          0.45
         ],
         "gridcolor": "LightGrey",
         "gridwidth": 1,
         "range": [
          -15,
          15
         ],
         "showgrid": true,
         "title": {
          "text": "X1"
         }
        },
        "xaxis8": {
         "anchor": "y8",
         "domain": [
          0.55,
          1
         ],
         "gridcolor": "LightGrey",
         "gridwidth": 1,
         "range": [
          -15,
          15
         ],
         "showgrid": true,
         "title": {
          "text": "X1"
         }
        },
        "xaxis9": {
         "anchor": "y9",
         "domain": [
          0,
          0.45
         ],
         "gridcolor": "LightGrey",
         "gridwidth": 1,
         "range": [
          -15,
          15
         ],
         "showgrid": true,
         "title": {
          "text": "X1"
         }
        },
        "yaxis": {
         "anchor": "x",
         "domain": [
          0.848,
          1
         ],
         "gridcolor": "LightGrey",
         "gridwidth": 1,
         "range": [
          -15,
          15
         ],
         "showgrid": true,
         "title": {
          "text": "X2"
         }
        },
        "yaxis10": {
         "anchor": "x10",
         "domain": [
          0,
          0.152
         ],
         "gridcolor": "LightGrey",
         "gridwidth": 1,
         "range": [
          -15,
          15
         ],
         "showgrid": true,
         "title": {
          "text": "X2"
         }
        },
        "yaxis2": {
         "anchor": "x2",
         "domain": [
          0.848,
          1
         ],
         "gridcolor": "LightGrey",
         "gridwidth": 1,
         "range": [
          -15,
          15
         ],
         "showgrid": true,
         "title": {
          "text": "X2"
         }
        },
        "yaxis3": {
         "anchor": "x3",
         "domain": [
          0.6359999999999999,
          0.7879999999999999
         ],
         "gridcolor": "LightGrey",
         "gridwidth": 1,
         "range": [
          -15,
          15
         ],
         "showgrid": true,
         "title": {
          "text": "X2"
         }
        },
        "yaxis4": {
         "anchor": "x4",
         "domain": [
          0.6359999999999999,
          0.7879999999999999
         ],
         "gridcolor": "LightGrey",
         "gridwidth": 1,
         "range": [
          -15,
          15
         ],
         "showgrid": true,
         "title": {
          "text": "X2"
         }
        },
        "yaxis5": {
         "anchor": "x5",
         "domain": [
          0.424,
          0.576
         ],
         "gridcolor": "LightGrey",
         "gridwidth": 1,
         "range": [
          -15,
          15
         ],
         "showgrid": true,
         "title": {
          "text": "X2"
         }
        },
        "yaxis6": {
         "anchor": "x6",
         "domain": [
          0.424,
          0.576
         ],
         "gridcolor": "LightGrey",
         "gridwidth": 1,
         "range": [
          -15,
          15
         ],
         "showgrid": true,
         "title": {
          "text": "X2"
         }
        },
        "yaxis7": {
         "anchor": "x7",
         "domain": [
          0.212,
          0.364
         ],
         "gridcolor": "LightGrey",
         "gridwidth": 1,
         "range": [
          -15,
          15
         ],
         "showgrid": true,
         "title": {
          "text": "X2"
         }
        },
        "yaxis8": {
         "anchor": "x8",
         "domain": [
          0.212,
          0.364
         ],
         "gridcolor": "LightGrey",
         "gridwidth": 1,
         "range": [
          -15,
          15
         ],
         "showgrid": true,
         "title": {
          "text": "X2"
         }
        },
        "yaxis9": {
         "anchor": "x9",
         "domain": [
          0,
          0.152
         ],
         "gridcolor": "LightGrey",
         "gridwidth": 1,
         "range": [
          -15,
          15
         ],
         "showgrid": true,
         "title": {
          "text": "X2"
         }
        }
       }
      }
     },
     "metadata": {},
     "output_type": "display_data"
    }
   ],
   "source": [
    "clusters = 4\n",
    "data_points = 300\n",
    "std = 2.5\n",
    "X, y = generate_cluster_data(n = data_points, centers=clusters, std=std, random_state=1505)\n",
    "\n",
    "print(\"X shape: \", X.shape)\n",
    "print(\"y shape: \", y.shape)\n",
    "\n",
    "K = [1, 2, 3, 4, 5, 6, 7, 8, 9, 10]\n",
    "fig = make_subplots(rows=5, cols=2)\n",
    "sse = []\n",
    "\n",
    "for k in K:\n",
    "    kmeans = KMeans(n_clusters=k, random_state=1505)\n",
    "    y_clusters = kmeans.fit_predict(X)\n",
    "    centers = kmeans.cluster_centers_\n",
    "    plot_data(fig,X, y_clusters, clusters=k, kmean_centers=centers, row=(K.index(k) // 2) + 1, col=(K.index(k) % 2) + 1)\n",
    "    sse.append(kmeans.inertia_)\n",
    "# Changing the size of the figs\n",
    "fig.update_layout(height=2000, width=800)\n",
    "\n",
    "fig.show()"
   ]
  },
  {
   "cell_type": "code",
   "execution_count": 43,
   "id": "02c6815a",
   "metadata": {},
   "outputs": [
    {
     "data": {
      "application/vnd.plotly.v1+json": {
       "config": {
        "plotlyServerURL": "https://plot.ly"
       },
       "data": [
        {
         "hovertemplate": "K=%{x}<br>SSE=%{y:.2f}<extra></extra>",
         "line": {
          "color": "royalblue",
          "width": 2
         },
         "marker": {
          "color": "royalblue",
          "size": 8
         },
         "mode": "lines+markers",
         "name": "SSE",
         "type": "scatter",
         "x": [
          1,
          2,
          3,
          4,
          5,
          6,
          7,
          8,
          9,
          10
         ],
         "y": [
          19862.480275376336,
          7142.970027562918,
          4288.999204458453,
          3098.8226786178384,
          2711.12035567323,
          2336.4720959359915,
          2026.1486527754246,
          1855.8454926960076,
          1588.3004539799404,
          1460.3534015360547
         ]
        }
       ],
       "layout": {
        "height": 500,
        "hovermode": "x",
        "showlegend": false,
        "template": {
         "data": {
          "bar": [
           {
            "error_x": {
             "color": "#2a3f5f"
            },
            "error_y": {
             "color": "#2a3f5f"
            },
            "marker": {
             "line": {
              "color": "white",
              "width": 0.5
             },
             "pattern": {
              "fillmode": "overlay",
              "size": 10,
              "solidity": 0.2
             }
            },
            "type": "bar"
           }
          ],
          "barpolar": [
           {
            "marker": {
             "line": {
              "color": "white",
              "width": 0.5
             },
             "pattern": {
              "fillmode": "overlay",
              "size": 10,
              "solidity": 0.2
             }
            },
            "type": "barpolar"
           }
          ],
          "carpet": [
           {
            "aaxis": {
             "endlinecolor": "#2a3f5f",
             "gridcolor": "#C8D4E3",
             "linecolor": "#C8D4E3",
             "minorgridcolor": "#C8D4E3",
             "startlinecolor": "#2a3f5f"
            },
            "baxis": {
             "endlinecolor": "#2a3f5f",
             "gridcolor": "#C8D4E3",
             "linecolor": "#C8D4E3",
             "minorgridcolor": "#C8D4E3",
             "startlinecolor": "#2a3f5f"
            },
            "type": "carpet"
           }
          ],
          "choropleth": [
           {
            "colorbar": {
             "outlinewidth": 0,
             "ticks": ""
            },
            "type": "choropleth"
           }
          ],
          "contour": [
           {
            "colorbar": {
             "outlinewidth": 0,
             "ticks": ""
            },
            "colorscale": [
             [
              0,
              "#0d0887"
             ],
             [
              0.1111111111111111,
              "#46039f"
             ],
             [
              0.2222222222222222,
              "#7201a8"
             ],
             [
              0.3333333333333333,
              "#9c179e"
             ],
             [
              0.4444444444444444,
              "#bd3786"
             ],
             [
              0.5555555555555556,
              "#d8576b"
             ],
             [
              0.6666666666666666,
              "#ed7953"
             ],
             [
              0.7777777777777778,
              "#fb9f3a"
             ],
             [
              0.8888888888888888,
              "#fdca26"
             ],
             [
              1,
              "#f0f921"
             ]
            ],
            "type": "contour"
           }
          ],
          "contourcarpet": [
           {
            "colorbar": {
             "outlinewidth": 0,
             "ticks": ""
            },
            "type": "contourcarpet"
           }
          ],
          "heatmap": [
           {
            "colorbar": {
             "outlinewidth": 0,
             "ticks": ""
            },
            "colorscale": [
             [
              0,
              "#0d0887"
             ],
             [
              0.1111111111111111,
              "#46039f"
             ],
             [
              0.2222222222222222,
              "#7201a8"
             ],
             [
              0.3333333333333333,
              "#9c179e"
             ],
             [
              0.4444444444444444,
              "#bd3786"
             ],
             [
              0.5555555555555556,
              "#d8576b"
             ],
             [
              0.6666666666666666,
              "#ed7953"
             ],
             [
              0.7777777777777778,
              "#fb9f3a"
             ],
             [
              0.8888888888888888,
              "#fdca26"
             ],
             [
              1,
              "#f0f921"
             ]
            ],
            "type": "heatmap"
           }
          ],
          "histogram": [
           {
            "marker": {
             "pattern": {
              "fillmode": "overlay",
              "size": 10,
              "solidity": 0.2
             }
            },
            "type": "histogram"
           }
          ],
          "histogram2d": [
           {
            "colorbar": {
             "outlinewidth": 0,
             "ticks": ""
            },
            "colorscale": [
             [
              0,
              "#0d0887"
             ],
             [
              0.1111111111111111,
              "#46039f"
             ],
             [
              0.2222222222222222,
              "#7201a8"
             ],
             [
              0.3333333333333333,
              "#9c179e"
             ],
             [
              0.4444444444444444,
              "#bd3786"
             ],
             [
              0.5555555555555556,
              "#d8576b"
             ],
             [
              0.6666666666666666,
              "#ed7953"
             ],
             [
              0.7777777777777778,
              "#fb9f3a"
             ],
             [
              0.8888888888888888,
              "#fdca26"
             ],
             [
              1,
              "#f0f921"
             ]
            ],
            "type": "histogram2d"
           }
          ],
          "histogram2dcontour": [
           {
            "colorbar": {
             "outlinewidth": 0,
             "ticks": ""
            },
            "colorscale": [
             [
              0,
              "#0d0887"
             ],
             [
              0.1111111111111111,
              "#46039f"
             ],
             [
              0.2222222222222222,
              "#7201a8"
             ],
             [
              0.3333333333333333,
              "#9c179e"
             ],
             [
              0.4444444444444444,
              "#bd3786"
             ],
             [
              0.5555555555555556,
              "#d8576b"
             ],
             [
              0.6666666666666666,
              "#ed7953"
             ],
             [
              0.7777777777777778,
              "#fb9f3a"
             ],
             [
              0.8888888888888888,
              "#fdca26"
             ],
             [
              1,
              "#f0f921"
             ]
            ],
            "type": "histogram2dcontour"
           }
          ],
          "mesh3d": [
           {
            "colorbar": {
             "outlinewidth": 0,
             "ticks": ""
            },
            "type": "mesh3d"
           }
          ],
          "parcoords": [
           {
            "line": {
             "colorbar": {
              "outlinewidth": 0,
              "ticks": ""
             }
            },
            "type": "parcoords"
           }
          ],
          "pie": [
           {
            "automargin": true,
            "type": "pie"
           }
          ],
          "scatter": [
           {
            "fillpattern": {
             "fillmode": "overlay",
             "size": 10,
             "solidity": 0.2
            },
            "type": "scatter"
           }
          ],
          "scatter3d": [
           {
            "line": {
             "colorbar": {
              "outlinewidth": 0,
              "ticks": ""
             }
            },
            "marker": {
             "colorbar": {
              "outlinewidth": 0,
              "ticks": ""
             }
            },
            "type": "scatter3d"
           }
          ],
          "scattercarpet": [
           {
            "marker": {
             "colorbar": {
              "outlinewidth": 0,
              "ticks": ""
             }
            },
            "type": "scattercarpet"
           }
          ],
          "scattergeo": [
           {
            "marker": {
             "colorbar": {
              "outlinewidth": 0,
              "ticks": ""
             }
            },
            "type": "scattergeo"
           }
          ],
          "scattergl": [
           {
            "marker": {
             "colorbar": {
              "outlinewidth": 0,
              "ticks": ""
             }
            },
            "type": "scattergl"
           }
          ],
          "scattermap": [
           {
            "marker": {
             "colorbar": {
              "outlinewidth": 0,
              "ticks": ""
             }
            },
            "type": "scattermap"
           }
          ],
          "scattermapbox": [
           {
            "marker": {
             "colorbar": {
              "outlinewidth": 0,
              "ticks": ""
             }
            },
            "type": "scattermapbox"
           }
          ],
          "scatterpolar": [
           {
            "marker": {
             "colorbar": {
              "outlinewidth": 0,
              "ticks": ""
             }
            },
            "type": "scatterpolar"
           }
          ],
          "scatterpolargl": [
           {
            "marker": {
             "colorbar": {
              "outlinewidth": 0,
              "ticks": ""
             }
            },
            "type": "scatterpolargl"
           }
          ],
          "scatterternary": [
           {
            "marker": {
             "colorbar": {
              "outlinewidth": 0,
              "ticks": ""
             }
            },
            "type": "scatterternary"
           }
          ],
          "surface": [
           {
            "colorbar": {
             "outlinewidth": 0,
             "ticks": ""
            },
            "colorscale": [
             [
              0,
              "#0d0887"
             ],
             [
              0.1111111111111111,
              "#46039f"
             ],
             [
              0.2222222222222222,
              "#7201a8"
             ],
             [
              0.3333333333333333,
              "#9c179e"
             ],
             [
              0.4444444444444444,
              "#bd3786"
             ],
             [
              0.5555555555555556,
              "#d8576b"
             ],
             [
              0.6666666666666666,
              "#ed7953"
             ],
             [
              0.7777777777777778,
              "#fb9f3a"
             ],
             [
              0.8888888888888888,
              "#fdca26"
             ],
             [
              1,
              "#f0f921"
             ]
            ],
            "type": "surface"
           }
          ],
          "table": [
           {
            "cells": {
             "fill": {
              "color": "#EBF0F8"
             },
             "line": {
              "color": "white"
             }
            },
            "header": {
             "fill": {
              "color": "#C8D4E3"
             },
             "line": {
              "color": "white"
             }
            },
            "type": "table"
           }
          ]
         },
         "layout": {
          "annotationdefaults": {
           "arrowcolor": "#2a3f5f",
           "arrowhead": 0,
           "arrowwidth": 1
          },
          "autotypenumbers": "strict",
          "coloraxis": {
           "colorbar": {
            "outlinewidth": 0,
            "ticks": ""
           }
          },
          "colorscale": {
           "diverging": [
            [
             0,
             "#8e0152"
            ],
            [
             0.1,
             "#c51b7d"
            ],
            [
             0.2,
             "#de77ae"
            ],
            [
             0.3,
             "#f1b6da"
            ],
            [
             0.4,
             "#fde0ef"
            ],
            [
             0.5,
             "#f7f7f7"
            ],
            [
             0.6,
             "#e6f5d0"
            ],
            [
             0.7,
             "#b8e186"
            ],
            [
             0.8,
             "#7fbc41"
            ],
            [
             0.9,
             "#4d9221"
            ],
            [
             1,
             "#276419"
            ]
           ],
           "sequential": [
            [
             0,
             "#0d0887"
            ],
            [
             0.1111111111111111,
             "#46039f"
            ],
            [
             0.2222222222222222,
             "#7201a8"
            ],
            [
             0.3333333333333333,
             "#9c179e"
            ],
            [
             0.4444444444444444,
             "#bd3786"
            ],
            [
             0.5555555555555556,
             "#d8576b"
            ],
            [
             0.6666666666666666,
             "#ed7953"
            ],
            [
             0.7777777777777778,
             "#fb9f3a"
            ],
            [
             0.8888888888888888,
             "#fdca26"
            ],
            [
             1,
             "#f0f921"
            ]
           ],
           "sequentialminus": [
            [
             0,
             "#0d0887"
            ],
            [
             0.1111111111111111,
             "#46039f"
            ],
            [
             0.2222222222222222,
             "#7201a8"
            ],
            [
             0.3333333333333333,
             "#9c179e"
            ],
            [
             0.4444444444444444,
             "#bd3786"
            ],
            [
             0.5555555555555556,
             "#d8576b"
            ],
            [
             0.6666666666666666,
             "#ed7953"
            ],
            [
             0.7777777777777778,
             "#fb9f3a"
            ],
            [
             0.8888888888888888,
             "#fdca26"
            ],
            [
             1,
             "#f0f921"
            ]
           ]
          },
          "colorway": [
           "#636efa",
           "#EF553B",
           "#00cc96",
           "#ab63fa",
           "#FFA15A",
           "#19d3f3",
           "#FF6692",
           "#B6E880",
           "#FF97FF",
           "#FECB52"
          ],
          "font": {
           "color": "#2a3f5f"
          },
          "geo": {
           "bgcolor": "white",
           "lakecolor": "white",
           "landcolor": "white",
           "showlakes": true,
           "showland": true,
           "subunitcolor": "#C8D4E3"
          },
          "hoverlabel": {
           "align": "left"
          },
          "hovermode": "closest",
          "mapbox": {
           "style": "light"
          },
          "paper_bgcolor": "white",
          "plot_bgcolor": "white",
          "polar": {
           "angularaxis": {
            "gridcolor": "#EBF0F8",
            "linecolor": "#EBF0F8",
            "ticks": ""
           },
           "bgcolor": "white",
           "radialaxis": {
            "gridcolor": "#EBF0F8",
            "linecolor": "#EBF0F8",
            "ticks": ""
           }
          },
          "scene": {
           "xaxis": {
            "backgroundcolor": "white",
            "gridcolor": "#DFE8F3",
            "gridwidth": 2,
            "linecolor": "#EBF0F8",
            "showbackground": true,
            "ticks": "",
            "zerolinecolor": "#EBF0F8"
           },
           "yaxis": {
            "backgroundcolor": "white",
            "gridcolor": "#DFE8F3",
            "gridwidth": 2,
            "linecolor": "#EBF0F8",
            "showbackground": true,
            "ticks": "",
            "zerolinecolor": "#EBF0F8"
           },
           "zaxis": {
            "backgroundcolor": "white",
            "gridcolor": "#DFE8F3",
            "gridwidth": 2,
            "linecolor": "#EBF0F8",
            "showbackground": true,
            "ticks": "",
            "zerolinecolor": "#EBF0F8"
           }
          },
          "shapedefaults": {
           "line": {
            "color": "#2a3f5f"
           }
          },
          "ternary": {
           "aaxis": {
            "gridcolor": "#DFE8F3",
            "linecolor": "#A2B1C6",
            "ticks": ""
           },
           "baxis": {
            "gridcolor": "#DFE8F3",
            "linecolor": "#A2B1C6",
            "ticks": ""
           },
           "bgcolor": "white",
           "caxis": {
            "gridcolor": "#DFE8F3",
            "linecolor": "#A2B1C6",
            "ticks": ""
           }
          },
          "title": {
           "x": 0.05
          },
          "xaxis": {
           "automargin": true,
           "gridcolor": "#EBF0F8",
           "linecolor": "#EBF0F8",
           "ticks": "",
           "title": {
            "standoff": 15
           },
           "zerolinecolor": "#EBF0F8",
           "zerolinewidth": 2
          },
          "yaxis": {
           "automargin": true,
           "gridcolor": "#EBF0F8",
           "linecolor": "#EBF0F8",
           "ticks": "",
           "title": {
            "standoff": 15
           },
           "zerolinecolor": "#EBF0F8",
           "zerolinewidth": 2
          }
         }
        },
        "title": {
         "text": "Elbow Method For Optimal K",
         "x": 0.5
        },
        "width": 500,
        "xaxis": {
         "dtick": 1,
         "gridcolor": "lightgray",
         "gridwidth": 1,
         "showgrid": true,
         "tick0": 1,
         "tickmode": "linear",
         "title": {
          "text": "Number of Clusters (K)"
         }
        },
        "yaxis": {
         "gridcolor": "lightgray",
         "gridwidth": 1,
         "showgrid": true,
         "title": {
          "text": "Sum of Squared Errors (SSE)"
         }
        }
       }
      }
     },
     "metadata": {},
     "output_type": "display_data"
    }
   ],
   "source": [
    "plot_elbow_method(sse, K)"
   ]
  },
  {
   "cell_type": "markdown",
   "id": "a55043b9",
   "metadata": {},
   "source": [
    "### (e) Repeat process with random_state None\n"
   ]
  },
  {
   "cell_type": "code",
   "execution_count": 44,
   "id": "a2da8ad4",
   "metadata": {},
   "outputs": [
    {
     "name": "stdout",
     "output_type": "stream",
     "text": [
      "X shape:  (300, 2)\n",
      "y shape:  (300,)\n"
     ]
    },
    {
     "data": {
      "application/vnd.plotly.v1+json": {
       "config": {
        "plotlyServerURL": "https://plot.ly"
       },
       "data": [
        {
         "marker": {
          "line": {
           "color": "white",
           "width": 1
          },
          "opacity": 0.7,
          "size": 8
         },
         "mode": "markers",
         "name": "Cluster 0",
         "type": "scatter",
         "x": {
          "bdata": "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",
          "dtype": "f8"
         },
         "xaxis": "x",
         "y": {
          "bdata": "dl2FnQIIIcAnJUZfjloWwEotkjisDiZA6xuqzXV7J8BLhzWpVWP6vw/FBRRpASXAb94se0fqJMDTyNuFAl8UQC3dKYi7NxrAaifqUoJTIsA7z+M/XOgmwPFaRUqSgxnAhalIkdtmEUDC3Mc/OhkkwHSFKygFGuI/1AgFJOdXGcB0X41p6/nzv6uheBCQJSTAagL2gUQj8z/RIGsal/ccQOReP3TkJhtA8mkqMRnbIMCw/gNu2osaQJwVbiXTbxdAqB68/KtqwL97fMtmxCwfQLs9f9kySyfA6zQpO3H/IsA0lxWcr97cP5hc/1smevI/HqqSIIOrH8CsrLHoYRIdwGdIDwqrpRZAULXQRk/sGkBh3wBJqTsYQDE+8kGO1h3AXI2NSWRKGEBqMifi2UEEQJXduaDNjSFA5/rhcGxmCsCekWS1wcohwAlh6yYW3vk/BK2lEaj6CEC1KPRsFhkYQOmbb/oGQxnALKPgfdDjK8D2Re+BKwkvwNwsjYXrzQVAJTxhy+6WCUBm4YYQLXgZQM+oQrPfjRFA6rhUK/LxFUDAt3D1U4gWwNRmB3azTB3AUrHJoaVJFEC76yo9lY4WQGqqwuF6ThDAjeL7gJLQGMCTeEHzVLMMQPGWdac6bCDA2wEGyWtgKcACBUzE37nVv4JRBWy84x1AGU/WnusY/T/0Gt3w4qwIQEeZbV6HBxbA4rVFTgGCL8DM1ASRzGILwDwnpM0krRhAnNOKhbYJ9b/jyKwQunIHQMzaTzwXDeG/DhJECDHaIsC+uHXQULQWwLc02znY2SPAIKcuw8uozr+j7PBYlDIQwC+QBpWHOQrA5Jee4NmEG0DBuQXG6c/4v4JojNMbF/a/mBvQKa0LHMAPwYzjAOkWwNmEZhM5sv4/In4uElVtAcD2+fgYZPARQNshYvOWsx7AsSlsQ9KIKcBnhD0dnpgjwFECFxn17AxAdHpY+hbXCMAWL/q2+nckwLfemloSBfg/3uFrZDXCIcCOTh7K0eMjwD6tNgd2pB5Au5ck1urID0BsYn52Ov8owFPYq5lE8CLAoNnY1EpOvz/0LrhRdVQmQAil49NkaRFAPo31NKsHAkBunHg38AIOQDoGXXDrxiBAutMRRZ++F0BCObaukQQJQAaAC4ZKphdA7rH+jqaJE8BGW61Uv2AmwEXc52afmQRAjuqSR4wyCMDHpXimfzINwPZFkUVHnR1ApDeF80BuKsAGnaxaG8rwPxYotBrDeRXA1P5zHrguCMDI8AzrfegEwCNY15WH9RRAWNLcVicxFcCLS1od6U4XQBrUIunUAtU/CIIUosF57r+mzcSBcyUdwEXN/r2afCLABjr2JT+dC8DcOg2O+pQKQE0uZ0j4yOy/LOyo184EGEBC6PiutdrQv/HTBud0LQZAUqTR/z/yJcA/kxJydkkLQJY1kdJDKPS/bZWJJt04JMBSHPMmLTgIQDDcXVIhywhABK1MMGlMDECNd1L+yiQdQPYeKbABDw1A3OLG7a0GAsBV6r6T1X4IQMrLHm8EPxfAALGceuZf6b9uxt7goGgowChpivg6xxpAYKjhqH8b9D8Fmtg3KmkhQJQkDRwfGQFAmxa8MzdSGUDYmlw3sT0NwPpAe3CK/PY/BOJ2CseyF0AKc/gE3zQhwLyixKYFJgJAcRzT2jzVFsCb8cFYYfwMQKKWh8XIeiJASXO/HDByEUDGl1Ko0ZkAQDoYePglhRhAemm4wH6fGkCywad2OWsdQKhw9hsVCSTAvYZ8t1/qIMA/lPz3vDYrwDPPuTmJ4SbAHGp+lXD6JMDdf8Ro+roSQGh0pzDS8iHA3IkiyYsxK8AxC3rX128WQJa3tgHnwSLABhOAUalo/D+e77SvEX8TQK/mbnYjHhdADDHxFr78DECzAD4Ye7AdQFZ8JyJHIgrAHKcAhQC1GkBKqXKumeAcQG/ES/3/6BpAvOoTrRWnFsCU2jSMCBEDQP6Yz/qfcQFAJWt7IhnwEcAspDlZrCX8PwjI2fnW3BjAQNZTnK62I8DEjG0CjuAQQEKpVusvxhzAKUaf1AouCkDgAOR2+yEkwKQBJWHazOk/FJHOogjpAMB6xeKhGdckwNVsdpPYwRXAb6qQUyVH+r/uY+fuMvcEwB5wT+uqOiBA4MWpI5NAB0C+w1uEFUoIQPw+lBjpWRpATt0rKWf8CEDckInTdn71v7UG0v5xYPG/wdVtmxRJFEC3PeA/AmApwDGWUFblZQpAoXob8MruI8CizdkA91MowNvt28zEUyLAGbUqzbMxH8C2WJra7BckwLXXqOU8RS7AIIwWgdJQkb8QPcYEBkUaQNykkQ3AdRhA59nvdxa/GMBQzy35QzMFQLzyTKiczQrAEmkFGByNDUAo71qrFbr8PwJoP2wnwyfAQUZ+FAmnDsBqxtTn2EovwEJxJX5DzglARtJhZLMqFkCORive42ETQNaKlgULihhApzanV5xJEkDOR3Bs8N0PwINpFpZGhRfAlQA1MV5IEkBGWe8l2lQTQHdkWPQuqBBAGbb8AYJE77+yhqNWMDYDQFKzzDkJPBxArTGe0H9CE8CS9i2ZSsgbQCZtYJHPVxLATi/a5b3qG8CIbFxUEpQDwGeRbK9HWRHAd8jvtgpxK8AExMQlhjQdwJzwTGg2zyPAi6Uwa1UsBEBsx+ip8/gdwCwdBkHVis6/XJCx5Ts+IkCMI5whbRISwFtG6zy51wnAT9JYy34GFcCFDcmunHogwLEaPQQWCRzALo8o3I9sD0Bh8ecg4yQeQAEqt/B8pBLAVH8WUpS4I0CegiEe8QQeQLTnYk5mBRLAv9db0fiyGsDpPTzDWWMgQNhyv3alAivANIKQBmI3IkCoa2jXr38hwOtfz+gPDgFADcrLL2z/AEDqatUNed0KQIaxBOR3SB5AItPpzilkHUCA4u1m2/4lwAYTHDv5GQvAukG5Uq66JcA2a+8D3RsSQLa1JT2wXiXAdNXwDLcTGkAFzaaLiCIwwEDaSGOY/CJA7EoFVHZRGMAkD7sTFIgxwMqTiE3w+xTAtYQM7I7JHsALFshWIy4JwPt95ssYNxrAYDa1P1BB3b/SPdogh2guwENA1kbyQRfARN6DGAkGCUDWMk9LStMaQLj5vUl6bgRA77CJstpCIsAff62gNsQVQDMo8F/1mhZArCO5fj8rGkAOW0AeNx4qwG0t3owyWCbA",
          "dtype": "f8"
         },
         "yaxis": "y"
        },
        {
         "marker": {
          "line": {
           "color": "white",
           "width": 1
          },
          "opacity": 0.7,
          "size": 8
         },
         "mode": "markers",
         "name": "Cluster 1",
         "type": "scatter",
         "x": [],
         "xaxis": "x",
         "y": [],
         "yaxis": "y"
        },
        {
         "marker": {
          "line": {
           "color": "white",
           "width": 1
          },
          "opacity": 0.7,
          "size": 12
         },
         "mode": "markers",
         "name": "Centers",
         "type": "scatter",
         "x": {
          "bdata": "g4zX05LiDMA=",
          "dtype": "f8"
         },
         "xaxis": "x",
         "y": {
          "bdata": "BeL3TDZh978=",
          "dtype": "f8"
         },
         "yaxis": "y"
        },
        {
         "marker": {
          "line": {
           "color": "white",
           "width": 1
          },
          "opacity": 0.7,
          "size": 8
         },
         "mode": "markers",
         "name": "Cluster 0",
         "type": "scatter",
         "x": {
          "bdata": "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",
          "dtype": "f8"
         },
         "xaxis": "x2",
         "y": {
          "bdata": "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",
          "dtype": "f8"
         },
         "yaxis": "y2"
        },
        {
         "marker": {
          "line": {
           "color": "white",
           "width": 1
          },
          "opacity": 0.7,
          "size": 8
         },
         "mode": "markers",
         "name": "Cluster 1",
         "type": "scatter",
         "x": {
          "bdata": "/IbEGvx4HsC9XhhBsB4ewKr35H1AJBjA8gBRzLqrFMBm55JWwdwKwMWa5pXZ5CXAQpJLjU7+HcAK8j/CGFEcwLMqFmTorifAKBzis89RGMDNJYNafGogwK/7EDanmx3A98io41tEF8CFKyNCVQ0gwEgCWO94eCnAJc56I/n+G8B1onZIle4gwCmWGGcLvx7AOQ/mFlBTHMDOWBjwZtghwFrsfCOESRjA47QnReCgF8CzZzE/rCIhwERqioF/VyTASlsHQIdSJsB0ebbr4eIqwIGDq7oThhZAn5BePwB1HsBTbdirxPAgQGHrEtjzBx7ALTRBtTgeIMDUWeKt9PshwM4bD2L1HiHAEN5LJ07PIsAduhRgC9AawKpO7r+/+iTAeAB+A4oKJsAeGjaXaycewFMfXNW1uSfAsBhBG+0rH0A89pOkcTkiwOgzetCHhSLAHo6FYHeNBsAxENVcP8QlwAESmMlX/RrAAdppXk2QHsDuOh/6xDUbQDUMVS4qwx/Asc2pZjUrGMBRrmx36+UewDEEphy8JRvAVZw5/0wKI8A0/Sbp604JwE9IAKCeSCHAVd/jTQfpGsDMpnZJyFERQD5Dt5t7eh7A4tDcn4e1F8ClYJIXGn0hwKUGjaR7Vh3AY363W0PVJMD7Q2yepk4fwMgFJ1ykDxPApTx6C/LBJcBIRpOuL9wgwEAFSXqvJh3ABn15br8dGsDb7tXmjN4hwCvaSpY/pxPAgANdScUJIMCvm6S8ypkiwNIs1mKTahnAda6XLfKeKMDxN5kQg7oqwN3iKDUMpR7Ahlt24EPNEcC4p/AAvz8XwOBAS7JKbAbAp7SV3A4UF8D1m0o/KXYiwA==",
          "dtype": "f8"
         },
         "xaxis": "x2",
         "y": {
          "bdata": "dl2FnQIIIcAnJUZfjloWwOsbqs11eyfAD8UFFGkBJcBv3ix7R+okwGon6lKCUyLAO8/jP1zoJsDxWkVKkoMZwMLcxz86GSTAq6F4EJAlJMDyaSoxGdsgwLs9f9kySyfA6zQpO3H/IsAeqpIgg6sfwJ6RZLXByiHA6Ztv+gZDGcAso+B90OMrwPZF74ErCS/A1GYHdrNMHcCN4vuAktAYwNsBBslrYCnA4rVFTgGCL8AOEkQIMdoiwLc02znY2SPAsSlsQ9KIKcBnhD0dnpgjwBYv+rb6dyTA3uFrZDXCIcCOTh7K0eMjwGxifnY6/yjAU9irmUTwIsBGW61Uv2AmwKQ3hfNAbirAps3EgXMlHcBFzf69mnwiwFKk0f8/8iXAbZWJJt04JMBuxt7goGgowApz+ATfNCHAqHD2GxUJJMC9hny3X+ogwD+U/Pe8NivAM8+5OYnhJsAcan6VcPokwGh0pzDS8iHA3IkiyYsxK8CWt7YB58EiwLzqE60VpxbAQNZTnK62I8DgAOR2+yEkwHrF4qEZ1yTAtz3gPwJgKcChehvwyu4jwKLN2QD3UyjA2+3bzMRTIsAZtSrNszEfwLZYmtrsFyTAtdeo5TxFLsACaD9sJ8MnwGrG1OfYSi/ATi/a5b3qG8B3yO+2CnErwATExCWGNB3AnPBMaDbPI8CFDcmunHogwLEaPQQWCRzA2HK/dqUCK8Coa2jXr38hwIDi7Wbb/iXAukG5Uq66JcC2tSU9sF4lwAXNpouIIjDA7EoFVHZRGMAkD7sTFIgxwLWEDOyOyR7A0j3aIIdoLsBDQNZG8kEXwO+wibLaQiLADltAHjceKsBtLd6MMlgmwA==",
          "dtype": "f8"
         },
         "yaxis": "y2"
        },
        {
         "marker": {
          "line": {
           "color": "white",
           "width": 1
          },
          "opacity": 0.7,
          "size": 8
         },
         "mode": "markers",
         "name": "Cluster 2",
         "type": "scatter",
         "x": [],
         "xaxis": "x2",
         "y": [],
         "yaxis": "y2"
        },
        {
         "marker": {
          "line": {
           "color": "white",
           "width": 1
          },
          "opacity": 0.7,
          "size": 12
         },
         "mode": "markers",
         "name": "Centers",
         "type": "scatter",
         "x": {
          "bdata": "DOA6L43xAsBkM0MssRwcwA==",
          "dtype": "f8"
         },
         "xaxis": "x2",
         "y": {
          "bdata": "4uaZ16x8/D9UGTHebMAkwA==",
          "dtype": "f8"
         },
         "yaxis": "y2"
        },
        {
         "marker": {
          "line": {
           "color": "white",
           "width": 1
          },
          "opacity": 0.7,
          "size": 8
         },
         "mode": "markers",
         "name": "Cluster 0",
         "type": "scatter",
         "x": {
          "bdata": "hhz7IMnW+L/SGyiPVdUjwKBBUL0Ymg3AzXMlsXkoJMCSkB0/hq8SwCVNEGK5lA3AdE0TA/wRBcA2h/h7PDMnwD8j0x97OyPAKNZkjOfe9r8BrsfAgYUIwKyIH+lgYxfAFCmZQB8xI8B/mt5IjWMawB+Vtw9SdxLAuqwJt0UlH8C3UpoJMTkPwNJ7QjA6iSHA6yO17HgZGsCSZSej0gwdwFG3JQIwZR3A25EZYWP6HcBETVlh/FAjwGCHbsF7yxDANkARI4PR6L/0bfjZJi4cwIEssNTUafa/MJzi5A8KFMBj12K2CsYIwFGp7JZnVgzAkGrRabcQCsDTwlHDD30ZwHVUzaNeJRDAe2rjVLrEE8AxU5xHyq8lwEsiOTdoJQfAcPdyOyPIIsDh87SOtVEewJuYqp1QMAfAVqz8/6GIHsBDZKi0N0AQwAOo/z5/GhvAFtJp5reoHcAbLp5HfCsWwEhrqV6LMAPAsCHnXaaFH8ClfZH1/xchwFSKzT1bsRbAnzFkcPE8FsDEgkSi7ScNwJEB4D9trCDAsk/EYtq/DMB3Uy7jMQ8hwGVYkrHAvgnAeFMdv7JfHsDvqkA7QQEUwCB3V9jtViHAuwJGKh4uCcC/anzAqV0iwOCOyeY8OiHAXd4ZyCI7EcAT3QCTRP4QwBI2ihWZYiTADDSPYkqRB8DGM96eWmERwNqOyY9iagrAhqzdbvEwAMDTfuLFeSsXwL4LVPLABSXAKbxtO0cXHsCe57lmzDIawJyH6tezQQzAvs5clJ1eIsBszBo5pSUewDChLuEN+gnArji+3aLcHsBIyvEFJv0UwPErlyTO2RnAsNJguTLyA8DWR4HAtegjwDGUN8Ia6BrAcTlPnWmUGcCUr5o86fUewJ7B2y7E1STAqNNiEKodJ8A4VRnrL+sbwHgGFUv3biLAcRkiPM5qDcC4eje8Ak4ewJIlaHkyewXApya9KfWd+b9Q6qEo5okQwNa4Ky9hcBrAMYDLFBsUJMB8S2MGLhEjwIMe8zE5+BPADIpOa14YFMDmC5QZsCkOwFrUrqqC1x3Alra/kil7HMAlWbQm1TsiwCXtJcs9bBPAVTRB2q1NHcARI3RbjrgdwCfQjVVPxSXA6zPLSpXjIMDTl4DqoJUgwG5jWopZ6xLAKdHGmZUUIMABVAgUy90SwOBLB3lLexHAGwYOvooZHsDZUMmPjuIRwNfkmeIwRhPA14630AsrIcAKMDTgm8kbwCgeOFmNoCDAkLkioqfUEsDazNObhiEhwG2W13yKTRTArUUnG9erDMCiAA/6PlANwFtAeSWLJwvABlYxHu56B8Cx6fKDqC4MwFTL0A+6ERvAPNk6vMY7KsDjAgLKJNgewGUt/a06HBrA6ZdKCqubG8B3XCGMwNIUwBpzYmKn/wTAnDgmp+SpIsDCRaEi4Z0RwOu5Ji9GugbAEPIusWZ5H8BqqWQROC0ewLRsdABi6A/ASrQhFXxsHcBOFhz/C9YIwJ5kQX/RJxTAQcpJ4SEsI8CSYBuQM+IRwIlI/+B1ZRjAoclzzFTXEMDCX6PLeyofwBlGKHeq8B3A8r8pdq0wJcA=",
          "dtype": "f8"
         },
         "xaxis": "x3",
         "y": {
          "bdata": "Si2SOKwOJkDTyNuFAl8UQIWpSJHbZhFAdF+Naev5879qAvaBRCPzP9EgaxqX9xxA5F4/dOQmG0Cw/gNu2osaQJwVbiXTbxdAe3zLZsQsH0A0lxWcr97cP2dIDwqrpRZAULXQRk/sGkBh3wBJqTsYQFyNjUlkShhAajIn4tlBBECV3bmgzY0hQAlh6yYW3vk/BK2lEaj6CEC1KPRsFhkYQNwsjYXrzQVAJTxhy+6WCUBm4YYQLXgZQM+oQrPfjRFA6rhUK/LxFUBSscmhpUkUQLvrKj2VjhZAk3hB81SzDECCUQVsvOMdQBlP1p7rGP0/9Brd8OKsCEA8J6TNJK0YQJzTioW2CfW/48isELpyB0Agpy7Dy6jOv+SXnuDZhBtAwbkFxunP+L/ZhGYTObL+P/b5+Bhk8BFAUQIXGfXsDEC33ppaEgX4Pz6tNgd2pB5Au5ck1urID0Cg2djUSk6/P/QuuFF1VCZACKXj02RpEUA+jfU0qwcCQG6ceDfwAg5AOgZdcOvGIEC60xFFn74XQEI5tq6RBAlABoALhkqmF0BF3Odmn5kEQPZFkUVHnR1ABp2sWhvK8D8jWNeVh/UUQItLWh3pThdAGtQi6dQC1T/cOg2O+pQKQCzsqNfOBBhAQuj4rrXa0L/x0wbndC0GQD+TEnJ2SQtAljWR0kMo9L9SHPMmLTgIQDDcXVIhywhABK1MMGlMDECNd1L+yiQdQPYeKbABDw1AVeq+k9V+CEAoaYr4OscaQGCo4ah/G/Q/BZrYNyppIUCUJA0cHxkBQJsWvDM3UhlA+kB7cIr89j8E4nYKx7IXQLyixKYFJgJAm/HBWGH8DECilofFyHoiQElzvxwwchFAxpdSqNGZAEA6GHj4JYUYQHppuMB+nxpAssGndjlrHUDdf8Ro+roSQDELetfXbxZABhOAUalo/D+e77SvEX8TQK/mbnYjHhdADDHxFr78DECzAD4Ye7AdQBynAIUAtRpASqlyrpngHEBvxEv9/+gaQJTaNIwIEQNA/pjP+p9xAUAspDlZrCX8P8SMbQKO4BBAKUaf1AouCkAecE/rqjogQL7DW4QVSghA/D6UGOlZGkBO3SspZ/wIQMHVbZsUSRRAMZZQVuVlCkAgjBaB0lCRvxA9xgQGRRpA3KSRDcB1GEBQzy35QzMFQBJpBRgcjQ1AKO9aqxW6/D9CcSV+Q84JQEbSYWSzKhZAjkYr3uNhE0DWipYFC4oYQKc2p1ecSRJAlQA1MV5IEkBGWe8l2lQTQHdkWPQuqBBAsoajVjA2A0BSs8w5CTwcQJL2LZlKyBtAiGxcVBKUA8CLpTBrVSwEQCwdBkHVis6/XJCx5Ts+IkAujyjcj2wPQGHx5yDjJB5AVH8WUpS4I0CegiEe8QQeQOk9PMNZYyBANIKQBmI3IkDrX8/oDw4BQA3Kyy9s/wBA6mrVDXndCkCGsQTkd0geQCLT6c4pZB1ANmvvA90bEkB01fAMtxMaQEDaSGOY/CJAYDa1P1BB3b9E3oMYCQYJQNYyT0tK0xpAuPm9SXpuBEAff62gNsQVQDMo8F/1mhZArCO5fj8rGkA=",
          "dtype": "f8"
         },
         "yaxis": "y3"
        },
        {
         "marker": {
          "line": {
           "color": "white",
           "width": 1
          },
          "opacity": 0.7,
          "size": 8
         },
         "mode": "markers",
         "name": "Cluster 1",
         "type": "scatter",
         "x": {
          "bdata": "bAkfVDiwBUAUcw/7QoATQLiOHklnGxRAWMjROXscFEBYtbmyf8cEQJl+gpD6HgdAArXxqvmpFEBVc8DP4D0QQEJOZXjmn/I/2tVQKqXMEEBjoRV8Lt4SQDotj18pwRtAPndjXJujJUAMQxgMOBAQQPQKXjsZVCRA/Vuydl+DIUAtjL1A314iQEp9kn7TdxBA/rug9urwGkDOldC0hU0GQKqO0haOrhtABnB51PdaGEB7ODOz7JoRQJOdYcDjuhhAoXCBerOXDkCBg6u6E4YWQFNt2KvE8CBAVSuFNx/EIkCj30RcYJUaQC/P8NmdQhNAukNy4F6+EkBa+EcA7g8LQOn4Fu/CGRRAlF/7CnkcFkCseCqVYpsbQJzz793cMSNA3bC00zevI0BvV/WRD2kRQCD/wloTH+Q/JrOFvSDcCEBviZyo7HMTQLAYQRvtKx9A7jof+sQ1G0D4xxqN+UwcQCvPg5H+tB1A69ChrHQACEAydaYvyzMaQIIFZldYLhlAbyrcWfYYE0DvCJL+pXsVQKK18jUlNhJAK5iniImJGEAY0+8xszUaQJgHYw9O/gpA5O0k/I9CIEDMpnZJyFERQAESivsSdyJAcvdP2vSQFkAQM9+PTvkUQFG+4OiQA/o//F1SjkeuGEAye5E9GgYaQCgtwToqZRZAHXVEzMWE8j8DE55r9fscQB9EaoFslxdAg5p22BWsFED4ncn1LhseQOyEF7xE5x5AjdBNOnrYFEAhBXMHOjMEQBb7H+NvmxVAuTeKh3n0AEDeZz0zN3shQPY2iwREkidA7kZQmCWfFkA=",
          "dtype": "f8"
         },
         "xaxis": "x3",
         "y": {
          "bdata": "S4c1qVVj+r8t3SmIuzcawHSFKygFGuI/1AgFJOdXGcCoHrz8q2rAv5hc/1smevI/rKyx6GESHcAxPvJBjtYdwOf64XBsZgrAwLdw9VOIFsBqqsLhek4QwPGWdac6bCDAAgVMxN+51b9HmW1ehwcWwMzUBJHMYgvAzNpPPBcN4b++uHXQULQWwKPs8FiUMhDAL5AGlYc5CsCCaIzTGxf2v5gb0CmtCxzAD8GM4wDpFsAifi4SVW0BwNshYvOWsx7AdHpY+hbXCMAWL/q2+nckwI5OHsrR4yPA7rH+jqaJE8DHpXimfzINwBYotBrDeRXA1P5zHrguCMDI8AzrfegEwFjS3FYnMRXACIIUosF57r8GOvYlP50LwE0uZ0j4yOy/3OLG7a0GAsDKyx5vBD8XwACxnHrmX+m/2JpcN7E9DcBxHNPaPNUWwKhw9hsVCSTAlre2AefBIsBWfCciRyIKwCVreyIZ8BHACMjZ+dbcGMBCqVbrL8YcwKQBJWHazOk/FJHOogjpAMDVbHaT2MEVwG+qkFMlR/q/7mPn7jL3BMDgxakjk0AHQNyQidN2fvW/tQbS/nFg8b8ZtSrNszEfwOfZ73cWvxjAvPJMqJzNCsBBRn4UCacOwM5HcGzw3Q/Ag2kWlkaFF8AZtvwBgkTvv60xntB/QhPAJm1gkc9XEsBnkWyvR1kRwGzH6Knz+B3AjCOcIW0SEsBbRus8udcJwE/SWMt+BhXAASq38HykEsC052JOZgUSwL/XW9H4shrABhMcO/kZC8DKk4hN8PsUwAsWyFYjLgnA+33myxg3GsA=",
          "dtype": "f8"
         },
         "yaxis": "y3"
        },
        {
         "marker": {
          "line": {
           "color": "white",
           "width": 1
          },
          "opacity": 0.7,
          "size": 8
         },
         "mode": "markers",
         "name": "Cluster 2",
         "type": "scatter",
         "x": {
          "bdata": "/IbEGvx4HsC9XhhBsB4ewKr35H1AJBjA8gBRzLqrFMBm55JWwdwKwMWa5pXZ5CXAQpJLjU7+HcAK8j/CGFEcwLMqFmTorifAKBzis89RGMDNJYNafGogwK/7EDanmx3A98io41tEF8CFKyNCVQ0gwEgCWO94eCnAJc56I/n+G8B1onZIle4gwCmWGGcLvx7AOQ/mFlBTHMDOWBjwZtghwFrsfCOESRjA47QnReCgF8CzZzE/rCIhwERqioF/VyTASlsHQIdSJsB0ebbr4eIqwJ+QXj8AdR7AYesS2PMHHsAtNEG1OB4gwNRZ4q30+yHA3l5TStZFHsDOGw9i9R4hwBDeSydOzyLAHboUYAvQGsCqTu6/v/okwHgAfgOKCibAHho2l2snHsBTH1zVtbknwDz2k6RxOSLA6DN60IeFIsAejoVgd40GwDEQ1Vw/xCXAARKYyVf9GsAB2mleTZAewDUMVS4qwx/Asc2pZjUrGMBRrmx36+UewDEEphy8JRvAVZw5/0wKI8A0/Sbp604JwE9IAKCeSCHAVd/jTQfpGsA+Q7ebe3oewOLQ3J+HtRfApWCSFxp9IcClBo2ke1YdwGN+t1tD1STA+0NsnqZOH8DIBSdcpA8TwKU8egvywSXASEaTri/cIMBABUl6ryYdwAZ9eW6/HRrA2+7V5ozeIcAr2kqWP6cTwIADXUnFCSDAr5ukvMqZIsDSLNZik2oZwHWuly3ynijA8TeZEIO6KsDd4ig1DKUewIZbduBDzRHAuKfwAL8/F8DgQEuySmwGwKe0ldwOFBfA9ZtKPyl2IsA=",
          "dtype": "f8"
         },
         "xaxis": "x3",
         "y": {
          "bdata": "dl2FnQIIIcAnJUZfjloWwOsbqs11eyfAD8UFFGkBJcBv3ix7R+okwGon6lKCUyLAO8/jP1zoJsDxWkVKkoMZwMLcxz86GSTAq6F4EJAlJMDyaSoxGdsgwLs9f9kySyfA6zQpO3H/IsAeqpIgg6sfwJ6RZLXByiHA6Ztv+gZDGcAso+B90OMrwPZF74ErCS/A1GYHdrNMHcCN4vuAktAYwNsBBslrYCnA4rVFTgGCL8AOEkQIMdoiwLc02znY2SPAsSlsQ9KIKcBnhD0dnpgjwN7ha2Q1wiHAbGJ+djr/KMBT2KuZRPAiwEZbrVS/YCbAjuqSR4wyCMCkN4XzQG4qwKbNxIFzJR3ARc3+vZp8IsBSpNH/P/IlwG2ViSbdOCTAbsbe4KBoKMAKc/gE3zQhwL2GfLdf6iDAP5T897w2K8Azz7k5ieEmwBxqfpVw+iTAaHSnMNLyIcDciSLJizErwLzqE60VpxbAQNZTnK62I8DgAOR2+yEkwHrF4qEZ1yTAtz3gPwJgKcChehvwyu4jwKLN2QD3UyjA2+3bzMRTIsC2WJra7BckwLXXqOU8RS7AAmg/bCfDJ8BqxtTn2EovwE4v2uW96hvAd8jvtgpxK8AExMQlhjQdwJzwTGg2zyPAhQ3Jrpx6IMCxGj0EFgkcwNhyv3alAivAqGto169/IcCA4u1m2/4lwLpBuVKuuiXAtrUlPbBeJcAFzaaLiCIwwOxKBVR2URjAJA+7ExSIMcC1hAzsjskewNI92iCHaC7AQ0DWRvJBF8DvsImy2kIiwA5bQB43HirAbS3ejDJYJsA=",
          "dtype": "f8"
         },
         "yaxis": "y3"
        },
        {
         "marker": {
          "line": {
           "color": "white",
           "width": 1
          },
          "opacity": 0.7,
          "size": 8
         },
         "mode": "markers",
         "name": "Cluster 3",
         "type": "scatter",
         "x": [],
         "xaxis": "x3",
         "y": [],
         "yaxis": "y3"
        },
        {
         "marker": {
          "line": {
           "color": "white",
           "width": 1
          },
          "opacity": 0.7,
          "size": 12
         },
         "mode": "markers",
         "name": "Centers",
         "type": "scatter",
         "x": {
          "bdata": "9T5Rx6OeGMCWCYT7bqkWQCR1o8hsuh/A",
          "dtype": "f8"
         },
         "xaxis": "x3",
         "y": {
          "bdata": "Eemv+DoBEkBjTKoO1McQwIcFKBRArSTA",
          "dtype": "f8"
         },
         "yaxis": "y3"
        },
        {
         "marker": {
          "line": {
           "color": "white",
           "width": 1
          },
          "opacity": 0.7,
          "size": 8
         },
         "mode": "markers",
         "name": "Cluster 0",
         "type": "scatter",
         "x": {
          "bdata": "0hsoj1XVI8DNcyWxeSgkwDaH+Hs8MyfAPyPTH3s7I8AUKZlAHzEjwH+a3kiNYxrAuqwJt0UlH8DSe0IwOokhwOsjtex4GRrAkmUno9IMHcBRtyUCMGUdwNuRGWFj+h3ARE1ZYfxQI8D0bfjZJi4cwNPCUcMPfRnAMVOcR8qvJcBw93I7I8giwOHztI61UR7AVqz8/6GIHsADqP8+fxobwBbSaea3qB3AsCHnXaaFH8ClfZH1/xchwJEB4D9trCDAd1Mu4zEPIcB4Ux2/sl8ewCB3V9jtViHAv2p8wKldIsDgjsnmPDohwBI2ihWZYiTAvgtU8sAFJcApvG07RxcewJ7nuWbMMhrAvs5clJ1eIsBszBo5pSUewK44vt2i3B7A8SuXJM7ZGcDWR4HAtegjwDGUN8Ia6BrAcTlPnWmUGcCUr5o86fUewJ7B2y7E1STAqNNiEKodJ8A4VRnrL+sbwHgGFUv3biLAuHo3vAJOHsDWuCsvYXAawDGAyxQbFCTAfEtjBi4RI8Ba1K6qgtcdwJa2v5IpexzAJVm0JtU7IsBVNEHarU0dwBEjdFuOuB3AJ9CNVU/FJcDrM8tKleMgwNOXgOqglSDAKdHGmZUUIMAbBg6+ihkewNeOt9ALKyHACjA04JvJG8AoHjhZjaAgwNrM05uGISHAVMvQD7oRG8A82Tq8xjsqwOMCAsok2B7AZS39rTocGsDpl0oKq5sbwJw4JqfkqSLAEPIusWZ5H8BqqWQROC0ewEq0IRV8bB3AQcpJ4SEsI8CJSP/gdWUYwMJfo8t7Kh/AGUYod6rwHcDyvyl2rTAlwA==",
          "dtype": "f8"
         },
         "xaxis": "x4",
         "y": {
          "bdata": "08jbhQJfFEB0X41p6/nzv7D+A27aixpAnBVuJdNvF0BQtdBGT+waQGHfAEmpOxhAajIn4tlBBEAJYesmFt75PwStpRGo+ghAtSj0bBYZGEDcLI2F680FQCU8YcvulglAZuGGEC14GUBSscmhpUkUQDwnpM0krRhAIKcuw8uozr/BuQXG6c/4v9mEZhM5sv4/UQIXGfXsDEA+rTYHdqQeQLuXJNbqyA9ACKXj02RpEUA+jfU0qwcCQEI5tq6RBAlARdznZp+ZBEAGnaxaG8rwP4tLWh3pThdA3DoNjvqUCkAs7KjXzgQYQD+TEnJ2SQtA9h4psAEPDUBV6r6T1X4IQChpivg6xxpABZrYNyppIUCUJA0cHxkBQPpAe3CK/PY/vKLEpgUmAkCilofFyHoiQElzvxwwchFAxpdSqNGZAEA6GHj4JYUYQHppuMB+nxpAssGndjlrHUDdf8Ro+roSQDELetfXbxZAnu+0rxF/E0AcpwCFALUaQEqpcq6Z4BxAb8RL/f/oGkDEjG0CjuAQQClGn9QKLgpAHnBP66o6IED8PpQY6VkaQE7dKyln/AhAwdVtmxRJFEAxllBW5WUKQCCMFoHSUJG/3KSRDcB1GEAo71qrFbr8P45GK97jYRNA1oqWBQuKGECnNqdXnEkSQEZZ7yXaVBNALB0GQdWKzr9ckLHlOz4iQC6PKNyPbA9AYfHnIOMkHkBUfxZSlLgjQDSCkAZiNyJA6mrVDXndCkCGsQTkd0geQDZr7wPdGxJAYDa1P1BB3b/WMk9LStMaQB9/raA2xBVAMyjwX/WaFkCsI7l+PysaQA==",
          "dtype": "f8"
         },
         "yaxis": "y4"
        },
        {
         "marker": {
          "line": {
           "color": "white",
           "width": 1
          },
          "opacity": 0.7,
          "size": 8
         },
         "mode": "markers",
         "name": "Cluster 1",
         "type": "scatter",
         "x": {
          "bdata": "bAkfVDiwBUAUcw/7QoATQLiOHklnGxRAWMjROXscFEBYtbmyf8cEQJl+gpD6HgdAArXxqvmpFEBVc8DP4D0QQEJOZXjmn/I/2tVQKqXMEEBjoRV8Lt4SQDotj18pwRtAPndjXJujJUAMQxgMOBAQQPQKXjsZVCRA/Vuydl+DIUAtjL1A314iQEp9kn7TdxBA/rug9urwGkDOldC0hU0GQKqO0haOrhtABnB51PdaGEB7ODOz7JoRQJOdYcDjuhhAoXCBerOXDkCBg6u6E4YWQFNt2KvE8CBAVSuFNx/EIkCj30RcYJUaQC/P8NmdQhNAukNy4F6+EkBa+EcA7g8LQOn4Fu/CGRRAlF/7CnkcFkCseCqVYpsbQJzz793cMSNA3bC00zevI0BvV/WRD2kRQCD/wloTH+Q/JrOFvSDcCEBviZyo7HMTQLAYQRvtKx9A7jof+sQ1G0D4xxqN+UwcQCvPg5H+tB1A69ChrHQACEAydaYvyzMaQIIFZldYLhlAbyrcWfYYE0DvCJL+pXsVQKK18jUlNhJAK5iniImJGEAY0+8xszUaQJgHYw9O/gpA5O0k/I9CIEDMpnZJyFERQAESivsSdyJAcvdP2vSQFkAQM9+PTvkUQFG+4OiQA/o//F1SjkeuGEAye5E9GgYaQCgtwToqZRZAHXVEzMWE8j8DE55r9fscQB9EaoFslxdAg5p22BWsFED4ncn1LhseQOyEF7xE5x5AjdBNOnrYFEAhBXMHOjMEQBb7H+NvmxVAuTeKh3n0AEDeZz0zN3shQPY2iwREkidA7kZQmCWfFkA=",
          "dtype": "f8"
         },
         "xaxis": "x4",
         "y": {
          "bdata": "S4c1qVVj+r8t3SmIuzcawHSFKygFGuI/1AgFJOdXGcCoHrz8q2rAv5hc/1smevI/rKyx6GESHcAxPvJBjtYdwOf64XBsZgrAwLdw9VOIFsBqqsLhek4QwPGWdac6bCDAAgVMxN+51b9HmW1ehwcWwMzUBJHMYgvAzNpPPBcN4b++uHXQULQWwKPs8FiUMhDAL5AGlYc5CsCCaIzTGxf2v5gb0CmtCxzAD8GM4wDpFsAifi4SVW0BwNshYvOWsx7AdHpY+hbXCMAWL/q2+nckwI5OHsrR4yPA7rH+jqaJE8DHpXimfzINwBYotBrDeRXA1P5zHrguCMDI8AzrfegEwFjS3FYnMRXACIIUosF57r8GOvYlP50LwE0uZ0j4yOy/3OLG7a0GAsDKyx5vBD8XwACxnHrmX+m/2JpcN7E9DcBxHNPaPNUWwKhw9hsVCSTAlre2AefBIsBWfCciRyIKwCVreyIZ8BHACMjZ+dbcGMBCqVbrL8YcwKQBJWHazOk/FJHOogjpAMDVbHaT2MEVwG+qkFMlR/q/7mPn7jL3BMDgxakjk0AHQNyQidN2fvW/tQbS/nFg8b8ZtSrNszEfwOfZ73cWvxjAvPJMqJzNCsBBRn4UCacOwM5HcGzw3Q/Ag2kWlkaFF8AZtvwBgkTvv60xntB/QhPAJm1gkc9XEsBnkWyvR1kRwGzH6Knz+B3AjCOcIW0SEsBbRus8udcJwE/SWMt+BhXAASq38HykEsC052JOZgUSwL/XW9H4shrABhMcO/kZC8DKk4hN8PsUwAsWyFYjLgnA+33myxg3GsA=",
          "dtype": "f8"
         },
         "yaxis": "y4"
        },
        {
         "marker": {
          "line": {
           "color": "white",
           "width": 1
          },
          "opacity": 0.7,
          "size": 8
         },
         "mode": "markers",
         "name": "Cluster 2",
         "type": "scatter",
         "x": {
          "bdata": "/IbEGvx4HsC9XhhBsB4ewKr35H1AJBjA8gBRzLqrFMBm55JWwdwKwMWa5pXZ5CXAQpJLjU7+HcAK8j/CGFEcwLMqFmTorifAKBzis89RGMDNJYNafGogwK/7EDanmx3A98io41tEF8CFKyNCVQ0gwEgCWO94eCnAJc56I/n+G8B1onZIle4gwCmWGGcLvx7AOQ/mFlBTHMDOWBjwZtghwFrsfCOESRjA47QnReCgF8CzZzE/rCIhwERqioF/VyTASlsHQIdSJsB0ebbr4eIqwJ+QXj8AdR7AYesS2PMHHsAtNEG1OB4gwNRZ4q30+yHA3l5TStZFHsDOGw9i9R4hwBDeSydOzyLAHboUYAvQGsCqTu6/v/okwHgAfgOKCibAHho2l2snHsBTH1zVtbknwDz2k6RxOSLA6DN60IeFIsAejoVgd40GwDEQ1Vw/xCXAARKYyVf9GsAB2mleTZAewDUMVS4qwx/Asc2pZjUrGMBRrmx36+UewDEEphy8JRvAVZw5/0wKI8A0/Sbp604JwE9IAKCeSCHAVd/jTQfpGsA+Q7ebe3oewOLQ3J+HtRfApWCSFxp9IcClBo2ke1YdwGN+t1tD1STA+0NsnqZOH8DIBSdcpA8TwKU8egvywSXASEaTri/cIMBABUl6ryYdwAZ9eW6/HRrA2+7V5ozeIcAr2kqWP6cTwIADXUnFCSDAr5ukvMqZIsDSLNZik2oZwHWuly3ynijA8TeZEIO6KsDd4ig1DKUewIZbduBDzRHAuKfwAL8/F8DgQEuySmwGwKe0ldwOFBfA9ZtKPyl2IsA=",
          "dtype": "f8"
         },
         "xaxis": "x4",
         "y": {
          "bdata": "dl2FnQIIIcAnJUZfjloWwOsbqs11eyfAD8UFFGkBJcBv3ix7R+okwGon6lKCUyLAO8/jP1zoJsDxWkVKkoMZwMLcxz86GSTAq6F4EJAlJMDyaSoxGdsgwLs9f9kySyfA6zQpO3H/IsAeqpIgg6sfwJ6RZLXByiHA6Ztv+gZDGcAso+B90OMrwPZF74ErCS/A1GYHdrNMHcCN4vuAktAYwNsBBslrYCnA4rVFTgGCL8AOEkQIMdoiwLc02znY2SPAsSlsQ9KIKcBnhD0dnpgjwN7ha2Q1wiHAbGJ+djr/KMBT2KuZRPAiwEZbrVS/YCbAjuqSR4wyCMCkN4XzQG4qwKbNxIFzJR3ARc3+vZp8IsBSpNH/P/IlwG2ViSbdOCTAbsbe4KBoKMAKc/gE3zQhwL2GfLdf6iDAP5T897w2K8Azz7k5ieEmwBxqfpVw+iTAaHSnMNLyIcDciSLJizErwLzqE60VpxbAQNZTnK62I8DgAOR2+yEkwHrF4qEZ1yTAtz3gPwJgKcChehvwyu4jwKLN2QD3UyjA2+3bzMRTIsC2WJra7BckwLXXqOU8RS7AAmg/bCfDJ8BqxtTn2EovwE4v2uW96hvAd8jvtgpxK8AExMQlhjQdwJzwTGg2zyPAhQ3Jrpx6IMCxGj0EFgkcwNhyv3alAivAqGto169/IcCA4u1m2/4lwLpBuVKuuiXAtrUlPbBeJcAFzaaLiCIwwOxKBVR2URjAJA+7ExSIMcC1hAzsjskewNI92iCHaC7AQ0DWRvJBF8DvsImy2kIiwA5bQB43HirAbS3ejDJYJsA=",
          "dtype": "f8"
         },
         "yaxis": "y4"
        },
        {
         "marker": {
          "line": {
           "color": "white",
           "width": 1
          },
          "opacity": 0.7,
          "size": 8
         },
         "mode": "markers",
         "name": "Cluster 3",
         "type": "scatter",
         "x": {
          "bdata": "hhz7IMnW+L+gQVC9GJoNwJKQHT+GrxLAJU0QYrmUDcB0TRMD/BEFwCjWZIzn3va/Aa7HwIGFCMCsiB/pYGMXwB+Vtw9SdxLAt1KaCTE5D8Bgh27Be8sQwDZAESOD0ei/gSyw1NRp9r8wnOLkDwoUwGPXYrYKxgjAUanslmdWDMCQatFptxAKwHVUzaNeJRDAe2rjVLrEE8BLIjk3aCUHwJuYqp1QMAfAQ2SotDdAEMAbLp5HfCsWwEhrqV6LMAPAVIrNPVuxFsCfMWRw8TwWwMSCRKLtJw3Ask/EYtq/DMBlWJKxwL4JwO+qQDtBARTAuwJGKh4uCcBd3hnIIjsRwBPdAJNE/hDADDSPYkqRB8DGM96eWmERwNqOyY9iagrAhqzdbvEwAMDTfuLFeSsXwJyH6tezQQzAMKEu4Q36CcBIyvEFJv0UwLDSYLky8gPAcRkiPM5qDcCSJWh5MnsFwKcmvSn1nfm/UOqhKOaJEMCDHvMxOfgTwAyKTmteGBTA5guUGbApDsAl7SXLPWwTwG5jWopZ6xLAAVQIFMvdEsDgSwd5S3sRwNlQyY+O4hHA1+SZ4jBGE8CQuSKip9QSwG2W13yKTRTArUUnG9erDMCiAA/6PlANwFtAeSWLJwvABlYxHu56B8Cx6fKDqC4MwHdcIYzA0hTAGnNiYqf/BMDCRaEi4Z0RwOu5Ji9GugbAtGx0AGLoD8BOFhz/C9YIwJ5kQX/RJxTAkmAbkDPiEcChyXPMVNcQwA==",
          "dtype": "f8"
         },
         "xaxis": "x4",
         "y": {
          "bdata": "Si2SOKwOJkCFqUiR22YRQGoC9oFEI/M/0SBrGpf3HEDkXj905CYbQHt8y2bELB9ANJcVnK/e3D9nSA8Kq6UWQFyNjUlkShhAld25oM2NIUDPqEKz340RQOq4VCvy8RVAu+sqPZWOFkCTeEHzVLMMQIJRBWy84x1AGU/WnusY/T/0Gt3w4qwIQJzTioW2CfW/48isELpyB0Dkl57g2YQbQPb5+Bhk8BFAt96aWhIF+D+g2djUSk6/P/QuuFF1VCZAbpx4N/ACDkA6Bl1w68YgQLrTEUWfvhdABoALhkqmF0D2RZFFR50dQCNY15WH9RRAGtQi6dQC1T9C6PiutdrQv/HTBud0LQZAljWR0kMo9L9SHPMmLTgIQDDcXVIhywhABK1MMGlMDECNd1L+yiQdQGCo4ah/G/Q/mxa8MzdSGUAE4nYKx7IXQJvxwVhh/AxABhOAUalo/D+v5m52Ix4XQAwx8Ra+/AxAswA+GHuwHUCU2jSMCBEDQP6Yz/qfcQFALKQ5Wawl/D++w1uEFUoIQBA9xgQGRRpAUM8t+UMzBUASaQUYHI0NQEJxJX5DzglARtJhZLMqFkCVADUxXkgSQHdkWPQuqBBAsoajVjA2A0BSs8w5CTwcQJL2LZlKyBtAiGxcVBKUA8CLpTBrVSwEQJ6CIR7xBB5A6T08w1ljIEDrX8/oDw4BQA3Kyy9s/wBAItPpzilkHUB01fAMtxMaQEDaSGOY/CJARN6DGAkGCUC4+b1Jem4EQA==",
          "dtype": "f8"
         },
         "yaxis": "y4"
        },
        {
         "marker": {
          "line": {
           "color": "white",
           "width": 1
          },
          "opacity": 0.7,
          "size": 8
         },
         "mode": "markers",
         "name": "Cluster 4",
         "type": "scatter",
         "x": [],
         "xaxis": "x4",
         "y": [],
         "yaxis": "y4"
        },
        {
         "marker": {
          "line": {
           "color": "white",
           "width": 1
          },
          "opacity": 0.7,
          "size": 12
         },
         "mode": "markers",
         "name": "Centers",
         "type": "scatter",
         "x": {
          "bdata": "tqv5yVeeIMCWCYT7bqkWQCR1o8hsuh/An7hNoFWMDsA=",
          "dtype": "f8"
         },
         "xaxis": "x4",
         "y": {
          "bdata": "YfMYzxhcEkBjTKoO1McQwIcFKBRArSTAZzRFWK+eEUA=",
          "dtype": "f8"
         },
         "yaxis": "y4"
        },
        {
         "marker": {
          "line": {
           "color": "white",
           "width": 1
          },
          "opacity": 0.7,
          "size": 8
         },
         "mode": "markers",
         "name": "Cluster 0",
         "type": "scatter",
         "x": {
          "bdata": "oEFQvRiaDcDNcyWxeSgkwJKQHT+GrxLAAa7HwIGFCMC6rAm3RSUfwNJ7QjA6iSHA6yO17HgZGsBRtyUCMGUdwNuRGWFj+h3AYIduwXvLEMA2QBEjg9Hov4EssNTUafa/MJzi5A8KFMBRqeyWZ1YMwJBq0Wm3EArAdVTNo14lEMB7auNUusQTwDFTnEfKryXAcPdyOyPIIsDh87SOtVEewJuYqp1QMAfAVqz8/6GIHsBDZKi0N0AQwBbSaea3qB3AGy6eR3wrFsClfZH1/xchwFSKzT1bsRbAkQHgP22sIMB3Uy7jMQ8hwHhTHb+yXx7AuwJGKh4uCcC/anzAqV0iwF3eGcgiOxHAE90Ak0T+EMAMNI9iSpEHwMYz3p5aYRHA2o7Jj2JqCsCGrN1u8TAAwCm8bTtHFx7AnIfq17NBDMBszBo5pSUewK44vt2i3B7A8SuXJM7ZGcCw0mC5MvIDwHE5T51plBnAcRkiPM5qDcCnJr0p9Z35v4Me8zE5+BPADIpOa14YFMDmC5QZsCkOwJa2v5IpexzAJe0lyz1sE8ARI3RbjrgdwOszy0qV4yDA05eA6qCVIMABVAgUy90SwOBLB3lLexHAGwYOvooZHsDZUMmPjuIRwJC5IqKn1BLAbZbXfIpNFMCtRScb16sMwAZWMR7uegfAsenyg6guDMBUy9APuhEbwOMCAsok2B7AwkWhIuGdEcDruSYvRroGwBDyLrFmeR/AQcpJ4SEsI8CSYBuQM+IRwKHJc8xU1xDA",
          "dtype": "f8"
         },
         "xaxis": "x5",
         "y": {
          "bdata": "halIkdtmEUB0X41p6/nzv2oC9oFEI/M/NJcVnK/e3D9qMifi2UEEQAlh6yYW3vk/BK2lEaj6CEDcLI2F680FQCU8YcvulglAz6hCs9+NEUDquFQr8vEVQLvrKj2VjhZAk3hB81SzDEAZT9ae6xj9P/Qa3fDirAhAnNOKhbYJ9b/jyKwQunIHQCCnLsPLqM6/wbkFxunP+L/ZhGYTObL+P/b5+Bhk8BFAUQIXGfXsDEC33ppaEgX4P7uXJNbqyA9AoNnY1EpOvz8+jfU0qwcCQG6ceDfwAg5AQjm2rpEECUBF3Odmn5kEQAadrFobyvA/GtQi6dQC1T/cOg2O+pQKQELo+K612tC/8dMG53QtBkCWNZHSQyj0v1Ic8yYtOAhAMNxdUiHLCEAErUwwaUwMQFXqvpPVfghAYKjhqH8b9D+UJA0cHxkBQPpAe3CK/PY/vKLEpgUmAkCb8cFYYfwMQMaXUqjRmQBABhOAUalo/D8MMfEWvvwMQJTaNIwIEQNA/pjP+p9xAUAspDlZrCX8PylGn9QKLgpAvsNbhBVKCEBO3SspZ/wIQDGWUFblZQpAIIwWgdJQkb9Qzy35QzMFQBJpBRgcjQ1AKO9aqxW6/D9CcSV+Q84JQJUANTFeSBJAd2RY9C6oEECyhqNWMDYDQIhsXFQSlAPAi6Uwa1UsBEAsHQZB1YrOvy6PKNyPbA9A61/P6A8OAUANyssvbP8AQOpq1Q153QpAYDa1P1BB3b9E3oMYCQYJQLj5vUl6bgRA",
          "dtype": "f8"
         },
         "yaxis": "y5"
        },
        {
         "marker": {
          "line": {
           "color": "white",
           "width": 1
          },
          "opacity": 0.7,
          "size": 8
         },
         "mode": "markers",
         "name": "Cluster 1",
         "type": "scatter",
         "x": {
          "bdata": "/IbEGvx4HsC9XhhBsB4ewPIAUcy6qxTAZueSVsHcCsDFmuaV2eQlwAryP8IYURzAKBzis89RGMDNJYNafGogwPfIqONbRBfAhSsjQlUNIMAlznoj+f4bwDkP5hZQUxzAzlgY8GbYIcCzZzE/rCIhwJ+QXj8AdR7ALTRBtTgeIMDeXlNK1kUewBDeSydOzyLAHboUYAvQGsBTH1zVtbknwDz2k6RxOSLAHo6FYHeNBsABEpjJV/0awDUMVS4qwx/Asc2pZjUrGMBRrmx36+UewDEEphy8JRvANP0m6etOCcBV3+NNB+kawD5Dt5t7eh7AY363W0PVJMDIBSdcpA8TwEhGk64v3CDAQAVJeq8mHcDb7tXmjN4hwCvaSpY/pxPAda6XLfKeKMDd4ig1DKUewLin8AC/PxfA4EBLskpsBsA=",
          "dtype": "f8"
         },
         "xaxis": "x5",
         "y": {
          "bdata": "dl2FnQIIIcAnJUZfjloWwA/FBRRpASXAb94se0fqJMBqJ+pSglMiwPFaRUqSgxnAq6F4EJAlJMDyaSoxGdsgwOs0KTtx/yLAHqqSIIOrH8Dpm2/6BkMZwNRmB3azTB3AjeL7gJLQGMAOEkQIMdoiwN7ha2Q1wiHAU9irmUTwIsCO6pJHjDIIwKbNxIFzJR3ARc3+vZp8IsAKc/gE3zQhwL2GfLdf6iDAM8+5OYnhJsBodKcw0vIhwLzqE60VpxbAQNZTnK62I8DgAOR2+yEkwHrF4qEZ1yTAoXob8MruI8Db7dvMxFMiwLZYmtrsFyTATi/a5b3qG8AExMQlhjQdwIUNya6ceiDAsRo9BBYJHMCoa2jXr38hwIDi7Wbb/iXA7EoFVHZRGMC1hAzsjskewENA1kbyQRfA77CJstpCIsA=",
          "dtype": "f8"
         },
         "yaxis": "y5"
        },
        {
         "marker": {
          "line": {
           "color": "white",
           "width": 1
          },
          "opacity": 0.7,
          "size": 8
         },
         "mode": "markers",
         "name": "Cluster 2",
         "type": "scatter",
         "x": {
          "bdata": "bAkfVDiwBUAUcw/7QoATQLiOHklnGxRAWMjROXscFEBYtbmyf8cEQJl+gpD6HgdAArXxqvmpFEBVc8DP4D0QQEJOZXjmn/I/2tVQKqXMEEBjoRV8Lt4SQDotj18pwRtAPndjXJujJUAMQxgMOBAQQPQKXjsZVCRA/Vuydl+DIUAtjL1A314iQEp9kn7TdxBA/rug9urwGkDOldC0hU0GQKqO0haOrhtABnB51PdaGEB7ODOz7JoRQJOdYcDjuhhAoXCBerOXDkCBg6u6E4YWQFNt2KvE8CBAVSuFNx/EIkCj30RcYJUaQC/P8NmdQhNAukNy4F6+EkBa+EcA7g8LQOn4Fu/CGRRAlF/7CnkcFkCseCqVYpsbQJzz793cMSNA3bC00zevI0BvV/WRD2kRQCD/wloTH+Q/JrOFvSDcCEBviZyo7HMTQLAYQRvtKx9A7jof+sQ1G0D4xxqN+UwcQCvPg5H+tB1A69ChrHQACEAydaYvyzMaQIIFZldYLhlAbyrcWfYYE0DvCJL+pXsVQKK18jUlNhJAK5iniImJGEAY0+8xszUaQJgHYw9O/gpA5O0k/I9CIEDMpnZJyFERQAESivsSdyJAcvdP2vSQFkAQM9+PTvkUQFG+4OiQA/o//F1SjkeuGEAye5E9GgYaQCgtwToqZRZAHXVEzMWE8j8DE55r9fscQB9EaoFslxdAg5p22BWsFED4ncn1LhseQOyEF7xE5x5AjdBNOnrYFEAhBXMHOjMEQBb7H+NvmxVAuTeKh3n0AEDeZz0zN3shQPY2iwREkidA7kZQmCWfFkA=",
          "dtype": "f8"
         },
         "xaxis": "x5",
         "y": {
          "bdata": "S4c1qVVj+r8t3SmIuzcawHSFKygFGuI/1AgFJOdXGcCoHrz8q2rAv5hc/1smevI/rKyx6GESHcAxPvJBjtYdwOf64XBsZgrAwLdw9VOIFsBqqsLhek4QwPGWdac6bCDAAgVMxN+51b9HmW1ehwcWwMzUBJHMYgvAzNpPPBcN4b++uHXQULQWwKPs8FiUMhDAL5AGlYc5CsCCaIzTGxf2v5gb0CmtCxzAD8GM4wDpFsAifi4SVW0BwNshYvOWsx7AdHpY+hbXCMAWL/q2+nckwI5OHsrR4yPA7rH+jqaJE8DHpXimfzINwBYotBrDeRXA1P5zHrguCMDI8AzrfegEwFjS3FYnMRXACIIUosF57r8GOvYlP50LwE0uZ0j4yOy/3OLG7a0GAsDKyx5vBD8XwACxnHrmX+m/2JpcN7E9DcBxHNPaPNUWwKhw9hsVCSTAlre2AefBIsBWfCciRyIKwCVreyIZ8BHACMjZ+dbcGMBCqVbrL8YcwKQBJWHazOk/FJHOogjpAMDVbHaT2MEVwG+qkFMlR/q/7mPn7jL3BMDgxakjk0AHQNyQidN2fvW/tQbS/nFg8b8ZtSrNszEfwOfZ73cWvxjAvPJMqJzNCsBBRn4UCacOwM5HcGzw3Q/Ag2kWlkaFF8AZtvwBgkTvv60xntB/QhPAJm1gkc9XEsBnkWyvR1kRwGzH6Knz+B3AjCOcIW0SEsBbRus8udcJwE/SWMt+BhXAASq38HykEsC052JOZgUSwL/XW9H4shrABhMcO/kZC8DKk4hN8PsUwAsWyFYjLgnA+33myxg3GsA=",
          "dtype": "f8"
         },
         "yaxis": "y5"
        },
        {
         "marker": {
          "line": {
           "color": "white",
           "width": 1
          },
          "opacity": 0.7,
          "size": 8
         },
         "mode": "markers",
         "name": "Cluster 3",
         "type": "scatter",
         "x": {
          "bdata": "qvfkfUAkGMBCkkuNTv4dwLMqFmTorifAr/sQNqebHcBIAljveHgpwHWidkiV7iDAKZYYZwu/HsBa7HwjhEkYwOO0J0XgoBfARGqKgX9XJMBKWwdAh1ImwHR5tuvh4irAYesS2PMHHsDUWeKt9PshwM4bD2L1HiHAqk7uv7/6JMB4AH4DigomwB4aNpdrJx7A6DN60IeFIsAxENVcP8QlwAHaaV5NkB7AVZw5/0wKI8BPSACgnkghwOLQ3J+HtRfApWCSFxp9IcClBo2ke1YdwPtDbJ6mTh/ApTx6C/LBJcAGfXluvx0awIADXUnFCSDAr5ukvMqZIsDSLNZik2oZwPE3mRCDuirAhlt24EPNEcCntJXcDhQXwPWbSj8pdiLA",
          "dtype": "f8"
         },
         "xaxis": "x5",
         "y": {
          "bdata": "6xuqzXV7J8A7z+M/XOgmwMLcxz86GSTAuz1/2TJLJ8CekWS1wcohwCyj4H3Q4yvA9kXvgSsJL8DbAQbJa2ApwOK1RU4Bgi/AtzTbOdjZI8CxKWxD0ogpwGeEPR2emCPAbGJ+djr/KMBGW61Uv2AmwKQ3hfNAbirAUqTR/z/yJcBtlYkm3TgkwG7G3uCgaCjAP5T897w2K8Acan6VcPokwNyJIsmLMSvAtz3gPwJgKcCizdkA91MowLXXqOU8RS7AAmg/bCfDJ8BqxtTn2EovwHfI77YKcSvAnPBMaDbPI8DYcr92pQIrwLpBuVKuuiXAtrUlPbBeJcAFzaaLiCIwwCQPuxMUiDHA0j3aIIdoLsAOW0AeNx4qwG0t3owyWCbA",
          "dtype": "f8"
         },
         "yaxis": "y5"
        },
        {
         "marker": {
          "line": {
           "color": "white",
           "width": 1
          },
          "opacity": 0.7,
          "size": 8
         },
         "mode": "markers",
         "name": "Cluster 4",
         "type": "scatter",
         "x": {
          "bdata": "hhz7IMnW+L/SGyiPVdUjwCVNEGK5lA3AdE0TA/wRBcA2h/h7PDMnwD8j0x97OyPAKNZkjOfe9r+siB/pYGMXwBQpmUAfMSPAf5reSI1jGsAflbcPUncSwLdSmgkxOQ/AkmUno9IMHcBETVlh/FAjwPRt+NkmLhzAY9ditgrGCMDTwlHDD30ZwEsiOTdoJQfAA6j/Pn8aG8BIa6leizADwLAh512mhR/AnzFkcPE8FsDEgkSi7ScNwLJPxGLavwzAZViSscC+CcDvqkA7QQEUwCB3V9jtViHA4I7J5jw6IcASNooVmWIkwNN+4sV5KxfAvgtU8sAFJcCe57lmzDIawL7OXJSdXiLAMKEu4Q36CcBIyvEFJv0UwNZHgcC16CPAMZQ3whroGsCUr5o86fUewJ7B2y7E1STAqNNiEKodJ8A4VRnrL+sbwHgGFUv3biLAuHo3vAJOHsCSJWh5MnsFwFDqoSjmiRDA1rgrL2FwGsAxgMsUGxQkwHxLYwYuESPAWtSuqoLXHcAlWbQm1TsiwFU0QdqtTR3AJ9CNVU/FJcBuY1qKWesSwCnRxpmVFCDA1+SZ4jBGE8DXjrfQCyshwAowNOCbyRvAKB44WY2gIMDazNObhiEhwKIAD/o+UA3AW0B5JYsnC8A82Tq8xjsqwGUt/a06HBrA6ZdKCqubG8B3XCGMwNIUwBpzYmKn/wTAnDgmp+SpIsBqqWQROC0ewLRsdABi6A/ASrQhFXxsHcBOFhz/C9YIwJ5kQX/RJxTAiUj/4HVlGMDCX6PLeyofwBlGKHeq8B3A8r8pdq0wJcA=",
          "dtype": "f8"
         },
         "xaxis": "x5",
         "y": {
          "bdata": "Si2SOKwOJkDTyNuFAl8UQNEgaxqX9xxA5F4/dOQmG0Cw/gNu2osaQJwVbiXTbxdAe3zLZsQsH0BnSA8Kq6UWQFC10EZP7BpAYd8ASak7GEBcjY1JZEoYQJXduaDNjSFAtSj0bBYZGEBm4YYQLXgZQFKxyaGlSRRAglEFbLzjHUA8J6TNJK0YQOSXnuDZhBtAPq02B3akHkD0LrhRdVQmQAil49NkaRFAOgZdcOvGIEC60xFFn74XQAaAC4ZKphdA9kWRRUedHUAjWNeVh/UUQItLWh3pThdALOyo184EGEA/kxJydkkLQI13Uv7KJB1A9h4psAEPDUAoaYr4OscaQAWa2DcqaSFAmxa8MzdSGUAE4nYKx7IXQKKWh8XIeiJASXO/HDByEUA6GHj4JYUYQHppuMB+nxpAssGndjlrHUDdf8Ro+roSQDELetfXbxZAnu+0rxF/E0Cv5m52Ix4XQLMAPhh7sB1AHKcAhQC1GkBKqXKumeAcQG/ES/3/6BpAxIxtAo7gEEAecE/rqjogQPw+lBjpWRpAwdVtmxRJFEAQPcYEBkUaQNykkQ3AdRhARtJhZLMqFkCORive42ETQNaKlgULihhApzanV5xJEkBGWe8l2lQTQFKzzDkJPBxAkvYtmUrIG0BckLHlOz4iQGHx5yDjJB5AVH8WUpS4I0CegiEe8QQeQOk9PMNZYyBANIKQBmI3IkCGsQTkd0geQCLT6c4pZB1ANmvvA90bEkB01fAMtxMaQEDaSGOY/CJA1jJPS0rTGkAff62gNsQVQDMo8F/1mhZArCO5fj8rGkA=",
          "dtype": "f8"
         },
         "yaxis": "y5"
        },
        {
         "marker": {
          "line": {
           "color": "white",
           "width": 1
          },
          "opacity": 0.7,
          "size": 8
         },
         "mode": "markers",
         "name": "Cluster 5",
         "type": "scatter",
         "x": [],
         "xaxis": "x5",
         "y": [],
         "yaxis": "y5"
        },
        {
         "marker": {
          "line": {
           "color": "white",
           "width": 1
          },
          "opacity": 0.7,
          "size": 12
         },
         "mode": "markers",
         "name": "Centers",
         "type": "scatter",
         "x": {
          "bdata": "JYykg9U1FsDox4PpKRAdwJYJhPtuqRZAJ3AqGT9YIcDV9b5l++YawA==",
          "dtype": "f8"
         },
         "xaxis": "x5",
         "y": {
          "bdata": "/+DlsBU8AkD/zsJ9ubcgwGNMqg7UxxDAyOy012MTKcCWuc7uq2waQA==",
          "dtype": "f8"
         },
         "yaxis": "y5"
        },
        {
         "marker": {
          "line": {
           "color": "white",
           "width": 1
          },
          "opacity": 0.7,
          "size": 8
         },
         "mode": "markers",
         "name": "Cluster 0",
         "type": "scatter",
         "x": {
          "bdata": "FHMP+0KAE0BYyNE5exwUQAK18ar5qRRAVXPAz+A9EEBCTmV45p/yP9rVUCqlzBBAY6EVfC7eEkA6LY9fKcEbQAxDGAw4EBBALYy9QN9eIkBKfZJ+03cQQKqO0haOrhtABnB51PdaGECTnWHA47oYQIGDq7oThhZAU23Yq8TwIEBVK4U3H8QiQC/P8NmdQhNA6fgW78IZFEBvV/WRD2kRQCazhb0g3AhAb4mcqOxzE0CwGEEb7SsfQO46H/rENRtAK8+Dkf60HUDr0KGsdAAIQDJ1pi/LMxpA7wiS/qV7FUDMpnZJyFERQAESivsSdyJAEDPfj075FEBRvuDokAP6P/xdUo5HrhhAKC3BOiplFkAddUTMxYTyPwMTnmv1+xxAH0RqgWyXF0CDmnbYFawUQOyEF7xE5x5AjdBNOnrYFEAhBXMHOjMEQBb7H+NvmxVAuTeKh3n0AEDeZz0zN3shQO5GUJglnxZA",
          "dtype": "f8"
         },
         "xaxis": "x6",
         "y": {
          "bdata": "Ld0piLs3GsDUCAUk51cZwKyssehhEh3AMT7yQY7WHcDn+uFwbGYKwMC3cPVTiBbAaqrC4XpOEMDxlnWnOmwgwEeZbV6HBxbAvrh10FC0FsCj7PBYlDIQwJgb0CmtCxzAD8GM4wDpFsDbIWLzlrMewBYv+rb6dyTAjk4eytHjI8Dusf6OpokTwBYotBrDeRXAWNLcVicxFcDKyx5vBD8XwNiaXDexPQ3AcRzT2jzVFsCocPYbFQkkwJa3tgHnwSLAJWt7IhnwEcAIyNn51twYwEKpVusvxhzA1Wx2k9jBFcAZtSrNszEfwOfZ73cWvxjAQUZ+FAmnDsDOR3Bs8N0PwINpFpZGhRfArTGe0H9CE8AmbWCRz1cSwGeRbK9HWRHAbMfoqfP4HcCMI5whbRISwE/SWMt+BhXAASq38HykEsC052JOZgUSwL/XW9H4shrABhMcO/kZC8DKk4hN8PsUwPt95ssYNxrA",
          "dtype": "f8"
         },
         "yaxis": "y6"
        },
        {
         "marker": {
          "line": {
           "color": "white",
           "width": 1
          },
          "opacity": 0.7,
          "size": 8
         },
         "mode": "markers",
         "name": "Cluster 1",
         "type": "scatter",
         "x": {
          "bdata": "0hsoj1XVI8A2h/h7PDMnwD8j0x97OyPArIgf6WBjF8AUKZlAHzEjwH+a3kiNYxrAuqwJt0UlH8DSe0IwOokhwOsjtex4GRrAkmUno9IMHcBRtyUCMGUdwNuRGWFj+h3ARE1ZYfxQI8D0bfjZJi4cwNPCUcMPfRnAMVOcR8qvJcDh87SOtVEewFas/P+hiB7AA6j/Pn8aG8AW0mnmt6gdwLAh512mhR/ApX2R9f8XIcCfMWRw8TwWwJEB4D9trCDAd1Mu4zEPIcB4Ux2/sl8ewCB3V9jtViHAv2p8wKldIsDgjsnmPDohwBI2ihWZYiTA037ixXkrF8C+C1TywAUlwCm8bTtHFx7Anue5ZswyGsC+zlyUnV4iwGzMGjmlJR7Arji+3aLcHsDWR4HAtegjwDGUN8Ia6BrAlK+aPOn1HsCewdsuxNUkwKjTYhCqHSfAOFUZ6y/rG8B4BhVL924iwLh6N7wCTh7A1rgrL2FwGsAxgMsUGxQkwHxLYwYuESPAWtSuqoLXHcCWtr+SKXscwCVZtCbVOyLAVTRB2q1NHcARI3RbjrgdwCfQjVVPxSXA6zPLSpXjIMDTl4DqoJUgwCnRxpmVFCDAGwYOvooZHsDXjrfQCyshwAowNOCbyRvAKB44WY2gIMDazNObhiEhwDzZOrzGOyrA4wICyiTYHsBlLf2tOhwawOmXSgqrmxvAnDgmp+SpIsAQ8i6xZnkfwGqpZBE4LR7ASrQhFXxsHcCeZEF/0ScUwEHKSeEhLCPAiUj/4HVlGMDCX6PLeyofwBlGKHeq8B3A8r8pdq0wJcA=",
          "dtype": "f8"
         },
         "xaxis": "x6",
         "y": {
          "bdata": "08jbhQJfFECw/gNu2osaQJwVbiXTbxdAZ0gPCqulFkBQtdBGT+waQGHfAEmpOxhAajIn4tlBBEAJYesmFt75PwStpRGo+ghAtSj0bBYZGEDcLI2F680FQCU8YcvulglAZuGGEC14GUBSscmhpUkUQDwnpM0krRhAIKcuw8uozr/ZhGYTObL+P1ECFxn17AxAPq02B3akHkC7lyTW6sgPQAil49NkaRFAPo31NKsHAkA6Bl1w68YgQEI5tq6RBAlARdznZp+ZBEAGnaxaG8rwP4tLWh3pThdA3DoNjvqUCkAs7KjXzgQYQD+TEnJ2SQtAjXdS/sokHUD2HimwAQ8NQFXqvpPVfghAKGmK+DrHGkAFmtg3KmkhQJQkDRwfGQFA+kB7cIr89j+ilofFyHoiQElzvxwwchFAOhh4+CWFGEB6abjAfp8aQLLBp3Y5ax1A3X/EaPq6EkAxC3rX128WQJ7vtK8RfxNAHKcAhQC1GkBKqXKumeAcQG/ES/3/6BpAxIxtAo7gEEApRp/UCi4KQB5wT+uqOiBA/D6UGOlZGkBO3SspZ/wIQMHVbZsUSRRAMZZQVuVlCkAgjBaB0lCRv9ykkQ3AdRhAKO9aqxW6/D+ORive42ETQNaKlgULihhApzanV5xJEkBGWe8l2lQTQFyQseU7PiJALo8o3I9sD0Bh8ecg4yQeQFR/FlKUuCNANIKQBmI3IkDqatUNed0KQIaxBOR3SB5ANmvvA90bEkBA2khjmPwiQGA2tT9QQd2/1jJPS0rTGkAff62gNsQVQDMo8F/1mhZArCO5fj8rGkA=",
          "dtype": "f8"
         },
         "yaxis": "y6"
        },
        {
         "marker": {
          "line": {
           "color": "white",
           "width": 1
          },
          "opacity": 0.7,
          "size": 8
         },
         "mode": "markers",
         "name": "Cluster 2",
         "type": "scatter",
         "x": {
          "bdata": "qvfkfUAkGMDyAFHMuqsUwGbnklbB3ArAQpJLjU7+HcAoHOKzz1EYwK/7EDanmx3A98io41tEF8B1onZIle4gwCmWGGcLvx7AWux8I4RJGMDjtCdF4KAXwEpbB0CHUibAYesS2PMHHsDUWeKt9PshwM4bD2L1HiHAqk7uv7/6JMAeGjaXaycewOgzetCHhSLAHo6FYHeNBsAB2mleTZAewLHNqWY1KxjAUa5sd+vlHsAxBKYcvCUbwFWcOf9MCiPANP0m6etOCcBPSACgnkghwD5Dt5t7eh7A4tDcn4e1F8ClYJIXGn0hwKUGjaR7Vh3A+0NsnqZOH8AGfXluvx0awCvaSpY/pxPAgANdScUJIMCvm6S8ypkiwNIs1mKTahnA8TeZEIO6KsCGW3bgQ80RwOBAS7JKbAbAp7SV3A4UF8D1m0o/KXYiwA==",
          "dtype": "f8"
         },
         "xaxis": "x6",
         "y": {
          "bdata": "6xuqzXV7J8APxQUUaQElwG/eLHtH6iTAO8/jP1zoJsCroXgQkCUkwLs9f9kySyfA6zQpO3H/IsAso+B90OMrwPZF74ErCS/A2wEGyWtgKcDitUVOAYIvwLEpbEPSiCnAbGJ+djr/KMBGW61Uv2AmwKQ3hfNAbirAUqTR/z/yJcBuxt7goGgowD+U/Pe8NivAM8+5OYnhJsDciSLJizErwEDWU5yutiPA4ADkdvshJMB6xeKhGdckwLc94D8CYCnAoXob8MruI8CizdkA91MowLZYmtrsFyTAtdeo5TxFLsACaD9sJ8MnwGrG1OfYSi/Ad8jvtgpxK8DYcr92pQIrwIDi7Wbb/iXAukG5Uq66JcC2tSU9sF4lwAXNpouIIjDAJA+7ExSIMcDSPdogh2guwO+wibLaQiLADltAHjceKsBtLd6MMlgmwA==",
          "dtype": "f8"
         },
         "yaxis": "y6"
        },
        {
         "marker": {
          "line": {
           "color": "white",
           "width": 1
          },
          "opacity": 0.7,
          "size": 8
         },
         "mode": "markers",
         "name": "Cluster 3",
         "type": "scatter",
         "x": {
          "bdata": "hhz7IMnW+L+gQVC9GJoNwJKQHT+GrxLAJU0QYrmUDcB0TRMD/BEFwCjWZIzn3va/Aa7HwIGFCMAflbcPUncSwLdSmgkxOQ/AYIduwXvLEMA2QBEjg9Hov4EssNTUafa/MJzi5A8KFMBj12K2CsYIwFGp7JZnVgzAkGrRabcQCsB1VM2jXiUQwHtq41S6xBPASyI5N2glB8CbmKqdUDAHwENkqLQ3QBDAGy6eR3wrFsBIa6leizADwFSKzT1bsRbAxIJEou0nDcCyT8Ri2r8MwGVYkrHAvgnA76pAO0EBFMC7AkYqHi4JwF3eGcgiOxHAE90Ak0T+EMAMNI9iSpEHwMYz3p5aYRHA2o7Jj2JqCsCGrN1u8TAAwJyH6tezQQzAMKEu4Q36CcBIyvEFJv0UwPErlyTO2RnAsNJguTLyA8BxOU+daZQZwHEZIjzOag3AkiVoeTJ7BcCnJr0p9Z35v1DqoSjmiRDAgx7zMTn4E8AMik5rXhgUwOYLlBmwKQ7AJe0lyz1sE8BuY1qKWesSwAFUCBTL3RLA4EsHeUt7EcDZUMmPjuIRwNfkmeIwRhPAkLkioqfUEsBtltd8ik0UwK1FJxvXqwzAogAP+j5QDcBbQHkliycLwAZWMR7uegfAsenyg6guDMBUy9APuhEbwHdcIYzA0hTAGnNiYqf/BMDCRaEi4Z0RwOu5Ji9GugbAtGx0AGLoD8BOFhz/C9YIwJJgG5Az4hHAoclzzFTXEMA=",
          "dtype": "f8"
         },
         "xaxis": "x6",
         "y": {
          "bdata": "Si2SOKwOJkCFqUiR22YRQGoC9oFEI/M/0SBrGpf3HEDkXj905CYbQHt8y2bELB9ANJcVnK/e3D9cjY1JZEoYQJXduaDNjSFAz6hCs9+NEUDquFQr8vEVQLvrKj2VjhZAk3hB81SzDECCUQVsvOMdQBlP1p7rGP0/9Brd8OKsCECc04qFtgn1v+PIrBC6cgdA5Jee4NmEG0D2+fgYZPARQLfemloSBfg/oNnY1EpOvz/0LrhRdVQmQG6ceDfwAg5AutMRRZ++F0AGgAuGSqYXQPZFkUVHnR1AI1jXlYf1FEAa1CLp1ALVP0Lo+K612tC/8dMG53QtBkCWNZHSQyj0v1Ic8yYtOAhAMNxdUiHLCEAErUwwaUwMQGCo4ah/G/Q/mxa8MzdSGUAE4nYKx7IXQLyixKYFJgJAm/HBWGH8DEDGl1Ko0ZkAQAYTgFGpaPw/r+ZudiMeF0AMMfEWvvwMQLMAPhh7sB1AlNo0jAgRA0D+mM/6n3EBQCykOVmsJfw/vsNbhBVKCEAQPcYEBkUaQFDPLflDMwVAEmkFGByNDUBCcSV+Q84JQEbSYWSzKhZAlQA1MV5IEkB3ZFj0LqgQQLKGo1YwNgNAUrPMOQk8HECS9i2ZSsgbQIhsXFQSlAPAi6Uwa1UsBEAsHQZB1YrOv56CIR7xBB5A6T08w1ljIEDrX8/oDw4BQA3Kyy9s/wBAItPpzilkHUB01fAMtxMaQETegxgJBglAuPm9SXpuBEA=",
          "dtype": "f8"
         },
         "yaxis": "y6"
        },
        {
         "marker": {
          "line": {
           "color": "white",
           "width": 1
          },
          "opacity": 0.7,
          "size": 8
         },
         "mode": "markers",
         "name": "Cluster 4",
         "type": "scatter",
         "x": {
          "bdata": "bAkfVDiwBUC4jh5JZxsUQFi1ubJ/xwRAmX6CkPoeB0A+d2Ncm6MlQPQKXjsZVCRA/Vuydl+DIUD+u6D26vAaQM6V0LSFTQZAezgzs+yaEUChcIF6s5cOQKPfRFxglRpAukNy4F6+EkBa+EcA7g8LQJRf+wp5HBZArHgqlWKbG0Cc8+/d3DEjQN2wtNM3ryNAIP/CWhMf5D/4xxqN+UwcQIIFZldYLhlAbyrcWfYYE0CitfI1JTYSQCuYp4iJiRhAGNPvMbM1GkCYB2MPTv4KQOTtJPyPQiBAcvdP2vSQFkAye5E9GgYaQPidyfUuGx5A9jaLBESSJ0A=",
          "dtype": "f8"
         },
         "xaxis": "x6",
         "y": {
          "bdata": "S4c1qVVj+r90hSsoBRriP6gevPyrasC/mFz/WyZ68j8CBUzE37nVv8zUBJHMYgvAzNpPPBcN4b8vkAaVhzkKwIJojNMbF/a/In4uElVtAcB0elj6FtcIwMeleKZ/Mg3A1P5zHrguCMDI8AzrfegEwAiCFKLBee6/Bjr2JT+dC8BNLmdI+Mjsv9zixu2tBgLAALGceuZf6b9WfCciRyIKwKQBJWHazOk/FJHOogjpAMBvqpBTJUf6v+5j5+4y9wTA4MWpI5NAB0DckInTdn71v7UG0v5xYPG/vPJMqJzNCsAZtvwBgkTvv1tG6zy51wnACxbIViMuCcA=",
          "dtype": "f8"
         },
         "yaxis": "y6"
        },
        {
         "marker": {
          "line": {
           "color": "white",
           "width": 1
          },
          "opacity": 0.7,
          "size": 8
         },
         "mode": "markers",
         "name": "Cluster 5",
         "type": "scatter",
         "x": {
          "bdata": "/IbEGvx4HsC9XhhBsB4ewMWa5pXZ5CXACvI/whhRHMCzKhZk6K4nwM1zJbF5KCTAzSWDWnxqIMCFKyNCVQ0gwEgCWO94eCnAJc56I/n+G8A5D+YWUFMcwM5YGPBm2CHAs2cxP6wiIcBEaoqBf1ckwHD3cjsjyCLAdHm26+HiKsCfkF4/AHUewC00QbU4HiDA3l5TStZFHsAQ3ksnTs8iwB26FGAL0BrAeAB+A4oKJsBTH1zVtbknwDz2k6RxOSLAMRDVXD/EJcABEpjJV/0awDUMVS4qwx/AVd/jTQfpGsBjfrdbQ9UkwMgFJ1ykDxPApTx6C/LBJcBIRpOuL9wgwEAFSXqvJh3A2+7V5ozeIcB1rpct8p4owN3iKDUMpR7AuKfwAL8/F8A=",
          "dtype": "f8"
         },
         "xaxis": "x6",
         "y": {
          "bdata": "dl2FnQIIIcAnJUZfjloWwGon6lKCUyLA8VpFSpKDGcDC3Mc/OhkkwHRfjWnr+fO/8mkqMRnbIMAeqpIgg6sfwJ6RZLXByiHA6Ztv+gZDGcDUZgd2s0wdwI3i+4CS0BjADhJECDHaIsC3NNs52NkjwMG5Bcbpz/i/Z4Q9HZ6YI8De4WtkNcIhwFPYq5lE8CLAjuqSR4wyCMCmzcSBcyUdwEXN/r2afCLAbZWJJt04JMAKc/gE3zQhwL2GfLdf6iDAHGp+lXD6JMBodKcw0vIhwLzqE60VpxbA2+3bzMRTIsBOL9rlveobwATExCWGNB3AnPBMaDbPI8CFDcmunHogwLEaPQQWCRzAqGto169/IcDsSgVUdlEYwLWEDOyOyR7AQ0DWRvJBF8A=",
          "dtype": "f8"
         },
         "yaxis": "y6"
        },
        {
         "marker": {
          "line": {
           "color": "white",
           "width": 1
          },
          "opacity": 0.7,
          "size": 8
         },
         "mode": "markers",
         "name": "Cluster 6",
         "type": "scatter",
         "x": [],
         "xaxis": "x6",
         "y": [],
         "yaxis": "y6"
        },
        {
         "marker": {
          "line": {
           "color": "white",
           "width": 1
          },
          "opacity": 0.7,
          "size": 12
         },
         "mode": "markers",
         "name": "Centers",
         "type": "scatter",
         "x": {
          "bdata": "RH9Z8y63FUAE9GQdwmQgwH7YlJX5ohzAmohsFZuvDsDyJC1BFgkYQPZx4JKdxSHA",
          "dtype": "f8"
         },
         "xaxis": "x6",
         "y": {
          "bdata": "ocjk4LrOF8Bar20OvCcUQLDdemfwnSjAtWuHhi5YEECCyxv6E1L6v603obtBsB7A",
          "dtype": "f8"
         },
         "yaxis": "y6"
        },
        {
         "marker": {
          "line": {
           "color": "white",
           "width": 1
          },
          "opacity": 0.7,
          "size": 8
         },
         "mode": "markers",
         "name": "Cluster 0",
         "type": "scatter",
         "x": {
          "bdata": "oEFQvRiaDcDNcyWxeSgkwJKQHT+GrxLAAa7HwIGFCMC6rAm3RSUfwNJ7QjA6iSHA6yO17HgZGsBRtyUCMGUdwNuRGWFj+h3AYIduwXvLEMA2QBEjg9Hov4EssNTUafa/MJzi5A8KFMBRqeyWZ1YMwJBq0Wm3EArAdVTNo14lEMB7auNUusQTwDFTnEfKryXAcPdyOyPIIsDh87SOtVEewJuYqp1QMAfAVqz8/6GIHsBDZKi0N0AQwBbSaea3qB3AGy6eR3wrFsClfZH1/xchwFSKzT1bsRbAkQHgP22sIMB3Uy7jMQ8hwHhTHb+yXx7AuwJGKh4uCcC/anzAqV0iwF3eGcgiOxHAE90Ak0T+EMAMNI9iSpEHwMYz3p5aYRHA2o7Jj2JqCsCGrN1u8TAAwCm8bTtHFx7AnIfq17NBDMBszBo5pSUewK44vt2i3B7A8SuXJM7ZGcCw0mC5MvIDwHE5T51plBnAcRkiPM5qDcCnJr0p9Z35v4Me8zE5+BPADIpOa14YFMDmC5QZsCkOwJa2v5IpexzAJe0lyz1sE8ARI3RbjrgdwOszy0qV4yDA05eA6qCVIMABVAgUy90SwOBLB3lLexHAGwYOvooZHsDZUMmPjuIRwJC5IqKn1BLAbZbXfIpNFMCtRScb16sMwAZWMR7uegfAsenyg6guDMBUy9APuhEbwOMCAsok2B7AwkWhIuGdEcDruSYvRroGwBDyLrFmeR/AQcpJ4SEsI8CSYBuQM+IRwKHJc8xU1xDA",
          "dtype": "f8"
         },
         "xaxis": "x7",
         "y": {
          "bdata": "halIkdtmEUB0X41p6/nzv2oC9oFEI/M/NJcVnK/e3D9qMifi2UEEQAlh6yYW3vk/BK2lEaj6CEDcLI2F680FQCU8YcvulglAz6hCs9+NEUDquFQr8vEVQLvrKj2VjhZAk3hB81SzDEAZT9ae6xj9P/Qa3fDirAhAnNOKhbYJ9b/jyKwQunIHQCCnLsPLqM6/wbkFxunP+L/ZhGYTObL+P/b5+Bhk8BFAUQIXGfXsDEC33ppaEgX4P7uXJNbqyA9AoNnY1EpOvz8+jfU0qwcCQG6ceDfwAg5AQjm2rpEECUBF3Odmn5kEQAadrFobyvA/GtQi6dQC1T/cOg2O+pQKQELo+K612tC/8dMG53QtBkCWNZHSQyj0v1Ic8yYtOAhAMNxdUiHLCEAErUwwaUwMQFXqvpPVfghAYKjhqH8b9D+UJA0cHxkBQPpAe3CK/PY/vKLEpgUmAkCb8cFYYfwMQMaXUqjRmQBABhOAUalo/D8MMfEWvvwMQJTaNIwIEQNA/pjP+p9xAUAspDlZrCX8PylGn9QKLgpAvsNbhBVKCEBO3SspZ/wIQDGWUFblZQpAIIwWgdJQkb9Qzy35QzMFQBJpBRgcjQ1AKO9aqxW6/D9CcSV+Q84JQJUANTFeSBJAd2RY9C6oEECyhqNWMDYDQIhsXFQSlAPAi6Uwa1UsBEAsHQZB1YrOvy6PKNyPbA9A61/P6A8OAUANyssvbP8AQOpq1Q153QpAYDa1P1BB3b9E3oMYCQYJQLj5vUl6bgRA",
          "dtype": "f8"
         },
         "yaxis": "y7"
        },
        {
         "marker": {
          "line": {
           "color": "white",
           "width": 1
          },
          "opacity": 0.7,
          "size": 8
         },
         "mode": "markers",
         "name": "Cluster 1",
         "type": "scatter",
         "x": {
          "bdata": "qvfkfUAkGMDyAFHMuqsUwGbnklbB3ArAQpJLjU7+HcAoHOKzz1EYwK/7EDanmx3AdaJ2SJXuIMAplhhnC78ewFrsfCOESRjA47QnReCgF8Bh6xLY8wcewM4bD2L1HiHAHho2l2snHsAejoVgd40GwAHaaV5NkB7AMQSmHLwlG8A0/Sbp604JwOLQ3J+HtRfApQaNpHtWHcD7Q2yepk4fwAZ9eW6/HRrAK9pKlj+nE8DSLNZik2oZwIZbduBDzRHA4EBLskpsBsCntJXcDhQXwA==",
          "dtype": "f8"
         },
         "xaxis": "x7",
         "y": {
          "bdata": "6xuqzXV7J8APxQUUaQElwG/eLHtH6iTAO8/jP1zoJsCroXgQkCUkwLs9f9kySyfALKPgfdDjK8D2Re+BKwkvwNsBBslrYCnA4rVFTgGCL8BsYn52Ov8owKQ3hfNAbirAbsbe4KBoKMAzz7k5ieEmwNyJIsmLMSvAesXioRnXJMChehvwyu4jwLXXqOU8RS7AasbU59hKL8B3yO+2CnErwNhyv3alAivAgOLtZtv+JcAFzaaLiCIwwNI92iCHaC7A77CJstpCIsAOW0AeNx4qwA==",
          "dtype": "f8"
         },
         "yaxis": "y7"
        },
        {
         "marker": {
          "line": {
           "color": "white",
           "width": 1
          },
          "opacity": 0.7,
          "size": 8
         },
         "mode": "markers",
         "name": "Cluster 2",
         "type": "scatter",
         "x": {
          "bdata": "bAkfVDiwBUC4jh5JZxsUQFi1ubJ/xwRAmX6CkPoeB0BCTmV45p/yP2OhFXwu3hJAPndjXJujJUD0Cl47GVQkQP1bsnZfgyFASn2SftN3EED+u6D26vAaQM6V0LSFTQZAezgzs+yaEUChcIF6s5cOQKPfRFxglRpAukNy4F6+EkBa+EcA7g8LQJRf+wp5HBZArHgqlWKbG0Cc8+/d3DEjQN2wtNM3ryNAIP/CWhMf5D8ms4W9INwIQPjHGo35TBxAggVmV1guGUBvKtxZ9hgTQKK18jUlNhJAK5iniImJGEAY0+8xszUaQJgHYw9O/gpA5O0k/I9CIEBy90/a9JAWQBAz349O+RRAUb7g6JAD+j8ye5E9GgYaQB11RMzFhPI/+J3J9S4bHkAhBXMHOjMEQLk3iod59ABA9jaLBESSJ0A=",
          "dtype": "f8"
         },
         "xaxis": "x7",
         "y": {
          "bdata": "S4c1qVVj+r90hSsoBRriP6gevPyrasC/mFz/WyZ68j/n+uFwbGYKwGqqwuF6ThDAAgVMxN+51b/M1ASRzGILwMzaTzwXDeG/o+zwWJQyEMAvkAaVhzkKwIJojNMbF/a/In4uElVtAcB0elj6FtcIwMeleKZ/Mg3A1P5zHrguCMDI8AzrfegEwAiCFKLBee6/Bjr2JT+dC8BNLmdI+Mjsv9zixu2tBgLAALGceuZf6b/Ymlw3sT0NwFZ8JyJHIgrApAElYdrM6T8Ukc6iCOkAwG+qkFMlR/q/7mPn7jL3BMDgxakjk0AHQNyQidN2fvW/tQbS/nFg8b+88kyonM0KwEFGfhQJpw7AzkdwbPDdD8AZtvwBgkTvvyZtYJHPVxLAW0brPLnXCcC052JOZgUSwAYTHDv5GQvACxbIViMuCcA=",
          "dtype": "f8"
         },
         "yaxis": "y7"
        },
        {
         "marker": {
          "line": {
           "color": "white",
           "width": 1
          },
          "opacity": 0.7,
          "size": 8
         },
         "mode": "markers",
         "name": "Cluster 3",
         "type": "scatter",
         "x": {
          "bdata": "xZrmldnkJcCzKhZk6K4nwEgCWO94eCnARGqKgX9XJMBKWwdAh1ImwHR5tuvh4irA1FnirfT7IcCqTu6/v/okwHgAfgOKCibAUx9c1bW5J8DoM3rQh4UiwDEQ1Vw/xCXAVZw5/0wKI8BPSACgnkghwKVgkhcafSHApTx6C/LBJcCAA11JxQkgwK+bpLzKmSLA8TeZEIO6KsD1m0o/KXYiwA==",
          "dtype": "f8"
         },
         "xaxis": "x7",
         "y": {
          "bdata": "aifqUoJTIsDC3Mc/OhkkwJ6RZLXByiHAtzTbOdjZI8CxKWxD0ogpwGeEPR2emCPARlutVL9gJsBSpNH/P/IlwG2ViSbdOCTACnP4BN80IcA/lPz3vDYrwBxqfpVw+iTAtz3gPwJgKcCizdkA91MowAJoP2wnwyfAnPBMaDbPI8C6QblSrrolwLa1JT2wXiXAJA+7ExSIMcBtLd6MMlgmwA==",
          "dtype": "f8"
         },
         "yaxis": "y7"
        },
        {
         "marker": {
          "line": {
           "color": "white",
           "width": 1
          },
          "opacity": 0.7,
          "size": 8
         },
         "mode": "markers",
         "name": "Cluster 4",
         "type": "scatter",
         "x": {
          "bdata": "hhz7IMnW+L/SGyiPVdUjwCVNEGK5lA3AdE0TA/wRBcA2h/h7PDMnwD8j0x97OyPAKNZkjOfe9r+siB/pYGMXwBQpmUAfMSPAf5reSI1jGsAflbcPUncSwLdSmgkxOQ/AkmUno9IMHcBETVlh/FAjwPRt+NkmLhzAY9ditgrGCMDTwlHDD30ZwEsiOTdoJQfAA6j/Pn8aG8BIa6leizADwLAh512mhR/AnzFkcPE8FsDEgkSi7ScNwLJPxGLavwzAZViSscC+CcDvqkA7QQEUwCB3V9jtViHA4I7J5jw6IcASNooVmWIkwNN+4sV5KxfAvgtU8sAFJcCe57lmzDIawL7OXJSdXiLAMKEu4Q36CcBIyvEFJv0UwNZHgcC16CPAMZQ3whroGsCUr5o86fUewJ7B2y7E1STAqNNiEKodJ8A4VRnrL+sbwHgGFUv3biLAuHo3vAJOHsCSJWh5MnsFwFDqoSjmiRDA1rgrL2FwGsAxgMsUGxQkwHxLYwYuESPAWtSuqoLXHcAlWbQm1TsiwFU0QdqtTR3AJ9CNVU/FJcBuY1qKWesSwCnRxpmVFCDA1+SZ4jBGE8DXjrfQCyshwAowNOCbyRvAKB44WY2gIMDazNObhiEhwKIAD/o+UA3AW0B5JYsnC8A82Tq8xjsqwGUt/a06HBrA6ZdKCqubG8B3XCGMwNIUwBpzYmKn/wTAnDgmp+SpIsBqqWQROC0ewLRsdABi6A/ASrQhFXxsHcBOFhz/C9YIwJ5kQX/RJxTAiUj/4HVlGMDCX6PLeyofwBlGKHeq8B3A8r8pdq0wJcA=",
          "dtype": "f8"
         },
         "xaxis": "x7",
         "y": {
          "bdata": "Si2SOKwOJkDTyNuFAl8UQNEgaxqX9xxA5F4/dOQmG0Cw/gNu2osaQJwVbiXTbxdAe3zLZsQsH0BnSA8Kq6UWQFC10EZP7BpAYd8ASak7GEBcjY1JZEoYQJXduaDNjSFAtSj0bBYZGEBm4YYQLXgZQFKxyaGlSRRAglEFbLzjHUA8J6TNJK0YQOSXnuDZhBtAPq02B3akHkD0LrhRdVQmQAil49NkaRFAOgZdcOvGIEC60xFFn74XQAaAC4ZKphdA9kWRRUedHUAjWNeVh/UUQItLWh3pThdALOyo184EGEA/kxJydkkLQI13Uv7KJB1A9h4psAEPDUAoaYr4OscaQAWa2DcqaSFAmxa8MzdSGUAE4nYKx7IXQKKWh8XIeiJASXO/HDByEUA6GHj4JYUYQHppuMB+nxpAssGndjlrHUDdf8Ro+roSQDELetfXbxZAnu+0rxF/E0Cv5m52Ix4XQLMAPhh7sB1AHKcAhQC1GkBKqXKumeAcQG/ES/3/6BpAxIxtAo7gEEAecE/rqjogQPw+lBjpWRpAwdVtmxRJFEAQPcYEBkUaQNykkQ3AdRhARtJhZLMqFkCORive42ETQNaKlgULihhApzanV5xJEkBGWe8l2lQTQFKzzDkJPBxAkvYtmUrIG0BckLHlOz4iQGHx5yDjJB5AVH8WUpS4I0CegiEe8QQeQOk9PMNZYyBANIKQBmI3IkCGsQTkd0geQCLT6c4pZB1ANmvvA90bEkB01fAMtxMaQEDaSGOY/CJA1jJPS0rTGkAff62gNsQVQDMo8F/1mhZArCO5fj8rGkA=",
          "dtype": "f8"
         },
         "yaxis": "y7"
        },
        {
         "marker": {
          "line": {
           "color": "white",
           "width": 1
          },
          "opacity": 0.7,
          "size": 8
         },
         "mode": "markers",
         "name": "Cluster 5",
         "type": "scatter",
         "x": {
          "bdata": "FHMP+0KAE0BYyNE5exwUQAK18ar5qRRAVXPAz+A9EEDa1VAqpcwQQDotj18pwRtADEMYDDgQEEAtjL1A314iQKqO0haOrhtABnB51PdaGECTnWHA47oYQIGDq7oThhZAU23Yq8TwIEBVK4U3H8QiQC/P8NmdQhNA6fgW78IZFEBvV/WRD2kRQG+JnKjscxNAsBhBG+0rH0DuOh/6xDUbQCvPg5H+tB1A69ChrHQACEAydaYvyzMaQO8Ikv6lexVAzKZ2SchREUABEor7EnciQPxdUo5HrhhAKC3BOiplFkADE55r9fscQB9EaoFslxdAg5p22BWsFEDshBe8ROceQI3QTTp62BRAFvsf42+bFUDeZz0zN3shQO5GUJglnxZA",
          "dtype": "f8"
         },
         "xaxis": "x7",
         "y": {
          "bdata": "Ld0piLs3GsDUCAUk51cZwKyssehhEh3AMT7yQY7WHcDAt3D1U4gWwPGWdac6bCDAR5ltXocHFsC+uHXQULQWwJgb0CmtCxzAD8GM4wDpFsDbIWLzlrMewBYv+rb6dyTAjk4eytHjI8Dusf6OpokTwBYotBrDeRXAWNLcVicxFcDKyx5vBD8XwHEc09o81RbAqHD2GxUJJMCWt7YB58EiwCVreyIZ8BHACMjZ+dbcGMBCqVbrL8YcwNVsdpPYwRXAGbUqzbMxH8Dn2e93Fr8YwINpFpZGhRfArTGe0H9CE8BnkWyvR1kRwGzH6Knz+B3AjCOcIW0SEsBP0ljLfgYVwAEqt/B8pBLAv9db0fiyGsDKk4hN8PsUwPt95ssYNxrA",
          "dtype": "f8"
         },
         "yaxis": "y7"
        },
        {
         "marker": {
          "line": {
           "color": "white",
           "width": 1
          },
          "opacity": 0.7,
          "size": 8
         },
         "mode": "markers",
         "name": "Cluster 6",
         "type": "scatter",
         "x": {
          "bdata": "/IbEGvx4HsC9XhhBsB4ewAryP8IYURzAzSWDWnxqIMD3yKjjW0QXwIUrI0JVDSDAJc56I/n+G8A5D+YWUFMcwM5YGPBm2CHAs2cxP6wiIcCfkF4/AHUewC00QbU4HiDA3l5TStZFHsAQ3ksnTs8iwB26FGAL0BrAPPaTpHE5IsABEpjJV/0awDUMVS4qwx/Asc2pZjUrGMBRrmx36+UewFXf400H6RrAPkO3m3t6HsBjfrdbQ9UkwMgFJ1ykDxPASEaTri/cIMBABUl6ryYdwNvu1eaM3iHAda6XLfKeKMDd4ig1DKUewLin8AC/PxfA",
          "dtype": "f8"
         },
         "xaxis": "x7",
         "y": {
          "bdata": "dl2FnQIIIcAnJUZfjloWwPFaRUqSgxnA8mkqMRnbIMDrNCk7cf8iwB6qkiCDqx/A6Ztv+gZDGcDUZgd2s0wdwI3i+4CS0BjADhJECDHaIsDe4WtkNcIhwFPYq5lE8CLAjuqSR4wyCMCmzcSBcyUdwEXN/r2afCLAvYZ8t1/qIMBodKcw0vIhwLzqE60VpxbAQNZTnK62I8DgAOR2+yEkwNvt28zEUyLAtlia2uwXJMBOL9rlveobwATExCWGNB3AhQ3Jrpx6IMCxGj0EFgkcwKhraNevfyHA7EoFVHZRGMC1hAzsjskewENA1kbyQRfA",
          "dtype": "f8"
         },
         "yaxis": "y7"
        },
        {
         "marker": {
          "line": {
           "color": "white",
           "width": 1
          },
          "opacity": 0.7,
          "size": 8
         },
         "mode": "markers",
         "name": "Cluster 7",
         "type": "scatter",
         "x": [],
         "xaxis": "x7",
         "y": [],
         "yaxis": "y7"
        },
        {
         "marker": {
          "line": {
           "color": "white",
           "width": 1
          },
          "opacity": 0.7,
          "size": 12
         },
         "mode": "markers",
         "name": "Centers",
         "type": "scatter",
         "x": {
          "bdata": "JYykg9U1FsDEeL7TsI0YwHoSBEyGNBVAzybw9AANJcDV9b5l++YawM7G9drGRxhAjr+ndd8HH8A=",
          "dtype": "f8"
         },
         "xaxis": "x7",
         "y": {
          "bdata": "/+DlsBU8AkBmS7fXsVspwKAljAEyRgHA6UFHnQk/JsCWuc7uq2waQM2oGR4y1BnAfVJyDXslH8A=",
          "dtype": "f8"
         },
         "yaxis": "y7"
        },
        {
         "marker": {
          "line": {
           "color": "white",
           "width": 1
          },
          "opacity": 0.7,
          "size": 8
         },
         "mode": "markers",
         "name": "Cluster 0",
         "type": "scatter",
         "x": {
          "bdata": "qvfkfUAkGMDyAFHMuqsUwGbnklbB3ArAQpJLjU7+HcCv+xA2p5sdwHWidkiV7iDAKZYYZwu/HsBa7HwjhEkYwOO0J0XgoBfASlsHQIdSJsBh6xLY8wcewM4bD2L1HiHAHho2l2snHsDoM3rQh4UiwB6OhWB3jQbAAdppXk2QHsBVnDn/TAojwDT9JunrTgnAT0gAoJ5IIcDi0Nyfh7UXwKVgkhcafSHApQaNpHtWHcD7Q2yepk4fwAZ9eW6/HRrAK9pKlj+nE8DSLNZik2oZwPE3mRCDuirAhlt24EPNEcCntJXcDhQXwA==",
          "dtype": "f8"
         },
         "xaxis": "x8",
         "y": {
          "bdata": "6xuqzXV7J8APxQUUaQElwG/eLHtH6iTAO8/jP1zoJsC7PX/ZMksnwCyj4H3Q4yvA9kXvgSsJL8DbAQbJa2ApwOK1RU4Bgi/AsSlsQ9KIKcBsYn52Ov8owKQ3hfNAbirAbsbe4KBoKMA/lPz3vDYrwDPPuTmJ4SbA3IkiyYsxK8C3PeA/AmApwKF6G/DK7iPAos3ZAPdTKMC116jlPEUuwAJoP2wnwyfAasbU59hKL8B3yO+2CnErwNhyv3alAivAgOLtZtv+JcAFzaaLiCIwwCQPuxMUiDHA0j3aIIdoLsAOW0AeNx4qwA==",
          "dtype": "f8"
         },
         "yaxis": "y8"
        },
        {
         "marker": {
          "line": {
           "color": "white",
           "width": 1
          },
          "opacity": 0.7,
          "size": 8
         },
         "mode": "markers",
         "name": "Cluster 1",
         "type": "scatter",
         "x": {
          "bdata": "hhz7IMnW+L8lTRBiuZQNwHRNEwP8EQXAKNZkjOfe9r+siB/pYGMXwB+Vtw9SdxLAt1KaCTE5D8A2QBEjg9Hov4EssNTUafa/Y9ditgrGCMBLIjk3aCUHwEhrqV6LMAPAnzFkcPE8FsDEgkSi7ScNwLJPxGLavwzAZViSscC+CcDvqkA7QQEUwNN+4sV5KxfAMKEu4Q36CcBIyvEFJv0UwJIlaHkyewXAUOqhKOaJEMBuY1qKWesSwNfkmeIwRhPAogAP+j5QDcBbQHkliycLwHdcIYzA0hTAGnNiYqf/BMC0bHQAYugPwE4WHP8L1gjAnmRBf9EnFMCJSP/gdWUYwA==",
          "dtype": "f8"
         },
         "xaxis": "x8",
         "y": {
          "bdata": "Si2SOKwOJkDRIGsal/ccQOReP3TkJhtAe3zLZsQsH0BnSA8Kq6UWQFyNjUlkShhAld25oM2NIUDquFQr8vEVQLvrKj2VjhZAglEFbLzjHUDkl57g2YQbQPQuuFF1VCZAOgZdcOvGIEC60xFFn74XQAaAC4ZKphdA9kWRRUedHUAjWNeVh/UUQI13Uv7KJB1Amxa8MzdSGUAE4nYKx7IXQK/mbnYjHhdAswA+GHuwHUAQPcYEBkUaQEbSYWSzKhZAUrPMOQk8HECS9i2ZSsgbQJ6CIR7xBB5A6T08w1ljIEAi0+nOKWQdQHTV8Ay3ExpAQNpIY5j8IkDWMk9LStMaQA==",
          "dtype": "f8"
         },
         "yaxis": "y8"
        },
        {
         "marker": {
          "line": {
           "color": "white",
           "width": 1
          },
          "opacity": 0.7,
          "size": 8
         },
         "mode": "markers",
         "name": "Cluster 2",
         "type": "scatter",
         "x": {
          "bdata": "FHMP+0KAE0BYyNE5exwUQAK18ar5qRRAVXPAz+A9EEDa1VAqpcwQQDotj18pwRtADEMYDDgQEEAtjL1A314iQKqO0haOrhtABnB51PdaGECTnWHA47oYQIGDq7oThhZAU23Yq8TwIEBVK4U3H8QiQC/P8NmdQhNA6fgW78IZFEBvV/WRD2kRQG+JnKjscxNAsBhBG+0rH0DuOh/6xDUbQCvPg5H+tB1A69ChrHQACEAydaYvyzMaQO8Ikv6lexVAzKZ2SchREUABEor7EnciQPxdUo5HrhhAKC3BOiplFkADE55r9fscQB9EaoFslxdAg5p22BWsFEDshBe8ROceQI3QTTp62BRAFvsf42+bFUDeZz0zN3shQO5GUJglnxZA",
          "dtype": "f8"
         },
         "xaxis": "x8",
         "y": {
          "bdata": "Ld0piLs3GsDUCAUk51cZwKyssehhEh3AMT7yQY7WHcDAt3D1U4gWwPGWdac6bCDAR5ltXocHFsC+uHXQULQWwJgb0CmtCxzAD8GM4wDpFsDbIWLzlrMewBYv+rb6dyTAjk4eytHjI8Dusf6OpokTwBYotBrDeRXAWNLcVicxFcDKyx5vBD8XwHEc09o81RbAqHD2GxUJJMCWt7YB58EiwCVreyIZ8BHACMjZ+dbcGMBCqVbrL8YcwNVsdpPYwRXAGbUqzbMxH8Dn2e93Fr8YwINpFpZGhRfArTGe0H9CE8BnkWyvR1kRwGzH6Knz+B3AjCOcIW0SEsBP0ljLfgYVwAEqt/B8pBLAv9db0fiyGsDKk4hN8PsUwPt95ssYNxrA",
          "dtype": "f8"
         },
         "yaxis": "y8"
        },
        {
         "marker": {
          "line": {
           "color": "white",
           "width": 1
          },
          "opacity": 0.7,
          "size": 8
         },
         "mode": "markers",
         "name": "Cluster 3",
         "type": "scatter",
         "x": {
          "bdata": "zXMlsXkoJMC6rAm3RSUfwNJ7QjA6iSHA6yO17HgZGsBRtyUCMGUdwNuRGWFj+h3AMVOcR8qvJcBw93I7I8giwOHztI61UR7AVqz8/6GIHsAW0mnmt6gdwKV9kfX/FyHAkQHgP22sIMB3Uy7jMQ8hwN5eU0rWRR7AeFMdv7JfHsC/anzAqV0iwBI2ihWZYiTAvgtU8sAFJcApvG07RxcewGzMGjmlJR7Arji+3aLcHsDxK5ckztkZwDGUN8Ia6BrAcTlPnWmUGcBa1K6qgtcdwJa2v5IpexzAESN0W464HcDrM8tKleMgwNOXgOqglSDAGwYOvooZHsBUy9APuhEbwOMCAsok2B7AEPIusWZ5H8BByknhISwjwA==",
          "dtype": "f8"
         },
         "xaxis": "x8",
         "y": {
          "bdata": "dF+Naev5879qMifi2UEEQAlh6yYW3vk/BK2lEaj6CEDcLI2F680FQCU8YcvulglAIKcuw8uozr/BuQXG6c/4v9mEZhM5sv4/UQIXGfXsDEC7lyTW6sgPQD6N9TSrBwJAQjm2rpEECUBF3Odmn5kEQI7qkkeMMgjABp2sWhvK8D/cOg2O+pQKQD+TEnJ2SQtA9h4psAEPDUBV6r6T1X4IQJQkDRwfGQFA+kB7cIr89j+8osSmBSYCQElzvxwwchFAxpdSqNGZAEDEjG0CjuAQQClGn9QKLgpATt0rKWf8CEAxllBW5WUKQCCMFoHSUJG/KO9aqxW6/D8sHQZB1YrOvy6PKNyPbA9A6mrVDXndCkBgNrU/UEHdvw==",
          "dtype": "f8"
         },
         "yaxis": "y8"
        },
        {
         "marker": {
          "line": {
           "color": "white",
           "width": 1
          },
          "opacity": 0.7,
          "size": 8
         },
         "mode": "markers",
         "name": "Cluster 4",
         "type": "scatter",
         "x": {
          "bdata": "bAkfVDiwBUC4jh5JZxsUQFi1ubJ/xwRAmX6CkPoeB0BCTmV45p/yP2OhFXwu3hJAPndjXJujJUD0Cl47GVQkQP1bsnZfgyFASn2SftN3EED+u6D26vAaQM6V0LSFTQZAezgzs+yaEUChcIF6s5cOQKPfRFxglRpAukNy4F6+EkBa+EcA7g8LQJRf+wp5HBZArHgqlWKbG0Cc8+/d3DEjQN2wtNM3ryNAIP/CWhMf5D8ms4W9INwIQPjHGo35TBxAggVmV1guGUBvKtxZ9hgTQKK18jUlNhJAK5iniImJGEAY0+8xszUaQJgHYw9O/gpA5O0k/I9CIEBy90/a9JAWQBAz349O+RRAUb7g6JAD+j8ye5E9GgYaQB11RMzFhPI/+J3J9S4bHkAhBXMHOjMEQLk3iod59ABA9jaLBESSJ0A=",
          "dtype": "f8"
         },
         "xaxis": "x8",
         "y": {
          "bdata": "S4c1qVVj+r90hSsoBRriP6gevPyrasC/mFz/WyZ68j/n+uFwbGYKwGqqwuF6ThDAAgVMxN+51b/M1ASRzGILwMzaTzwXDeG/o+zwWJQyEMAvkAaVhzkKwIJojNMbF/a/In4uElVtAcB0elj6FtcIwMeleKZ/Mg3A1P5zHrguCMDI8AzrfegEwAiCFKLBee6/Bjr2JT+dC8BNLmdI+Mjsv9zixu2tBgLAALGceuZf6b/Ymlw3sT0NwFZ8JyJHIgrApAElYdrM6T8Ukc6iCOkAwG+qkFMlR/q/7mPn7jL3BMDgxakjk0AHQNyQidN2fvW/tQbS/nFg8b+88kyonM0KwEFGfhQJpw7AzkdwbPDdD8AZtvwBgkTvvyZtYJHPVxLAW0brPLnXCcC052JOZgUSwAYTHDv5GQvACxbIViMuCcA=",
          "dtype": "f8"
         },
         "yaxis": "y8"
        },
        {
         "marker": {
          "line": {
           "color": "white",
           "width": 1
          },
          "opacity": 0.7,
          "size": 8
         },
         "mode": "markers",
         "name": "Cluster 5",
         "type": "scatter",
         "x": {
          "bdata": "/IbEGvx4HsC9XhhBsB4ewMWa5pXZ5CXACvI/whhRHMCzKhZk6K4nwCgc4rPPURjAzSWDWnxqIMD3yKjjW0QXwIUrI0JVDSDASAJY73h4KcAlznoj+f4bwDkP5hZQUxzAzlgY8GbYIcCzZzE/rCIhwERqioF/VyTAdHm26+HiKsCfkF4/AHUewC00QbU4HiDA1FnirfT7IcAQ3ksnTs8iwB26FGAL0BrAqk7uv7/6JMB4AH4DigomwFMfXNW1uSfAPPaTpHE5IsAxENVcP8QlwAESmMlX/RrANQxVLirDH8CxzalmNSsYwFGubHfr5R7AMQSmHLwlG8BV3+NNB+kawD5Dt5t7eh7AY363W0PVJMDIBSdcpA8TwKU8egvywSXASEaTri/cIMBABUl6ryYdwNvu1eaM3iHAgANdScUJIMCvm6S8ypkiwHWuly3ynijA3eIoNQylHsC4p/AAvz8XwOBAS7JKbAbA9ZtKPyl2IsA=",
          "dtype": "f8"
         },
         "xaxis": "x8",
         "y": {
          "bdata": "dl2FnQIIIcAnJUZfjloWwGon6lKCUyLA8VpFSpKDGcDC3Mc/OhkkwKuheBCQJSTA8mkqMRnbIMDrNCk7cf8iwB6qkiCDqx/AnpFktcHKIcDpm2/6BkMZwNRmB3azTB3AjeL7gJLQGMAOEkQIMdoiwLc02znY2SPAZ4Q9HZ6YI8De4WtkNcIhwFPYq5lE8CLARlutVL9gJsCmzcSBcyUdwEXN/r2afCLAUqTR/z/yJcBtlYkm3TgkwApz+ATfNCHAvYZ8t1/qIMAcan6VcPokwGh0pzDS8iHAvOoTrRWnFsBA1lOcrrYjwOAA5Hb7ISTAesXioRnXJMDb7dvMxFMiwLZYmtrsFyTATi/a5b3qG8AExMQlhjQdwJzwTGg2zyPAhQ3Jrpx6IMCxGj0EFgkcwKhraNevfyHAukG5Uq66JcC2tSU9sF4lwOxKBVR2URjAtYQM7I7JHsBDQNZG8kEXwO+wibLaQiLAbS3ejDJYJsA=",
          "dtype": "f8"
         },
         "yaxis": "y8"
        },
        {
         "marker": {
          "line": {
           "color": "white",
           "width": 1
          },
          "opacity": 0.7,
          "size": 8
         },
         "mode": "markers",
         "name": "Cluster 6",
         "type": "scatter",
         "x": {
          "bdata": "oEFQvRiaDcCSkB0/hq8SwAGux8CBhQjAYIduwXvLEMAwnOLkDwoUwFGp7JZnVgzAkGrRabcQCsB1VM2jXiUQwHtq41S6xBPAm5iqnVAwB8BDZKi0N0AQwBsunkd8KxbAVIrNPVuxFsC7AkYqHi4JwF3eGcgiOxHAE90Ak0T+EMAMNI9iSpEHwMYz3p5aYRHA2o7Jj2JqCsCGrN1u8TAAwJyH6tezQQzAsNJguTLyA8BxGSI8zmoNwKcmvSn1nfm/gx7zMTn4E8AMik5rXhgUwOYLlBmwKQ7AJe0lyz1sE8ABVAgUy90SwOBLB3lLexHA2VDJj47iEcCQuSKip9QSwG2W13yKTRTArUUnG9erDMAGVjEe7noHwLHp8oOoLgzAwkWhIuGdEcDruSYvRroGwJJgG5Az4hHAoclzzFTXEMA=",
          "dtype": "f8"
         },
         "xaxis": "x8",
         "y": {
          "bdata": "halIkdtmEUBqAvaBRCPzPzSXFZyv3tw/z6hCs9+NEUCTeEHzVLMMQBlP1p7rGP0/9Brd8OKsCECc04qFtgn1v+PIrBC6cgdA9vn4GGTwEUC33ppaEgX4P6DZ2NRKTr8/bpx4N/ACDkAa1CLp1ALVP0Lo+K612tC/8dMG53QtBkCWNZHSQyj0v1Ic8yYtOAhAMNxdUiHLCEAErUwwaUwMQGCo4ah/G/Q/m/HBWGH8DEAGE4BRqWj8Pwwx8Ra+/AxAlNo0jAgRA0D+mM/6n3EBQCykOVmsJfw/vsNbhBVKCEBQzy35QzMFQBJpBRgcjQ1AQnElfkPOCUCVADUxXkgSQHdkWPQuqBBAsoajVjA2A0CIbFxUEpQDwIulMGtVLARA61/P6A8OAUANyssvbP8AQETegxgJBglAuPm9SXpuBEA=",
          "dtype": "f8"
         },
         "yaxis": "y8"
        },
        {
         "marker": {
          "line": {
           "color": "white",
           "width": 1
          },
          "opacity": 0.7,
          "size": 8
         },
         "mode": "markers",
         "name": "Cluster 7",
         "type": "scatter",
         "x": {
          "bdata": "0hsoj1XVI8A2h/h7PDMnwD8j0x97OyPAFCmZQB8xI8B/mt5IjWMawJJlJ6PSDB3ARE1ZYfxQI8D0bfjZJi4cwNPCUcMPfRnAA6j/Pn8aG8CwIeddpoUfwCB3V9jtViHA4I7J5jw6IcCe57lmzDIawL7OXJSdXiLA1keBwLXoI8CUr5o86fUewJ7B2y7E1STAqNNiEKodJ8A4VRnrL+sbwHgGFUv3biLAuHo3vAJOHsDWuCsvYXAawDGAyxQbFCTAfEtjBi4RI8AlWbQm1TsiwFU0QdqtTR3AJ9CNVU/FJcAp0caZlRQgwNeOt9ALKyHACjA04JvJG8AoHjhZjaAgwNrM05uGISHAPNk6vMY7KsBlLf2tOhwawOmXSgqrmxvAnDgmp+SpIsBqqWQROC0ewEq0IRV8bB3Awl+jy3sqH8AZRih3qvAdwPK/KXatMCXA",
          "dtype": "f8"
         },
         "xaxis": "x8",
         "y": {
          "bdata": "08jbhQJfFECw/gNu2osaQJwVbiXTbxdAULXQRk/sGkBh3wBJqTsYQLUo9GwWGRhAZuGGEC14GUBSscmhpUkUQDwnpM0krRhAPq02B3akHkAIpePTZGkRQItLWh3pThdALOyo184EGEAoaYr4OscaQAWa2DcqaSFAopaHxch6IkA6GHj4JYUYQHppuMB+nxpAssGndjlrHUDdf8Ro+roSQDELetfXbxZAnu+0rxF/E0AcpwCFALUaQEqpcq6Z4BxAb8RL/f/oGkAecE/rqjogQPw+lBjpWRpAwdVtmxRJFEDcpJENwHUYQI5GK97jYRNA1oqWBQuKGECnNqdXnEkSQEZZ7yXaVBNAXJCx5Ts+IkBh8ecg4yQeQFR/FlKUuCNANIKQBmI3IkCGsQTkd0geQDZr7wPdGxJAH3+toDbEFUAzKPBf9ZoWQKwjuX4/KxpA",
          "dtype": "f8"
         },
         "yaxis": "y8"
        },
        {
         "marker": {
          "line": {
           "color": "white",
           "width": 1
          },
          "opacity": 0.7,
          "size": 8
         },
         "mode": "markers",
         "name": "Cluster 8",
         "type": "scatter",
         "x": [],
         "xaxis": "x8",
         "y": [],
         "yaxis": "y8"
        },
        {
         "marker": {
          "line": {
           "color": "white",
           "width": 1
          },
          "opacity": 0.7,
          "size": 12
         },
         "mode": "markers",
         "name": "Centers",
         "type": "scatter",
         "x": {
          "bdata": "CBdu9zg5HMDPbuBlXcINwM7G9drGRxhA1oPidKgbIMB6EgRMhjQVQE405n0T/CDAe18Ww6yiD8ChKNr/Jx0hwA==",
          "dtype": "f8"
         },
         "xaxis": "x8",
         "y": {
          "bdata": "ldvYd85AKsCMS6mDQnAcQM2oGR4y1BnAXRczlbjUAECgJYwBMkYBwBP14IGseiHAuMOqXeFjAkAx3lfZSrgZQA==",
          "dtype": "f8"
         },
         "yaxis": "y8"
        },
        {
         "marker": {
          "line": {
           "color": "white",
           "width": 1
          },
          "opacity": 0.7,
          "size": 8
         },
         "mode": "markers",
         "name": "Cluster 0",
         "type": "scatter",
         "x": {
          "bdata": "Aa7HwIGFCMB1VM2jXiUQwBsunkd8KxbA3l5TStZFHsC7AkYqHi4JwF3eGcgiOxHADDSPYkqRB8Ag/8JaEx/kPwZWMR7uegfA",
          "dtype": "f8"
         },
         "xaxis": "x9",
         "y": {
          "bdata": "NJcVnK/e3D+c04qFtgn1v6DZ2NRKTr8/juqSR4wyCMAa1CLp1ALVP0Lo+K612tC/ljWR0kMo9L8AsZx65l/pv4hsXFQSlAPA",
          "dtype": "f8"
         },
         "yaxis": "y9"
        },
        {
         "marker": {
          "line": {
           "color": "white",
           "width": 1
          },
          "opacity": 0.7,
          "size": 8
         },
         "mode": "markers",
         "name": "Cluster 1",
         "type": "scatter",
         "x": {
          "bdata": "FHMP+0KAE0BYyNE5exwUQAK18ar5qRRAVXPAz+A9EEDa1VAqpcwQQDotj18pwRtADEMYDDgQEED0Cl47GVQkQC2MvUDfXiJAqo7SFo6uG0AGcHnU91oYQJOdYcDjuhhAgYOruhOGFkBTbdirxPAgQFUrhTcfxCJAL8/w2Z1CE0Dp+BbvwhkUQG9X9ZEPaRFAb4mcqOxzE0CwGEEb7SsfQO46H/rENRtAK8+Dkf60HUDr0KGsdAAIQDJ1pi/LMxpA7wiS/qV7FUDMpnZJyFERQAESivsSdyJA/F1SjkeuGEAoLcE6KmUWQAMTnmv1+xxAH0RqgWyXF0CDmnbYFawUQOyEF7xE5x5AjdBNOnrYFEAW+x/jb5sVQN5nPTM3eyFA9jaLBESSJ0DuRlCYJZ8WQA==",
          "dtype": "f8"
         },
         "xaxis": "x9",
         "y": {
          "bdata": "Ld0piLs3GsDUCAUk51cZwKyssehhEh3AMT7yQY7WHcDAt3D1U4gWwPGWdac6bCDAR5ltXocHFsDM1ASRzGILwL64ddBQtBbAmBvQKa0LHMAPwYzjAOkWwNshYvOWsx7AFi/6tvp3JMCOTh7K0eMjwO6x/o6miRPAFii0GsN5FcBY0txWJzEVwMrLHm8EPxfAcRzT2jzVFsCocPYbFQkkwJa3tgHnwSLAJWt7IhnwEcAIyNn51twYwEKpVusvxhzA1Wx2k9jBFcAZtSrNszEfwOfZ73cWvxjAg2kWlkaFF8CtMZ7Qf0ITwGeRbK9HWRHAbMfoqfP4HcCMI5whbRISwE/SWMt+BhXAASq38HykEsC/11vR+LIawMqTiE3w+xTACxbIViMuCcD7febLGDcawA==",
          "dtype": "f8"
         },
         "yaxis": "y9"
        },
        {
         "marker": {
          "line": {
           "color": "white",
           "width": 1
          },
          "opacity": 0.7,
          "size": 8
         },
         "mode": "markers",
         "name": "Cluster 2",
         "type": "scatter",
         "x": {
          "bdata": "/IbEGvx4HsC9XhhBsB4ewMWa5pXZ5CXACvI/whhRHMCzKhZk6K4nwCgc4rPPURjAzSWDWnxqIMD3yKjjW0QXwIUrI0JVDSDASAJY73h4KcAlznoj+f4bwDkP5hZQUxzAzlgY8GbYIcCzZzE/rCIhwERqioF/VyTAdHm26+HiKsCfkF4/AHUewC00QbU4HiDA1FnirfT7IcAQ3ksnTs8iwB26FGAL0BrAqk7uv7/6JMB4AH4DigomwFMfXNW1uSfAPPaTpHE5IsAxENVcP8QlwAESmMlX/RrANQxVLirDH8CxzalmNSsYwFGubHfr5R7AMQSmHLwlG8BV3+NNB+kawD5Dt5t7eh7AY363W0PVJMDIBSdcpA8TwKU8egvywSXASEaTri/cIMBABUl6ryYdwNvu1eaM3iHAgANdScUJIMCvm6S8ypkiwHWuly3ynijA3eIoNQylHsC4p/AAvz8XwOBAS7JKbAbA9ZtKPyl2IsA=",
          "dtype": "f8"
         },
         "xaxis": "x9",
         "y": {
          "bdata": "dl2FnQIIIcAnJUZfjloWwGon6lKCUyLA8VpFSpKDGcDC3Mc/OhkkwKuheBCQJSTA8mkqMRnbIMDrNCk7cf8iwB6qkiCDqx/AnpFktcHKIcDpm2/6BkMZwNRmB3azTB3AjeL7gJLQGMAOEkQIMdoiwLc02znY2SPAZ4Q9HZ6YI8De4WtkNcIhwFPYq5lE8CLARlutVL9gJsCmzcSBcyUdwEXN/r2afCLAUqTR/z/yJcBtlYkm3TgkwApz+ATfNCHAvYZ8t1/qIMAcan6VcPokwGh0pzDS8iHAvOoTrRWnFsBA1lOcrrYjwOAA5Hb7ISTAesXioRnXJMDb7dvMxFMiwLZYmtrsFyTATi/a5b3qG8AExMQlhjQdwJzwTGg2zyPAhQ3Jrpx6IMCxGj0EFgkcwKhraNevfyHAukG5Uq66JcC2tSU9sF4lwOxKBVR2URjAtYQM7I7JHsBDQNZG8kEXwO+wibLaQiLAbS3ejDJYJsA=",
          "dtype": "f8"
         },
         "yaxis": "y9"
        },
        {
         "marker": {
          "line": {
           "color": "white",
           "width": 1
          },
          "opacity": 0.7,
          "size": 8
         },
         "mode": "markers",
         "name": "Cluster 3",
         "type": "scatter",
         "x": {
          "bdata": "0hsoj1XVI8A2h/h7PDMnwD8j0x97OyPAFCmZQB8xI8B/mt5IjWMawJJlJ6PSDB3ARE1ZYfxQI8D0bfjZJi4cwNPCUcMPfRnAA6j/Pn8aG8Agd1fY7VYhwOCOyeY8OiHAnue5ZswyGsC+zlyUnV4iwNZHgcC16CPAlK+aPOn1HsCewdsuxNUkwKjTYhCqHSfAOFUZ6y/rG8B4BhVL924iwLh6N7wCTh7A1rgrL2FwGsAxgMsUGxQkwHxLYwYuESPAJVm0JtU7IsBVNEHarU0dwCfQjVVPxSXAKdHGmZUUIMDXjrfQCyshwAowNOCbyRvAKB44WY2gIMDazNObhiEhwDzZOrzGOyrAZS39rTocGsDpl0oKq5sbwJw4JqfkqSLAaqlkETgtHsBKtCEVfGwdwMJfo8t7Kh/AGUYod6rwHcDyvyl2rTAlwA==",
          "dtype": "f8"
         },
         "xaxis": "x9",
         "y": {
          "bdata": "08jbhQJfFECw/gNu2osaQJwVbiXTbxdAULXQRk/sGkBh3wBJqTsYQLUo9GwWGRhAZuGGEC14GUBSscmhpUkUQDwnpM0krRhAPq02B3akHkCLS1od6U4XQCzsqNfOBBhAKGmK+DrHGkAFmtg3KmkhQKKWh8XIeiJAOhh4+CWFGEB6abjAfp8aQLLBp3Y5ax1A3X/EaPq6EkAxC3rX128WQJ7vtK8RfxNAHKcAhQC1GkBKqXKumeAcQG/ES/3/6BpAHnBP66o6IED8PpQY6VkaQMHVbZsUSRRA3KSRDcB1GECORive42ETQNaKlgULihhApzanV5xJEkBGWe8l2lQTQFyQseU7PiJAYfHnIOMkHkBUfxZSlLgjQDSCkAZiNyJAhrEE5HdIHkA2a+8D3RsSQB9/raA2xBVAMyjwX/WaFkCsI7l+PysaQA==",
          "dtype": "f8"
         },
         "yaxis": "y9"
        },
        {
         "marker": {
          "line": {
           "color": "white",
           "width": 1
          },
          "opacity": 0.7,
          "size": 8
         },
         "mode": "markers",
         "name": "Cluster 4",
         "type": "scatter",
         "x": {
          "bdata": "zXMlsXkoJMC6rAm3RSUfwNJ7QjA6iSHA6yO17HgZGsBRtyUCMGUdwNuRGWFj+h3AMVOcR8qvJcBw93I7I8giwOHztI61UR7AVqz8/6GIHsAW0mnmt6gdwLAh512mhR/ApX2R9f8XIcCRAeA/bawgwHdTLuMxDyHAeFMdv7JfHsC/anzAqV0iwBI2ihWZYiTAvgtU8sAFJcApvG07RxcewGzMGjmlJR7Arji+3aLcHsDxK5ckztkZwDGUN8Ia6BrAcTlPnWmUGcBa1K6qgtcdwJa2v5IpexzAESN0W464HcDrM8tKleMgwNOXgOqglSDAGwYOvooZHsBUy9APuhEbwOMCAsok2B7AEPIusWZ5H8BByknhISwjwA==",
          "dtype": "f8"
         },
         "xaxis": "x9",
         "y": {
          "bdata": "dF+Naev5879qMifi2UEEQAlh6yYW3vk/BK2lEaj6CEDcLI2F680FQCU8YcvulglAIKcuw8uozr/BuQXG6c/4v9mEZhM5sv4/UQIXGfXsDEC7lyTW6sgPQAil49NkaRFAPo31NKsHAkBCObaukQQJQEXc52afmQRABp2sWhvK8D/cOg2O+pQKQD+TEnJ2SQtA9h4psAEPDUBV6r6T1X4IQJQkDRwfGQFA+kB7cIr89j+8osSmBSYCQElzvxwwchFAxpdSqNGZAEDEjG0CjuAQQClGn9QKLgpATt0rKWf8CEAxllBW5WUKQCCMFoHSUJG/KO9aqxW6/D8sHQZB1YrOvy6PKNyPbA9A6mrVDXndCkBgNrU/UEHdvw==",
          "dtype": "f8"
         },
         "yaxis": "y9"
        },
        {
         "marker": {
          "line": {
           "color": "white",
           "width": 1
          },
          "opacity": 0.7,
          "size": 8
         },
         "mode": "markers",
         "name": "Cluster 5",
         "type": "scatter",
         "x": {
          "bdata": "oEFQvRiaDcCSkB0/hq8SwGCHbsF7yxDAMJzi5A8KFMBRqeyWZ1YMwJBq0Wm3EArAe2rjVLrEE8CbmKqdUDAHwENkqLQ3QBDAVIrNPVuxFsAT3QCTRP4QwMYz3p5aYRHA2o7Jj2JqCsCGrN1u8TAAwJyH6tezQQzAsNJguTLyA8BxGSI8zmoNwKcmvSn1nfm/gx7zMTn4E8AMik5rXhgUwOYLlBmwKQ7AJe0lyz1sE8ABVAgUy90SwOBLB3lLexHA2VDJj47iEcCQuSKip9QSwG2W13yKTRTArUUnG9erDMCx6fKDqC4MwMJFoSLhnRHA67kmL0a6BsCSYBuQM+IRwKHJc8xU1xDA",
          "dtype": "f8"
         },
         "xaxis": "x9",
         "y": {
          "bdata": "halIkdtmEUBqAvaBRCPzP8+oQrPfjRFAk3hB81SzDEAZT9ae6xj9P/Qa3fDirAhA48isELpyB0D2+fgYZPARQLfemloSBfg/bpx4N/ACDkDx0wbndC0GQFIc8yYtOAhAMNxdUiHLCEAErUwwaUwMQGCo4ah/G/Q/m/HBWGH8DEAGE4BRqWj8Pwwx8Ra+/AxAlNo0jAgRA0D+mM/6n3EBQCykOVmsJfw/vsNbhBVKCEBQzy35QzMFQBJpBRgcjQ1AQnElfkPOCUCVADUxXkgSQHdkWPQuqBBAsoajVjA2A0CLpTBrVSwEQOtfz+gPDgFADcrLL2z/AEBE3oMYCQYJQLj5vUl6bgRA",
          "dtype": "f8"
         },
         "yaxis": "y9"
        },
        {
         "marker": {
          "line": {
           "color": "white",
           "width": 1
          },
          "opacity": 0.7,
          "size": 8
         },
         "mode": "markers",
         "name": "Cluster 6",
         "type": "scatter",
         "x": {
          "bdata": "qvfkfUAkGMDyAFHMuqsUwGbnklbB3ArAQpJLjU7+HcCv+xA2p5sdwHWidkiV7iDAKZYYZwu/HsBa7HwjhEkYwOO0J0XgoBfASlsHQIdSJsBh6xLY8wcewM4bD2L1HiHAHho2l2snHsDoM3rQh4UiwB6OhWB3jQbAAdppXk2QHsBVnDn/TAojwDT9JunrTgnAT0gAoJ5IIcDi0Nyfh7UXwKVgkhcafSHApQaNpHtWHcD7Q2yepk4fwAZ9eW6/HRrAK9pKlj+nE8DSLNZik2oZwPE3mRCDuirAhlt24EPNEcCntJXcDhQXwA==",
          "dtype": "f8"
         },
         "xaxis": "x9",
         "y": {
          "bdata": "6xuqzXV7J8APxQUUaQElwG/eLHtH6iTAO8/jP1zoJsC7PX/ZMksnwCyj4H3Q4yvA9kXvgSsJL8DbAQbJa2ApwOK1RU4Bgi/AsSlsQ9KIKcBsYn52Ov8owKQ3hfNAbirAbsbe4KBoKMA/lPz3vDYrwDPPuTmJ4SbA3IkiyYsxK8C3PeA/AmApwKF6G/DK7iPAos3ZAPdTKMC116jlPEUuwAJoP2wnwyfAasbU59hKL8B3yO+2CnErwNhyv3alAivAgOLtZtv+JcAFzaaLiCIwwCQPuxMUiDHA0j3aIIdoLsAOW0AeNx4qwA==",
          "dtype": "f8"
         },
         "yaxis": "y9"
        },
        {
         "marker": {
          "line": {
           "color": "white",
           "width": 1
          },
          "opacity": 0.7,
          "size": 8
         },
         "mode": "markers",
         "name": "Cluster 7",
         "type": "scatter",
         "x": {
          "bdata": "hhz7IMnW+L8lTRBiuZQNwHRNEwP8EQXAKNZkjOfe9r+siB/pYGMXwB+Vtw9SdxLAt1KaCTE5D8A2QBEjg9Hov4EssNTUafa/Y9ditgrGCMBLIjk3aCUHwEhrqV6LMAPAnzFkcPE8FsDEgkSi7ScNwLJPxGLavwzAZViSscC+CcDvqkA7QQEUwNN+4sV5KxfAMKEu4Q36CcBIyvEFJv0UwJIlaHkyewXAUOqhKOaJEMBuY1qKWesSwNfkmeIwRhPAogAP+j5QDcBbQHkliycLwHdcIYzA0hTAGnNiYqf/BMC0bHQAYugPwE4WHP8L1gjAnmRBf9EnFMCJSP/gdWUYwA==",
          "dtype": "f8"
         },
         "xaxis": "x9",
         "y": {
          "bdata": "Si2SOKwOJkDRIGsal/ccQOReP3TkJhtAe3zLZsQsH0BnSA8Kq6UWQFyNjUlkShhAld25oM2NIUDquFQr8vEVQLvrKj2VjhZAglEFbLzjHUDkl57g2YQbQPQuuFF1VCZAOgZdcOvGIEC60xFFn74XQAaAC4ZKphdA9kWRRUedHUAjWNeVh/UUQI13Uv7KJB1Amxa8MzdSGUAE4nYKx7IXQK/mbnYjHhdAswA+GHuwHUAQPcYEBkUaQEbSYWSzKhZAUrPMOQk8HECS9i2ZSsgbQJ6CIR7xBB5A6T08w1ljIEAi0+nOKWQdQHTV8Ay3ExpAQNpIY5j8IkDWMk9LStMaQA==",
          "dtype": "f8"
         },
         "yaxis": "y9"
        },
        {
         "marker": {
          "line": {
           "color": "white",
           "width": 1
          },
          "opacity": 0.7,
          "size": 8
         },
         "mode": "markers",
         "name": "Cluster 8",
         "type": "scatter",
         "x": {
          "bdata": "bAkfVDiwBUC4jh5JZxsUQFi1ubJ/xwRAmX6CkPoeB0BCTmV45p/yP2OhFXwu3hJAPndjXJujJUD9W7J2X4MhQEp9kn7TdxBA/rug9urwGkDOldC0hU0GQHs4M7PsmhFAoXCBerOXDkCj30RcYJUaQLpDcuBevhJAWvhHAO4PC0CUX/sKeRwWQKx4KpVimxtAnPPv3dwxI0DdsLTTN68jQCazhb0g3AhA+McajflMHECCBWZXWC4ZQG8q3Fn2GBNAorXyNSU2EkArmKeIiYkYQBjT7zGzNRpAmAdjD07+CkDk7ST8j0IgQHL3T9r0kBZAEDPfj075FEBRvuDokAP6PzJ7kT0aBhpAHXVEzMWE8j/4ncn1LhseQCEFcwc6MwRAuTeKh3n0AEA=",
          "dtype": "f8"
         },
         "xaxis": "x9",
         "y": {
          "bdata": "S4c1qVVj+r90hSsoBRriP6gevPyrasC/mFz/WyZ68j/n+uFwbGYKwGqqwuF6ThDAAgVMxN+51b/M2k88Fw3hv6Ps8FiUMhDAL5AGlYc5CsCCaIzTGxf2vyJ+LhJVbQHAdHpY+hbXCMDHpXimfzINwNT+cx64LgjAyPAM633oBMAIghSiwXnuvwY69iU/nQvATS5nSPjI7L/c4sbtrQYCwNiaXDexPQ3AVnwnIkciCsCkASVh2szpPxSRzqII6QDAb6qQUyVH+r/uY+fuMvcEwODFqSOTQAdA3JCJ03Z+9b+1BtL+cWDxv7zyTKiczQrAQUZ+FAmnDsDOR3Bs8N0PwBm2/AGCRO+/Jm1gkc9XEsBbRus8udcJwLTnYk5mBRLABhMcO/kZC8A=",
          "dtype": "f8"
         },
         "yaxis": "y9"
        },
        {
         "marker": {
          "line": {
           "color": "white",
           "width": 1
          },
          "opacity": 0.7,
          "size": 8
         },
         "mode": "markers",
         "name": "Cluster 9",
         "type": "scatter",
         "x": [],
         "xaxis": "x9",
         "y": [],
         "yaxis": "y9"
        },
        {
         "marker": {
          "line": {
           "color": "white",
           "width": 1
          },
          "opacity": 0.7,
          "size": 12
         },
         "mode": "markers",
         "name": "Centers",
         "type": "scatter",
         "x": {
          "bdata": "LnEz1xRDDcDcpOecH1AZQE405n0T/CDAxWpWdZolIcAqtsMOOiAgwCGTQMwbBhDACBdu9zg5HMDPbuBlXcINwMAUETfLexRA",
          "dtype": "f8"
         },
         "xaxis": "x9",
         "y": {
          "bdata": "5COmFwQp7b+IlTIcQCkZwBP14IGseiHAao7w/irsGUBiU7mUaoQCQHpf3jWTWgdAldvYd85AKsCMS6mDQnAcQOuIhtQoFQHA",
          "dtype": "f8"
         },
         "yaxis": "y9"
        },
        {
         "marker": {
          "line": {
           "color": "white",
           "width": 1
          },
          "opacity": 0.7,
          "size": 8
         },
         "mode": "markers",
         "name": "Cluster 0",
         "type": "scatter",
         "x": {
          "bdata": "/IbEGvx4HsC9XhhBsB4ewPIAUcy6qxTAZueSVsHcCsAK8j/CGFEcwCgc4rPPURjAzSWDWnxqIMD3yKjjW0QXwIUrI0JVDSDAJc56I/n+G8A5D+YWUFMcwM5YGPBm2CHAn5BePwB1HsAtNEG1OB4gwB26FGAL0BrAHo6FYHeNBsABEpjJV/0awDUMVS4qwx/Asc2pZjUrGMBRrmx36+UewDEEphy8JRvANP0m6etOCcBV3+NNB+kawD5Dt5t7eh7AyAUnXKQPE8BIRpOuL9wgwEAFSXqvJh3AK9pKlj+nE8CAA11JxQkgwN3iKDUMpR7AuKfwAL8/F8DgQEuySmwGwA==",
          "dtype": "f8"
         },
         "xaxis": "x10",
         "y": {
          "bdata": "dl2FnQIIIcAnJUZfjloWwA/FBRRpASXAb94se0fqJMDxWkVKkoMZwKuheBCQJSTA8mkqMRnbIMDrNCk7cf8iwB6qkiCDqx/A6Ztv+gZDGcDUZgd2s0wdwI3i+4CS0BjA3uFrZDXCIcBT2KuZRPAiwEXN/r2afCLAM8+5OYnhJsBodKcw0vIhwLzqE60VpxbAQNZTnK62I8DgAOR2+yEkwHrF4qEZ1yTAoXob8MruI8Db7dvMxFMiwLZYmtrsFyTABMTEJYY0HcCFDcmunHogwLEaPQQWCRzAgOLtZtv+JcC6QblSrrolwLWEDOyOyR7AQ0DWRvJBF8DvsImy2kIiwA==",
          "dtype": "f8"
         },
         "yaxis": "y10"
        },
        {
         "marker": {
          "line": {
           "color": "white",
           "width": 1
          },
          "opacity": 0.7,
          "size": 8
         },
         "mode": "markers",
         "name": "Cluster 1",
         "type": "scatter",
         "x": {
          "bdata": "f5reSI1jGsC6rAm3RSUfwNJ7QjA6iSHA6yO17HgZGsCSZSej0gwdwFG3JQIwZR3A25EZYWP6HcD0bfjZJi4cwOHztI61UR7AVqz8/6GIHsAW0mnmt6gdwLAh512mhR/ApX2R9f8XIcBUis09W7EWwJEB4D9trCDAd1Mu4zEPIcC/anzAqV0iwBI2ihWZYiTAvgtU8sAFJcApvG07RxcewGzMGjmlJR7Arji+3aLcHsDxK5ckztkZwDGUN8Ia6BrAcTlPnWmUGcA4VRnrL+sbwLh6N7wCTh7AWtSuqoLXHcCWtr+SKXscwBEjdFuOuB3A6zPLSpXjIMAbBg6+ihkewNeOt9ALKyHACjA04JvJG8AoHjhZjaAgwNrM05uGISHA4wICyiTYHsAQ8i6xZnkfwEq0IRV8bB3Awl+jy3sqH8AZRih3qvAdwA==",
          "dtype": "f8"
         },
         "xaxis": "x10",
         "y": {
          "bdata": "Yd8ASak7GEBqMifi2UEEQAlh6yYW3vk/BK2lEaj6CEC1KPRsFhkYQNwsjYXrzQVAJTxhy+6WCUBSscmhpUkUQNmEZhM5sv4/UQIXGfXsDEC7lyTW6sgPQAil49NkaRFAPo31NKsHAkBunHg38AIOQEI5tq6RBAlARdznZp+ZBEDcOg2O+pQKQD+TEnJ2SQtA9h4psAEPDUBV6r6T1X4IQJQkDRwfGQFA+kB7cIr89j+8osSmBSYCQElzvxwwchFAxpdSqNGZAEDdf8Ro+roSQJ7vtK8RfxNAxIxtAo7gEEApRp/UCi4KQE7dKyln/AhAMZZQVuVlCkAo71qrFbr8P45GK97jYRNA1oqWBQuKGECnNqdXnEkSQEZZ7yXaVBNALo8o3I9sD0DqatUNed0KQDZr7wPdGxJAH3+toDbEFUAzKPBf9ZoWQA==",
          "dtype": "f8"
         },
         "yaxis": "y10"
        },
        {
         "marker": {
          "line": {
           "color": "white",
           "width": 1
          },
          "opacity": 0.7,
          "size": 8
         },
         "mode": "markers",
         "name": "Cluster 2",
         "type": "scatter",
         "x": {
          "bdata": "bAkfVDiwBUC4jh5JZxsUQFi1ubJ/xwRAmX6CkPoeB0BCTmV45p/yP2OhFXwu3hJAPndjXJujJUD0Cl47GVQkQP1bsnZfgyFASn2SftN3EED+u6D26vAaQM6V0LSFTQZAezgzs+yaEUChcIF6s5cOQKPfRFxglRpAukNy4F6+EkBa+EcA7g8LQJRf+wp5HBZArHgqlWKbG0Cc8+/d3DEjQN2wtNM3ryNAIP/CWhMf5D8ms4W9INwIQPjHGo35TBxAggVmV1guGUBvKtxZ9hgTQKK18jUlNhJAK5iniImJGEAY0+8xszUaQJgHYw9O/gpA5O0k/I9CIEBy90/a9JAWQBAz349O+RRAUb7g6JAD+j8ye5E9GgYaQB11RMzFhPI/+J3J9S4bHkAhBXMHOjMEQLk3iod59ABA9jaLBESSJ0A=",
          "dtype": "f8"
         },
         "xaxis": "x10",
         "y": {
          "bdata": "S4c1qVVj+r90hSsoBRriP6gevPyrasC/mFz/WyZ68j/n+uFwbGYKwGqqwuF6ThDAAgVMxN+51b/M1ASRzGILwMzaTzwXDeG/o+zwWJQyEMAvkAaVhzkKwIJojNMbF/a/In4uElVtAcB0elj6FtcIwMeleKZ/Mg3A1P5zHrguCMDI8AzrfegEwAiCFKLBee6/Bjr2JT+dC8BNLmdI+Mjsv9zixu2tBgLAALGceuZf6b/Ymlw3sT0NwFZ8JyJHIgrApAElYdrM6T8Ukc6iCOkAwG+qkFMlR/q/7mPn7jL3BMDgxakjk0AHQNyQidN2fvW/tQbS/nFg8b+88kyonM0KwEFGfhQJpw7AzkdwbPDdD8AZtvwBgkTvvyZtYJHPVxLAW0brPLnXCcC052JOZgUSwAYTHDv5GQvACxbIViMuCcA=",
          "dtype": "f8"
         },
         "yaxis": "y10"
        },
        {
         "marker": {
          "line": {
           "color": "white",
           "width": 1
          },
          "opacity": 0.7,
          "size": 8
         },
         "mode": "markers",
         "name": "Cluster 3",
         "type": "scatter",
         "x": {
          "bdata": "zXMlsXkoJMAxU5xHyq8lwHD3cjsjyCLA3l5TStZFHsB4Ux2/sl8ewNOXgOqglSDAVMvQD7oRG8BByknhISwjwA==",
          "dtype": "f8"
         },
         "xaxis": "x10",
         "y": {
          "bdata": "dF+Naev5878gpy7Dy6jOv8G5Bcbpz/i/juqSR4wyCMAGnaxaG8rwPyCMFoHSUJG/LB0GQdWKzr9gNrU/UEHdvw==",
          "dtype": "f8"
         },
         "yaxis": "y10"
        },
        {
         "marker": {
          "line": {
           "color": "white",
           "width": 1
          },
          "opacity": 0.7,
          "size": 8
         },
         "mode": "markers",
         "name": "Cluster 4",
         "type": "scatter",
         "x": {
          "bdata": "xZrmldnkJcCzKhZk6K4nwEgCWO94eCnAs2cxP6wiIcBEaoqBf1ckwEpbB0CHUibAdHm26+HiKsDUWeKt9PshwBDeSydOzyLAqk7uv7/6JMB4AH4DigomwFMfXNW1uSfAPPaTpHE5IsAxENVcP8QlwGN+t1tD1STApTx6C/LBJcDb7tXmjN4hwK+bpLzKmSLAda6XLfKeKMD1m0o/KXYiwA==",
          "dtype": "f8"
         },
         "xaxis": "x10",
         "y": {
          "bdata": "aifqUoJTIsDC3Mc/OhkkwJ6RZLXByiHADhJECDHaIsC3NNs52NkjwLEpbEPSiCnAZ4Q9HZ6YI8BGW61Uv2AmwKbNxIFzJR3AUqTR/z/yJcBtlYkm3TgkwApz+ATfNCHAvYZ8t1/qIMAcan6VcPokwE4v2uW96hvAnPBMaDbPI8Coa2jXr38hwLa1JT2wXiXA7EoFVHZRGMBtLd6MMlgmwA==",
          "dtype": "f8"
         },
         "yaxis": "y10"
        },
        {
         "marker": {
          "line": {
           "color": "white",
           "width": 1
          },
          "opacity": 0.7,
          "size": 8
         },
         "mode": "markers",
         "name": "Cluster 5",
         "type": "scatter",
         "x": {
          "bdata": "qvfkfUAkGMBCkkuNTv4dwK/7EDanmx3AdaJ2SJXuIMAplhhnC78ewFrsfCOESRjA47QnReCgF8Bh6xLY8wcewM4bD2L1HiHAHho2l2snHsDoM3rQh4UiwAHaaV5NkB7AVZw5/0wKI8BPSACgnkghwOLQ3J+HtRfApWCSFxp9IcClBo2ke1YdwPtDbJ6mTh/ABn15br8dGsDSLNZik2oZwPE3mRCDuirAhlt24EPNEcCntJXcDhQXwA==",
          "dtype": "f8"
         },
         "xaxis": "x10",
         "y": {
          "bdata": "6xuqzXV7J8A7z+M/XOgmwLs9f9kySyfALKPgfdDjK8D2Re+BKwkvwNsBBslrYCnA4rVFTgGCL8BsYn52Ov8owKQ3hfNAbirAbsbe4KBoKMA/lPz3vDYrwNyJIsmLMSvAtz3gPwJgKcCizdkA91MowLXXqOU8RS7AAmg/bCfDJ8BqxtTn2EovwHfI77YKcSvA2HK/dqUCK8AFzaaLiCIwwCQPuxMUiDHA0j3aIIdoLsAOW0AeNx4qwA==",
          "dtype": "f8"
         },
         "yaxis": "y10"
        },
        {
         "marker": {
          "line": {
           "color": "white",
           "width": 1
          },
          "opacity": 0.7,
          "size": 8
         },
         "mode": "markers",
         "name": "Cluster 6",
         "type": "scatter",
         "x": {
          "bdata": "oEFQvRiaDcCSkB0/hq8SwAGux8CBhQjAYIduwXvLEMAwnOLkDwoUwFGp7JZnVgzAkGrRabcQCsB1VM2jXiUQwHtq41S6xBPAm5iqnVAwB8BDZKi0N0AQwBsunkd8KxbAuwJGKh4uCcBd3hnIIjsRwBPdAJNE/hDADDSPYkqRB8DGM96eWmERwNqOyY9iagrAhqzdbvEwAMCch+rXs0EMwLDSYLky8gPAcRkiPM5qDcCnJr0p9Z35v4Me8zE5+BPADIpOa14YFMDmC5QZsCkOwCXtJcs9bBPAAVQIFMvdEsDgSwd5S3sRwNlQyY+O4hHAkLkioqfUEsBtltd8ik0UwK1FJxvXqwzABlYxHu56B8Cx6fKDqC4MwMJFoSLhnRHA67kmL0a6BsCSYBuQM+IRwKHJc8xU1xDA",
          "dtype": "f8"
         },
         "xaxis": "x10",
         "y": {
          "bdata": "halIkdtmEUBqAvaBRCPzPzSXFZyv3tw/z6hCs9+NEUCTeEHzVLMMQBlP1p7rGP0/9Brd8OKsCECc04qFtgn1v+PIrBC6cgdA9vn4GGTwEUC33ppaEgX4P6DZ2NRKTr8/GtQi6dQC1T9C6PiutdrQv/HTBud0LQZAljWR0kMo9L9SHPMmLTgIQDDcXVIhywhABK1MMGlMDEBgqOGofxv0P5vxwVhh/AxABhOAUalo/D8MMfEWvvwMQJTaNIwIEQNA/pjP+p9xAUAspDlZrCX8P77DW4QVSghAUM8t+UMzBUASaQUYHI0NQEJxJX5DzglAlQA1MV5IEkB3ZFj0LqgQQLKGo1YwNgNAiGxcVBKUA8CLpTBrVSwEQOtfz+gPDgFADcrLL2z/AEBE3oMYCQYJQLj5vUl6bgRA",
          "dtype": "f8"
         },
         "yaxis": "y10"
        },
        {
         "marker": {
          "line": {
           "color": "white",
           "width": 1
          },
          "opacity": 0.7,
          "size": 8
         },
         "mode": "markers",
         "name": "Cluster 7",
         "type": "scatter",
         "x": {
          "bdata": "hhz7IMnW+L8lTRBiuZQNwHRNEwP8EQXAKNZkjOfe9r+siB/pYGMXwB+Vtw9SdxLAt1KaCTE5D8A2QBEjg9Hov4EssNTUafa/Y9ditgrGCMDTwlHDD30ZwEsiOTdoJQfAA6j/Pn8aG8BIa6leizADwJ8xZHDxPBbAxIJEou0nDcCyT8Ri2r8MwGVYkrHAvgnA76pAO0EBFMDTfuLFeSsXwJ7nuWbMMhrAMKEu4Q36CcBIyvEFJv0UwJIlaHkyewXAUOqhKOaJEMDWuCsvYXAawG5jWopZ6xLA1+SZ4jBGE8CiAA/6PlANwFtAeSWLJwvAZS39rTocGsB3XCGMwNIUwBpzYmKn/wTAtGx0AGLoD8BOFhz/C9YIwJ5kQX/RJxTAiUj/4HVlGMA=",
          "dtype": "f8"
         },
         "xaxis": "x10",
         "y": {
          "bdata": "Si2SOKwOJkDRIGsal/ccQOReP3TkJhtAe3zLZsQsH0BnSA8Kq6UWQFyNjUlkShhAld25oM2NIUDquFQr8vEVQLvrKj2VjhZAglEFbLzjHUA8J6TNJK0YQOSXnuDZhBtAPq02B3akHkD0LrhRdVQmQDoGXXDrxiBAutMRRZ++F0AGgAuGSqYXQPZFkUVHnR1AI1jXlYf1FECNd1L+yiQdQChpivg6xxpAmxa8MzdSGUAE4nYKx7IXQK/mbnYjHhdAswA+GHuwHUAcpwCFALUaQBA9xgQGRRpARtJhZLMqFkBSs8w5CTwcQJL2LZlKyBtAYfHnIOMkHkCegiEe8QQeQOk9PMNZYyBAItPpzilkHUB01fAMtxMaQEDaSGOY/CJA1jJPS0rTGkA=",
          "dtype": "f8"
         },
         "yaxis": "y10"
        },
        {
         "marker": {
          "line": {
           "color": "white",
           "width": 1
          },
          "opacity": 0.7,
          "size": 8
         },
         "mode": "markers",
         "name": "Cluster 8",
         "type": "scatter",
         "x": {
          "bdata": "0hsoj1XVI8A2h/h7PDMnwD8j0x97OyPAFCmZQB8xI8BETVlh/FAjwCB3V9jtViHA4I7J5jw6IcC+zlyUnV4iwNZHgcC16CPAlK+aPOn1HsCewdsuxNUkwKjTYhCqHSfAeAYVS/duIsAxgMsUGxQkwHxLYwYuESPAJVm0JtU7IsBVNEHarU0dwCfQjVVPxSXAKdHGmZUUIMA82Tq8xjsqwOmXSgqrmxvAnDgmp+SpIsBqqWQROC0ewPK/KXatMCXA",
          "dtype": "f8"
         },
         "xaxis": "x10",
         "y": {
          "bdata": "08jbhQJfFECw/gNu2osaQJwVbiXTbxdAULXQRk/sGkBm4YYQLXgZQItLWh3pThdALOyo184EGEAFmtg3KmkhQKKWh8XIeiJAOhh4+CWFGEB6abjAfp8aQLLBp3Y5ax1AMQt619dvFkBKqXKumeAcQG/ES/3/6BpAHnBP66o6IED8PpQY6VkaQMHVbZsUSRRA3KSRDcB1GEBckLHlOz4iQFR/FlKUuCNANIKQBmI3IkCGsQTkd0geQKwjuX4/KxpA",
          "dtype": "f8"
         },
         "yaxis": "y10"
        },
        {
         "marker": {
          "line": {
           "color": "white",
           "width": 1
          },
          "opacity": 0.7,
          "size": 8
         },
         "mode": "markers",
         "name": "Cluster 9",
         "type": "scatter",
         "x": {
          "bdata": "FHMP+0KAE0BYyNE5exwUQAK18ar5qRRAVXPAz+A9EEDa1VAqpcwQQDotj18pwRtADEMYDDgQEEAtjL1A314iQKqO0haOrhtABnB51PdaGECTnWHA47oYQIGDq7oThhZAU23Yq8TwIEBVK4U3H8QiQC/P8NmdQhNA6fgW78IZFEBvV/WRD2kRQG+JnKjscxNAsBhBG+0rH0DuOh/6xDUbQCvPg5H+tB1A69ChrHQACEAydaYvyzMaQO8Ikv6lexVAzKZ2SchREUABEor7EnciQPxdUo5HrhhAKC3BOiplFkADE55r9fscQB9EaoFslxdAg5p22BWsFEDshBe8ROceQI3QTTp62BRAFvsf42+bFUDeZz0zN3shQO5GUJglnxZA",
          "dtype": "f8"
         },
         "xaxis": "x10",
         "y": {
          "bdata": "Ld0piLs3GsDUCAUk51cZwKyssehhEh3AMT7yQY7WHcDAt3D1U4gWwPGWdac6bCDAR5ltXocHFsC+uHXQULQWwJgb0CmtCxzAD8GM4wDpFsDbIWLzlrMewBYv+rb6dyTAjk4eytHjI8Dusf6OpokTwBYotBrDeRXAWNLcVicxFcDKyx5vBD8XwHEc09o81RbAqHD2GxUJJMCWt7YB58EiwCVreyIZ8BHACMjZ+dbcGMBCqVbrL8YcwNVsdpPYwRXAGbUqzbMxH8Dn2e93Fr8YwINpFpZGhRfArTGe0H9CE8BnkWyvR1kRwGzH6Knz+B3AjCOcIW0SEsBP0ljLfgYVwAEqt/B8pBLAv9db0fiyGsDKk4hN8PsUwPt95ssYNxrA",
          "dtype": "f8"
         },
         "yaxis": "y10"
        },
        {
         "marker": {
          "line": {
           "color": "white",
           "width": 1
          },
          "opacity": 0.7,
          "size": 8
         },
         "mode": "markers",
         "name": "Cluster 10",
         "type": "scatter",
         "x": [],
         "xaxis": "x10",
         "y": [],
         "yaxis": "y10"
        },
        {
         "marker": {
          "line": {
           "color": "white",
           "width": 1
          },
          "opacity": 0.7,
          "size": 12
         },
         "mode": "markers",
         "name": "Centers",
         "type": "scatter",
         "x": {
          "bdata": "Bl7AJ9YwGsBWaGzY988ewHoSBEyGNBVA6/uTcbmHIcCQCKP8nislwPJ9Vbt4RB7ABDot32pID8B6hAgnKGsQwKW2opCxAyPAzsb12sZHGEA=",
          "dtype": "f8"
         },
         "xaxis": "x10",
         "y": {
          "bdata": "4DjTiCxXIcD4OzAx1U0NQKAljAEyRgHAaCShdzfo5r+/vl5uDhIjwAQKAlDmWSvA8Aysx5gXAkDUtdnVz1kcQCp5dhDDChxAzagZHjLUGcA=",
          "dtype": "f8"
         },
         "yaxis": "y10"
        }
       ],
       "layout": {
        "height": 2000,
        "shapes": [
         {
          "line": {
           "color": "Black",
           "dash": "dash",
           "width": 1
          },
          "type": "line",
          "x0": 0,
          "x1": 0,
          "xref": "x",
          "y0": -10,
          "y1": 10,
          "yref": "y"
         },
         {
          "line": {
           "color": "Black",
           "dash": "dash",
           "width": 1
          },
          "type": "line",
          "x0": -10,
          "x1": 10,
          "xref": "x",
          "y0": 0,
          "y1": 0,
          "yref": "y"
         },
         {
          "line": {
           "color": "Black",
           "dash": "dash",
           "width": 1
          },
          "type": "line",
          "x0": 0,
          "x1": 0,
          "xref": "x2",
          "y0": -10,
          "y1": 10,
          "yref": "y2"
         },
         {
          "line": {
           "color": "Black",
           "dash": "dash",
           "width": 1
          },
          "type": "line",
          "x0": -10,
          "x1": 10,
          "xref": "x2",
          "y0": 0,
          "y1": 0,
          "yref": "y2"
         },
         {
          "line": {
           "color": "Black",
           "dash": "dash",
           "width": 1
          },
          "type": "line",
          "x0": 0,
          "x1": 0,
          "xref": "x3",
          "y0": -10,
          "y1": 10,
          "yref": "y3"
         },
         {
          "line": {
           "color": "Black",
           "dash": "dash",
           "width": 1
          },
          "type": "line",
          "x0": -10,
          "x1": 10,
          "xref": "x3",
          "y0": 0,
          "y1": 0,
          "yref": "y3"
         },
         {
          "line": {
           "color": "Black",
           "dash": "dash",
           "width": 1
          },
          "type": "line",
          "x0": 0,
          "x1": 0,
          "xref": "x4",
          "y0": -10,
          "y1": 10,
          "yref": "y4"
         },
         {
          "line": {
           "color": "Black",
           "dash": "dash",
           "width": 1
          },
          "type": "line",
          "x0": -10,
          "x1": 10,
          "xref": "x4",
          "y0": 0,
          "y1": 0,
          "yref": "y4"
         },
         {
          "line": {
           "color": "Black",
           "dash": "dash",
           "width": 1
          },
          "type": "line",
          "x0": 0,
          "x1": 0,
          "xref": "x5",
          "y0": -10,
          "y1": 10,
          "yref": "y5"
         },
         {
          "line": {
           "color": "Black",
           "dash": "dash",
           "width": 1
          },
          "type": "line",
          "x0": -10,
          "x1": 10,
          "xref": "x5",
          "y0": 0,
          "y1": 0,
          "yref": "y5"
         },
         {
          "line": {
           "color": "Black",
           "dash": "dash",
           "width": 1
          },
          "type": "line",
          "x0": 0,
          "x1": 0,
          "xref": "x6",
          "y0": -10,
          "y1": 10,
          "yref": "y6"
         },
         {
          "line": {
           "color": "Black",
           "dash": "dash",
           "width": 1
          },
          "type": "line",
          "x0": -10,
          "x1": 10,
          "xref": "x6",
          "y0": 0,
          "y1": 0,
          "yref": "y6"
         },
         {
          "line": {
           "color": "Black",
           "dash": "dash",
           "width": 1
          },
          "type": "line",
          "x0": 0,
          "x1": 0,
          "xref": "x7",
          "y0": -10,
          "y1": 10,
          "yref": "y7"
         },
         {
          "line": {
           "color": "Black",
           "dash": "dash",
           "width": 1
          },
          "type": "line",
          "x0": -10,
          "x1": 10,
          "xref": "x7",
          "y0": 0,
          "y1": 0,
          "yref": "y7"
         },
         {
          "line": {
           "color": "Black",
           "dash": "dash",
           "width": 1
          },
          "type": "line",
          "x0": 0,
          "x1": 0,
          "xref": "x8",
          "y0": -10,
          "y1": 10,
          "yref": "y8"
         },
         {
          "line": {
           "color": "Black",
           "dash": "dash",
           "width": 1
          },
          "type": "line",
          "x0": -10,
          "x1": 10,
          "xref": "x8",
          "y0": 0,
          "y1": 0,
          "yref": "y8"
         },
         {
          "line": {
           "color": "Black",
           "dash": "dash",
           "width": 1
          },
          "type": "line",
          "x0": 0,
          "x1": 0,
          "xref": "x9",
          "y0": -10,
          "y1": 10,
          "yref": "y9"
         },
         {
          "line": {
           "color": "Black",
           "dash": "dash",
           "width": 1
          },
          "type": "line",
          "x0": -10,
          "x1": 10,
          "xref": "x9",
          "y0": 0,
          "y1": 0,
          "yref": "y9"
         },
         {
          "line": {
           "color": "Black",
           "dash": "dash",
           "width": 1
          },
          "type": "line",
          "x0": 0,
          "x1": 0,
          "xref": "x10",
          "y0": -10,
          "y1": 10,
          "yref": "y10"
         },
         {
          "line": {
           "color": "Black",
           "dash": "dash",
           "width": 1
          },
          "type": "line",
          "x0": -10,
          "x1": 10,
          "xref": "x10",
          "y0": 0,
          "y1": 0,
          "yref": "y10"
         }
        ],
        "showlegend": false,
        "template": {
         "data": {
          "bar": [
           {
            "error_x": {
             "color": "#2a3f5f"
            },
            "error_y": {
             "color": "#2a3f5f"
            },
            "marker": {
             "line": {
              "color": "#E5ECF6",
              "width": 0.5
             },
             "pattern": {
              "fillmode": "overlay",
              "size": 10,
              "solidity": 0.2
             }
            },
            "type": "bar"
           }
          ],
          "barpolar": [
           {
            "marker": {
             "line": {
              "color": "#E5ECF6",
              "width": 0.5
             },
             "pattern": {
              "fillmode": "overlay",
              "size": 10,
              "solidity": 0.2
             }
            },
            "type": "barpolar"
           }
          ],
          "carpet": [
           {
            "aaxis": {
             "endlinecolor": "#2a3f5f",
             "gridcolor": "white",
             "linecolor": "white",
             "minorgridcolor": "white",
             "startlinecolor": "#2a3f5f"
            },
            "baxis": {
             "endlinecolor": "#2a3f5f",
             "gridcolor": "white",
             "linecolor": "white",
             "minorgridcolor": "white",
             "startlinecolor": "#2a3f5f"
            },
            "type": "carpet"
           }
          ],
          "choropleth": [
           {
            "colorbar": {
             "outlinewidth": 0,
             "ticks": ""
            },
            "type": "choropleth"
           }
          ],
          "contour": [
           {
            "colorbar": {
             "outlinewidth": 0,
             "ticks": ""
            },
            "colorscale": [
             [
              0,
              "#0d0887"
             ],
             [
              0.1111111111111111,
              "#46039f"
             ],
             [
              0.2222222222222222,
              "#7201a8"
             ],
             [
              0.3333333333333333,
              "#9c179e"
             ],
             [
              0.4444444444444444,
              "#bd3786"
             ],
             [
              0.5555555555555556,
              "#d8576b"
             ],
             [
              0.6666666666666666,
              "#ed7953"
             ],
             [
              0.7777777777777778,
              "#fb9f3a"
             ],
             [
              0.8888888888888888,
              "#fdca26"
             ],
             [
              1,
              "#f0f921"
             ]
            ],
            "type": "contour"
           }
          ],
          "contourcarpet": [
           {
            "colorbar": {
             "outlinewidth": 0,
             "ticks": ""
            },
            "type": "contourcarpet"
           }
          ],
          "heatmap": [
           {
            "colorbar": {
             "outlinewidth": 0,
             "ticks": ""
            },
            "colorscale": [
             [
              0,
              "#0d0887"
             ],
             [
              0.1111111111111111,
              "#46039f"
             ],
             [
              0.2222222222222222,
              "#7201a8"
             ],
             [
              0.3333333333333333,
              "#9c179e"
             ],
             [
              0.4444444444444444,
              "#bd3786"
             ],
             [
              0.5555555555555556,
              "#d8576b"
             ],
             [
              0.6666666666666666,
              "#ed7953"
             ],
             [
              0.7777777777777778,
              "#fb9f3a"
             ],
             [
              0.8888888888888888,
              "#fdca26"
             ],
             [
              1,
              "#f0f921"
             ]
            ],
            "type": "heatmap"
           }
          ],
          "histogram": [
           {
            "marker": {
             "pattern": {
              "fillmode": "overlay",
              "size": 10,
              "solidity": 0.2
             }
            },
            "type": "histogram"
           }
          ],
          "histogram2d": [
           {
            "colorbar": {
             "outlinewidth": 0,
             "ticks": ""
            },
            "colorscale": [
             [
              0,
              "#0d0887"
             ],
             [
              0.1111111111111111,
              "#46039f"
             ],
             [
              0.2222222222222222,
              "#7201a8"
             ],
             [
              0.3333333333333333,
              "#9c179e"
             ],
             [
              0.4444444444444444,
              "#bd3786"
             ],
             [
              0.5555555555555556,
              "#d8576b"
             ],
             [
              0.6666666666666666,
              "#ed7953"
             ],
             [
              0.7777777777777778,
              "#fb9f3a"
             ],
             [
              0.8888888888888888,
              "#fdca26"
             ],
             [
              1,
              "#f0f921"
             ]
            ],
            "type": "histogram2d"
           }
          ],
          "histogram2dcontour": [
           {
            "colorbar": {
             "outlinewidth": 0,
             "ticks": ""
            },
            "colorscale": [
             [
              0,
              "#0d0887"
             ],
             [
              0.1111111111111111,
              "#46039f"
             ],
             [
              0.2222222222222222,
              "#7201a8"
             ],
             [
              0.3333333333333333,
              "#9c179e"
             ],
             [
              0.4444444444444444,
              "#bd3786"
             ],
             [
              0.5555555555555556,
              "#d8576b"
             ],
             [
              0.6666666666666666,
              "#ed7953"
             ],
             [
              0.7777777777777778,
              "#fb9f3a"
             ],
             [
              0.8888888888888888,
              "#fdca26"
             ],
             [
              1,
              "#f0f921"
             ]
            ],
            "type": "histogram2dcontour"
           }
          ],
          "mesh3d": [
           {
            "colorbar": {
             "outlinewidth": 0,
             "ticks": ""
            },
            "type": "mesh3d"
           }
          ],
          "parcoords": [
           {
            "line": {
             "colorbar": {
              "outlinewidth": 0,
              "ticks": ""
             }
            },
            "type": "parcoords"
           }
          ],
          "pie": [
           {
            "automargin": true,
            "type": "pie"
           }
          ],
          "scatter": [
           {
            "fillpattern": {
             "fillmode": "overlay",
             "size": 10,
             "solidity": 0.2
            },
            "type": "scatter"
           }
          ],
          "scatter3d": [
           {
            "line": {
             "colorbar": {
              "outlinewidth": 0,
              "ticks": ""
             }
            },
            "marker": {
             "colorbar": {
              "outlinewidth": 0,
              "ticks": ""
             }
            },
            "type": "scatter3d"
           }
          ],
          "scattercarpet": [
           {
            "marker": {
             "colorbar": {
              "outlinewidth": 0,
              "ticks": ""
             }
            },
            "type": "scattercarpet"
           }
          ],
          "scattergeo": [
           {
            "marker": {
             "colorbar": {
              "outlinewidth": 0,
              "ticks": ""
             }
            },
            "type": "scattergeo"
           }
          ],
          "scattergl": [
           {
            "marker": {
             "colorbar": {
              "outlinewidth": 0,
              "ticks": ""
             }
            },
            "type": "scattergl"
           }
          ],
          "scattermap": [
           {
            "marker": {
             "colorbar": {
              "outlinewidth": 0,
              "ticks": ""
             }
            },
            "type": "scattermap"
           }
          ],
          "scattermapbox": [
           {
            "marker": {
             "colorbar": {
              "outlinewidth": 0,
              "ticks": ""
             }
            },
            "type": "scattermapbox"
           }
          ],
          "scatterpolar": [
           {
            "marker": {
             "colorbar": {
              "outlinewidth": 0,
              "ticks": ""
             }
            },
            "type": "scatterpolar"
           }
          ],
          "scatterpolargl": [
           {
            "marker": {
             "colorbar": {
              "outlinewidth": 0,
              "ticks": ""
             }
            },
            "type": "scatterpolargl"
           }
          ],
          "scatterternary": [
           {
            "marker": {
             "colorbar": {
              "outlinewidth": 0,
              "ticks": ""
             }
            },
            "type": "scatterternary"
           }
          ],
          "surface": [
           {
            "colorbar": {
             "outlinewidth": 0,
             "ticks": ""
            },
            "colorscale": [
             [
              0,
              "#0d0887"
             ],
             [
              0.1111111111111111,
              "#46039f"
             ],
             [
              0.2222222222222222,
              "#7201a8"
             ],
             [
              0.3333333333333333,
              "#9c179e"
             ],
             [
              0.4444444444444444,
              "#bd3786"
             ],
             [
              0.5555555555555556,
              "#d8576b"
             ],
             [
              0.6666666666666666,
              "#ed7953"
             ],
             [
              0.7777777777777778,
              "#fb9f3a"
             ],
             [
              0.8888888888888888,
              "#fdca26"
             ],
             [
              1,
              "#f0f921"
             ]
            ],
            "type": "surface"
           }
          ],
          "table": [
           {
            "cells": {
             "fill": {
              "color": "#EBF0F8"
             },
             "line": {
              "color": "white"
             }
            },
            "header": {
             "fill": {
              "color": "#C8D4E3"
             },
             "line": {
              "color": "white"
             }
            },
            "type": "table"
           }
          ]
         },
         "layout": {
          "annotationdefaults": {
           "arrowcolor": "#2a3f5f",
           "arrowhead": 0,
           "arrowwidth": 1
          },
          "autotypenumbers": "strict",
          "coloraxis": {
           "colorbar": {
            "outlinewidth": 0,
            "ticks": ""
           }
          },
          "colorscale": {
           "diverging": [
            [
             0,
             "#8e0152"
            ],
            [
             0.1,
             "#c51b7d"
            ],
            [
             0.2,
             "#de77ae"
            ],
            [
             0.3,
             "#f1b6da"
            ],
            [
             0.4,
             "#fde0ef"
            ],
            [
             0.5,
             "#f7f7f7"
            ],
            [
             0.6,
             "#e6f5d0"
            ],
            [
             0.7,
             "#b8e186"
            ],
            [
             0.8,
             "#7fbc41"
            ],
            [
             0.9,
             "#4d9221"
            ],
            [
             1,
             "#276419"
            ]
           ],
           "sequential": [
            [
             0,
             "#0d0887"
            ],
            [
             0.1111111111111111,
             "#46039f"
            ],
            [
             0.2222222222222222,
             "#7201a8"
            ],
            [
             0.3333333333333333,
             "#9c179e"
            ],
            [
             0.4444444444444444,
             "#bd3786"
            ],
            [
             0.5555555555555556,
             "#d8576b"
            ],
            [
             0.6666666666666666,
             "#ed7953"
            ],
            [
             0.7777777777777778,
             "#fb9f3a"
            ],
            [
             0.8888888888888888,
             "#fdca26"
            ],
            [
             1,
             "#f0f921"
            ]
           ],
           "sequentialminus": [
            [
             0,
             "#0d0887"
            ],
            [
             0.1111111111111111,
             "#46039f"
            ],
            [
             0.2222222222222222,
             "#7201a8"
            ],
            [
             0.3333333333333333,
             "#9c179e"
            ],
            [
             0.4444444444444444,
             "#bd3786"
            ],
            [
             0.5555555555555556,
             "#d8576b"
            ],
            [
             0.6666666666666666,
             "#ed7953"
            ],
            [
             0.7777777777777778,
             "#fb9f3a"
            ],
            [
             0.8888888888888888,
             "#fdca26"
            ],
            [
             1,
             "#f0f921"
            ]
           ]
          },
          "colorway": [
           "#636efa",
           "#EF553B",
           "#00cc96",
           "#ab63fa",
           "#FFA15A",
           "#19d3f3",
           "#FF6692",
           "#B6E880",
           "#FF97FF",
           "#FECB52"
          ],
          "font": {
           "color": "#2a3f5f"
          },
          "geo": {
           "bgcolor": "white",
           "lakecolor": "white",
           "landcolor": "#E5ECF6",
           "showlakes": true,
           "showland": true,
           "subunitcolor": "white"
          },
          "hoverlabel": {
           "align": "left"
          },
          "hovermode": "closest",
          "mapbox": {
           "style": "light"
          },
          "paper_bgcolor": "white",
          "plot_bgcolor": "#E5ECF6",
          "polar": {
           "angularaxis": {
            "gridcolor": "white",
            "linecolor": "white",
            "ticks": ""
           },
           "bgcolor": "#E5ECF6",
           "radialaxis": {
            "gridcolor": "white",
            "linecolor": "white",
            "ticks": ""
           }
          },
          "scene": {
           "xaxis": {
            "backgroundcolor": "#E5ECF6",
            "gridcolor": "white",
            "gridwidth": 2,
            "linecolor": "white",
            "showbackground": true,
            "ticks": "",
            "zerolinecolor": "white"
           },
           "yaxis": {
            "backgroundcolor": "#E5ECF6",
            "gridcolor": "white",
            "gridwidth": 2,
            "linecolor": "white",
            "showbackground": true,
            "ticks": "",
            "zerolinecolor": "white"
           },
           "zaxis": {
            "backgroundcolor": "#E5ECF6",
            "gridcolor": "white",
            "gridwidth": 2,
            "linecolor": "white",
            "showbackground": true,
            "ticks": "",
            "zerolinecolor": "white"
           }
          },
          "shapedefaults": {
           "line": {
            "color": "#2a3f5f"
           }
          },
          "ternary": {
           "aaxis": {
            "gridcolor": "white",
            "linecolor": "white",
            "ticks": ""
           },
           "baxis": {
            "gridcolor": "white",
            "linecolor": "white",
            "ticks": ""
           },
           "bgcolor": "#E5ECF6",
           "caxis": {
            "gridcolor": "white",
            "linecolor": "white",
            "ticks": ""
           }
          },
          "title": {
           "x": 0.05
          },
          "xaxis": {
           "automargin": true,
           "gridcolor": "white",
           "linecolor": "white",
           "ticks": "",
           "title": {
            "standoff": 15
           },
           "zerolinecolor": "white",
           "zerolinewidth": 2
          },
          "yaxis": {
           "automargin": true,
           "gridcolor": "white",
           "linecolor": "white",
           "ticks": "",
           "title": {
            "standoff": 15
           },
           "zerolinecolor": "white",
           "zerolinewidth": 2
          }
         }
        },
        "width": 800,
        "xaxis": {
         "anchor": "y",
         "domain": [
          0,
          0.45
         ],
         "gridcolor": "LightGrey",
         "gridwidth": 1,
         "range": [
          -15,
          15
         ],
         "showgrid": true,
         "title": {
          "text": "X1"
         }
        },
        "xaxis10": {
         "anchor": "y10",
         "domain": [
          0.55,
          1
         ],
         "gridcolor": "LightGrey",
         "gridwidth": 1,
         "range": [
          -15,
          15
         ],
         "showgrid": true,
         "title": {
          "text": "X1"
         }
        },
        "xaxis2": {
         "anchor": "y2",
         "domain": [
          0.55,
          1
         ],
         "gridcolor": "LightGrey",
         "gridwidth": 1,
         "range": [
          -15,
          15
         ],
         "showgrid": true,
         "title": {
          "text": "X1"
         }
        },
        "xaxis3": {
         "anchor": "y3",
         "domain": [
          0,
          0.45
         ],
         "gridcolor": "LightGrey",
         "gridwidth": 1,
         "range": [
          -15,
          15
         ],
         "showgrid": true,
         "title": {
          "text": "X1"
         }
        },
        "xaxis4": {
         "anchor": "y4",
         "domain": [
          0.55,
          1
         ],
         "gridcolor": "LightGrey",
         "gridwidth": 1,
         "range": [
          -15,
          15
         ],
         "showgrid": true,
         "title": {
          "text": "X1"
         }
        },
        "xaxis5": {
         "anchor": "y5",
         "domain": [
          0,
          0.45
         ],
         "gridcolor": "LightGrey",
         "gridwidth": 1,
         "range": [
          -15,
          15
         ],
         "showgrid": true,
         "title": {
          "text": "X1"
         }
        },
        "xaxis6": {
         "anchor": "y6",
         "domain": [
          0.55,
          1
         ],
         "gridcolor": "LightGrey",
         "gridwidth": 1,
         "range": [
          -15,
          15
         ],
         "showgrid": true,
         "title": {
          "text": "X1"
         }
        },
        "xaxis7": {
         "anchor": "y7",
         "domain": [
          0,
          0.45
         ],
         "gridcolor": "LightGrey",
         "gridwidth": 1,
         "range": [
          -15,
          15
         ],
         "showgrid": true,
         "title": {
          "text": "X1"
         }
        },
        "xaxis8": {
         "anchor": "y8",
         "domain": [
          0.55,
          1
         ],
         "gridcolor": "LightGrey",
         "gridwidth": 1,
         "range": [
          -15,
          15
         ],
         "showgrid": true,
         "title": {
          "text": "X1"
         }
        },
        "xaxis9": {
         "anchor": "y9",
         "domain": [
          0,
          0.45
         ],
         "gridcolor": "LightGrey",
         "gridwidth": 1,
         "range": [
          -15,
          15
         ],
         "showgrid": true,
         "title": {
          "text": "X1"
         }
        },
        "yaxis": {
         "anchor": "x",
         "domain": [
          0.848,
          1
         ],
         "gridcolor": "LightGrey",
         "gridwidth": 1,
         "range": [
          -15,
          15
         ],
         "showgrid": true,
         "title": {
          "text": "X2"
         }
        },
        "yaxis10": {
         "anchor": "x10",
         "domain": [
          0,
          0.152
         ],
         "gridcolor": "LightGrey",
         "gridwidth": 1,
         "range": [
          -15,
          15
         ],
         "showgrid": true,
         "title": {
          "text": "X2"
         }
        },
        "yaxis2": {
         "anchor": "x2",
         "domain": [
          0.848,
          1
         ],
         "gridcolor": "LightGrey",
         "gridwidth": 1,
         "range": [
          -15,
          15
         ],
         "showgrid": true,
         "title": {
          "text": "X2"
         }
        },
        "yaxis3": {
         "anchor": "x3",
         "domain": [
          0.6359999999999999,
          0.7879999999999999
         ],
         "gridcolor": "LightGrey",
         "gridwidth": 1,
         "range": [
          -15,
          15
         ],
         "showgrid": true,
         "title": {
          "text": "X2"
         }
        },
        "yaxis4": {
         "anchor": "x4",
         "domain": [
          0.6359999999999999,
          0.7879999999999999
         ],
         "gridcolor": "LightGrey",
         "gridwidth": 1,
         "range": [
          -15,
          15
         ],
         "showgrid": true,
         "title": {
          "text": "X2"
         }
        },
        "yaxis5": {
         "anchor": "x5",
         "domain": [
          0.424,
          0.576
         ],
         "gridcolor": "LightGrey",
         "gridwidth": 1,
         "range": [
          -15,
          15
         ],
         "showgrid": true,
         "title": {
          "text": "X2"
         }
        },
        "yaxis6": {
         "anchor": "x6",
         "domain": [
          0.424,
          0.576
         ],
         "gridcolor": "LightGrey",
         "gridwidth": 1,
         "range": [
          -15,
          15
         ],
         "showgrid": true,
         "title": {
          "text": "X2"
         }
        },
        "yaxis7": {
         "anchor": "x7",
         "domain": [
          0.212,
          0.364
         ],
         "gridcolor": "LightGrey",
         "gridwidth": 1,
         "range": [
          -15,
          15
         ],
         "showgrid": true,
         "title": {
          "text": "X2"
         }
        },
        "yaxis8": {
         "anchor": "x8",
         "domain": [
          0.212,
          0.364
         ],
         "gridcolor": "LightGrey",
         "gridwidth": 1,
         "range": [
          -15,
          15
         ],
         "showgrid": true,
         "title": {
          "text": "X2"
         }
        },
        "yaxis9": {
         "anchor": "x9",
         "domain": [
          0,
          0.152
         ],
         "gridcolor": "LightGrey",
         "gridwidth": 1,
         "range": [
          -15,
          15
         ],
         "showgrid": true,
         "title": {
          "text": "X2"
         }
        }
       }
      }
     },
     "metadata": {},
     "output_type": "display_data"
    }
   ],
   "source": [
    "clusters = 4\n",
    "data_points = 300\n",
    "std = 2.5\n",
    "X, y = generate_cluster_data(n = data_points, centers=clusters, std=std, random_state=None)\n",
    "\n",
    "print(\"X shape: \", X.shape)\n",
    "print(\"y shape: \", y.shape)\n",
    "\n",
    "K = [1, 2, 3, 4, 5, 6, 7, 8, 9, 10]\n",
    "fig = make_subplots(rows=5, cols=2)\n",
    "sse = []\n",
    "\n",
    "for k in K:\n",
    "    kmeans = KMeans(n_clusters=k, random_state=None)\n",
    "    y_clusters = kmeans.fit_predict(X)\n",
    "    centers = kmeans.cluster_centers_\n",
    "    plot_data(fig,X, y_clusters, clusters=k, kmean_centers=centers, row=(K.index(k) // 2) + 1, col=(K.index(k) % 2) + 1)\n",
    "    sse.append(kmeans.inertia_)\n",
    "# Changing the size of the figs\n",
    "fig.update_layout(height=2000, width=800)\n",
    "\n",
    "fig.show()"
   ]
  },
  {
   "cell_type": "code",
   "execution_count": 45,
   "id": "5e6f46b8",
   "metadata": {},
   "outputs": [
    {
     "data": {
      "application/vnd.plotly.v1+json": {
       "config": {
        "plotlyServerURL": "https://plot.ly"
       },
       "data": [
        {
         "hovertemplate": "K=%{x}<br>SSE=%{y:.2f}<extra></extra>",
         "line": {
          "color": "royalblue",
          "width": 2
         },
         "marker": {
          "color": "royalblue",
          "size": 8
         },
         "mode": "lines+markers",
         "name": "SSE",
         "type": "scatter",
         "x": [
          1,
          2,
          3,
          4,
          5,
          6,
          7,
          8,
          9,
          10
         ],
         "y": [
          24783.542899651835,
          14840.0610699418,
          4048.0895078618287,
          3301.8821254592303,
          2936.654357098475,
          2564.763372636447,
          2374.6560585789443,
          1791.036869800179,
          1701.5857085565879,
          1513.3036487722538
         ]
        }
       ],
       "layout": {
        "height": 500,
        "hovermode": "x",
        "showlegend": false,
        "template": {
         "data": {
          "bar": [
           {
            "error_x": {
             "color": "#2a3f5f"
            },
            "error_y": {
             "color": "#2a3f5f"
            },
            "marker": {
             "line": {
              "color": "white",
              "width": 0.5
             },
             "pattern": {
              "fillmode": "overlay",
              "size": 10,
              "solidity": 0.2
             }
            },
            "type": "bar"
           }
          ],
          "barpolar": [
           {
            "marker": {
             "line": {
              "color": "white",
              "width": 0.5
             },
             "pattern": {
              "fillmode": "overlay",
              "size": 10,
              "solidity": 0.2
             }
            },
            "type": "barpolar"
           }
          ],
          "carpet": [
           {
            "aaxis": {
             "endlinecolor": "#2a3f5f",
             "gridcolor": "#C8D4E3",
             "linecolor": "#C8D4E3",
             "minorgridcolor": "#C8D4E3",
             "startlinecolor": "#2a3f5f"
            },
            "baxis": {
             "endlinecolor": "#2a3f5f",
             "gridcolor": "#C8D4E3",
             "linecolor": "#C8D4E3",
             "minorgridcolor": "#C8D4E3",
             "startlinecolor": "#2a3f5f"
            },
            "type": "carpet"
           }
          ],
          "choropleth": [
           {
            "colorbar": {
             "outlinewidth": 0,
             "ticks": ""
            },
            "type": "choropleth"
           }
          ],
          "contour": [
           {
            "colorbar": {
             "outlinewidth": 0,
             "ticks": ""
            },
            "colorscale": [
             [
              0,
              "#0d0887"
             ],
             [
              0.1111111111111111,
              "#46039f"
             ],
             [
              0.2222222222222222,
              "#7201a8"
             ],
             [
              0.3333333333333333,
              "#9c179e"
             ],
             [
              0.4444444444444444,
              "#bd3786"
             ],
             [
              0.5555555555555556,
              "#d8576b"
             ],
             [
              0.6666666666666666,
              "#ed7953"
             ],
             [
              0.7777777777777778,
              "#fb9f3a"
             ],
             [
              0.8888888888888888,
              "#fdca26"
             ],
             [
              1,
              "#f0f921"
             ]
            ],
            "type": "contour"
           }
          ],
          "contourcarpet": [
           {
            "colorbar": {
             "outlinewidth": 0,
             "ticks": ""
            },
            "type": "contourcarpet"
           }
          ],
          "heatmap": [
           {
            "colorbar": {
             "outlinewidth": 0,
             "ticks": ""
            },
            "colorscale": [
             [
              0,
              "#0d0887"
             ],
             [
              0.1111111111111111,
              "#46039f"
             ],
             [
              0.2222222222222222,
              "#7201a8"
             ],
             [
              0.3333333333333333,
              "#9c179e"
             ],
             [
              0.4444444444444444,
              "#bd3786"
             ],
             [
              0.5555555555555556,
              "#d8576b"
             ],
             [
              0.6666666666666666,
              "#ed7953"
             ],
             [
              0.7777777777777778,
              "#fb9f3a"
             ],
             [
              0.8888888888888888,
              "#fdca26"
             ],
             [
              1,
              "#f0f921"
             ]
            ],
            "type": "heatmap"
           }
          ],
          "histogram": [
           {
            "marker": {
             "pattern": {
              "fillmode": "overlay",
              "size": 10,
              "solidity": 0.2
             }
            },
            "type": "histogram"
           }
          ],
          "histogram2d": [
           {
            "colorbar": {
             "outlinewidth": 0,
             "ticks": ""
            },
            "colorscale": [
             [
              0,
              "#0d0887"
             ],
             [
              0.1111111111111111,
              "#46039f"
             ],
             [
              0.2222222222222222,
              "#7201a8"
             ],
             [
              0.3333333333333333,
              "#9c179e"
             ],
             [
              0.4444444444444444,
              "#bd3786"
             ],
             [
              0.5555555555555556,
              "#d8576b"
             ],
             [
              0.6666666666666666,
              "#ed7953"
             ],
             [
              0.7777777777777778,
              "#fb9f3a"
             ],
             [
              0.8888888888888888,
              "#fdca26"
             ],
             [
              1,
              "#f0f921"
             ]
            ],
            "type": "histogram2d"
           }
          ],
          "histogram2dcontour": [
           {
            "colorbar": {
             "outlinewidth": 0,
             "ticks": ""
            },
            "colorscale": [
             [
              0,
              "#0d0887"
             ],
             [
              0.1111111111111111,
              "#46039f"
             ],
             [
              0.2222222222222222,
              "#7201a8"
             ],
             [
              0.3333333333333333,
              "#9c179e"
             ],
             [
              0.4444444444444444,
              "#bd3786"
             ],
             [
              0.5555555555555556,
              "#d8576b"
             ],
             [
              0.6666666666666666,
              "#ed7953"
             ],
             [
              0.7777777777777778,
              "#fb9f3a"
             ],
             [
              0.8888888888888888,
              "#fdca26"
             ],
             [
              1,
              "#f0f921"
             ]
            ],
            "type": "histogram2dcontour"
           }
          ],
          "mesh3d": [
           {
            "colorbar": {
             "outlinewidth": 0,
             "ticks": ""
            },
            "type": "mesh3d"
           }
          ],
          "parcoords": [
           {
            "line": {
             "colorbar": {
              "outlinewidth": 0,
              "ticks": ""
             }
            },
            "type": "parcoords"
           }
          ],
          "pie": [
           {
            "automargin": true,
            "type": "pie"
           }
          ],
          "scatter": [
           {
            "fillpattern": {
             "fillmode": "overlay",
             "size": 10,
             "solidity": 0.2
            },
            "type": "scatter"
           }
          ],
          "scatter3d": [
           {
            "line": {
             "colorbar": {
              "outlinewidth": 0,
              "ticks": ""
             }
            },
            "marker": {
             "colorbar": {
              "outlinewidth": 0,
              "ticks": ""
             }
            },
            "type": "scatter3d"
           }
          ],
          "scattercarpet": [
           {
            "marker": {
             "colorbar": {
              "outlinewidth": 0,
              "ticks": ""
             }
            },
            "type": "scattercarpet"
           }
          ],
          "scattergeo": [
           {
            "marker": {
             "colorbar": {
              "outlinewidth": 0,
              "ticks": ""
             }
            },
            "type": "scattergeo"
           }
          ],
          "scattergl": [
           {
            "marker": {
             "colorbar": {
              "outlinewidth": 0,
              "ticks": ""
             }
            },
            "type": "scattergl"
           }
          ],
          "scattermap": [
           {
            "marker": {
             "colorbar": {
              "outlinewidth": 0,
              "ticks": ""
             }
            },
            "type": "scattermap"
           }
          ],
          "scattermapbox": [
           {
            "marker": {
             "colorbar": {
              "outlinewidth": 0,
              "ticks": ""
             }
            },
            "type": "scattermapbox"
           }
          ],
          "scatterpolar": [
           {
            "marker": {
             "colorbar": {
              "outlinewidth": 0,
              "ticks": ""
             }
            },
            "type": "scatterpolar"
           }
          ],
          "scatterpolargl": [
           {
            "marker": {
             "colorbar": {
              "outlinewidth": 0,
              "ticks": ""
             }
            },
            "type": "scatterpolargl"
           }
          ],
          "scatterternary": [
           {
            "marker": {
             "colorbar": {
              "outlinewidth": 0,
              "ticks": ""
             }
            },
            "type": "scatterternary"
           }
          ],
          "surface": [
           {
            "colorbar": {
             "outlinewidth": 0,
             "ticks": ""
            },
            "colorscale": [
             [
              0,
              "#0d0887"
             ],
             [
              0.1111111111111111,
              "#46039f"
             ],
             [
              0.2222222222222222,
              "#7201a8"
             ],
             [
              0.3333333333333333,
              "#9c179e"
             ],
             [
              0.4444444444444444,
              "#bd3786"
             ],
             [
              0.5555555555555556,
              "#d8576b"
             ],
             [
              0.6666666666666666,
              "#ed7953"
             ],
             [
              0.7777777777777778,
              "#fb9f3a"
             ],
             [
              0.8888888888888888,
              "#fdca26"
             ],
             [
              1,
              "#f0f921"
             ]
            ],
            "type": "surface"
           }
          ],
          "table": [
           {
            "cells": {
             "fill": {
              "color": "#EBF0F8"
             },
             "line": {
              "color": "white"
             }
            },
            "header": {
             "fill": {
              "color": "#C8D4E3"
             },
             "line": {
              "color": "white"
             }
            },
            "type": "table"
           }
          ]
         },
         "layout": {
          "annotationdefaults": {
           "arrowcolor": "#2a3f5f",
           "arrowhead": 0,
           "arrowwidth": 1
          },
          "autotypenumbers": "strict",
          "coloraxis": {
           "colorbar": {
            "outlinewidth": 0,
            "ticks": ""
           }
          },
          "colorscale": {
           "diverging": [
            [
             0,
             "#8e0152"
            ],
            [
             0.1,
             "#c51b7d"
            ],
            [
             0.2,
             "#de77ae"
            ],
            [
             0.3,
             "#f1b6da"
            ],
            [
             0.4,
             "#fde0ef"
            ],
            [
             0.5,
             "#f7f7f7"
            ],
            [
             0.6,
             "#e6f5d0"
            ],
            [
             0.7,
             "#b8e186"
            ],
            [
             0.8,
             "#7fbc41"
            ],
            [
             0.9,
             "#4d9221"
            ],
            [
             1,
             "#276419"
            ]
           ],
           "sequential": [
            [
             0,
             "#0d0887"
            ],
            [
             0.1111111111111111,
             "#46039f"
            ],
            [
             0.2222222222222222,
             "#7201a8"
            ],
            [
             0.3333333333333333,
             "#9c179e"
            ],
            [
             0.4444444444444444,
             "#bd3786"
            ],
            [
             0.5555555555555556,
             "#d8576b"
            ],
            [
             0.6666666666666666,
             "#ed7953"
            ],
            [
             0.7777777777777778,
             "#fb9f3a"
            ],
            [
             0.8888888888888888,
             "#fdca26"
            ],
            [
             1,
             "#f0f921"
            ]
           ],
           "sequentialminus": [
            [
             0,
             "#0d0887"
            ],
            [
             0.1111111111111111,
             "#46039f"
            ],
            [
             0.2222222222222222,
             "#7201a8"
            ],
            [
             0.3333333333333333,
             "#9c179e"
            ],
            [
             0.4444444444444444,
             "#bd3786"
            ],
            [
             0.5555555555555556,
             "#d8576b"
            ],
            [
             0.6666666666666666,
             "#ed7953"
            ],
            [
             0.7777777777777778,
             "#fb9f3a"
            ],
            [
             0.8888888888888888,
             "#fdca26"
            ],
            [
             1,
             "#f0f921"
            ]
           ]
          },
          "colorway": [
           "#636efa",
           "#EF553B",
           "#00cc96",
           "#ab63fa",
           "#FFA15A",
           "#19d3f3",
           "#FF6692",
           "#B6E880",
           "#FF97FF",
           "#FECB52"
          ],
          "font": {
           "color": "#2a3f5f"
          },
          "geo": {
           "bgcolor": "white",
           "lakecolor": "white",
           "landcolor": "white",
           "showlakes": true,
           "showland": true,
           "subunitcolor": "#C8D4E3"
          },
          "hoverlabel": {
           "align": "left"
          },
          "hovermode": "closest",
          "mapbox": {
           "style": "light"
          },
          "paper_bgcolor": "white",
          "plot_bgcolor": "white",
          "polar": {
           "angularaxis": {
            "gridcolor": "#EBF0F8",
            "linecolor": "#EBF0F8",
            "ticks": ""
           },
           "bgcolor": "white",
           "radialaxis": {
            "gridcolor": "#EBF0F8",
            "linecolor": "#EBF0F8",
            "ticks": ""
           }
          },
          "scene": {
           "xaxis": {
            "backgroundcolor": "white",
            "gridcolor": "#DFE8F3",
            "gridwidth": 2,
            "linecolor": "#EBF0F8",
            "showbackground": true,
            "ticks": "",
            "zerolinecolor": "#EBF0F8"
           },
           "yaxis": {
            "backgroundcolor": "white",
            "gridcolor": "#DFE8F3",
            "gridwidth": 2,
            "linecolor": "#EBF0F8",
            "showbackground": true,
            "ticks": "",
            "zerolinecolor": "#EBF0F8"
           },
           "zaxis": {
            "backgroundcolor": "white",
            "gridcolor": "#DFE8F3",
            "gridwidth": 2,
            "linecolor": "#EBF0F8",
            "showbackground": true,
            "ticks": "",
            "zerolinecolor": "#EBF0F8"
           }
          },
          "shapedefaults": {
           "line": {
            "color": "#2a3f5f"
           }
          },
          "ternary": {
           "aaxis": {
            "gridcolor": "#DFE8F3",
            "linecolor": "#A2B1C6",
            "ticks": ""
           },
           "baxis": {
            "gridcolor": "#DFE8F3",
            "linecolor": "#A2B1C6",
            "ticks": ""
           },
           "bgcolor": "white",
           "caxis": {
            "gridcolor": "#DFE8F3",
            "linecolor": "#A2B1C6",
            "ticks": ""
           }
          },
          "title": {
           "x": 0.05
          },
          "xaxis": {
           "automargin": true,
           "gridcolor": "#EBF0F8",
           "linecolor": "#EBF0F8",
           "ticks": "",
           "title": {
            "standoff": 15
           },
           "zerolinecolor": "#EBF0F8",
           "zerolinewidth": 2
          },
          "yaxis": {
           "automargin": true,
           "gridcolor": "#EBF0F8",
           "linecolor": "#EBF0F8",
           "ticks": "",
           "title": {
            "standoff": 15
           },
           "zerolinecolor": "#EBF0F8",
           "zerolinewidth": 2
          }
         }
        },
        "title": {
         "text": "Elbow Method For Optimal K",
         "x": 0.5
        },
        "width": 500,
        "xaxis": {
         "dtick": 1,
         "gridcolor": "lightgray",
         "gridwidth": 1,
         "showgrid": true,
         "tick0": 1,
         "tickmode": "linear",
         "title": {
          "text": "Number of Clusters (K)"
         }
        },
        "yaxis": {
         "gridcolor": "lightgray",
         "gridwidth": 1,
         "showgrid": true,
         "title": {
          "text": "Sum of Squared Errors (SSE)"
         }
        }
       }
      }
     },
     "metadata": {},
     "output_type": "display_data"
    }
   ],
   "source": [
    "plot_elbow_method(sse, K)"
   ]
  },
  {
   "cell_type": "code",
   "execution_count": 46,
   "id": "a47660af",
   "metadata": {},
   "outputs": [
    {
     "name": "stdout",
     "output_type": "stream",
     "text": [
      "X shape:  (300, 2)\n",
      "y shape:  (300,)\n"
     ]
    },
    {
     "data": {
      "application/vnd.plotly.v1+json": {
       "config": {
        "plotlyServerURL": "https://plot.ly"
       },
       "data": [
        {
         "marker": {
          "line": {
           "color": "white",
           "width": 1
          },
          "opacity": 0.7,
          "size": 8
         },
         "mode": "markers",
         "name": "Cluster 0",
         "type": "scatter",
         "x": {
          "bdata": "RNthwFkVCEDW8ekgbRYiQDXU4z5UYwhA8ulwPYgkIkBr3Bh5BofGv11RUc1vHpw/geUtfwBGEcBT12ayWg4iQO4U9HeJOsa/UKH3sXfmzr/BOFX/X9TBv/5w3lzKBxHAor/FoRBSCEB2/xqAPeYhQIIprafPiwdAC1Lmo7oo0r8ypXe0l8MRwArGwHTeZcm/+cHdrE1SEcCnmjHwE27Lv/1B1sYBCMu/sCcjKz431b+HIcenrNTKv3/ASe5YTQdAM/+mIZfnyr9dyIF/S9MHQCTXcwguXRHAQ1/EGBk3B0ADMYoSHT0iQIN7b6LMoRHAVLKRk7iuCEAYjttmvykiQNT+W/XszSFAmRakZesXIkDcwTp7//0RwE3y2SNOiNm/6EjCGT0Wyb8mLPIzONfIvx/47TFyPyJA+BzXZF9LEcBgPk/wJmoRwMPsLJoeIiJAWFZ+CG1/zL+//Vv9DVoRwHgRLRXqIae/1xV7Iq2TwL/itYELp4oiQCwD68LIUSJAfp2Prrx00b9HP+hQoLEIQGxbry+V2AhAQRPVkdVzvr9MqkhOpQARwEFIoQrmRwdACtA/jt3jB0DA9K+MbASzv+K4EY2p5ghATzxcZfyyEcAnzHXJ7eQhQOMTGJHGKSJAlVHTvEMcIkC58fU9bR8iQLyzYC4CWLC/exRfz+9CEcD59PncPggiQCxs4Wx1gCJAsm1UK06oIkAPCNkYPrjZv3Ew3dZeBCJALCabbXf5B0Db+p82SFMRwMjCbGak6sG/BH8fDj+vB0DORXx1CucHQHXfAHU+MQdA2GAbEXT9BkCqGkNArPMGQI4ReOD0j8a/4bJBJfM9IkDLbKmxdh4SwA5lmv3ZyxHAZprcXif0yb9SfpcfIEwiQPCtSV26NwhAzYuL0T9gEcDtcCw3FFQiQOKXnJ6kORHA6WHIjOFzx7+bKN1c+lAHQMqxnKavdiJA6s9D0M8LEcDdn9kJta4IQEjXCEY4HiJAl0xEcLg0IkD4FiVp59YGQI1mwsk6EiJAOHdlmjRSIkAaD8CNFEPTvwk+P+TI9BHAYaigKSLVjb9Ls/T82fARwKu6xivzFiJAGj/XGwDHEcAG0hzUtpEGQGyYLWZZVBHARWPXkQ9dEcAjjUckZDoSwC2FmWV04Mu/lOFrg5Ls0b8PkgfVAhIIQB3lSk5nuBHAHZUFwMkOEsA6b0WD/cwFQB7MSLMVFQdAwdpjUQQqy7+11BshaVMHQNYy9rQOEMK/fcgiJDaQEcBkCCcMCAYIQLsaXBnB9xHAVikVWy4+B0ASaLDKnIzQv+woyw0/QSJALGwrRETmEcCxqvRgO28RwMo8tDZp8QZATTk2z0e+yb+5bXrTwqQGQMDTJCNGZdu/tPgIt3VUIkAgAydTU6gRwCFc4UyUlBHA1A6akJ7U079S+732E4vMv1XZrzheUghAZ7IJpYR9EcBWb981KkIiQHHpUZEy5ta/VF75J0fbw7/EVc9q3iwiQGKyjS5aVCJAXqQFzvU3IkBy0J449eghQBwzcAM1ILC/Yjo0c32Lrr9kwCrDhe63v9MdZ1y2nAZAg/2ydZEpEcCkOTfKlK60v3AcutxqSCJA3L2CbdE9EsBD79BznyIIQNYrdq3UDSJAG8lXTmFBIkApQbHi1h4SwJYZZ0RvcAdAQ2+bsB16EsAxdd5Jk2URwJO+g/AVACJAip1/Up2jB0B7JAWEPJMRwNx87wtVNhHAdw/EEpDJBkCfXLibspsHQBzGVfhsTiJAOXO32dQcCEAqO8bwZyTSvwGUzNMC9hHA7ySwSx7LIUDoedvPIPIGQIZUZqPFdRHA3JHIsxCCzL+i9s9A9+cRwAfyM4w7QiJA3G7Q9ErhyL/IDVqevzESwOVR4uP5Pda/UF4A0Q8hIkDtn5k+BOvNv8IR5+iLZCJAZgpUyMFYEsCjWZxd/n0RwMiZ92F2CxHAhe4/sN7SCEDYKpTVPD0iQJ08QN6O7AdAkWFL+qi30L9gvDDIPi4JQJTP0LE4BBLAJXImM2IAIkAqG+n+168hQAMb8XXxxBDAU3596kv50r9sv3BRjN4IQCgiMxHTGCJAhOXcnCc2zb96OC8lt6gHQLSQ0bOokBHAm4cu94Ykzr+3iy1YqysHQAZVnF3KVCJAXVEO4ss8IkCc7G98kv3Ev6rofCM9qMS/ODo33Gc4IkBvxmJeqiumv4B6dJrv9CFADDhqlPJbEcCWo+N+fYoRwIKI8U9bR86/yFmZGERwEcCnoaDy5hnCv4N/0vlF4ghAPgzxNFyqCED+xksJ6uoRwGupVcCwjbG/BE94pJ+CCEBqTILknx0HQIXlGUgS666/MmG2685YB0DSxn0oQtcRwFUK9T2p8CFAhxEI/Fy2w7+zLs8PnvzAv0leVBFP78a/tV4ghTPrIUBnmLGnQoMGQKfN1m9yawhAFUXWI/+7BkDKTPn0mNwIQM07HKZZihHAYE6CbnaFCEA37hwS0v0FQF/mY1vM/yFAyCMdUwZvEcAp1EsowH4SwDBMiIFbrxDA5l+X3NY3CEApxT3S7cjSv33rtPHTriJAsBzcmVMFCECkGdSPaxciQGOdOBcezxHAXOWvnftIIkDDmEpiyX4IQFOcQJK0ZBLAWmrvsDbfEMAjMs2irmERwFzH7eZCIxHAxxj2BCVFCUCHGoalK+IRwLFvCSFtiwhAY482IziTyL9uCAz0D14RwF2jCGBKRSJA52KAMOdJEsCYqybOLhUiQGyhDUDP78W/z3tIWb0W0L+mFjLsdZ8RwJqkLM2QMwhANHY4UlAKCEBW/plheGURwG/B3rktjAdA/U1CxLm9EcAzl9J2kOgRwFw/p+WTkQdAPrQZCfBFIkCPikS6tjbSv0pU5qcEjyJA175hSK0NEsBm7yRPfh3Jv4FFEiKSVyJArsdO3LfaB0AvGWxPM04iQKlNehJRYwhA/V1YyfIWIkADNtkHBJbMv0csuV510AZAp0iJ0epFvL+hk2zMtIcSwPw5bZyyBAhAVk6rUMxTCECAY7p1VhMiQGjeFJvD5BHAAeD1p0NTIkBZDO1Fr2K5v3Y95XcHwyFAy8DM1aLsIUBXPACsgyQiQDmXji4J6iFApCODXrM00L+7wmbvnEMiQMedXvcKIiJA99wCE2gNIkAI8rtNF6i/v7tXjymDgwhAhGEBohmsCEAQfd9sF1u2vylKnoayEQhA",
          "dtype": "f8"
         },
         "xaxis": "x",
         "y": {
          "bdata": "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",
          "dtype": "f8"
         },
         "yaxis": "y"
        },
        {
         "marker": {
          "line": {
           "color": "white",
           "width": 1
          },
          "opacity": 0.7,
          "size": 8
         },
         "mode": "markers",
         "name": "Cluster 1",
         "type": "scatter",
         "x": [],
         "xaxis": "x",
         "y": [],
         "yaxis": "y"
        },
        {
         "marker": {
          "line": {
           "color": "white",
           "width": 1
          },
          "opacity": 0.7,
          "size": 12
         },
         "mode": "markers",
         "name": "Centers",
         "type": "scatter",
         "x": {
          "bdata": "WdikjSrU/T8=",
          "dtype": "f8"
         },
         "xaxis": "x",
         "y": {
          "bdata": "udGoZD5D+b8=",
          "dtype": "f8"
         },
         "yaxis": "y"
        },
        {
         "marker": {
          "line": {
           "color": "white",
           "width": 1
          },
          "opacity": 0.7,
          "size": 8
         },
         "mode": "markers",
         "name": "Cluster 0",
         "type": "scatter",
         "x": {
          "bdata": "RNthwFkVCEDW8ekgbRYiQDXU4z5UYwhA8ulwPYgkIkBr3Bh5BofGv11RUc1vHpw/U9dmsloOIkDuFPR3iTrGv1Ch97F35s6/wThV/1/Uwb+iv8WhEFIIQHb/GoA95iFAgimtp8+LB0ALUuajuijSvwrGwHTeZcm/p5ox8BNuy7/9QdbGAQjLv7AnIys+N9W/hyHHp6zUyr9/wEnuWE0HQDP/piGX58q/XciBf0vTB0BDX8QYGTcHQAMxihIdPSJAVLKRk7iuCEAYjttmvykiQNT+W/XszSFAmRakZesXIkBN8tkjTojZv+hIwhk9Fsm/JizyMzjXyL8f+O0xcj8iQMPsLJoeIiJAWFZ+CG1/zL94ES0V6iGnv9cVeyKtk8C/4rWBC6eKIkAsA+vCyFEiQH6dj668dNG/Rz/oUKCxCEBsW68vldgIQEET1ZHVc76/QUihCuZHB0AK0D+O3eMHQMD0r4xsBLO/4rgRjanmCEAnzHXJ7eQhQOMTGJHGKSJAlVHTvEMcIkC58fU9bR8iQLyzYC4CWLC/+fT53D4IIkAsbOFsdYAiQLJtVCtOqCJADwjZGD642b9xMN3WXgQiQCwmm213+QdAyMJsZqTqwb8Efx8OP68HQM5FfHUK5wdAdd8AdT4xB0DYYBsRdP0GQKoaQ0Cs8wZAjhF44PSPxr/hskEl8z0iQGaa3F4n9Mm/Un6XHyBMIkDwrUldujcIQO1wLDcUVCJA6WHIjOFzx7+bKN1c+lAHQMqxnKavdiJA3Z/ZCbWuCEBI1whGOB4iQJdMRHC4NCJA+BYlaefWBkCNZsLJOhIiQDh3ZZo0UiJAGg/AjRRD079hqKApItWNv6u6xivzFiJABtIc1LaRBkAthZlldODLv5Tha4OS7NG/D5IH1QISCEA6b0WD/cwFQB7MSLMVFQdAwdpjUQQqy7+11BshaVMHQNYy9rQOEMK/ZAgnDAgGCEBWKRVbLj4HQBJosMqcjNC/7CjLDT9BIkDKPLQ2afEGQE05Ns9Hvsm/uW1608KkBkDA0yQjRmXbv7T4CLd1VCJA1A6akJ7U079S+732E4vMv1XZrzheUghAVm/fNSpCIkBx6VGRMubWv1Re+SdH28O/xFXPat4sIkBiso0uWlQiQF6kBc71NyJActCeOPXoIUAcM3ADNSCwv2I6NHN9i66/ZMAqw4Xut7/THWdctpwGQKQ5N8qUrrS/cBy63GpIIkBD79BznyIIQNYrdq3UDSJAG8lXTmFBIkCWGWdEb3AHQJO+g/AVACJAip1/Up2jB0B3D8QSkMkGQJ9cuJuymwdAHMZV+GxOIkA5c7fZ1BwIQCo7xvBnJNK/7ySwSx7LIUDoedvPIPIGQNyRyLMQgsy/B/IzjDtCIkDcbtD0SuHIv+VR4uP5Pda/UF4A0Q8hIkDtn5k+BOvNv8IR5+iLZCJAhe4/sN7SCEDYKpTVPD0iQJ08QN6O7AdAkWFL+qi30L9gvDDIPi4JQCVyJjNiACJAKhvp/tevIUBTfn3qS/nSv2y/cFGM3ghAKCIzEdMYIkCE5dycJzbNv3o4LyW3qAdAm4cu94Ykzr+3iy1YqysHQAZVnF3KVCJAXVEO4ss8IkCc7G98kv3Ev6rofCM9qMS/ODo33Gc4IkBvxmJeqiumv4B6dJrv9CFAgojxT1tHzr+noaDy5hnCv4N/0vlF4ghAPgzxNFyqCEBrqVXAsI2xvwRPeKSfgghAakyC5J8dB0CF5RlIEuuuvzJhtuvOWAdAVQr1PanwIUCHEQj8XLbDv7Muzw+e/MC/SV5UEU/vxr+1XiCFM+shQGeYsadCgwZAp83Wb3JrCEAVRdYj/7sGQMpM+fSY3AhAYE6CbnaFCEA37hwS0v0FQF/mY1vM/yFA5l+X3NY3CEApxT3S7cjSv33rtPHTriJAsBzcmVMFCECkGdSPaxciQFzlr537SCJAw5hKYsl+CEDHGPYEJUUJQLFvCSFtiwhAY482IziTyL9dowhgSkUiQJirJs4uFSJAbKENQM/vxb/Pe0hZvRbQv5qkLM2QMwhANHY4UlAKCEBvwd65LYwHQFw/p+WTkQdAPrQZCfBFIkCPikS6tjbSv0pU5qcEjyJAZu8kT34dyb+BRRIiklciQK7HTty32gdALxlsTzNOIkCpTXoSUWMIQP1dWMnyFiJAAzbZBwSWzL9HLLleddAGQKdIidHqRby//DltnLIECEBWTqtQzFMIQIBjunVWEyJAAeD1p0NTIkBZDO1Fr2K5v3Y95XcHwyFAy8DM1aLsIUBXPACsgyQiQDmXji4J6iFApCODXrM00L+7wmbvnEMiQMedXvcKIiJA99wCE2gNIkAI8rtNF6i/v7tXjymDgwhAhGEBohmsCEAQfd9sF1u2vylKnoayEQhA",
          "dtype": "f8"
         },
         "xaxis": "x2",
         "y": {
          "bdata": "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",
          "dtype": "f8"
         },
         "yaxis": "y2"
        },
        {
         "marker": {
          "line": {
           "color": "white",
           "width": 1
          },
          "opacity": 0.7,
          "size": 8
         },
         "mode": "markers",
         "name": "Cluster 1",
         "type": "scatter",
         "x": {
          "bdata": "geUtfwBGEcD+cN5cygcRwDKld7SXwxHA+cHdrE1SEcAk13MILl0RwIN7b6LMoRHA3ME6e//9EcD4HNdkX0sRwGA+T/AmahHAv/1b/Q1aEcBMqkhOpQARwE88XGX8shHAexRfz+9CEcDb+p82SFMRwMtsqbF2HhLADmWa/dnLEcDNi4vRP2ARwOKXnJ6kORHA6s9D0M8LEcAJPj/kyPQRwEuz9PzZ8BHAGj/XGwDHEcBsmC1mWVQRwEVj15EPXRHAI41HJGQ6EsAd5UpOZ7gRwB2VBcDJDhLAfcgiJDaQEcC7GlwZwfcRwCxsK0RE5hHAsar0YDtvEcAgAydTU6gRwCFc4UyUlBHAZ7IJpYR9EcCD/bJ1kSkRwNy9gm3RPRLAKUGx4tYeEsBDb5uwHXoSwDF13kmTZRHAeyQFhDyTEcDcfO8LVTYRwAGUzNMC9hHAhlRmo8V1EcCi9s9A9+cRwMgNWp6/MRLAZgpUyMFYEsCjWZxd/n0RwMiZ92F2CxHAlM/QsTgEEsADG/F18cQQwLSQ0bOokBHADDhqlPJbEcCWo+N+fYoRwMhZmRhEcBHA/sZLCerqEcDSxn0oQtcRwM07HKZZihHAyCMdUwZvEcAp1EsowH4SwDBMiIFbrxDAY504Fx7PEcBTnECStGQSwFpq77A23xDAIzLNoq5hEcBcx+3mQiMRwIcahqUr4hHAbggM9A9eEcDnYoAw50kSwKYWMux1nxHAVv6ZYXhlEcD9TULEub0RwDOX0naQ6BHA175hSK0NEsChk2zMtIcSwGjeFJvD5BHA",
          "dtype": "f8"
         },
         "xaxis": "x2",
         "y": {
          "bdata": "aZEng10WGUBAFeS7Z4MYQEpz17FfExlAWqGanq2WGED8wUXqqPoYQB6HBaIdFhhAtDnO7S5xF0Bk4HyEXd0YQO4skwvPzRhAOx4YZpuHGEB4SytgVIQYQEojn1HFhBhAANfxYJcoGEBJ7LelhZEYQB+sNngAgRhAuTgI3d+lGEC5Io7mB+MYQDlciMUXBBlAg5afHLkpGUCoXMhcoXUZQOaLhvvcMxhAHMl/R9K1GEB3+IhKAtIXQDfYEu+dLRlAPirrEvLyF0BZRROmtu8YQJS8z7NI3RhAyTUmGc5CGUDI5bV/EGoYQF/T8/TCMhlA7ymN7FBnGEDTUaw4rzsZQDzpNdaiiBhAjA31aIbKGECRVdebMNoYQGOsFp7w2hhAXT4Kp5Z8GEBd0WgJLAEZQHsxC+CRshhAxgwpy6YJGUD7hSVxDWsZQIRlQMKRYhhAG6MNjmhHGEBgTb+1oosYQJOEnFDdYBhA08r1LP1+GED0Ol1gQKsYQLi51bc8MhlAk11MRapmGEB6QH/XNgMZQJD6Y/w3qxlABcy112azGEDavDmpXcQYQJimIGbpXhhARjwzRVqsGECBhlFlUfAYQLF/SoBxQRlAtYH1f0WEGEAfjaNqSdUYQA+pJrsrQhhAHqTUpeXHGEBMmGcU9cQYQLAjDOK4PBlAtEpyb84bGEB1XdqWcSIZQNNXjl1TvBhAJqOdqg+IGECX4Ty/Z5AYQD9VMcyoNRlAwkiqFZBWGUDd8qcdTscYQPEVDZXv+hdATWACWnH5GEBrtx02/OYYQNpGyvIzUhlA",
          "dtype": "f8"
         },
         "yaxis": "y2"
        },
        {
         "marker": {
          "line": {
           "color": "white",
           "width": 1
          },
          "opacity": 0.7,
          "size": 8
         },
         "mode": "markers",
         "name": "Cluster 2",
         "type": "scatter",
         "x": [],
         "xaxis": "x2",
         "y": [],
         "yaxis": "y2"
        },
        {
         "marker": {
          "line": {
           "color": "white",
           "width": 1
          },
          "opacity": 0.7,
          "size": 12
         },
         "mode": "markers",
         "name": "Centers",
         "type": "scatter",
         "x": {
          "bdata": "3KNyO7ikD0ByHYfL6aIRwA==",
          "dtype": "f8"
         },
         "xaxis": "x2",
         "y": {
          "bdata": "lNEo/UqqEMAHo9GSorsYQA==",
          "dtype": "f8"
         },
         "yaxis": "y2"
        },
        {
         "marker": {
          "line": {
           "color": "white",
           "width": 1
          },
          "opacity": 0.7,
          "size": 8
         },
         "mode": "markers",
         "name": "Cluster 0",
         "type": "scatter",
         "x": {
          "bdata": "geUtfwBGEcD+cN5cygcRwDKld7SXwxHA+cHdrE1SEcAk13MILl0RwIN7b6LMoRHA3ME6e//9EcD4HNdkX0sRwGA+T/AmahHAv/1b/Q1aEcBMqkhOpQARwE88XGX8shHAexRfz+9CEcDb+p82SFMRwMtsqbF2HhLADmWa/dnLEcDNi4vRP2ARwOKXnJ6kORHA6s9D0M8LEcAJPj/kyPQRwEuz9PzZ8BHAGj/XGwDHEcBsmC1mWVQRwEVj15EPXRHAI41HJGQ6EsAd5UpOZ7gRwB2VBcDJDhLAfcgiJDaQEcC7GlwZwfcRwCxsK0RE5hHAsar0YDtvEcAgAydTU6gRwCFc4UyUlBHAZ7IJpYR9EcCD/bJ1kSkRwNy9gm3RPRLAKUGx4tYeEsBDb5uwHXoSwDF13kmTZRHAeyQFhDyTEcDcfO8LVTYRwAGUzNMC9hHAhlRmo8V1EcCi9s9A9+cRwMgNWp6/MRLAZgpUyMFYEsCjWZxd/n0RwMiZ92F2CxHAlM/QsTgEEsADG/F18cQQwLSQ0bOokBHADDhqlPJbEcCWo+N+fYoRwMhZmRhEcBHA/sZLCerqEcDSxn0oQtcRwM07HKZZihHAyCMdUwZvEcAp1EsowH4SwDBMiIFbrxDAY504Fx7PEcBTnECStGQSwFpq77A23xDAIzLNoq5hEcBcx+3mQiMRwIcahqUr4hHAbggM9A9eEcDnYoAw50kSwKYWMux1nxHAVv6ZYXhlEcD9TULEub0RwDOX0naQ6BHA175hSK0NEsChk2zMtIcSwGjeFJvD5BHA",
          "dtype": "f8"
         },
         "xaxis": "x3",
         "y": {
          "bdata": "aZEng10WGUBAFeS7Z4MYQEpz17FfExlAWqGanq2WGED8wUXqqPoYQB6HBaIdFhhAtDnO7S5xF0Bk4HyEXd0YQO4skwvPzRhAOx4YZpuHGEB4SytgVIQYQEojn1HFhBhAANfxYJcoGEBJ7LelhZEYQB+sNngAgRhAuTgI3d+lGEC5Io7mB+MYQDlciMUXBBlAg5afHLkpGUCoXMhcoXUZQOaLhvvcMxhAHMl/R9K1GEB3+IhKAtIXQDfYEu+dLRlAPirrEvLyF0BZRROmtu8YQJS8z7NI3RhAyTUmGc5CGUDI5bV/EGoYQF/T8/TCMhlA7ymN7FBnGEDTUaw4rzsZQDzpNdaiiBhAjA31aIbKGECRVdebMNoYQGOsFp7w2hhAXT4Kp5Z8GEBd0WgJLAEZQHsxC+CRshhAxgwpy6YJGUD7hSVxDWsZQIRlQMKRYhhAG6MNjmhHGEBgTb+1oosYQJOEnFDdYBhA08r1LP1+GED0Ol1gQKsYQLi51bc8MhlAk11MRapmGEB6QH/XNgMZQJD6Y/w3qxlABcy112azGEDavDmpXcQYQJimIGbpXhhARjwzRVqsGECBhlFlUfAYQLF/SoBxQRlAtYH1f0WEGEAfjaNqSdUYQA+pJrsrQhhAHqTUpeXHGEBMmGcU9cQYQLAjDOK4PBlAtEpyb84bGEB1XdqWcSIZQNNXjl1TvBhAJqOdqg+IGECX4Ty/Z5AYQD9VMcyoNRlAwkiqFZBWGUDd8qcdTscYQPEVDZXv+hdATWACWnH5GEBrtx02/OYYQNpGyvIzUhlA",
          "dtype": "f8"
         },
         "yaxis": "y3"
        },
        {
         "marker": {
          "line": {
           "color": "white",
           "width": 1
          },
          "opacity": 0.7,
          "size": 8
         },
         "mode": "markers",
         "name": "Cluster 1",
         "type": "scatter",
         "x": {
          "bdata": "RNthwFkVCEA11OM+VGMIQGvcGHkGh8a/XVFRzW8enD/uFPR3iTrGv1Ch97F35s6/wThV/1/Uwb+iv8WhEFIIQIIprafPiwdAC1Lmo7oo0r8KxsB03mXJv6eaMfATbsu//UHWxgEIy7+wJyMrPjfVv4chx6es1Mq/f8BJ7lhNB0Az/6Yhl+fKv13IgX9L0wdAQ1/EGBk3B0BUspGTuK4IQE3y2SNOiNm/6EjCGT0Wyb8mLPIzONfIv1hWfghtf8y/eBEtFeohp7/XFXsirZPAv36dj668dNG/Rz/oUKCxCEBsW68vldgIQEET1ZHVc76/QUihCuZHB0AK0D+O3eMHQMD0r4xsBLO/4rgRjanmCEC8s2AuAliwvw8I2Rg+uNm/LCabbXf5B0DIwmxmpOrBvwR/Hw4/rwdAzkV8dQrnB0B13wB1PjEHQNhgGxF0/QZAqhpDQKzzBkCOEXjg9I/Gv2aa3F4n9Mm/8K1JXbo3CEDpYciM4XPHv5so3Vz6UAdA3Z/ZCbWuCED4FiVp59YGQBoPwI0UQ9O/YaigKSLVjb8G0hzUtpEGQC2FmWV04Mu/lOFrg5Ls0b8PkgfVAhIIQDpvRYP9zAVAHsxIsxUVB0DB2mNRBCrLv7XUGyFpUwdA1jL2tA4Qwr9kCCcMCAYIQFYpFVsuPgdAEmiwypyM0L/KPLQ2afEGQE05Ns9Hvsm/uW1608KkBkDA0yQjRmXbv9QOmpCe1NO/Uvu99hOLzL9V2a84XlIIQHHpUZEy5ta/VF75J0fbw78cM3ADNSCwv2I6NHN9i66/ZMAqw4Xut7/THWdctpwGQKQ5N8qUrrS/Q+/Qc58iCECWGWdEb3AHQIqdf1KdowdAdw/EEpDJBkCfXLibspsHQDlzt9nUHAhAKjvG8Gck0r/oedvPIPIGQNyRyLMQgsy/3G7Q9ErhyL/lUeLj+T3Wv+2fmT4E682/he4/sN7SCECdPEDejuwHQJFhS/qot9C/YLwwyD4uCUBTfn3qS/nSv2y/cFGM3ghAhOXcnCc2zb96OC8lt6gHQJuHLveGJM6/t4stWKsrB0Cc7G98kv3Ev6rofCM9qMS/b8ZiXqorpr+CiPFPW0fOv6ehoPLmGcK/g3/S+UXiCEA+DPE0XKoIQGupVcCwjbG/BE94pJ+CCEBqTILknx0HQIXlGUgS666/MmG2685YB0CHEQj8XLbDv7Muzw+e/MC/SV5UEU/vxr9nmLGnQoMGQKfN1m9yawhAFUXWI/+7BkDKTPn0mNwIQGBOgm52hQhAN+4cEtL9BUDmX5fc1jcIQCnFPdLtyNK/sBzcmVMFCEDDmEpiyX4IQMcY9gQlRQlAsW8JIW2LCEBjjzYjOJPIv2yhDUDP78W/z3tIWb0W0L+apCzNkDMIQDR2OFJQCghAb8HeuS2MB0BcP6flk5EHQI+KRLq2NtK/Zu8kT34dyb+ux07ct9oHQKlNehJRYwhAAzbZBwSWzL9HLLleddAGQKdIidHqRby//DltnLIECEBWTqtQzFMIQFkM7UWvYrm/pCODXrM00L8I8rtNF6i/v7tXjymDgwhAhGEBohmsCEAQfd9sF1u2vylKnoayEQhA",
          "dtype": "f8"
         },
         "xaxis": "x3",
         "y": {
          "bdata": "2RcXcW5fEcAblejDGTwSwEvPiilwCxLAJhVACGiwEcCV8rrshG4SwO9BRzYJURLA3Viw6o8uEsBQu2b61TMSwMxcONnvHBLAgKDz07WAEcBhmwNI96gRwMgsB9bnXhHAma7Pyo9iEsCsNJQwgnQRwErwT3CMExLAFVNRb9L4EcDT7YeWYmIRwLW4S4WI2hHAy/FfP30wEsCX01k9YXgSwEd/A4QKuRHAXt9g13kbEsDn9nfWvWcSwKhxUxmTyBLAl+tAu5wCE8BQlbNbm9MSwHEORgUKuBHA7F6R8XHXEsCOmvWpY0USwG67ELyxzhHAldkdGiq8EcDFL8kE/W4RwMhJn9A7NhLAtk5iyRRqEsBsdtf/Z4kRwDrUvrL5+RHAYBGEX0T7EcB8DjvsKnsSwDohF3eJ2xHA7tCkFUv4EcBjkObZvBkSwEt33rsIdxLAHi6/nLcVEsD+U/t2Q78RwFa0GVGfwhHA2WLUxFYCEsDusXdlaEASwBXm/h6dlxLAIdyPxXbPEcC8ka6ryhUSwG+oi0cAWhLAxG61WK8REsDxp5o2E+MRwJrPnVEk3BLAxDiotowAEsBQsZ/srhESwNyEXomjVxLAdJdai751EsDcpeMViiUSwBDZ0GxMkBHAwlKVycBUEsCHt/Xxf74RwBEJQOpUXRHA79iWEQUwEsA+/m9ZhYASwG3TCazfmBLANRE5k5GfEcDA+sHJ0+ERwFdPjVcHcBLAtdKOr4NgEsCSHCkxNDgRwHIRfzsx1xHA6Z79NWTdEcBGc4DUZ1ISwKDrGYzckBLAeAuflb4lEcCyHyQI3AESwPzLRKpG9xHAg/1jznQMEsBcOzw4tZIRwLomHo9bFRLAG7Jbj+eGEcDrnvC090ARwJjxnT64GBLAOBMVCc3OEcBdDpc8uf4RwEcGJCjE+xHAoW9RQhULEsC+TL0rv9kRwC8BN7Lw6BHAXISdnPdLEsA7Xaz+CWUSwC8komdWsBHABHkmouN8EcBQfVoGPS4SwN3xp1R8RxLAxcCq8wG6EsAFWvTVtssRwB5/gIPz3RHARtIrzCVKEsB9Jxwhh0QSwHm0mDbeIRLAkAjZS5glEsBVo2KgSuoRwOYkCfzuZRLAUx/rUr+8EcC/thol3iESwAJ/4eAqbRLAL33NdjvBEcAnhYb/bl0RwDyGJ/gkqBLA/NVnBjdCEsAui/zIus8RwMRusDcRvhHA1WhN5gLCEcA6LatjGwYSwPGVbB79FhLAB6SlAN9vEsC3k4QrTFYSwPlhPgjo3BHAxAEbPmeaEcDQTUwTNlARwCTV3ZTh1xLA6ovUcz2EEcCvYsNRf/kRwHrjVABXJBLAOM+bt0V8EsAwYrjNFU4SwIaJFER/0xLAZsY1r6PLEcCPaO1Qw44SwLeFuUIYvhHAtrK7PG++EcAw8dOzeR0SwPfJ6jd+rxLADEEu1vWXEcBq+3zFEeMSwD0h/tyLiRHA6wyWR+64EcDBQrFNZOoRwAkFt76fWxLAIv/ESwuyEcCe8t6v4bkSwM52PuChJhLAsbI/u4QuEsA75kIVg8gRwC1Xizp4IxHA121liJFXEsCSNLEY5n8RwFTQf9t5CBLA",
          "dtype": "f8"
         },
         "yaxis": "y3"
        },
        {
         "marker": {
          "line": {
           "color": "white",
           "width": 1
          },
          "opacity": 0.7,
          "size": 8
         },
         "mode": "markers",
         "name": "Cluster 2",
         "type": "scatter",
         "x": {
          "bdata": "1vHpIG0WIkDy6XA9iCQiQFPXZrJaDiJAdv8agD3mIUADMYoSHT0iQBiO22a/KSJA1P5b9ezNIUCZFqRl6xciQB/47TFyPyJAw+wsmh4iIkDitYELp4oiQCwD68LIUSJAJ8x1ye3kIUDjExiRxikiQJVR07xDHCJAufH1PW0fIkD59PncPggiQCxs4Wx1gCJAsm1UK06oIkBxMN3WXgQiQOGyQSXzPSJAUn6XHyBMIkDtcCw3FFQiQMqxnKavdiJASNcIRjgeIkCXTERwuDQiQI1mwsk6EiJAOHdlmjRSIkCrusYr8xYiQOwoyw0/QSJAtPgIt3VUIkBWb981KkIiQMRVz2reLCJAYrKNLlpUIkBepAXO9TciQHLQnjj16CFAcBy63GpIIkDWK3at1A0iQBvJV05hQSJAk76D8BUAIkAcxlX4bE4iQO8ksEseyyFAB/IzjDtCIkBQXgDRDyEiQMIR5+iLZCJA2CqU1Tw9IkAlciYzYgAiQCob6f7XryFAKCIzEdMYIkAGVZxdylQiQF1RDuLLPCJAODo33Gc4IkCAenSa7/QhQFUK9T2p8CFAtV4ghTPrIUBf5mNbzP8hQH3rtPHTriJApBnUj2sXIkBc5a+d+0giQF2jCGBKRSJAmKsmzi4VIkA+tBkJ8EUiQEpU5qcEjyJAgUUSIpJXIkAvGWxPM04iQP1dWMnyFiJAgGO6dVYTIkAB4PWnQ1MiQHY95XcHwyFAy8DM1aLsIUBXPACsgyQiQDmXji4J6iFAu8Jm75xDIkDHnV73CiIiQPfcAhNoDSJA",
          "dtype": "f8"
         },
         "xaxis": "x3",
         "y": {
          "bdata": "zlhp0DDuC8DrBDfdrQcLwOGh+Gdw8QrAqjA6lfiFDMAIJkskQB4NwMrzKpWUWgvACbKh7CeCDMBy1xmzTOILwIiOzMgHHwzAgGi8zWpIC8AkB3eOlvcLwPU6XA4XZA3Az9WMXIDcDMDao4DFufIJwJZfyHH5JQvAvRTZKnZyC8DevTg0CLcMwLWgm/MkIAvAoPW+TxZoC8CvNnEuLdwKwPUdYVQ/RwzAyInBC03PC8Bh76FzZMsMwLKsp3eTrAzA6UMRa2uyC8CIheCyal4LwALztqS/3gvA97sY5zuvDMC08jR/HG4LwAGBrucQkQvAuQaAx96SC8Cdl2Gl77kKwIXt4vJcagvAmQoMRarECsCMj1Ed9GwMwLLXdIRMHwvAXmZmATviC8A2aN56tVILwJNwmSa5xgzAGZOSFyZ+C8BqzuJZauULwGtLvgYM+gvA2T+xGDt0CsBBXzYQl3wLwOJUl25nYQzAreZ/9h7gC8DBGGvQJuMIwHZx2yvtIw3A1RVdmgeoC8AG8XViufAMwFTEGtT/TwzAqkrLsZpXDcCDnTikv30LwO/8kZTylwzAzauQR81UC8D6cN8UhUkMwJYTohokbQzAEJuxYuJ4DcBWVHPVVzsLwNZ7MhCYwgrA+DsawW+pDMB360xJ4mYMwDMY/32g3wrAUzoHMOJKC8B7l+kEJy8LwPaf1aJ0pAvANk+2GRbrCsAzEzONDxoMwJIK0+DlOgvAfXO6xgciDMAja+hcGW4LwPwQvwXA/wvAeFrbxbOEDMDcjo3m3m0NwINsooHFxAvA",
          "dtype": "f8"
         },
         "yaxis": "y3"
        },
        {
         "marker": {
          "line": {
           "color": "white",
           "width": 1
          },
          "opacity": 0.7,
          "size": 8
         },
         "mode": "markers",
         "name": "Cluster 3",
         "type": "scatter",
         "x": [],
         "xaxis": "x3",
         "y": [],
         "yaxis": "y3"
        },
        {
         "marker": {
          "line": {
           "color": "white",
           "width": 1
          },
          "opacity": 0.7,
          "size": 12
         },
         "mode": "markers",
         "name": "Centers",
         "type": "scatter",
         "x": {
          "bdata": "ch2Hy+miEcBFwXxDQUP2P5TKttu5KiJA",
          "dtype": "f8"
         },
         "xaxis": "x3",
         "y": {
          "bdata": "B6PRkqK7GEA51FTAuQoSwJaYoe3a0gvA",
          "dtype": "f8"
         },
         "yaxis": "y3"
        },
        {
         "marker": {
          "line": {
           "color": "white",
           "width": 1
          },
          "opacity": 0.7,
          "size": 8
         },
         "mode": "markers",
         "name": "Cluster 0",
         "type": "scatter",
         "x": {
          "bdata": "1vHpIG0WIkDy6XA9iCQiQFPXZrJaDiJAdv8agD3mIUADMYoSHT0iQBiO22a/KSJA1P5b9ezNIUCZFqRl6xciQB/47TFyPyJAw+wsmh4iIkDitYELp4oiQCwD68LIUSJAJ8x1ye3kIUDjExiRxikiQJVR07xDHCJAufH1PW0fIkD59PncPggiQCxs4Wx1gCJAsm1UK06oIkBxMN3WXgQiQOGyQSXzPSJAUn6XHyBMIkDtcCw3FFQiQMqxnKavdiJASNcIRjgeIkCXTERwuDQiQI1mwsk6EiJAOHdlmjRSIkCrusYr8xYiQOwoyw0/QSJAtPgIt3VUIkBWb981KkIiQMRVz2reLCJAYrKNLlpUIkBepAXO9TciQHLQnjj16CFAcBy63GpIIkDWK3at1A0iQBvJV05hQSJAk76D8BUAIkAcxlX4bE4iQO8ksEseyyFAB/IzjDtCIkBQXgDRDyEiQMIR5+iLZCJA2CqU1Tw9IkAlciYzYgAiQCob6f7XryFAKCIzEdMYIkAGVZxdylQiQF1RDuLLPCJAODo33Gc4IkCAenSa7/QhQFUK9T2p8CFAtV4ghTPrIUBf5mNbzP8hQH3rtPHTriJApBnUj2sXIkBc5a+d+0giQF2jCGBKRSJAmKsmzi4VIkA+tBkJ8EUiQEpU5qcEjyJAgUUSIpJXIkAvGWxPM04iQP1dWMnyFiJAgGO6dVYTIkAB4PWnQ1MiQHY95XcHwyFAy8DM1aLsIUBXPACsgyQiQDmXji4J6iFAu8Jm75xDIkDHnV73CiIiQPfcAhNoDSJA",
          "dtype": "f8"
         },
         "xaxis": "x4",
         "y": {
          "bdata": "zlhp0DDuC8DrBDfdrQcLwOGh+Gdw8QrAqjA6lfiFDMAIJkskQB4NwMrzKpWUWgvACbKh7CeCDMBy1xmzTOILwIiOzMgHHwzAgGi8zWpIC8AkB3eOlvcLwPU6XA4XZA3Az9WMXIDcDMDao4DFufIJwJZfyHH5JQvAvRTZKnZyC8DevTg0CLcMwLWgm/MkIAvAoPW+TxZoC8CvNnEuLdwKwPUdYVQ/RwzAyInBC03PC8Bh76FzZMsMwLKsp3eTrAzA6UMRa2uyC8CIheCyal4LwALztqS/3gvA97sY5zuvDMC08jR/HG4LwAGBrucQkQvAuQaAx96SC8Cdl2Gl77kKwIXt4vJcagvAmQoMRarECsCMj1Ed9GwMwLLXdIRMHwvAXmZmATviC8A2aN56tVILwJNwmSa5xgzAGZOSFyZ+C8BqzuJZauULwGtLvgYM+gvA2T+xGDt0CsBBXzYQl3wLwOJUl25nYQzAreZ/9h7gC8DBGGvQJuMIwHZx2yvtIw3A1RVdmgeoC8AG8XViufAMwFTEGtT/TwzAqkrLsZpXDcCDnTikv30LwO/8kZTylwzAzauQR81UC8D6cN8UhUkMwJYTohokbQzAEJuxYuJ4DcBWVHPVVzsLwNZ7MhCYwgrA+DsawW+pDMB360xJ4mYMwDMY/32g3wrAUzoHMOJKC8B7l+kEJy8LwPaf1aJ0pAvANk+2GRbrCsAzEzONDxoMwJIK0+DlOgvAfXO6xgciDMAja+hcGW4LwPwQvwXA/wvAeFrbxbOEDMDcjo3m3m0NwINsooHFxAvA",
          "dtype": "f8"
         },
         "yaxis": "y4"
        },
        {
         "marker": {
          "line": {
           "color": "white",
           "width": 1
          },
          "opacity": 0.7,
          "size": 8
         },
         "mode": "markers",
         "name": "Cluster 1",
         "type": "scatter",
         "x": {
          "bdata": "geUtfwBGEcD+cN5cygcRwDKld7SXwxHA+cHdrE1SEcAk13MILl0RwIN7b6LMoRHA3ME6e//9EcD4HNdkX0sRwGA+T/AmahHAv/1b/Q1aEcBMqkhOpQARwE88XGX8shHAexRfz+9CEcDb+p82SFMRwMtsqbF2HhLADmWa/dnLEcDNi4vRP2ARwOKXnJ6kORHA6s9D0M8LEcAJPj/kyPQRwEuz9PzZ8BHAGj/XGwDHEcBsmC1mWVQRwEVj15EPXRHAI41HJGQ6EsAd5UpOZ7gRwB2VBcDJDhLAfcgiJDaQEcC7GlwZwfcRwCxsK0RE5hHAsar0YDtvEcAgAydTU6gRwCFc4UyUlBHAZ7IJpYR9EcCD/bJ1kSkRwNy9gm3RPRLAKUGx4tYeEsBDb5uwHXoSwDF13kmTZRHAeyQFhDyTEcDcfO8LVTYRwAGUzNMC9hHAhlRmo8V1EcCi9s9A9+cRwMgNWp6/MRLAZgpUyMFYEsCjWZxd/n0RwMiZ92F2CxHAlM/QsTgEEsADG/F18cQQwLSQ0bOokBHADDhqlPJbEcCWo+N+fYoRwMhZmRhEcBHA/sZLCerqEcDSxn0oQtcRwM07HKZZihHAyCMdUwZvEcAp1EsowH4SwDBMiIFbrxDAY504Fx7PEcBTnECStGQSwFpq77A23xDAIzLNoq5hEcBcx+3mQiMRwIcahqUr4hHAbggM9A9eEcDnYoAw50kSwKYWMux1nxHAVv6ZYXhlEcD9TULEub0RwDOX0naQ6BHA175hSK0NEsChk2zMtIcSwGjeFJvD5BHA",
          "dtype": "f8"
         },
         "xaxis": "x4",
         "y": {
          "bdata": "aZEng10WGUBAFeS7Z4MYQEpz17FfExlAWqGanq2WGED8wUXqqPoYQB6HBaIdFhhAtDnO7S5xF0Bk4HyEXd0YQO4skwvPzRhAOx4YZpuHGEB4SytgVIQYQEojn1HFhBhAANfxYJcoGEBJ7LelhZEYQB+sNngAgRhAuTgI3d+lGEC5Io7mB+MYQDlciMUXBBlAg5afHLkpGUCoXMhcoXUZQOaLhvvcMxhAHMl/R9K1GEB3+IhKAtIXQDfYEu+dLRlAPirrEvLyF0BZRROmtu8YQJS8z7NI3RhAyTUmGc5CGUDI5bV/EGoYQF/T8/TCMhlA7ymN7FBnGEDTUaw4rzsZQDzpNdaiiBhAjA31aIbKGECRVdebMNoYQGOsFp7w2hhAXT4Kp5Z8GEBd0WgJLAEZQHsxC+CRshhAxgwpy6YJGUD7hSVxDWsZQIRlQMKRYhhAG6MNjmhHGEBgTb+1oosYQJOEnFDdYBhA08r1LP1+GED0Ol1gQKsYQLi51bc8MhlAk11MRapmGEB6QH/XNgMZQJD6Y/w3qxlABcy112azGEDavDmpXcQYQJimIGbpXhhARjwzRVqsGECBhlFlUfAYQLF/SoBxQRlAtYH1f0WEGEAfjaNqSdUYQA+pJrsrQhhAHqTUpeXHGEBMmGcU9cQYQLAjDOK4PBlAtEpyb84bGEB1XdqWcSIZQNNXjl1TvBhAJqOdqg+IGECX4Ty/Z5AYQD9VMcyoNRlAwkiqFZBWGUDd8qcdTscYQPEVDZXv+hdATWACWnH5GEBrtx02/OYYQNpGyvIzUhlA",
          "dtype": "f8"
         },
         "yaxis": "y4"
        },
        {
         "marker": {
          "line": {
           "color": "white",
           "width": 1
          },
          "opacity": 0.7,
          "size": 8
         },
         "mode": "markers",
         "name": "Cluster 2",
         "type": "scatter",
         "x": {
          "bdata": "a9wYeQaHxr9dUVHNbx6cP+4U9HeJOsa/UKH3sXfmzr/BOFX/X9TBvwtS5qO6KNK/CsbAdN5lyb+nmjHwE27Lv/1B1sYBCMu/sCcjKz431b+HIcenrNTKvzP/piGX58q/TfLZI06I2b/oSMIZPRbJvyYs8jM418i/WFZ+CG1/zL94ES0V6iGnv9cVeyKtk8C/fp2Prrx00b9BE9WR1XO+v8D0r4xsBLO/vLNgLgJYsL8PCNkYPrjZv8jCbGak6sG/jhF44PSPxr9mmtxeJ/TJv+lhyIzhc8e/Gg/AjRRD079hqKApItWNvy2FmWV04Mu/lOFrg5Ls0b/B2mNRBCrLv9Yy9rQOEMK/EmiwypyM0L9NOTbPR77Jv8DTJCNGZdu/1A6akJ7U079S+732E4vMv3HpUZEy5ta/VF75J0fbw78cM3ADNSCwv2I6NHN9i66/ZMAqw4Xut7+kOTfKlK60vyo7xvBnJNK/3JHIsxCCzL/cbtD0SuHIv+VR4uP5Pda/7Z+ZPgTrzb+RYUv6qLfQv1N+fepL+dK/hOXcnCc2zb+bhy73hiTOv5zsb3yS/cS/quh8Iz2oxL9vxmJeqiumv4KI8U9bR86/p6Gg8uYZwr9rqVXAsI2xv4XlGUgS666/hxEI/Fy2w7+zLs8PnvzAv0leVBFP78a/KcU90u3I0r9jjzYjOJPIv2yhDUDP78W/z3tIWb0W0L+PikS6tjbSv2bvJE9+Hcm/AzbZBwSWzL+nSInR6kW8v1kM7UWvYrm/pCODXrM00L8I8rtNF6i/vxB932wXW7a/",
          "dtype": "f8"
         },
         "xaxis": "x4",
         "y": {
          "bdata": "S8+KKXALEsAmFUAIaLARwJXyuuyEbhLA70FHNglREsDdWLDqjy4SwICg89O1gBHAYZsDSPeoEcDILAfW514RwJmuz8qPYhLArDSUMIJ0EcBK8E9wjBMSwNPth5ZiYhHAR38DhAq5EcBe32DXeRsSwOf2d9a9ZxLAqHFTGZPIEsCX60C7nAITwFCVs1ub0xLAcQ5GBQq4EcBuuxC8sc4RwMhJn9A7NhLAbHbX/2eJEcA61L6y+fkRwHwOO+wqexLA/lP7dkO/EcBWtBlRn8IRwO6xd2VoQBLAb6iLRwBaEsDEbrVYrxESwJrPnVEk3BLAxDiotowAEsDcpeMViiUSwMJSlcnAVBLA79iWEQUwEsBt0wms35gSwMD6wcnT4RHAV0+NVwdwEsC10o6vg2ASwHIRfzsx1xHA6Z79NWTdEcBGc4DUZ1ISwKDrGYzckBLAeAuflb4lEcD8y0SqRvcRwDgTFQnNzhHARwYkKMT7EcChb1FCFQsSwL5MvSu/2RHALwE3svDoEcAvJKJnVrARwFB9WgY9LhLAxcCq8wG6EsAef4CD890RwH0nHCGHRBLAebSYNt4hEsCQCNlLmCUSwFWjYqBK6hHA5iQJ/O5lEsACf+HgKm0SwDyGJ/gkqBLALov8yLrPEcDEbrA3Eb4RwNVoTeYCwhHAJNXdlOHXEsAwYrjNFU4SwIaJFER/0xLAZsY1r6PLEcD3yeo3fq8SwAxBLtb1lxHA6wyWR+64EcAJBbe+n1sSwM52PuChJhLAsbI/u4QuEsA75kIVg8gRwJI0sRjmfxHA",
          "dtype": "f8"
         },
         "yaxis": "y4"
        },
        {
         "marker": {
          "line": {
           "color": "white",
           "width": 1
          },
          "opacity": 0.7,
          "size": 8
         },
         "mode": "markers",
         "name": "Cluster 3",
         "type": "scatter",
         "x": {
          "bdata": "RNthwFkVCEA11OM+VGMIQKK/xaEQUghAgimtp8+LB0B/wEnuWE0HQF3IgX9L0wdAQ1/EGBk3B0BUspGTuK4IQEc/6FCgsQhAbFuvL5XYCEBBSKEK5kcHQArQP47d4wdA4rgRjanmCEAsJpttd/kHQAR/Hw4/rwdAzkV8dQrnB0B13wB1PjEHQNhgGxF0/QZAqhpDQKzzBkDwrUldujcIQJso3Vz6UAdA3Z/ZCbWuCED4FiVp59YGQAbSHNS2kQZAD5IH1QISCEA6b0WD/cwFQB7MSLMVFQdAtdQbIWlTB0BkCCcMCAYIQFYpFVsuPgdAyjy0NmnxBkC5bXrTwqQGQFXZrzheUghA0x1nXLacBkBD79BznyIIQJYZZ0RvcAdAip1/Up2jB0B3D8QSkMkGQJ9cuJuymwdAOXO32dQcCEDoedvPIPIGQIXuP7De0ghAnTxA3o7sB0BgvDDIPi4JQGy/cFGM3ghAejgvJbeoB0C3iy1YqysHQIN/0vlF4ghAPgzxNFyqCEAET3ikn4IIQGpMguSfHQdAMmG2685YB0BnmLGnQoMGQKfN1m9yawhAFUXWI/+7BkDKTPn0mNwIQGBOgm52hQhAN+4cEtL9BUDmX5fc1jcIQLAc3JlTBQhAw5hKYsl+CEDHGPYEJUUJQLFvCSFtiwhAmqQszZAzCEA0djhSUAoIQG/B3rktjAdAXD+n5ZORB0Cux07ct9oHQKlNehJRYwhARyy5XnXQBkD8OW2csgQIQFZOq1DMUwhAu1ePKYODCECEYQGiGawIQClKnoayEQhA",
          "dtype": "f8"
         },
         "xaxis": "x4",
         "y": {
          "bdata": "2RcXcW5fEcAblejDGTwSwFC7ZvrVMxLAzFw42e8cEsAVU1Fv0vgRwLW4S4WI2hHAy/FfP30wEsCX01k9YXgSwOxekfFx1xLAjpr1qWNFEsCV2R0aKrwRwMUvyQT9bhHAtk5iyRRqEsBgEYRfRPsRwDohF3eJ2xHA7tCkFUv4EcBjkObZvBkSwEt33rsIdxLAHi6/nLcVEsDZYtTEVgISwBXm/h6dlxLAIdyPxXbPEcC8ka6ryhUSwPGnmjYT4xHAULGf7K4REsDchF6Jo1cSwHSXWou+dRLAENnQbEyQEcCHt/Xxf74RwBEJQOpUXRHAPv5vWYWAEsA1ETmTkZ8RwJIcKTE0OBHAsh8kCNwBEsCD/WPOdAwSwFw7PDi1khHAuiYej1sVEsAbsluP54YRwOue8LT3QBHAmPGdPrgYEsBdDpc8uf4RwFyEnZz3SxLAO12s/gllEsAEeSai43wRwN3xp1R8RxLABVr01bbLEcBG0ivMJUoSwFMf61K/vBHAv7YaJd4hEsAvfc12O8ERwCeFhv9uXRHA/NVnBjdCEsA6LatjGwYSwPGVbB79FhLAB6SlAN9vEsC3k4QrTFYSwPlhPgjo3BHAxAEbPmeaEcDQTUwTNlARwOqL1HM9hBHAr2LDUX/5EcB641QAVyQSwDjPm7dFfBLAj2jtUMOOEsC3hblCGL4RwLayuzxvvhHAMPHTs3kdEsBq+3zFEeMSwD0h/tyLiRHAwUKxTWTqEcAi/8RLC7IRwJ7y3q/huRLALVeLOngjEcDXbWWIkVcSwFTQf9t5CBLA",
          "dtype": "f8"
         },
         "yaxis": "y4"
        },
        {
         "marker": {
          "line": {
           "color": "white",
           "width": 1
          },
          "opacity": 0.7,
          "size": 8
         },
         "mode": "markers",
         "name": "Cluster 4",
         "type": "scatter",
         "x": [],
         "xaxis": "x4",
         "y": [],
         "yaxis": "y4"
        },
        {
         "marker": {
          "line": {
           "color": "white",
           "width": 1
          },
          "opacity": 0.7,
          "size": 12
         },
         "mode": "markers",
         "name": "Centers",
         "type": "scatter",
         "x": {
          "bdata": "lMq227kqIkByHYfL6aIRwHiix+KZw8i/azup4XrPB0A=",
          "dtype": "f8"
         },
         "xaxis": "x4",
         "y": {
          "bdata": "lpih7drSC8AHo9GSorsYQAOYTlBjFxLAcRBbMBD+EcA=",
          "dtype": "f8"
         },
         "yaxis": "y4"
        },
        {
         "marker": {
          "line": {
           "color": "white",
           "width": 1
          },
          "opacity": 0.7,
          "size": 8
         },
         "mode": "markers",
         "name": "Cluster 0",
         "type": "scatter",
         "x": {
          "bdata": "1vHpIG0WIkDy6XA9iCQiQFPXZrJaDiJAdv8agD3mIUADMYoSHT0iQBiO22a/KSJA1P5b9ezNIUCZFqRl6xciQB/47TFyPyJAw+wsmh4iIkDitYELp4oiQCwD68LIUSJAJ8x1ye3kIUDjExiRxikiQJVR07xDHCJAufH1PW0fIkD59PncPggiQCxs4Wx1gCJAsm1UK06oIkBxMN3WXgQiQOGyQSXzPSJAUn6XHyBMIkDtcCw3FFQiQMqxnKavdiJASNcIRjgeIkCXTERwuDQiQI1mwsk6EiJAOHdlmjRSIkCrusYr8xYiQOwoyw0/QSJAtPgIt3VUIkBWb981KkIiQMRVz2reLCJAYrKNLlpUIkBepAXO9TciQHLQnjj16CFAcBy63GpIIkDWK3at1A0iQBvJV05hQSJAk76D8BUAIkAcxlX4bE4iQO8ksEseyyFAB/IzjDtCIkBQXgDRDyEiQMIR5+iLZCJA2CqU1Tw9IkAlciYzYgAiQCob6f7XryFAKCIzEdMYIkAGVZxdylQiQF1RDuLLPCJAODo33Gc4IkCAenSa7/QhQFUK9T2p8CFAtV4ghTPrIUBf5mNbzP8hQH3rtPHTriJApBnUj2sXIkBc5a+d+0giQF2jCGBKRSJAmKsmzi4VIkA+tBkJ8EUiQEpU5qcEjyJAgUUSIpJXIkAvGWxPM04iQP1dWMnyFiJAgGO6dVYTIkAB4PWnQ1MiQHY95XcHwyFAy8DM1aLsIUBXPACsgyQiQDmXji4J6iFAu8Jm75xDIkDHnV73CiIiQPfcAhNoDSJA",
          "dtype": "f8"
         },
         "xaxis": "x5",
         "y": {
          "bdata": "zlhp0DDuC8DrBDfdrQcLwOGh+Gdw8QrAqjA6lfiFDMAIJkskQB4NwMrzKpWUWgvACbKh7CeCDMBy1xmzTOILwIiOzMgHHwzAgGi8zWpIC8AkB3eOlvcLwPU6XA4XZA3Az9WMXIDcDMDao4DFufIJwJZfyHH5JQvAvRTZKnZyC8DevTg0CLcMwLWgm/MkIAvAoPW+TxZoC8CvNnEuLdwKwPUdYVQ/RwzAyInBC03PC8Bh76FzZMsMwLKsp3eTrAzA6UMRa2uyC8CIheCyal4LwALztqS/3gvA97sY5zuvDMC08jR/HG4LwAGBrucQkQvAuQaAx96SC8Cdl2Gl77kKwIXt4vJcagvAmQoMRarECsCMj1Ed9GwMwLLXdIRMHwvAXmZmATviC8A2aN56tVILwJNwmSa5xgzAGZOSFyZ+C8BqzuJZauULwGtLvgYM+gvA2T+xGDt0CsBBXzYQl3wLwOJUl25nYQzAreZ/9h7gC8DBGGvQJuMIwHZx2yvtIw3A1RVdmgeoC8AG8XViufAMwFTEGtT/TwzAqkrLsZpXDcCDnTikv30LwO/8kZTylwzAzauQR81UC8D6cN8UhUkMwJYTohokbQzAEJuxYuJ4DcBWVHPVVzsLwNZ7MhCYwgrA+DsawW+pDMB360xJ4mYMwDMY/32g3wrAUzoHMOJKC8B7l+kEJy8LwPaf1aJ0pAvANk+2GRbrCsAzEzONDxoMwJIK0+DlOgvAfXO6xgciDMAja+hcGW4LwPwQvwXA/wvAeFrbxbOEDMDcjo3m3m0NwINsooHFxAvA",
          "dtype": "f8"
         },
         "yaxis": "y5"
        },
        {
         "marker": {
          "line": {
           "color": "white",
           "width": 1
          },
          "opacity": 0.7,
          "size": 8
         },
         "mode": "markers",
         "name": "Cluster 1",
         "type": "scatter",
         "x": {
          "bdata": "geUtfwBGEcD+cN5cygcRwDKld7SXwxHA+cHdrE1SEcAk13MILl0RwIN7b6LMoRHA3ME6e//9EcD4HNdkX0sRwGA+T/AmahHAv/1b/Q1aEcBMqkhOpQARwE88XGX8shHAexRfz+9CEcDb+p82SFMRwMtsqbF2HhLADmWa/dnLEcDNi4vRP2ARwOKXnJ6kORHA6s9D0M8LEcAJPj/kyPQRwEuz9PzZ8BHAGj/XGwDHEcBsmC1mWVQRwEVj15EPXRHAI41HJGQ6EsAd5UpOZ7gRwB2VBcDJDhLAfcgiJDaQEcC7GlwZwfcRwCxsK0RE5hHAsar0YDtvEcAgAydTU6gRwCFc4UyUlBHAZ7IJpYR9EcCD/bJ1kSkRwNy9gm3RPRLAKUGx4tYeEsBDb5uwHXoSwDF13kmTZRHAeyQFhDyTEcDcfO8LVTYRwAGUzNMC9hHAhlRmo8V1EcCi9s9A9+cRwMgNWp6/MRLAZgpUyMFYEsCjWZxd/n0RwMiZ92F2CxHAlM/QsTgEEsADG/F18cQQwLSQ0bOokBHADDhqlPJbEcCWo+N+fYoRwMhZmRhEcBHA/sZLCerqEcDSxn0oQtcRwM07HKZZihHAyCMdUwZvEcAp1EsowH4SwDBMiIFbrxDAY504Fx7PEcBTnECStGQSwFpq77A23xDAIzLNoq5hEcBcx+3mQiMRwIcahqUr4hHAbggM9A9eEcDnYoAw50kSwKYWMux1nxHAVv6ZYXhlEcD9TULEub0RwDOX0naQ6BHA175hSK0NEsChk2zMtIcSwGjeFJvD5BHA",
          "dtype": "f8"
         },
         "xaxis": "x5",
         "y": {
          "bdata": "aZEng10WGUBAFeS7Z4MYQEpz17FfExlAWqGanq2WGED8wUXqqPoYQB6HBaIdFhhAtDnO7S5xF0Bk4HyEXd0YQO4skwvPzRhAOx4YZpuHGEB4SytgVIQYQEojn1HFhBhAANfxYJcoGEBJ7LelhZEYQB+sNngAgRhAuTgI3d+lGEC5Io7mB+MYQDlciMUXBBlAg5afHLkpGUCoXMhcoXUZQOaLhvvcMxhAHMl/R9K1GEB3+IhKAtIXQDfYEu+dLRlAPirrEvLyF0BZRROmtu8YQJS8z7NI3RhAyTUmGc5CGUDI5bV/EGoYQF/T8/TCMhlA7ymN7FBnGEDTUaw4rzsZQDzpNdaiiBhAjA31aIbKGECRVdebMNoYQGOsFp7w2hhAXT4Kp5Z8GEBd0WgJLAEZQHsxC+CRshhAxgwpy6YJGUD7hSVxDWsZQIRlQMKRYhhAG6MNjmhHGEBgTb+1oosYQJOEnFDdYBhA08r1LP1+GED0Ol1gQKsYQLi51bc8MhlAk11MRapmGEB6QH/XNgMZQJD6Y/w3qxlABcy112azGEDavDmpXcQYQJimIGbpXhhARjwzRVqsGECBhlFlUfAYQLF/SoBxQRlAtYH1f0WEGEAfjaNqSdUYQA+pJrsrQhhAHqTUpeXHGEBMmGcU9cQYQLAjDOK4PBlAtEpyb84bGEB1XdqWcSIZQNNXjl1TvBhAJqOdqg+IGECX4Ty/Z5AYQD9VMcyoNRlAwkiqFZBWGUDd8qcdTscYQPEVDZXv+hdATWACWnH5GEBrtx02/OYYQNpGyvIzUhlA",
          "dtype": "f8"
         },
         "yaxis": "y5"
        },
        {
         "marker": {
          "line": {
           "color": "white",
           "width": 1
          },
          "opacity": 0.7,
          "size": 8
         },
         "mode": "markers",
         "name": "Cluster 2",
         "type": "scatter",
         "x": {
          "bdata": "a9wYeQaHxr9dUVHNbx6cP+4U9HeJOsa/UKH3sXfmzr/BOFX/X9TBvwtS5qO6KNK/CsbAdN5lyb+nmjHwE27Lv/1B1sYBCMu/sCcjKz431b+HIcenrNTKvzP/piGX58q/TfLZI06I2b/oSMIZPRbJvyYs8jM418i/WFZ+CG1/zL94ES0V6iGnv9cVeyKtk8C/fp2Prrx00b9BE9WR1XO+v8D0r4xsBLO/vLNgLgJYsL8PCNkYPrjZv8jCbGak6sG/jhF44PSPxr9mmtxeJ/TJv+lhyIzhc8e/Gg/AjRRD079hqKApItWNvy2FmWV04Mu/lOFrg5Ls0b/B2mNRBCrLv9Yy9rQOEMK/EmiwypyM0L9NOTbPR77Jv8DTJCNGZdu/1A6akJ7U079S+732E4vMv3HpUZEy5ta/VF75J0fbw78cM3ADNSCwv2I6NHN9i66/ZMAqw4Xut7+kOTfKlK60vyo7xvBnJNK/3JHIsxCCzL/cbtD0SuHIv+VR4uP5Pda/7Z+ZPgTrzb+RYUv6qLfQv1N+fepL+dK/hOXcnCc2zb+bhy73hiTOv5zsb3yS/cS/quh8Iz2oxL9vxmJeqiumv4KI8U9bR86/p6Gg8uYZwr9rqVXAsI2xv4XlGUgS666/hxEI/Fy2w7+zLs8PnvzAv0leVBFP78a/KcU90u3I0r9jjzYjOJPIv2yhDUDP78W/z3tIWb0W0L+PikS6tjbSv2bvJE9+Hcm/AzbZBwSWzL+nSInR6kW8v1kM7UWvYrm/pCODXrM00L8I8rtNF6i/vxB932wXW7a/",
          "dtype": "f8"
         },
         "xaxis": "x5",
         "y": {
          "bdata": "S8+KKXALEsAmFUAIaLARwJXyuuyEbhLA70FHNglREsDdWLDqjy4SwICg89O1gBHAYZsDSPeoEcDILAfW514RwJmuz8qPYhLArDSUMIJ0EcBK8E9wjBMSwNPth5ZiYhHAR38DhAq5EcBe32DXeRsSwOf2d9a9ZxLAqHFTGZPIEsCX60C7nAITwFCVs1ub0xLAcQ5GBQq4EcBuuxC8sc4RwMhJn9A7NhLAbHbX/2eJEcA61L6y+fkRwHwOO+wqexLA/lP7dkO/EcBWtBlRn8IRwO6xd2VoQBLAb6iLRwBaEsDEbrVYrxESwJrPnVEk3BLAxDiotowAEsDcpeMViiUSwMJSlcnAVBLA79iWEQUwEsBt0wms35gSwMD6wcnT4RHAV0+NVwdwEsC10o6vg2ASwHIRfzsx1xHA6Z79NWTdEcBGc4DUZ1ISwKDrGYzckBLAeAuflb4lEcD8y0SqRvcRwDgTFQnNzhHARwYkKMT7EcChb1FCFQsSwL5MvSu/2RHALwE3svDoEcAvJKJnVrARwFB9WgY9LhLAxcCq8wG6EsAef4CD890RwH0nHCGHRBLAebSYNt4hEsCQCNlLmCUSwFWjYqBK6hHA5iQJ/O5lEsACf+HgKm0SwDyGJ/gkqBLALov8yLrPEcDEbrA3Eb4RwNVoTeYCwhHAJNXdlOHXEsAwYrjNFU4SwIaJFER/0xLAZsY1r6PLEcD3yeo3fq8SwAxBLtb1lxHA6wyWR+64EcAJBbe+n1sSwM52PuChJhLAsbI/u4QuEsA75kIVg8gRwJI0sRjmfxHA",
          "dtype": "f8"
         },
         "yaxis": "y5"
        },
        {
         "marker": {
          "line": {
           "color": "white",
           "width": 1
          },
          "opacity": 0.7,
          "size": 8
         },
         "mode": "markers",
         "name": "Cluster 3",
         "type": "scatter",
         "x": {
          "bdata": "RNthwFkVCECCKa2nz4sHQH/ASe5YTQdAXciBf0vTB0BBSKEK5kcHQArQP47d4wdALCabbXf5B0AEfx8OP68HQM5FfHUK5wdAdd8AdT4xB0CqGkNArPMGQPCtSV26NwhA3Z/ZCbWuCED4FiVp59YGQAbSHNS2kQZAD5IH1QISCEC11BshaVMHQGQIJwwIBghAVikVWy4+B0C5bXrTwqQGQFXZrzheUghA0x1nXLacBkBD79BznyIIQJYZZ0RvcAdAip1/Up2jB0B3D8QSkMkGQJ9cuJuymwdAOXO32dQcCEDoedvPIPIGQGC8MMg+LglAejgvJbeoB0CDf9L5ReIIQARPeKSfgghAakyC5J8dB0BnmLGnQoMGQGBOgm52hQhAN+4cEtL9BUDmX5fc1jcIQLAc3JlTBQhAw5hKYsl+CEA0djhSUAoIQG/B3rktjAdAXD+n5ZORB0CpTXoSUWMIQEcsuV510AZA/DltnLIECEC7V48pg4MIQClKnoayEQhA",
          "dtype": "f8"
         },
         "xaxis": "x5",
         "y": {
          "bdata": "2RcXcW5fEcDMXDjZ7xwSwBVTUW/S+BHAtbhLhYjaEcCV2R0aKrwRwMUvyQT9bhHAYBGEX0T7EcA6IRd3idsRwO7QpBVL+BHAY5Dm2bwZEsAeLr+ctxUSwNli1MRWAhLAIdyPxXbPEcC8ka6ryhUSwPGnmjYT4xHAULGf7K4REsAQ2dBsTJARwIe39fF/vhHAEQlA6lRdEcA1ETmTkZ8RwJIcKTE0OBHAsh8kCNwBEsCD/WPOdAwSwFw7PDi1khHAuiYej1sVEsAbsluP54YRwOue8LT3QBHAmPGdPrgYEsBdDpc8uf4RwAR5JqLjfBHABVr01bbLEcBTH+tSv7wRwC99zXY7wRHAJ4WG/25dEcA6LatjGwYSwPlhPgjo3BHAxAEbPmeaEcDQTUwTNlARwOqL1HM9hBHAr2LDUX/5EcC3hblCGL4RwLayuzxvvhHAMPHTs3kdEsA9If7ci4kRwMFCsU1k6hHAIv/ESwuyEcAtV4s6eCMRwFTQf9t5CBLA",
          "dtype": "f8"
         },
         "yaxis": "y5"
        },
        {
         "marker": {
          "line": {
           "color": "white",
           "width": 1
          },
          "opacity": 0.7,
          "size": 8
         },
         "mode": "markers",
         "name": "Cluster 4",
         "type": "scatter",
         "x": {
          "bdata": "NdTjPlRjCECiv8WhEFIIQENfxBgZNwdAVLKRk7iuCEBHP+hQoLEIQGxbry+V2AhA4rgRjanmCEDYYBsRdP0GQJso3Vz6UAdAOm9Fg/3MBUAezEizFRUHQMo8tDZp8QZAhe4/sN7SCECdPEDejuwHQGy/cFGM3ghAt4stWKsrB0A+DPE0XKoIQDJhtuvOWAdAp83Wb3JrCEAVRdYj/7sGQMpM+fSY3AhAxxj2BCVFCUCxbwkhbYsIQJqkLM2QMwhArsdO3LfaB0BWTqtQzFMIQIRhAaIZrAhA",
          "dtype": "f8"
         },
         "xaxis": "x5",
         "y": {
          "bdata": "G5Xowxk8EsBQu2b61TMSwMvxXz99MBLAl9NZPWF4EsDsXpHxcdcSwI6a9aljRRLAtk5iyRRqEsBLd967CHcSwBXm/h6dlxLA3IReiaNXEsB0l1qLvnUSwD7+b1mFgBLAXISdnPdLEsA7Xaz+CWUSwN3xp1R8RxLARtIrzCVKEsC/thol3iESwPzVZwY3QhLA8ZVsHv0WEsAHpKUA328SwLeThCtMVhLAeuNUAFckEsA4z5u3RXwSwI9o7VDDjhLAavt8xRHjEsCe8t6v4bkSwNdtZYiRVxLA",
          "dtype": "f8"
         },
         "yaxis": "y5"
        },
        {
         "marker": {
          "line": {
           "color": "white",
           "width": 1
          },
          "opacity": 0.7,
          "size": 8
         },
         "mode": "markers",
         "name": "Cluster 5",
         "type": "scatter",
         "x": [],
         "xaxis": "x5",
         "y": [],
         "yaxis": "y5"
        },
        {
         "marker": {
          "line": {
           "color": "white",
           "width": 1
          },
          "opacity": 0.7,
          "size": 12
         },
         "mode": "markers",
         "name": "Centers",
         "type": "scatter",
         "x": {
          "bdata": "lMq227kqIkByHYfL6aIRwHiix+KZw8i/FAFIUO7CB0BQvxUU2usHQA==",
          "dtype": "f8"
         },
         "xaxis": "x5",
         "y": {
          "bdata": "lpih7drSC8AHo9GSorsYQAOYTlBjFxLAJEKZMpzLEcBsaHWPIXASwA==",
          "dtype": "f8"
         },
         "yaxis": "y5"
        },
        {
         "marker": {
          "line": {
           "color": "white",
           "width": 1
          },
          "opacity": 0.7,
          "size": 8
         },
         "mode": "markers",
         "name": "Cluster 0",
         "type": "scatter",
         "x": {
          "bdata": "1vHpIG0WIkDy6XA9iCQiQFPXZrJaDiJAdv8agD3mIUADMYoSHT0iQBiO22a/KSJA1P5b9ezNIUCZFqRl6xciQB/47TFyPyJAw+wsmh4iIkDitYELp4oiQCwD68LIUSJAJ8x1ye3kIUDjExiRxikiQJVR07xDHCJAufH1PW0fIkD59PncPggiQCxs4Wx1gCJAsm1UK06oIkBxMN3WXgQiQOGyQSXzPSJAUn6XHyBMIkDtcCw3FFQiQMqxnKavdiJASNcIRjgeIkCXTERwuDQiQI1mwsk6EiJAOHdlmjRSIkCrusYr8xYiQOwoyw0/QSJAtPgIt3VUIkBWb981KkIiQMRVz2reLCJAYrKNLlpUIkBepAXO9TciQHLQnjj16CFAcBy63GpIIkDWK3at1A0iQBvJV05hQSJAk76D8BUAIkAcxlX4bE4iQO8ksEseyyFAB/IzjDtCIkBQXgDRDyEiQMIR5+iLZCJA2CqU1Tw9IkAlciYzYgAiQCob6f7XryFAKCIzEdMYIkAGVZxdylQiQF1RDuLLPCJAODo33Gc4IkCAenSa7/QhQFUK9T2p8CFAtV4ghTPrIUBf5mNbzP8hQH3rtPHTriJApBnUj2sXIkBc5a+d+0giQF2jCGBKRSJAmKsmzi4VIkA+tBkJ8EUiQEpU5qcEjyJAgUUSIpJXIkAvGWxPM04iQP1dWMnyFiJAgGO6dVYTIkAB4PWnQ1MiQHY95XcHwyFAy8DM1aLsIUBXPACsgyQiQDmXji4J6iFAu8Jm75xDIkDHnV73CiIiQPfcAhNoDSJA",
          "dtype": "f8"
         },
         "xaxis": "x6",
         "y": {
          "bdata": "zlhp0DDuC8DrBDfdrQcLwOGh+Gdw8QrAqjA6lfiFDMAIJkskQB4NwMrzKpWUWgvACbKh7CeCDMBy1xmzTOILwIiOzMgHHwzAgGi8zWpIC8AkB3eOlvcLwPU6XA4XZA3Az9WMXIDcDMDao4DFufIJwJZfyHH5JQvAvRTZKnZyC8DevTg0CLcMwLWgm/MkIAvAoPW+TxZoC8CvNnEuLdwKwPUdYVQ/RwzAyInBC03PC8Bh76FzZMsMwLKsp3eTrAzA6UMRa2uyC8CIheCyal4LwALztqS/3gvA97sY5zuvDMC08jR/HG4LwAGBrucQkQvAuQaAx96SC8Cdl2Gl77kKwIXt4vJcagvAmQoMRarECsCMj1Ed9GwMwLLXdIRMHwvAXmZmATviC8A2aN56tVILwJNwmSa5xgzAGZOSFyZ+C8BqzuJZauULwGtLvgYM+gvA2T+xGDt0CsBBXzYQl3wLwOJUl25nYQzAreZ/9h7gC8DBGGvQJuMIwHZx2yvtIw3A1RVdmgeoC8AG8XViufAMwFTEGtT/TwzAqkrLsZpXDcCDnTikv30LwO/8kZTylwzAzauQR81UC8D6cN8UhUkMwJYTohokbQzAEJuxYuJ4DcBWVHPVVzsLwNZ7MhCYwgrA+DsawW+pDMB360xJ4mYMwDMY/32g3wrAUzoHMOJKC8B7l+kEJy8LwPaf1aJ0pAvANk+2GRbrCsAzEzONDxoMwJIK0+DlOgvAfXO6xgciDMAja+hcGW4LwPwQvwXA/wvAeFrbxbOEDMDcjo3m3m0NwINsooHFxAvA",
          "dtype": "f8"
         },
         "yaxis": "y6"
        },
        {
         "marker": {
          "line": {
           "color": "white",
           "width": 1
          },
          "opacity": 0.7,
          "size": 8
         },
         "mode": "markers",
         "name": "Cluster 1",
         "type": "scatter",
         "x": {
          "bdata": "/nDeXMoHEcD5wd2sTVIRwIN7b6LMoRHA3ME6e//9EcC//Vv9DVoRwE88XGX8shHAexRfz+9CEcDb+p82SFMRwMtsqbF2HhLADmWa/dnLEcBLs/T82fARwBo/1xsAxxHAbJgtZllUEcAjjUckZDoSwB2VBcDJDhLAuxpcGcH3EcCxqvRgO28RwCFc4UyUlBHA3L2CbdE9EsApQbHi1h4SwENvm7AdehLAMXXeSZNlEcABlMzTAvYRwIZUZqPFdRHAovbPQPfnEcDIDVqevzESwGYKVMjBWBLAo1mcXf59EcCUz9CxOAQSwAw4apTyWxHAlqPjfn2KEcDIWZkYRHARwP7GSwnq6hHA0sZ9KELXEcDIIx1TBm8RwCnUSyjAfhLAMEyIgVuvEMBjnTgXHs8RwFOcQJK0ZBLAIzLNoq5hEcCHGoalK+IRwG4IDPQPXhHA52KAMOdJEsD9TULEub0RwDOX0naQ6BHA175hSK0NEsChk2zMtIcSwA==",
          "dtype": "f8"
         },
         "xaxis": "x6",
         "y": {
          "bdata": "QBXku2eDGEBaoZqerZYYQB6HBaIdFhhAtDnO7S5xF0A7Hhhmm4cYQEojn1HFhBhAANfxYJcoGEBJ7LelhZEYQB+sNngAgRhAuTgI3d+lGEDmi4b73DMYQBzJf0fStRhAd/iISgLSF0A+KusS8vIXQJS8z7NI3RhAyOW1fxBqGEDvKY3sUGcYQDzpNdaiiBhAY6wWnvDaGEBdPgqnlnwYQF3RaAksARlAezEL4JGyGECEZUDCkWIYQBujDY5oRxhAYE2/taKLGECThJxQ3WAYQNPK9Sz9fhhA9DpdYECrGECTXUxFqmYYQAXMtddmsxhA2rw5qV3EGECYpiBm6V4YQEY8M0VarBhAgYZRZVHwGEC1gfV/RYQYQB+No2pJ1RhAD6kmuytCGEAepNSl5ccYQEyYZxT1xBhAtEpyb84bGEDTV45dU7wYQCajnaoPiBhAl+E8v2eQGEDd8qcdTscYQPEVDZXv+hdATWACWnH5GEBrtx02/OYYQA==",
          "dtype": "f8"
         },
         "yaxis": "y6"
        },
        {
         "marker": {
          "line": {
           "color": "white",
           "width": 1
          },
          "opacity": 0.7,
          "size": 8
         },
         "mode": "markers",
         "name": "Cluster 2",
         "type": "scatter",
         "x": {
          "bdata": "a9wYeQaHxr9dUVHNbx6cP+4U9HeJOsa/UKH3sXfmzr/BOFX/X9TBvwtS5qO6KNK/CsbAdN5lyb+nmjHwE27Lv/1B1sYBCMu/sCcjKz431b+HIcenrNTKvzP/piGX58q/TfLZI06I2b/oSMIZPRbJvyYs8jM418i/WFZ+CG1/zL94ES0V6iGnv9cVeyKtk8C/fp2Prrx00b9BE9WR1XO+v8D0r4xsBLO/vLNgLgJYsL8PCNkYPrjZv8jCbGak6sG/jhF44PSPxr9mmtxeJ/TJv+lhyIzhc8e/Gg/AjRRD079hqKApItWNvy2FmWV04Mu/lOFrg5Ls0b/B2mNRBCrLv9Yy9rQOEMK/EmiwypyM0L9NOTbPR77Jv8DTJCNGZdu/1A6akJ7U079S+732E4vMv3HpUZEy5ta/VF75J0fbw78cM3ADNSCwv2I6NHN9i66/ZMAqw4Xut7+kOTfKlK60vyo7xvBnJNK/3JHIsxCCzL/cbtD0SuHIv+VR4uP5Pda/7Z+ZPgTrzb+RYUv6qLfQv1N+fepL+dK/hOXcnCc2zb+bhy73hiTOv5zsb3yS/cS/quh8Iz2oxL9vxmJeqiumv4KI8U9bR86/p6Gg8uYZwr9rqVXAsI2xv4XlGUgS666/hxEI/Fy2w7+zLs8PnvzAv0leVBFP78a/KcU90u3I0r9jjzYjOJPIv2yhDUDP78W/z3tIWb0W0L+PikS6tjbSv2bvJE9+Hcm/AzbZBwSWzL+nSInR6kW8v1kM7UWvYrm/pCODXrM00L8I8rtNF6i/vxB932wXW7a/",
          "dtype": "f8"
         },
         "xaxis": "x6",
         "y": {
          "bdata": "S8+KKXALEsAmFUAIaLARwJXyuuyEbhLA70FHNglREsDdWLDqjy4SwICg89O1gBHAYZsDSPeoEcDILAfW514RwJmuz8qPYhLArDSUMIJ0EcBK8E9wjBMSwNPth5ZiYhHAR38DhAq5EcBe32DXeRsSwOf2d9a9ZxLAqHFTGZPIEsCX60C7nAITwFCVs1ub0xLAcQ5GBQq4EcBuuxC8sc4RwMhJn9A7NhLAbHbX/2eJEcA61L6y+fkRwHwOO+wqexLA/lP7dkO/EcBWtBlRn8IRwO6xd2VoQBLAb6iLRwBaEsDEbrVYrxESwJrPnVEk3BLAxDiotowAEsDcpeMViiUSwMJSlcnAVBLA79iWEQUwEsBt0wms35gSwMD6wcnT4RHAV0+NVwdwEsC10o6vg2ASwHIRfzsx1xHA6Z79NWTdEcBGc4DUZ1ISwKDrGYzckBLAeAuflb4lEcD8y0SqRvcRwDgTFQnNzhHARwYkKMT7EcChb1FCFQsSwL5MvSu/2RHALwE3svDoEcAvJKJnVrARwFB9WgY9LhLAxcCq8wG6EsAef4CD890RwH0nHCGHRBLAebSYNt4hEsCQCNlLmCUSwFWjYqBK6hHA5iQJ/O5lEsACf+HgKm0SwDyGJ/gkqBLALov8yLrPEcDEbrA3Eb4RwNVoTeYCwhHAJNXdlOHXEsAwYrjNFU4SwIaJFER/0xLAZsY1r6PLEcD3yeo3fq8SwAxBLtb1lxHA6wyWR+64EcAJBbe+n1sSwM52PuChJhLAsbI/u4QuEsA75kIVg8gRwJI0sRjmfxHA",
          "dtype": "f8"
         },
         "yaxis": "y6"
        },
        {
         "marker": {
          "line": {
           "color": "white",
           "width": 1
          },
          "opacity": 0.7,
          "size": 8
         },
         "mode": "markers",
         "name": "Cluster 3",
         "type": "scatter",
         "x": {
          "bdata": "RNthwFkVCEA11OM+VGMIQKK/xaEQUghAXciBf0vTB0BUspGTuK4IQGxbry+V2AhACtA/jt3jB0DiuBGNqeYIQCwmm213+QdABH8fDj+vB0DORXx1CucHQPCtSV26NwhA3Z/ZCbWuCEAPkgfVAhIIQLXUGyFpUwdAZAgnDAgGCEBWKRVbLj4HQFXZrzheUghAQ+/Qc58iCECWGWdEb3AHQJ9cuJuymwdAOXO32dQcCECF7j+w3tIIQGC8MMg+LglAbL9wUYzeCEB6OC8lt6gHQIN/0vlF4ghAPgzxNFyqCEAET3ikn4IIQGpMguSfHQdAp83Wb3JrCEDKTPn0mNwIQGBOgm52hQhA5l+X3NY3CECwHNyZUwUIQMOYSmLJfghAxxj2BCVFCUCxbwkhbYsIQDR2OFJQCghAb8HeuS2MB0CpTXoSUWMIQPw5bZyyBAhAu1ePKYODCECEYQGiGawIQClKnoayEQhA",
          "dtype": "f8"
         },
         "xaxis": "x6",
         "y": {
          "bdata": "2RcXcW5fEcAblejDGTwSwFC7ZvrVMxLAtbhLhYjaEcCX01k9YXgSwI6a9aljRRLAxS/JBP1uEcC2TmLJFGoSwGARhF9E+xHAOiEXd4nbEcDu0KQVS/gRwNli1MRWAhLAIdyPxXbPEcBQsZ/srhESwBDZ0GxMkBHAh7f18X++EcARCUDqVF0RwJIcKTE0OBHAg/1jznQMEsBcOzw4tZIRwOue8LT3QBHAmPGdPrgYEsBchJ2c90sSwAR5JqLjfBHA3fGnVHxHEsAFWvTVtssRwFMf61K/vBHAv7YaJd4hEsAvfc12O8ERwCeFhv9uXRHA8ZVsHv0WEsC3k4QrTFYSwPlhPgjo3BHA0E1MEzZQEcDqi9RzPYQRwK9iw1F/+RHAeuNUAFckEsA4z5u3RXwSwLeFuUIYvhHAtrK7PG++EcA9If7ci4kRwCL/xEsLshHALVeLOngjEcDXbWWIkVcSwFTQf9t5CBLA",
          "dtype": "f8"
         },
         "yaxis": "y6"
        },
        {
         "marker": {
          "line": {
           "color": "white",
           "width": 1
          },
          "opacity": 0.7,
          "size": 8
         },
         "mode": "markers",
         "name": "Cluster 4",
         "type": "scatter",
         "x": {
          "bdata": "geUtfwBGEcAypXe0l8MRwCTXcwguXRHA+BzXZF9LEcBgPk/wJmoRwEyqSE6lABHAzYuL0T9gEcDil5yepDkRwOrPQ9DPCxHACT4/5Mj0EcBFY9eRD10RwB3lSk5nuBHAfcgiJDaQEcAsbCtEROYRwCADJ1NTqBHAZ7IJpYR9EcCD/bJ1kSkRwHskBYQ8kxHA3HzvC1U2EcDImfdhdgsRwAMb8XXxxBDAtJDRs6iQEcDNOxymWYoRwFpq77A23xDAXMft5kIjEcCmFjLsdZ8RwFb+mWF4ZRHAaN4Um8PkEcA=",
          "dtype": "f8"
         },
         "xaxis": "x6",
         "y": {
          "bdata": "aZEng10WGUBKc9exXxMZQPzBReqo+hhAZOB8hF3dGEDuLJMLz80YQHhLK2BUhBhAuSKO5gfjGEA5XIjFFwQZQIOWnxy5KRlAqFzIXKF1GUA32BLvnS0ZQFlFE6a27xhAyTUmGc5CGUBf0/P0wjIZQNNRrDivOxlAjA31aIbKGECRVdebMNoYQMYMKcumCRlA+4UlcQ1rGUC4udW3PDIZQHpAf9c2AxlAkPpj/DerGUCxf0qAcUEZQLAjDOK4PBlAdV3alnEiGUA/VTHMqDUZQMJIqhWQVhlA2kbK8jNSGUA=",
          "dtype": "f8"
         },
         "yaxis": "y6"
        },
        {
         "marker": {
          "line": {
           "color": "white",
           "width": 1
          },
          "opacity": 0.7,
          "size": 8
         },
         "mode": "markers",
         "name": "Cluster 5",
         "type": "scatter",
         "x": {
          "bdata": "gimtp8+LB0B/wEnuWE0HQENfxBgZNwdARz/oUKCxCEBBSKEK5kcHQHXfAHU+MQdA2GAbEXT9BkCqGkNArPMGQJso3Vz6UAdA+BYlaefWBkAG0hzUtpEGQDpvRYP9zAVAHsxIsxUVB0DKPLQ2afEGQLltetPCpAZA0x1nXLacBkCKnX9SnaMHQHcPxBKQyQZA6HnbzyDyBkCdPEDejuwHQLeLLVirKwdAMmG2685YB0BnmLGnQoMGQBVF1iP/uwZAN+4cEtL9BUCapCzNkDMIQFw/p+WTkQdArsdO3LfaB0BHLLleddAGQFZOq1DMUwhA",
          "dtype": "f8"
         },
         "xaxis": "x6",
         "y": {
          "bdata": "zFw42e8cEsAVU1Fv0vgRwMvxXz99MBLA7F6R8XHXEsCV2R0aKrwRwGOQ5tm8GRLAS3feuwh3EsAeLr+ctxUSwBXm/h6dlxLAvJGuq8oVEsDxp5o2E+MRwNyEXomjVxLAdJdai751EsA+/m9ZhYASwDUROZORnxHAsh8kCNwBEsC6Jh6PWxUSwBuyW4/nhhHAXQ6XPLn+EcA7Xaz+CWUSwEbSK8wlShLA/NVnBjdCEsA6LatjGwYSwAekpQDfbxLAxAEbPmeaEcCPaO1Qw44SwDDx07N5HRLAavt8xRHjEsDBQrFNZOoRwJ7y3q/huRLA",
          "dtype": "f8"
         },
         "yaxis": "y6"
        },
        {
         "marker": {
          "line": {
           "color": "white",
           "width": 1
          },
          "opacity": 0.7,
          "size": 8
         },
         "mode": "markers",
         "name": "Cluster 6",
         "type": "scatter",
         "x": [],
         "xaxis": "x6",
         "y": [],
         "yaxis": "y6"
        },
        {
         "marker": {
          "line": {
           "color": "white",
           "width": 1
          },
          "opacity": 0.7,
          "size": 12
         },
         "mode": "markers",
         "name": "Centers",
         "type": "scatter",
         "x": {
          "bdata": "lMq227kqIkC9RhrwOMERwHiix+KZw8i/EDNNCSU5CEDZymCCS2YRwN4KRL3fJwdA",
          "dtype": "f8"
         },
         "xaxis": "x6",
         "y": {
          "bdata": "lpih7drSC8C72cfQioUYQAOYTlBjFxLA+wTmNgLbEcCaNeUW0icZQITB38SqNRLA",
          "dtype": "f8"
         },
         "yaxis": "y6"
        },
        {
         "marker": {
          "line": {
           "color": "white",
           "width": 1
          },
          "opacity": 0.7,
          "size": 8
         },
         "mode": "markers",
         "name": "Cluster 0",
         "type": "scatter",
         "x": {
          "bdata": "geUtfwBGEcAypXe0l8MRwCTXcwguXRHA+BzXZF9LEcBgPk/wJmoRwM2Li9E/YBHA4pecnqQ5EcDqz0PQzwsRwAk+P+TI9BHAGj/XGwDHEcBFY9eRD10RwB3lSk5nuBHAHZUFwMkOEsB9yCIkNpARwCxsK0RE5hHAIAMnU1OoEcBnsgmlhH0RwIP9snWRKRHA3L2CbdE9EsBDb5uwHXoSwDF13kmTZRHAeyQFhDyTEcDcfO8LVTYRwMiZ92F2CxHAAxvxdfHEEMC0kNGzqJARwAw4apTyWxHAlqPjfn2KEcDSxn0oQtcRwM07HKZZihHAKdRLKMB+EsBjnTgXHs8RwFOcQJK0ZBLAWmrvsDbfEMBcx+3mQiMRwIcahqUr4hHAphYy7HWfEcBW/plheGURwP1NQsS5vRHA175hSK0NEsChk2zMtIcSwGjeFJvD5BHA",
          "dtype": "f8"
         },
         "xaxis": "x7",
         "y": {
          "bdata": "aZEng10WGUBKc9exXxMZQPzBReqo+hhAZOB8hF3dGEDuLJMLz80YQLkijuYH4xhAOVyIxRcEGUCDlp8cuSkZQKhcyFyhdRlAHMl/R9K1GEA32BLvnS0ZQFlFE6a27xhAlLzPs0jdGEDJNSYZzkIZQF/T8/TCMhlA01GsOK87GUCMDfVohsoYQJFV15sw2hhAY6wWnvDaGEBd0WgJLAEZQHsxC+CRshhAxgwpy6YJGUD7hSVxDWsZQLi51bc8MhlAekB/1zYDGUCQ+mP8N6sZQAXMtddmsxhA2rw5qV3EGECBhlFlUfAYQLF/SoBxQRlAH42jaknVGEAepNSl5ccYQEyYZxT1xBhAsCMM4rg8GUB1XdqWcSIZQNNXjl1TvBhAP1UxzKg1GUDCSKoVkFYZQN3ypx1OxxhATWACWnH5GEBrtx02/OYYQNpGyvIzUhlA",
          "dtype": "f8"
         },
         "yaxis": "y7"
        },
        {
         "marker": {
          "line": {
           "color": "white",
           "width": 1
          },
          "opacity": 0.7,
          "size": 8
         },
         "mode": "markers",
         "name": "Cluster 1",
         "type": "scatter",
         "x": {
          "bdata": "RNthwFkVCEA11OM+VGMIQKK/xaEQUghAXciBf0vTB0BUspGTuK4IQGxbry+V2AhAQUihCuZHB0AK0D+O3eMHQOK4EY2p5ghALCabbXf5B0AEfx8OP68HQM5FfHUK5wdA8K1JXbo3CEDdn9kJta4IQA+SB9UCEghAtdQbIWlTB0BkCCcMCAYIQFYpFVsuPgdAVdmvOF5SCEBD79BznyIIQJYZZ0RvcAdAdw/EEpDJBkCfXLibspsHQDlzt9nUHAhAhe4/sN7SCEBgvDDIPi4JQGy/cFGM3ghAejgvJbeoB0CDf9L5ReIIQD4M8TRcqghABE94pJ+CCEBqTILknx0HQKfN1m9yawhAykz59JjcCEBgToJudoUIQOZfl9zWNwhAsBzcmVMFCEDDmEpiyX4IQMcY9gQlRQlANHY4UlAKCEBvwd65LYwHQKlNehJRYwhA/DltnLIECEC7V48pg4MIQIRhAaIZrAhAKUqehrIRCEA=",
          "dtype": "f8"
         },
         "xaxis": "x7",
         "y": {
          "bdata": "2RcXcW5fEcAblejDGTwSwFC7ZvrVMxLAtbhLhYjaEcCX01k9YXgSwI6a9aljRRLAldkdGiq8EcDFL8kE/W4RwLZOYskUahLAYBGEX0T7EcA6IRd3idsRwO7QpBVL+BHA2WLUxFYCEsAh3I/Fds8RwFCxn+yuERLAENnQbEyQEcCHt/Xxf74RwBEJQOpUXRHAkhwpMTQ4EcCD/WPOdAwSwFw7PDi1khHAG7Jbj+eGEcDrnvC090ARwJjxnT64GBLAXISdnPdLEsAEeSai43wRwN3xp1R8RxLABVr01bbLEcBTH+tSv7wRwL+2GiXeIRLAL33NdjvBEcAnhYb/bl0RwPGVbB79FhLAt5OEK0xWEsD5YT4I6NwRwNBNTBM2UBHA6ovUcz2EEcCvYsNRf/kRwHrjVABXJBLAt4W5Qhi+EcC2srs8b74RwD0h/tyLiRHAIv/ESwuyEcAtV4s6eCMRwNdtZYiRVxLAVNB/23kIEsA=",
          "dtype": "f8"
         },
         "yaxis": "y7"
        },
        {
         "marker": {
          "line": {
           "color": "white",
           "width": 1
          },
          "opacity": 0.7,
          "size": 8
         },
         "mode": "markers",
         "name": "Cluster 2",
         "type": "scatter",
         "x": {
          "bdata": "1vHpIG0WIkDy6XA9iCQiQFPXZrJaDiJAdv8agD3mIUADMYoSHT0iQBiO22a/KSJA1P5b9ezNIUCZFqRl6xciQB/47TFyPyJAw+wsmh4iIkDitYELp4oiQCwD68LIUSJAJ8x1ye3kIUDjExiRxikiQJVR07xDHCJAufH1PW0fIkD59PncPggiQCxs4Wx1gCJAsm1UK06oIkBxMN3WXgQiQOGyQSXzPSJAUn6XHyBMIkDtcCw3FFQiQMqxnKavdiJASNcIRjgeIkCXTERwuDQiQI1mwsk6EiJAOHdlmjRSIkCrusYr8xYiQOwoyw0/QSJAtPgIt3VUIkBWb981KkIiQMRVz2reLCJAYrKNLlpUIkBepAXO9TciQHLQnjj16CFAcBy63GpIIkDWK3at1A0iQBvJV05hQSJAk76D8BUAIkAcxlX4bE4iQO8ksEseyyFAB/IzjDtCIkBQXgDRDyEiQMIR5+iLZCJA2CqU1Tw9IkAlciYzYgAiQCob6f7XryFAKCIzEdMYIkAGVZxdylQiQF1RDuLLPCJAODo33Gc4IkCAenSa7/QhQFUK9T2p8CFAtV4ghTPrIUBf5mNbzP8hQH3rtPHTriJApBnUj2sXIkBc5a+d+0giQF2jCGBKRSJAmKsmzi4VIkA+tBkJ8EUiQEpU5qcEjyJAgUUSIpJXIkAvGWxPM04iQP1dWMnyFiJAgGO6dVYTIkAB4PWnQ1MiQHY95XcHwyFAy8DM1aLsIUBXPACsgyQiQDmXji4J6iFAu8Jm75xDIkDHnV73CiIiQPfcAhNoDSJA",
          "dtype": "f8"
         },
         "xaxis": "x7",
         "y": {
          "bdata": "zlhp0DDuC8DrBDfdrQcLwOGh+Gdw8QrAqjA6lfiFDMAIJkskQB4NwMrzKpWUWgvACbKh7CeCDMBy1xmzTOILwIiOzMgHHwzAgGi8zWpIC8AkB3eOlvcLwPU6XA4XZA3Az9WMXIDcDMDao4DFufIJwJZfyHH5JQvAvRTZKnZyC8DevTg0CLcMwLWgm/MkIAvAoPW+TxZoC8CvNnEuLdwKwPUdYVQ/RwzAyInBC03PC8Bh76FzZMsMwLKsp3eTrAzA6UMRa2uyC8CIheCyal4LwALztqS/3gvA97sY5zuvDMC08jR/HG4LwAGBrucQkQvAuQaAx96SC8Cdl2Gl77kKwIXt4vJcagvAmQoMRarECsCMj1Ed9GwMwLLXdIRMHwvAXmZmATviC8A2aN56tVILwJNwmSa5xgzAGZOSFyZ+C8BqzuJZauULwGtLvgYM+gvA2T+xGDt0CsBBXzYQl3wLwOJUl25nYQzAreZ/9h7gC8DBGGvQJuMIwHZx2yvtIw3A1RVdmgeoC8AG8XViufAMwFTEGtT/TwzAqkrLsZpXDcCDnTikv30LwO/8kZTylwzAzauQR81UC8D6cN8UhUkMwJYTohokbQzAEJuxYuJ4DcBWVHPVVzsLwNZ7MhCYwgrA+DsawW+pDMB360xJ4mYMwDMY/32g3wrAUzoHMOJKC8B7l+kEJy8LwPaf1aJ0pAvANk+2GRbrCsAzEzONDxoMwJIK0+DlOgvAfXO6xgciDMAja+hcGW4LwPwQvwXA/wvAeFrbxbOEDMDcjo3m3m0NwINsooHFxAvA",
          "dtype": "f8"
         },
         "yaxis": "y7"
        },
        {
         "marker": {
          "line": {
           "color": "white",
           "width": 1
          },
          "opacity": 0.7,
          "size": 8
         },
         "mode": "markers",
         "name": "Cluster 3",
         "type": "scatter",
         "x": {
          "bdata": "a9wYeQaHxr9Qofexd+bOvwtS5qO6KNK/CsbAdN5lyb+nmjHwE27Lv7AnIys+N9W/hyHHp6zUyr8z/6Yhl+fKv03y2SNOiNm/6EjCGT0Wyb9+nY+uvHTRv0ET1ZHVc76/vLNgLgJYsL8PCNkYPrjZv44ReOD0j8a/ZprcXif0yb8aD8CNFEPTv5Tha4OS7NG/wdpjUQQqy78SaLDKnIzQv8DTJCNGZdu/1A6akJ7U079S+732E4vMv3HpUZEy5ta/VF75J0fbw79kwCrDhe63vyo7xvBnJNK/3JHIsxCCzL/cbtD0SuHIv+VR4uP5Pda/7Z+ZPgTrzb+RYUv6qLfQv1N+fepL+dK/m4cu94Ykzr+CiPFPW0fOv4cRCPxctsO/sy7PD578wL9JXlQRT+/Gv897SFm9FtC/j4pEurY20r9m7yRPfh3JvwM22QcElsy/pCODXrM00L8I8rtNF6i/vxB932wXW7a/",
          "dtype": "f8"
         },
         "xaxis": "x7",
         "y": {
          "bdata": "S8+KKXALEsDvQUc2CVESwICg89O1gBHAYZsDSPeoEcDILAfW514RwKw0lDCCdBHASvBPcIwTEsDT7YeWYmIRwEd/A4QKuRHAXt9g13kbEsBxDkYFCrgRwG67ELyxzhHAbHbX/2eJEcA61L6y+fkRwP5T+3ZDvxHAVrQZUZ/CEcBvqItHAFoSwMQ4qLaMABLA3KXjFYolEsDv2JYRBTASwMD6wcnT4RHAV0+NVwdwEsC10o6vg2ASwHIRfzsx1xHA6Z79NWTdEcB4C5+VviURwDgTFQnNzhHARwYkKMT7EcChb1FCFQsSwL5MvSu/2RHALwE3svDoEcAvJKJnVrARwFB9WgY9LhLAHn+Ag/PdEcBVo2KgSuoRwC6L/Mi6zxHAxG6wNxG+EcDVaE3mAsIRwGbGNa+jyxHA98nqN36vEsAMQS7W9ZcRwOsMlkfuuBHAsbI/u4QuEsA75kIVg8gRwJI0sRjmfxHA",
          "dtype": "f8"
         },
         "yaxis": "y7"
        },
        {
         "marker": {
          "line": {
           "color": "white",
           "width": 1
          },
          "opacity": 0.7,
          "size": 8
         },
         "mode": "markers",
         "name": "Cluster 4",
         "type": "scatter",
         "x": {
          "bdata": "gimtp8+LB0B/wEnuWE0HQENfxBgZNwdARz/oUKCxCEB13wB1PjEHQNhgGxF0/QZAqhpDQKzzBkCbKN1c+lAHQPgWJWnn1gZABtIc1LaRBkA6b0WD/cwFQB7MSLMVFQdAyjy0NmnxBkC5bXrTwqQGQNMdZ1y2nAZAip1/Up2jB0DoedvPIPIGQJ08QN6O7AdAt4stWKsrB0AyYbbrzlgHQGeYsadCgwZAFUXWI/+7BkA37hwS0v0FQLFvCSFtiwhAmqQszZAzCEBcP6flk5EHQK7HTty32gdARyy5XnXQBkBWTqtQzFMIQA==",
          "dtype": "f8"
         },
         "xaxis": "x7",
         "y": {
          "bdata": "zFw42e8cEsAVU1Fv0vgRwMvxXz99MBLA7F6R8XHXEsBjkObZvBkSwEt33rsIdxLAHi6/nLcVEsAV5v4enZcSwLyRrqvKFRLA8aeaNhPjEcDchF6Jo1cSwHSXWou+dRLAPv5vWYWAEsA1ETmTkZ8RwLIfJAjcARLAuiYej1sVEsBdDpc8uf4RwDtdrP4JZRLARtIrzCVKEsD81WcGN0ISwDotq2MbBhLAB6SlAN9vEsDEARs+Z5oRwDjPm7dFfBLAj2jtUMOOEsAw8dOzeR0SwGr7fMUR4xLAwUKxTWTqEcCe8t6v4bkSwA==",
          "dtype": "f8"
         },
         "yaxis": "y7"
        },
        {
         "marker": {
          "line": {
           "color": "white",
           "width": 1
          },
          "opacity": 0.7,
          "size": 8
         },
         "mode": "markers",
         "name": "Cluster 5",
         "type": "scatter",
         "x": {
          "bdata": "/nDeXMoHEcD5wd2sTVIRwIN7b6LMoRHA3ME6e//9EcC//Vv9DVoRwEyqSE6lABHATzxcZfyyEcB7FF/P70IRwNv6nzZIUxHAy2ypsXYeEsAOZZr92csRwEuz9PzZ8BHAbJgtZllUEcAjjUckZDoSwLsaXBnB9xHAsar0YDtvEcAhXOFMlJQRwClBseLWHhLAAZTM0wL2EcCGVGajxXURwKL2z0D35xHAyA1anr8xEsBmClTIwVgSwKNZnF3+fRHAlM/QsTgEEsDIWZkYRHARwP7GSwnq6hHAyCMdUwZvEcAwTIiBW68QwCMyzaKuYRHAbggM9A9eEcDnYoAw50kSwDOX0naQ6BHA",
          "dtype": "f8"
         },
         "xaxis": "x7",
         "y": {
          "bdata": "QBXku2eDGEBaoZqerZYYQB6HBaIdFhhAtDnO7S5xF0A7Hhhmm4cYQHhLK2BUhBhASiOfUcWEGEAA1/FglygYQEnst6WFkRhAH6w2eACBGEC5OAjd36UYQOaLhvvcMxhAd/iISgLSF0A+KusS8vIXQMjltX8QahhA7ymN7FBnGEA86TXWoogYQF0+CqeWfBhAhGVAwpFiGEAbow2OaEcYQGBNv7WiixhAk4ScUN1gGEDTyvUs/X4YQPQ6XWBAqxhAk11MRapmGECYpiBm6V4YQEY8M0VarBhAtYH1f0WEGEAPqSa7K0IYQLRKcm/OGxhAJqOdqg+IGECX4Ty/Z5AYQPEVDZXv+hdA",
          "dtype": "f8"
         },
         "yaxis": "y7"
        },
        {
         "marker": {
          "line": {
           "color": "white",
           "width": 1
          },
          "opacity": 0.7,
          "size": 8
         },
         "mode": "markers",
         "name": "Cluster 6",
         "type": "scatter",
         "x": {
          "bdata": "XVFRzW8enD/uFPR3iTrGv8E4Vf9f1MG//UHWxgEIy78mLPIzONfIv1hWfghtf8y/eBEtFeohp7/XFXsirZPAv8D0r4xsBLO/yMJsZqTqwb/pYciM4XPHv2GooCki1Y2/LYWZZXTgy7/WMva0DhDCv005Ns9Hvsm/HDNwAzUgsL9iOjRzfYuuv6Q5N8qUrrS/hOXcnCc2zb+c7G98kv3Ev6rofCM9qMS/b8ZiXqorpr+noaDy5hnCv2upVcCwjbG/heUZSBLrrr8pxT3S7cjSv2OPNiM4k8i/bKENQM/vxb+nSInR6kW8v1kM7UWvYrm/",
          "dtype": "f8"
         },
         "xaxis": "x7",
         "y": {
          "bdata": "JhVACGiwEcCV8rrshG4SwN1YsOqPLhLAma7Pyo9iEsDn9nfWvWcSwKhxUxmTyBLAl+tAu5wCE8BQlbNbm9MSwMhJn9A7NhLAfA477Cp7EsDusXdlaEASwMRutVivERLAms+dUSTcEsDCUpXJwFQSwG3TCazfmBLARnOA1GdSEsCg6xmM3JASwPzLRKpG9xHAxcCq8wG6EsB9Jxwhh0QSwHm0mDbeIRLAkAjZS5glEsDmJAn87mUSwAJ/4eAqbRLAPIYn+CSoEsAk1d2U4dcSwDBiuM0VThLAhokURH/TEsAJBbe+n1sSwM52PuChJhLA",
          "dtype": "f8"
         },
         "yaxis": "y7"
        },
        {
         "marker": {
          "line": {
           "color": "white",
           "width": 1
          },
          "opacity": 0.7,
          "size": 8
         },
         "mode": "markers",
         "name": "Cluster 7",
         "type": "scatter",
         "x": [],
         "xaxis": "x7",
         "y": [],
         "yaxis": "y7"
        },
        {
         "marker": {
          "line": {
           "color": "white",
           "width": 1
          },
          "opacity": 0.7,
          "size": 12
         },
         "mode": "markers",
         "name": "Centers",
         "type": "scatter",
         "x": {
          "bdata": "ZjOXyYOcEcCWACjviCwIQJTKttu5KiJAmLy+LPblzb+pE2vN5UMHQO5/Id6CqxHAwBU1iyu1u78=",
          "dtype": "f8"
         },
         "xaxis": "x7",
         "y": {
          "bdata": "0cXoWo8DGUDyMroTD9IRwJaYoe3a0gvAFLxDL770EcCwXEzbEUASwEOM8mX8WhhAXquFNgJhEsA=",
          "dtype": "f8"
         },
         "yaxis": "y7"
        },
        {
         "marker": {
          "line": {
           "color": "white",
           "width": 1
          },
          "opacity": 0.7,
          "size": 8
         },
         "mode": "markers",
         "name": "Cluster 0",
         "type": "scatter",
         "x": {
          "bdata": "AzGKEh09IkAf+O0xcj8iQOK1gQuniiJALAPrwshRIkCybVQrTqgiQOGyQSXzPSJAUn6XHyBMIkDtcCw3FFQiQMqxnKavdiJAOHdlmjRSIkBepAXO9TciQHAcutxqSCJAG8lXTmFBIkAcxlX4bE4iQMIR5+iLZCJA2CqU1Tw9IkAGVZxdylQiQF1RDuLLPCJAODo33Gc4IkB967Tx064iQKQZ1I9rFyJAPrQZCfBFIkAB4PWnQ1MiQLvCZu+cQyJAx51e9woiIkA=",
          "dtype": "f8"
         },
         "xaxis": "x8",
         "y": {
          "bdata": "CCZLJEAeDcCIjszIBx8MwCQHd46W9wvA9TpcDhdkDcCg9b5PFmgLwPUdYVQ/RwzAyInBC03PC8Bh76FzZMsMwLKsp3eTrAzA97sY5zuvDMCMj1Ed9GwMwF5mZgE74gvAk3CZJrnGDMBqzuJZauULwOJUl25nYQzAreZ/9h7gC8AG8XViufAMwFTEGtT/TwzAqkrLsZpXDcCWE6IaJG0MwBCbsWLieA3Ad+tMSeJmDMAzEzONDxoMwHha28WzhAzA3I6N5t5tDcA=",
          "dtype": "f8"
         },
         "yaxis": "y8"
        },
        {
         "marker": {
          "line": {
           "color": "white",
           "width": 1
          },
          "opacity": 0.7,
          "size": 8
         },
         "mode": "markers",
         "name": "Cluster 1",
         "type": "scatter",
         "x": {
          "bdata": "geUtfwBGEcD+cN5cygcRwDKld7SXwxHA+cHdrE1SEcAk13MILl0RwPgc12RfSxHAYD5P8CZqEcC//Vv9DVoRwEyqSE6lABHAexRfz+9CEcDb+p82SFMRwM2Li9E/YBHA4pecnqQ5EcDqz0PQzwsRwAk+P+TI9BHARWPXkQ9dEcAd5UpOZ7gRwH3IIiQ2kBHALGwrRETmEcCxqvRgO28RwCADJ1NTqBHAIVzhTJSUEcBnsgmlhH0RwIP9snWRKRHAMXXeSZNlEcB7JAWEPJMRwNx87wtVNhHAhlRmo8V1EcCjWZxd/n0RwMiZ92F2CxHAAxvxdfHEEMC0kNGzqJARwAw4apTyWxHAlqPjfn2KEcDIWZkYRHARwNLGfShC1xHAzTscplmKEcDIIx1TBm8RwDBMiIFbrxDAWmrvsDbfEMAjMs2irmERwFzH7eZCIxHAbggM9A9eEcCmFjLsdZ8RwFb+mWF4ZRHA/U1CxLm9EcBo3hSbw+QRwA==",
          "dtype": "f8"
         },
         "xaxis": "x8",
         "y": {
          "bdata": "aZEng10WGUBAFeS7Z4MYQEpz17FfExlAWqGanq2WGED8wUXqqPoYQGTgfIRd3RhA7iyTC8/NGEA7Hhhmm4cYQHhLK2BUhBhAANfxYJcoGEBJ7LelhZEYQLkijuYH4xhAOVyIxRcEGUCDlp8cuSkZQKhcyFyhdRlAN9gS750tGUBZRROmtu8YQMk1JhnOQhlAX9Pz9MIyGUDvKY3sUGcYQNNRrDivOxlAPOk11qKIGECMDfVohsoYQJFV15sw2hhAezEL4JGyGEDGDCnLpgkZQPuFJXENaxlAG6MNjmhHGED0Ol1gQKsYQLi51bc8MhlAekB/1zYDGUCQ+mP8N6sZQAXMtddmsxhA2rw5qV3EGECYpiBm6V4YQIGGUWVR8BhAsX9KgHFBGUC1gfV/RYQYQA+pJrsrQhhAsCMM4rg8GUC0SnJvzhsYQHVd2pZxIhlAJqOdqg+IGEA/VTHMqDUZQMJIqhWQVhlA3fKnHU7HGEDaRsryM1IZQA==",
          "dtype": "f8"
         },
         "yaxis": "y8"
        },
        {
         "marker": {
          "line": {
           "color": "white",
           "width": 1
          },
          "opacity": 0.7,
          "size": 8
         },
         "mode": "markers",
         "name": "Cluster 2",
         "type": "scatter",
         "x": {
          "bdata": "XVFRzW8enD8LUuajuijSvwrGwHTeZcm/p5ox8BNuy7+wJyMrPjfVvzP/piGX58q/fp2Prrx00b9BE9WR1XO+v7yzYC4CWLC/jhF44PSPxr9mmtxeJ/TJv2GooCki1Y2/VF75J0fbw79kwCrDhe63v6Q5N8qUrrS/KjvG8Gck0r+RYUv6qLfQv5uHLveGJM6/b8ZiXqorpr+HEQj8XLbDv7Muzw+e/MC/SV5UEU/vxr/Pe0hZvRbQv2bvJE9+Hcm/AzbZBwSWzL8I8rtNF6i/vxB932wXW7a/",
          "dtype": "f8"
         },
         "xaxis": "x8",
         "y": {
          "bdata": "JhVACGiwEcCAoPPTtYARwGGbA0j3qBHAyCwH1udeEcCsNJQwgnQRwNPth5ZiYhHAcQ5GBQq4EcBuuxC8sc4RwGx21/9niRHA/lP7dkO/EcBWtBlRn8IRwMRutVivERLA6Z79NWTdEcB4C5+VviURwPzLRKpG9xHAOBMVCc3OEcAvJKJnVrARwB5/gIPz3RHAkAjZS5glEsAui/zIus8RwMRusDcRvhHA1WhN5gLCEcBmxjWvo8sRwAxBLtb1lxHA6wyWR+64EcA75kIVg8gRwJI0sRjmfxHA",
          "dtype": "f8"
         },
         "yaxis": "y8"
        },
        {
         "marker": {
          "line": {
           "color": "white",
           "width": 1
          },
          "opacity": 0.7,
          "size": 8
         },
         "mode": "markers",
         "name": "Cluster 3",
         "type": "scatter",
         "x": {
          "bdata": "RNthwFkVCEA11OM+VGMIQKK/xaEQUghAgimtp8+LB0B/wEnuWE0HQF3IgX9L0wdAQ1/EGBk3B0BUspGTuK4IQEc/6FCgsQhAbFuvL5XYCEBBSKEK5kcHQArQP47d4wdA4rgRjanmCEAsJpttd/kHQAR/Hw4/rwdAzkV8dQrnB0B13wB1PjEHQNhgGxF0/QZAqhpDQKzzBkDwrUldujcIQJso3Vz6UAdA3Z/ZCbWuCED4FiVp59YGQAbSHNS2kQZAD5IH1QISCEA6b0WD/cwFQB7MSLMVFQdAtdQbIWlTB0BkCCcMCAYIQFYpFVsuPgdAyjy0NmnxBkC5bXrTwqQGQFXZrzheUghA0x1nXLacBkBD79BznyIIQJYZZ0RvcAdAip1/Up2jB0B3D8QSkMkGQJ9cuJuymwdAOXO32dQcCEDoedvPIPIGQIXuP7De0ghAnTxA3o7sB0BgvDDIPi4JQGy/cFGM3ghAejgvJbeoB0C3iy1YqysHQIN/0vlF4ghAPgzxNFyqCEAET3ikn4IIQGpMguSfHQdAMmG2685YB0BnmLGnQoMGQKfN1m9yawhAFUXWI/+7BkDKTPn0mNwIQGBOgm52hQhAN+4cEtL9BUDmX5fc1jcIQLAc3JlTBQhAw5hKYsl+CEDHGPYEJUUJQLFvCSFtiwhAmqQszZAzCEA0djhSUAoIQG/B3rktjAdAXD+n5ZORB0Cux07ct9oHQKlNehJRYwhARyy5XnXQBkD8OW2csgQIQFZOq1DMUwhAu1ePKYODCECEYQGiGawIQClKnoayEQhA",
          "dtype": "f8"
         },
         "xaxis": "x8",
         "y": {
          "bdata": "2RcXcW5fEcAblejDGTwSwFC7ZvrVMxLAzFw42e8cEsAVU1Fv0vgRwLW4S4WI2hHAy/FfP30wEsCX01k9YXgSwOxekfFx1xLAjpr1qWNFEsCV2R0aKrwRwMUvyQT9bhHAtk5iyRRqEsBgEYRfRPsRwDohF3eJ2xHA7tCkFUv4EcBjkObZvBkSwEt33rsIdxLAHi6/nLcVEsDZYtTEVgISwBXm/h6dlxLAIdyPxXbPEcC8ka6ryhUSwPGnmjYT4xHAULGf7K4REsDchF6Jo1cSwHSXWou+dRLAENnQbEyQEcCHt/Xxf74RwBEJQOpUXRHAPv5vWYWAEsA1ETmTkZ8RwJIcKTE0OBHAsh8kCNwBEsCD/WPOdAwSwFw7PDi1khHAuiYej1sVEsAbsluP54YRwOue8LT3QBHAmPGdPrgYEsBdDpc8uf4RwFyEnZz3SxLAO12s/gllEsAEeSai43wRwN3xp1R8RxLABVr01bbLEcBG0ivMJUoSwFMf61K/vBHAv7YaJd4hEsAvfc12O8ERwCeFhv9uXRHA/NVnBjdCEsA6LatjGwYSwPGVbB79FhLAB6SlAN9vEsC3k4QrTFYSwPlhPgjo3BHAxAEbPmeaEcDQTUwTNlARwOqL1HM9hBHAr2LDUX/5EcB641QAVyQSwDjPm7dFfBLAj2jtUMOOEsC3hblCGL4RwLayuzxvvhHAMPHTs3kdEsBq+3zFEeMSwD0h/tyLiRHAwUKxTWTqEcAi/8RLC7IRwJ7y3q/huRLALVeLOngjEcDXbWWIkVcSwFTQf9t5CBLA",
          "dtype": "f8"
         },
         "yaxis": "y8"
        },
        {
         "marker": {
          "line": {
           "color": "white",
           "width": 1
          },
          "opacity": 0.7,
          "size": 8
         },
         "mode": "markers",
         "name": "Cluster 4",
         "type": "scatter",
         "x": {
          "bdata": "a9wYeQaHxr/uFPR3iTrGv1Ch97F35s6/wThV/1/Uwb/9QdbGAQjLv4chx6es1Mq/TfLZI06I2b/oSMIZPRbJvyYs8jM418i/WFZ+CG1/zL94ES0V6iGnv9cVeyKtk8C/wPSvjGwEs78PCNkYPrjZv8jCbGak6sG/6WHIjOFzx78aD8CNFEPTvy2FmWV04Mu/lOFrg5Ls0b/B2mNRBCrLv9Yy9rQOEMK/EmiwypyM0L9NOTbPR77Jv8DTJCNGZdu/1A6akJ7U079S+732E4vMv3HpUZEy5ta/HDNwAzUgsL9iOjRzfYuuv9yRyLMQgsy/3G7Q9ErhyL/lUeLj+T3Wv+2fmT4E682/U3596kv50r+E5dycJzbNv5zsb3yS/cS/quh8Iz2oxL+CiPFPW0fOv6ehoPLmGcK/a6lVwLCNsb+F5RlIEuuuvynFPdLtyNK/Y482IziTyL9soQ1Az+/Fv4+KRLq2NtK/p0iJ0epFvL9ZDO1Fr2K5v6Qjg16zNNC/",
          "dtype": "f8"
         },
         "xaxis": "x8",
         "y": {
          "bdata": "S8+KKXALEsCV8rrshG4SwO9BRzYJURLA3Viw6o8uEsCZrs/Kj2ISwErwT3CMExLAR38DhAq5EcBe32DXeRsSwOf2d9a9ZxLAqHFTGZPIEsCX60C7nAITwFCVs1ub0xLAyEmf0Ds2EsA61L6y+fkRwHwOO+wqexLA7rF3ZWhAEsBvqItHAFoSwJrPnVEk3BLAxDiotowAEsDcpeMViiUSwMJSlcnAVBLA79iWEQUwEsBt0wms35gSwMD6wcnT4RHAV0+NVwdwEsC10o6vg2ASwHIRfzsx1xHARnOA1GdSEsCg6xmM3JASwEcGJCjE+xHAoW9RQhULEsC+TL0rv9kRwC8BN7Lw6BHAUH1aBj0uEsDFwKrzAboSwH0nHCGHRBLAebSYNt4hEsBVo2KgSuoRwOYkCfzuZRLAAn/h4CptEsA8hif4JKgSwCTV3ZTh1xLAMGK4zRVOEsCGiRREf9MSwPfJ6jd+rxLACQW3vp9bEsDOdj7goSYSwLGyP7uELhLA",
          "dtype": "f8"
         },
         "yaxis": "y8"
        },
        {
         "marker": {
          "line": {
           "color": "white",
           "width": 1
          },
          "opacity": 0.7,
          "size": 8
         },
         "mode": "markers",
         "name": "Cluster 5",
         "type": "scatter",
         "x": {
          "bdata": "1vHpIG0WIkDy6XA9iCQiQFPXZrJaDiJAGI7bZr8pIkCZFqRl6xciQMPsLJoeIiJA4xMYkcYpIkCVUdO8QxwiQLnx9T1tHyJALGzhbHWAIkBxMN3WXgQiQEjXCEY4HiJAl0xEcLg0IkCNZsLJOhIiQKu6xivzFiJA7CjLDT9BIkC0+Ai3dVQiQFZv3zUqQiJAxFXPat4sIkBiso0uWlQiQHLQnjj16CFA1it2rdQNIkCTvoPwFQAiQAfyM4w7QiJAUF4A0Q8hIkAlciYzYgAiQCgiMxHTGCJAXOWvnftIIkBdowhgSkUiQEpU5qcEjyJAgUUSIpJXIkAvGWxPM04iQP1dWMnyFiJAgGO6dVYTIkBXPACsgyQiQPfcAhNoDSJA",
          "dtype": "f8"
         },
         "xaxis": "x8",
         "y": {
          "bdata": "zlhp0DDuC8DrBDfdrQcLwOGh+Gdw8QrAyvMqlZRaC8By1xmzTOILwIBovM1qSAvA2qOAxbnyCcCWX8hx+SULwL0U2Sp2cgvAtaCb8yQgC8CvNnEuLdwKwOlDEWtrsgvAiIXgsmpeC8AC87akv94LwLTyNH8cbgvAAYGu5xCRC8C5BoDH3pILwJ2XYaXvuQrAhe3i8lxqC8CZCgxFqsQKwLLXdIRMHwvANmjeerVSC8AZk5IXJn4LwNk/sRg7dArAQV82EJd8C8DBGGvQJuMIwNUVXZoHqAvAVlRz1Vc7C8DWezIQmMIKwDMY/32g3wrAUzoHMOJKC8B7l+kEJy8LwPaf1aJ0pAvANk+2GRbrCsAja+hcGW4LwINsooHFxAvA",
          "dtype": "f8"
         },
         "yaxis": "y8"
        },
        {
         "marker": {
          "line": {
           "color": "white",
           "width": 1
          },
          "opacity": 0.7,
          "size": 8
         },
         "mode": "markers",
         "name": "Cluster 6",
         "type": "scatter",
         "x": {
          "bdata": "dv8agD3mIUDU/lv17M0hQCfMdcnt5CFA+fT53D4IIkDvJLBLHsshQCob6f7XryFAgHp0mu/0IUBVCvU9qfAhQLVeIIUz6yFAX+ZjW8z/IUCYqybOLhUiQHY95XcHwyFAy8DM1aLsIUA5l44uCeohQA==",
          "dtype": "f8"
         },
         "xaxis": "x8",
         "y": {
          "bdata": "qjA6lfiFDMAJsqHsJ4IMwM/VjFyA3AzA3r04NAi3DMBrS74GDPoLwHZx2yvtIw3Ag504pL99C8Dv/JGU8pcMwM2rkEfNVAvA+nDfFIVJDMD4OxrBb6kMwJIK0+DlOgvAfXO6xgciDMD8EL8FwP8LwA==",
          "dtype": "f8"
         },
         "yaxis": "y8"
        },
        {
         "marker": {
          "line": {
           "color": "white",
           "width": 1
          },
          "opacity": 0.7,
          "size": 8
         },
         "mode": "markers",
         "name": "Cluster 7",
         "type": "scatter",
         "x": {
          "bdata": "g3tvosyhEcDcwTp7//0RwE88XGX8shHAy2ypsXYeEsAOZZr92csRwEuz9PzZ8BHAGj/XGwDHEcBsmC1mWVQRwCONRyRkOhLAHZUFwMkOEsC7GlwZwfcRwNy9gm3RPRLAKUGx4tYeEsBDb5uwHXoSwAGUzNMC9hHAovbPQPfnEcDIDVqevzESwGYKVMjBWBLAlM/QsTgEEsD+xksJ6uoRwCnUSyjAfhLAY504Fx7PEcBTnECStGQSwIcahqUr4hHA52KAMOdJEsAzl9J2kOgRwNe+YUitDRLAoZNszLSHEsA=",
          "dtype": "f8"
         },
         "xaxis": "x8",
         "y": {
          "bdata": "HocFoh0WGEC0Oc7tLnEXQEojn1HFhBhAH6w2eACBGEC5OAjd36UYQOaLhvvcMxhAHMl/R9K1GEB3+IhKAtIXQD4q6xLy8hdAlLzPs0jdGEDI5bV/EGoYQGOsFp7w2hhAXT4Kp5Z8GEBd0WgJLAEZQIRlQMKRYhhAYE2/taKLGECThJxQ3WAYQNPK9Sz9fhhAk11MRapmGEBGPDNFWqwYQB+No2pJ1RhAHqTUpeXHGEBMmGcU9cQYQNNXjl1TvBhAl+E8v2eQGEDxFQ2V7/oXQE1gAlpx+RhAa7cdNvzmGEA=",
          "dtype": "f8"
         },
         "yaxis": "y8"
        },
        {
         "marker": {
          "line": {
           "color": "white",
           "width": 1
          },
          "opacity": 0.7,
          "size": 8
         },
         "mode": "markers",
         "name": "Cluster 8",
         "type": "scatter",
         "x": [],
         "xaxis": "x8",
         "y": [],
         "yaxis": "y8"
        },
        {
         "marker": {
          "line": {
           "color": "white",
           "width": 1
          },
          "opacity": 0.7,
          "size": 12
         },
         "mode": "markers",
         "name": "Centers",
         "type": "scatter",
         "x": {
          "bdata": "Ky4tPARRIkBOI85cRmkRwDjfnw09k8O/azup4XrPB0BY1nFoJQ/Lv1owAl2lKiJA5cmzUI7mIUC4EfmoMBYSwA==",
          "dtype": "f8"
         },
         "xaxis": "x8",
         "y": {
          "bdata": "fP8KuEJ/DMBodHZC3tgYQJGNcJDTrhHAcRBbMBD+EcCO4SvlokUSwBZy5hcGMQvAZOhYTiA/DMBBAIgzK4EYQA==",
          "dtype": "f8"
         },
         "yaxis": "y8"
        },
        {
         "marker": {
          "line": {
           "color": "white",
           "width": 1
          },
          "opacity": 0.7,
          "size": 8
         },
         "mode": "markers",
         "name": "Cluster 0",
         "type": "scatter",
         "x": {
          "bdata": "geUtfwBGEcD+cN5cygcRwPnB3axNUhHAJNdzCC5dEcD4HNdkX0sRwGA+T/AmahHAv/1b/Q1aEcBMqkhOpQARwHsUX8/vQhHA2/qfNkhTEcDNi4vRP2ARwOKXnJ6kORHA6s9D0M8LEcBFY9eRD10RwLGq9GA7bxHAZ7IJpYR9EcCD/bJ1kSkRwDF13kmTZRHA3HzvC1U2EcCjWZxd/n0RwMiZ92F2CxHAAxvxdfHEEMAMOGqU8lsRwJaj4359ihHAyFmZGERwEcDIIx1TBm8RwDBMiIFbrxDAWmrvsDbfEMBcx+3mQiMRwG4IDPQPXhHA",
          "dtype": "f8"
         },
         "xaxis": "x9",
         "y": {
          "bdata": "aZEng10WGUBAFeS7Z4MYQFqhmp6tlhhA/MFF6qj6GEBk4HyEXd0YQO4skwvPzRhAOx4YZpuHGEB4SytgVIQYQADX8WCXKBhASey3pYWRGEC5Io7mB+MYQDlciMUXBBlAg5afHLkpGUA32BLvnS0ZQO8pjexQZxhAjA31aIbKGECRVdebMNoYQHsxC+CRshhA+4UlcQ1rGUD0Ol1gQKsYQLi51bc8MhlAekB/1zYDGUAFzLXXZrMYQNq8OaldxBhAmKYgZuleGEC1gfV/RYQYQA+pJrsrQhhAsCMM4rg8GUB1XdqWcSIZQCajnaoPiBhA",
          "dtype": "f8"
         },
         "yaxis": "y9"
        },
        {
         "marker": {
          "line": {
           "color": "white",
           "width": 1
          },
          "opacity": 0.7,
          "size": 8
         },
         "mode": "markers",
         "name": "Cluster 1",
         "type": "scatter",
         "x": {
          "bdata": "gimtp8+LB0B/wEnuWE0HQENfxBgZNwdAQUihCuZHB0B13wB1PjEHQNhgGxF0/QZAqhpDQKzzBkCbKN1c+lAHQPgWJWnn1gZABtIc1LaRBkA6b0WD/cwFQB7MSLMVFQdAtdQbIWlTB0BWKRVbLj4HQMo8tDZp8QZAuW1608KkBkDTHWdctpwGQJYZZ0RvcAdAip1/Up2jB0B3D8QSkMkGQJ9cuJuymwdA6HnbzyDyBkB6OC8lt6gHQLeLLVirKwdAakyC5J8dB0AyYbbrzlgHQGeYsadCgwZAFUXWI/+7BkA37hwS0v0FQG/B3rktjAdAXD+n5ZORB0BHLLleddAGQA==",
          "dtype": "f8"
         },
         "xaxis": "x9",
         "y": {
          "bdata": "zFw42e8cEsAVU1Fv0vgRwMvxXz99MBLAldkdGiq8EcBjkObZvBkSwEt33rsIdxLAHi6/nLcVEsAV5v4enZcSwLyRrqvKFRLA8aeaNhPjEcDchF6Jo1cSwHSXWou+dRLAENnQbEyQEcARCUDqVF0RwD7+b1mFgBLANRE5k5GfEcCyHyQI3AESwFw7PDi1khHAuiYej1sVEsAbsluP54YRwOue8LT3QBHAXQ6XPLn+EcAFWvTVtssRwEbSK8wlShLAJ4WG/25dEcD81WcGN0ISwDotq2MbBhLAB6SlAN9vEsDEARs+Z5oRwLayuzxvvhHAMPHTs3kdEsDBQrFNZOoRwA==",
          "dtype": "f8"
         },
         "yaxis": "y9"
        },
        {
         "marker": {
          "line": {
           "color": "white",
           "width": 1
          },
          "opacity": 0.7,
          "size": 8
         },
         "mode": "markers",
         "name": "Cluster 2",
         "type": "scatter",
         "x": {
          "bdata": "1vHpIG0WIkBT12ayWg4iQHb/GoA95iFAAzGKEh09IkAYjttmvykiQNT+W/XszSFAmRakZesXIkAf+O0xcj8iQMPsLJoeIiJALAPrwshRIkAnzHXJ7eQhQJVR07xDHCJAufH1PW0fIkD59PncPggiQHEw3dZeBCJA4bJBJfM9IkBSfpcfIEwiQO1wLDcUVCJAyrGcpq92IkBI1whGOB4iQI1mwsk6EiJAOHdlmjRSIkCrusYr8xYiQMRVz2reLCJAXqQFzvU3IkBy0J449eghQHAcutxqSCJA1it2rdQNIkAbyVdOYUEiQJO+g/AVACJAHMZV+GxOIkDvJLBLHsshQFBeANEPISJAwhHn6ItkIkDYKpTVPD0iQCob6f7XryFAKCIzEdMYIkAGVZxdylQiQF1RDuLLPCJAODo33Gc4IkCAenSa7/QhQFUK9T2p8CFAtV4ghTPrIUBf5mNbzP8hQKQZ1I9rFyJAmKsmzi4VIkA+tBkJ8EUiQP1dWMnyFiJAAeD1p0NTIkB2PeV3B8MhQMvAzNWi7CFAVzwArIMkIkA5l44uCeohQLvCZu+cQyJAx51e9woiIkD33AITaA0iQA==",
          "dtype": "f8"
         },
         "xaxis": "x9",
         "y": {
          "bdata": "zlhp0DDuC8DhofhncPEKwKowOpX4hQzACCZLJEAeDcDK8yqVlFoLwAmyoewnggzActcZs0ziC8CIjszIBx8MwIBovM1qSAvA9TpcDhdkDcDP1YxcgNwMwJZfyHH5JQvAvRTZKnZyC8DevTg0CLcMwK82cS4t3ArA9R1hVD9HDMDIicELTc8LwGHvoXNkywzAsqynd5OsDMDpQxFra7ILwALztqS/3gvA97sY5zuvDMC08jR/HG4LwIXt4vJcagvAjI9RHfRsDMCy13SETB8LwF5mZgE74gvANmjeerVSC8CTcJkmucYMwBmTkhcmfgvAas7iWWrlC8BrS74GDPoLwEFfNhCXfAvA4lSXbmdhDMCt5n/2HuALwHZx2yvtIw3A1RVdmgeoC8AG8XViufAMwFTEGtT/TwzAqkrLsZpXDcCDnTikv30LwO/8kZTylwzAzauQR81UC8D6cN8UhUkMwBCbsWLieA3A+DsawW+pDMB360xJ4mYMwPaf1aJ0pAvAMxMzjQ8aDMCSCtPg5ToLwH1zusYHIgzAI2voXBluC8D8EL8FwP8LwHha28WzhAzA3I6N5t5tDcCDbKKBxcQLwA==",
          "dtype": "f8"
         },
         "yaxis": "y9"
        },
        {
         "marker": {
          "line": {
           "color": "white",
           "width": 1
          },
          "opacity": 0.7,
          "size": 8
         },
         "mode": "markers",
         "name": "Cluster 3",
         "type": "scatter",
         "x": {
          "bdata": "a9wYeQaHxr9dUVHNbx6cPwtS5qO6KNK/CsbAdN5lyb+nmjHwE27Lv7AnIys+N9W/hyHHp6zUyr8z/6Yhl+fKv03y2SNOiNm/6EjCGT0Wyb9+nY+uvHTRv0ET1ZHVc76/vLNgLgJYsL8PCNkYPrjZv44ReOD0j8a/ZprcXif0yb+U4WuDkuzRv8HaY1EEKsu/EmiwypyM0L/A0yQjRmXbv3HpUZEy5ta/VF75J0fbw79kwCrDhe63v6Q5N8qUrrS/KjvG8Gck0r/ckcizEILMv9xu0PRK4ci/5VHi4/k91r/tn5k+BOvNv5FhS/qot9C/U3596kv50r+bhy73hiTOv4KI8U9bR86/hxEI/Fy2w7+zLs8PnvzAv0leVBFP78a/z3tIWb0W0L9m7yRPfh3JvwM22QcElsy/pCODXrM00L8I8rtNF6i/vxB932wXW7a/",
          "dtype": "f8"
         },
         "xaxis": "x9",
         "y": {
          "bdata": "S8+KKXALEsAmFUAIaLARwICg89O1gBHAYZsDSPeoEcDILAfW514RwKw0lDCCdBHASvBPcIwTEsDT7YeWYmIRwEd/A4QKuRHAXt9g13kbEsBxDkYFCrgRwG67ELyxzhHAbHbX/2eJEcA61L6y+fkRwP5T+3ZDvxHAVrQZUZ/CEcDEOKi2jAASwNyl4xWKJRLA79iWEQUwEsDA+sHJ0+ERwHIRfzsx1xHA6Z79NWTdEcB4C5+VviURwPzLRKpG9xHAOBMVCc3OEcBHBiQoxPsRwKFvUUIVCxLAvky9K7/ZEcAvATey8OgRwC8komdWsBHAUH1aBj0uEsAef4CD890RwFWjYqBK6hHALov8yLrPEcDEbrA3Eb4RwNVoTeYCwhHAZsY1r6PLEcAMQS7W9ZcRwOsMlkfuuBHAsbI/u4QuEsA75kIVg8gRwJI0sRjmfxHA",
          "dtype": "f8"
         },
         "yaxis": "y9"
        },
        {
         "marker": {
          "line": {
           "color": "white",
           "width": 1
          },
          "opacity": 0.7,
          "size": 8
         },
         "mode": "markers",
         "name": "Cluster 4",
         "type": "scatter",
         "x": {
          "bdata": "RNthwFkVCEA11OM+VGMIQKK/xaEQUghAXciBf0vTB0BUspGTuK4IQEc/6FCgsQhAbFuvL5XYCEAK0D+O3eMHQOK4EY2p5ghALCabbXf5B0AEfx8OP68HQM5FfHUK5wdA8K1JXbo3CEDdn9kJta4IQA+SB9UCEghAZAgnDAgGCEBV2a84XlIIQEPv0HOfIghAOXO32dQcCECF7j+w3tIIQJ08QN6O7AdAYLwwyD4uCUBsv3BRjN4IQIN/0vlF4ghAPgzxNFyqCEAET3ikn4IIQKfN1m9yawhAykz59JjcCEBgToJudoUIQOZfl9zWNwhAsBzcmVMFCEDDmEpiyX4IQMcY9gQlRQlAsW8JIW2LCECapCzNkDMIQDR2OFJQCghArsdO3LfaB0CpTXoSUWMIQPw5bZyyBAhAVk6rUMxTCEC7V48pg4MIQIRhAaIZrAhAKUqehrIRCEA=",
          "dtype": "f8"
         },
         "xaxis": "x9",
         "y": {
          "bdata": "2RcXcW5fEcAblejDGTwSwFC7ZvrVMxLAtbhLhYjaEcCX01k9YXgSwOxekfFx1xLAjpr1qWNFEsDFL8kE/W4RwLZOYskUahLAYBGEX0T7EcA6IRd3idsRwO7QpBVL+BHA2WLUxFYCEsAh3I/Fds8RwFCxn+yuERLAh7f18X++EcCSHCkxNDgRwIP9Y850DBLAmPGdPrgYEsBchJ2c90sSwDtdrP4JZRLABHkmouN8EcDd8adUfEcSwFMf61K/vBHAv7YaJd4hEsAvfc12O8ERwPGVbB79FhLAt5OEK0xWEsD5YT4I6NwRwNBNTBM2UBHA6ovUcz2EEcCvYsNRf/kRwHrjVABXJBLAOM+bt0V8EsCPaO1Qw44SwLeFuUIYvhHAavt8xRHjEsA9If7ci4kRwCL/xEsLshHAnvLer+G5EsAtV4s6eCMRwNdtZYiRVxLAVNB/23kIEsA=",
          "dtype": "f8"
         },
         "yaxis": "y9"
        },
        {
         "marker": {
          "line": {
           "color": "white",
           "width": 1
          },
          "opacity": 0.7,
          "size": 8
         },
         "mode": "markers",
         "name": "Cluster 5",
         "type": "scatter",
         "x": {
          "bdata": "7hT0d4k6xr9Qofexd+bOv8E4Vf9f1MG//UHWxgEIy78mLPIzONfIv1hWfghtf8y/eBEtFeohp7/XFXsirZPAv8D0r4xsBLO/yMJsZqTqwb/pYciM4XPHvxoPwI0UQ9O/YaigKSLVjb8thZlldODLv9Yy9rQOEMK/TTk2z0e+yb/UDpqQntTTv1L7vfYTi8y/HDNwAzUgsL9iOjRzfYuuv4Tl3JwnNs2/nOxvfJL9xL+q6HwjPajEv2/GYl6qK6a/p6Gg8uYZwr9rqVXAsI2xv4XlGUgS666/KcU90u3I0r9jjzYjOJPIv2yhDUDP78W/j4pEurY20r+nSInR6kW8v1kM7UWvYrm/",
          "dtype": "f8"
         },
         "xaxis": "x9",
         "y": {
          "bdata": "lfK67IRuEsDvQUc2CVESwN1YsOqPLhLAma7Pyo9iEsDn9nfWvWcSwKhxUxmTyBLAl+tAu5wCE8BQlbNbm9MSwMhJn9A7NhLAfA477Cp7EsDusXdlaEASwG+oi0cAWhLAxG61WK8REsCaz51RJNwSwMJSlcnAVBLAbdMJrN+YEsBXT41XB3ASwLXSjq+DYBLARnOA1GdSEsCg6xmM3JASwMXAqvMBuhLAfSccIYdEEsB5tJg23iESwJAI2UuYJRLA5iQJ/O5lEsACf+HgKm0SwDyGJ/gkqBLAJNXdlOHXEsAwYrjNFU4SwIaJFER/0xLA98nqN36vEsAJBbe+n1sSwM52PuChJhLA",
          "dtype": "f8"
         },
         "yaxis": "y9"
        },
        {
         "marker": {
          "line": {
           "color": "white",
           "width": 1
          },
          "opacity": 0.7,
          "size": 8
         },
         "mode": "markers",
         "name": "Cluster 6",
         "type": "scatter",
         "x": {
          "bdata": "MqV3tJfDEcAJPj/kyPQRwBo/1xsAxxHAHeVKTme4EcAdlQXAyQ4SwH3IIiQ2kBHALGwrRETmEcAgAydTU6gRwNy9gm3RPRLAQ2+bsB16EsB7JAWEPJMRwLSQ0bOokBHA0sZ9KELXEcDNOxymWYoRwCnUSyjAfhLAY504Fx7PEcCHGoalK+IRwKYWMux1nxHAVv6ZYXhlEcD9TULEub0RwNe+YUitDRLAoZNszLSHEsBo3hSbw+QRwA==",
          "dtype": "f8"
         },
         "xaxis": "x9",
         "y": {
          "bdata": "SnPXsV8TGUCoXMhcoXUZQBzJf0fStRhAWUUTprbvGECUvM+zSN0YQMk1JhnOQhlAX9Pz9MIyGUDTUaw4rzsZQGOsFp7w2hhAXdFoCSwBGUDGDCnLpgkZQJD6Y/w3qxlAgYZRZVHwGECxf0qAcUEZQB+No2pJ1RhAHqTUpeXHGEDTV45dU7wYQD9VMcyoNRlAwkiqFZBWGUDd8qcdTscYQE1gAlpx+RhAa7cdNvzmGEDaRsryM1IZQA==",
          "dtype": "f8"
         },
         "yaxis": "y9"
        },
        {
         "marker": {
          "line": {
           "color": "white",
           "width": 1
          },
          "opacity": 0.7,
          "size": 8
         },
         "mode": "markers",
         "name": "Cluster 7",
         "type": "scatter",
         "x": {
          "bdata": "g3tvosyhEcDcwTp7//0RwE88XGX8shHAy2ypsXYeEsAOZZr92csRwEuz9PzZ8BHAbJgtZllUEcAjjUckZDoSwLsaXBnB9xHAIVzhTJSUEcApQbHi1h4SwAGUzNMC9hHAhlRmo8V1EcCi9s9A9+cRwMgNWp6/MRLAZgpUyMFYEsCUz9CxOAQSwP7GSwnq6hHAU5xAkrRkEsAjMs2irmERwOdigDDnSRLAM5fSdpDoEcA=",
          "dtype": "f8"
         },
         "xaxis": "x9",
         "y": {
          "bdata": "HocFoh0WGEC0Oc7tLnEXQEojn1HFhBhAH6w2eACBGEC5OAjd36UYQOaLhvvcMxhAd/iISgLSF0A+KusS8vIXQMjltX8QahhAPOk11qKIGEBdPgqnlnwYQIRlQMKRYhhAG6MNjmhHGEBgTb+1oosYQJOEnFDdYBhA08r1LP1+GECTXUxFqmYYQEY8M0VarBhATJhnFPXEGEC0SnJvzhsYQJfhPL9nkBhA8RUNle/6F0A=",
          "dtype": "f8"
         },
         "yaxis": "y9"
        },
        {
         "marker": {
          "line": {
           "color": "white",
           "width": 1
          },
          "opacity": 0.7,
          "size": 8
         },
         "mode": "markers",
         "name": "Cluster 8",
         "type": "scatter",
         "x": {
          "bdata": "8ulwPYgkIkDitYELp4oiQOMTGJHGKSJALGzhbHWAIkCybVQrTqgiQJdMRHC4NCJA7CjLDT9BIkC0+Ai3dVQiQFZv3zUqQiJAYrKNLlpUIkAH8jOMO0IiQCVyJjNiACJAfeu08dOuIkBc5a+d+0giQF2jCGBKRSJASlTmpwSPIkCBRRIiklciQC8ZbE8zTiJAgGO6dVYTIkA=",
          "dtype": "f8"
         },
         "xaxis": "x9",
         "y": {
          "bdata": "6wQ33a0HC8AkB3eOlvcLwNqjgMW58gnAtaCb8yQgC8Cg9b5PFmgLwIiF4LJqXgvAAYGu5xCRC8C5BoDH3pILwJ2XYaXvuQrAmQoMRarECsDZP7EYO3QKwMEYa9Am4wjAlhOiGiRtDMBWVHPVVzsLwNZ7MhCYwgrAMxj/faDfCsBTOgcw4koLwHuX6QQnLwvANk+2GRbrCsA=",
          "dtype": "f8"
         },
         "yaxis": "y9"
        },
        {
         "marker": {
          "line": {
           "color": "white",
           "width": 1
          },
          "opacity": 0.7,
          "size": 8
         },
         "mode": "markers",
         "name": "Cluster 9",
         "type": "scatter",
         "x": [],
         "xaxis": "x9",
         "y": [],
         "yaxis": "y9"
        },
        {
         "marker": {
          "line": {
           "color": "white",
           "width": 1
          },
          "opacity": 0.7,
          "size": 12
         },
         "mode": "markers",
         "name": "Centers",
         "type": "scatter",
         "x": {
          "bdata": "Y/zcHuQ/EcACGpuf1v4GQDzItK3iHSJASCfGWJEgzL+QAqfTA1MIQLhhXn2V/cO/x66GgQrYEcDVLE82QfERwDUzXlUTWiJA",
          "dtype": "f8"
         },
         "xaxis": "x9",
         "y": {
          "bdata": "h6Nai8jHGEC7Qm7K0PcRwLwpWeWHDQzAO3aapLXSEcBO9k6BAAISwBZMb/HdeBLA8ASDCesRGUAVZoD+QVkYQFmxLBx9+grA",
          "dtype": "f8"
         },
         "yaxis": "y9"
        },
        {
         "marker": {
          "line": {
           "color": "white",
           "width": 1
          },
          "opacity": 0.7,
          "size": 8
         },
         "mode": "markers",
         "name": "Cluster 0",
         "type": "scatter",
         "x": {
          "bdata": "RNthwFkVCECCKa2nz4sHQH/ASe5YTQdAXciBf0vTB0BDX8QYGTcHQEFIoQrmRwdACtA/jt3jB0AEfx8OP68HQM5FfHUK5wdAdd8AdT4xB0DYYBsRdP0GQKoaQ0Cs8wZA+BYlaefWBkAG0hzUtpEGQDpvRYP9zAVAHsxIsxUVB0C11BshaVMHQGQIJwwIBghAVikVWy4+B0DKPLQ2afEGQLltetPCpAZAVdmvOF5SCEDTHWdctpwGQJYZZ0RvcAdAip1/Up2jB0B3D8QSkMkGQJ9cuJuymwdA6HnbzyDyBkB6OC8lt6gHQLeLLVirKwdAakyC5J8dB0AyYbbrzlgHQGeYsadCgwZAFUXWI/+7BkA37hwS0v0FQOZfl9zWNwhAsBzcmVMFCEA0djhSUAoIQG/B3rktjAdAXD+n5ZORB0CpTXoSUWMIQEcsuV510AZA/DltnLIECEC7V48pg4MIQA==",
          "dtype": "f8"
         },
         "xaxis": "x10",
         "y": {
          "bdata": "2RcXcW5fEcDMXDjZ7xwSwBVTUW/S+BHAtbhLhYjaEcDL8V8/fTASwJXZHRoqvBHAxS/JBP1uEcA6IRd3idsRwO7QpBVL+BHAY5Dm2bwZEsBLd967CHcSwB4uv5y3FRLAvJGuq8oVEsDxp5o2E+MRwNyEXomjVxLAdJdai751EsAQ2dBsTJARwIe39fF/vhHAEQlA6lRdEcA+/m9ZhYASwDUROZORnxHAkhwpMTQ4EcCyHyQI3AESwFw7PDi1khHAuiYej1sVEsAbsluP54YRwOue8LT3QBHAXQ6XPLn+EcAFWvTVtssRwEbSK8wlShLAJ4WG/25dEcD81WcGN0ISwDotq2MbBhLAB6SlAN9vEsDEARs+Z5oRwNBNTBM2UBHA6ovUcz2EEcC3hblCGL4RwLayuzxvvhHAMPHTs3kdEsA9If7ci4kRwMFCsU1k6hHAIv/ESwuyEcAtV4s6eCMRwA==",
          "dtype": "f8"
         },
         "yaxis": "y10"
        },
        {
         "marker": {
          "line": {
           "color": "white",
           "width": 1
          },
          "opacity": 0.7,
          "size": 8
         },
         "mode": "markers",
         "name": "Cluster 1",
         "type": "scatter",
         "x": {
          "bdata": "geUtfwBGEcAypXe0l8MRwCTXcwguXRHA+BzXZF9LEcBgPk/wJmoRwMtsqbF2HhLADmWa/dnLEcDNi4vRP2ARwOKXnJ6kORHA6s9D0M8LEcAJPj/kyPQRwBo/1xsAxxHARWPXkQ9dEcAd5UpOZ7gRwB2VBcDJDhLAfcgiJDaQEcAsbCtEROYRwCADJ1NTqBHAZ7IJpYR9EcCD/bJ1kSkRwNy9gm3RPRLAKUGx4tYeEsBDb5uwHXoSwDF13kmTZRHAeyQFhDyTEcDcfO8LVTYRwKL2z0D35xHAZgpUyMFYEsCjWZxd/n0RwMiZ92F2CxHAAxvxdfHEEMC0kNGzqJARwAw4apTyWxHAlqPjfn2KEcD+xksJ6uoRwNLGfShC1xHAzTscplmKEcAp1EsowH4SwGOdOBcezxHAU5xAkrRkEsBaau+wNt8QwFzH7eZCIxHAhxqGpSviEcDnYoAw50kSwKYWMux1nxHAVv6ZYXhlEcD9TULEub0RwNe+YUitDRLAoZNszLSHEsBo3hSbw+QRwA==",
          "dtype": "f8"
         },
         "xaxis": "x10",
         "y": {
          "bdata": "aZEng10WGUBKc9exXxMZQPzBReqo+hhAZOB8hF3dGEDuLJMLz80YQB+sNngAgRhAuTgI3d+lGEC5Io7mB+MYQDlciMUXBBlAg5afHLkpGUCoXMhcoXUZQBzJf0fStRhAN9gS750tGUBZRROmtu8YQJS8z7NI3RhAyTUmGc5CGUBf0/P0wjIZQNNRrDivOxlAjA31aIbKGECRVdebMNoYQGOsFp7w2hhAXT4Kp5Z8GEBd0WgJLAEZQHsxC+CRshhAxgwpy6YJGUD7hSVxDWsZQGBNv7WiixhA08r1LP1+GED0Ol1gQKsYQLi51bc8MhlAekB/1zYDGUCQ+mP8N6sZQAXMtddmsxhA2rw5qV3EGEBGPDNFWqwYQIGGUWVR8BhAsX9KgHFBGUAfjaNqSdUYQB6k1KXlxxhATJhnFPXEGECwIwziuDwZQHVd2pZxIhlA01eOXVO8GECX4Ty/Z5AYQD9VMcyoNRlAwkiqFZBWGUDd8qcdTscYQE1gAlpx+RhAa7cdNvzmGEDaRsryM1IZQA==",
          "dtype": "f8"
         },
         "yaxis": "y10"
        },
        {
         "marker": {
          "line": {
           "color": "white",
           "width": 1
          },
          "opacity": 0.7,
          "size": 8
         },
         "mode": "markers",
         "name": "Cluster 2",
         "type": "scatter",
         "x": {
          "bdata": "1vHpIG0WIkBT12ayWg4iQHb/GoA95iFA1P5b9ezNIUCZFqRl6xciQCfMdcnt5CFAlVHTvEMcIkC58fU9bR8iQPn0+dw+CCJAcTDd1l4EIkBI1whGOB4iQI1mwsk6EiJAq7rGK/MWIkBy0J449eghQNYrdq3UDSJAk76D8BUAIkDvJLBLHsshQFBeANEPISJAKhvp/tevIUAoIjMR0xgiQIB6dJrv9CFAVQr1PanwIUC1XiCFM+shQF/mY1vM/yFA/V1YyfIWIkCAY7p1VhMiQHY95XcHwyFAy8DM1aLsIUBXPACsgyQiQDmXji4J6iFA99wCE2gNIkA=",
          "dtype": "f8"
         },
         "xaxis": "x10",
         "y": {
          "bdata": "zlhp0DDuC8DhofhncPEKwKowOpX4hQzACbKh7CeCDMBy1xmzTOILwM/VjFyA3AzAll/IcfklC8C9FNkqdnILwN69ODQItwzArzZxLi3cCsDpQxFra7ILwALztqS/3gvAtPI0fxxuC8Cy13SETB8LwDZo3nq1UgvAGZOSFyZ+C8BrS74GDPoLwEFfNhCXfAvAdnHbK+0jDcDVFV2aB6gLwIOdOKS/fQvA7/yRlPKXDMDNq5BHzVQLwPpw3xSFSQzA9p/VonSkC8A2T7YZFusKwJIK0+DlOgvAfXO6xgciDMAja+hcGW4LwPwQvwXA/wvAg2yigcXEC8A=",
          "dtype": "f8"
         },
         "yaxis": "y10"
        },
        {
         "marker": {
          "line": {
           "color": "white",
           "width": 1
          },
          "opacity": 0.7,
          "size": 8
         },
         "mode": "markers",
         "name": "Cluster 3",
         "type": "scatter",
         "x": {
          "bdata": "a9wYeQaHxr9Qofexd+bOv/1B1sYBCMu/hyHHp6zUyr9N8tkjTojZv+hIwhk9Fsm/JizyMzjXyL8PCNkYPrjZv+lhyIzhc8e/Gg/AjRRD07+U4WuDkuzRv8HaY1EEKsu/EmiwypyM0L/A0yQjRmXbv9QOmpCe1NO/Uvu99hOLzL9x6VGRMubWvyo7xvBnJNK/3JHIsxCCzL/cbtD0SuHIv+VR4uP5Pda/7Z+ZPgTrzb9Tfn3qS/nSv4Tl3JwnNs2/quh8Iz2oxL+CiPFPW0fOvynFPdLtyNK/Y482IziTyL+PikS6tjbSv6Qjg16zNNC/",
          "dtype": "f8"
         },
         "xaxis": "x10",
         "y": {
          "bdata": "S8+KKXALEsDvQUc2CVESwJmuz8qPYhLASvBPcIwTEsBHfwOECrkRwF7fYNd5GxLA5/Z31r1nEsA61L6y+fkRwO6xd2VoQBLAb6iLRwBaEsDEOKi2jAASwNyl4xWKJRLA79iWEQUwEsDA+sHJ0+ERwFdPjVcHcBLAtdKOr4NgEsByEX87MdcRwDgTFQnNzhHARwYkKMT7EcChb1FCFQsSwL5MvSu/2RHALwE3svDoEcBQfVoGPS4SwMXAqvMBuhLAebSYNt4hEsBVo2KgSuoRwCTV3ZTh1xLAMGK4zRVOEsD3yeo3fq8SwLGyP7uELhLA",
          "dtype": "f8"
         },
         "yaxis": "y10"
        },
        {
         "marker": {
          "line": {
           "color": "white",
           "width": 1
          },
          "opacity": 0.7,
          "size": 8
         },
         "mode": "markers",
         "name": "Cluster 4",
         "type": "scatter",
         "x": {
          "bdata": "NdTjPlRjCECiv8WhEFIIQFSykZO4rghARz/oUKCxCEBsW68vldgIQOK4EY2p5ghALCabbXf5B0DwrUldujcIQJso3Vz6UAdA3Z/ZCbWuCEAPkgfVAhIIQEPv0HOfIghAOXO32dQcCECF7j+w3tIIQJ08QN6O7AdAYLwwyD4uCUBsv3BRjN4IQIN/0vlF4ghAPgzxNFyqCEAET3ikn4IIQKfN1m9yawhAykz59JjcCEBgToJudoUIQMOYSmLJfghAxxj2BCVFCUCxbwkhbYsIQJqkLM2QMwhArsdO3LfaB0BWTqtQzFMIQIRhAaIZrAhAKUqehrIRCEA=",
          "dtype": "f8"
         },
         "xaxis": "x10",
         "y": {
          "bdata": "G5Xowxk8EsBQu2b61TMSwJfTWT1heBLA7F6R8XHXEsCOmvWpY0USwLZOYskUahLAYBGEX0T7EcDZYtTEVgISwBXm/h6dlxLAIdyPxXbPEcBQsZ/srhESwIP9Y850DBLAmPGdPrgYEsBchJ2c90sSwDtdrP4JZRLABHkmouN8EcDd8adUfEcSwFMf61K/vBHAv7YaJd4hEsAvfc12O8ERwPGVbB79FhLAt5OEK0xWEsD5YT4I6NwRwK9iw1F/+RHAeuNUAFckEsA4z5u3RXwSwI9o7VDDjhLAavt8xRHjEsCe8t6v4bkSwNdtZYiRVxLAVNB/23kIEsA=",
          "dtype": "f8"
         },
         "yaxis": "y10"
        },
        {
         "marker": {
          "line": {
           "color": "white",
           "width": 1
          },
          "opacity": 0.7,
          "size": 8
         },
         "mode": "markers",
         "name": "Cluster 5",
         "type": "scatter",
         "x": {
          "bdata": "7hT0d4k6xr/BOFX/X9TBv1hWfghtf8y/eBEtFeohp7/XFXsirZPAv8D0r4xsBLO/yMJsZqTqwb9hqKApItWNvy2FmWV04Mu/1jL2tA4Qwr9NOTbPR77JvxwzcAM1ILC/Yjo0c32Lrr+c7G98kv3Ev2/GYl6qK6a/p6Gg8uYZwr9rqVXAsI2xv4XlGUgS666/bKENQM/vxb+nSInR6kW8v1kM7UWvYrm/",
          "dtype": "f8"
         },
         "xaxis": "x10",
         "y": {
          "bdata": "lfK67IRuEsDdWLDqjy4SwKhxUxmTyBLAl+tAu5wCE8BQlbNbm9MSwMhJn9A7NhLAfA477Cp7EsDEbrVYrxESwJrPnVEk3BLAwlKVycBUEsBt0wms35gSwEZzgNRnUhLAoOsZjNyQEsB9Jxwhh0QSwJAI2UuYJRLA5iQJ/O5lEsACf+HgKm0SwDyGJ/gkqBLAhokURH/TEsAJBbe+n1sSwM52PuChJhLA",
          "dtype": "f8"
         },
         "yaxis": "y10"
        },
        {
         "marker": {
          "line": {
           "color": "white",
           "width": 1
          },
          "opacity": 0.7,
          "size": 8
         },
         "mode": "markers",
         "name": "Cluster 6",
         "type": "scatter",
         "x": {
          "bdata": "AzGKEh09IkAf+O0xcj8iQCwD68LIUSJA4bJBJfM9IkDtcCw3FFQiQMqxnKavdiJAOHdlmjRSIkBepAXO9TciQBvJV05hQSJAwhHn6ItkIkAGVZxdylQiQF1RDuLLPCJAODo33Gc4IkB967Tx064iQKQZ1I9rFyJAmKsmzi4VIkA+tBkJ8EUiQAHg9adDUyJAu8Jm75xDIkDHnV73CiIiQA==",
          "dtype": "f8"
         },
         "xaxis": "x10",
         "y": {
          "bdata": "CCZLJEAeDcCIjszIBx8MwPU6XA4XZA3A9R1hVD9HDMBh76FzZMsMwLKsp3eTrAzA97sY5zuvDMCMj1Ed9GwMwJNwmSa5xgzA4lSXbmdhDMAG8XViufAMwFTEGtT/TwzAqkrLsZpXDcCWE6IaJG0MwBCbsWLieA3A+DsawW+pDMB360xJ4mYMwDMTM40PGgzAeFrbxbOEDMDcjo3m3m0NwA==",
          "dtype": "f8"
         },
         "yaxis": "y10"
        },
        {
         "marker": {
          "line": {
           "color": "white",
           "width": 1
          },
          "opacity": 0.7,
          "size": 8
         },
         "mode": "markers",
         "name": "Cluster 7",
         "type": "scatter",
         "x": {
          "bdata": "/nDeXMoHEcD5wd2sTVIRwIN7b6LMoRHA3ME6e//9EcC//Vv9DVoRwEyqSE6lABHATzxcZfyyEcB7FF/P70IRwNv6nzZIUxHAS7P0/NnwEcBsmC1mWVQRwCONRyRkOhLAuxpcGcH3EcCxqvRgO28RwCFc4UyUlBHAAZTM0wL2EcCGVGajxXURwMgNWp6/MRLAlM/QsTgEEsDIWZkYRHARwMgjHVMGbxHAMEyIgVuvEMAjMs2irmERwG4IDPQPXhHAM5fSdpDoEcA=",
          "dtype": "f8"
         },
         "xaxis": "x10",
         "y": {
          "bdata": "QBXku2eDGEBaoZqerZYYQB6HBaIdFhhAtDnO7S5xF0A7Hhhmm4cYQHhLK2BUhBhASiOfUcWEGEAA1/FglygYQEnst6WFkRhA5ouG+9wzGEB3+IhKAtIXQD4q6xLy8hdAyOW1fxBqGEDvKY3sUGcYQDzpNdaiiBhAhGVAwpFiGEAbow2OaEcYQJOEnFDdYBhAk11MRapmGECYpiBm6V4YQLWB9X9FhBhAD6kmuytCGEC0SnJvzhsYQCajnaoPiBhA8RUNle/6F0A=",
          "dtype": "f8"
         },
         "yaxis": "y10"
        },
        {
         "marker": {
          "line": {
           "color": "white",
           "width": 1
          },
          "opacity": 0.7,
          "size": 8
         },
         "mode": "markers",
         "name": "Cluster 8",
         "type": "scatter",
         "x": {
          "bdata": "XVFRzW8enD8LUuajuijSvwrGwHTeZcm/p5ox8BNuy7+wJyMrPjfVvzP/piGX58q/fp2Prrx00b9BE9WR1XO+v7yzYC4CWLC/jhF44PSPxr9mmtxeJ/TJv1Re+SdH28O/ZMAqw4Xut7+kOTfKlK60v5FhS/qot9C/m4cu94Ykzr+HEQj8XLbDv7Muzw+e/MC/SV5UEU/vxr/Pe0hZvRbQv2bvJE9+Hcm/AzbZBwSWzL8I8rtNF6i/vxB932wXW7a/",
          "dtype": "f8"
         },
         "xaxis": "x10",
         "y": {
          "bdata": "JhVACGiwEcCAoPPTtYARwGGbA0j3qBHAyCwH1udeEcCsNJQwgnQRwNPth5ZiYhHAcQ5GBQq4EcBuuxC8sc4RwGx21/9niRHA/lP7dkO/EcBWtBlRn8IRwOme/TVk3RHAeAuflb4lEcD8y0SqRvcRwC8komdWsBHAHn+Ag/PdEcAui/zIus8RwMRusDcRvhHA1WhN5gLCEcBmxjWvo8sRwAxBLtb1lxHA6wyWR+64EcA75kIVg8gRwJI0sRjmfxHA",
          "dtype": "f8"
         },
         "yaxis": "y10"
        },
        {
         "marker": {
          "line": {
           "color": "white",
           "width": 1
          },
          "opacity": 0.7,
          "size": 8
         },
         "mode": "markers",
         "name": "Cluster 9",
         "type": "scatter",
         "x": {
          "bdata": "8ulwPYgkIkAYjttmvykiQMPsLJoeIiJA4rWBC6eKIkDjExiRxikiQCxs4Wx1gCJAsm1UK06oIkBSfpcfIEwiQJdMRHC4NCJA7CjLDT9BIkC0+Ai3dVQiQFZv3zUqQiJAxFXPat4sIkBiso0uWlQiQHAcutxqSCJAHMZV+GxOIkAH8jOMO0IiQNgqlNU8PSJAJXImM2IAIkBc5a+d+0giQF2jCGBKRSJASlTmpwSPIkCBRRIiklciQC8ZbE8zTiJA",
          "dtype": "f8"
         },
         "xaxis": "x10",
         "y": {
          "bdata": "6wQ33a0HC8DK8yqVlFoLwIBovM1qSAvAJAd3jpb3C8Dao4DFufIJwLWgm/MkIAvAoPW+TxZoC8DIicELTc8LwIiF4LJqXgvAAYGu5xCRC8C5BoDH3pILwJ2XYaXvuQrAhe3i8lxqC8CZCgxFqsQKwF5mZgE74gvAas7iWWrlC8DZP7EYO3QKwK3mf/Ye4AvAwRhr0CbjCMBWVHPVVzsLwNZ7MhCYwgrAMxj/faDfCsBTOgcw4koLwHuX6QQnLwvA",
          "dtype": "f8"
         },
         "yaxis": "y10"
        },
        {
         "marker": {
          "line": {
           "color": "white",
           "width": 1
          },
          "opacity": 0.7,
          "size": 8
         },
         "mode": "markers",
         "name": "Cluster 10",
         "type": "scatter",
         "x": [],
         "xaxis": "x10",
         "y": [],
         "yaxis": "y10"
        },
        {
         "marker": {
          "line": {
           "color": "white",
           "width": 1
          },
          "opacity": 0.7,
          "size": 12
         },
         "mode": "markers",
         "name": "Centers",
         "type": "scatter",
         "x": {
          "bdata": "WS3tO05ZB0Bs7doLjLIRwG9Vl8nO/yFA7HVDiH5A0L+kV3ofNncIQLC/ML4H67q/UoZ5VZJIIkDsmK9KtnoRwOgQj86HK8a/LL9lU3xMIkA=",
          "dtype": "f8"
         },
         "xaxis": "x10",
         "y": {
          "bdata": "eBvs8oPWEcAo4REyYOkYQL3UvA/+wAvA2LUJPKIxEsAeS/ATMjYSwNHniZVldRLADgcfE2m2DMBhTOMdBEYYQD1wAIYEpxHA3j3tZdUlC8A=",
          "dtype": "f8"
         },
         "yaxis": "y10"
        }
       ],
       "layout": {
        "height": 2000,
        "shapes": [
         {
          "line": {
           "color": "Black",
           "dash": "dash",
           "width": 1
          },
          "type": "line",
          "x0": 0,
          "x1": 0,
          "xref": "x",
          "y0": -10,
          "y1": 10,
          "yref": "y"
         },
         {
          "line": {
           "color": "Black",
           "dash": "dash",
           "width": 1
          },
          "type": "line",
          "x0": -10,
          "x1": 10,
          "xref": "x",
          "y0": 0,
          "y1": 0,
          "yref": "y"
         },
         {
          "line": {
           "color": "Black",
           "dash": "dash",
           "width": 1
          },
          "type": "line",
          "x0": 0,
          "x1": 0,
          "xref": "x2",
          "y0": -10,
          "y1": 10,
          "yref": "y2"
         },
         {
          "line": {
           "color": "Black",
           "dash": "dash",
           "width": 1
          },
          "type": "line",
          "x0": -10,
          "x1": 10,
          "xref": "x2",
          "y0": 0,
          "y1": 0,
          "yref": "y2"
         },
         {
          "line": {
           "color": "Black",
           "dash": "dash",
           "width": 1
          },
          "type": "line",
          "x0": 0,
          "x1": 0,
          "xref": "x3",
          "y0": -10,
          "y1": 10,
          "yref": "y3"
         },
         {
          "line": {
           "color": "Black",
           "dash": "dash",
           "width": 1
          },
          "type": "line",
          "x0": -10,
          "x1": 10,
          "xref": "x3",
          "y0": 0,
          "y1": 0,
          "yref": "y3"
         },
         {
          "line": {
           "color": "Black",
           "dash": "dash",
           "width": 1
          },
          "type": "line",
          "x0": 0,
          "x1": 0,
          "xref": "x4",
          "y0": -10,
          "y1": 10,
          "yref": "y4"
         },
         {
          "line": {
           "color": "Black",
           "dash": "dash",
           "width": 1
          },
          "type": "line",
          "x0": -10,
          "x1": 10,
          "xref": "x4",
          "y0": 0,
          "y1": 0,
          "yref": "y4"
         },
         {
          "line": {
           "color": "Black",
           "dash": "dash",
           "width": 1
          },
          "type": "line",
          "x0": 0,
          "x1": 0,
          "xref": "x5",
          "y0": -10,
          "y1": 10,
          "yref": "y5"
         },
         {
          "line": {
           "color": "Black",
           "dash": "dash",
           "width": 1
          },
          "type": "line",
          "x0": -10,
          "x1": 10,
          "xref": "x5",
          "y0": 0,
          "y1": 0,
          "yref": "y5"
         },
         {
          "line": {
           "color": "Black",
           "dash": "dash",
           "width": 1
          },
          "type": "line",
          "x0": 0,
          "x1": 0,
          "xref": "x6",
          "y0": -10,
          "y1": 10,
          "yref": "y6"
         },
         {
          "line": {
           "color": "Black",
           "dash": "dash",
           "width": 1
          },
          "type": "line",
          "x0": -10,
          "x1": 10,
          "xref": "x6",
          "y0": 0,
          "y1": 0,
          "yref": "y6"
         },
         {
          "line": {
           "color": "Black",
           "dash": "dash",
           "width": 1
          },
          "type": "line",
          "x0": 0,
          "x1": 0,
          "xref": "x7",
          "y0": -10,
          "y1": 10,
          "yref": "y7"
         },
         {
          "line": {
           "color": "Black",
           "dash": "dash",
           "width": 1
          },
          "type": "line",
          "x0": -10,
          "x1": 10,
          "xref": "x7",
          "y0": 0,
          "y1": 0,
          "yref": "y7"
         },
         {
          "line": {
           "color": "Black",
           "dash": "dash",
           "width": 1
          },
          "type": "line",
          "x0": 0,
          "x1": 0,
          "xref": "x8",
          "y0": -10,
          "y1": 10,
          "yref": "y8"
         },
         {
          "line": {
           "color": "Black",
           "dash": "dash",
           "width": 1
          },
          "type": "line",
          "x0": -10,
          "x1": 10,
          "xref": "x8",
          "y0": 0,
          "y1": 0,
          "yref": "y8"
         },
         {
          "line": {
           "color": "Black",
           "dash": "dash",
           "width": 1
          },
          "type": "line",
          "x0": 0,
          "x1": 0,
          "xref": "x9",
          "y0": -10,
          "y1": 10,
          "yref": "y9"
         },
         {
          "line": {
           "color": "Black",
           "dash": "dash",
           "width": 1
          },
          "type": "line",
          "x0": -10,
          "x1": 10,
          "xref": "x9",
          "y0": 0,
          "y1": 0,
          "yref": "y9"
         },
         {
          "line": {
           "color": "Black",
           "dash": "dash",
           "width": 1
          },
          "type": "line",
          "x0": 0,
          "x1": 0,
          "xref": "x10",
          "y0": -10,
          "y1": 10,
          "yref": "y10"
         },
         {
          "line": {
           "color": "Black",
           "dash": "dash",
           "width": 1
          },
          "type": "line",
          "x0": -10,
          "x1": 10,
          "xref": "x10",
          "y0": 0,
          "y1": 0,
          "yref": "y10"
         }
        ],
        "showlegend": false,
        "template": {
         "data": {
          "bar": [
           {
            "error_x": {
             "color": "#2a3f5f"
            },
            "error_y": {
             "color": "#2a3f5f"
            },
            "marker": {
             "line": {
              "color": "#E5ECF6",
              "width": 0.5
             },
             "pattern": {
              "fillmode": "overlay",
              "size": 10,
              "solidity": 0.2
             }
            },
            "type": "bar"
           }
          ],
          "barpolar": [
           {
            "marker": {
             "line": {
              "color": "#E5ECF6",
              "width": 0.5
             },
             "pattern": {
              "fillmode": "overlay",
              "size": 10,
              "solidity": 0.2
             }
            },
            "type": "barpolar"
           }
          ],
          "carpet": [
           {
            "aaxis": {
             "endlinecolor": "#2a3f5f",
             "gridcolor": "white",
             "linecolor": "white",
             "minorgridcolor": "white",
             "startlinecolor": "#2a3f5f"
            },
            "baxis": {
             "endlinecolor": "#2a3f5f",
             "gridcolor": "white",
             "linecolor": "white",
             "minorgridcolor": "white",
             "startlinecolor": "#2a3f5f"
            },
            "type": "carpet"
           }
          ],
          "choropleth": [
           {
            "colorbar": {
             "outlinewidth": 0,
             "ticks": ""
            },
            "type": "choropleth"
           }
          ],
          "contour": [
           {
            "colorbar": {
             "outlinewidth": 0,
             "ticks": ""
            },
            "colorscale": [
             [
              0,
              "#0d0887"
             ],
             [
              0.1111111111111111,
              "#46039f"
             ],
             [
              0.2222222222222222,
              "#7201a8"
             ],
             [
              0.3333333333333333,
              "#9c179e"
             ],
             [
              0.4444444444444444,
              "#bd3786"
             ],
             [
              0.5555555555555556,
              "#d8576b"
             ],
             [
              0.6666666666666666,
              "#ed7953"
             ],
             [
              0.7777777777777778,
              "#fb9f3a"
             ],
             [
              0.8888888888888888,
              "#fdca26"
             ],
             [
              1,
              "#f0f921"
             ]
            ],
            "type": "contour"
           }
          ],
          "contourcarpet": [
           {
            "colorbar": {
             "outlinewidth": 0,
             "ticks": ""
            },
            "type": "contourcarpet"
           }
          ],
          "heatmap": [
           {
            "colorbar": {
             "outlinewidth": 0,
             "ticks": ""
            },
            "colorscale": [
             [
              0,
              "#0d0887"
             ],
             [
              0.1111111111111111,
              "#46039f"
             ],
             [
              0.2222222222222222,
              "#7201a8"
             ],
             [
              0.3333333333333333,
              "#9c179e"
             ],
             [
              0.4444444444444444,
              "#bd3786"
             ],
             [
              0.5555555555555556,
              "#d8576b"
             ],
             [
              0.6666666666666666,
              "#ed7953"
             ],
             [
              0.7777777777777778,
              "#fb9f3a"
             ],
             [
              0.8888888888888888,
              "#fdca26"
             ],
             [
              1,
              "#f0f921"
             ]
            ],
            "type": "heatmap"
           }
          ],
          "histogram": [
           {
            "marker": {
             "pattern": {
              "fillmode": "overlay",
              "size": 10,
              "solidity": 0.2
             }
            },
            "type": "histogram"
           }
          ],
          "histogram2d": [
           {
            "colorbar": {
             "outlinewidth": 0,
             "ticks": ""
            },
            "colorscale": [
             [
              0,
              "#0d0887"
             ],
             [
              0.1111111111111111,
              "#46039f"
             ],
             [
              0.2222222222222222,
              "#7201a8"
             ],
             [
              0.3333333333333333,
              "#9c179e"
             ],
             [
              0.4444444444444444,
              "#bd3786"
             ],
             [
              0.5555555555555556,
              "#d8576b"
             ],
             [
              0.6666666666666666,
              "#ed7953"
             ],
             [
              0.7777777777777778,
              "#fb9f3a"
             ],
             [
              0.8888888888888888,
              "#fdca26"
             ],
             [
              1,
              "#f0f921"
             ]
            ],
            "type": "histogram2d"
           }
          ],
          "histogram2dcontour": [
           {
            "colorbar": {
             "outlinewidth": 0,
             "ticks": ""
            },
            "colorscale": [
             [
              0,
              "#0d0887"
             ],
             [
              0.1111111111111111,
              "#46039f"
             ],
             [
              0.2222222222222222,
              "#7201a8"
             ],
             [
              0.3333333333333333,
              "#9c179e"
             ],
             [
              0.4444444444444444,
              "#bd3786"
             ],
             [
              0.5555555555555556,
              "#d8576b"
             ],
             [
              0.6666666666666666,
              "#ed7953"
             ],
             [
              0.7777777777777778,
              "#fb9f3a"
             ],
             [
              0.8888888888888888,
              "#fdca26"
             ],
             [
              1,
              "#f0f921"
             ]
            ],
            "type": "histogram2dcontour"
           }
          ],
          "mesh3d": [
           {
            "colorbar": {
             "outlinewidth": 0,
             "ticks": ""
            },
            "type": "mesh3d"
           }
          ],
          "parcoords": [
           {
            "line": {
             "colorbar": {
              "outlinewidth": 0,
              "ticks": ""
             }
            },
            "type": "parcoords"
           }
          ],
          "pie": [
           {
            "automargin": true,
            "type": "pie"
           }
          ],
          "scatter": [
           {
            "fillpattern": {
             "fillmode": "overlay",
             "size": 10,
             "solidity": 0.2
            },
            "type": "scatter"
           }
          ],
          "scatter3d": [
           {
            "line": {
             "colorbar": {
              "outlinewidth": 0,
              "ticks": ""
             }
            },
            "marker": {
             "colorbar": {
              "outlinewidth": 0,
              "ticks": ""
             }
            },
            "type": "scatter3d"
           }
          ],
          "scattercarpet": [
           {
            "marker": {
             "colorbar": {
              "outlinewidth": 0,
              "ticks": ""
             }
            },
            "type": "scattercarpet"
           }
          ],
          "scattergeo": [
           {
            "marker": {
             "colorbar": {
              "outlinewidth": 0,
              "ticks": ""
             }
            },
            "type": "scattergeo"
           }
          ],
          "scattergl": [
           {
            "marker": {
             "colorbar": {
              "outlinewidth": 0,
              "ticks": ""
             }
            },
            "type": "scattergl"
           }
          ],
          "scattermap": [
           {
            "marker": {
             "colorbar": {
              "outlinewidth": 0,
              "ticks": ""
             }
            },
            "type": "scattermap"
           }
          ],
          "scattermapbox": [
           {
            "marker": {
             "colorbar": {
              "outlinewidth": 0,
              "ticks": ""
             }
            },
            "type": "scattermapbox"
           }
          ],
          "scatterpolar": [
           {
            "marker": {
             "colorbar": {
              "outlinewidth": 0,
              "ticks": ""
             }
            },
            "type": "scatterpolar"
           }
          ],
          "scatterpolargl": [
           {
            "marker": {
             "colorbar": {
              "outlinewidth": 0,
              "ticks": ""
             }
            },
            "type": "scatterpolargl"
           }
          ],
          "scatterternary": [
           {
            "marker": {
             "colorbar": {
              "outlinewidth": 0,
              "ticks": ""
             }
            },
            "type": "scatterternary"
           }
          ],
          "surface": [
           {
            "colorbar": {
             "outlinewidth": 0,
             "ticks": ""
            },
            "colorscale": [
             [
              0,
              "#0d0887"
             ],
             [
              0.1111111111111111,
              "#46039f"
             ],
             [
              0.2222222222222222,
              "#7201a8"
             ],
             [
              0.3333333333333333,
              "#9c179e"
             ],
             [
              0.4444444444444444,
              "#bd3786"
             ],
             [
              0.5555555555555556,
              "#d8576b"
             ],
             [
              0.6666666666666666,
              "#ed7953"
             ],
             [
              0.7777777777777778,
              "#fb9f3a"
             ],
             [
              0.8888888888888888,
              "#fdca26"
             ],
             [
              1,
              "#f0f921"
             ]
            ],
            "type": "surface"
           }
          ],
          "table": [
           {
            "cells": {
             "fill": {
              "color": "#EBF0F8"
             },
             "line": {
              "color": "white"
             }
            },
            "header": {
             "fill": {
              "color": "#C8D4E3"
             },
             "line": {
              "color": "white"
             }
            },
            "type": "table"
           }
          ]
         },
         "layout": {
          "annotationdefaults": {
           "arrowcolor": "#2a3f5f",
           "arrowhead": 0,
           "arrowwidth": 1
          },
          "autotypenumbers": "strict",
          "coloraxis": {
           "colorbar": {
            "outlinewidth": 0,
            "ticks": ""
           }
          },
          "colorscale": {
           "diverging": [
            [
             0,
             "#8e0152"
            ],
            [
             0.1,
             "#c51b7d"
            ],
            [
             0.2,
             "#de77ae"
            ],
            [
             0.3,
             "#f1b6da"
            ],
            [
             0.4,
             "#fde0ef"
            ],
            [
             0.5,
             "#f7f7f7"
            ],
            [
             0.6,
             "#e6f5d0"
            ],
            [
             0.7,
             "#b8e186"
            ],
            [
             0.8,
             "#7fbc41"
            ],
            [
             0.9,
             "#4d9221"
            ],
            [
             1,
             "#276419"
            ]
           ],
           "sequential": [
            [
             0,
             "#0d0887"
            ],
            [
             0.1111111111111111,
             "#46039f"
            ],
            [
             0.2222222222222222,
             "#7201a8"
            ],
            [
             0.3333333333333333,
             "#9c179e"
            ],
            [
             0.4444444444444444,
             "#bd3786"
            ],
            [
             0.5555555555555556,
             "#d8576b"
            ],
            [
             0.6666666666666666,
             "#ed7953"
            ],
            [
             0.7777777777777778,
             "#fb9f3a"
            ],
            [
             0.8888888888888888,
             "#fdca26"
            ],
            [
             1,
             "#f0f921"
            ]
           ],
           "sequentialminus": [
            [
             0,
             "#0d0887"
            ],
            [
             0.1111111111111111,
             "#46039f"
            ],
            [
             0.2222222222222222,
             "#7201a8"
            ],
            [
             0.3333333333333333,
             "#9c179e"
            ],
            [
             0.4444444444444444,
             "#bd3786"
            ],
            [
             0.5555555555555556,
             "#d8576b"
            ],
            [
             0.6666666666666666,
             "#ed7953"
            ],
            [
             0.7777777777777778,
             "#fb9f3a"
            ],
            [
             0.8888888888888888,
             "#fdca26"
            ],
            [
             1,
             "#f0f921"
            ]
           ]
          },
          "colorway": [
           "#636efa",
           "#EF553B",
           "#00cc96",
           "#ab63fa",
           "#FFA15A",
           "#19d3f3",
           "#FF6692",
           "#B6E880",
           "#FF97FF",
           "#FECB52"
          ],
          "font": {
           "color": "#2a3f5f"
          },
          "geo": {
           "bgcolor": "white",
           "lakecolor": "white",
           "landcolor": "#E5ECF6",
           "showlakes": true,
           "showland": true,
           "subunitcolor": "white"
          },
          "hoverlabel": {
           "align": "left"
          },
          "hovermode": "closest",
          "mapbox": {
           "style": "light"
          },
          "paper_bgcolor": "white",
          "plot_bgcolor": "#E5ECF6",
          "polar": {
           "angularaxis": {
            "gridcolor": "white",
            "linecolor": "white",
            "ticks": ""
           },
           "bgcolor": "#E5ECF6",
           "radialaxis": {
            "gridcolor": "white",
            "linecolor": "white",
            "ticks": ""
           }
          },
          "scene": {
           "xaxis": {
            "backgroundcolor": "#E5ECF6",
            "gridcolor": "white",
            "gridwidth": 2,
            "linecolor": "white",
            "showbackground": true,
            "ticks": "",
            "zerolinecolor": "white"
           },
           "yaxis": {
            "backgroundcolor": "#E5ECF6",
            "gridcolor": "white",
            "gridwidth": 2,
            "linecolor": "white",
            "showbackground": true,
            "ticks": "",
            "zerolinecolor": "white"
           },
           "zaxis": {
            "backgroundcolor": "#E5ECF6",
            "gridcolor": "white",
            "gridwidth": 2,
            "linecolor": "white",
            "showbackground": true,
            "ticks": "",
            "zerolinecolor": "white"
           }
          },
          "shapedefaults": {
           "line": {
            "color": "#2a3f5f"
           }
          },
          "ternary": {
           "aaxis": {
            "gridcolor": "white",
            "linecolor": "white",
            "ticks": ""
           },
           "baxis": {
            "gridcolor": "white",
            "linecolor": "white",
            "ticks": ""
           },
           "bgcolor": "#E5ECF6",
           "caxis": {
            "gridcolor": "white",
            "linecolor": "white",
            "ticks": ""
           }
          },
          "title": {
           "x": 0.05
          },
          "xaxis": {
           "automargin": true,
           "gridcolor": "white",
           "linecolor": "white",
           "ticks": "",
           "title": {
            "standoff": 15
           },
           "zerolinecolor": "white",
           "zerolinewidth": 2
          },
          "yaxis": {
           "automargin": true,
           "gridcolor": "white",
           "linecolor": "white",
           "ticks": "",
           "title": {
            "standoff": 15
           },
           "zerolinecolor": "white",
           "zerolinewidth": 2
          }
         }
        },
        "width": 800,
        "xaxis": {
         "anchor": "y",
         "domain": [
          0,
          0.45
         ],
         "gridcolor": "LightGrey",
         "gridwidth": 1,
         "range": [
          -15,
          15
         ],
         "showgrid": true,
         "title": {
          "text": "X1"
         }
        },
        "xaxis10": {
         "anchor": "y10",
         "domain": [
          0.55,
          1
         ],
         "gridcolor": "LightGrey",
         "gridwidth": 1,
         "range": [
          -15,
          15
         ],
         "showgrid": true,
         "title": {
          "text": "X1"
         }
        },
        "xaxis2": {
         "anchor": "y2",
         "domain": [
          0.55,
          1
         ],
         "gridcolor": "LightGrey",
         "gridwidth": 1,
         "range": [
          -15,
          15
         ],
         "showgrid": true,
         "title": {
          "text": "X1"
         }
        },
        "xaxis3": {
         "anchor": "y3",
         "domain": [
          0,
          0.45
         ],
         "gridcolor": "LightGrey",
         "gridwidth": 1,
         "range": [
          -15,
          15
         ],
         "showgrid": true,
         "title": {
          "text": "X1"
         }
        },
        "xaxis4": {
         "anchor": "y4",
         "domain": [
          0.55,
          1
         ],
         "gridcolor": "LightGrey",
         "gridwidth": 1,
         "range": [
          -15,
          15
         ],
         "showgrid": true,
         "title": {
          "text": "X1"
         }
        },
        "xaxis5": {
         "anchor": "y5",
         "domain": [
          0,
          0.45
         ],
         "gridcolor": "LightGrey",
         "gridwidth": 1,
         "range": [
          -15,
          15
         ],
         "showgrid": true,
         "title": {
          "text": "X1"
         }
        },
        "xaxis6": {
         "anchor": "y6",
         "domain": [
          0.55,
          1
         ],
         "gridcolor": "LightGrey",
         "gridwidth": 1,
         "range": [
          -15,
          15
         ],
         "showgrid": true,
         "title": {
          "text": "X1"
         }
        },
        "xaxis7": {
         "anchor": "y7",
         "domain": [
          0,
          0.45
         ],
         "gridcolor": "LightGrey",
         "gridwidth": 1,
         "range": [
          -15,
          15
         ],
         "showgrid": true,
         "title": {
          "text": "X1"
         }
        },
        "xaxis8": {
         "anchor": "y8",
         "domain": [
          0.55,
          1
         ],
         "gridcolor": "LightGrey",
         "gridwidth": 1,
         "range": [
          -15,
          15
         ],
         "showgrid": true,
         "title": {
          "text": "X1"
         }
        },
        "xaxis9": {
         "anchor": "y9",
         "domain": [
          0,
          0.45
         ],
         "gridcolor": "LightGrey",
         "gridwidth": 1,
         "range": [
          -15,
          15
         ],
         "showgrid": true,
         "title": {
          "text": "X1"
         }
        },
        "yaxis": {
         "anchor": "x",
         "domain": [
          0.848,
          1
         ],
         "gridcolor": "LightGrey",
         "gridwidth": 1,
         "range": [
          -15,
          15
         ],
         "showgrid": true,
         "title": {
          "text": "X2"
         }
        },
        "yaxis10": {
         "anchor": "x10",
         "domain": [
          0,
          0.152
         ],
         "gridcolor": "LightGrey",
         "gridwidth": 1,
         "range": [
          -15,
          15
         ],
         "showgrid": true,
         "title": {
          "text": "X2"
         }
        },
        "yaxis2": {
         "anchor": "x2",
         "domain": [
          0.848,
          1
         ],
         "gridcolor": "LightGrey",
         "gridwidth": 1,
         "range": [
          -15,
          15
         ],
         "showgrid": true,
         "title": {
          "text": "X2"
         }
        },
        "yaxis3": {
         "anchor": "x3",
         "domain": [
          0.6359999999999999,
          0.7879999999999999
         ],
         "gridcolor": "LightGrey",
         "gridwidth": 1,
         "range": [
          -15,
          15
         ],
         "showgrid": true,
         "title": {
          "text": "X2"
         }
        },
        "yaxis4": {
         "anchor": "x4",
         "domain": [
          0.6359999999999999,
          0.7879999999999999
         ],
         "gridcolor": "LightGrey",
         "gridwidth": 1,
         "range": [
          -15,
          15
         ],
         "showgrid": true,
         "title": {
          "text": "X2"
         }
        },
        "yaxis5": {
         "anchor": "x5",
         "domain": [
          0.424,
          0.576
         ],
         "gridcolor": "LightGrey",
         "gridwidth": 1,
         "range": [
          -15,
          15
         ],
         "showgrid": true,
         "title": {
          "text": "X2"
         }
        },
        "yaxis6": {
         "anchor": "x6",
         "domain": [
          0.424,
          0.576
         ],
         "gridcolor": "LightGrey",
         "gridwidth": 1,
         "range": [
          -15,
          15
         ],
         "showgrid": true,
         "title": {
          "text": "X2"
         }
        },
        "yaxis7": {
         "anchor": "x7",
         "domain": [
          0.212,
          0.364
         ],
         "gridcolor": "LightGrey",
         "gridwidth": 1,
         "range": [
          -15,
          15
         ],
         "showgrid": true,
         "title": {
          "text": "X2"
         }
        },
        "yaxis8": {
         "anchor": "x8",
         "domain": [
          0.212,
          0.364
         ],
         "gridcolor": "LightGrey",
         "gridwidth": 1,
         "range": [
          -15,
          15
         ],
         "showgrid": true,
         "title": {
          "text": "X2"
         }
        },
        "yaxis9": {
         "anchor": "x9",
         "domain": [
          0,
          0.152
         ],
         "gridcolor": "LightGrey",
         "gridwidth": 1,
         "range": [
          -15,
          15
         ],
         "showgrid": true,
         "title": {
          "text": "X2"
         }
        }
       }
      }
     },
     "metadata": {},
     "output_type": "display_data"
    }
   ],
   "source": [
    "clusters = 4\n",
    "data_points = 300\n",
    "std = 0.1\n",
    "X, y = generate_cluster_data(n = data_points, centers=clusters, std=std, random_state=None)\n",
    "\n",
    "print(\"X shape: \", X.shape)\n",
    "print(\"y shape: \", y.shape)\n",
    "\n",
    "K = [1, 2, 3, 4, 5, 6, 7, 8, 9, 10]\n",
    "fig = make_subplots(rows=5, cols=2)\n",
    "sse = []\n",
    "\n",
    "for k in K:\n",
    "    kmeans = KMeans(n_clusters=k, random_state=None)\n",
    "    y_clusters = kmeans.fit_predict(X)\n",
    "    centers = kmeans.cluster_centers_\n",
    "    plot_data(fig,X, y_clusters, clusters=k, kmean_centers=centers, row=(K.index(k) // 2) + 1, col=(K.index(k) % 2) + 1)\n",
    "    sse.append(kmeans.inertia_)\n",
    "# Changing the size of the figs\n",
    "fig.update_layout(height=2000, width=800)\n",
    "\n",
    "fig.show()"
   ]
  },
  {
   "cell_type": "code",
   "execution_count": 47,
   "id": "a4a327e6",
   "metadata": {},
   "outputs": [
    {
     "data": {
      "application/vnd.plotly.v1+json": {
       "config": {
        "plotlyServerURL": "https://plot.ly"
       },
       "data": [
        {
         "hovertemplate": "K=%{x}<br>SSE=%{y:.2f}<extra></extra>",
         "line": {
          "color": "royalblue",
          "width": 2
         },
         "marker": {
          "color": "royalblue",
          "size": 8
         },
         "mode": "lines+markers",
         "name": "SSE",
         "type": "scatter",
         "x": [
          1,
          2,
          3,
          4,
          5,
          6,
          7,
          8,
          9,
          10
         ],
         "y": [
          13355.05236516786,
          3394.4020111783043,
          382.7314357902861,
          5.927559465210049,
          5.485004368618299,
          4.91950758779085,
          4.504645185279394,
          4.081558323220021,
          3.6184016020633174,
          3.4335372786170937
         ]
        }
       ],
       "layout": {
        "height": 500,
        "hovermode": "x",
        "showlegend": false,
        "template": {
         "data": {
          "bar": [
           {
            "error_x": {
             "color": "#2a3f5f"
            },
            "error_y": {
             "color": "#2a3f5f"
            },
            "marker": {
             "line": {
              "color": "white",
              "width": 0.5
             },
             "pattern": {
              "fillmode": "overlay",
              "size": 10,
              "solidity": 0.2
             }
            },
            "type": "bar"
           }
          ],
          "barpolar": [
           {
            "marker": {
             "line": {
              "color": "white",
              "width": 0.5
             },
             "pattern": {
              "fillmode": "overlay",
              "size": 10,
              "solidity": 0.2
             }
            },
            "type": "barpolar"
           }
          ],
          "carpet": [
           {
            "aaxis": {
             "endlinecolor": "#2a3f5f",
             "gridcolor": "#C8D4E3",
             "linecolor": "#C8D4E3",
             "minorgridcolor": "#C8D4E3",
             "startlinecolor": "#2a3f5f"
            },
            "baxis": {
             "endlinecolor": "#2a3f5f",
             "gridcolor": "#C8D4E3",
             "linecolor": "#C8D4E3",
             "minorgridcolor": "#C8D4E3",
             "startlinecolor": "#2a3f5f"
            },
            "type": "carpet"
           }
          ],
          "choropleth": [
           {
            "colorbar": {
             "outlinewidth": 0,
             "ticks": ""
            },
            "type": "choropleth"
           }
          ],
          "contour": [
           {
            "colorbar": {
             "outlinewidth": 0,
             "ticks": ""
            },
            "colorscale": [
             [
              0,
              "#0d0887"
             ],
             [
              0.1111111111111111,
              "#46039f"
             ],
             [
              0.2222222222222222,
              "#7201a8"
             ],
             [
              0.3333333333333333,
              "#9c179e"
             ],
             [
              0.4444444444444444,
              "#bd3786"
             ],
             [
              0.5555555555555556,
              "#d8576b"
             ],
             [
              0.6666666666666666,
              "#ed7953"
             ],
             [
              0.7777777777777778,
              "#fb9f3a"
             ],
             [
              0.8888888888888888,
              "#fdca26"
             ],
             [
              1,
              "#f0f921"
             ]
            ],
            "type": "contour"
           }
          ],
          "contourcarpet": [
           {
            "colorbar": {
             "outlinewidth": 0,
             "ticks": ""
            },
            "type": "contourcarpet"
           }
          ],
          "heatmap": [
           {
            "colorbar": {
             "outlinewidth": 0,
             "ticks": ""
            },
            "colorscale": [
             [
              0,
              "#0d0887"
             ],
             [
              0.1111111111111111,
              "#46039f"
             ],
             [
              0.2222222222222222,
              "#7201a8"
             ],
             [
              0.3333333333333333,
              "#9c179e"
             ],
             [
              0.4444444444444444,
              "#bd3786"
             ],
             [
              0.5555555555555556,
              "#d8576b"
             ],
             [
              0.6666666666666666,
              "#ed7953"
             ],
             [
              0.7777777777777778,
              "#fb9f3a"
             ],
             [
              0.8888888888888888,
              "#fdca26"
             ],
             [
              1,
              "#f0f921"
             ]
            ],
            "type": "heatmap"
           }
          ],
          "histogram": [
           {
            "marker": {
             "pattern": {
              "fillmode": "overlay",
              "size": 10,
              "solidity": 0.2
             }
            },
            "type": "histogram"
           }
          ],
          "histogram2d": [
           {
            "colorbar": {
             "outlinewidth": 0,
             "ticks": ""
            },
            "colorscale": [
             [
              0,
              "#0d0887"
             ],
             [
              0.1111111111111111,
              "#46039f"
             ],
             [
              0.2222222222222222,
              "#7201a8"
             ],
             [
              0.3333333333333333,
              "#9c179e"
             ],
             [
              0.4444444444444444,
              "#bd3786"
             ],
             [
              0.5555555555555556,
              "#d8576b"
             ],
             [
              0.6666666666666666,
              "#ed7953"
             ],
             [
              0.7777777777777778,
              "#fb9f3a"
             ],
             [
              0.8888888888888888,
              "#fdca26"
             ],
             [
              1,
              "#f0f921"
             ]
            ],
            "type": "histogram2d"
           }
          ],
          "histogram2dcontour": [
           {
            "colorbar": {
             "outlinewidth": 0,
             "ticks": ""
            },
            "colorscale": [
             [
              0,
              "#0d0887"
             ],
             [
              0.1111111111111111,
              "#46039f"
             ],
             [
              0.2222222222222222,
              "#7201a8"
             ],
             [
              0.3333333333333333,
              "#9c179e"
             ],
             [
              0.4444444444444444,
              "#bd3786"
             ],
             [
              0.5555555555555556,
              "#d8576b"
             ],
             [
              0.6666666666666666,
              "#ed7953"
             ],
             [
              0.7777777777777778,
              "#fb9f3a"
             ],
             [
              0.8888888888888888,
              "#fdca26"
             ],
             [
              1,
              "#f0f921"
             ]
            ],
            "type": "histogram2dcontour"
           }
          ],
          "mesh3d": [
           {
            "colorbar": {
             "outlinewidth": 0,
             "ticks": ""
            },
            "type": "mesh3d"
           }
          ],
          "parcoords": [
           {
            "line": {
             "colorbar": {
              "outlinewidth": 0,
              "ticks": ""
             }
            },
            "type": "parcoords"
           }
          ],
          "pie": [
           {
            "automargin": true,
            "type": "pie"
           }
          ],
          "scatter": [
           {
            "fillpattern": {
             "fillmode": "overlay",
             "size": 10,
             "solidity": 0.2
            },
            "type": "scatter"
           }
          ],
          "scatter3d": [
           {
            "line": {
             "colorbar": {
              "outlinewidth": 0,
              "ticks": ""
             }
            },
            "marker": {
             "colorbar": {
              "outlinewidth": 0,
              "ticks": ""
             }
            },
            "type": "scatter3d"
           }
          ],
          "scattercarpet": [
           {
            "marker": {
             "colorbar": {
              "outlinewidth": 0,
              "ticks": ""
             }
            },
            "type": "scattercarpet"
           }
          ],
          "scattergeo": [
           {
            "marker": {
             "colorbar": {
              "outlinewidth": 0,
              "ticks": ""
             }
            },
            "type": "scattergeo"
           }
          ],
          "scattergl": [
           {
            "marker": {
             "colorbar": {
              "outlinewidth": 0,
              "ticks": ""
             }
            },
            "type": "scattergl"
           }
          ],
          "scattermap": [
           {
            "marker": {
             "colorbar": {
              "outlinewidth": 0,
              "ticks": ""
             }
            },
            "type": "scattermap"
           }
          ],
          "scattermapbox": [
           {
            "marker": {
             "colorbar": {
              "outlinewidth": 0,
              "ticks": ""
             }
            },
            "type": "scattermapbox"
           }
          ],
          "scatterpolar": [
           {
            "marker": {
             "colorbar": {
              "outlinewidth": 0,
              "ticks": ""
             }
            },
            "type": "scatterpolar"
           }
          ],
          "scatterpolargl": [
           {
            "marker": {
             "colorbar": {
              "outlinewidth": 0,
              "ticks": ""
             }
            },
            "type": "scatterpolargl"
           }
          ],
          "scatterternary": [
           {
            "marker": {
             "colorbar": {
              "outlinewidth": 0,
              "ticks": ""
             }
            },
            "type": "scatterternary"
           }
          ],
          "surface": [
           {
            "colorbar": {
             "outlinewidth": 0,
             "ticks": ""
            },
            "colorscale": [
             [
              0,
              "#0d0887"
             ],
             [
              0.1111111111111111,
              "#46039f"
             ],
             [
              0.2222222222222222,
              "#7201a8"
             ],
             [
              0.3333333333333333,
              "#9c179e"
             ],
             [
              0.4444444444444444,
              "#bd3786"
             ],
             [
              0.5555555555555556,
              "#d8576b"
             ],
             [
              0.6666666666666666,
              "#ed7953"
             ],
             [
              0.7777777777777778,
              "#fb9f3a"
             ],
             [
              0.8888888888888888,
              "#fdca26"
             ],
             [
              1,
              "#f0f921"
             ]
            ],
            "type": "surface"
           }
          ],
          "table": [
           {
            "cells": {
             "fill": {
              "color": "#EBF0F8"
             },
             "line": {
              "color": "white"
             }
            },
            "header": {
             "fill": {
              "color": "#C8D4E3"
             },
             "line": {
              "color": "white"
             }
            },
            "type": "table"
           }
          ]
         },
         "layout": {
          "annotationdefaults": {
           "arrowcolor": "#2a3f5f",
           "arrowhead": 0,
           "arrowwidth": 1
          },
          "autotypenumbers": "strict",
          "coloraxis": {
           "colorbar": {
            "outlinewidth": 0,
            "ticks": ""
           }
          },
          "colorscale": {
           "diverging": [
            [
             0,
             "#8e0152"
            ],
            [
             0.1,
             "#c51b7d"
            ],
            [
             0.2,
             "#de77ae"
            ],
            [
             0.3,
             "#f1b6da"
            ],
            [
             0.4,
             "#fde0ef"
            ],
            [
             0.5,
             "#f7f7f7"
            ],
            [
             0.6,
             "#e6f5d0"
            ],
            [
             0.7,
             "#b8e186"
            ],
            [
             0.8,
             "#7fbc41"
            ],
            [
             0.9,
             "#4d9221"
            ],
            [
             1,
             "#276419"
            ]
           ],
           "sequential": [
            [
             0,
             "#0d0887"
            ],
            [
             0.1111111111111111,
             "#46039f"
            ],
            [
             0.2222222222222222,
             "#7201a8"
            ],
            [
             0.3333333333333333,
             "#9c179e"
            ],
            [
             0.4444444444444444,
             "#bd3786"
            ],
            [
             0.5555555555555556,
             "#d8576b"
            ],
            [
             0.6666666666666666,
             "#ed7953"
            ],
            [
             0.7777777777777778,
             "#fb9f3a"
            ],
            [
             0.8888888888888888,
             "#fdca26"
            ],
            [
             1,
             "#f0f921"
            ]
           ],
           "sequentialminus": [
            [
             0,
             "#0d0887"
            ],
            [
             0.1111111111111111,
             "#46039f"
            ],
            [
             0.2222222222222222,
             "#7201a8"
            ],
            [
             0.3333333333333333,
             "#9c179e"
            ],
            [
             0.4444444444444444,
             "#bd3786"
            ],
            [
             0.5555555555555556,
             "#d8576b"
            ],
            [
             0.6666666666666666,
             "#ed7953"
            ],
            [
             0.7777777777777778,
             "#fb9f3a"
            ],
            [
             0.8888888888888888,
             "#fdca26"
            ],
            [
             1,
             "#f0f921"
            ]
           ]
          },
          "colorway": [
           "#636efa",
           "#EF553B",
           "#00cc96",
           "#ab63fa",
           "#FFA15A",
           "#19d3f3",
           "#FF6692",
           "#B6E880",
           "#FF97FF",
           "#FECB52"
          ],
          "font": {
           "color": "#2a3f5f"
          },
          "geo": {
           "bgcolor": "white",
           "lakecolor": "white",
           "landcolor": "white",
           "showlakes": true,
           "showland": true,
           "subunitcolor": "#C8D4E3"
          },
          "hoverlabel": {
           "align": "left"
          },
          "hovermode": "closest",
          "mapbox": {
           "style": "light"
          },
          "paper_bgcolor": "white",
          "plot_bgcolor": "white",
          "polar": {
           "angularaxis": {
            "gridcolor": "#EBF0F8",
            "linecolor": "#EBF0F8",
            "ticks": ""
           },
           "bgcolor": "white",
           "radialaxis": {
            "gridcolor": "#EBF0F8",
            "linecolor": "#EBF0F8",
            "ticks": ""
           }
          },
          "scene": {
           "xaxis": {
            "backgroundcolor": "white",
            "gridcolor": "#DFE8F3",
            "gridwidth": 2,
            "linecolor": "#EBF0F8",
            "showbackground": true,
            "ticks": "",
            "zerolinecolor": "#EBF0F8"
           },
           "yaxis": {
            "backgroundcolor": "white",
            "gridcolor": "#DFE8F3",
            "gridwidth": 2,
            "linecolor": "#EBF0F8",
            "showbackground": true,
            "ticks": "",
            "zerolinecolor": "#EBF0F8"
           },
           "zaxis": {
            "backgroundcolor": "white",
            "gridcolor": "#DFE8F3",
            "gridwidth": 2,
            "linecolor": "#EBF0F8",
            "showbackground": true,
            "ticks": "",
            "zerolinecolor": "#EBF0F8"
           }
          },
          "shapedefaults": {
           "line": {
            "color": "#2a3f5f"
           }
          },
          "ternary": {
           "aaxis": {
            "gridcolor": "#DFE8F3",
            "linecolor": "#A2B1C6",
            "ticks": ""
           },
           "baxis": {
            "gridcolor": "#DFE8F3",
            "linecolor": "#A2B1C6",
            "ticks": ""
           },
           "bgcolor": "white",
           "caxis": {
            "gridcolor": "#DFE8F3",
            "linecolor": "#A2B1C6",
            "ticks": ""
           }
          },
          "title": {
           "x": 0.05
          },
          "xaxis": {
           "automargin": true,
           "gridcolor": "#EBF0F8",
           "linecolor": "#EBF0F8",
           "ticks": "",
           "title": {
            "standoff": 15
           },
           "zerolinecolor": "#EBF0F8",
           "zerolinewidth": 2
          },
          "yaxis": {
           "automargin": true,
           "gridcolor": "#EBF0F8",
           "linecolor": "#EBF0F8",
           "ticks": "",
           "title": {
            "standoff": 15
           },
           "zerolinecolor": "#EBF0F8",
           "zerolinewidth": 2
          }
         }
        },
        "title": {
         "text": "Elbow Method For Optimal K",
         "x": 0.5
        },
        "width": 500,
        "xaxis": {
         "dtick": 1,
         "gridcolor": "lightgray",
         "gridwidth": 1,
         "showgrid": true,
         "tick0": 1,
         "tickmode": "linear",
         "title": {
          "text": "Number of Clusters (K)"
         }
        },
        "yaxis": {
         "gridcolor": "lightgray",
         "gridwidth": 1,
         "showgrid": true,
         "title": {
          "text": "Sum of Squared Errors (SSE)"
         }
        }
       }
      }
     },
     "metadata": {},
     "output_type": "display_data"
    }
   ],
   "source": [
    "plot_elbow_method(sse, K)"
   ]
  },
  {
   "cell_type": "markdown",
   "id": "06fe0ad4",
   "metadata": {},
   "source": [
    "## Assignment 2"
   ]
  },
  {
   "cell_type": "markdown",
   "id": "90fb2d08",
   "metadata": {},
   "source": [
    "### Utility Functions"
   ]
  },
  {
   "cell_type": "code",
   "execution_count": 17,
   "id": "f0d1a6d9",
   "metadata": {},
   "outputs": [],
   "source": [
    "def create_dendrogram(X, Z, labels):\n",
    "    fig = go.Figure()\n",
    "\n",
    "    # Create dendrogram\n",
    "    fig = ff.create_dendrogram(\n",
    "        X,\n",
    "        orientation='bottom',\n",
    "        labels=labels,\n",
    "        linkagefun=lambda x: Z,\n",
    "        color_threshold=0,\n",
    "        colorscale=['#1f77b4'] \n",
    "    )\n",
    "\n",
    "    fig.update_layout(height=500, width=800, showlegend=False)\n",
    "    fig.show()"
   ]
  },
  {
   "cell_type": "markdown",
   "id": "cff5f15d",
   "metadata": {},
   "source": [
    "### Loading Data"
   ]
  },
  {
   "cell_type": "code",
   "execution_count": null,
   "id": "9a8e3c8b",
   "metadata": {},
   "outputs": [
    {
     "data": {
      "text/html": [
       "<div>\n",
       "<style scoped>\n",
       "    .dataframe tbody tr th:only-of-type {\n",
       "        vertical-align: middle;\n",
       "    }\n",
       "\n",
       "    .dataframe tbody tr th {\n",
       "        vertical-align: top;\n",
       "    }\n",
       "\n",
       "    .dataframe thead th {\n",
       "        text-align: right;\n",
       "    }\n",
       "</style>\n",
       "<table border=\"1\" class=\"dataframe\">\n",
       "  <thead>\n",
       "    <tr style=\"text-align: right;\">\n",
       "      <th></th>\n",
       "      <th>Name</th>\n",
       "      <th>Warm-blooded</th>\n",
       "      <th>Gives Birth</th>\n",
       "      <th>Aquatic Creature</th>\n",
       "      <th>Aerial Creature</th>\n",
       "      <th>Has Legs</th>\n",
       "      <th>Hibernates</th>\n",
       "      <th>Class</th>\n",
       "    </tr>\n",
       "  </thead>\n",
       "  <tbody>\n",
       "    <tr>\n",
       "      <th>0</th>\n",
       "      <td>human</td>\n",
       "      <td>1</td>\n",
       "      <td>1</td>\n",
       "      <td>0</td>\n",
       "      <td>0</td>\n",
       "      <td>1</td>\n",
       "      <td>0</td>\n",
       "      <td>mammals</td>\n",
       "    </tr>\n",
       "    <tr>\n",
       "      <th>1</th>\n",
       "      <td>python</td>\n",
       "      <td>0</td>\n",
       "      <td>0</td>\n",
       "      <td>0</td>\n",
       "      <td>0</td>\n",
       "      <td>0</td>\n",
       "      <td>1</td>\n",
       "      <td>reptiles</td>\n",
       "    </tr>\n",
       "    <tr>\n",
       "      <th>2</th>\n",
       "      <td>salmon</td>\n",
       "      <td>0</td>\n",
       "      <td>0</td>\n",
       "      <td>1</td>\n",
       "      <td>0</td>\n",
       "      <td>0</td>\n",
       "      <td>0</td>\n",
       "      <td>fishes</td>\n",
       "    </tr>\n",
       "    <tr>\n",
       "      <th>3</th>\n",
       "      <td>whale</td>\n",
       "      <td>1</td>\n",
       "      <td>1</td>\n",
       "      <td>1</td>\n",
       "      <td>0</td>\n",
       "      <td>0</td>\n",
       "      <td>0</td>\n",
       "      <td>mammals</td>\n",
       "    </tr>\n",
       "    <tr>\n",
       "      <th>4</th>\n",
       "      <td>frog</td>\n",
       "      <td>0</td>\n",
       "      <td>0</td>\n",
       "      <td>1</td>\n",
       "      <td>0</td>\n",
       "      <td>1</td>\n",
       "      <td>1</td>\n",
       "      <td>amphibians</td>\n",
       "    </tr>\n",
       "    <tr>\n",
       "      <th>5</th>\n",
       "      <td>komodo</td>\n",
       "      <td>0</td>\n",
       "      <td>0</td>\n",
       "      <td>0</td>\n",
       "      <td>0</td>\n",
       "      <td>1</td>\n",
       "      <td>0</td>\n",
       "      <td>reptiles</td>\n",
       "    </tr>\n",
       "    <tr>\n",
       "      <th>6</th>\n",
       "      <td>bat</td>\n",
       "      <td>1</td>\n",
       "      <td>1</td>\n",
       "      <td>0</td>\n",
       "      <td>1</td>\n",
       "      <td>1</td>\n",
       "      <td>1</td>\n",
       "      <td>mammals</td>\n",
       "    </tr>\n",
       "    <tr>\n",
       "      <th>7</th>\n",
       "      <td>pigeon</td>\n",
       "      <td>1</td>\n",
       "      <td>0</td>\n",
       "      <td>0</td>\n",
       "      <td>1</td>\n",
       "      <td>1</td>\n",
       "      <td>0</td>\n",
       "      <td>birds</td>\n",
       "    </tr>\n",
       "    <tr>\n",
       "      <th>8</th>\n",
       "      <td>cat</td>\n",
       "      <td>1</td>\n",
       "      <td>1</td>\n",
       "      <td>0</td>\n",
       "      <td>0</td>\n",
       "      <td>1</td>\n",
       "      <td>0</td>\n",
       "      <td>mammals</td>\n",
       "    </tr>\n",
       "    <tr>\n",
       "      <th>9</th>\n",
       "      <td>leopard shark</td>\n",
       "      <td>0</td>\n",
       "      <td>1</td>\n",
       "      <td>1</td>\n",
       "      <td>0</td>\n",
       "      <td>0</td>\n",
       "      <td>0</td>\n",
       "      <td>fishes</td>\n",
       "    </tr>\n",
       "    <tr>\n",
       "      <th>10</th>\n",
       "      <td>turtle</td>\n",
       "      <td>0</td>\n",
       "      <td>0</td>\n",
       "      <td>1</td>\n",
       "      <td>0</td>\n",
       "      <td>1</td>\n",
       "      <td>0</td>\n",
       "      <td>reptiles</td>\n",
       "    </tr>\n",
       "    <tr>\n",
       "      <th>11</th>\n",
       "      <td>penguin</td>\n",
       "      <td>1</td>\n",
       "      <td>0</td>\n",
       "      <td>1</td>\n",
       "      <td>0</td>\n",
       "      <td>1</td>\n",
       "      <td>0</td>\n",
       "      <td>birds</td>\n",
       "    </tr>\n",
       "    <tr>\n",
       "      <th>12</th>\n",
       "      <td>porcupine</td>\n",
       "      <td>1</td>\n",
       "      <td>1</td>\n",
       "      <td>0</td>\n",
       "      <td>0</td>\n",
       "      <td>1</td>\n",
       "      <td>1</td>\n",
       "      <td>mammals</td>\n",
       "    </tr>\n",
       "    <tr>\n",
       "      <th>13</th>\n",
       "      <td>eel</td>\n",
       "      <td>0</td>\n",
       "      <td>0</td>\n",
       "      <td>1</td>\n",
       "      <td>0</td>\n",
       "      <td>0</td>\n",
       "      <td>0</td>\n",
       "      <td>fishes</td>\n",
       "    </tr>\n",
       "    <tr>\n",
       "      <th>14</th>\n",
       "      <td>salamander</td>\n",
       "      <td>0</td>\n",
       "      <td>0</td>\n",
       "      <td>1</td>\n",
       "      <td>0</td>\n",
       "      <td>1</td>\n",
       "      <td>1</td>\n",
       "      <td>amphibians</td>\n",
       "    </tr>\n",
       "  </tbody>\n",
       "</table>\n",
       "</div>"
      ],
      "text/plain": [
       "             Name  Warm-blooded  Gives Birth  Aquatic Creature  \\\n",
       "0           human             1            1                 0   \n",
       "1          python             0            0                 0   \n",
       "2          salmon             0            0                 1   \n",
       "3           whale             1            1                 1   \n",
       "4            frog             0            0                 1   \n",
       "5          komodo             0            0                 0   \n",
       "6             bat             1            1                 0   \n",
       "7          pigeon             1            0                 0   \n",
       "8             cat             1            1                 0   \n",
       "9   leopard shark             0            1                 1   \n",
       "10         turtle             0            0                 1   \n",
       "11        penguin             1            0                 1   \n",
       "12      porcupine             1            1                 0   \n",
       "13            eel             0            0                 1   \n",
       "14     salamander             0            0                 1   \n",
       "\n",
       "    Aerial Creature  Has Legs  Hibernates       Class  \n",
       "0                 0         1           0     mammals  \n",
       "1                 0         0           1    reptiles  \n",
       "2                 0         0           0      fishes  \n",
       "3                 0         0           0     mammals  \n",
       "4                 0         1           1  amphibians  \n",
       "5                 0         1           0    reptiles  \n",
       "6                 1         1           1     mammals  \n",
       "7                 1         1           0       birds  \n",
       "8                 0         1           0     mammals  \n",
       "9                 0         0           0      fishes  \n",
       "10                0         1           0    reptiles  \n",
       "11                0         1           0       birds  \n",
       "12                0         1           1     mammals  \n",
       "13                0         0           0      fishes  \n",
       "14                0         1           1  amphibians  "
      ]
     },
     "execution_count": 23,
     "metadata": {},
     "output_type": "execute_result"
    }
   ],
   "source": [
    "# Load the data\n",
    "data = pd.read_csv('vertebrate.csv')\n",
    "data.head(20)\n"
   ]
  },
  {
   "cell_type": "code",
   "execution_count": 25,
   "id": "774deab3",
   "metadata": {},
   "outputs": [],
   "source": [
    "# Extract features and class labels\n",
    "X = data.iloc[:, 1:-1].values  # All columns except 'Name' and 'Class'\n",
    "labels = data['Name'].values\n",
    "class_labels = data['Class'].values\n",
    "\n",
    "# Transforming the classes\n",
    "# Encode class labels for coloring\n",
    "le = LabelEncoder()\n",
    "class_encoded = le.fit_transform(class_labels)"
   ]
  },
  {
   "cell_type": "markdown",
   "id": "033e2e3b",
   "metadata": {},
   "source": [
    "### Single Link"
   ]
  },
  {
   "cell_type": "code",
   "execution_count": 26,
   "id": "48f645b2",
   "metadata": {},
   "outputs": [
    {
     "data": {
      "application/vnd.plotly.v1+json": {
       "config": {
        "plotlyServerURL": "https://plot.ly"
       },
       "data": [
        {
         "hoverinfo": "text",
         "marker": {
          "color": "#1f77b4"
         },
         "mode": "lines",
         "type": "scatter",
         "x": {
          "bdata": "AAAAAACARkAAAAAAAIBGQAAAAAAAgEtAAAAAAACAS0A=",
          "dtype": "f8"
         },
         "xaxis": "x",
         "y": {
          "bdata": "AAAAAAAAAAAAAAAAAAAAAAAAAAAAAAAAAAAAAAAAAAA=",
          "dtype": "f8"
         },
         "yaxis": "y"
        },
        {
         "hoverinfo": "text",
         "marker": {
          "color": "#1f77b4"
         },
         "mode": "lines",
         "type": "scatter",
         "x": {
          "bdata": "AAAAAACAQUAAAAAAAIBBQAAAAAAAAElAAAAAAAAASUA=",
          "dtype": "f8"
         },
         "xaxis": "x",
         "y": {
          "bdata": "AAAAAAAAAAAAAAAAAADwPwAAAAAAAPA/AAAAAAAAAAA=",
          "dtype": "f8"
         },
         "yaxis": "y"
        },
        {
         "hoverinfo": "text",
         "marker": {
          "color": "#1f77b4"
         },
         "mode": "lines",
         "type": "scatter",
         "x": {
          "bdata": "AAAAAAAAOUAAAAAAAAA5QAAAAAAAQEVAAAAAAABARUA=",
          "dtype": "f8"
         },
         "xaxis": "x",
         "y": {
          "bdata": "AAAAAAAAAAAAAAAAAADwPwAAAAAAAPA/AAAAAAAA8D8=",
          "dtype": "f8"
         },
         "yaxis": "y"
        },
        {
         "hoverinfo": "text",
         "marker": {
          "color": "#1f77b4"
         },
         "mode": "lines",
         "type": "scatter",
         "x": {
          "bdata": "AAAAAABAVUAAAAAAAEBVQAAAAAAAwFdAAAAAAADAV0A=",
          "dtype": "f8"
         },
         "xaxis": "x",
         "y": {
          "bdata": "AAAAAAAAAAAAAAAAAAAAAAAAAAAAAAAAAAAAAAAAAAA=",
          "dtype": "f8"
         },
         "yaxis": "y"
        },
        {
         "hoverinfo": "text",
         "marker": {
          "color": "#1f77b4"
         },
         "mode": "lines",
         "type": "scatter",
         "x": {
          "bdata": "AAAAAADAXEAAAAAAAMBcQAAAAAAAQF9AAAAAAABAX0A=",
          "dtype": "f8"
         },
         "xaxis": "x",
         "y": {
          "bdata": "AAAAAAAAAAAAAAAAAAAAAAAAAAAAAAAAAAAAAAAAAAA=",
          "dtype": "f8"
         },
         "yaxis": "y"
        },
        {
         "hoverinfo": "text",
         "marker": {
          "color": "#1f77b4"
         },
         "mode": "lines",
         "type": "scatter",
         "x": {
          "bdata": "AAAAAADgYEAAAAAAAOBgQAAAAAAAIGJAAAAAAAAgYkA=",
          "dtype": "f8"
         },
         "xaxis": "x",
         "y": {
          "bdata": "AAAAAAAAAAAAAAAAAADwPwAAAAAAAPA/AAAAAAAAAAA=",
          "dtype": "f8"
         },
         "yaxis": "y"
        },
        {
         "hoverinfo": "text",
         "marker": {
          "color": "#1f77b4"
         },
         "mode": "lines",
         "type": "scatter",
         "x": {
          "bdata": "AAAAAAAAXkAAAAAAAABeQAAAAAAAgGFAAAAAAACAYUA=",
          "dtype": "f8"
         },
         "xaxis": "x",
         "y": {
          "bdata": "AAAAAAAAAAAAAAAAAADwPwAAAAAAAPA/AAAAAAAA8D8=",
          "dtype": "f8"
         },
         "yaxis": "y"
        },
        {
         "hoverinfo": "text",
         "marker": {
          "color": "#1f77b4"
         },
         "mode": "lines",
         "type": "scatter",
         "x": {
          "bdata": "AAAAAABAWkAAAAAAAEBaQAAAAAAAQGBAAAAAAABAYEA=",
          "dtype": "f8"
         },
         "xaxis": "x",
         "y": {
          "bdata": "AAAAAAAAAAAAAAAAAADwPwAAAAAAAPA/AAAAAAAA8D8=",
          "dtype": "f8"
         },
         "yaxis": "y"
        },
        {
         "hoverinfo": "text",
         "marker": {
          "color": "#1f77b4"
         },
         "mode": "lines",
         "type": "scatter",
         "x": {
          "bdata": "AAAAAACAVkAAAAAAAIBWQAAAAAAAYF1AAAAAAABgXUA=",
          "dtype": "f8"
         },
         "xaxis": "x",
         "y": {
          "bdata": "AAAAAAAAAAAAAAAAAADwPwAAAAAAAPA/AAAAAAAA8D8=",
          "dtype": "f8"
         },
         "yaxis": "y"
        },
        {
         "hoverinfo": "text",
         "marker": {
          "color": "#1f77b4"
         },
         "mode": "lines",
         "type": "scatter",
         "x": {
          "bdata": "AAAAAADAUkAAAAAAAMBSQAAAAAAA8FlAAAAAAADwWUA=",
          "dtype": "f8"
         },
         "xaxis": "x",
         "y": {
          "bdata": "AAAAAAAAAAAAAAAAAADwPwAAAAAAAPA/AAAAAAAA8D8=",
          "dtype": "f8"
         },
         "yaxis": "y"
        },
        {
         "hoverinfo": "text",
         "marker": {
          "color": "#1f77b4"
         },
         "mode": "lines",
         "type": "scatter",
         "x": {
          "bdata": "AAAAAABAUEAAAAAAAEBQQAAAAAAAWFZAAAAAAABYVkA=",
          "dtype": "f8"
         },
         "xaxis": "x",
         "y": {
          "bdata": "AAAAAAAAAAAAAAAAAADwPwAAAAAAAPA/AAAAAAAA8D8=",
          "dtype": "f8"
         },
         "yaxis": "y"
        },
        {
         "hoverinfo": "text",
         "marker": {
          "color": "#1f77b4"
         },
         "mode": "lines",
         "type": "scatter",
         "x": {
          "bdata": "AAAAAADgQEAAAAAAAOBAQAAAAAAATFNAAAAAAABMU0A=",
          "dtype": "f8"
         },
         "xaxis": "x",
         "y": {
          "bdata": "AAAAAAAA8D/NO39mnqD2P807f2aeoPY/AAAAAAAA8D8=",
          "dtype": "f8"
         },
         "yaxis": "y"
        },
        {
         "hoverinfo": "text",
         "marker": {
          "color": "#1f77b4"
         },
         "mode": "lines",
         "type": "scatter",
         "x": {
          "bdata": "AAAAAAAALkAAAAAAAAAuQAAAAAAAvEtAAAAAAAC8S0A=",
          "dtype": "f8"
         },
         "xaxis": "x",
         "y": {
          "bdata": "AAAAAAAAAADNO39mnqD2P807f2aeoPY/zTt/Zp6g9j8=",
          "dtype": "f8"
         },
         "yaxis": "y"
        },
        {
         "hoverinfo": "text",
         "marker": {
          "color": "#1f77b4"
         },
         "mode": "lines",
         "type": "scatter",
         "x": {
          "bdata": "AAAAAAAAFEAAAAAAAAAUQAAAAAAAnkFAAAAAAACeQUA=",
          "dtype": "f8"
         },
         "xaxis": "x",
         "y": {
          "bdata": "AAAAAAAAAADNO39mnqD2P807f2aeoPY/zTt/Zp6g9j8=",
          "dtype": "f8"
         },
         "yaxis": "y"
        }
       ],
       "layout": {
        "autosize": false,
        "height": 500,
        "hovermode": "closest",
        "showlegend": false,
        "template": {
         "data": {
          "bar": [
           {
            "error_x": {
             "color": "#2a3f5f"
            },
            "error_y": {
             "color": "#2a3f5f"
            },
            "marker": {
             "line": {
              "color": "#E5ECF6",
              "width": 0.5
             },
             "pattern": {
              "fillmode": "overlay",
              "size": 10,
              "solidity": 0.2
             }
            },
            "type": "bar"
           }
          ],
          "barpolar": [
           {
            "marker": {
             "line": {
              "color": "#E5ECF6",
              "width": 0.5
             },
             "pattern": {
              "fillmode": "overlay",
              "size": 10,
              "solidity": 0.2
             }
            },
            "type": "barpolar"
           }
          ],
          "carpet": [
           {
            "aaxis": {
             "endlinecolor": "#2a3f5f",
             "gridcolor": "white",
             "linecolor": "white",
             "minorgridcolor": "white",
             "startlinecolor": "#2a3f5f"
            },
            "baxis": {
             "endlinecolor": "#2a3f5f",
             "gridcolor": "white",
             "linecolor": "white",
             "minorgridcolor": "white",
             "startlinecolor": "#2a3f5f"
            },
            "type": "carpet"
           }
          ],
          "choropleth": [
           {
            "colorbar": {
             "outlinewidth": 0,
             "ticks": ""
            },
            "type": "choropleth"
           }
          ],
          "contour": [
           {
            "colorbar": {
             "outlinewidth": 0,
             "ticks": ""
            },
            "colorscale": [
             [
              0,
              "#0d0887"
             ],
             [
              0.1111111111111111,
              "#46039f"
             ],
             [
              0.2222222222222222,
              "#7201a8"
             ],
             [
              0.3333333333333333,
              "#9c179e"
             ],
             [
              0.4444444444444444,
              "#bd3786"
             ],
             [
              0.5555555555555556,
              "#d8576b"
             ],
             [
              0.6666666666666666,
              "#ed7953"
             ],
             [
              0.7777777777777778,
              "#fb9f3a"
             ],
             [
              0.8888888888888888,
              "#fdca26"
             ],
             [
              1,
              "#f0f921"
             ]
            ],
            "type": "contour"
           }
          ],
          "contourcarpet": [
           {
            "colorbar": {
             "outlinewidth": 0,
             "ticks": ""
            },
            "type": "contourcarpet"
           }
          ],
          "heatmap": [
           {
            "colorbar": {
             "outlinewidth": 0,
             "ticks": ""
            },
            "colorscale": [
             [
              0,
              "#0d0887"
             ],
             [
              0.1111111111111111,
              "#46039f"
             ],
             [
              0.2222222222222222,
              "#7201a8"
             ],
             [
              0.3333333333333333,
              "#9c179e"
             ],
             [
              0.4444444444444444,
              "#bd3786"
             ],
             [
              0.5555555555555556,
              "#d8576b"
             ],
             [
              0.6666666666666666,
              "#ed7953"
             ],
             [
              0.7777777777777778,
              "#fb9f3a"
             ],
             [
              0.8888888888888888,
              "#fdca26"
             ],
             [
              1,
              "#f0f921"
             ]
            ],
            "type": "heatmap"
           }
          ],
          "histogram": [
           {
            "marker": {
             "pattern": {
              "fillmode": "overlay",
              "size": 10,
              "solidity": 0.2
             }
            },
            "type": "histogram"
           }
          ],
          "histogram2d": [
           {
            "colorbar": {
             "outlinewidth": 0,
             "ticks": ""
            },
            "colorscale": [
             [
              0,
              "#0d0887"
             ],
             [
              0.1111111111111111,
              "#46039f"
             ],
             [
              0.2222222222222222,
              "#7201a8"
             ],
             [
              0.3333333333333333,
              "#9c179e"
             ],
             [
              0.4444444444444444,
              "#bd3786"
             ],
             [
              0.5555555555555556,
              "#d8576b"
             ],
             [
              0.6666666666666666,
              "#ed7953"
             ],
             [
              0.7777777777777778,
              "#fb9f3a"
             ],
             [
              0.8888888888888888,
              "#fdca26"
             ],
             [
              1,
              "#f0f921"
             ]
            ],
            "type": "histogram2d"
           }
          ],
          "histogram2dcontour": [
           {
            "colorbar": {
             "outlinewidth": 0,
             "ticks": ""
            },
            "colorscale": [
             [
              0,
              "#0d0887"
             ],
             [
              0.1111111111111111,
              "#46039f"
             ],
             [
              0.2222222222222222,
              "#7201a8"
             ],
             [
              0.3333333333333333,
              "#9c179e"
             ],
             [
              0.4444444444444444,
              "#bd3786"
             ],
             [
              0.5555555555555556,
              "#d8576b"
             ],
             [
              0.6666666666666666,
              "#ed7953"
             ],
             [
              0.7777777777777778,
              "#fb9f3a"
             ],
             [
              0.8888888888888888,
              "#fdca26"
             ],
             [
              1,
              "#f0f921"
             ]
            ],
            "type": "histogram2dcontour"
           }
          ],
          "mesh3d": [
           {
            "colorbar": {
             "outlinewidth": 0,
             "ticks": ""
            },
            "type": "mesh3d"
           }
          ],
          "parcoords": [
           {
            "line": {
             "colorbar": {
              "outlinewidth": 0,
              "ticks": ""
             }
            },
            "type": "parcoords"
           }
          ],
          "pie": [
           {
            "automargin": true,
            "type": "pie"
           }
          ],
          "scatter": [
           {
            "fillpattern": {
             "fillmode": "overlay",
             "size": 10,
             "solidity": 0.2
            },
            "type": "scatter"
           }
          ],
          "scatter3d": [
           {
            "line": {
             "colorbar": {
              "outlinewidth": 0,
              "ticks": ""
             }
            },
            "marker": {
             "colorbar": {
              "outlinewidth": 0,
              "ticks": ""
             }
            },
            "type": "scatter3d"
           }
          ],
          "scattercarpet": [
           {
            "marker": {
             "colorbar": {
              "outlinewidth": 0,
              "ticks": ""
             }
            },
            "type": "scattercarpet"
           }
          ],
          "scattergeo": [
           {
            "marker": {
             "colorbar": {
              "outlinewidth": 0,
              "ticks": ""
             }
            },
            "type": "scattergeo"
           }
          ],
          "scattergl": [
           {
            "marker": {
             "colorbar": {
              "outlinewidth": 0,
              "ticks": ""
             }
            },
            "type": "scattergl"
           }
          ],
          "scattermap": [
           {
            "marker": {
             "colorbar": {
              "outlinewidth": 0,
              "ticks": ""
             }
            },
            "type": "scattermap"
           }
          ],
          "scattermapbox": [
           {
            "marker": {
             "colorbar": {
              "outlinewidth": 0,
              "ticks": ""
             }
            },
            "type": "scattermapbox"
           }
          ],
          "scatterpolar": [
           {
            "marker": {
             "colorbar": {
              "outlinewidth": 0,
              "ticks": ""
             }
            },
            "type": "scatterpolar"
           }
          ],
          "scatterpolargl": [
           {
            "marker": {
             "colorbar": {
              "outlinewidth": 0,
              "ticks": ""
             }
            },
            "type": "scatterpolargl"
           }
          ],
          "scatterternary": [
           {
            "marker": {
             "colorbar": {
              "outlinewidth": 0,
              "ticks": ""
             }
            },
            "type": "scatterternary"
           }
          ],
          "surface": [
           {
            "colorbar": {
             "outlinewidth": 0,
             "ticks": ""
            },
            "colorscale": [
             [
              0,
              "#0d0887"
             ],
             [
              0.1111111111111111,
              "#46039f"
             ],
             [
              0.2222222222222222,
              "#7201a8"
             ],
             [
              0.3333333333333333,
              "#9c179e"
             ],
             [
              0.4444444444444444,
              "#bd3786"
             ],
             [
              0.5555555555555556,
              "#d8576b"
             ],
             [
              0.6666666666666666,
              "#ed7953"
             ],
             [
              0.7777777777777778,
              "#fb9f3a"
             ],
             [
              0.8888888888888888,
              "#fdca26"
             ],
             [
              1,
              "#f0f921"
             ]
            ],
            "type": "surface"
           }
          ],
          "table": [
           {
            "cells": {
             "fill": {
              "color": "#EBF0F8"
             },
             "line": {
              "color": "white"
             }
            },
            "header": {
             "fill": {
              "color": "#C8D4E3"
             },
             "line": {
              "color": "white"
             }
            },
            "type": "table"
           }
          ]
         },
         "layout": {
          "annotationdefaults": {
           "arrowcolor": "#2a3f5f",
           "arrowhead": 0,
           "arrowwidth": 1
          },
          "autotypenumbers": "strict",
          "coloraxis": {
           "colorbar": {
            "outlinewidth": 0,
            "ticks": ""
           }
          },
          "colorscale": {
           "diverging": [
            [
             0,
             "#8e0152"
            ],
            [
             0.1,
             "#c51b7d"
            ],
            [
             0.2,
             "#de77ae"
            ],
            [
             0.3,
             "#f1b6da"
            ],
            [
             0.4,
             "#fde0ef"
            ],
            [
             0.5,
             "#f7f7f7"
            ],
            [
             0.6,
             "#e6f5d0"
            ],
            [
             0.7,
             "#b8e186"
            ],
            [
             0.8,
             "#7fbc41"
            ],
            [
             0.9,
             "#4d9221"
            ],
            [
             1,
             "#276419"
            ]
           ],
           "sequential": [
            [
             0,
             "#0d0887"
            ],
            [
             0.1111111111111111,
             "#46039f"
            ],
            [
             0.2222222222222222,
             "#7201a8"
            ],
            [
             0.3333333333333333,
             "#9c179e"
            ],
            [
             0.4444444444444444,
             "#bd3786"
            ],
            [
             0.5555555555555556,
             "#d8576b"
            ],
            [
             0.6666666666666666,
             "#ed7953"
            ],
            [
             0.7777777777777778,
             "#fb9f3a"
            ],
            [
             0.8888888888888888,
             "#fdca26"
            ],
            [
             1,
             "#f0f921"
            ]
           ],
           "sequentialminus": [
            [
             0,
             "#0d0887"
            ],
            [
             0.1111111111111111,
             "#46039f"
            ],
            [
             0.2222222222222222,
             "#7201a8"
            ],
            [
             0.3333333333333333,
             "#9c179e"
            ],
            [
             0.4444444444444444,
             "#bd3786"
            ],
            [
             0.5555555555555556,
             "#d8576b"
            ],
            [
             0.6666666666666666,
             "#ed7953"
            ],
            [
             0.7777777777777778,
             "#fb9f3a"
            ],
            [
             0.8888888888888888,
             "#fdca26"
            ],
            [
             1,
             "#f0f921"
            ]
           ]
          },
          "colorway": [
           "#636efa",
           "#EF553B",
           "#00cc96",
           "#ab63fa",
           "#FFA15A",
           "#19d3f3",
           "#FF6692",
           "#B6E880",
           "#FF97FF",
           "#FECB52"
          ],
          "font": {
           "color": "#2a3f5f"
          },
          "geo": {
           "bgcolor": "white",
           "lakecolor": "white",
           "landcolor": "#E5ECF6",
           "showlakes": true,
           "showland": true,
           "subunitcolor": "white"
          },
          "hoverlabel": {
           "align": "left"
          },
          "hovermode": "closest",
          "mapbox": {
           "style": "light"
          },
          "paper_bgcolor": "white",
          "plot_bgcolor": "#E5ECF6",
          "polar": {
           "angularaxis": {
            "gridcolor": "white",
            "linecolor": "white",
            "ticks": ""
           },
           "bgcolor": "#E5ECF6",
           "radialaxis": {
            "gridcolor": "white",
            "linecolor": "white",
            "ticks": ""
           }
          },
          "scene": {
           "xaxis": {
            "backgroundcolor": "#E5ECF6",
            "gridcolor": "white",
            "gridwidth": 2,
            "linecolor": "white",
            "showbackground": true,
            "ticks": "",
            "zerolinecolor": "white"
           },
           "yaxis": {
            "backgroundcolor": "#E5ECF6",
            "gridcolor": "white",
            "gridwidth": 2,
            "linecolor": "white",
            "showbackground": true,
            "ticks": "",
            "zerolinecolor": "white"
           },
           "zaxis": {
            "backgroundcolor": "#E5ECF6",
            "gridcolor": "white",
            "gridwidth": 2,
            "linecolor": "white",
            "showbackground": true,
            "ticks": "",
            "zerolinecolor": "white"
           }
          },
          "shapedefaults": {
           "line": {
            "color": "#2a3f5f"
           }
          },
          "ternary": {
           "aaxis": {
            "gridcolor": "white",
            "linecolor": "white",
            "ticks": ""
           },
           "baxis": {
            "gridcolor": "white",
            "linecolor": "white",
            "ticks": ""
           },
           "bgcolor": "#E5ECF6",
           "caxis": {
            "gridcolor": "white",
            "linecolor": "white",
            "ticks": ""
           }
          },
          "title": {
           "x": 0.05
          },
          "xaxis": {
           "automargin": true,
           "gridcolor": "white",
           "linecolor": "white",
           "ticks": "",
           "title": {
            "standoff": 15
           },
           "zerolinecolor": "white",
           "zerolinewidth": 2
          },
          "yaxis": {
           "automargin": true,
           "gridcolor": "white",
           "linecolor": "white",
           "ticks": "",
           "title": {
            "standoff": 15
           },
           "zerolinecolor": "white",
           "zerolinewidth": 2
          }
         }
        },
        "width": 800,
        "xaxis": {
         "mirror": "allticks",
         "rangemode": "tozero",
         "showgrid": false,
         "showline": true,
         "showticklabels": true,
         "tickmode": "array",
         "ticks": "outside",
         "ticktext": [
          "pigeon",
          "python",
          "bat",
          "porcupine",
          "human",
          "cat",
          "penguin",
          "komodo",
          "frog",
          "salamander",
          "turtle",
          "salmon",
          "eel",
          "whale",
          "leopard shark"
         ],
         "tickvals": [
          5,
          15,
          25,
          35,
          45,
          55,
          65,
          75,
          85,
          95,
          105,
          115,
          125,
          135,
          145
         ],
         "type": "linear",
         "zeroline": false
        },
        "yaxis": {
         "mirror": "allticks",
         "rangemode": "tozero",
         "showgrid": false,
         "showline": true,
         "showticklabels": true,
         "ticks": "outside",
         "type": "linear",
         "zeroline": false
        }
       }
      }
     },
     "metadata": {},
     "output_type": "display_data"
    }
   ],
   "source": [
    "# Calculate the linkage matrix\n",
    "Z = linkage(X, method='single')\n",
    "create_dendrogram(X, Z, labels)\n"
   ]
  },
  {
   "cell_type": "code",
   "execution_count": 19,
   "id": "538dde15",
   "metadata": {},
   "outputs": [
    {
     "data": {
      "application/vnd.plotly.v1+json": {
       "config": {
        "plotlyServerURL": "https://plot.ly"
       },
       "data": [
        {
         "hoverinfo": "text",
         "marker": {
          "color": "#1f77b4"
         },
         "mode": "lines",
         "type": "scatter",
         "x": {
          "bdata": "AAAAAAAALkAAAAAAAAAuQAAAAAAAADlAAAAAAAAAOUA=",
          "dtype": "f8"
         },
         "xaxis": "x",
         "y": {
          "bdata": "AAAAAAAAAAAAAAAAAAAAAAAAAAAAAAAAAAAAAAAAAAA=",
          "dtype": "f8"
         },
         "yaxis": "y"
        },
        {
         "hoverinfo": "text",
         "marker": {
          "color": "#1f77b4"
         },
         "mode": "lines",
         "type": "scatter",
         "x": {
          "bdata": "AAAAAAAAFEAAAAAAAAAUQAAAAAAAADRAAAAAAAAANEA=",
          "dtype": "f8"
         },
         "xaxis": "x",
         "y": {
          "bdata": "AAAAAAAAAADNO39mnqD2P807f2aeoPY/AAAAAAAAAAA=",
          "dtype": "f8"
         },
         "yaxis": "y"
        },
        {
         "hoverinfo": "text",
         "marker": {
          "color": "#1f77b4"
         },
         "mode": "lines",
         "type": "scatter",
         "x": {
          "bdata": "AAAAAACAQUAAAAAAAIBBQAAAAAAAgEZAAAAAAACARkA=",
          "dtype": "f8"
         },
         "xaxis": "x",
         "y": {
          "bdata": "AAAAAAAAAAAAAAAAAADwPwAAAAAAAPA/AAAAAAAAAAA=",
          "dtype": "f8"
         },
         "yaxis": "y"
        },
        {
         "hoverinfo": "text",
         "marker": {
          "color": "#1f77b4"
         },
         "mode": "lines",
         "type": "scatter",
         "x": {
          "bdata": "AAAAAABAUEAAAAAAAEBQQAAAAAAAwFJAAAAAAADAUkA=",
          "dtype": "f8"
         },
         "xaxis": "x",
         "y": {
          "bdata": "AAAAAAAAAAAAAAAAAAAAAAAAAAAAAAAAAAAAAAAAAAA=",
          "dtype": "f8"
         },
         "yaxis": "y"
        },
        {
         "hoverinfo": "text",
         "marker": {
          "color": "#1f77b4"
         },
         "mode": "lines",
         "type": "scatter",
         "x": {
          "bdata": "AAAAAACAS0AAAAAAAIBLQAAAAAAAgFFAAAAAAACAUUA=",
          "dtype": "f8"
         },
         "xaxis": "x",
         "y": {
          "bdata": "AAAAAAAAAAAAAAAAAADwPwAAAAAAAPA/AAAAAAAAAAA=",
          "dtype": "f8"
         },
         "yaxis": "y"
        },
        {
         "hoverinfo": "text",
         "marker": {
          "color": "#1f77b4"
         },
         "mode": "lines",
         "type": "scatter",
         "x": {
          "bdata": "AAAAAAAAREAAAAAAAABEQAAAAAAAQE9AAAAAAABAT0A=",
          "dtype": "f8"
         },
         "xaxis": "x",
         "y": {
          "bdata": "AAAAAAAA8D+qTFjoerb7P6pMWOh6tvs/AAAAAAAA8D8=",
          "dtype": "f8"
         },
         "yaxis": "y"
        },
        {
         "hoverinfo": "text",
         "marker": {
          "color": "#1f77b4"
         },
         "mode": "lines",
         "type": "scatter",
         "x": {
          "bdata": "AAAAAAAAKUAAAAAAAAApQAAAAAAAoElAAAAAAACgSUA=",
          "dtype": "f8"
         },
         "xaxis": "x",
         "y": {
          "bdata": "zTt/Zp6g9j+qTFjoerb7P6pMWOh6tvs/qkxY6Hq2+z8=",
          "dtype": "f8"
         },
         "yaxis": "y"
        },
        {
         "hoverinfo": "text",
         "marker": {
          "color": "#1f77b4"
         },
         "mode": "lines",
         "type": "scatter",
         "x": {
          "bdata": "AAAAAABAVUAAAAAAAEBVQAAAAAAAwFdAAAAAAADAV0A=",
          "dtype": "f8"
         },
         "xaxis": "x",
         "y": {
          "bdata": "AAAAAAAAAADNO39mnqD2P807f2aeoPY/AAAAAAAAAAA=",
          "dtype": "f8"
         },
         "yaxis": "y"
        },
        {
         "hoverinfo": "text",
         "marker": {
          "color": "#1f77b4"
         },
         "mode": "lines",
         "type": "scatter",
         "x": {
          "bdata": "AAAAAADAXEAAAAAAAMBcQAAAAAAAQF9AAAAAAABAX0A=",
          "dtype": "f8"
         },
         "xaxis": "x",
         "y": {
          "bdata": "AAAAAAAAAAAAAAAAAAAAAAAAAAAAAAAAAAAAAAAAAAA=",
          "dtype": "f8"
         },
         "yaxis": "y"
        },
        {
         "hoverinfo": "text",
         "marker": {
          "color": "#1f77b4"
         },
         "mode": "lines",
         "type": "scatter",
         "x": {
          "bdata": "AAAAAABAWkAAAAAAAEBaQAAAAAAAAF5AAAAAAAAAXkA=",
          "dtype": "f8"
         },
         "xaxis": "x",
         "y": {
          "bdata": "AAAAAAAAAAAAAAAAAADwPwAAAAAAAPA/AAAAAAAAAAA=",
          "dtype": "f8"
         },
         "yaxis": "y"
        },
        {
         "hoverinfo": "text",
         "marker": {
          "color": "#1f77b4"
         },
         "mode": "lines",
         "type": "scatter",
         "x": {
          "bdata": "AAAAAADgYEAAAAAAAOBgQAAAAAAAIGJAAAAAAAAgYkA=",
          "dtype": "f8"
         },
         "xaxis": "x",
         "y": {
          "bdata": "AAAAAAAAAADNO39mnqD2P807f2aeoPY/AAAAAAAAAAA=",
          "dtype": "f8"
         },
         "yaxis": "y"
        },
        {
         "hoverinfo": "text",
         "marker": {
          "color": "#1f77b4"
         },
         "mode": "lines",
         "type": "scatter",
         "x": {
          "bdata": "AAAAAAAgXEAAAAAAACBcQAAAAAAAgGFAAAAAAACAYUA=",
          "dtype": "f8"
         },
         "xaxis": "x",
         "y": {
          "bdata": "AAAAAAAA8D+qTFjoerb7P6pMWOh6tvs/zTt/Zp6g9j8=",
          "dtype": "f8"
         },
         "yaxis": "y"
        },
        {
         "hoverinfo": "text",
         "marker": {
          "color": "#1f77b4"
         },
         "mode": "lines",
         "type": "scatter",
         "x": {
          "bdata": "AAAAAACAVkAAAAAAAIBWQAAAAAAAkF9AAAAAAACQX0A=",
          "dtype": "f8"
         },
         "xaxis": "x",
         "y": {
          "bdata": "zTt/Zp6g9j8AAAAAAAAAQAAAAAAAAABAqkxY6Hq2+z8=",
          "dtype": "f8"
         },
         "yaxis": "y"
        },
        {
         "hoverinfo": "text",
         "marker": {
          "color": "#1f77b4"
         },
         "mode": "lines",
         "type": "scatter",
         "x": {
          "bdata": "AAAAAADgP0AAAAAAAOA/QAAAAAAACFtAAAAAAAAIW0A=",
          "dtype": "f8"
         },
         "xaxis": "x",
         "y": {
          "bdata": "qkxY6Hq2+z8uIQkUjpgDQC4hCRSOmANAAAAAAAAAAEA=",
          "dtype": "f8"
         },
         "yaxis": "y"
        }
       ],
       "layout": {
        "autosize": false,
        "height": 500,
        "hovermode": "closest",
        "showlegend": false,
        "template": {
         "data": {
          "bar": [
           {
            "error_x": {
             "color": "#2a3f5f"
            },
            "error_y": {
             "color": "#2a3f5f"
            },
            "marker": {
             "line": {
              "color": "#E5ECF6",
              "width": 0.5
             },
             "pattern": {
              "fillmode": "overlay",
              "size": 10,
              "solidity": 0.2
             }
            },
            "type": "bar"
           }
          ],
          "barpolar": [
           {
            "marker": {
             "line": {
              "color": "#E5ECF6",
              "width": 0.5
             },
             "pattern": {
              "fillmode": "overlay",
              "size": 10,
              "solidity": 0.2
             }
            },
            "type": "barpolar"
           }
          ],
          "carpet": [
           {
            "aaxis": {
             "endlinecolor": "#2a3f5f",
             "gridcolor": "white",
             "linecolor": "white",
             "minorgridcolor": "white",
             "startlinecolor": "#2a3f5f"
            },
            "baxis": {
             "endlinecolor": "#2a3f5f",
             "gridcolor": "white",
             "linecolor": "white",
             "minorgridcolor": "white",
             "startlinecolor": "#2a3f5f"
            },
            "type": "carpet"
           }
          ],
          "choropleth": [
           {
            "colorbar": {
             "outlinewidth": 0,
             "ticks": ""
            },
            "type": "choropleth"
           }
          ],
          "contour": [
           {
            "colorbar": {
             "outlinewidth": 0,
             "ticks": ""
            },
            "colorscale": [
             [
              0,
              "#0d0887"
             ],
             [
              0.1111111111111111,
              "#46039f"
             ],
             [
              0.2222222222222222,
              "#7201a8"
             ],
             [
              0.3333333333333333,
              "#9c179e"
             ],
             [
              0.4444444444444444,
              "#bd3786"
             ],
             [
              0.5555555555555556,
              "#d8576b"
             ],
             [
              0.6666666666666666,
              "#ed7953"
             ],
             [
              0.7777777777777778,
              "#fb9f3a"
             ],
             [
              0.8888888888888888,
              "#fdca26"
             ],
             [
              1,
              "#f0f921"
             ]
            ],
            "type": "contour"
           }
          ],
          "contourcarpet": [
           {
            "colorbar": {
             "outlinewidth": 0,
             "ticks": ""
            },
            "type": "contourcarpet"
           }
          ],
          "heatmap": [
           {
            "colorbar": {
             "outlinewidth": 0,
             "ticks": ""
            },
            "colorscale": [
             [
              0,
              "#0d0887"
             ],
             [
              0.1111111111111111,
              "#46039f"
             ],
             [
              0.2222222222222222,
              "#7201a8"
             ],
             [
              0.3333333333333333,
              "#9c179e"
             ],
             [
              0.4444444444444444,
              "#bd3786"
             ],
             [
              0.5555555555555556,
              "#d8576b"
             ],
             [
              0.6666666666666666,
              "#ed7953"
             ],
             [
              0.7777777777777778,
              "#fb9f3a"
             ],
             [
              0.8888888888888888,
              "#fdca26"
             ],
             [
              1,
              "#f0f921"
             ]
            ],
            "type": "heatmap"
           }
          ],
          "histogram": [
           {
            "marker": {
             "pattern": {
              "fillmode": "overlay",
              "size": 10,
              "solidity": 0.2
             }
            },
            "type": "histogram"
           }
          ],
          "histogram2d": [
           {
            "colorbar": {
             "outlinewidth": 0,
             "ticks": ""
            },
            "colorscale": [
             [
              0,
              "#0d0887"
             ],
             [
              0.1111111111111111,
              "#46039f"
             ],
             [
              0.2222222222222222,
              "#7201a8"
             ],
             [
              0.3333333333333333,
              "#9c179e"
             ],
             [
              0.4444444444444444,
              "#bd3786"
             ],
             [
              0.5555555555555556,
              "#d8576b"
             ],
             [
              0.6666666666666666,
              "#ed7953"
             ],
             [
              0.7777777777777778,
              "#fb9f3a"
             ],
             [
              0.8888888888888888,
              "#fdca26"
             ],
             [
              1,
              "#f0f921"
             ]
            ],
            "type": "histogram2d"
           }
          ],
          "histogram2dcontour": [
           {
            "colorbar": {
             "outlinewidth": 0,
             "ticks": ""
            },
            "colorscale": [
             [
              0,
              "#0d0887"
             ],
             [
              0.1111111111111111,
              "#46039f"
             ],
             [
              0.2222222222222222,
              "#7201a8"
             ],
             [
              0.3333333333333333,
              "#9c179e"
             ],
             [
              0.4444444444444444,
              "#bd3786"
             ],
             [
              0.5555555555555556,
              "#d8576b"
             ],
             [
              0.6666666666666666,
              "#ed7953"
             ],
             [
              0.7777777777777778,
              "#fb9f3a"
             ],
             [
              0.8888888888888888,
              "#fdca26"
             ],
             [
              1,
              "#f0f921"
             ]
            ],
            "type": "histogram2dcontour"
           }
          ],
          "mesh3d": [
           {
            "colorbar": {
             "outlinewidth": 0,
             "ticks": ""
            },
            "type": "mesh3d"
           }
          ],
          "parcoords": [
           {
            "line": {
             "colorbar": {
              "outlinewidth": 0,
              "ticks": ""
             }
            },
            "type": "parcoords"
           }
          ],
          "pie": [
           {
            "automargin": true,
            "type": "pie"
           }
          ],
          "scatter": [
           {
            "fillpattern": {
             "fillmode": "overlay",
             "size": 10,
             "solidity": 0.2
            },
            "type": "scatter"
           }
          ],
          "scatter3d": [
           {
            "line": {
             "colorbar": {
              "outlinewidth": 0,
              "ticks": ""
             }
            },
            "marker": {
             "colorbar": {
              "outlinewidth": 0,
              "ticks": ""
             }
            },
            "type": "scatter3d"
           }
          ],
          "scattercarpet": [
           {
            "marker": {
             "colorbar": {
              "outlinewidth": 0,
              "ticks": ""
             }
            },
            "type": "scattercarpet"
           }
          ],
          "scattergeo": [
           {
            "marker": {
             "colorbar": {
              "outlinewidth": 0,
              "ticks": ""
             }
            },
            "type": "scattergeo"
           }
          ],
          "scattergl": [
           {
            "marker": {
             "colorbar": {
              "outlinewidth": 0,
              "ticks": ""
             }
            },
            "type": "scattergl"
           }
          ],
          "scattermap": [
           {
            "marker": {
             "colorbar": {
              "outlinewidth": 0,
              "ticks": ""
             }
            },
            "type": "scattermap"
           }
          ],
          "scattermapbox": [
           {
            "marker": {
             "colorbar": {
              "outlinewidth": 0,
              "ticks": ""
             }
            },
            "type": "scattermapbox"
           }
          ],
          "scatterpolar": [
           {
            "marker": {
             "colorbar": {
              "outlinewidth": 0,
              "ticks": ""
             }
            },
            "type": "scatterpolar"
           }
          ],
          "scatterpolargl": [
           {
            "marker": {
             "colorbar": {
              "outlinewidth": 0,
              "ticks": ""
             }
            },
            "type": "scatterpolargl"
           }
          ],
          "scatterternary": [
           {
            "marker": {
             "colorbar": {
              "outlinewidth": 0,
              "ticks": ""
             }
            },
            "type": "scatterternary"
           }
          ],
          "surface": [
           {
            "colorbar": {
             "outlinewidth": 0,
             "ticks": ""
            },
            "colorscale": [
             [
              0,
              "#0d0887"
             ],
             [
              0.1111111111111111,
              "#46039f"
             ],
             [
              0.2222222222222222,
              "#7201a8"
             ],
             [
              0.3333333333333333,
              "#9c179e"
             ],
             [
              0.4444444444444444,
              "#bd3786"
             ],
             [
              0.5555555555555556,
              "#d8576b"
             ],
             [
              0.6666666666666666,
              "#ed7953"
             ],
             [
              0.7777777777777778,
              "#fb9f3a"
             ],
             [
              0.8888888888888888,
              "#fdca26"
             ],
             [
              1,
              "#f0f921"
             ]
            ],
            "type": "surface"
           }
          ],
          "table": [
           {
            "cells": {
             "fill": {
              "color": "#EBF0F8"
             },
             "line": {
              "color": "white"
             }
            },
            "header": {
             "fill": {
              "color": "#C8D4E3"
             },
             "line": {
              "color": "white"
             }
            },
            "type": "table"
           }
          ]
         },
         "layout": {
          "annotationdefaults": {
           "arrowcolor": "#2a3f5f",
           "arrowhead": 0,
           "arrowwidth": 1
          },
          "autotypenumbers": "strict",
          "coloraxis": {
           "colorbar": {
            "outlinewidth": 0,
            "ticks": ""
           }
          },
          "colorscale": {
           "diverging": [
            [
             0,
             "#8e0152"
            ],
            [
             0.1,
             "#c51b7d"
            ],
            [
             0.2,
             "#de77ae"
            ],
            [
             0.3,
             "#f1b6da"
            ],
            [
             0.4,
             "#fde0ef"
            ],
            [
             0.5,
             "#f7f7f7"
            ],
            [
             0.6,
             "#e6f5d0"
            ],
            [
             0.7,
             "#b8e186"
            ],
            [
             0.8,
             "#7fbc41"
            ],
            [
             0.9,
             "#4d9221"
            ],
            [
             1,
             "#276419"
            ]
           ],
           "sequential": [
            [
             0,
             "#0d0887"
            ],
            [
             0.1111111111111111,
             "#46039f"
            ],
            [
             0.2222222222222222,
             "#7201a8"
            ],
            [
             0.3333333333333333,
             "#9c179e"
            ],
            [
             0.4444444444444444,
             "#bd3786"
            ],
            [
             0.5555555555555556,
             "#d8576b"
            ],
            [
             0.6666666666666666,
             "#ed7953"
            ],
            [
             0.7777777777777778,
             "#fb9f3a"
            ],
            [
             0.8888888888888888,
             "#fdca26"
            ],
            [
             1,
             "#f0f921"
            ]
           ],
           "sequentialminus": [
            [
             0,
             "#0d0887"
            ],
            [
             0.1111111111111111,
             "#46039f"
            ],
            [
             0.2222222222222222,
             "#7201a8"
            ],
            [
             0.3333333333333333,
             "#9c179e"
            ],
            [
             0.4444444444444444,
             "#bd3786"
            ],
            [
             0.5555555555555556,
             "#d8576b"
            ],
            [
             0.6666666666666666,
             "#ed7953"
            ],
            [
             0.7777777777777778,
             "#fb9f3a"
            ],
            [
             0.8888888888888888,
             "#fdca26"
            ],
            [
             1,
             "#f0f921"
            ]
           ]
          },
          "colorway": [
           "#636efa",
           "#EF553B",
           "#00cc96",
           "#ab63fa",
           "#FFA15A",
           "#19d3f3",
           "#FF6692",
           "#B6E880",
           "#FF97FF",
           "#FECB52"
          ],
          "font": {
           "color": "#2a3f5f"
          },
          "geo": {
           "bgcolor": "white",
           "lakecolor": "white",
           "landcolor": "#E5ECF6",
           "showlakes": true,
           "showland": true,
           "subunitcolor": "white"
          },
          "hoverlabel": {
           "align": "left"
          },
          "hovermode": "closest",
          "mapbox": {
           "style": "light"
          },
          "paper_bgcolor": "white",
          "plot_bgcolor": "#E5ECF6",
          "polar": {
           "angularaxis": {
            "gridcolor": "white",
            "linecolor": "white",
            "ticks": ""
           },
           "bgcolor": "#E5ECF6",
           "radialaxis": {
            "gridcolor": "white",
            "linecolor": "white",
            "ticks": ""
           }
          },
          "scene": {
           "xaxis": {
            "backgroundcolor": "#E5ECF6",
            "gridcolor": "white",
            "gridwidth": 2,
            "linecolor": "white",
            "showbackground": true,
            "ticks": "",
            "zerolinecolor": "white"
           },
           "yaxis": {
            "backgroundcolor": "#E5ECF6",
            "gridcolor": "white",
            "gridwidth": 2,
            "linecolor": "white",
            "showbackground": true,
            "ticks": "",
            "zerolinecolor": "white"
           },
           "zaxis": {
            "backgroundcolor": "#E5ECF6",
            "gridcolor": "white",
            "gridwidth": 2,
            "linecolor": "white",
            "showbackground": true,
            "ticks": "",
            "zerolinecolor": "white"
           }
          },
          "shapedefaults": {
           "line": {
            "color": "#2a3f5f"
           }
          },
          "ternary": {
           "aaxis": {
            "gridcolor": "white",
            "linecolor": "white",
            "ticks": ""
           },
           "baxis": {
            "gridcolor": "white",
            "linecolor": "white",
            "ticks": ""
           },
           "bgcolor": "#E5ECF6",
           "caxis": {
            "gridcolor": "white",
            "linecolor": "white",
            "ticks": ""
           }
          },
          "title": {
           "x": 0.05
          },
          "xaxis": {
           "automargin": true,
           "gridcolor": "white",
           "linecolor": "white",
           "ticks": "",
           "title": {
            "standoff": 15
           },
           "zerolinecolor": "white",
           "zerolinewidth": 2
          },
          "yaxis": {
           "automargin": true,
           "gridcolor": "white",
           "linecolor": "white",
           "ticks": "",
           "title": {
            "standoff": 15
           },
           "zerolinecolor": "white",
           "zerolinewidth": 2
          }
         }
        },
        "width": 800,
        "xaxis": {
         "mirror": "allticks",
         "rangemode": "tozero",
         "showgrid": false,
         "showline": true,
         "showticklabels": true,
         "tickmode": "array",
         "ticks": "outside",
         "ticktext": [
          "python",
          "frog",
          "salamander",
          "komodo",
          "turtle",
          "leopard shark",
          "salmon",
          "eel",
          "whale",
          "penguin",
          "porcupine",
          "human",
          "cat",
          "bat",
          "pigeon"
         ],
         "tickvals": [
          5,
          15,
          25,
          35,
          45,
          55,
          65,
          75,
          85,
          95,
          105,
          115,
          125,
          135,
          145
         ],
         "type": "linear",
         "zeroline": false
        },
        "yaxis": {
         "mirror": "allticks",
         "rangemode": "tozero",
         "showgrid": false,
         "showline": true,
         "showticklabels": true,
         "ticks": "outside",
         "type": "linear",
         "zeroline": false
        }
       }
      }
     },
     "metadata": {},
     "output_type": "display_data"
    }
   ],
   "source": [
    "Z = linkage(X, method='complete')\n",
    "create_dendrogram(X, Z, labels)"
   ]
  },
  {
   "cell_type": "code",
   "execution_count": 28,
   "id": "b578c2f4",
   "metadata": {},
   "outputs": [
    {
     "data": {
      "application/vnd.plotly.v1+json": {
       "config": {
        "plotlyServerURL": "https://plot.ly"
       },
       "data": [
        {
         "hoverinfo": "text",
         "marker": {
          "color": "#1f77b4"
         },
         "mode": "lines",
         "type": "scatter",
         "x": {
          "bdata": "AAAAAAAALkAAAAAAAAAuQAAAAAAAADlAAAAAAAAAOUA=",
          "dtype": "f8"
         },
         "xaxis": "x",
         "y": {
          "bdata": "AAAAAAAAAAAAAAAAAAAAAAAAAAAAAAAAAAAAAAAAAAA=",
          "dtype": "f8"
         },
         "yaxis": "y"
        },
        {
         "hoverinfo": "text",
         "marker": {
          "color": "#1f77b4"
         },
         "mode": "lines",
         "type": "scatter",
         "x": {
          "bdata": "AAAAAACAQUAAAAAAAIBBQAAAAAAAgEZAAAAAAACARkA=",
          "dtype": "f8"
         },
         "xaxis": "x",
         "y": {
          "bdata": "AAAAAAAAAAAAAAAAAADwPwAAAAAAAPA/AAAAAAAAAAA=",
          "dtype": "f8"
         },
         "yaxis": "y"
        },
        {
         "hoverinfo": "text",
         "marker": {
          "color": "#1f77b4"
         },
         "mode": "lines",
         "type": "scatter",
         "x": {
          "bdata": "AAAAAAAANEAAAAAAAAA0QAAAAAAAAERAAAAAAAAAREA=",
          "dtype": "f8"
         },
         "xaxis": "x",
         "y": {
          "bdata": "AAAAAAAAAADmnT8zT1DzP+adPzNPUPM/AAAAAAAA8D8=",
          "dtype": "f8"
         },
         "yaxis": "y"
        },
        {
         "hoverinfo": "text",
         "marker": {
          "color": "#1f77b4"
         },
         "mode": "lines",
         "type": "scatter",
         "x": {
          "bdata": "AAAAAAAAFEAAAAAAAAAUQAAAAAAAAD5AAAAAAAAAPkA=",
          "dtype": "f8"
         },
         "xaxis": "x",
         "y": {
          "bdata": "AAAAAAAAAAAEgPWGFeb3PwSA9YYV5vc/5p0/M09Q8z8=",
          "dtype": "f8"
         },
         "yaxis": "y"
        },
        {
         "hoverinfo": "text",
         "marker": {
          "color": "#1f77b4"
         },
         "mode": "lines",
         "type": "scatter",
         "x": {
          "bdata": "AAAAAABAVUAAAAAAAEBVQAAAAAAAwFdAAAAAAADAV0A=",
          "dtype": "f8"
         },
         "xaxis": "x",
         "y": {
          "bdata": "AAAAAAAAAAAAAAAAAAAAAAAAAAAAAAAAAAAAAAAAAAA=",
          "dtype": "f8"
         },
         "yaxis": "y"
        },
        {
         "hoverinfo": "text",
         "marker": {
          "color": "#1f77b4"
         },
         "mode": "lines",
         "type": "scatter",
         "x": {
          "bdata": "AAAAAADAUkAAAAAAAMBSQAAAAAAAgFZAAAAAAACAVkA=",
          "dtype": "f8"
         },
         "xaxis": "x",
         "y": {
          "bdata": "AAAAAAAAAAAAAAAAAADwPwAAAAAAAPA/AAAAAAAAAAA=",
          "dtype": "f8"
         },
         "yaxis": "y"
        },
        {
         "hoverinfo": "text",
         "marker": {
          "color": "#1f77b4"
         },
         "mode": "lines",
         "type": "scatter",
         "x": {
          "bdata": "AAAAAABAUEAAAAAAAEBQQAAAAAAAoFRAAAAAAACgVEA=",
          "dtype": "f8"
         },
         "xaxis": "x",
         "y": {
          "bdata": "AAAAAAAAAACJ0lREFGv0P4nSVEQUa/Q/AAAAAAAA8D8=",
          "dtype": "f8"
         },
         "yaxis": "y"
        },
        {
         "hoverinfo": "text",
         "marker": {
          "color": "#1f77b4"
         },
         "mode": "lines",
         "type": "scatter",
         "x": {
          "bdata": "AAAAAADAXEAAAAAAAMBcQAAAAAAAQF9AAAAAAABAX0A=",
          "dtype": "f8"
         },
         "xaxis": "x",
         "y": {
          "bdata": "AAAAAAAAAAAAAAAAAAAAAAAAAAAAAAAAAAAAAAAAAAA=",
          "dtype": "f8"
         },
         "yaxis": "y"
        },
        {
         "hoverinfo": "text",
         "marker": {
          "color": "#1f77b4"
         },
         "mode": "lines",
         "type": "scatter",
         "x": {
          "bdata": "AAAAAADgYEAAAAAAAOBgQAAAAAAAIGJAAAAAAAAgYkA=",
          "dtype": "f8"
         },
         "xaxis": "x",
         "y": {
          "bdata": "AAAAAAAAAAAAAAAAAADwPwAAAAAAAPA/AAAAAAAAAAA=",
          "dtype": "f8"
         },
         "yaxis": "y"
        },
        {
         "hoverinfo": "text",
         "marker": {
          "color": "#1f77b4"
         },
         "mode": "lines",
         "type": "scatter",
         "x": {
          "bdata": "AAAAAAAAXkAAAAAAAABeQAAAAAAAgGFAAAAAAACAYUA=",
          "dtype": "f8"
         },
         "xaxis": "x",
         "y": {
          "bdata": "AAAAAAAAAADmnT8zT1DzP+adPzNPUPM/AAAAAAAA8D8=",
          "dtype": "f8"
         },
         "yaxis": "y"
        },
        {
         "hoverinfo": "text",
         "marker": {
          "color": "#1f77b4"
         },
         "mode": "lines",
         "type": "scatter",
         "x": {
          "bdata": "AAAAAABAWkAAAAAAAEBaQAAAAAAAQGBAAAAAAABAYEA=",
          "dtype": "f8"
         },
         "xaxis": "x",
         "y": {
          "bdata": "AAAAAAAAAADabN/Mdvj0P9ps38x2+PQ/5p0/M09Q8z8=",
          "dtype": "f8"
         },
         "yaxis": "y"
        },
        {
         "hoverinfo": "text",
         "marker": {
          "color": "#1f77b4"
         },
         "mode": "lines",
         "type": "scatter",
         "x": {
          "bdata": "AAAAAABwUkAAAAAAAHBSQAAAAAAAYF1AAAAAAABgXUA=",
          "dtype": "f8"
         },
         "xaxis": "x",
         "y": {
          "bdata": "idJURBRr9D94F7xTVKT4P3gXvFNUpPg/2mzfzHb49D8=",
          "dtype": "f8"
         },
         "yaxis": "y"
        },
        {
         "hoverinfo": "text",
         "marker": {
          "color": "#1f77b4"
         },
         "mode": "lines",
         "type": "scatter",
         "x": {
          "bdata": "AAAAAACAS0AAAAAAAIBLQAAAAAAA6FdAAAAAAADoV0A=",
          "dtype": "f8"
         },
         "xaxis": "x",
         "y": {
          "bdata": "AAAAAAAAAADQFcz6Hdf5P9AVzPod1/k/eBe8U1Sk+D8=",
          "dtype": "f8"
         },
         "yaxis": "y"
        },
        {
         "hoverinfo": "text",
         "marker": {
          "color": "#1f77b4"
         },
         "mode": "lines",
         "type": "scatter",
         "x": {
          "bdata": "AAAAAACAMUAAAAAAAIAxQAAAAAAA1FJAAAAAAADUUkA=",
          "dtype": "f8"
         },
         "xaxis": "x",
         "y": {
          "bdata": "BID1hhXm9z8a/PSC+zj+Pxr89IL7OP4/0BXM+h3X+T8=",
          "dtype": "f8"
         },
         "yaxis": "y"
        }
       ],
       "layout": {
        "autosize": false,
        "height": 500,
        "hovermode": "closest",
        "showlegend": false,
        "template": {
         "data": {
          "bar": [
           {
            "error_x": {
             "color": "#2a3f5f"
            },
            "error_y": {
             "color": "#2a3f5f"
            },
            "marker": {
             "line": {
              "color": "#E5ECF6",
              "width": 0.5
             },
             "pattern": {
              "fillmode": "overlay",
              "size": 10,
              "solidity": 0.2
             }
            },
            "type": "bar"
           }
          ],
          "barpolar": [
           {
            "marker": {
             "line": {
              "color": "#E5ECF6",
              "width": 0.5
             },
             "pattern": {
              "fillmode": "overlay",
              "size": 10,
              "solidity": 0.2
             }
            },
            "type": "barpolar"
           }
          ],
          "carpet": [
           {
            "aaxis": {
             "endlinecolor": "#2a3f5f",
             "gridcolor": "white",
             "linecolor": "white",
             "minorgridcolor": "white",
             "startlinecolor": "#2a3f5f"
            },
            "baxis": {
             "endlinecolor": "#2a3f5f",
             "gridcolor": "white",
             "linecolor": "white",
             "minorgridcolor": "white",
             "startlinecolor": "#2a3f5f"
            },
            "type": "carpet"
           }
          ],
          "choropleth": [
           {
            "colorbar": {
             "outlinewidth": 0,
             "ticks": ""
            },
            "type": "choropleth"
           }
          ],
          "contour": [
           {
            "colorbar": {
             "outlinewidth": 0,
             "ticks": ""
            },
            "colorscale": [
             [
              0,
              "#0d0887"
             ],
             [
              0.1111111111111111,
              "#46039f"
             ],
             [
              0.2222222222222222,
              "#7201a8"
             ],
             [
              0.3333333333333333,
              "#9c179e"
             ],
             [
              0.4444444444444444,
              "#bd3786"
             ],
             [
              0.5555555555555556,
              "#d8576b"
             ],
             [
              0.6666666666666666,
              "#ed7953"
             ],
             [
              0.7777777777777778,
              "#fb9f3a"
             ],
             [
              0.8888888888888888,
              "#fdca26"
             ],
             [
              1,
              "#f0f921"
             ]
            ],
            "type": "contour"
           }
          ],
          "contourcarpet": [
           {
            "colorbar": {
             "outlinewidth": 0,
             "ticks": ""
            },
            "type": "contourcarpet"
           }
          ],
          "heatmap": [
           {
            "colorbar": {
             "outlinewidth": 0,
             "ticks": ""
            },
            "colorscale": [
             [
              0,
              "#0d0887"
             ],
             [
              0.1111111111111111,
              "#46039f"
             ],
             [
              0.2222222222222222,
              "#7201a8"
             ],
             [
              0.3333333333333333,
              "#9c179e"
             ],
             [
              0.4444444444444444,
              "#bd3786"
             ],
             [
              0.5555555555555556,
              "#d8576b"
             ],
             [
              0.6666666666666666,
              "#ed7953"
             ],
             [
              0.7777777777777778,
              "#fb9f3a"
             ],
             [
              0.8888888888888888,
              "#fdca26"
             ],
             [
              1,
              "#f0f921"
             ]
            ],
            "type": "heatmap"
           }
          ],
          "histogram": [
           {
            "marker": {
             "pattern": {
              "fillmode": "overlay",
              "size": 10,
              "solidity": 0.2
             }
            },
            "type": "histogram"
           }
          ],
          "histogram2d": [
           {
            "colorbar": {
             "outlinewidth": 0,
             "ticks": ""
            },
            "colorscale": [
             [
              0,
              "#0d0887"
             ],
             [
              0.1111111111111111,
              "#46039f"
             ],
             [
              0.2222222222222222,
              "#7201a8"
             ],
             [
              0.3333333333333333,
              "#9c179e"
             ],
             [
              0.4444444444444444,
              "#bd3786"
             ],
             [
              0.5555555555555556,
              "#d8576b"
             ],
             [
              0.6666666666666666,
              "#ed7953"
             ],
             [
              0.7777777777777778,
              "#fb9f3a"
             ],
             [
              0.8888888888888888,
              "#fdca26"
             ],
             [
              1,
              "#f0f921"
             ]
            ],
            "type": "histogram2d"
           }
          ],
          "histogram2dcontour": [
           {
            "colorbar": {
             "outlinewidth": 0,
             "ticks": ""
            },
            "colorscale": [
             [
              0,
              "#0d0887"
             ],
             [
              0.1111111111111111,
              "#46039f"
             ],
             [
              0.2222222222222222,
              "#7201a8"
             ],
             [
              0.3333333333333333,
              "#9c179e"
             ],
             [
              0.4444444444444444,
              "#bd3786"
             ],
             [
              0.5555555555555556,
              "#d8576b"
             ],
             [
              0.6666666666666666,
              "#ed7953"
             ],
             [
              0.7777777777777778,
              "#fb9f3a"
             ],
             [
              0.8888888888888888,
              "#fdca26"
             ],
             [
              1,
              "#f0f921"
             ]
            ],
            "type": "histogram2dcontour"
           }
          ],
          "mesh3d": [
           {
            "colorbar": {
             "outlinewidth": 0,
             "ticks": ""
            },
            "type": "mesh3d"
           }
          ],
          "parcoords": [
           {
            "line": {
             "colorbar": {
              "outlinewidth": 0,
              "ticks": ""
             }
            },
            "type": "parcoords"
           }
          ],
          "pie": [
           {
            "automargin": true,
            "type": "pie"
           }
          ],
          "scatter": [
           {
            "fillpattern": {
             "fillmode": "overlay",
             "size": 10,
             "solidity": 0.2
            },
            "type": "scatter"
           }
          ],
          "scatter3d": [
           {
            "line": {
             "colorbar": {
              "outlinewidth": 0,
              "ticks": ""
             }
            },
            "marker": {
             "colorbar": {
              "outlinewidth": 0,
              "ticks": ""
             }
            },
            "type": "scatter3d"
           }
          ],
          "scattercarpet": [
           {
            "marker": {
             "colorbar": {
              "outlinewidth": 0,
              "ticks": ""
             }
            },
            "type": "scattercarpet"
           }
          ],
          "scattergeo": [
           {
            "marker": {
             "colorbar": {
              "outlinewidth": 0,
              "ticks": ""
             }
            },
            "type": "scattergeo"
           }
          ],
          "scattergl": [
           {
            "marker": {
             "colorbar": {
              "outlinewidth": 0,
              "ticks": ""
             }
            },
            "type": "scattergl"
           }
          ],
          "scattermap": [
           {
            "marker": {
             "colorbar": {
              "outlinewidth": 0,
              "ticks": ""
             }
            },
            "type": "scattermap"
           }
          ],
          "scattermapbox": [
           {
            "marker": {
             "colorbar": {
              "outlinewidth": 0,
              "ticks": ""
             }
            },
            "type": "scattermapbox"
           }
          ],
          "scatterpolar": [
           {
            "marker": {
             "colorbar": {
              "outlinewidth": 0,
              "ticks": ""
             }
            },
            "type": "scatterpolar"
           }
          ],
          "scatterpolargl": [
           {
            "marker": {
             "colorbar": {
              "outlinewidth": 0,
              "ticks": ""
             }
            },
            "type": "scatterpolargl"
           }
          ],
          "scatterternary": [
           {
            "marker": {
             "colorbar": {
              "outlinewidth": 0,
              "ticks": ""
             }
            },
            "type": "scatterternary"
           }
          ],
          "surface": [
           {
            "colorbar": {
             "outlinewidth": 0,
             "ticks": ""
            },
            "colorscale": [
             [
              0,
              "#0d0887"
             ],
             [
              0.1111111111111111,
              "#46039f"
             ],
             [
              0.2222222222222222,
              "#7201a8"
             ],
             [
              0.3333333333333333,
              "#9c179e"
             ],
             [
              0.4444444444444444,
              "#bd3786"
             ],
             [
              0.5555555555555556,
              "#d8576b"
             ],
             [
              0.6666666666666666,
              "#ed7953"
             ],
             [
              0.7777777777777778,
              "#fb9f3a"
             ],
             [
              0.8888888888888888,
              "#fdca26"
             ],
             [
              1,
              "#f0f921"
             ]
            ],
            "type": "surface"
           }
          ],
          "table": [
           {
            "cells": {
             "fill": {
              "color": "#EBF0F8"
             },
             "line": {
              "color": "white"
             }
            },
            "header": {
             "fill": {
              "color": "#C8D4E3"
             },
             "line": {
              "color": "white"
             }
            },
            "type": "table"
           }
          ]
         },
         "layout": {
          "annotationdefaults": {
           "arrowcolor": "#2a3f5f",
           "arrowhead": 0,
           "arrowwidth": 1
          },
          "autotypenumbers": "strict",
          "coloraxis": {
           "colorbar": {
            "outlinewidth": 0,
            "ticks": ""
           }
          },
          "colorscale": {
           "diverging": [
            [
             0,
             "#8e0152"
            ],
            [
             0.1,
             "#c51b7d"
            ],
            [
             0.2,
             "#de77ae"
            ],
            [
             0.3,
             "#f1b6da"
            ],
            [
             0.4,
             "#fde0ef"
            ],
            [
             0.5,
             "#f7f7f7"
            ],
            [
             0.6,
             "#e6f5d0"
            ],
            [
             0.7,
             "#b8e186"
            ],
            [
             0.8,
             "#7fbc41"
            ],
            [
             0.9,
             "#4d9221"
            ],
            [
             1,
             "#276419"
            ]
           ],
           "sequential": [
            [
             0,
             "#0d0887"
            ],
            [
             0.1111111111111111,
             "#46039f"
            ],
            [
             0.2222222222222222,
             "#7201a8"
            ],
            [
             0.3333333333333333,
             "#9c179e"
            ],
            [
             0.4444444444444444,
             "#bd3786"
            ],
            [
             0.5555555555555556,
             "#d8576b"
            ],
            [
             0.6666666666666666,
             "#ed7953"
            ],
            [
             0.7777777777777778,
             "#fb9f3a"
            ],
            [
             0.8888888888888888,
             "#fdca26"
            ],
            [
             1,
             "#f0f921"
            ]
           ],
           "sequentialminus": [
            [
             0,
             "#0d0887"
            ],
            [
             0.1111111111111111,
             "#46039f"
            ],
            [
             0.2222222222222222,
             "#7201a8"
            ],
            [
             0.3333333333333333,
             "#9c179e"
            ],
            [
             0.4444444444444444,
             "#bd3786"
            ],
            [
             0.5555555555555556,
             "#d8576b"
            ],
            [
             0.6666666666666666,
             "#ed7953"
            ],
            [
             0.7777777777777778,
             "#fb9f3a"
            ],
            [
             0.8888888888888888,
             "#fdca26"
            ],
            [
             1,
             "#f0f921"
            ]
           ]
          },
          "colorway": [
           "#636efa",
           "#EF553B",
           "#00cc96",
           "#ab63fa",
           "#FFA15A",
           "#19d3f3",
           "#FF6692",
           "#B6E880",
           "#FF97FF",
           "#FECB52"
          ],
          "font": {
           "color": "#2a3f5f"
          },
          "geo": {
           "bgcolor": "white",
           "lakecolor": "white",
           "landcolor": "#E5ECF6",
           "showlakes": true,
           "showland": true,
           "subunitcolor": "white"
          },
          "hoverlabel": {
           "align": "left"
          },
          "hovermode": "closest",
          "mapbox": {
           "style": "light"
          },
          "paper_bgcolor": "white",
          "plot_bgcolor": "#E5ECF6",
          "polar": {
           "angularaxis": {
            "gridcolor": "white",
            "linecolor": "white",
            "ticks": ""
           },
           "bgcolor": "#E5ECF6",
           "radialaxis": {
            "gridcolor": "white",
            "linecolor": "white",
            "ticks": ""
           }
          },
          "scene": {
           "xaxis": {
            "backgroundcolor": "#E5ECF6",
            "gridcolor": "white",
            "gridwidth": 2,
            "linecolor": "white",
            "showbackground": true,
            "ticks": "",
            "zerolinecolor": "white"
           },
           "yaxis": {
            "backgroundcolor": "#E5ECF6",
            "gridcolor": "white",
            "gridwidth": 2,
            "linecolor": "white",
            "showbackground": true,
            "ticks": "",
            "zerolinecolor": "white"
           },
           "zaxis": {
            "backgroundcolor": "#E5ECF6",
            "gridcolor": "white",
            "gridwidth": 2,
            "linecolor": "white",
            "showbackground": true,
            "ticks": "",
            "zerolinecolor": "white"
           }
          },
          "shapedefaults": {
           "line": {
            "color": "#2a3f5f"
           }
          },
          "ternary": {
           "aaxis": {
            "gridcolor": "white",
            "linecolor": "white",
            "ticks": ""
           },
           "baxis": {
            "gridcolor": "white",
            "linecolor": "white",
            "ticks": ""
           },
           "bgcolor": "#E5ECF6",
           "caxis": {
            "gridcolor": "white",
            "linecolor": "white",
            "ticks": ""
           }
          },
          "title": {
           "x": 0.05
          },
          "xaxis": {
           "automargin": true,
           "gridcolor": "white",
           "linecolor": "white",
           "ticks": "",
           "title": {
            "standoff": 15
           },
           "zerolinecolor": "white",
           "zerolinewidth": 2
          },
          "yaxis": {
           "automargin": true,
           "gridcolor": "white",
           "linecolor": "white",
           "ticks": "",
           "title": {
            "standoff": 15
           },
           "zerolinecolor": "white",
           "zerolinewidth": 2
          }
         }
        },
        "width": 800,
        "xaxis": {
         "mirror": "allticks",
         "rangemode": "tozero",
         "showgrid": false,
         "showline": true,
         "showticklabels": true,
         "tickmode": "array",
         "ticks": "outside",
         "ticktext": [
          "pigeon",
          "human",
          "cat",
          "bat",
          "porcupine",
          "python",
          "whale",
          "leopard shark",
          "salmon",
          "eel",
          "penguin",
          "frog",
          "salamander",
          "komodo",
          "turtle"
         ],
         "tickvals": [
          5,
          15,
          25,
          35,
          45,
          55,
          65,
          75,
          85,
          95,
          105,
          115,
          125,
          135,
          145
         ],
         "type": "linear",
         "zeroline": false
        },
        "yaxis": {
         "mirror": "allticks",
         "rangemode": "tozero",
         "showgrid": false,
         "showline": true,
         "showticklabels": true,
         "ticks": "outside",
         "type": "linear",
         "zeroline": false
        }
       }
      }
     },
     "metadata": {},
     "output_type": "display_data"
    }
   ],
   "source": [
    "Z = linkage(X, method='average')\n",
    "create_dendrogram(X, Z, labels)"
   ]
  },
  {
   "cell_type": "markdown",
   "id": "0942a325",
   "metadata": {},
   "source": [
    "## Assignment 3"
   ]
  },
  {
   "cell_type": "markdown",
   "id": "5d645b44",
   "metadata": {},
   "source": [
    "### Loading Data"
   ]
  },
  {
   "cell_type": "code",
   "execution_count": 29,
   "id": "08f148e6",
   "metadata": {},
   "outputs": [
    {
     "data": {
      "text/html": [
       "<div>\n",
       "<style scoped>\n",
       "    .dataframe tbody tr th:only-of-type {\n",
       "        vertical-align: middle;\n",
       "    }\n",
       "\n",
       "    .dataframe tbody tr th {\n",
       "        vertical-align: top;\n",
       "    }\n",
       "\n",
       "    .dataframe thead th {\n",
       "        text-align: right;\n",
       "    }\n",
       "</style>\n",
       "<table border=\"1\" class=\"dataframe\">\n",
       "  <thead>\n",
       "    <tr style=\"text-align: right;\">\n",
       "      <th></th>\n",
       "      <th>x</th>\n",
       "      <th>y</th>\n",
       "    </tr>\n",
       "  </thead>\n",
       "  <tbody>\n",
       "    <tr>\n",
       "      <th>0</th>\n",
       "      <td>650.914</td>\n",
       "      <td>214.888</td>\n",
       "    </tr>\n",
       "    <tr>\n",
       "      <th>1</th>\n",
       "      <td>41.767</td>\n",
       "      <td>179.408</td>\n",
       "    </tr>\n",
       "    <tr>\n",
       "      <th>2</th>\n",
       "      <td>509.126</td>\n",
       "      <td>233.749</td>\n",
       "    </tr>\n",
       "    <tr>\n",
       "      <th>3</th>\n",
       "      <td>486.403</td>\n",
       "      <td>152.427</td>\n",
       "    </tr>\n",
       "    <tr>\n",
       "      <th>4</th>\n",
       "      <td>46.883</td>\n",
       "      <td>367.904</td>\n",
       "    </tr>\n",
       "    <tr>\n",
       "      <th>5</th>\n",
       "      <td>539.270</td>\n",
       "      <td>343.616</td>\n",
       "    </tr>\n",
       "    <tr>\n",
       "      <th>6</th>\n",
       "      <td>614.930</td>\n",
       "      <td>139.613</td>\n",
       "    </tr>\n",
       "    <tr>\n",
       "      <th>7</th>\n",
       "      <td>61.127</td>\n",
       "      <td>99.230</td>\n",
       "    </tr>\n",
       "    <tr>\n",
       "      <th>8</th>\n",
       "      <td>334.174</td>\n",
       "      <td>380.344</td>\n",
       "    </tr>\n",
       "    <tr>\n",
       "      <th>9</th>\n",
       "      <td>284.575</td>\n",
       "      <td>412.521</td>\n",
       "    </tr>\n",
       "    <tr>\n",
       "      <th>10</th>\n",
       "      <td>33.585</td>\n",
       "      <td>183.373</td>\n",
       "    </tr>\n",
       "    <tr>\n",
       "      <th>11</th>\n",
       "      <td>295.165</td>\n",
       "      <td>96.015</td>\n",
       "    </tr>\n",
       "    <tr>\n",
       "      <th>12</th>\n",
       "      <td>531.815</td>\n",
       "      <td>412.475</td>\n",
       "    </tr>\n",
       "    <tr>\n",
       "      <th>13</th>\n",
       "      <td>159.006</td>\n",
       "      <td>80.809</td>\n",
       "    </tr>\n",
       "    <tr>\n",
       "      <th>14</th>\n",
       "      <td>607.694</td>\n",
       "      <td>402.076</td>\n",
       "    </tr>\n",
       "    <tr>\n",
       "      <th>15</th>\n",
       "      <td>249.861</td>\n",
       "      <td>370.287</td>\n",
       "    </tr>\n",
       "    <tr>\n",
       "      <th>16</th>\n",
       "      <td>532.624</td>\n",
       "      <td>379.961</td>\n",
       "    </tr>\n",
       "    <tr>\n",
       "      <th>17</th>\n",
       "      <td>170.934</td>\n",
       "      <td>404.887</td>\n",
       "    </tr>\n",
       "    <tr>\n",
       "      <th>18</th>\n",
       "      <td>367.699</td>\n",
       "      <td>142.716</td>\n",
       "    </tr>\n",
       "    <tr>\n",
       "      <th>19</th>\n",
       "      <td>257.549</td>\n",
       "      <td>146.929</td>\n",
       "    </tr>\n",
       "  </tbody>\n",
       "</table>\n",
       "</div>"
      ],
      "text/plain": [
       "          x        y\n",
       "0   650.914  214.888\n",
       "1    41.767  179.408\n",
       "2   509.126  233.749\n",
       "3   486.403  152.427\n",
       "4    46.883  367.904\n",
       "5   539.270  343.616\n",
       "6   614.930  139.613\n",
       "7    61.127   99.230\n",
       "8   334.174  380.344\n",
       "9   284.575  412.521\n",
       "10   33.585  183.373\n",
       "11  295.165   96.015\n",
       "12  531.815  412.475\n",
       "13  159.006   80.809\n",
       "14  607.694  402.076\n",
       "15  249.861  370.287\n",
       "16  532.624  379.961\n",
       "17  170.934  404.887\n",
       "18  367.699  142.716\n",
       "19  257.549  146.929"
      ]
     },
     "execution_count": 29,
     "metadata": {},
     "output_type": "execute_result"
    }
   ],
   "source": [
    "# Load the data\n",
    "data = pd.read_csv('chameleon.csv')\n",
    "data.head(20)"
   ]
  },
  {
   "cell_type": "code",
   "execution_count": 37,
   "id": "eab92831",
   "metadata": {},
   "outputs": [],
   "source": [
    "# Create and fit DBSCAN model\n",
    "dbscan = DBSCAN(eps=15.5, min_samples=5)\n",
    "clusters = dbscan.fit_predict(data)\n",
    "data['cluster'] = clusters"
   ]
  },
  {
   "cell_type": "code",
   "execution_count": 41,
   "id": "22927bb0",
   "metadata": {},
   "outputs": [
    {
     "data": {
      "application/vnd.plotly.v1+json": {
       "config": {
        "plotlyServerURL": "https://plot.ly"
       },
       "data": [
        {
         "marker": {
          "color": {
           "bdata": "BAABAgMEBAX/AwAFBAUE/wQD/wADBAMGBQAEAQADAwADAwMAAAQDBQADBAcFBQQEBQQDBAMEAwMFBgQA/wUGAAADAwMEBAcD/wQAAQQAAAQEAwAAAwUEAwMEBAMFBQUDAwMEBQAEBAMDAwcC//8HBQMFBAUBAQMFBgEAAQgDCP8FBAQDBQQGBwMD/wECA/8ABgMCAwUEBP8EAgQDBAMBBwQDAQMDAQEBAQgABQUEBAMDBAUCBAQABAD/BAABAgMABAIF/wUDBQMFBwQAAAEFAAMDBAIDBAMHAwAAAQMFBAX/AwIEBwIIAwQBAwIHAwQEAwgA/wP/BAT/AQMEBwD/AAQEAwMFBQQFAQgFAwIFBQQDBQADAQQEBAQB/wQABAMGAwIEBAQFAQAFBwIBAwcFAAQDBwUDBAb/AwMABgMEBAQCBAQDBAYDBAUHAAP/BAT/AAUEAAMFBQUDBP8DBAAIBQMGBAAEBQMEAAcEBAUDAwQBAAIDBQEFAQAAAwMDBAEDAwMHBAMEAwME/wgH/wQEAwT/AAADAwMDAwUEBgYEAwAHAwIHBAQI//8I/wMABAYBAwMEBQQDBAAE/wAEAAAAAQMIAAUDAwMDBf8DBQMEBAMDBQUABQgDAgQDAwQDAwAF/wQDAwcDAAMEAgMFAwMEBAYDAwMFBQMEAwQEAAUCAAMIAv8D/wMF/wAFBAUA/wMEBAYE/wMCBAADBgIBAQQBBwUD/wABBAQDAAIAAwABAwQDBAIDBAcCBAUIBQQCAAMBBAIGBAQEAgMDBwMDAAMBAQYCAAgAAgT/AggDBf8AAQMEBAQDAAP/BAYDBQMB/wQEAQQHBAYEBP8DA/8EBQECAAX/BQUDAwUDAwcCAwABAgQABgQIBAQDAwP/BAUAAAUAAwQD/wQFAAMABwAABAcCBQMDAwIFAwMDBQMABv8BBwMCAAAFBAMDAwADAwQDAwMB/wEEBAEDBP8DBAQEAwMAA/8CAwMEAQMBB/8DAwMEAAQEAwUABAAAAwgDBQQD/wUEAgUFAQMDAwQEBAQEBAQCBAMFAAD/AAIGBAMEAwMAAwEECP8EBgQFBAQEAwQDAwQEAgQDBAYDBAUEAgT/CAMDAAUCAwQBBAQCBAMI/wMEBAMHBAUABAQDBQD/AQQIBP8BAwMDCAUFAQAABwMCAwT/AwUDAQMDAwMFAwMDAgIABgQEAwUDBAADAwT/BwMDBQQFA/8DAwMEAwMBAwP/AAMEAQMEBAMA/wMEBAMEAwMEBAgCAQQCAAMDBQEEBQMDBAEHAwMHBAMDAgAEAAQBAwQEBgMABQQDBAMDAP8CAwAABQIDAwIEAwX/AQQAAwQHAAMDAQUF/wQDAAQFBAQDAgACBwEDBAUFA/8DBAUFCAYDAwADBAUD/wP/AgT/AP8AAQAEBQMDAgAHCAECAQMEAAYABAEDBQQAAwIDBAMFBAT/AwMDAwMHBAMDAAcFBAMAAwMGBAMDAwEDAwUDAwIA/wQD/wADBgQEAwYAAwQDAAMDBAEHAAUAAwQFAwgIBAcDAwX/BQgDBAMIBgIFBQQCAgUEAAQDBAMHAwMEBwQDBQMFAgUCBAH/AwAEBwEDAP8D/wQCBAMAAAT/AwP/AAT/AgMFBAAEBQMDAwADBAMEBAX/AwQDBAQDA///BwMBBQMDBAb/BAIF/wMEAwQDBAMDA/8ABQMFA/8FAwH/BwMAAwMEA/8AAwUBAgQFBAMCBwMFBAMHA/8DBwQE/wMCBQQIAwMEAwMBAAP/BAUDBAUABAQCBAMEBQMFAwMAAwAH//8EAwMDBAUEAQMAAAcAAwMDAwECAAAFAQEAAwMEBAMDBAcAAwMDAwQBBAADAAQDAAMFBAMDAAUBBgYEAQQCAwQABAIFAwMDAAADBwUHBAMDAAMEBwUE/wMAA/8FAAMEAgQAAwUFBQQFBAUBAwUDBwQFAwMDBAcHBQMEAAAEBAIFAgcABAQFAwUE/wMEA/8FBAIBBwYABgQAAwMAAwQDAQUEBggDAAMAAwMBBQMBBAMEBAEEBAQFAwAAAAQAAgIEAAQAAwQBAwQDAP8E/wQBBAIDAQIFBAAAAQQDAAMDAAQEBQMDAwYFBQEBBgIDAwQEAAADAwEAAwQDAgMGBgQFBAQDAwYDAwEEAwMBAwAFBwMDBf8EAQMGBQMBAQEDBgUDAwMBBQMFAP8AAgMFBAAEBAYDBQQDAAUDAQAEAgP/CAMCBAIAAwMEAP8DAwYEAwT/AAgABQQABQMEAQQEAwYH/wMFBAMEAwADAgYBCAQE/wcEAAMDBP8CA/8EBwADBAD//wMB/wQEBAMDBAIDAwQEBQMEAwUCAwQDAwQEBAMBAAMDAwMDBAcABAIFBAT/AgQECAMBBAMEBAQDBAMEAAf/BQEDAQEDAv8IAwIBAwQDAwQHAwQBAQcEBAQABAMDBwQEAAMEAwMFBAMEAwUAAwQDBAAEBQMCAwMGBAgEBQQCCAIEAgMGAwEIAwP/A/8DAAIEAwEDAwMEAwQEBAMDAwAHAwIAAAEFBgMEBQIAAQMEAQUEBQQEBwEAAAQEBP8FAwMAAwQE//8D/wQDAgQABQAAAwQA/wMGBAABBAMECAH/AQAEAAMDBAADBAQDAAQAAQMCBAEFAwQDAwQD",
           "dtype": "i1"
          }
         },
         "mode": "markers",
         "type": "scatter",
         "x": {
          "bdata": "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",
          "dtype": "f8"
         },
         "y": {
          "bdata": "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",
          "dtype": "f8"
         }
        }
       ],
       "layout": {
        "template": {
         "data": {
          "bar": [
           {
            "error_x": {
             "color": "#2a3f5f"
            },
            "error_y": {
             "color": "#2a3f5f"
            },
            "marker": {
             "line": {
              "color": "#E5ECF6",
              "width": 0.5
             },
             "pattern": {
              "fillmode": "overlay",
              "size": 10,
              "solidity": 0.2
             }
            },
            "type": "bar"
           }
          ],
          "barpolar": [
           {
            "marker": {
             "line": {
              "color": "#E5ECF6",
              "width": 0.5
             },
             "pattern": {
              "fillmode": "overlay",
              "size": 10,
              "solidity": 0.2
             }
            },
            "type": "barpolar"
           }
          ],
          "carpet": [
           {
            "aaxis": {
             "endlinecolor": "#2a3f5f",
             "gridcolor": "white",
             "linecolor": "white",
             "minorgridcolor": "white",
             "startlinecolor": "#2a3f5f"
            },
            "baxis": {
             "endlinecolor": "#2a3f5f",
             "gridcolor": "white",
             "linecolor": "white",
             "minorgridcolor": "white",
             "startlinecolor": "#2a3f5f"
            },
            "type": "carpet"
           }
          ],
          "choropleth": [
           {
            "colorbar": {
             "outlinewidth": 0,
             "ticks": ""
            },
            "type": "choropleth"
           }
          ],
          "contour": [
           {
            "colorbar": {
             "outlinewidth": 0,
             "ticks": ""
            },
            "colorscale": [
             [
              0,
              "#0d0887"
             ],
             [
              0.1111111111111111,
              "#46039f"
             ],
             [
              0.2222222222222222,
              "#7201a8"
             ],
             [
              0.3333333333333333,
              "#9c179e"
             ],
             [
              0.4444444444444444,
              "#bd3786"
             ],
             [
              0.5555555555555556,
              "#d8576b"
             ],
             [
              0.6666666666666666,
              "#ed7953"
             ],
             [
              0.7777777777777778,
              "#fb9f3a"
             ],
             [
              0.8888888888888888,
              "#fdca26"
             ],
             [
              1,
              "#f0f921"
             ]
            ],
            "type": "contour"
           }
          ],
          "contourcarpet": [
           {
            "colorbar": {
             "outlinewidth": 0,
             "ticks": ""
            },
            "type": "contourcarpet"
           }
          ],
          "heatmap": [
           {
            "colorbar": {
             "outlinewidth": 0,
             "ticks": ""
            },
            "colorscale": [
             [
              0,
              "#0d0887"
             ],
             [
              0.1111111111111111,
              "#46039f"
             ],
             [
              0.2222222222222222,
              "#7201a8"
             ],
             [
              0.3333333333333333,
              "#9c179e"
             ],
             [
              0.4444444444444444,
              "#bd3786"
             ],
             [
              0.5555555555555556,
              "#d8576b"
             ],
             [
              0.6666666666666666,
              "#ed7953"
             ],
             [
              0.7777777777777778,
              "#fb9f3a"
             ],
             [
              0.8888888888888888,
              "#fdca26"
             ],
             [
              1,
              "#f0f921"
             ]
            ],
            "type": "heatmap"
           }
          ],
          "histogram": [
           {
            "marker": {
             "pattern": {
              "fillmode": "overlay",
              "size": 10,
              "solidity": 0.2
             }
            },
            "type": "histogram"
           }
          ],
          "histogram2d": [
           {
            "colorbar": {
             "outlinewidth": 0,
             "ticks": ""
            },
            "colorscale": [
             [
              0,
              "#0d0887"
             ],
             [
              0.1111111111111111,
              "#46039f"
             ],
             [
              0.2222222222222222,
              "#7201a8"
             ],
             [
              0.3333333333333333,
              "#9c179e"
             ],
             [
              0.4444444444444444,
              "#bd3786"
             ],
             [
              0.5555555555555556,
              "#d8576b"
             ],
             [
              0.6666666666666666,
              "#ed7953"
             ],
             [
              0.7777777777777778,
              "#fb9f3a"
             ],
             [
              0.8888888888888888,
              "#fdca26"
             ],
             [
              1,
              "#f0f921"
             ]
            ],
            "type": "histogram2d"
           }
          ],
          "histogram2dcontour": [
           {
            "colorbar": {
             "outlinewidth": 0,
             "ticks": ""
            },
            "colorscale": [
             [
              0,
              "#0d0887"
             ],
             [
              0.1111111111111111,
              "#46039f"
             ],
             [
              0.2222222222222222,
              "#7201a8"
             ],
             [
              0.3333333333333333,
              "#9c179e"
             ],
             [
              0.4444444444444444,
              "#bd3786"
             ],
             [
              0.5555555555555556,
              "#d8576b"
             ],
             [
              0.6666666666666666,
              "#ed7953"
             ],
             [
              0.7777777777777778,
              "#fb9f3a"
             ],
             [
              0.8888888888888888,
              "#fdca26"
             ],
             [
              1,
              "#f0f921"
             ]
            ],
            "type": "histogram2dcontour"
           }
          ],
          "mesh3d": [
           {
            "colorbar": {
             "outlinewidth": 0,
             "ticks": ""
            },
            "type": "mesh3d"
           }
          ],
          "parcoords": [
           {
            "line": {
             "colorbar": {
              "outlinewidth": 0,
              "ticks": ""
             }
            },
            "type": "parcoords"
           }
          ],
          "pie": [
           {
            "automargin": true,
            "type": "pie"
           }
          ],
          "scatter": [
           {
            "fillpattern": {
             "fillmode": "overlay",
             "size": 10,
             "solidity": 0.2
            },
            "type": "scatter"
           }
          ],
          "scatter3d": [
           {
            "line": {
             "colorbar": {
              "outlinewidth": 0,
              "ticks": ""
             }
            },
            "marker": {
             "colorbar": {
              "outlinewidth": 0,
              "ticks": ""
             }
            },
            "type": "scatter3d"
           }
          ],
          "scattercarpet": [
           {
            "marker": {
             "colorbar": {
              "outlinewidth": 0,
              "ticks": ""
             }
            },
            "type": "scattercarpet"
           }
          ],
          "scattergeo": [
           {
            "marker": {
             "colorbar": {
              "outlinewidth": 0,
              "ticks": ""
             }
            },
            "type": "scattergeo"
           }
          ],
          "scattergl": [
           {
            "marker": {
             "colorbar": {
              "outlinewidth": 0,
              "ticks": ""
             }
            },
            "type": "scattergl"
           }
          ],
          "scattermap": [
           {
            "marker": {
             "colorbar": {
              "outlinewidth": 0,
              "ticks": ""
             }
            },
            "type": "scattermap"
           }
          ],
          "scattermapbox": [
           {
            "marker": {
             "colorbar": {
              "outlinewidth": 0,
              "ticks": ""
             }
            },
            "type": "scattermapbox"
           }
          ],
          "scatterpolar": [
           {
            "marker": {
             "colorbar": {
              "outlinewidth": 0,
              "ticks": ""
             }
            },
            "type": "scatterpolar"
           }
          ],
          "scatterpolargl": [
           {
            "marker": {
             "colorbar": {
              "outlinewidth": 0,
              "ticks": ""
             }
            },
            "type": "scatterpolargl"
           }
          ],
          "scatterternary": [
           {
            "marker": {
             "colorbar": {
              "outlinewidth": 0,
              "ticks": ""
             }
            },
            "type": "scatterternary"
           }
          ],
          "surface": [
           {
            "colorbar": {
             "outlinewidth": 0,
             "ticks": ""
            },
            "colorscale": [
             [
              0,
              "#0d0887"
             ],
             [
              0.1111111111111111,
              "#46039f"
             ],
             [
              0.2222222222222222,
              "#7201a8"
             ],
             [
              0.3333333333333333,
              "#9c179e"
             ],
             [
              0.4444444444444444,
              "#bd3786"
             ],
             [
              0.5555555555555556,
              "#d8576b"
             ],
             [
              0.6666666666666666,
              "#ed7953"
             ],
             [
              0.7777777777777778,
              "#fb9f3a"
             ],
             [
              0.8888888888888888,
              "#fdca26"
             ],
             [
              1,
              "#f0f921"
             ]
            ],
            "type": "surface"
           }
          ],
          "table": [
           {
            "cells": {
             "fill": {
              "color": "#EBF0F8"
             },
             "line": {
              "color": "white"
             }
            },
            "header": {
             "fill": {
              "color": "#C8D4E3"
             },
             "line": {
              "color": "white"
             }
            },
            "type": "table"
           }
          ]
         },
         "layout": {
          "annotationdefaults": {
           "arrowcolor": "#2a3f5f",
           "arrowhead": 0,
           "arrowwidth": 1
          },
          "autotypenumbers": "strict",
          "coloraxis": {
           "colorbar": {
            "outlinewidth": 0,
            "ticks": ""
           }
          },
          "colorscale": {
           "diverging": [
            [
             0,
             "#8e0152"
            ],
            [
             0.1,
             "#c51b7d"
            ],
            [
             0.2,
             "#de77ae"
            ],
            [
             0.3,
             "#f1b6da"
            ],
            [
             0.4,
             "#fde0ef"
            ],
            [
             0.5,
             "#f7f7f7"
            ],
            [
             0.6,
             "#e6f5d0"
            ],
            [
             0.7,
             "#b8e186"
            ],
            [
             0.8,
             "#7fbc41"
            ],
            [
             0.9,
             "#4d9221"
            ],
            [
             1,
             "#276419"
            ]
           ],
           "sequential": [
            [
             0,
             "#0d0887"
            ],
            [
             0.1111111111111111,
             "#46039f"
            ],
            [
             0.2222222222222222,
             "#7201a8"
            ],
            [
             0.3333333333333333,
             "#9c179e"
            ],
            [
             0.4444444444444444,
             "#bd3786"
            ],
            [
             0.5555555555555556,
             "#d8576b"
            ],
            [
             0.6666666666666666,
             "#ed7953"
            ],
            [
             0.7777777777777778,
             "#fb9f3a"
            ],
            [
             0.8888888888888888,
             "#fdca26"
            ],
            [
             1,
             "#f0f921"
            ]
           ],
           "sequentialminus": [
            [
             0,
             "#0d0887"
            ],
            [
             0.1111111111111111,
             "#46039f"
            ],
            [
             0.2222222222222222,
             "#7201a8"
            ],
            [
             0.3333333333333333,
             "#9c179e"
            ],
            [
             0.4444444444444444,
             "#bd3786"
            ],
            [
             0.5555555555555556,
             "#d8576b"
            ],
            [
             0.6666666666666666,
             "#ed7953"
            ],
            [
             0.7777777777777778,
             "#fb9f3a"
            ],
            [
             0.8888888888888888,
             "#fdca26"
            ],
            [
             1,
             "#f0f921"
            ]
           ]
          },
          "colorway": [
           "#636efa",
           "#EF553B",
           "#00cc96",
           "#ab63fa",
           "#FFA15A",
           "#19d3f3",
           "#FF6692",
           "#B6E880",
           "#FF97FF",
           "#FECB52"
          ],
          "font": {
           "color": "#2a3f5f"
          },
          "geo": {
           "bgcolor": "white",
           "lakecolor": "white",
           "landcolor": "#E5ECF6",
           "showlakes": true,
           "showland": true,
           "subunitcolor": "white"
          },
          "hoverlabel": {
           "align": "left"
          },
          "hovermode": "closest",
          "mapbox": {
           "style": "light"
          },
          "paper_bgcolor": "white",
          "plot_bgcolor": "#E5ECF6",
          "polar": {
           "angularaxis": {
            "gridcolor": "white",
            "linecolor": "white",
            "ticks": ""
           },
           "bgcolor": "#E5ECF6",
           "radialaxis": {
            "gridcolor": "white",
            "linecolor": "white",
            "ticks": ""
           }
          },
          "scene": {
           "xaxis": {
            "backgroundcolor": "#E5ECF6",
            "gridcolor": "white",
            "gridwidth": 2,
            "linecolor": "white",
            "showbackground": true,
            "ticks": "",
            "zerolinecolor": "white"
           },
           "yaxis": {
            "backgroundcolor": "#E5ECF6",
            "gridcolor": "white",
            "gridwidth": 2,
            "linecolor": "white",
            "showbackground": true,
            "ticks": "",
            "zerolinecolor": "white"
           },
           "zaxis": {
            "backgroundcolor": "#E5ECF6",
            "gridcolor": "white",
            "gridwidth": 2,
            "linecolor": "white",
            "showbackground": true,
            "ticks": "",
            "zerolinecolor": "white"
           }
          },
          "shapedefaults": {
           "line": {
            "color": "#2a3f5f"
           }
          },
          "ternary": {
           "aaxis": {
            "gridcolor": "white",
            "linecolor": "white",
            "ticks": ""
           },
           "baxis": {
            "gridcolor": "white",
            "linecolor": "white",
            "ticks": ""
           },
           "bgcolor": "#E5ECF6",
           "caxis": {
            "gridcolor": "white",
            "linecolor": "white",
            "ticks": ""
           }
          },
          "title": {
           "x": 0.05
          },
          "xaxis": {
           "automargin": true,
           "gridcolor": "white",
           "linecolor": "white",
           "ticks": "",
           "title": {
            "standoff": 15
           },
           "zerolinecolor": "white",
           "zerolinewidth": 2
          },
          "yaxis": {
           "automargin": true,
           "gridcolor": "white",
           "linecolor": "white",
           "ticks": "",
           "title": {
            "standoff": 15
           },
           "zerolinecolor": "white",
           "zerolinewidth": 2
          }
         }
        }
       }
      }
     },
     "metadata": {},
     "output_type": "display_data"
    }
   ],
   "source": [
    "# Visualize the clusters\n",
    "fig = go.Figure()\n",
    "fig.add_trace(go.Scatter(x=data['x'], y=data['y'], mode='markers', marker_color=data['cluster']))\n",
    "fig.show()\n"
   ]
  },
  {
   "cell_type": "code",
   "execution_count": null,
   "id": "203f5f01",
   "metadata": {},
   "outputs": [],
   "source": []
  }
 ],
 "metadata": {
  "kernelspec": {
   "display_name": "Python 3",
   "language": "python",
   "name": "python3"
  },
  "language_info": {
   "codemirror_mode": {
    "name": "ipython",
    "version": 3
   },
   "file_extension": ".py",
   "mimetype": "text/x-python",
   "name": "python",
   "nbconvert_exporter": "python",
   "pygments_lexer": "ipython3",
   "version": "3.12.6"
  }
 },
 "nbformat": 4,
 "nbformat_minor": 5
}
