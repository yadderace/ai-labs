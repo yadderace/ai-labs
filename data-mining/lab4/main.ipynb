{
 "cells": [
  {
   "cell_type": "markdown",
   "id": "4c91b748",
   "metadata": {},
   "source": [
    "# Lab 4: Clustering"
   ]
  },
  {
   "cell_type": "markdown",
   "id": "c4d1c757",
   "metadata": {},
   "source": [
    "## Libraries"
   ]
  },
  {
   "cell_type": "code",
   "execution_count": 69,
   "id": "2b7130b8",
   "metadata": {},
   "outputs": [],
   "source": [
    "from sklearn.datasets import make_blobs\n",
    "from sklearn.cluster import KMeans\n",
    "#import plotly.graph_objects as go\n",
    "from plotly.subplots import make_subplots\n",
    "import numpy as np"
   ]
  },
  {
   "cell_type": "markdown",
   "id": "707905bf",
   "metadata": {},
   "source": [
    "## Utility Functions"
   ]
  },
  {
   "cell_type": "code",
   "execution_count": 103,
   "id": "abc2a4a4",
   "metadata": {},
   "outputs": [],
   "source": [
    "def plot_data(fig, X, y, clusters=None, kmean_centers=None, row=1, col=1):\n",
    "    \n",
    "    # Add data points\n",
    "    for k in range(clusters + 1):\n",
    "        mask = y == k\n",
    "        fig.add_trace(go.Scatter(\n",
    "            x=X[mask, 0],\n",
    "            y=X[mask, 1],\n",
    "            mode='markers',\n",
    "            name=f'Cluster {k}',\n",
    "            marker=dict(\n",
    "                size=8,\n",
    "                opacity=0.7,\n",
    "                line=dict(width=1, color='white')\n",
    "            )\n",
    "        ), row=row, col=col)\n",
    "\n",
    "    # Update layout\n",
    "    fig.update_xaxes(\n",
    "        title=\"X1\",\n",
    "        range=[-15, 15],\n",
    "        showgrid=True,\n",
    "        gridwidth=1,\n",
    "        gridcolor=\"LightGrey\",\n",
    "        row=row,\n",
    "        col=col\n",
    "    )\n",
    "\n",
    "    fig.update_yaxes(\n",
    "        title=\"X2\",\n",
    "        range=[-15, 15],\n",
    "        showgrid=True,\n",
    "        gridwidth=1,\n",
    "        gridcolor=\"LightGrey\",\n",
    "        row=row,\n",
    "        col=col\n",
    "    )\n",
    "\n",
    "    # Add center lines\n",
    "    fig.add_shape(\n",
    "        type=\"line\", x0=0, y0=-10, x1=0, y1=10,\n",
    "        line=dict(color=\"Black\", width=1, dash=\"dash\"),\n",
    "        row=row,\n",
    "        col=col\n",
    "    )\n",
    "    fig.add_shape(\n",
    "        type=\"line\", x0=-10, y0=0, x1=10, y1=0,\n",
    "        line=dict(color=\"Black\", width=1, dash=\"dash\"),\n",
    "        row=row,\n",
    "        col=col\n",
    "    )\n",
    "\n",
    "    # Hide legends\n",
    "    fig.update_layout(showlegend=False)\n",
    "\n",
    "    if kmean_centers is not None:\n",
    "        fig.add_trace(go.Scatter(\n",
    "            x=kmean_centers[:, 0],\n",
    "            y=kmean_centers[:, 1],\n",
    "            mode='markers',\n",
    "            name='Centers',\n",
    "            marker=dict(\n",
    "                size=12,\n",
    "                opacity=0.7,\n",
    "                line=dict(width=1, color='white')\n",
    "            )\n",
    "        ), row=row, col=col)"
   ]
  },
  {
   "cell_type": "code",
   "execution_count": 104,
   "id": "eb69d562",
   "metadata": {},
   "outputs": [],
   "source": [
    "def generate_cluster_data(\n",
    "    n: int = 10000,\n",
    "    centers: int = 4, \n",
    "    std: float = 0.6, \n",
    "    random_state: int = 42\n",
    ") -> tuple[np.ndarray, np.ndarray]:\n",
    "    \n",
    "    X, y = make_blobs(\n",
    "        n_samples=n, \n",
    "        centers=centers,\n",
    "        center_box=(-10, 10), \n",
    "        cluster_std=std, \n",
    "        random_state=random_state)\n",
    "    \n",
    "    return X, y"
   ]
  },
  {
   "cell_type": "markdown",
   "id": "4b5f4e59",
   "metadata": {},
   "source": [
    "## Asignment 1"
   ]
  },
  {
   "cell_type": "markdown",
   "id": "d0c45a0f",
   "metadata": {},
   "source": [
    "### (a) Generating data"
   ]
  },
  {
   "cell_type": "code",
   "execution_count": 107,
   "id": "c72dba35",
   "metadata": {},
   "outputs": [
    {
     "name": "stdout",
     "output_type": "stream",
     "text": [
      "X shape:  (300, 2)\n",
      "y shape:  (300,)\n"
     ]
    }
   ],
   "source": [
    "clusters = 4\n",
    "data_points = 300\n",
    "std = 0.6\n",
    "X, y = generate_cluster_data(n = data_points, centers=clusters, std=std, random_state=1505)\n",
    "\n",
    "print(\"X shape: \", X.shape)\n",
    "print(\"y shape: \", y.shape)\n",
    "\n"
   ]
  },
  {
   "cell_type": "code",
   "execution_count": 108,
   "id": "9dd2d223",
   "metadata": {},
   "outputs": [
    {
     "data": {
      "application/vnd.plotly.v1+json": {
       "config": {
        "plotlyServerURL": "https://plot.ly"
       },
       "data": [
        {
         "marker": {
          "line": {
           "color": "white",
           "width": 1
          },
          "opacity": 0.7,
          "size": 8
         },
         "mode": "markers",
         "name": "Cluster 0",
         "type": "scatter",
         "x": {
          "bdata": "WZj6NlOLBkAUxDN6D8MCQOzUayOn/gdAlhpwfl2TCUAg2uFc9D4MQOfA66tWggJA/FrgJVrlB0Ag6wxfaJ0JQPHY+LC9fgNA7d7mkiHJCUDGUJgAlyMBQC2ovRY5OwpAPEdug47Y/j8Nd0wzKBgDQPKwkyxPsvk/KMuWo32w/j+hIlP/20QOQKP325pzOgBA1Gd7mgEVC0Bt/xz+BTj/P15yt7srcAFAfQxIfcjYA0D085xV9EIGQAyKylOtoAhACy233XlIAkB8eTsK7Ob/P9r6bjTagAhAQo20ThihB0Ab7LEhkRYFQM77zVrGAwZAtQBrbXx1CECPDBBbstYCQCAn8+P93/g/F7lWGSC7DEBgbnMKhpoHQHh4nompfQZAIKTGwqMcBkAXGUOSbPT3P3iBly0ObgRAGK3M7vNSBkCkkMHmfWMBQJ82zHKcjgRAplt2yCU4CUBI8gBv3Q8BQHsfnfiuXApAx60CXU/fDkAs4uGODyXyP+0M1gkH4wxAaMTLnRJCBUCd7t04/4UAQDICxYY6GgNAuU00GmRrCEDROKFJ3X4EQEpu8s8UQABA//q27rvyCEAzJEDalm0CQMZ5h3ktlwNAEY11vUvXBkDHTKXCWAP7P8/ni/UcBQxAvzyG5YA/B0BOFshbDJoHQNucxXGyKglAK1ONGyTrCkC+/62WP9gDQKcAxeeTpgpA8sO6JvAtB0BTSk8DpwACQAKV+ZWtGAlA7bOlcfyZEEBeVcZu9K0FQC0ZjYVBAgZAun465rsdA0D6xkLWPSwHQMMN1jiBt/0/",
          "dtype": "f8"
         },
         "xaxis": "x",
         "y": {
          "bdata": "TE0e7PkXDcDSxU6OUyYTwLqmltePDRLA1l6UE8mAEcDzRiUDulwTwPACtFuARBTANJ8WShfTFMDHreFnhMYTwArctAsCAhLALkJ2Wa6fFMBsst2lNI0QwCCs7cwTLRjAw/TtvkVzEMDsNq9SGxAVwGJnnmXgRBHAXvkyMAaREsAJyGOw1pkMwK1Ils+AABPAS4UNYFhgDsA/DuUdDmESwJsAlMQJuAjA3jDCZb6SD8DNpXxUaSMQwEkH6+NpdhPAJERGx8vMEcB1Zqne7PkRwGztQdinwQvAKW5w6oltEsAuR86aBYcSwGOUC0Q0QxPAx6VDXvv5EMCUj2FBZf4SwE5vyCwoLw/AMIwVPHfYDcBacsEE+/gMwP8TAG8UQxfAsl/vZQj1EMD0w00nfqkXwOrcYanGHRPAocpuWpqHEcDHwxlVyrwMwC2MqbsorhbAgkkpDQ6pEcAumGFFc98PwH2kJeiFGRLABRpOSLocE8C0qs0JkEYKwHjURClOoBDASwuBkvR3FcCda6I0T3wOwBzkd/D1fBXAJaRMmSE3EMA7PYtOtisQwJ62DR/DHhDAsY3sFcxoEMCLRg0u7AUPwPxkFehRkA3ALbqHwBLoDMDZ3dSb8O0SwMP8ivPMAhTAaAX/6Il+EcBd07Xs15YQwNHU9cOaHRPA3WGg5firEMAhBwJeFNgPwIp4zXPlnRXAs+60KvnFE8BiQ63JlGkQwNKw0UbpjhXA01g9GECWE8ATKLYZD0YTwC8sfDcF9xLAKX4V5xP+C8DnyTC+fU0TwGpesdnvRg7A",
          "dtype": "f8"
         },
         "yaxis": "y"
        },
        {
         "marker": {
          "line": {
           "color": "white",
           "width": 1
          },
          "opacity": 0.7,
          "size": 8
         },
         "mode": "markers",
         "name": "Cluster 1",
         "type": "scatter",
         "x": {
          "bdata": "VBP5TfgQGkBS1bVunR4aQI10deuwFRdAoZPPFRU2HEDUoNaDP9UaQGwEBmxq1B9A+wRCcmMaG0DmeIVFzY8bQH6bigdtIhlA9HtSRolKGkDBVWN7vDIaQOO26TtKtxxAPnTl22RZG0ACRF872fwaQN4HUo3Y9hlA1VLjnZT9HkD11SY7Vb8dQMNbH4mW9x1AP95t3Q3nGkDzTyKIEt0cQHZXqrI7tB9A4gjgYtoyGkCG6eroLjIaQDR0gopwyx5AaX3T3jnfHkDaaPEVelMbQOAfofNB3hxAwBQRIghfG0BRgHoBqSgdQOt8zlKj/BxAr5U/9hSqGkCoyWTZ6y0dQGvU+QjMThlAjl3Sm1W2HEA/b27hPMQgQMw9pmjC9RpA5CcgxBeoHEDfMU9ByHUdQOu6sMC2jBpAOr83w3CTFkD1yabnEisfQNigwooh2B9A97nra4wlG0CGd7zzAOccQCAsV++vrBtASGbTfwfMHUAb7HsHqWUgQCZZykT+3RxA07gAji4tG0BHkwGx77UcQCZg+xOomx9AlFFgywMpG0DqumPdyZoeQKgHxCspWxtAXUZcFJhGHEDNWu28Z2caQBxHZYoSHR5AneyEvko2H0CY6vuN3BgeQIx5E5JokR5AQ2pnTWpXG0AzztwE0xYcQEQV/3PktB1AMusKsmdSHEBftVqOozYeQFE+yXBG+BlAG8YOSRRBG0BS7/cjgF4dQFZV9VRsvh1A90IjxP6SHECHgggUYbUcQLRRHxuOAx5AHFl5KPAEIECD6k1TIsseQKjhciuG5BtA",
          "dtype": "f8"
         },
         "xaxis": "x",
         "y": {
          "bdata": "OhvteIkdI0CKsPm8RMUlQJXAncds/CJATBC6nWeoI0DO5Sx/NfIhQELtfO1V7SNA48KJkRnbI0CGlVFvXWolQG196JI4oiJAT9SzVY+2I0Cw93T40K0iQLPbCwNhXSNAPvIVdSLhI0B8Jaw/aUwkQP5730AGtSJAbq9R/VwUJUCzzp55S1QjQNndixmVnCFARR6+VhobI0Ck1hTXqC0jQBit1fcSxyFAgBWfrFFCJEB51TZwomYiQGUDFJAcPSVAZH9b72QOIUCbngDU/dkiQOYTE/L03yJAJdebjWILJUB9eNzTCREiQId0HuEgDSJAlRoPjAV0JECBHKpbXnclQKwEazFZ8SJAQfp7SWGwI0D8e6AVphUjQEmXYvZedyNAwNuEy0YxJEDb2HYw2zkkQL7CmoSgliNAfKfJohuZI0CSFCOZSSUjQDDKQwS4CyVANX1nkvWXIUDYMfJKOo8kQKgmxFyLqSNAwGXgiwqbJUBH9kRhPVUkQKGJPYCS5iNATx2bLFO/I0DiOkA7vasiQBBWHX+UViNA28AfKHSLIkBviSocLgkkQKJrGkch9iJA/PdBDptDIkC3QJXeWegkQLtJ3PgiLCRA79RH19ELJUADi6VNzgAkQCVxnRDN+iNAEVEJuqaZIUBAfFEdeZ8jQHuVNQq7piNAfio2AxovJkBQ15yiPUIhQDrtxJUrOyJAGYibE7NrIkD5Xi6sQCEjQPOCim1luyRAD+9RiC1mI0DocB/mxfcjQKgFowVTvSJAWqJ1qzN4I0D9Axupa1slQES2JHolpiNA",
          "dtype": "f8"
         },
         "yaxis": "y"
        },
        {
         "marker": {
          "line": {
           "color": "white",
           "width": 1
          },
          "opacity": 0.7,
          "size": 8
         },
         "mode": "markers",
         "name": "Cluster 2",
         "type": "scatter",
         "x": {
          "bdata": "oSAYv/QA9L8oR5DjlpH8v+IxljdmKv2/wYOLr95x+r+Ky/dRfv3cvzNvEawkFQbAv1xzWgHe7b+5gRsE5ST7vzF98ZI4Peu//xguaXoABsDCniVZtrv0v+DtkV1XrvC/W4JXExesAMD3RRO2yp3wv5aOzQsnUgLAlKIthu5P9L8OUglrND37vyjjiONwfvO/XDHkO1Ht8784BeJIjusCwL4WxXmxJfm/mRjUiWzt77+T67f5V4flvy+A4b0go/K/we+hemQz/79C69DzlnH4v2+2nrGKLAXAcvXR/ICBAMC3+wm9goXzv0ewGSEUPP2/D1lkCMsk+L+25uztZXv5v5sXPZTYCfW/PHQlRS7l/b9r9WPuf3fwvycD0mNvOOe/jc3DX8Cj+r+rKq+W5V4DwAMR20F/6vG/saawKSZ/7b+LX+ESXs39v6y543i1hgLAcNuEg9Ni5r+mW4tx9wL3v/gmjLmNPPK/QJNJDifRAsDn9jUlQA/9v9cAIbG+lfa/JCWFgD4//7+uj4FF+77zv3+i2t6AZPm/usQ+7mz//b9nJ1lmrm4BwN8HzUkkafi/gQF1D5rz/L9g5wPwIDn/v6rpM0OZTv+/GZ5XXnUXDsBWqMN2TPYCwIX4JPhoeP6/7hOIPB3UA8Ct6SiSW9P7vzsqiduHXOy/NDDCLOzb678MByNO46vyv/WxKQ1kdgDAlQPlR0LFy79uHBWCHcQFwGeV7fKAIem/jpBDPhDn979+cLYycIPtvxkPXxgGd/e/uDbC1Wom8L+hkEbrD136v51en6wQeQDA",
          "dtype": "f8"
         },
         "xaxis": "x",
         "y": {
          "bdata": "RTYuIQMOGsDyiR4d77YVwFDr4jsIuRvA91UrnZ0YGMATyHXcyI4YwCytGIEA3hrAn2QY3Hp1GcBjO5A9k0kbwAndwNw33RjAybPsiUlTGsDxKkoMblYcwNxQpzBv7RzA14VAQhuaGsDMNq9t79sVwHyKhssKhxrAiMep6m7RF8C+A7fP3soXwNGPtowbthrAaulayWkGHMDg9wBlnmQbwPI3IMjvUxfAQCsBrSMFG8AElxmE3fAVwPYZDj+0BBrAWowZoZbzHcCBOk158HgWwC5NEOKtSBbAl3KDHmt+FsCfyneP1p0fwF4cIhMq9hnA2A2qnpRWG8AFko5rk4sdwKsfFxApdxzAnM5E80mnGcArIZZstswcwADsu+PbSRfANJmhfarwGcAq90g1InkYwFAl7l3LaxrAXcyLzv/4GcDTjgbYvWAZwOrisx7g6BvAeAGGvSzEGcC7fUSs/IocwFsNE1f0tBvA3t0M8KB4HsAZpttdkEQbwGizyFUrDB3ARFnIm+2uGMAecpvbGl0ZwAGem9LbkRnAD0jfJBO/GMB+TJPrk5gZwONsxmQaVBzAmTIb1Xq7GsB2d3qB0nQbwJs34UPFpBvAXPgI0UnQG8DrEpkyBFkcwB4PpHqNmxnAtWr6Hg/2GMAQtuIx7lYcwAIpVxzoxRzAASP+qMxPGcAX/1P9BCMcwEKJ5Hn7/RrADSIGudMuGsCPhS9mYEsewIoK/8DRFx7ABYoO+ElQGsBC0wNZ2R8cwJjb0ZO5sh3AmKsf31mOG8CFnBDOTXwZwGB+RlF4KxrA",
          "dtype": "f8"
         },
         "yaxis": "y"
        },
        {
         "marker": {
          "line": {
           "color": "white",
           "width": 1
          },
          "opacity": 0.7,
          "size": 8
         },
         "mode": "markers",
         "name": "Cluster 3",
         "type": "scatter",
         "x": {
          "bdata": "be9IunzK97/vrVZD5r77v4uX07R7Rvi/m3ymvoEGBMDPdOiRE0T4v5pKidm0V/O/dNTHkIrn4r+4sw9oN831v460fX1UZADAB4JZJErmCcC9NrxttQf2vwZn9QbTw/m/K1vyXLan+b+EL0cA6NjzvxGa49vNKQPAef21nVJH/7+Efy1bzRcGwJYKCzmjLu2/jZTFQ5ia+79TvQFNTMcAwGY8a3yLH+e/7ACSi9xX47+giZ2r7f/8v4SSu5ZdMQHAYW1oxdOw9b/qOOOnk3rwvyccsWX7OwPAmt/4UXqD+r/j68hmfVT9vwqBhOS57dy/NOVXmmLYAcCY0NQrQDr7v7G5iJ3v3fO/pL7nxPpk678xS2oMDx0FwDAKevDDWwTAfqx1KOuQ+b927uSw31f/v86Qps7swPO/OxmxJSw5AMD3L/HPLtDxv5sFZEe3ugPAdXwLOnoi6b+y4OYZw3f6v5QuHrzfNgPAITBY5T9W+L+Fo2dd8dXzv/uoYyURDPq/YtCzwEaD87+Cp+7NCEy0P6flg6nmHfC/aPjRZt7R8r+huIpDnFH4vyp34x43rvm/TWx6oEfTAMAoKjdaU/70v34EKHM9bP2/QL8lQ7wJ7b9CxcdEpAHxvwuNWfylOOW/j3l6Dicl8r+TUF0MSd/wvwcXpCvr2Pm/Rmhe41kE4r/zdXKBWg7sv6ML0OstmfC/nh+PO5fJ5L/QxGXDFvX8vzALboLRYPO/z727UwP86L+0X1fWjwsCwGmjAsny1f6/mMLiqHM48r/D+0Bo2jYBwEgQrIq7Z+e/",
          "dtype": "f8"
         },
         "xaxis": "x",
         "y": {
          "bdata": "h7X+7P8SA0A2IzgbvAUAQELIFh7QT/A/FgGRl2or/D8tYDGyYTfqP/ev0wj0XQJAyuHTaj628z/xAFnQTOn0P9UC++uDzvQ/ypyyfB2S+T8PyYAchh/0P0w2S8lxMQZAfqNvRFSY8D9vRqEkExj/PxIqS1hYctU/w4xURK43AUBwGw3FgXcDQAKNYjP+5gBAvSIxmzV69j+OYuSzIoD4P2BYfVXr2ABAx9LKGjb+9j/ZPM4C5TfvP9JLNuF9vv0/e/DKv6DYAUCDt/Iv4bYCQBZkLFX+r/s/Y9W5DfH09j97aPdhnRnkP/Tcaj3DlAJAAV5ii+e2AkDDDL26ZcHjP4IzdFxgRwdA6GETsEva8j8pIJ+OA2b6P51sg4XztwhA1SKflnceAEBYBWs9qKTyP1gabmH8+c4/FxxPx6o4+T9JgaB4nzPzPySe4oxNkfU/wTT0utjw7D8OKx6orVbqP9KXxjlCHP0/s0uT9tfNAUBkY97PJCbyPw6TvBSWJvo/AVn9Yu0h8j+tOD4/kAH6P0CqVlYc2QBAwJN5buwzAkAvK8hq8T76P7JtcrJXafg/gTCYfRXS9j+M1VM29TbxP9Stp9mOpfM/WiD2/2jt+T8D/stkV/P/Pw4iR16wg/8/T+6JmXuU9T9JnKhhIzgGQIQv93uY5/g/R7WZIaXA9D8ce7T2qw35P2s6TpM9RwNA7a97saRI5z+NI0sUIBHvP5Zy8RxUDABAo9zvYpFs+z9Nc9gTzkf0P41sAAn0J/I/jtd3L2GFAUBItSLcwD7iP6AzqEgBL9i/",
          "dtype": "f8"
         },
         "yaxis": "y"
        },
        {
         "marker": {
          "line": {
           "color": "white",
           "width": 1
          },
          "opacity": 0.7,
          "size": 8
         },
         "mode": "markers",
         "name": "Cluster 4",
         "type": "scatter",
         "x": [],
         "xaxis": "x",
         "y": [],
         "yaxis": "y"
        }
       ],
       "layout": {
        "shapes": [
         {
          "line": {
           "color": "Black",
           "dash": "dash",
           "width": 1
          },
          "type": "line",
          "x0": 0,
          "x1": 0,
          "xref": "x",
          "y0": -10,
          "y1": 10,
          "yref": "y"
         },
         {
          "line": {
           "color": "Black",
           "dash": "dash",
           "width": 1
          },
          "type": "line",
          "x0": -10,
          "x1": 10,
          "xref": "x",
          "y0": 0,
          "y1": 0,
          "yref": "y"
         }
        ],
        "showlegend": false,
        "template": {
         "data": {
          "bar": [
           {
            "error_x": {
             "color": "#2a3f5f"
            },
            "error_y": {
             "color": "#2a3f5f"
            },
            "marker": {
             "line": {
              "color": "#E5ECF6",
              "width": 0.5
             },
             "pattern": {
              "fillmode": "overlay",
              "size": 10,
              "solidity": 0.2
             }
            },
            "type": "bar"
           }
          ],
          "barpolar": [
           {
            "marker": {
             "line": {
              "color": "#E5ECF6",
              "width": 0.5
             },
             "pattern": {
              "fillmode": "overlay",
              "size": 10,
              "solidity": 0.2
             }
            },
            "type": "barpolar"
           }
          ],
          "carpet": [
           {
            "aaxis": {
             "endlinecolor": "#2a3f5f",
             "gridcolor": "white",
             "linecolor": "white",
             "minorgridcolor": "white",
             "startlinecolor": "#2a3f5f"
            },
            "baxis": {
             "endlinecolor": "#2a3f5f",
             "gridcolor": "white",
             "linecolor": "white",
             "minorgridcolor": "white",
             "startlinecolor": "#2a3f5f"
            },
            "type": "carpet"
           }
          ],
          "choropleth": [
           {
            "colorbar": {
             "outlinewidth": 0,
             "ticks": ""
            },
            "type": "choropleth"
           }
          ],
          "contour": [
           {
            "colorbar": {
             "outlinewidth": 0,
             "ticks": ""
            },
            "colorscale": [
             [
              0,
              "#0d0887"
             ],
             [
              0.1111111111111111,
              "#46039f"
             ],
             [
              0.2222222222222222,
              "#7201a8"
             ],
             [
              0.3333333333333333,
              "#9c179e"
             ],
             [
              0.4444444444444444,
              "#bd3786"
             ],
             [
              0.5555555555555556,
              "#d8576b"
             ],
             [
              0.6666666666666666,
              "#ed7953"
             ],
             [
              0.7777777777777778,
              "#fb9f3a"
             ],
             [
              0.8888888888888888,
              "#fdca26"
             ],
             [
              1,
              "#f0f921"
             ]
            ],
            "type": "contour"
           }
          ],
          "contourcarpet": [
           {
            "colorbar": {
             "outlinewidth": 0,
             "ticks": ""
            },
            "type": "contourcarpet"
           }
          ],
          "heatmap": [
           {
            "colorbar": {
             "outlinewidth": 0,
             "ticks": ""
            },
            "colorscale": [
             [
              0,
              "#0d0887"
             ],
             [
              0.1111111111111111,
              "#46039f"
             ],
             [
              0.2222222222222222,
              "#7201a8"
             ],
             [
              0.3333333333333333,
              "#9c179e"
             ],
             [
              0.4444444444444444,
              "#bd3786"
             ],
             [
              0.5555555555555556,
              "#d8576b"
             ],
             [
              0.6666666666666666,
              "#ed7953"
             ],
             [
              0.7777777777777778,
              "#fb9f3a"
             ],
             [
              0.8888888888888888,
              "#fdca26"
             ],
             [
              1,
              "#f0f921"
             ]
            ],
            "type": "heatmap"
           }
          ],
          "histogram": [
           {
            "marker": {
             "pattern": {
              "fillmode": "overlay",
              "size": 10,
              "solidity": 0.2
             }
            },
            "type": "histogram"
           }
          ],
          "histogram2d": [
           {
            "colorbar": {
             "outlinewidth": 0,
             "ticks": ""
            },
            "colorscale": [
             [
              0,
              "#0d0887"
             ],
             [
              0.1111111111111111,
              "#46039f"
             ],
             [
              0.2222222222222222,
              "#7201a8"
             ],
             [
              0.3333333333333333,
              "#9c179e"
             ],
             [
              0.4444444444444444,
              "#bd3786"
             ],
             [
              0.5555555555555556,
              "#d8576b"
             ],
             [
              0.6666666666666666,
              "#ed7953"
             ],
             [
              0.7777777777777778,
              "#fb9f3a"
             ],
             [
              0.8888888888888888,
              "#fdca26"
             ],
             [
              1,
              "#f0f921"
             ]
            ],
            "type": "histogram2d"
           }
          ],
          "histogram2dcontour": [
           {
            "colorbar": {
             "outlinewidth": 0,
             "ticks": ""
            },
            "colorscale": [
             [
              0,
              "#0d0887"
             ],
             [
              0.1111111111111111,
              "#46039f"
             ],
             [
              0.2222222222222222,
              "#7201a8"
             ],
             [
              0.3333333333333333,
              "#9c179e"
             ],
             [
              0.4444444444444444,
              "#bd3786"
             ],
             [
              0.5555555555555556,
              "#d8576b"
             ],
             [
              0.6666666666666666,
              "#ed7953"
             ],
             [
              0.7777777777777778,
              "#fb9f3a"
             ],
             [
              0.8888888888888888,
              "#fdca26"
             ],
             [
              1,
              "#f0f921"
             ]
            ],
            "type": "histogram2dcontour"
           }
          ],
          "mesh3d": [
           {
            "colorbar": {
             "outlinewidth": 0,
             "ticks": ""
            },
            "type": "mesh3d"
           }
          ],
          "parcoords": [
           {
            "line": {
             "colorbar": {
              "outlinewidth": 0,
              "ticks": ""
             }
            },
            "type": "parcoords"
           }
          ],
          "pie": [
           {
            "automargin": true,
            "type": "pie"
           }
          ],
          "scatter": [
           {
            "fillpattern": {
             "fillmode": "overlay",
             "size": 10,
             "solidity": 0.2
            },
            "type": "scatter"
           }
          ],
          "scatter3d": [
           {
            "line": {
             "colorbar": {
              "outlinewidth": 0,
              "ticks": ""
             }
            },
            "marker": {
             "colorbar": {
              "outlinewidth": 0,
              "ticks": ""
             }
            },
            "type": "scatter3d"
           }
          ],
          "scattercarpet": [
           {
            "marker": {
             "colorbar": {
              "outlinewidth": 0,
              "ticks": ""
             }
            },
            "type": "scattercarpet"
           }
          ],
          "scattergeo": [
           {
            "marker": {
             "colorbar": {
              "outlinewidth": 0,
              "ticks": ""
             }
            },
            "type": "scattergeo"
           }
          ],
          "scattergl": [
           {
            "marker": {
             "colorbar": {
              "outlinewidth": 0,
              "ticks": ""
             }
            },
            "type": "scattergl"
           }
          ],
          "scattermap": [
           {
            "marker": {
             "colorbar": {
              "outlinewidth": 0,
              "ticks": ""
             }
            },
            "type": "scattermap"
           }
          ],
          "scattermapbox": [
           {
            "marker": {
             "colorbar": {
              "outlinewidth": 0,
              "ticks": ""
             }
            },
            "type": "scattermapbox"
           }
          ],
          "scatterpolar": [
           {
            "marker": {
             "colorbar": {
              "outlinewidth": 0,
              "ticks": ""
             }
            },
            "type": "scatterpolar"
           }
          ],
          "scatterpolargl": [
           {
            "marker": {
             "colorbar": {
              "outlinewidth": 0,
              "ticks": ""
             }
            },
            "type": "scatterpolargl"
           }
          ],
          "scatterternary": [
           {
            "marker": {
             "colorbar": {
              "outlinewidth": 0,
              "ticks": ""
             }
            },
            "type": "scatterternary"
           }
          ],
          "surface": [
           {
            "colorbar": {
             "outlinewidth": 0,
             "ticks": ""
            },
            "colorscale": [
             [
              0,
              "#0d0887"
             ],
             [
              0.1111111111111111,
              "#46039f"
             ],
             [
              0.2222222222222222,
              "#7201a8"
             ],
             [
              0.3333333333333333,
              "#9c179e"
             ],
             [
              0.4444444444444444,
              "#bd3786"
             ],
             [
              0.5555555555555556,
              "#d8576b"
             ],
             [
              0.6666666666666666,
              "#ed7953"
             ],
             [
              0.7777777777777778,
              "#fb9f3a"
             ],
             [
              0.8888888888888888,
              "#fdca26"
             ],
             [
              1,
              "#f0f921"
             ]
            ],
            "type": "surface"
           }
          ],
          "table": [
           {
            "cells": {
             "fill": {
              "color": "#EBF0F8"
             },
             "line": {
              "color": "white"
             }
            },
            "header": {
             "fill": {
              "color": "#C8D4E3"
             },
             "line": {
              "color": "white"
             }
            },
            "type": "table"
           }
          ]
         },
         "layout": {
          "annotationdefaults": {
           "arrowcolor": "#2a3f5f",
           "arrowhead": 0,
           "arrowwidth": 1
          },
          "autotypenumbers": "strict",
          "coloraxis": {
           "colorbar": {
            "outlinewidth": 0,
            "ticks": ""
           }
          },
          "colorscale": {
           "diverging": [
            [
             0,
             "#8e0152"
            ],
            [
             0.1,
             "#c51b7d"
            ],
            [
             0.2,
             "#de77ae"
            ],
            [
             0.3,
             "#f1b6da"
            ],
            [
             0.4,
             "#fde0ef"
            ],
            [
             0.5,
             "#f7f7f7"
            ],
            [
             0.6,
             "#e6f5d0"
            ],
            [
             0.7,
             "#b8e186"
            ],
            [
             0.8,
             "#7fbc41"
            ],
            [
             0.9,
             "#4d9221"
            ],
            [
             1,
             "#276419"
            ]
           ],
           "sequential": [
            [
             0,
             "#0d0887"
            ],
            [
             0.1111111111111111,
             "#46039f"
            ],
            [
             0.2222222222222222,
             "#7201a8"
            ],
            [
             0.3333333333333333,
             "#9c179e"
            ],
            [
             0.4444444444444444,
             "#bd3786"
            ],
            [
             0.5555555555555556,
             "#d8576b"
            ],
            [
             0.6666666666666666,
             "#ed7953"
            ],
            [
             0.7777777777777778,
             "#fb9f3a"
            ],
            [
             0.8888888888888888,
             "#fdca26"
            ],
            [
             1,
             "#f0f921"
            ]
           ],
           "sequentialminus": [
            [
             0,
             "#0d0887"
            ],
            [
             0.1111111111111111,
             "#46039f"
            ],
            [
             0.2222222222222222,
             "#7201a8"
            ],
            [
             0.3333333333333333,
             "#9c179e"
            ],
            [
             0.4444444444444444,
             "#bd3786"
            ],
            [
             0.5555555555555556,
             "#d8576b"
            ],
            [
             0.6666666666666666,
             "#ed7953"
            ],
            [
             0.7777777777777778,
             "#fb9f3a"
            ],
            [
             0.8888888888888888,
             "#fdca26"
            ],
            [
             1,
             "#f0f921"
            ]
           ]
          },
          "colorway": [
           "#636efa",
           "#EF553B",
           "#00cc96",
           "#ab63fa",
           "#FFA15A",
           "#19d3f3",
           "#FF6692",
           "#B6E880",
           "#FF97FF",
           "#FECB52"
          ],
          "font": {
           "color": "#2a3f5f"
          },
          "geo": {
           "bgcolor": "white",
           "lakecolor": "white",
           "landcolor": "#E5ECF6",
           "showlakes": true,
           "showland": true,
           "subunitcolor": "white"
          },
          "hoverlabel": {
           "align": "left"
          },
          "hovermode": "closest",
          "mapbox": {
           "style": "light"
          },
          "paper_bgcolor": "white",
          "plot_bgcolor": "#E5ECF6",
          "polar": {
           "angularaxis": {
            "gridcolor": "white",
            "linecolor": "white",
            "ticks": ""
           },
           "bgcolor": "#E5ECF6",
           "radialaxis": {
            "gridcolor": "white",
            "linecolor": "white",
            "ticks": ""
           }
          },
          "scene": {
           "xaxis": {
            "backgroundcolor": "#E5ECF6",
            "gridcolor": "white",
            "gridwidth": 2,
            "linecolor": "white",
            "showbackground": true,
            "ticks": "",
            "zerolinecolor": "white"
           },
           "yaxis": {
            "backgroundcolor": "#E5ECF6",
            "gridcolor": "white",
            "gridwidth": 2,
            "linecolor": "white",
            "showbackground": true,
            "ticks": "",
            "zerolinecolor": "white"
           },
           "zaxis": {
            "backgroundcolor": "#E5ECF6",
            "gridcolor": "white",
            "gridwidth": 2,
            "linecolor": "white",
            "showbackground": true,
            "ticks": "",
            "zerolinecolor": "white"
           }
          },
          "shapedefaults": {
           "line": {
            "color": "#2a3f5f"
           }
          },
          "ternary": {
           "aaxis": {
            "gridcolor": "white",
            "linecolor": "white",
            "ticks": ""
           },
           "baxis": {
            "gridcolor": "white",
            "linecolor": "white",
            "ticks": ""
           },
           "bgcolor": "#E5ECF6",
           "caxis": {
            "gridcolor": "white",
            "linecolor": "white",
            "ticks": ""
           }
          },
          "title": {
           "x": 0.05
          },
          "xaxis": {
           "automargin": true,
           "gridcolor": "white",
           "linecolor": "white",
           "ticks": "",
           "title": {
            "standoff": 15
           },
           "zerolinecolor": "white",
           "zerolinewidth": 2
          },
          "yaxis": {
           "automargin": true,
           "gridcolor": "white",
           "linecolor": "white",
           "ticks": "",
           "title": {
            "standoff": 15
           },
           "zerolinecolor": "white",
           "zerolinewidth": 2
          }
         }
        },
        "xaxis": {
         "anchor": "y",
         "domain": [
          0,
          1
         ],
         "gridcolor": "LightGrey",
         "gridwidth": 1,
         "range": [
          -15,
          15
         ],
         "showgrid": true,
         "title": {
          "text": "X1"
         }
        },
        "yaxis": {
         "anchor": "x",
         "domain": [
          0,
          1
         ],
         "gridcolor": "LightGrey",
         "gridwidth": 1,
         "range": [
          -15,
          15
         ],
         "showgrid": true,
         "title": {
          "text": "X2"
         }
        }
       }
      }
     },
     "metadata": {},
     "output_type": "display_data"
    }
   ],
   "source": [
    "# Plotting data\n",
    "fig = make_subplots(rows=1, cols=1)\n",
    "plot_data(fig, X, y, clusters=clusters, row=1, col=1)\n",
    "fig.show()\n"
   ]
  },
  {
   "cell_type": "markdown",
   "id": "aa55c66d",
   "metadata": {},
   "source": [
    "### (b) Running K-means"
   ]
  },
  {
   "cell_type": "code",
   "execution_count": 109,
   "id": "66ecae02",
   "metadata": {},
   "outputs": [
    {
     "data": {
      "application/vnd.plotly.v1+json": {
       "config": {
        "plotlyServerURL": "https://plot.ly"
       },
       "data": [
        {
         "marker": {
          "line": {
           "color": "white",
           "width": 1
          },
          "opacity": 0.7,
          "size": 8
         },
         "mode": "markers",
         "name": "Cluster 0",
         "type": "scatter",
         "x": {
          "bdata": "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",
          "dtype": "f8"
         },
         "xaxis": "x",
         "y": {
          "bdata": "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",
          "dtype": "f8"
         },
         "yaxis": "y"
        },
        {
         "marker": {
          "line": {
           "color": "white",
           "width": 1
          },
          "opacity": 0.7,
          "size": 8
         },
         "mode": "markers",
         "name": "Cluster 1",
         "type": "scatter",
         "x": [],
         "xaxis": "x",
         "y": [],
         "yaxis": "y"
        },
        {
         "marker": {
          "line": {
           "color": "white",
           "width": 1
          },
          "opacity": 0.7,
          "size": 12
         },
         "mode": "markers",
         "name": "Centers",
         "type": "scatter",
         "x": {
          "bdata": "URQgPEXN+j8=",
          "dtype": "f8"
         },
         "xaxis": "x",
         "y": {
          "bdata": "xhpnPwoksT8=",
          "dtype": "f8"
         },
         "yaxis": "y"
        },
        {
         "marker": {
          "line": {
           "color": "white",
           "width": 1
          },
          "opacity": 0.7,
          "size": 8
         },
         "mode": "markers",
         "name": "Cluster 0",
         "type": "scatter",
         "x": {
          "bdata": "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",
          "dtype": "f8"
         },
         "xaxis": "x2",
         "y": {
          "bdata": "RTYuIQMOGsDyiR4d77YVwFDr4jsIuRvA91UrnZ0YGMCHtf7s/xIDQBPIddzIjhjATE0e7PkXDcDSxU6OUyYTwCytGIEA3hrANiM4G7wFAECfZBjcenUZwLqmltePDRLAYzuQPZNJG8AJ3cDcN90YwNZelBPJgBHAybPsiUlTGsBCyBYe0E/wP/EqSgxuVhzA3FCnMG/tHMDXhUBCG5oawMw2r23v2xXAFgGRl2or/D98iobLCocawPNGJQO6XBPA8AK0W4BEFMA0nxZKF9MUwMet4WeExhPACty0CwICEsAuQnZZrp8UwC1gMbJhN+o/iMep6m7RF8D3r9MI9F0CQL4Dt8/eyhfA0Y+2jBu2GsBq6VrJaQYcwGyy3aU0jRDA4PcAZZ5kG8AgrO3MEy0YwMP07b5FcxDA7DavUhsQFcDyNyDI71MXwGJnnmXgRBHAyuHTaj628z9e+TIwBpESwEArAa0jBRvA8QBZ0Ezp9D8JyGOw1pkMwK1Ils+AABPA1QL764PO9D/KnLJ8HZL5P0uFDWBYYA7APw7lHQ5hEsAPyYAchh/0P5sAlMQJuAjABJcZhN3wFcDeMMJlvpIPwM2lfFRpIxDATDZLyXExBkB+o29EVJjwP/YZDj+0BBrAb0ahJBMY/z9JB+vjaXYTwFqMGaGW8x3AEipLWFhy1T8kREbHy8wRwIE6TXnweBbAdWap3uz5EcAuTRDirUgWwMOMVESuNwFAl3KDHmt+FsBwGw3FgXcDQGztQdinwQvAKW5w6oltEsACjWIz/uYAQC5HzpoFhxLAvSIxmzV69j9jlAtENEMTwJ/Kd4/WnR/AXhwiEyr2GcDYDaqelFYbwI5i5LMigPg/YFh9VevYAEAFko5rk4sdwMelQ177+RDAlI9hQWX+EsDH0soaNv72P6sfFxApdxzATm/ILCgvD8AwjBU8d9gNwNk8zgLlN+8/0ks24X2+/T978Mq/oNgBQFpywQT7+AzAg7fyL+G2AkAWZCxV/q/7P2PVuQ3x9PY/e2j3YZ0Z5D//EwBvFEMXwJzORPNJpxnAKyGWbLbMHMD03Go9w5QCQAFeYovntgJAAOy749tJF8A0maF9qvAZwLJf72UI9RDAKvdINSJ5GMD0w00nfqkXwMMMvbplweM/UCXuXctrGsCCM3RcYEcHQF3Mi87/+BnA044G2L1gGcDoYROwS9ryPykgn44DZvo/6uKzHuDoG8Dq3GGpxh0TwJ1sg4XztwhAocpuWpqHEcB4AYa9LMQZwNUin5Z3HgBAx8MZVcq8DMAtjKm7KK4WwFgFaz2opPI/gkkpDQ6pEcBYGm5h/PnOP7t9RKz8ihzALphhRXPfD8B9pCXohRkSwBccT8eqOPk/SYGgeJ8z8z8knuKMTZH1P8E09LrY8Ow/DiseqK1W6j8FGk5IuhwTwNKXxjlCHP0/s0uT9tfNAUBkY97PJCbyPw6TvBSWJvo/AVn9Yu0h8j9bDRNX9LQbwK04Pj+QAfo/tKrNCZBGCsB41EQpTqAQwECqVlYc2QBASwuBkvR3FcDAk3lu7DMCQJ1rojRPfA7ALyvIavE++j/e3QzwoHgewBzkd/D1fBXAsm1ysldp+D+BMJh9FdL2Pxmm212QRBvAjNVTNvU28T8lpEyZITcQwDs9i062KxDAnrYNH8MeEMBos8hVKwwdwERZyJvtrhjAHnKb2xpdGcABnpvS25EZwLGN7BXMaBDAi0YNLuwFD8APSN8kE78YwH5Mk+uTmBnA42zGZBpUHMDUrafZjqXzP1og9v9o7fk//GQV6FGQDcCZMhvVersawC26h8AS6AzAA/7LZFfz/z92d3qB0nQbwJs34UPFpBvA2d3Um/DtEsBc+AjRSdAbwOsSmTIEWRzAw/yK88wCFMAOIkdesIP/Px4PpHqNmxnAT+6JmXuU9T9oBf/oiX4RwLVq+h4P9hjAELbiMe5WHMBd07Xs15YQwNHU9cOaHRPA3WGg5firEMACKVcc6MUcwCEHAl4U2A/ASZyoYSM4BkCKeM1z5Z0VwAEj/qjMTxnAhC/3e5jn+D+z7rQq+cUTwBf/U/0EIxzAQonkefv9GsBHtZkhpcD0Pxx7tParDfk/azpOkz1HA0BiQ63JlGkQwNKw0UbpjhXA01g9GECWE8ANIga50y4awBMothkPRhPAj4UvZmBLHsCKCv/A0RcewO2ve7GkSOc/BYoO+ElQGsCNI0sUIBHvPy8sfDcF9xLAKX4V5xP+C8DnyTC+fU0TwJZy8RxUDABAo9zvYpFs+z9C0wNZ2R8cwE1z2BPOR/Q/jWwACfQn8j+Y29GTubIdwI7Xdy9hhQFAmKsf31mOG8BItSLcwD7iP6AzqEgBL9i/hZwQzk18GcBgfkZReCsawGpesdnvRg7A",
          "dtype": "f8"
         },
         "yaxis": "y2"
        },
        {
         "marker": {
          "line": {
           "color": "white",
           "width": 1
          },
          "opacity": 0.7,
          "size": 8
         },
         "mode": "markers",
         "name": "Cluster 1",
         "type": "scatter",
         "x": {
          "bdata": "VBP5TfgQGkBS1bVunR4aQI10deuwFRdAoZPPFRU2HEDUoNaDP9UaQGwEBmxq1B9A+wRCcmMaG0DmeIVFzY8bQH6bigdtIhlA9HtSRolKGkDBVWN7vDIaQOO26TtKtxxAPnTl22RZG0ACRF872fwaQN4HUo3Y9hlA1VLjnZT9HkD11SY7Vb8dQMNbH4mW9x1AP95t3Q3nGkDzTyKIEt0cQHZXqrI7tB9A4gjgYtoyGkCG6eroLjIaQDR0gopwyx5AaX3T3jnfHkDaaPEVelMbQOAfofNB3hxAwBQRIghfG0BRgHoBqSgdQOt8zlKj/BxAr5U/9hSqGkCoyWTZ6y0dQGvU+QjMThlAjl3Sm1W2HEA/b27hPMQgQMw9pmjC9RpA5CcgxBeoHEDfMU9ByHUdQOu6sMC2jBpAOr83w3CTFkD1yabnEisfQNigwooh2B9A97nra4wlG0CGd7zzAOccQCAsV++vrBtASGbTfwfMHUAb7HsHqWUgQCZZykT+3RxA07gAji4tG0BHkwGx77UcQCZg+xOomx9AlFFgywMpG0DqumPdyZoeQKgHxCspWxtAXUZcFJhGHEDNWu28Z2caQBxHZYoSHR5AneyEvko2H0CY6vuN3BgeQIx5E5JokR5AQ2pnTWpXG0AzztwE0xYcQEQV/3PktB1AMusKsmdSHEBftVqOozYeQFE+yXBG+BlAG8YOSRRBG0BS7/cjgF4dQFZV9VRsvh1A90IjxP6SHECHgggUYbUcQLRRHxuOAx5AHFl5KPAEIECD6k1TIsseQKjhciuG5BtA",
          "dtype": "f8"
         },
         "xaxis": "x2",
         "y": {
          "bdata": "OhvteIkdI0CKsPm8RMUlQJXAncds/CJATBC6nWeoI0DO5Sx/NfIhQELtfO1V7SNA48KJkRnbI0CGlVFvXWolQG196JI4oiJAT9SzVY+2I0Cw93T40K0iQLPbCwNhXSNAPvIVdSLhI0B8Jaw/aUwkQP5730AGtSJAbq9R/VwUJUCzzp55S1QjQNndixmVnCFARR6+VhobI0Ck1hTXqC0jQBit1fcSxyFAgBWfrFFCJEB51TZwomYiQGUDFJAcPSVAZH9b72QOIUCbngDU/dkiQOYTE/L03yJAJdebjWILJUB9eNzTCREiQId0HuEgDSJAlRoPjAV0JECBHKpbXnclQKwEazFZ8SJAQfp7SWGwI0D8e6AVphUjQEmXYvZedyNAwNuEy0YxJEDb2HYw2zkkQL7CmoSgliNAfKfJohuZI0CSFCOZSSUjQDDKQwS4CyVANX1nkvWXIUDYMfJKOo8kQKgmxFyLqSNAwGXgiwqbJUBH9kRhPVUkQKGJPYCS5iNATx2bLFO/I0DiOkA7vasiQBBWHX+UViNA28AfKHSLIkBviSocLgkkQKJrGkch9iJA/PdBDptDIkC3QJXeWegkQLtJ3PgiLCRA79RH19ELJUADi6VNzgAkQCVxnRDN+iNAEVEJuqaZIUBAfFEdeZ8jQHuVNQq7piNAfio2AxovJkBQ15yiPUIhQDrtxJUrOyJAGYibE7NrIkD5Xi6sQCEjQPOCim1luyRAD+9RiC1mI0DocB/mxfcjQKgFowVTvSJAWqJ1qzN4I0D9Axupa1slQES2JHolpiNA",
          "dtype": "f8"
         },
         "yaxis": "y2"
        },
        {
         "marker": {
          "line": {
           "color": "white",
           "width": 1
          },
          "opacity": 0.7,
          "size": 8
         },
         "mode": "markers",
         "name": "Cluster 2",
         "type": "scatter",
         "x": [],
         "xaxis": "x2",
         "y": [],
         "yaxis": "y2"
        },
        {
         "marker": {
          "line": {
           "color": "white",
           "width": 1
          },
          "opacity": 0.7,
          "size": 12
         },
         "mode": "markers",
         "name": "Centers",
         "type": "scatter",
         "x": {
          "bdata": "OCUm+wv5wb/Np6tbnnwcQA==",
          "dtype": "f8"
         },
         "xaxis": "x2",
         "y": {
          "bdata": "gsOAeuFWCcB0y9ttSYojQA==",
          "dtype": "f8"
         },
         "yaxis": "y2"
        },
        {
         "marker": {
          "line": {
           "color": "white",
           "width": 1
          },
          "opacity": 0.7,
          "size": 8
         },
         "mode": "markers",
         "name": "Cluster 0",
         "type": "scatter",
         "x": {
          "bdata": "be9IunzK97/vrVZD5r77v4uX07R7Rvi/m3ymvoEGBMDPdOiRE0T4v5pKidm0V/O/dNTHkIrn4r+4sw9oN831v460fX1UZADAB4JZJErmCcC9NrxttQf2vwZn9QbTw/m/K1vyXLan+b+EL0cA6NjzvxGa49vNKQPAef21nVJH/7+Efy1bzRcGwJYKCzmjLu2/jZTFQ5ia+79TvQFNTMcAwGY8a3yLH+e/7ACSi9xX47+giZ2r7f/8v4SSu5ZdMQHAYW1oxdOw9b/qOOOnk3rwvyccsWX7OwPAmt/4UXqD+r/j68hmfVT9vwqBhOS57dy/NOVXmmLYAcCY0NQrQDr7v7G5iJ3v3fO/pL7nxPpk678xS2oMDx0FwDAKevDDWwTAfqx1KOuQ+b927uSw31f/v86Qps7swPO/OxmxJSw5AMD3L/HPLtDxv5sFZEe3ugPAdXwLOnoi6b+y4OYZw3f6v5QuHrzfNgPAITBY5T9W+L+Fo2dd8dXzv/uoYyURDPq/YtCzwEaD87+Cp+7NCEy0P6flg6nmHfC/aPjRZt7R8r+huIpDnFH4vyp34x43rvm/TWx6oEfTAMAoKjdaU/70v34EKHM9bP2/QL8lQ7wJ7b9CxcdEpAHxvwuNWfylOOW/j3l6Dicl8r+TUF0MSd/wvwcXpCvr2Pm/Rmhe41kE4r/zdXKBWg7sv6ML0OstmfC/nh+PO5fJ5L/QxGXDFvX8vzALboLRYPO/z727UwP86L+0X1fWjwsCwGmjAsny1f6/mMLiqHM48r/D+0Bo2jYBwEgQrIq7Z+e/",
          "dtype": "f8"
         },
         "xaxis": "x3",
         "y": {
          "bdata": "h7X+7P8SA0A2IzgbvAUAQELIFh7QT/A/FgGRl2or/D8tYDGyYTfqP/ev0wj0XQJAyuHTaj628z/xAFnQTOn0P9UC++uDzvQ/ypyyfB2S+T8PyYAchh/0P0w2S8lxMQZAfqNvRFSY8D9vRqEkExj/PxIqS1hYctU/w4xURK43AUBwGw3FgXcDQAKNYjP+5gBAvSIxmzV69j+OYuSzIoD4P2BYfVXr2ABAx9LKGjb+9j/ZPM4C5TfvP9JLNuF9vv0/e/DKv6DYAUCDt/Iv4bYCQBZkLFX+r/s/Y9W5DfH09j97aPdhnRnkP/Tcaj3DlAJAAV5ii+e2AkDDDL26ZcHjP4IzdFxgRwdA6GETsEva8j8pIJ+OA2b6P51sg4XztwhA1SKflnceAEBYBWs9qKTyP1gabmH8+c4/FxxPx6o4+T9JgaB4nzPzPySe4oxNkfU/wTT0utjw7D8OKx6orVbqP9KXxjlCHP0/s0uT9tfNAUBkY97PJCbyPw6TvBSWJvo/AVn9Yu0h8j+tOD4/kAH6P0CqVlYc2QBAwJN5buwzAkAvK8hq8T76P7JtcrJXafg/gTCYfRXS9j+M1VM29TbxP9Stp9mOpfM/WiD2/2jt+T8D/stkV/P/Pw4iR16wg/8/T+6JmXuU9T9JnKhhIzgGQIQv93uY5/g/R7WZIaXA9D8ce7T2qw35P2s6TpM9RwNA7a97saRI5z+NI0sUIBHvP5Zy8RxUDABAo9zvYpFs+z9Nc9gTzkf0P41sAAn0J/I/jtd3L2GFAUBItSLcwD7iP6AzqEgBL9i/",
          "dtype": "f8"
         },
         "yaxis": "y3"
        },
        {
         "marker": {
          "line": {
           "color": "white",
           "width": 1
          },
          "opacity": 0.7,
          "size": 8
         },
         "mode": "markers",
         "name": "Cluster 1",
         "type": "scatter",
         "x": {
          "bdata": "VBP5TfgQGkBS1bVunR4aQI10deuwFRdAoZPPFRU2HEDUoNaDP9UaQGwEBmxq1B9A+wRCcmMaG0DmeIVFzY8bQH6bigdtIhlA9HtSRolKGkDBVWN7vDIaQOO26TtKtxxAPnTl22RZG0ACRF872fwaQN4HUo3Y9hlA1VLjnZT9HkD11SY7Vb8dQMNbH4mW9x1AP95t3Q3nGkDzTyKIEt0cQHZXqrI7tB9A4gjgYtoyGkCG6eroLjIaQDR0gopwyx5AaX3T3jnfHkDaaPEVelMbQOAfofNB3hxAwBQRIghfG0BRgHoBqSgdQOt8zlKj/BxAr5U/9hSqGkCoyWTZ6y0dQGvU+QjMThlAjl3Sm1W2HEA/b27hPMQgQMw9pmjC9RpA5CcgxBeoHEDfMU9ByHUdQOu6sMC2jBpAOr83w3CTFkD1yabnEisfQNigwooh2B9A97nra4wlG0CGd7zzAOccQCAsV++vrBtASGbTfwfMHUAb7HsHqWUgQCZZykT+3RxA07gAji4tG0BHkwGx77UcQCZg+xOomx9AlFFgywMpG0DqumPdyZoeQKgHxCspWxtAXUZcFJhGHEDNWu28Z2caQBxHZYoSHR5AneyEvko2H0CY6vuN3BgeQIx5E5JokR5AQ2pnTWpXG0AzztwE0xYcQEQV/3PktB1AMusKsmdSHEBftVqOozYeQFE+yXBG+BlAG8YOSRRBG0BS7/cjgF4dQFZV9VRsvh1A90IjxP6SHECHgggUYbUcQLRRHxuOAx5AHFl5KPAEIECD6k1TIsseQKjhciuG5BtA",
          "dtype": "f8"
         },
         "xaxis": "x3",
         "y": {
          "bdata": "OhvteIkdI0CKsPm8RMUlQJXAncds/CJATBC6nWeoI0DO5Sx/NfIhQELtfO1V7SNA48KJkRnbI0CGlVFvXWolQG196JI4oiJAT9SzVY+2I0Cw93T40K0iQLPbCwNhXSNAPvIVdSLhI0B8Jaw/aUwkQP5730AGtSJAbq9R/VwUJUCzzp55S1QjQNndixmVnCFARR6+VhobI0Ck1hTXqC0jQBit1fcSxyFAgBWfrFFCJEB51TZwomYiQGUDFJAcPSVAZH9b72QOIUCbngDU/dkiQOYTE/L03yJAJdebjWILJUB9eNzTCREiQId0HuEgDSJAlRoPjAV0JECBHKpbXnclQKwEazFZ8SJAQfp7SWGwI0D8e6AVphUjQEmXYvZedyNAwNuEy0YxJEDb2HYw2zkkQL7CmoSgliNAfKfJohuZI0CSFCOZSSUjQDDKQwS4CyVANX1nkvWXIUDYMfJKOo8kQKgmxFyLqSNAwGXgiwqbJUBH9kRhPVUkQKGJPYCS5iNATx2bLFO/I0DiOkA7vasiQBBWHX+UViNA28AfKHSLIkBviSocLgkkQKJrGkch9iJA/PdBDptDIkC3QJXeWegkQLtJ3PgiLCRA79RH19ELJUADi6VNzgAkQCVxnRDN+iNAEVEJuqaZIUBAfFEdeZ8jQHuVNQq7piNAfio2AxovJkBQ15yiPUIhQDrtxJUrOyJAGYibE7NrIkD5Xi6sQCEjQPOCim1luyRAD+9RiC1mI0DocB/mxfcjQKgFowVTvSJAWqJ1qzN4I0D9Axupa1slQES2JHolpiNA",
          "dtype": "f8"
         },
         "yaxis": "y3"
        },
        {
         "marker": {
          "line": {
           "color": "white",
           "width": 1
          },
          "opacity": 0.7,
          "size": 8
         },
         "mode": "markers",
         "name": "Cluster 2",
         "type": "scatter",
         "x": {
          "bdata": "oSAYv/QA9L8oR5DjlpH8v+IxljdmKv2/wYOLr95x+r+Ky/dRfv3cv1mY+jZTiwZAFMQzeg/DAkAzbxGsJBUGwL9cc1oB3u2/7NRrI6f+B0C5gRsE5ST7vzF98ZI4Peu/lhpwfl2TCUD/GC5pegAGwMKeJVm2u/S/4O2RXVeu8L9bglcTF6wAwPdFE7bKnfC/lo7NCydSAsAg2uFc9D4MQOfA66tWggJA/FrgJVrlB0Ag6wxfaJ0JQPHY+LC9fgNA7d7mkiHJCUCUoi2G7k/0vw5SCWs0Pfu/KOOI43B+879cMeQ7Ue3zv8ZQmACXIwFAOAXiSI7rAsAtqL0WOTsKQDxHboOO2P4/DXdMMygYA0C+FsV5sSX5v/KwkyxPsvk/KMuWo32w/j+ZGNSJbO3vv6EiU//bRA5Ao/fbmnM6AEDUZ3uaARULQG3/HP4FOP8/XnK3uytwAUCT67f5V4flv30MSH3I2ANA9POcVfRCBkAvgOG9IKPyvwyKylOtoAhAwe+hemQz/78LLbfdeUgCQELr0POWcfi/fHk7Cuzm/z9vtp6xiiwFwHL10fyAgQDA2vpuNNqACEBCjbROGKEHQBvssSGRFgVAzvvNWsYDBkC3+wm9goXzv0ewGSEUPP2/D1lkCMsk+L+25uztZXv5v7UAa218dQhAjwwQW7LWAkCbFz2U2An1vyAn8+P93/g/F7lWGSC7DEBgbnMKhpoHQHh4nompfQZAPHQlRS7l/b9r9WPuf3fwvycD0mNvOOe/jc3DX8Cj+r8gpMbCoxwGQKsqr5blXgPAFxlDkmz09z8DEdtBf+rxv7GmsCkmf+2/i1/hEl7N/b+sueN4tYYCwHiBly0ObgRAGK3M7vNSBkBw24SD02Lmv6SQweZ9YwFAnzbMcpyOBECmW3bIJTgJQKZbi3H3Ave/SPIAb90PAUB7H534rlwKQMetAl1P3w5A+CaMuY088r8s4uGODyXyP+0M1gkH4wxAaMTLnRJCBUCd7t04/4UAQECTSQ4n0QLAMgLFhjoaA0Dn9jUlQA/9v7lNNBpkawhA0TihSd1+BEBKbvLPFEAAQNcAIbG+lfa/JCWFgD4//7+uj4FF+77zv3+i2t6AZPm///q27rvyCEAzJEDalm0CQLrEPu5s//2/ZydZZq5uAcDfB81JJGn4v8Z5h3ktlwNAgQF1D5rz/L8RjXW9S9cGQGDnA/AgOf+/qukzQ5lO/7/HTKXCWAP7PxmeV151Fw7AVqjDdkz2AsDP54v1HAUMQIX4JPhoeP6/vzyG5YA/B0DuE4g8HdQDwK3pKJJb0/u/ThbIWwyaB0DbnMVxsioJQCtTjRsk6wpAOyqJ24dc7L++/62WP9gDQKcAxeeTpgpANDDCLOzb67/yw7om8C0HQAwHI07jq/K/9bEpDWR2AMBTSk8DpwACQAKV+ZWtGAlA7bOlcfyZEECVA+VHQsXLv15Vxm70rQVAbhwVgh3EBcBnle3ygCHpv46QQz4Q5/e/LRmNhUECBkC6fjrmux0DQPrGQtY9LAdAfnC2MnCD7b8ZD18YBnf3v7g2wtVqJvC/oZBG6w9d+r+dXp+sEHkAwMMN1jiBt/0/",
          "dtype": "f8"
         },
         "xaxis": "x3",
         "y": {
          "bdata": "RTYuIQMOGsDyiR4d77YVwFDr4jsIuRvA91UrnZ0YGMATyHXcyI4YwExNHuz5Fw3A0sVOjlMmE8AsrRiBAN4awJ9kGNx6dRnAuqaW148NEsBjO5A9k0kbwAndwNw33RjA1l6UE8mAEcDJs+yJSVMawPEqSgxuVhzA3FCnMG/tHMDXhUBCG5oawMw2r23v2xXAfIqGywqHGsDzRiUDulwTwPACtFuARBTANJ8WShfTFMDHreFnhMYTwArctAsCAhLALkJ2Wa6fFMCIx6nqbtEXwL4Dt8/eyhfA0Y+2jBu2GsBq6VrJaQYcwGyy3aU0jRDA4PcAZZ5kG8AgrO3MEy0YwMP07b5FcxDA7DavUhsQFcDyNyDI71MXwGJnnmXgRBHAXvkyMAaREsBAKwGtIwUbwAnIY7DWmQzArUiWz4AAE8BLhQ1gWGAOwD8O5R0OYRLAmwCUxAm4CMAElxmE3fAVwN4wwmW+kg/AzaV8VGkjEMD2GQ4/tAQawEkH6+NpdhPAWowZoZbzHcAkREbHy8wRwIE6TXnweBbAdWap3uz5EcAuTRDirUgWwJdygx5rfhbAbO1B2KfBC8ApbnDqiW0SwC5HzpoFhxLAY5QLRDRDE8CfyneP1p0fwF4cIhMq9hnA2A2qnpRWG8AFko5rk4sdwMelQ177+RDAlI9hQWX+EsCrHxcQKXccwE5vyCwoLw/AMIwVPHfYDcBacsEE+/gMwP8TAG8UQxfAnM5E80mnGcArIZZstswcwADsu+PbSRfANJmhfarwGcCyX+9lCPUQwCr3SDUieRjA9MNNJ36pF8BQJe5dy2sawF3Mi87/+BnA044G2L1gGcDq4rMe4OgbwOrcYanGHRPAocpuWpqHEcB4AYa9LMQZwMfDGVXKvAzALYypuyiuFsCCSSkNDqkRwLt9RKz8ihzALphhRXPfD8B9pCXohRkSwAUaTki6HBPAWw0TV/S0G8C0qs0JkEYKwHjURClOoBDASwuBkvR3FcCda6I0T3wOwN7dDPCgeB7AHOR38PV8FcAZpttdkEQbwCWkTJkhNxDAOz2LTrYrEMCetg0fwx4QwGizyFUrDB3ARFnIm+2uGMAecpvbGl0ZwAGem9LbkRnAsY3sFcxoEMCLRg0u7AUPwA9I3yQTvxjAfkyT65OYGcDjbMZkGlQcwPxkFehRkA3AmTIb1Xq7GsAtuofAEugMwHZ3eoHSdBvAmzfhQ8WkG8DZ3dSb8O0SwFz4CNFJ0BvA6xKZMgRZHMDD/IrzzAIUwB4PpHqNmxnAaAX/6Il+EcC1avoeD/YYwBC24jHuVhzAXdO17NeWEMDR1PXDmh0TwN1hoOX4qxDAAilXHOjFHMAhBwJeFNgPwIp4zXPlnRXAASP+qMxPGcCz7rQq+cUTwBf/U/0EIxzAQonkefv9GsBiQ63JlGkQwNKw0UbpjhXA01g9GECWE8ANIga50y4awBMothkPRhPAj4UvZmBLHsCKCv/A0RcewAWKDvhJUBrALyx8NwX3EsApfhXnE/4LwOfJML59TRPAQtMDWdkfHMCY29GTubIdwJirH99ZjhvAhZwQzk18GcBgfkZReCsawGpesdnvRg7A",
          "dtype": "f8"
         },
         "yaxis": "y3"
        },
        {
         "marker": {
          "line": {
           "color": "white",
           "width": 1
          },
          "opacity": 0.7,
          "size": 8
         },
         "mode": "markers",
         "name": "Cluster 3",
         "type": "scatter",
         "x": [],
         "xaxis": "x3",
         "y": [],
         "yaxis": "y3"
        },
        {
         "marker": {
          "line": {
           "color": "white",
           "width": 1
          },
          "opacity": 0.7,
          "size": 12
         },
         "mode": "markers",
         "name": "Centers",
         "type": "scatter",
         "x": {
          "bdata": "UZ23V4Qc+L/Np6tbnnwcQFxPidkfX+E/",
          "dtype": "f8"
         },
         "xaxis": "x3",
         "y": {
          "bdata": "QNfioEdD+T90y9ttSYojQIjt/A+SKRbA",
          "dtype": "f8"
         },
         "yaxis": "y3"
        },
        {
         "marker": {
          "line": {
           "color": "white",
           "width": 1
          },
          "opacity": 0.7,
          "size": 8
         },
         "mode": "markers",
         "name": "Cluster 0",
         "type": "scatter",
         "x": {
          "bdata": "be9IunzK97/vrVZD5r77v4uX07R7Rvi/m3ymvoEGBMDPdOiRE0T4v5pKidm0V/O/dNTHkIrn4r+4sw9oN831v460fX1UZADAB4JZJErmCcC9NrxttQf2vwZn9QbTw/m/K1vyXLan+b+EL0cA6NjzvxGa49vNKQPAef21nVJH/7+Efy1bzRcGwJYKCzmjLu2/jZTFQ5ia+79TvQFNTMcAwGY8a3yLH+e/7ACSi9xX47+giZ2r7f/8v4SSu5ZdMQHAYW1oxdOw9b/qOOOnk3rwvyccsWX7OwPAmt/4UXqD+r/j68hmfVT9vwqBhOS57dy/NOVXmmLYAcCY0NQrQDr7v7G5iJ3v3fO/pL7nxPpk678xS2oMDx0FwDAKevDDWwTAfqx1KOuQ+b927uSw31f/v86Qps7swPO/OxmxJSw5AMD3L/HPLtDxv5sFZEe3ugPAdXwLOnoi6b+y4OYZw3f6v5QuHrzfNgPAITBY5T9W+L+Fo2dd8dXzv/uoYyURDPq/YtCzwEaD87+Cp+7NCEy0P6flg6nmHfC/aPjRZt7R8r+huIpDnFH4vyp34x43rvm/TWx6oEfTAMAoKjdaU/70v34EKHM9bP2/QL8lQ7wJ7b9CxcdEpAHxvwuNWfylOOW/j3l6Dicl8r+TUF0MSd/wvwcXpCvr2Pm/Rmhe41kE4r/zdXKBWg7sv6ML0OstmfC/nh+PO5fJ5L/QxGXDFvX8vzALboLRYPO/z727UwP86L+0X1fWjwsCwGmjAsny1f6/mMLiqHM48r/D+0Bo2jYBwEgQrIq7Z+e/",
          "dtype": "f8"
         },
         "xaxis": "x4",
         "y": {
          "bdata": "h7X+7P8SA0A2IzgbvAUAQELIFh7QT/A/FgGRl2or/D8tYDGyYTfqP/ev0wj0XQJAyuHTaj628z/xAFnQTOn0P9UC++uDzvQ/ypyyfB2S+T8PyYAchh/0P0w2S8lxMQZAfqNvRFSY8D9vRqEkExj/PxIqS1hYctU/w4xURK43AUBwGw3FgXcDQAKNYjP+5gBAvSIxmzV69j+OYuSzIoD4P2BYfVXr2ABAx9LKGjb+9j/ZPM4C5TfvP9JLNuF9vv0/e/DKv6DYAUCDt/Iv4bYCQBZkLFX+r/s/Y9W5DfH09j97aPdhnRnkP/Tcaj3DlAJAAV5ii+e2AkDDDL26ZcHjP4IzdFxgRwdA6GETsEva8j8pIJ+OA2b6P51sg4XztwhA1SKflnceAEBYBWs9qKTyP1gabmH8+c4/FxxPx6o4+T9JgaB4nzPzPySe4oxNkfU/wTT0utjw7D8OKx6orVbqP9KXxjlCHP0/s0uT9tfNAUBkY97PJCbyPw6TvBSWJvo/AVn9Yu0h8j+tOD4/kAH6P0CqVlYc2QBAwJN5buwzAkAvK8hq8T76P7JtcrJXafg/gTCYfRXS9j+M1VM29TbxP9Stp9mOpfM/WiD2/2jt+T8D/stkV/P/Pw4iR16wg/8/T+6JmXuU9T9JnKhhIzgGQIQv93uY5/g/R7WZIaXA9D8ce7T2qw35P2s6TpM9RwNA7a97saRI5z+NI0sUIBHvP5Zy8RxUDABAo9zvYpFs+z9Nc9gTzkf0P41sAAn0J/I/jtd3L2GFAUBItSLcwD7iP6AzqEgBL9i/",
          "dtype": "f8"
         },
         "yaxis": "y4"
        },
        {
         "marker": {
          "line": {
           "color": "white",
           "width": 1
          },
          "opacity": 0.7,
          "size": 8
         },
         "mode": "markers",
         "name": "Cluster 1",
         "type": "scatter",
         "x": {
          "bdata": "VBP5TfgQGkBS1bVunR4aQI10deuwFRdAoZPPFRU2HEDUoNaDP9UaQGwEBmxq1B9A+wRCcmMaG0DmeIVFzY8bQH6bigdtIhlA9HtSRolKGkDBVWN7vDIaQOO26TtKtxxAPnTl22RZG0ACRF872fwaQN4HUo3Y9hlA1VLjnZT9HkD11SY7Vb8dQMNbH4mW9x1AP95t3Q3nGkDzTyKIEt0cQHZXqrI7tB9A4gjgYtoyGkCG6eroLjIaQDR0gopwyx5AaX3T3jnfHkDaaPEVelMbQOAfofNB3hxAwBQRIghfG0BRgHoBqSgdQOt8zlKj/BxAr5U/9hSqGkCoyWTZ6y0dQGvU+QjMThlAjl3Sm1W2HEA/b27hPMQgQMw9pmjC9RpA5CcgxBeoHEDfMU9ByHUdQOu6sMC2jBpAOr83w3CTFkD1yabnEisfQNigwooh2B9A97nra4wlG0CGd7zzAOccQCAsV++vrBtASGbTfwfMHUAb7HsHqWUgQCZZykT+3RxA07gAji4tG0BHkwGx77UcQCZg+xOomx9AlFFgywMpG0DqumPdyZoeQKgHxCspWxtAXUZcFJhGHEDNWu28Z2caQBxHZYoSHR5AneyEvko2H0CY6vuN3BgeQIx5E5JokR5AQ2pnTWpXG0AzztwE0xYcQEQV/3PktB1AMusKsmdSHEBftVqOozYeQFE+yXBG+BlAG8YOSRRBG0BS7/cjgF4dQFZV9VRsvh1A90IjxP6SHECHgggUYbUcQLRRHxuOAx5AHFl5KPAEIECD6k1TIsseQKjhciuG5BtA",
          "dtype": "f8"
         },
         "xaxis": "x4",
         "y": {
          "bdata": "OhvteIkdI0CKsPm8RMUlQJXAncds/CJATBC6nWeoI0DO5Sx/NfIhQELtfO1V7SNA48KJkRnbI0CGlVFvXWolQG196JI4oiJAT9SzVY+2I0Cw93T40K0iQLPbCwNhXSNAPvIVdSLhI0B8Jaw/aUwkQP5730AGtSJAbq9R/VwUJUCzzp55S1QjQNndixmVnCFARR6+VhobI0Ck1hTXqC0jQBit1fcSxyFAgBWfrFFCJEB51TZwomYiQGUDFJAcPSVAZH9b72QOIUCbngDU/dkiQOYTE/L03yJAJdebjWILJUB9eNzTCREiQId0HuEgDSJAlRoPjAV0JECBHKpbXnclQKwEazFZ8SJAQfp7SWGwI0D8e6AVphUjQEmXYvZedyNAwNuEy0YxJEDb2HYw2zkkQL7CmoSgliNAfKfJohuZI0CSFCOZSSUjQDDKQwS4CyVANX1nkvWXIUDYMfJKOo8kQKgmxFyLqSNAwGXgiwqbJUBH9kRhPVUkQKGJPYCS5iNATx2bLFO/I0DiOkA7vasiQBBWHX+UViNA28AfKHSLIkBviSocLgkkQKJrGkch9iJA/PdBDptDIkC3QJXeWegkQLtJ3PgiLCRA79RH19ELJUADi6VNzgAkQCVxnRDN+iNAEVEJuqaZIUBAfFEdeZ8jQHuVNQq7piNAfio2AxovJkBQ15yiPUIhQDrtxJUrOyJAGYibE7NrIkD5Xi6sQCEjQPOCim1luyRAD+9RiC1mI0DocB/mxfcjQKgFowVTvSJAWqJ1qzN4I0D9Axupa1slQES2JHolpiNA",
          "dtype": "f8"
         },
         "yaxis": "y4"
        },
        {
         "marker": {
          "line": {
           "color": "white",
           "width": 1
          },
          "opacity": 0.7,
          "size": 8
         },
         "mode": "markers",
         "name": "Cluster 2",
         "type": "scatter",
         "x": {
          "bdata": "oSAYv/QA9L8oR5DjlpH8v+IxljdmKv2/wYOLr95x+r+Ky/dRfv3cvzNvEawkFQbAv1xzWgHe7b+5gRsE5ST7vzF98ZI4Peu//xguaXoABsDCniVZtrv0v+DtkV1XrvC/W4JXExesAMD3RRO2yp3wv5aOzQsnUgLAlKIthu5P9L8OUglrND37vyjjiONwfvO/XDHkO1Ht8784BeJIjusCwL4WxXmxJfm/mRjUiWzt77+T67f5V4flvy+A4b0go/K/we+hemQz/79C69DzlnH4v2+2nrGKLAXAcvXR/ICBAMC3+wm9goXzv0ewGSEUPP2/D1lkCMsk+L+25uztZXv5v5sXPZTYCfW/PHQlRS7l/b9r9WPuf3fwvycD0mNvOOe/jc3DX8Cj+r+rKq+W5V4DwAMR20F/6vG/saawKSZ/7b+LX+ESXs39v6y543i1hgLAcNuEg9Ni5r+mW4tx9wL3v/gmjLmNPPK/QJNJDifRAsDn9jUlQA/9v9cAIbG+lfa/JCWFgD4//7+uj4FF+77zv3+i2t6AZPm/usQ+7mz//b9nJ1lmrm4BwN8HzUkkafi/gQF1D5rz/L9g5wPwIDn/v6rpM0OZTv+/GZ5XXnUXDsBWqMN2TPYCwIX4JPhoeP6/7hOIPB3UA8Ct6SiSW9P7vzsqiduHXOy/NDDCLOzb678MByNO46vyv/WxKQ1kdgDAlQPlR0LFy79uHBWCHcQFwGeV7fKAIem/jpBDPhDn979+cLYycIPtvxkPXxgGd/e/uDbC1Wom8L+hkEbrD136v51en6wQeQDA",
          "dtype": "f8"
         },
         "xaxis": "x4",
         "y": {
          "bdata": "RTYuIQMOGsDyiR4d77YVwFDr4jsIuRvA91UrnZ0YGMATyHXcyI4YwCytGIEA3hrAn2QY3Hp1GcBjO5A9k0kbwAndwNw33RjAybPsiUlTGsDxKkoMblYcwNxQpzBv7RzA14VAQhuaGsDMNq9t79sVwHyKhssKhxrAiMep6m7RF8C+A7fP3soXwNGPtowbthrAaulayWkGHMDg9wBlnmQbwPI3IMjvUxfAQCsBrSMFG8AElxmE3fAVwPYZDj+0BBrAWowZoZbzHcCBOk158HgWwC5NEOKtSBbAl3KDHmt+FsCfyneP1p0fwF4cIhMq9hnA2A2qnpRWG8AFko5rk4sdwKsfFxApdxzAnM5E80mnGcArIZZstswcwADsu+PbSRfANJmhfarwGcAq90g1InkYwFAl7l3LaxrAXcyLzv/4GcDTjgbYvWAZwOrisx7g6BvAeAGGvSzEGcC7fUSs/IocwFsNE1f0tBvA3t0M8KB4HsAZpttdkEQbwGizyFUrDB3ARFnIm+2uGMAecpvbGl0ZwAGem9LbkRnAD0jfJBO/GMB+TJPrk5gZwONsxmQaVBzAmTIb1Xq7GsB2d3qB0nQbwJs34UPFpBvAXPgI0UnQG8DrEpkyBFkcwB4PpHqNmxnAtWr6Hg/2GMAQtuIx7lYcwAIpVxzoxRzAASP+qMxPGcAX/1P9BCMcwEKJ5Hn7/RrADSIGudMuGsCPhS9mYEsewIoK/8DRFx7ABYoO+ElQGsBC0wNZ2R8cwJjb0ZO5sh3AmKsf31mOG8CFnBDOTXwZwGB+RlF4KxrA",
          "dtype": "f8"
         },
         "yaxis": "y4"
        },
        {
         "marker": {
          "line": {
           "color": "white",
           "width": 1
          },
          "opacity": 0.7,
          "size": 8
         },
         "mode": "markers",
         "name": "Cluster 3",
         "type": "scatter",
         "x": {
          "bdata": "WZj6NlOLBkAUxDN6D8MCQOzUayOn/gdAlhpwfl2TCUAg2uFc9D4MQOfA66tWggJA/FrgJVrlB0Ag6wxfaJ0JQPHY+LC9fgNA7d7mkiHJCUDGUJgAlyMBQC2ovRY5OwpAPEdug47Y/j8Nd0wzKBgDQPKwkyxPsvk/KMuWo32w/j+hIlP/20QOQKP325pzOgBA1Gd7mgEVC0Bt/xz+BTj/P15yt7srcAFAfQxIfcjYA0D085xV9EIGQAyKylOtoAhACy233XlIAkB8eTsK7Ob/P9r6bjTagAhAQo20ThihB0Ab7LEhkRYFQM77zVrGAwZAtQBrbXx1CECPDBBbstYCQCAn8+P93/g/F7lWGSC7DEBgbnMKhpoHQHh4nompfQZAIKTGwqMcBkAXGUOSbPT3P3iBly0ObgRAGK3M7vNSBkCkkMHmfWMBQJ82zHKcjgRAplt2yCU4CUBI8gBv3Q8BQHsfnfiuXApAx60CXU/fDkAs4uGODyXyP+0M1gkH4wxAaMTLnRJCBUCd7t04/4UAQDICxYY6GgNAuU00GmRrCEDROKFJ3X4EQEpu8s8UQABA//q27rvyCEAzJEDalm0CQMZ5h3ktlwNAEY11vUvXBkDHTKXCWAP7P8/ni/UcBQxAvzyG5YA/B0BOFshbDJoHQNucxXGyKglAK1ONGyTrCkC+/62WP9gDQKcAxeeTpgpA8sO6JvAtB0BTSk8DpwACQAKV+ZWtGAlA7bOlcfyZEEBeVcZu9K0FQC0ZjYVBAgZAun465rsdA0D6xkLWPSwHQMMN1jiBt/0/",
          "dtype": "f8"
         },
         "xaxis": "x4",
         "y": {
          "bdata": "TE0e7PkXDcDSxU6OUyYTwLqmltePDRLA1l6UE8mAEcDzRiUDulwTwPACtFuARBTANJ8WShfTFMDHreFnhMYTwArctAsCAhLALkJ2Wa6fFMBsst2lNI0QwCCs7cwTLRjAw/TtvkVzEMDsNq9SGxAVwGJnnmXgRBHAXvkyMAaREsAJyGOw1pkMwK1Ils+AABPAS4UNYFhgDsA/DuUdDmESwJsAlMQJuAjA3jDCZb6SD8DNpXxUaSMQwEkH6+NpdhPAJERGx8vMEcB1Zqne7PkRwGztQdinwQvAKW5w6oltEsAuR86aBYcSwGOUC0Q0QxPAx6VDXvv5EMCUj2FBZf4SwE5vyCwoLw/AMIwVPHfYDcBacsEE+/gMwP8TAG8UQxfAsl/vZQj1EMD0w00nfqkXwOrcYanGHRPAocpuWpqHEcDHwxlVyrwMwC2MqbsorhbAgkkpDQ6pEcAumGFFc98PwH2kJeiFGRLABRpOSLocE8C0qs0JkEYKwHjURClOoBDASwuBkvR3FcCda6I0T3wOwBzkd/D1fBXAJaRMmSE3EMA7PYtOtisQwJ62DR/DHhDAsY3sFcxoEMCLRg0u7AUPwPxkFehRkA3ALbqHwBLoDMDZ3dSb8O0SwMP8ivPMAhTAaAX/6Il+EcBd07Xs15YQwNHU9cOaHRPA3WGg5firEMAhBwJeFNgPwIp4zXPlnRXAs+60KvnFE8BiQ63JlGkQwNKw0UbpjhXA01g9GECWE8ATKLYZD0YTwC8sfDcF9xLAKX4V5xP+C8DnyTC+fU0TwGpesdnvRg7A",
          "dtype": "f8"
         },
         "yaxis": "y4"
        },
        {
         "marker": {
          "line": {
           "color": "white",
           "width": 1
          },
          "opacity": 0.7,
          "size": 8
         },
         "mode": "markers",
         "name": "Cluster 4",
         "type": "scatter",
         "x": [],
         "xaxis": "x4",
         "y": [],
         "yaxis": "y4"
        },
        {
         "marker": {
          "line": {
           "color": "white",
           "width": 1
          },
          "opacity": 0.7,
          "size": 12
         },
         "mode": "markers",
         "name": "Centers",
         "type": "scatter",
         "x": {
          "bdata": "UZ23V4Qc+L/Np6tbnnwcQN3tfP2gmPm/nB6Da+B7BUA=",
          "dtype": "f8"
         },
         "xaxis": "x4",
         "y": {
          "bdata": "QNfioEdD+T90y9ttSYojQNFkvQndghrAP3Y8FkfQEcA=",
          "dtype": "f8"
         },
         "yaxis": "y4"
        },
        {
         "marker": {
          "line": {
           "color": "white",
           "width": 1
          },
          "opacity": 0.7,
          "size": 8
         },
         "mode": "markers",
         "name": "Cluster 0",
         "type": "scatter",
         "x": {
          "bdata": "be9IunzK97/vrVZD5r77v4uX07R7Rvi/m3ymvoEGBMDPdOiRE0T4v5pKidm0V/O/dNTHkIrn4r+4sw9oN831v460fX1UZADAB4JZJErmCcC9NrxttQf2vwZn9QbTw/m/K1vyXLan+b+EL0cA6NjzvxGa49vNKQPAef21nVJH/7+Efy1bzRcGwJYKCzmjLu2/jZTFQ5ia+79TvQFNTMcAwGY8a3yLH+e/7ACSi9xX47+giZ2r7f/8v4SSu5ZdMQHAYW1oxdOw9b/qOOOnk3rwvyccsWX7OwPAmt/4UXqD+r/j68hmfVT9vwqBhOS57dy/NOVXmmLYAcCY0NQrQDr7v7G5iJ3v3fO/pL7nxPpk678xS2oMDx0FwDAKevDDWwTAfqx1KOuQ+b927uSw31f/v86Qps7swPO/OxmxJSw5AMD3L/HPLtDxv5sFZEe3ugPAdXwLOnoi6b+y4OYZw3f6v5QuHrzfNgPAITBY5T9W+L+Fo2dd8dXzv/uoYyURDPq/YtCzwEaD87+Cp+7NCEy0P6flg6nmHfC/aPjRZt7R8r+huIpDnFH4vyp34x43rvm/TWx6oEfTAMAoKjdaU/70v34EKHM9bP2/QL8lQ7wJ7b9CxcdEpAHxvwuNWfylOOW/j3l6Dicl8r+TUF0MSd/wvwcXpCvr2Pm/Rmhe41kE4r/zdXKBWg7sv6ML0OstmfC/nh+PO5fJ5L/QxGXDFvX8vzALboLRYPO/z727UwP86L+0X1fWjwsCwGmjAsny1f6/mMLiqHM48r/D+0Bo2jYBwEgQrIq7Z+e/",
          "dtype": "f8"
         },
         "xaxis": "x5",
         "y": {
          "bdata": "h7X+7P8SA0A2IzgbvAUAQELIFh7QT/A/FgGRl2or/D8tYDGyYTfqP/ev0wj0XQJAyuHTaj628z/xAFnQTOn0P9UC++uDzvQ/ypyyfB2S+T8PyYAchh/0P0w2S8lxMQZAfqNvRFSY8D9vRqEkExj/PxIqS1hYctU/w4xURK43AUBwGw3FgXcDQAKNYjP+5gBAvSIxmzV69j+OYuSzIoD4P2BYfVXr2ABAx9LKGjb+9j/ZPM4C5TfvP9JLNuF9vv0/e/DKv6DYAUCDt/Iv4bYCQBZkLFX+r/s/Y9W5DfH09j97aPdhnRnkP/Tcaj3DlAJAAV5ii+e2AkDDDL26ZcHjP4IzdFxgRwdA6GETsEva8j8pIJ+OA2b6P51sg4XztwhA1SKflnceAEBYBWs9qKTyP1gabmH8+c4/FxxPx6o4+T9JgaB4nzPzPySe4oxNkfU/wTT0utjw7D8OKx6orVbqP9KXxjlCHP0/s0uT9tfNAUBkY97PJCbyPw6TvBSWJvo/AVn9Yu0h8j+tOD4/kAH6P0CqVlYc2QBAwJN5buwzAkAvK8hq8T76P7JtcrJXafg/gTCYfRXS9j+M1VM29TbxP9Stp9mOpfM/WiD2/2jt+T8D/stkV/P/Pw4iR16wg/8/T+6JmXuU9T9JnKhhIzgGQIQv93uY5/g/R7WZIaXA9D8ce7T2qw35P2s6TpM9RwNA7a97saRI5z+NI0sUIBHvP5Zy8RxUDABAo9zvYpFs+z9Nc9gTzkf0P41sAAn0J/I/jtd3L2GFAUBItSLcwD7iP6AzqEgBL9i/",
          "dtype": "f8"
         },
         "yaxis": "y5"
        },
        {
         "marker": {
          "line": {
           "color": "white",
           "width": 1
          },
          "opacity": 0.7,
          "size": 8
         },
         "mode": "markers",
         "name": "Cluster 1",
         "type": "scatter",
         "x": {
          "bdata": "VBP5TfgQGkBS1bVunR4aQI10deuwFRdAoZPPFRU2HEDUoNaDP9UaQGwEBmxq1B9A+wRCcmMaG0DmeIVFzY8bQH6bigdtIhlA9HtSRolKGkDBVWN7vDIaQOO26TtKtxxAPnTl22RZG0ACRF872fwaQN4HUo3Y9hlA1VLjnZT9HkD11SY7Vb8dQMNbH4mW9x1AP95t3Q3nGkDzTyKIEt0cQHZXqrI7tB9A4gjgYtoyGkCG6eroLjIaQDR0gopwyx5AaX3T3jnfHkDaaPEVelMbQOAfofNB3hxAwBQRIghfG0BRgHoBqSgdQOt8zlKj/BxAr5U/9hSqGkCoyWTZ6y0dQGvU+QjMThlAjl3Sm1W2HEA/b27hPMQgQMw9pmjC9RpA5CcgxBeoHEDfMU9ByHUdQOu6sMC2jBpAOr83w3CTFkD1yabnEisfQNigwooh2B9A97nra4wlG0CGd7zzAOccQCAsV++vrBtASGbTfwfMHUAb7HsHqWUgQCZZykT+3RxA07gAji4tG0BHkwGx77UcQCZg+xOomx9AlFFgywMpG0DqumPdyZoeQKgHxCspWxtAXUZcFJhGHEDNWu28Z2caQBxHZYoSHR5AneyEvko2H0CY6vuN3BgeQIx5E5JokR5AQ2pnTWpXG0AzztwE0xYcQEQV/3PktB1AMusKsmdSHEBftVqOozYeQFE+yXBG+BlAG8YOSRRBG0BS7/cjgF4dQFZV9VRsvh1A90IjxP6SHECHgggUYbUcQLRRHxuOAx5AHFl5KPAEIECD6k1TIsseQKjhciuG5BtA",
          "dtype": "f8"
         },
         "xaxis": "x5",
         "y": {
          "bdata": "OhvteIkdI0CKsPm8RMUlQJXAncds/CJATBC6nWeoI0DO5Sx/NfIhQELtfO1V7SNA48KJkRnbI0CGlVFvXWolQG196JI4oiJAT9SzVY+2I0Cw93T40K0iQLPbCwNhXSNAPvIVdSLhI0B8Jaw/aUwkQP5730AGtSJAbq9R/VwUJUCzzp55S1QjQNndixmVnCFARR6+VhobI0Ck1hTXqC0jQBit1fcSxyFAgBWfrFFCJEB51TZwomYiQGUDFJAcPSVAZH9b72QOIUCbngDU/dkiQOYTE/L03yJAJdebjWILJUB9eNzTCREiQId0HuEgDSJAlRoPjAV0JECBHKpbXnclQKwEazFZ8SJAQfp7SWGwI0D8e6AVphUjQEmXYvZedyNAwNuEy0YxJEDb2HYw2zkkQL7CmoSgliNAfKfJohuZI0CSFCOZSSUjQDDKQwS4CyVANX1nkvWXIUDYMfJKOo8kQKgmxFyLqSNAwGXgiwqbJUBH9kRhPVUkQKGJPYCS5iNATx2bLFO/I0DiOkA7vasiQBBWHX+UViNA28AfKHSLIkBviSocLgkkQKJrGkch9iJA/PdBDptDIkC3QJXeWegkQLtJ3PgiLCRA79RH19ELJUADi6VNzgAkQCVxnRDN+iNAEVEJuqaZIUBAfFEdeZ8jQHuVNQq7piNAfio2AxovJkBQ15yiPUIhQDrtxJUrOyJAGYibE7NrIkD5Xi6sQCEjQPOCim1luyRAD+9RiC1mI0DocB/mxfcjQKgFowVTvSJAWqJ1qzN4I0D9Axupa1slQES2JHolpiNA",
          "dtype": "f8"
         },
         "yaxis": "y5"
        },
        {
         "marker": {
          "line": {
           "color": "white",
           "width": 1
          },
          "opacity": 0.7,
          "size": 8
         },
         "mode": "markers",
         "name": "Cluster 2",
         "type": "scatter",
         "x": {
          "bdata": "oSAYv/QA9L+Ky/dRfv3cv79cc1oB3u2/MX3xkjg967/CniVZtrv0v+DtkV1XrvC/90UTtsqd8L+Uoi2G7k/0vyjjiONwfvO/XDHkO1Ht87+ZGNSJbO3vv5Prt/lXh+W/L4DhvSCj8r+3+wm9goXzvw9ZZAjLJPi/tubs7WV7+b+bFz2U2An1v2v1Y+5/d/C/JwPSY284578DEdtBf+rxv7GmsCkmf+2/cNuEg9Ni5r+mW4tx9wL3v/gmjLmNPPK/1wAhsb6V9r+uj4FF+77zv98HzUkkafi/OyqJ24dc7L80MMIs7NvrvwwHI07jq/K/lQPlR0LFy79nle3ygCHpv46QQz4Q5/e/fnC2MnCD7b8ZD18YBnf3v7g2wtVqJvC/",
          "dtype": "f8"
         },
         "xaxis": "x5",
         "y": {
          "bdata": "RTYuIQMOGsATyHXcyI4YwJ9kGNx6dRnACd3A3DfdGMDxKkoMblYcwNxQpzBv7RzAzDavbe/bFcCIx6nqbtEXwNGPtowbthrAaulayWkGHMBAKwGtIwUbwASXGYTd8BXA9hkOP7QEGsCfyneP1p0fwNgNqp6UVhvABZKOa5OLHcCrHxcQKXccwCshlmy2zBzAAOy749tJF8BQJe5dy2sawF3Mi87/+BnAeAGGvSzEGcC7fUSs/IocwFsNE1f0tBvAaLPIVSsMHcAecpvbGl0ZwONsxmQaVBzAAilXHOjFHMABI/6ozE8ZwBf/U/0EIxzADSIGudMuGsCKCv/A0RcewAWKDvhJUBrAQtMDWdkfHMCY29GTubIdwJirH99ZjhvA",
          "dtype": "f8"
         },
         "yaxis": "y5"
        },
        {
         "marker": {
          "line": {
           "color": "white",
           "width": 1
          },
          "opacity": 0.7,
          "size": 8
         },
         "mode": "markers",
         "name": "Cluster 3",
         "type": "scatter",
         "x": {
          "bdata": "WZj6NlOLBkAUxDN6D8MCQOzUayOn/gdAlhpwfl2TCUAg2uFc9D4MQOfA66tWggJA/FrgJVrlB0Ag6wxfaJ0JQPHY+LC9fgNA7d7mkiHJCUDGUJgAlyMBQC2ovRY5OwpAPEdug47Y/j8Nd0wzKBgDQPKwkyxPsvk/KMuWo32w/j+hIlP/20QOQKP325pzOgBA1Gd7mgEVC0Bt/xz+BTj/P15yt7srcAFAfQxIfcjYA0D085xV9EIGQAyKylOtoAhACy233XlIAkB8eTsK7Ob/P9r6bjTagAhAQo20ThihB0Ab7LEhkRYFQM77zVrGAwZAtQBrbXx1CECPDBBbstYCQCAn8+P93/g/F7lWGSC7DEBgbnMKhpoHQHh4nompfQZAIKTGwqMcBkAXGUOSbPT3P3iBly0ObgRAGK3M7vNSBkCkkMHmfWMBQJ82zHKcjgRAplt2yCU4CUBI8gBv3Q8BQHsfnfiuXApAx60CXU/fDkAs4uGODyXyP+0M1gkH4wxAaMTLnRJCBUCd7t04/4UAQDICxYY6GgNAuU00GmRrCEDROKFJ3X4EQEpu8s8UQABA//q27rvyCEAzJEDalm0CQMZ5h3ktlwNAEY11vUvXBkDHTKXCWAP7P8/ni/UcBQxAvzyG5YA/B0BOFshbDJoHQNucxXGyKglAK1ONGyTrCkC+/62WP9gDQKcAxeeTpgpA8sO6JvAtB0BTSk8DpwACQAKV+ZWtGAlA7bOlcfyZEEBeVcZu9K0FQC0ZjYVBAgZAun465rsdA0D6xkLWPSwHQMMN1jiBt/0/",
          "dtype": "f8"
         },
         "xaxis": "x5",
         "y": {
          "bdata": "TE0e7PkXDcDSxU6OUyYTwLqmltePDRLA1l6UE8mAEcDzRiUDulwTwPACtFuARBTANJ8WShfTFMDHreFnhMYTwArctAsCAhLALkJ2Wa6fFMBsst2lNI0QwCCs7cwTLRjAw/TtvkVzEMDsNq9SGxAVwGJnnmXgRBHAXvkyMAaREsAJyGOw1pkMwK1Ils+AABPAS4UNYFhgDsA/DuUdDmESwJsAlMQJuAjA3jDCZb6SD8DNpXxUaSMQwEkH6+NpdhPAJERGx8vMEcB1Zqne7PkRwGztQdinwQvAKW5w6oltEsAuR86aBYcSwGOUC0Q0QxPAx6VDXvv5EMCUj2FBZf4SwE5vyCwoLw/AMIwVPHfYDcBacsEE+/gMwP8TAG8UQxfAsl/vZQj1EMD0w00nfqkXwOrcYanGHRPAocpuWpqHEcDHwxlVyrwMwC2MqbsorhbAgkkpDQ6pEcAumGFFc98PwH2kJeiFGRLABRpOSLocE8C0qs0JkEYKwHjURClOoBDASwuBkvR3FcCda6I0T3wOwBzkd/D1fBXAJaRMmSE3EMA7PYtOtisQwJ62DR/DHhDAsY3sFcxoEMCLRg0u7AUPwPxkFehRkA3ALbqHwBLoDMDZ3dSb8O0SwMP8ivPMAhTAaAX/6Il+EcBd07Xs15YQwNHU9cOaHRPA3WGg5firEMAhBwJeFNgPwIp4zXPlnRXAs+60KvnFE8BiQ63JlGkQwNKw0UbpjhXA01g9GECWE8ATKLYZD0YTwC8sfDcF9xLAKX4V5xP+C8DnyTC+fU0TwGpesdnvRg7A",
          "dtype": "f8"
         },
         "yaxis": "y5"
        },
        {
         "marker": {
          "line": {
           "color": "white",
           "width": 1
          },
          "opacity": 0.7,
          "size": 8
         },
         "mode": "markers",
         "name": "Cluster 4",
         "type": "scatter",
         "x": {
          "bdata": "KEeQ45aR/L/iMZY3Zir9v8GDi6/ecfq/M28RrCQVBsC5gRsE5ST7v/8YLml6AAbAW4JXExesAMCWjs0LJ1ICwA5SCWs0Pfu/OAXiSI7rAsC+FsV5sSX5v8HvoXpkM/+/QuvQ85Zx+L9vtp6xiiwFwHL10fyAgQDAR7AZIRQ8/b88dCVFLuX9v43Nw1/Ao/q/qyqvluVeA8CLX+ESXs39v6y543i1hgLAQJNJDifRAsDn9jUlQA/9vyQlhYA+P/+/f6La3oBk+b+6xD7ubP/9v2cnWWaubgHAgQF1D5rz/L9g5wPwIDn/v6rpM0OZTv+/GZ5XXnUXDsBWqMN2TPYCwIX4JPhoeP6/7hOIPB3UA8Ct6SiSW9P7v/WxKQ1kdgDAbhwVgh3EBcChkEbrD136v51en6wQeQDA",
          "dtype": "f8"
         },
         "xaxis": "x5",
         "y": {
          "bdata": "8okeHe+2FcBQ6+I7CLkbwPdVK52dGBjALK0YgQDeGsBjO5A9k0kbwMmz7IlJUxrA14VAQhuaGsB8iobLCocawL4Dt8/eyhfA4PcAZZ5kG8DyNyDI71MXwFqMGaGW8x3AgTpNefB4FsAuTRDirUgWwJdygx5rfhbAXhwiEyr2GcCczkTzSacZwDSZoX2q8BnAKvdINSJ5GMDTjgbYvWAZwOrisx7g6BvA3t0M8KB4HsAZpttdkEQbwERZyJvtrhjAAZ6b0tuRGcAPSN8kE78YwH5Mk+uTmBnAmTIb1Xq7GsB2d3qB0nQbwJs34UPFpBvAXPgI0UnQG8DrEpkyBFkcwB4PpHqNmxnAtWr6Hg/2GMAQtuIx7lYcwEKJ5Hn7/RrAj4UvZmBLHsCFnBDOTXwZwGB+RlF4KxrA",
          "dtype": "f8"
         },
         "yaxis": "y5"
        },
        {
         "marker": {
          "line": {
           "color": "white",
           "width": 1
          },
          "opacity": 0.7,
          "size": 8
         },
         "mode": "markers",
         "name": "Cluster 5",
         "type": "scatter",
         "x": [],
         "xaxis": "x5",
         "y": [],
         "yaxis": "y5"
        },
        {
         "marker": {
          "line": {
           "color": "white",
           "width": 1
          },
          "opacity": 0.7,
          "size": 12
         },
         "mode": "markers",
         "name": "Centers",
         "type": "scatter",
         "x": {
          "bdata": "UZ23V4Qc+L/Np6tbnnwcQPNU2jmGZPG/nB6Da+B7BUCCvbrsl5UAwA==",
          "dtype": "f8"
         },
         "xaxis": "x5",
         "y": {
          "bdata": "QNfioEdD+T90y9ttSYojQIoAdKCu8RrAP3Y8FkfQEcDoXrK5kRwawA==",
          "dtype": "f8"
         },
         "yaxis": "y5"
        },
        {
         "marker": {
          "line": {
           "color": "white",
           "width": 1
          },
          "opacity": 0.7,
          "size": 8
         },
         "mode": "markers",
         "name": "Cluster 0",
         "type": "scatter",
         "x": {
          "bdata": "be9IunzK97/vrVZD5r77v4uX07R7Rvi/m3ymvoEGBMDPdOiRE0T4v5pKidm0V/O/dNTHkIrn4r+4sw9oN831v460fX1UZADAB4JZJErmCcC9NrxttQf2vwZn9QbTw/m/K1vyXLan+b+EL0cA6NjzvxGa49vNKQPAef21nVJH/7+Efy1bzRcGwJYKCzmjLu2/jZTFQ5ia+79TvQFNTMcAwGY8a3yLH+e/7ACSi9xX47+giZ2r7f/8v4SSu5ZdMQHAYW1oxdOw9b/qOOOnk3rwvyccsWX7OwPAmt/4UXqD+r/j68hmfVT9vwqBhOS57dy/NOVXmmLYAcCY0NQrQDr7v7G5iJ3v3fO/pL7nxPpk678xS2oMDx0FwDAKevDDWwTAfqx1KOuQ+b927uSw31f/v86Qps7swPO/OxmxJSw5AMD3L/HPLtDxv5sFZEe3ugPAdXwLOnoi6b+y4OYZw3f6v5QuHrzfNgPAITBY5T9W+L+Fo2dd8dXzv/uoYyURDPq/YtCzwEaD87+Cp+7NCEy0P6flg6nmHfC/aPjRZt7R8r+huIpDnFH4vyp34x43rvm/TWx6oEfTAMAoKjdaU/70v34EKHM9bP2/QL8lQ7wJ7b9CxcdEpAHxvwuNWfylOOW/j3l6Dicl8r+TUF0MSd/wvwcXpCvr2Pm/Rmhe41kE4r/zdXKBWg7sv6ML0OstmfC/nh+PO5fJ5L/QxGXDFvX8vzALboLRYPO/z727UwP86L+0X1fWjwsCwGmjAsny1f6/mMLiqHM48r/D+0Bo2jYBwEgQrIq7Z+e/",
          "dtype": "f8"
         },
         "xaxis": "x6",
         "y": {
          "bdata": "h7X+7P8SA0A2IzgbvAUAQELIFh7QT/A/FgGRl2or/D8tYDGyYTfqP/ev0wj0XQJAyuHTaj628z/xAFnQTOn0P9UC++uDzvQ/ypyyfB2S+T8PyYAchh/0P0w2S8lxMQZAfqNvRFSY8D9vRqEkExj/PxIqS1hYctU/w4xURK43AUBwGw3FgXcDQAKNYjP+5gBAvSIxmzV69j+OYuSzIoD4P2BYfVXr2ABAx9LKGjb+9j/ZPM4C5TfvP9JLNuF9vv0/e/DKv6DYAUCDt/Iv4bYCQBZkLFX+r/s/Y9W5DfH09j97aPdhnRnkP/Tcaj3DlAJAAV5ii+e2AkDDDL26ZcHjP4IzdFxgRwdA6GETsEva8j8pIJ+OA2b6P51sg4XztwhA1SKflnceAEBYBWs9qKTyP1gabmH8+c4/FxxPx6o4+T9JgaB4nzPzPySe4oxNkfU/wTT0utjw7D8OKx6orVbqP9KXxjlCHP0/s0uT9tfNAUBkY97PJCbyPw6TvBSWJvo/AVn9Yu0h8j+tOD4/kAH6P0CqVlYc2QBAwJN5buwzAkAvK8hq8T76P7JtcrJXafg/gTCYfRXS9j+M1VM29TbxP9Stp9mOpfM/WiD2/2jt+T8D/stkV/P/Pw4iR16wg/8/T+6JmXuU9T9JnKhhIzgGQIQv93uY5/g/R7WZIaXA9D8ce7T2qw35P2s6TpM9RwNA7a97saRI5z+NI0sUIBHvP5Zy8RxUDABAo9zvYpFs+z9Nc9gTzkf0P41sAAn0J/I/jtd3L2GFAUBItSLcwD7iP6AzqEgBL9i/",
          "dtype": "f8"
         },
         "yaxis": "y6"
        },
        {
         "marker": {
          "line": {
           "color": "white",
           "width": 1
          },
          "opacity": 0.7,
          "size": 8
         },
         "mode": "markers",
         "name": "Cluster 1",
         "type": "scatter",
         "x": {
          "bdata": "VBP5TfgQGkBS1bVunR4aQI10deuwFRdAoZPPFRU2HEDUoNaDP9UaQGwEBmxq1B9A+wRCcmMaG0DmeIVFzY8bQH6bigdtIhlA9HtSRolKGkDBVWN7vDIaQOO26TtKtxxAPnTl22RZG0ACRF872fwaQN4HUo3Y9hlA1VLjnZT9HkD11SY7Vb8dQMNbH4mW9x1AP95t3Q3nGkDzTyKIEt0cQHZXqrI7tB9A4gjgYtoyGkCG6eroLjIaQDR0gopwyx5AaX3T3jnfHkDaaPEVelMbQOAfofNB3hxAwBQRIghfG0BRgHoBqSgdQOt8zlKj/BxAr5U/9hSqGkCoyWTZ6y0dQGvU+QjMThlAjl3Sm1W2HEA/b27hPMQgQMw9pmjC9RpA5CcgxBeoHEDfMU9ByHUdQOu6sMC2jBpAOr83w3CTFkD1yabnEisfQNigwooh2B9A97nra4wlG0CGd7zzAOccQCAsV++vrBtASGbTfwfMHUAb7HsHqWUgQCZZykT+3RxA07gAji4tG0BHkwGx77UcQCZg+xOomx9AlFFgywMpG0DqumPdyZoeQKgHxCspWxtAXUZcFJhGHEDNWu28Z2caQBxHZYoSHR5AneyEvko2H0CY6vuN3BgeQIx5E5JokR5AQ2pnTWpXG0AzztwE0xYcQEQV/3PktB1AMusKsmdSHEBftVqOozYeQFE+yXBG+BlAG8YOSRRBG0BS7/cjgF4dQFZV9VRsvh1A90IjxP6SHECHgggUYbUcQLRRHxuOAx5AHFl5KPAEIECD6k1TIsseQKjhciuG5BtA",
          "dtype": "f8"
         },
         "xaxis": "x6",
         "y": {
          "bdata": "OhvteIkdI0CKsPm8RMUlQJXAncds/CJATBC6nWeoI0DO5Sx/NfIhQELtfO1V7SNA48KJkRnbI0CGlVFvXWolQG196JI4oiJAT9SzVY+2I0Cw93T40K0iQLPbCwNhXSNAPvIVdSLhI0B8Jaw/aUwkQP5730AGtSJAbq9R/VwUJUCzzp55S1QjQNndixmVnCFARR6+VhobI0Ck1hTXqC0jQBit1fcSxyFAgBWfrFFCJEB51TZwomYiQGUDFJAcPSVAZH9b72QOIUCbngDU/dkiQOYTE/L03yJAJdebjWILJUB9eNzTCREiQId0HuEgDSJAlRoPjAV0JECBHKpbXnclQKwEazFZ8SJAQfp7SWGwI0D8e6AVphUjQEmXYvZedyNAwNuEy0YxJEDb2HYw2zkkQL7CmoSgliNAfKfJohuZI0CSFCOZSSUjQDDKQwS4CyVANX1nkvWXIUDYMfJKOo8kQKgmxFyLqSNAwGXgiwqbJUBH9kRhPVUkQKGJPYCS5iNATx2bLFO/I0DiOkA7vasiQBBWHX+UViNA28AfKHSLIkBviSocLgkkQKJrGkch9iJA/PdBDptDIkC3QJXeWegkQLtJ3PgiLCRA79RH19ELJUADi6VNzgAkQCVxnRDN+iNAEVEJuqaZIUBAfFEdeZ8jQHuVNQq7piNAfio2AxovJkBQ15yiPUIhQDrtxJUrOyJAGYibE7NrIkD5Xi6sQCEjQPOCim1luyRAD+9RiC1mI0DocB/mxfcjQKgFowVTvSJAWqJ1qzN4I0D9Axupa1slQES2JHolpiNA",
          "dtype": "f8"
         },
         "yaxis": "y6"
        },
        {
         "marker": {
          "line": {
           "color": "white",
           "width": 1
          },
          "opacity": 0.7,
          "size": 8
         },
         "mode": "markers",
         "name": "Cluster 2",
         "type": "scatter",
         "x": {
          "bdata": "oSAYv/QA9L+Ky/dRfv3cv79cc1oB3u2/MX3xkjg967/CniVZtrv0v+DtkV1XrvC/90UTtsqd8L+Uoi2G7k/0vyjjiONwfvO/XDHkO1Ht87+ZGNSJbO3vv5Prt/lXh+W/L4DhvSCj8r+3+wm9goXzvw9ZZAjLJPi/tubs7WV7+b+bFz2U2An1v2v1Y+5/d/C/JwPSY284578DEdtBf+rxv7GmsCkmf+2/cNuEg9Ni5r+mW4tx9wL3v/gmjLmNPPK/1wAhsb6V9r+uj4FF+77zv98HzUkkafi/OyqJ24dc7L80MMIs7NvrvwwHI07jq/K/lQPlR0LFy79nle3ygCHpv46QQz4Q5/e/fnC2MnCD7b8ZD18YBnf3v7g2wtVqJvC/",
          "dtype": "f8"
         },
         "xaxis": "x6",
         "y": {
          "bdata": "RTYuIQMOGsATyHXcyI4YwJ9kGNx6dRnACd3A3DfdGMDxKkoMblYcwNxQpzBv7RzAzDavbe/bFcCIx6nqbtEXwNGPtowbthrAaulayWkGHMBAKwGtIwUbwASXGYTd8BXA9hkOP7QEGsCfyneP1p0fwNgNqp6UVhvABZKOa5OLHcCrHxcQKXccwCshlmy2zBzAAOy749tJF8BQJe5dy2sawF3Mi87/+BnAeAGGvSzEGcC7fUSs/IocwFsNE1f0tBvAaLPIVSsMHcAecpvbGl0ZwONsxmQaVBzAAilXHOjFHMABI/6ozE8ZwBf/U/0EIxzADSIGudMuGsCKCv/A0RcewAWKDvhJUBrAQtMDWdkfHMCY29GTubIdwJirH99ZjhvA",
          "dtype": "f8"
         },
         "yaxis": "y6"
        },
        {
         "marker": {
          "line": {
           "color": "white",
           "width": 1
          },
          "opacity": 0.7,
          "size": 8
         },
         "mode": "markers",
         "name": "Cluster 3",
         "type": "scatter",
         "x": {
          "bdata": "WZj6NlOLBkDx2PiwvX4DQMZQmACXIwFAPEdug47Y/j/ysJMsT7L5PyjLlqN9sP4/oSJT/9tEDkCj99uaczoAQNRne5oBFQtAbf8c/gU4/z9ecre7K3ABQH0MSH3I2ANA9POcVfRCBkALLbfdeUgCQHx5Owrs5v8/2vpuNNqACEC1AGttfHUIQCAn8+P93/g/F7lWGSC7DEBgbnMKhpoHQCCkxsKjHAZAGK3M7vNSBkCkkMHmfWMBQEjyAG/dDwFALOLhjg8l8j+d7t04/4UAQLlNNBpkawhA0TihSd1+BEBKbvLPFEAAQP/6tu678ghAMyRA2pZtAkDGeYd5LZcDQBGNdb1L1wZAx0ylwlgD+z+/PIblgD8HQE4WyFsMmgdAK1ONGyTrCkC+/62WP9gDQFNKTwOnAAJAun465rsdA0DDDdY4gbf9Pw==",
          "dtype": "f8"
         },
         "xaxis": "x6",
         "y": {
          "bdata": "TE0e7PkXDcAK3LQLAgISwGyy3aU0jRDAw/TtvkVzEMBiZ55l4EQRwF75MjAGkRLACchjsNaZDMCtSJbPgAATwEuFDWBYYA7APw7lHQ5hEsCbAJTECbgIwN4wwmW+kg/AzaV8VGkjEMAkREbHy8wRwHVmqd7s+RHAbO1B2KfBC8DHpUNe+/kQwE5vyCwoLw/AMIwVPHfYDcBacsEE+/gMwLJf72UI9RDAocpuWpqHEcDHwxlVyrwMwC6YYUVz3w/AtKrNCZBGCsCda6I0T3wOwCWkTJkhNxDAOz2LTrYrEMCetg0fwx4QwLGN7BXMaBDAi0YNLuwFD8D8ZBXoUZANwC26h8AS6AzA2d3Um/DtEsBoBf/oiX4RwF3TtezXlhDA3WGg5firEMAhBwJeFNgPwGJDrcmUaRDAKX4V5xP+C8BqXrHZ70YOwA==",
          "dtype": "f8"
         },
         "yaxis": "y6"
        },
        {
         "marker": {
          "line": {
           "color": "white",
           "width": 1
          },
          "opacity": 0.7,
          "size": 8
         },
         "mode": "markers",
         "name": "Cluster 4",
         "type": "scatter",
         "x": {
          "bdata": "KEeQ45aR/L/iMZY3Zir9v8GDi6/ecfq/M28RrCQVBsC5gRsE5ST7v/8YLml6AAbAW4JXExesAMCWjs0LJ1ICwA5SCWs0Pfu/OAXiSI7rAsC+FsV5sSX5v8HvoXpkM/+/QuvQ85Zx+L9vtp6xiiwFwHL10fyAgQDAR7AZIRQ8/b88dCVFLuX9v43Nw1/Ao/q/qyqvluVeA8CLX+ESXs39v6y543i1hgLAQJNJDifRAsDn9jUlQA/9vyQlhYA+P/+/f6La3oBk+b+6xD7ubP/9v2cnWWaubgHAgQF1D5rz/L9g5wPwIDn/v6rpM0OZTv+/GZ5XXnUXDsBWqMN2TPYCwIX4JPhoeP6/7hOIPB3UA8Ct6SiSW9P7v/WxKQ1kdgDAbhwVgh3EBcChkEbrD136v51en6wQeQDA",
          "dtype": "f8"
         },
         "xaxis": "x6",
         "y": {
          "bdata": "8okeHe+2FcBQ6+I7CLkbwPdVK52dGBjALK0YgQDeGsBjO5A9k0kbwMmz7IlJUxrA14VAQhuaGsB8iobLCocawL4Dt8/eyhfA4PcAZZ5kG8DyNyDI71MXwFqMGaGW8x3AgTpNefB4FsAuTRDirUgWwJdygx5rfhbAXhwiEyr2GcCczkTzSacZwDSZoX2q8BnAKvdINSJ5GMDTjgbYvWAZwOrisx7g6BvA3t0M8KB4HsAZpttdkEQbwERZyJvtrhjAAZ6b0tuRGcAPSN8kE78YwH5Mk+uTmBnAmTIb1Xq7GsB2d3qB0nQbwJs34UPFpBvAXPgI0UnQG8DrEpkyBFkcwB4PpHqNmxnAtWr6Hg/2GMAQtuIx7lYcwEKJ5Hn7/RrAj4UvZmBLHsCFnBDOTXwZwGB+RlF4KxrA",
          "dtype": "f8"
         },
         "yaxis": "y6"
        },
        {
         "marker": {
          "line": {
           "color": "white",
           "width": 1
          },
          "opacity": 0.7,
          "size": 8
         },
         "mode": "markers",
         "name": "Cluster 5",
         "type": "scatter",
         "x": {
          "bdata": "FMQzeg/DAkDs1Gsjp/4HQJYacH5dkwlAINrhXPQ+DEDnwOurVoICQPxa4CVa5QdAIOsMX2idCUDt3uaSIckJQC2ovRY5OwpADXdMMygYA0AMispTraAIQEKNtE4YoQdAG+yxIZEWBUDO+81axgMGQI8MEFuy1gJAeHieial9BkAXGUOSbPT3P3iBly0ObgRAnzbMcpyOBECmW3bIJTgJQHsfnfiuXApAx60CXU/fDkDtDNYJB+MMQGjEy50SQgVAMgLFhjoaA0DP54v1HAUMQNucxXGyKglApwDF55OmCkDyw7om8C0HQAKV+ZWtGAlA7bOlcfyZEEBeVcZu9K0FQC0ZjYVBAgZA+sZC1j0sB0A=",
          "dtype": "f8"
         },
         "xaxis": "x6",
         "y": {
          "bdata": "0sVOjlMmE8C6ppbXjw0SwNZelBPJgBHA80YlA7pcE8DwArRbgEQUwDSfFkoX0xTAx63hZ4TGE8AuQnZZrp8UwCCs7cwTLRjA7DavUhsQFcBJB+vjaXYTwClucOqJbRLALkfOmgWHEsBjlAtENEMTwJSPYUFl/hLA/xMAbxRDF8D0w00nfqkXwOrcYanGHRPALYypuyiuFsCCSSkNDqkRwH2kJeiFGRLABRpOSLocE8B41EQpTqAQwEsLgZL0dxXAHOR38PV8FcDD/IrzzAIUwNHU9cOaHRPAinjNc+WdFcCz7rQq+cUTwNKw0UbpjhXA01g9GECWE8ATKLYZD0YTwC8sfDcF9xLA58kwvn1NE8A=",
          "dtype": "f8"
         },
         "yaxis": "y6"
        },
        {
         "marker": {
          "line": {
           "color": "white",
           "width": 1
          },
          "opacity": 0.7,
          "size": 8
         },
         "mode": "markers",
         "name": "Cluster 6",
         "type": "scatter",
         "x": [],
         "xaxis": "x6",
         "y": [],
         "yaxis": "y6"
        },
        {
         "marker": {
          "line": {
           "color": "white",
           "width": 1
          },
          "opacity": 0.7,
          "size": 12
         },
         "mode": "markers",
         "name": "Centers",
         "type": "scatter",
         "x": {
          "bdata": "UZ23V4Qc+L/Np6tbnnwcQPNU2jmGZPG/EHviYYX5A0CCvbrsl5UAwO+orBqaZwdA",
          "dtype": "f8"
         },
         "xaxis": "x6",
         "y": {
          "bdata": "QNfioEdD+T90y9ttSYojQIoAdKCu8RrAERA59AYREMDoXrK5kRwawBk+EnCBCRTA",
          "dtype": "f8"
         },
         "yaxis": "y6"
        },
        {
         "marker": {
          "line": {
           "color": "white",
           "width": 1
          },
          "opacity": 0.7,
          "size": 8
         },
         "mode": "markers",
         "name": "Cluster 0",
         "type": "scatter",
         "x": {
          "bdata": "i5fTtHtG+L+bfKa+gQYEwM906JETRPi/uLMPaDfN9b+OtH19VGQAwAeCWSRK5gnAvTa8bbUH9r8rW/Jctqf5vxGa49vNKQPAhH8tW80XBsCNlMVDmJr7v1O9AU1MxwDAoImdq+3//L+EkruWXTEBwCccsWX7OwPAmt/4UXqD+r/j68hmfVT9v5jQ1CtAOvu/pL7nxPpk678xS2oMDx0FwHbu5LDfV/+/zpCmzuzA8787GbElLDkAwPcv8c8u0PG/mwVkR7e6A8B1fAs6eiLpv7Lg5hnDd/q/lC4evN82A8CFo2dd8dXzv/uoYyURDPq/YtCzwEaD87+huIpDnFH4vyp34x43rvm/TWx6oEfTAMAoKjdaU/70v34EKHM9bP2/j3l6Dicl8r8HF6Qr69j5v54fjzuXyeS/0MRlwxb1/L+0X1fWjwsCwGmjAsny1f6/w/tAaNo2AcBIEKyKu2fnvw==",
          "dtype": "f8"
         },
         "xaxis": "x7",
         "y": {
          "bdata": "QsgWHtBP8D8WAZGXaiv8Py1gMbJhN+o/8QBZ0Ezp9D/VAvvrg870P8qcsnwdkvk/D8mAHIYf9D9+o29EVJjwPxIqS1hYctU/cBsNxYF3A0C9IjGbNXr2P45i5LMigPg/2TzOAuU37z/SSzbhfb79PxZkLFX+r/s/Y9W5DfH09j97aPdhnRnkP8MMvbplweM/6GETsEva8j8pIJ+OA2b6P1gFaz2opPI/WBpuYfz5zj8XHE/Hqjj5P0mBoHifM/M/JJ7ijE2R9T/BNPS62PDsPw4rHqitVuo/0pfGOUIc/T9kY97PJCbyPw6TvBSWJvo/AVn9Yu0h8j8vK8hq8T76P7JtcrJXafg/gTCYfRXS9j+M1VM29TbxP9Stp9mOpfM/T+6JmXuU9T+EL/d7mOf4P+2ve7GkSOc/jSNLFCAR7z9Nc9gTzkf0P41sAAn0J/I/SLUi3MA+4j+gM6hIAS/Yvw==",
          "dtype": "f8"
         },
         "yaxis": "y7"
        },
        {
         "marker": {
          "line": {
           "color": "white",
           "width": 1
          },
          "opacity": 0.7,
          "size": 8
         },
         "mode": "markers",
         "name": "Cluster 1",
         "type": "scatter",
         "x": {
          "bdata": "VBP5TfgQGkBS1bVunR4aQI10deuwFRdAoZPPFRU2HEDUoNaDP9UaQGwEBmxq1B9A+wRCcmMaG0DmeIVFzY8bQH6bigdtIhlA9HtSRolKGkDBVWN7vDIaQOO26TtKtxxAPnTl22RZG0ACRF872fwaQN4HUo3Y9hlA1VLjnZT9HkD11SY7Vb8dQMNbH4mW9x1AP95t3Q3nGkDzTyKIEt0cQHZXqrI7tB9A4gjgYtoyGkCG6eroLjIaQDR0gopwyx5AaX3T3jnfHkDaaPEVelMbQOAfofNB3hxAwBQRIghfG0BRgHoBqSgdQOt8zlKj/BxAr5U/9hSqGkCoyWTZ6y0dQGvU+QjMThlAjl3Sm1W2HEA/b27hPMQgQMw9pmjC9RpA5CcgxBeoHEDfMU9ByHUdQOu6sMC2jBpAOr83w3CTFkD1yabnEisfQNigwooh2B9A97nra4wlG0CGd7zzAOccQCAsV++vrBtASGbTfwfMHUAb7HsHqWUgQCZZykT+3RxA07gAji4tG0BHkwGx77UcQCZg+xOomx9AlFFgywMpG0DqumPdyZoeQKgHxCspWxtAXUZcFJhGHEDNWu28Z2caQBxHZYoSHR5AneyEvko2H0CY6vuN3BgeQIx5E5JokR5AQ2pnTWpXG0AzztwE0xYcQEQV/3PktB1AMusKsmdSHEBftVqOozYeQFE+yXBG+BlAG8YOSRRBG0BS7/cjgF4dQFZV9VRsvh1A90IjxP6SHECHgggUYbUcQLRRHxuOAx5AHFl5KPAEIECD6k1TIsseQKjhciuG5BtA",
          "dtype": "f8"
         },
         "xaxis": "x7",
         "y": {
          "bdata": "OhvteIkdI0CKsPm8RMUlQJXAncds/CJATBC6nWeoI0DO5Sx/NfIhQELtfO1V7SNA48KJkRnbI0CGlVFvXWolQG196JI4oiJAT9SzVY+2I0Cw93T40K0iQLPbCwNhXSNAPvIVdSLhI0B8Jaw/aUwkQP5730AGtSJAbq9R/VwUJUCzzp55S1QjQNndixmVnCFARR6+VhobI0Ck1hTXqC0jQBit1fcSxyFAgBWfrFFCJEB51TZwomYiQGUDFJAcPSVAZH9b72QOIUCbngDU/dkiQOYTE/L03yJAJdebjWILJUB9eNzTCREiQId0HuEgDSJAlRoPjAV0JECBHKpbXnclQKwEazFZ8SJAQfp7SWGwI0D8e6AVphUjQEmXYvZedyNAwNuEy0YxJEDb2HYw2zkkQL7CmoSgliNAfKfJohuZI0CSFCOZSSUjQDDKQwS4CyVANX1nkvWXIUDYMfJKOo8kQKgmxFyLqSNAwGXgiwqbJUBH9kRhPVUkQKGJPYCS5iNATx2bLFO/I0DiOkA7vasiQBBWHX+UViNA28AfKHSLIkBviSocLgkkQKJrGkch9iJA/PdBDptDIkC3QJXeWegkQLtJ3PgiLCRA79RH19ELJUADi6VNzgAkQCVxnRDN+iNAEVEJuqaZIUBAfFEdeZ8jQHuVNQq7piNAfio2AxovJkBQ15yiPUIhQDrtxJUrOyJAGYibE7NrIkD5Xi6sQCEjQPOCim1luyRAD+9RiC1mI0DocB/mxfcjQKgFowVTvSJAWqJ1qzN4I0D9Axupa1slQES2JHolpiNA",
          "dtype": "f8"
         },
         "yaxis": "y7"
        },
        {
         "marker": {
          "line": {
           "color": "white",
           "width": 1
          },
          "opacity": 0.7,
          "size": 8
         },
         "mode": "markers",
         "name": "Cluster 2",
         "type": "scatter",
         "x": {
          "bdata": "oSAYv/QA9L+Ky/dRfv3cv79cc1oB3u2/MX3xkjg967/CniVZtrv0v+DtkV1XrvC/90UTtsqd8L+Uoi2G7k/0vyjjiONwfvO/XDHkO1Ht87+ZGNSJbO3vv5Prt/lXh+W/L4DhvSCj8r+3+wm9goXzvw9ZZAjLJPi/tubs7WV7+b+bFz2U2An1v2v1Y+5/d/C/JwPSY284578DEdtBf+rxv7GmsCkmf+2/cNuEg9Ni5r+mW4tx9wL3v/gmjLmNPPK/1wAhsb6V9r+uj4FF+77zv98HzUkkafi/OyqJ24dc7L80MMIs7NvrvwwHI07jq/K/lQPlR0LFy79nle3ygCHpv46QQz4Q5/e/fnC2MnCD7b8ZD18YBnf3v7g2wtVqJvC/",
          "dtype": "f8"
         },
         "xaxis": "x7",
         "y": {
          "bdata": "RTYuIQMOGsATyHXcyI4YwJ9kGNx6dRnACd3A3DfdGMDxKkoMblYcwNxQpzBv7RzAzDavbe/bFcCIx6nqbtEXwNGPtowbthrAaulayWkGHMBAKwGtIwUbwASXGYTd8BXA9hkOP7QEGsCfyneP1p0fwNgNqp6UVhvABZKOa5OLHcCrHxcQKXccwCshlmy2zBzAAOy749tJF8BQJe5dy2sawF3Mi87/+BnAeAGGvSzEGcC7fUSs/IocwFsNE1f0tBvAaLPIVSsMHcAecpvbGl0ZwONsxmQaVBzAAilXHOjFHMABI/6ozE8ZwBf/U/0EIxzADSIGudMuGsCKCv/A0RcewAWKDvhJUBrAQtMDWdkfHMCY29GTubIdwJirH99ZjhvA",
          "dtype": "f8"
         },
         "yaxis": "y7"
        },
        {
         "marker": {
          "line": {
           "color": "white",
           "width": 1
          },
          "opacity": 0.7,
          "size": 8
         },
         "mode": "markers",
         "name": "Cluster 3",
         "type": "scatter",
         "x": {
          "bdata": "WZj6NlOLBkDx2PiwvX4DQMZQmACXIwFAPEdug47Y/j/ysJMsT7L5PyjLlqN9sP4/oSJT/9tEDkCj99uaczoAQNRne5oBFQtAbf8c/gU4/z9ecre7K3ABQH0MSH3I2ANA9POcVfRCBkALLbfdeUgCQHx5Owrs5v8/2vpuNNqACEC1AGttfHUIQCAn8+P93/g/F7lWGSC7DEBgbnMKhpoHQCCkxsKjHAZAGK3M7vNSBkCkkMHmfWMBQEjyAG/dDwFALOLhjg8l8j+d7t04/4UAQLlNNBpkawhA0TihSd1+BEBKbvLPFEAAQP/6tu678ghAMyRA2pZtAkDGeYd5LZcDQBGNdb1L1wZAx0ylwlgD+z+/PIblgD8HQE4WyFsMmgdAK1ONGyTrCkC+/62WP9gDQFNKTwOnAAJAun465rsdA0DDDdY4gbf9Pw==",
          "dtype": "f8"
         },
         "xaxis": "x7",
         "y": {
          "bdata": "TE0e7PkXDcAK3LQLAgISwGyy3aU0jRDAw/TtvkVzEMBiZ55l4EQRwF75MjAGkRLACchjsNaZDMCtSJbPgAATwEuFDWBYYA7APw7lHQ5hEsCbAJTECbgIwN4wwmW+kg/AzaV8VGkjEMAkREbHy8wRwHVmqd7s+RHAbO1B2KfBC8DHpUNe+/kQwE5vyCwoLw/AMIwVPHfYDcBacsEE+/gMwLJf72UI9RDAocpuWpqHEcDHwxlVyrwMwC6YYUVz3w/AtKrNCZBGCsCda6I0T3wOwCWkTJkhNxDAOz2LTrYrEMCetg0fwx4QwLGN7BXMaBDAi0YNLuwFD8D8ZBXoUZANwC26h8AS6AzA2d3Um/DtEsBoBf/oiX4RwF3TtezXlhDA3WGg5firEMAhBwJeFNgPwGJDrcmUaRDAKX4V5xP+C8BqXrHZ70YOwA==",
          "dtype": "f8"
         },
         "yaxis": "y7"
        },
        {
         "marker": {
          "line": {
           "color": "white",
           "width": 1
          },
          "opacity": 0.7,
          "size": 8
         },
         "mode": "markers",
         "name": "Cluster 4",
         "type": "scatter",
         "x": {
          "bdata": "KEeQ45aR/L/iMZY3Zir9v8GDi6/ecfq/M28RrCQVBsC5gRsE5ST7v/8YLml6AAbAW4JXExesAMCWjs0LJ1ICwA5SCWs0Pfu/OAXiSI7rAsC+FsV5sSX5v8HvoXpkM/+/QuvQ85Zx+L9vtp6xiiwFwHL10fyAgQDAR7AZIRQ8/b88dCVFLuX9v43Nw1/Ao/q/qyqvluVeA8CLX+ESXs39v6y543i1hgLAQJNJDifRAsDn9jUlQA/9vyQlhYA+P/+/f6La3oBk+b+6xD7ubP/9v2cnWWaubgHAgQF1D5rz/L9g5wPwIDn/v6rpM0OZTv+/GZ5XXnUXDsBWqMN2TPYCwIX4JPhoeP6/7hOIPB3UA8Ct6SiSW9P7v/WxKQ1kdgDAbhwVgh3EBcChkEbrD136v51en6wQeQDA",
          "dtype": "f8"
         },
         "xaxis": "x7",
         "y": {
          "bdata": "8okeHe+2FcBQ6+I7CLkbwPdVK52dGBjALK0YgQDeGsBjO5A9k0kbwMmz7IlJUxrA14VAQhuaGsB8iobLCocawL4Dt8/eyhfA4PcAZZ5kG8DyNyDI71MXwFqMGaGW8x3AgTpNefB4FsAuTRDirUgWwJdygx5rfhbAXhwiEyr2GcCczkTzSacZwDSZoX2q8BnAKvdINSJ5GMDTjgbYvWAZwOrisx7g6BvA3t0M8KB4HsAZpttdkEQbwERZyJvtrhjAAZ6b0tuRGcAPSN8kE78YwH5Mk+uTmBnAmTIb1Xq7GsB2d3qB0nQbwJs34UPFpBvAXPgI0UnQG8DrEpkyBFkcwB4PpHqNmxnAtWr6Hg/2GMAQtuIx7lYcwEKJ5Hn7/RrAj4UvZmBLHsCFnBDOTXwZwGB+RlF4KxrA",
          "dtype": "f8"
         },
         "yaxis": "y7"
        },
        {
         "marker": {
          "line": {
           "color": "white",
           "width": 1
          },
          "opacity": 0.7,
          "size": 8
         },
         "mode": "markers",
         "name": "Cluster 5",
         "type": "scatter",
         "x": {
          "bdata": "FMQzeg/DAkDs1Gsjp/4HQJYacH5dkwlAINrhXPQ+DEDnwOurVoICQPxa4CVa5QdAIOsMX2idCUDt3uaSIckJQC2ovRY5OwpADXdMMygYA0AMispTraAIQEKNtE4YoQdAG+yxIZEWBUDO+81axgMGQI8MEFuy1gJAeHieial9BkAXGUOSbPT3P3iBly0ObgRAnzbMcpyOBECmW3bIJTgJQHsfnfiuXApAx60CXU/fDkDtDNYJB+MMQGjEy50SQgVAMgLFhjoaA0DP54v1HAUMQNucxXGyKglApwDF55OmCkDyw7om8C0HQAKV+ZWtGAlA7bOlcfyZEEBeVcZu9K0FQC0ZjYVBAgZA+sZC1j0sB0A=",
          "dtype": "f8"
         },
         "xaxis": "x7",
         "y": {
          "bdata": "0sVOjlMmE8C6ppbXjw0SwNZelBPJgBHA80YlA7pcE8DwArRbgEQUwDSfFkoX0xTAx63hZ4TGE8AuQnZZrp8UwCCs7cwTLRjA7DavUhsQFcBJB+vjaXYTwClucOqJbRLALkfOmgWHEsBjlAtENEMTwJSPYUFl/hLA/xMAbxRDF8D0w00nfqkXwOrcYanGHRPALYypuyiuFsCCSSkNDqkRwH2kJeiFGRLABRpOSLocE8B41EQpTqAQwEsLgZL0dxXAHOR38PV8FcDD/IrzzAIUwNHU9cOaHRPAinjNc+WdFcCz7rQq+cUTwNKw0UbpjhXA01g9GECWE8ATKLYZD0YTwC8sfDcF9xLA58kwvn1NE8A=",
          "dtype": "f8"
         },
         "yaxis": "y7"
        },
        {
         "marker": {
          "line": {
           "color": "white",
           "width": 1
          },
          "opacity": 0.7,
          "size": 8
         },
         "mode": "markers",
         "name": "Cluster 6",
         "type": "scatter",
         "x": {
          "bdata": "be9IunzK97/vrVZD5r77v5pKidm0V/O/dNTHkIrn4r8GZ/UG08P5v4QvRwDo2PO/ef21nVJH/7+WCgs5oy7tv2Y8a3yLH+e/7ACSi9xX479hbWjF07D1v+o446eTevC/CoGE5Lnt3L805VeaYtgBwLG5iJ3v3fO/MAp68MNbBMB+rHUo65D5vyEwWOU/Vvi/gqfuzQhMtD+n5YOp5h3wv2j40Wbe0fK/QL8lQ7wJ7b9CxcdEpAHxvwuNWfylOOW/k1BdDEnf8L9GaF7jWQTiv/N1coFaDuy/owvQ6y2Z8L8wC26C0WDzv8+9u1MD/Oi/mMLiqHM48r8=",
          "dtype": "f8"
         },
         "xaxis": "x7",
         "y": {
          "bdata": "h7X+7P8SA0A2IzgbvAUAQPev0wj0XQJAyuHTaj628z9MNkvJcTEGQG9GoSQTGP8/w4xURK43AUACjWIz/uYAQGBYfVXr2ABAx9LKGjb+9j978Mq/oNgBQIO38i/htgJA9NxqPcOUAkABXmKL57YCQIIzdFxgRwdAnWyDhfO3CEDVIp+Wdx4AQLNLk/bXzQFArTg+P5AB+j9AqlZWHNkAQMCTeW7sMwJAWiD2/2jt+T8D/stkV/P/Pw4iR16wg/8/SZyoYSM4BkBHtZkhpcD0Pxx7tParDfk/azpOkz1HA0CWcvEcVAwAQKPc72KRbPs/jtd3L2GFAUA=",
          "dtype": "f8"
         },
         "yaxis": "y7"
        },
        {
         "marker": {
          "line": {
           "color": "white",
           "width": 1
          },
          "opacity": 0.7,
          "size": 8
         },
         "mode": "markers",
         "name": "Cluster 7",
         "type": "scatter",
         "x": [],
         "xaxis": "x7",
         "y": [],
         "yaxis": "y7"
        },
        {
         "marker": {
          "line": {
           "color": "white",
           "width": 1
          },
          "opacity": 0.7,
          "size": 12
         },
         "mode": "markers",
         "name": "Centers",
         "type": "scatter",
         "x": {
          "bdata": "iwhVxEM2/L/Np6tbnnwcQPNU2jmGZPG/EHviYYX5A0CCvbrsl5UAwO+orBqaZwdAmTb5ao1K8r8=",
          "dtype": "f8"
         },
         "xaxis": "x7",
         "y": {
          "bdata": "4uv++29B8z90y9ttSYojQIoAdKCu8RrAERA59AYREMDoXrK5kRwawBk+EnCBCRTAltCnCwPlAEA=",
          "dtype": "f8"
         },
         "yaxis": "y7"
        },
        {
         "marker": {
          "line": {
           "color": "white",
           "width": 1
          },
          "opacity": 0.7,
          "size": 8
         },
         "mode": "markers",
         "name": "Cluster 0",
         "type": "scatter",
         "x": {
          "bdata": "be9IunzK97/vrVZD5r77v5t8pr6BBgTAmkqJ2bRX87+OtH19VGQAwAeCWSRK5gnABmf1BtPD+b+EL0cA6NjzvxGa49vNKQPAef21nVJH/7+Efy1bzRcGwI2UxUOYmvu/U70BTUzHAMCgiZ2r7f/8v4SSu5ZdMQHAYW1oxdOw9b/qOOOnk3rwvyccsWX7OwPAmt/4UXqD+r805VeaYtgBwLG5iJ3v3fO/MUtqDA8dBcAwCnrww1sEwH6sdSjrkPm/du7ksN9X/787GbElLDkAwJsFZEe3ugPAlC4evN82A8AhMFjlP1b4v/uoYyURDPq/aPjRZt7R8r+huIpDnFH4vyp34x43rvm/TWx6oEfTAMB+BChzPWz9v5NQXQxJ3/C/BxekK+vY+b+jC9DrLZnwv9DEZcMW9fy/MAtugtFg87+0X1fWjwsCwGmjAsny1f6/mMLiqHM48r/D+0Bo2jYBwA==",
          "dtype": "f8"
         },
         "xaxis": "x8",
         "y": {
          "bdata": "h7X+7P8SA0A2IzgbvAUAQBYBkZdqK/w/96/TCPRdAkDVAvvrg870P8qcsnwdkvk/TDZLyXExBkBvRqEkExj/PxIqS1hYctU/w4xURK43AUBwGw3FgXcDQL0iMZs1evY/jmLksyKA+D/ZPM4C5TfvP9JLNuF9vv0/e/DKv6DYAUCDt/Iv4bYCQBZkLFX+r/s/Y9W5DfH09j8BXmKL57YCQIIzdFxgRwdAKSCfjgNm+j+dbIOF87cIQNUin5Z3HgBAWAVrPaik8j8XHE/Hqjj5PySe4oxNkfU/0pfGOUIc/T+zS5P2180BQA6TvBSWJvo/wJN5buwzAkAvK8hq8T76P7JtcrJXafg/gTCYfRXS9j/UrafZjqXzP0mcqGEjOAZAhC/3e5jn+D9rOk6TPUcDQI0jSxQgEe8/lnLxHFQMAEBNc9gTzkf0P41sAAn0J/I/jtd3L2GFAUBItSLcwD7iPw==",
          "dtype": "f8"
         },
         "yaxis": "y8"
        },
        {
         "marker": {
          "line": {
           "color": "white",
           "width": 1
          },
          "opacity": 0.7,
          "size": 8
         },
         "mode": "markers",
         "name": "Cluster 1",
         "type": "scatter",
         "x": {
          "bdata": "VBP5TfgQGkCNdHXrsBUXQKGTzxUVNhxA1KDWgz/VGkD7BEJyYxobQH6bigdtIhlA9HtSRolKGkDBVWN7vDIaQOO26TtKtxxAPnTl22RZG0DeB1KN2PYZQMNbH4mW9x1AP95t3Q3nGkDzTyKIEt0cQHZXqrI7tB9A4gjgYtoyGkCG6eroLjIaQGl909453x5A2mjxFXpTG0DgH6HzQd4cQFGAegGpKB1A63zOUqP8HEBr1PkIzE4ZQMw9pmjC9RpA67qwwLaMGkA6vzfDcJMWQPe562uMJRtAICxX76+sG0DTuACOLi0bQEeTAbHvtRxAlFFgywMpG0CoB8QrKVsbQF1GXBSYRhxAQ2pnTWpXG0AzztwE0xYcQF+1Wo6jNh5AUT7JcEb4GUAbxg5JFEEbQFLv9yOAXh1A90IjxP6SHEC0UR8bjgMeQKjhciuG5BtA",
          "dtype": "f8"
         },
         "xaxis": "x8",
         "y": {
          "bdata": "OhvteIkdI0CVwJ3HbPwiQEwQup1nqCNAzuUsfzXyIUDjwomRGdsjQG196JI4oiJAT9SzVY+2I0Cw93T40K0iQLPbCwNhXSNAPvIVdSLhI0D+e99ABrUiQNndixmVnCFARR6+VhobI0Ck1hTXqC0jQBit1fcSxyFAgBWfrFFCJEB51TZwomYiQGR/W+9kDiFAm54A1P3ZIkDmExPy9N8iQH143NMJESJAh3Qe4SANIkCsBGsxWfEiQEmXYvZedyNAvsKahKCWI0B8p8miG5kjQDV9Z5L1lyFAqCbEXIupI0BPHZssU78jQOI6QDu9qyJA28AfKHSLIkCiaxpHIfYiQPz3QQ6bQyJAEVEJuqaZIUBAfFEdeZ8jQFDXnKI9QiFAOu3ElSs7IkAZiJsTs2siQPleLqxAISNAD+9RiC1mI0CoBaMFU70iQES2JHolpiNA",
          "dtype": "f8"
         },
         "yaxis": "y8"
        },
        {
         "marker": {
          "line": {
           "color": "white",
           "width": 1
          },
          "opacity": 0.7,
          "size": 8
         },
         "mode": "markers",
         "name": "Cluster 2",
         "type": "scatter",
         "x": {
          "bdata": "WZj6NlOLBkAUxDN6D8MCQPHY+LC9fgNAxlCYAJcjAUA8R26Djtj+P/KwkyxPsvk/KMuWo32w/j+j99uaczoAQG3/HP4FOP8/XnK3uytwAUB9DEh9yNgDQPTznFX0QgZACy233XlIAkB8eTsK7Ob/P9r6bjTagAhAjwwQW7LWAkAgJ/Pj/d/4P2BucwqGmgdAFxlDkmz09z+kkMHmfWMBQEjyAG/dDwFALOLhjg8l8j+d7t04/4UAQNE4oUndfgRASm7yzxRAAEAzJEDalm0CQMZ5h3ktlwNAEY11vUvXBkDHTKXCWAP7P77/rZY/2ANAU0pPA6cAAkC6fjrmux0DQMMN1jiBt/0/",
          "dtype": "f8"
         },
         "xaxis": "x8",
         "y": {
          "bdata": "TE0e7PkXDcDSxU6OUyYTwArctAsCAhLAbLLdpTSNEMDD9O2+RXMQwGJnnmXgRBHAXvkyMAaREsCtSJbPgAATwD8O5R0OYRLAmwCUxAm4CMDeMMJlvpIPwM2lfFRpIxDAJERGx8vMEcB1Zqne7PkRwGztQdinwQvAlI9hQWX+EsBOb8gsKC8PwFpywQT7+AzA9MNNJ36pF8DHwxlVyrwMwC6YYUVz3w/AtKrNCZBGCsCda6I0T3wOwDs9i062KxDAnrYNH8MeEMCLRg0u7AUPwPxkFehRkA3ALbqHwBLoDMDZ3dSb8O0SwCEHAl4U2A/AYkOtyZRpEMApfhXnE/4LwGpesdnvRg7A",
          "dtype": "f8"
         },
         "yaxis": "y8"
        },
        {
         "marker": {
          "line": {
           "color": "white",
           "width": 1
          },
          "opacity": 0.7,
          "size": 8
         },
         "mode": "markers",
         "name": "Cluster 3",
         "type": "scatter",
         "x": {
          "bdata": "KEeQ45aR/L/iMZY3Zir9v8GDi6/ecfq/M28RrCQVBsC5gRsE5ST7v/8YLml6AAbAW4JXExesAMCWjs0LJ1ICwA5SCWs0Pfu/OAXiSI7rAsC+FsV5sSX5v8HvoXpkM/+/QuvQ85Zx+L9vtp6xiiwFwHL10fyAgQDAR7AZIRQ8/b88dCVFLuX9v43Nw1/Ao/q/qyqvluVeA8CLX+ESXs39v6y543i1hgLAQJNJDifRAsDn9jUlQA/9vyQlhYA+P/+/f6La3oBk+b+6xD7ubP/9v2cnWWaubgHAgQF1D5rz/L9g5wPwIDn/v6rpM0OZTv+/GZ5XXnUXDsBWqMN2TPYCwIX4JPhoeP6/7hOIPB3UA8Ct6SiSW9P7v/WxKQ1kdgDAbhwVgh3EBcChkEbrD136v51en6wQeQDA",
          "dtype": "f8"
         },
         "xaxis": "x8",
         "y": {
          "bdata": "8okeHe+2FcBQ6+I7CLkbwPdVK52dGBjALK0YgQDeGsBjO5A9k0kbwMmz7IlJUxrA14VAQhuaGsB8iobLCocawL4Dt8/eyhfA4PcAZZ5kG8DyNyDI71MXwFqMGaGW8x3AgTpNefB4FsAuTRDirUgWwJdygx5rfhbAXhwiEyr2GcCczkTzSacZwDSZoX2q8BnAKvdINSJ5GMDTjgbYvWAZwOrisx7g6BvA3t0M8KB4HsAZpttdkEQbwERZyJvtrhjAAZ6b0tuRGcAPSN8kE78YwH5Mk+uTmBnAmTIb1Xq7GsB2d3qB0nQbwJs34UPFpBvAXPgI0UnQG8DrEpkyBFkcwB4PpHqNmxnAtWr6Hg/2GMAQtuIx7lYcwEKJ5Hn7/RrAj4UvZmBLHsCFnBDOTXwZwGB+RlF4KxrA",
          "dtype": "f8"
         },
         "yaxis": "y8"
        },
        {
         "marker": {
          "line": {
           "color": "white",
           "width": 1
          },
          "opacity": 0.7,
          "size": 8
         },
         "mode": "markers",
         "name": "Cluster 4",
         "type": "scatter",
         "x": {
          "bdata": "i5fTtHtG+L/PdOiRE0T4v3TUx5CK5+K/uLMPaDfN9b+9NrxttQf2vytb8ly2p/m/lgoLOaMu7b9mPGt8ix/nv+wAkovcV+O/4+vIZn1U/b8KgYTkue3cv5jQ1CtAOvu/pL7nxPpk67/OkKbO7MDzv/cv8c8u0PG/dXwLOnoi6b+y4OYZw3f6v4WjZ13x1fO/YtCzwEaD87+Cp+7NCEy0P6flg6nmHfC/KCo3WlP+9L9AvyVDvAntv0LFx0SkAfG/C41Z/KU45b+PeXoOJyXyv0ZoXuNZBOK/83VygVoO7L+eH487l8nkv8+9u1MD/Oi/SBCsirtn578=",
          "dtype": "f8"
         },
         "xaxis": "x8",
         "y": {
          "bdata": "QsgWHtBP8D8tYDGyYTfqP8rh02o+tvM/8QBZ0Ezp9D8PyYAchh/0P36jb0RUmPA/Ao1iM/7mAEBgWH1V69gAQMfSyho2/vY/e2j3YZ0Z5D/03Go9w5QCQMMMvbplweM/6GETsEva8j9YGm5h/PnOP0mBoHifM/M/wTT0utjw7D8OKx6orVbqP2Rj3s8kJvI/AVn9Yu0h8j+tOD4/kAH6P0CqVlYc2QBAjNVTNvU28T9aIPb/aO35PwP+y2RX8/8/DiJHXrCD/z9P7omZe5T1P0e1mSGlwPQ/HHu09qsN+T/tr3uxpEjnP6Pc72KRbPs/oDOoSAEv2L8=",
          "dtype": "f8"
         },
         "yaxis": "y8"
        },
        {
         "marker": {
          "line": {
           "color": "white",
           "width": 1
          },
          "opacity": 0.7,
          "size": 8
         },
         "mode": "markers",
         "name": "Cluster 5",
         "type": "scatter",
         "x": {
          "bdata": "UtW1bp0eGkBsBAZsatQfQOZ4hUXNjxtAAkRfO9n8GkDVUuOdlP0eQPXVJjtVvx1ANHSCinDLHkDAFBEiCF8bQK+VP/YUqhpAqMlk2estHUCOXdKbVbYcQD9vbuE8xCBA5CcgxBeoHEDfMU9ByHUdQPXJpucSKx9A2KDCiiHYH0CGd7zzAOccQEhm038HzB1AG+x7B6llIEAmWcpE/t0cQCZg+xOomx9A6rpj3cmaHkDNWu28Z2caQBxHZYoSHR5AneyEvko2H0CY6vuN3BgeQIx5E5JokR5ARBX/c+S0HUAy6wqyZ1IcQFZV9VRsvh1Ah4IIFGG1HEAcWXko8AQgQIPqTVMiyx5A",
          "dtype": "f8"
         },
         "xaxis": "x8",
         "y": {
          "bdata": "irD5vETFJUBC7XztVe0jQIaVUW9daiVAfCWsP2lMJEBur1H9XBQlQLPOnnlLVCNAZQMUkBw9JUAl15uNYgslQJUaD4wFdCRAgRyqW153JUBB+ntJYbAjQPx7oBWmFSNAwNuEy0YxJEDb2HYw2zkkQJIUI5lJJSNAMMpDBLgLJUDYMfJKOo8kQMBl4IsKmyVAR/ZEYT1VJEChiT2AkuYjQBBWHX+UViNAb4kqHC4JJEC3QJXeWegkQLtJ3PgiLCRA79RH19ELJUADi6VNzgAkQCVxnRDN+iNAe5U1CrumI0B+KjYDGi8mQPOCim1luyRA6HAf5sX3I0BaonWrM3gjQP0DG6lrWyVA",
          "dtype": "f8"
         },
         "yaxis": "y8"
        },
        {
         "marker": {
          "line": {
           "color": "white",
           "width": 1
          },
          "opacity": 0.7,
          "size": 8
         },
         "mode": "markers",
         "name": "Cluster 6",
         "type": "scatter",
         "x": {
          "bdata": "7NRrI6f+B0CWGnB+XZMJQCDa4Vz0PgxA58Drq1aCAkD8WuAlWuUHQCDrDF9onQlA7d7mkiHJCUAtqL0WOTsKQA13TDMoGANAoSJT/9tEDkDUZ3uaARULQAyKylOtoAhAQo20ThihB0Ab7LEhkRYFQM77zVrGAwZAtQBrbXx1CEAXuVYZILsMQHh4nompfQZAIKTGwqMcBkB4gZctDm4EQBitzO7zUgZAnzbMcpyOBECmW3bIJTgJQHsfnfiuXApAx60CXU/fDkDtDNYJB+MMQGjEy50SQgVAMgLFhjoaA0C5TTQaZGsIQP/6tu678ghAz+eL9RwFDEC/PIblgD8HQE4WyFsMmgdA25zFcbIqCUArU40bJOsKQKcAxeeTpgpA8sO6JvAtB0AClfmVrRgJQO2zpXH8mRBAXlXGbvStBUAtGY2FQQIGQPrGQtY9LAdA",
          "dtype": "f8"
         },
         "xaxis": "x8",
         "y": {
          "bdata": "uqaW148NEsDWXpQTyYARwPNGJQO6XBPA8AK0W4BEFMA0nxZKF9MUwMet4WeExhPALkJ2Wa6fFMAgrO3MEy0YwOw2r1IbEBXACchjsNaZDMBLhQ1gWGAOwEkH6+NpdhPAKW5w6oltEsAuR86aBYcSwGOUC0Q0QxPAx6VDXvv5EMAwjBU8d9gNwP8TAG8UQxfAsl/vZQj1EMDq3GGpxh0TwKHKblqahxHALYypuyiuFsCCSSkNDqkRwH2kJeiFGRLABRpOSLocE8B41EQpTqAQwEsLgZL0dxXAHOR38PV8FcAlpEyZITcQwLGN7BXMaBDAw/yK88wCFMBoBf/oiX4RwF3TtezXlhDA0dT1w5odE8DdYaDl+KsQwIp4zXPlnRXAs+60KvnFE8DSsNFG6Y4VwNNYPRhAlhPAEyi2GQ9GE8AvLHw3BfcSwOfJML59TRPA",
          "dtype": "f8"
         },
         "yaxis": "y8"
        },
        {
         "marker": {
          "line": {
           "color": "white",
           "width": 1
          },
          "opacity": 0.7,
          "size": 8
         },
         "mode": "markers",
         "name": "Cluster 7",
         "type": "scatter",
         "x": {
          "bdata": "oSAYv/QA9L+Ky/dRfv3cv79cc1oB3u2/MX3xkjg967/CniVZtrv0v+DtkV1XrvC/90UTtsqd8L+Uoi2G7k/0vyjjiONwfvO/XDHkO1Ht87+ZGNSJbO3vv5Prt/lXh+W/L4DhvSCj8r+3+wm9goXzvw9ZZAjLJPi/tubs7WV7+b+bFz2U2An1v2v1Y+5/d/C/JwPSY284578DEdtBf+rxv7GmsCkmf+2/cNuEg9Ni5r+mW4tx9wL3v/gmjLmNPPK/1wAhsb6V9r+uj4FF+77zv98HzUkkafi/OyqJ24dc7L80MMIs7NvrvwwHI07jq/K/lQPlR0LFy79nle3ygCHpv46QQz4Q5/e/fnC2MnCD7b8ZD18YBnf3v7g2wtVqJvC/",
          "dtype": "f8"
         },
         "xaxis": "x8",
         "y": {
          "bdata": "RTYuIQMOGsATyHXcyI4YwJ9kGNx6dRnACd3A3DfdGMDxKkoMblYcwNxQpzBv7RzAzDavbe/bFcCIx6nqbtEXwNGPtowbthrAaulayWkGHMBAKwGtIwUbwASXGYTd8BXA9hkOP7QEGsCfyneP1p0fwNgNqp6UVhvABZKOa5OLHcCrHxcQKXccwCshlmy2zBzAAOy749tJF8BQJe5dy2sawF3Mi87/+BnAeAGGvSzEGcC7fUSs/IocwFsNE1f0tBvAaLPIVSsMHcAecpvbGl0ZwONsxmQaVBzAAilXHOjFHMABI/6ozE8ZwBf/U/0EIxzADSIGudMuGsCKCv/A0RcewAWKDvhJUBrAQtMDWdkfHMCY29GTubIdwJirH99ZjhvA",
          "dtype": "f8"
         },
         "yaxis": "y8"
        },
        {
         "marker": {
          "line": {
           "color": "white",
           "width": 1
          },
          "opacity": 0.7,
          "size": 8
         },
         "mode": "markers",
         "name": "Cluster 8",
         "type": "scatter",
         "x": [],
         "xaxis": "x8",
         "y": [],
         "yaxis": "y8"
        },
        {
         "marker": {
          "line": {
           "color": "white",
           "width": 1
          },
          "opacity": 0.7,
          "size": 12
         },
         "mode": "markers",
         "name": "Centers",
         "type": "scatter",
         "x": {
          "bdata": "CUc2LTZ//b9lc57Es4MbQFKy9kwmnwFAgr267JeVAMDx3ST3qHfwv2iNGdZruR1AHk+ozLuECEDzVNo5hmTxvw==",
          "dtype": "f8"
         },
         "xaxis": "x8",
         "y": {
          "bdata": "qFW32FDQ/D/p/7s+gNQiQJ/qBE+pYhDA6F6yuZEcGsBKExD/CDn0P8rlj5KmcSRAg4jDMozvEsCKAHSgrvEawA==",
          "dtype": "f8"
         },
         "yaxis": "y8"
        },
        {
         "marker": {
          "line": {
           "color": "white",
           "width": 1
          },
          "opacity": 0.7,
          "size": 8
         },
         "mode": "markers",
         "name": "Cluster 0",
         "type": "scatter",
         "x": {
          "bdata": "be9IunzK97/vrVZD5r77v5t8pr6BBgTAmkqJ2bRX87+OtH19VGQAwAeCWSRK5gnABmf1BtPD+b+EL0cA6NjzvxGa49vNKQPAef21nVJH/7+Efy1bzRcGwI2UxUOYmvu/U70BTUzHAMCgiZ2r7f/8v4SSu5ZdMQHAYW1oxdOw9b/qOOOnk3rwvyccsWX7OwPAmt/4UXqD+r805VeaYtgBwLG5iJ3v3fO/MUtqDA8dBcAwCnrww1sEwH6sdSjrkPm/du7ksN9X/787GbElLDkAwJsFZEe3ugPAlC4evN82A8AhMFjlP1b4v/uoYyURDPq/aPjRZt7R8r+huIpDnFH4vyp34x43rvm/TWx6oEfTAMB+BChzPWz9v5NQXQxJ3/C/BxekK+vY+b+jC9DrLZnwv9DEZcMW9fy/MAtugtFg87+0X1fWjwsCwGmjAsny1f6/mMLiqHM48r/D+0Bo2jYBwA==",
          "dtype": "f8"
         },
         "xaxis": "x9",
         "y": {
          "bdata": "h7X+7P8SA0A2IzgbvAUAQBYBkZdqK/w/96/TCPRdAkDVAvvrg870P8qcsnwdkvk/TDZLyXExBkBvRqEkExj/PxIqS1hYctU/w4xURK43AUBwGw3FgXcDQL0iMZs1evY/jmLksyKA+D/ZPM4C5TfvP9JLNuF9vv0/e/DKv6DYAUCDt/Iv4bYCQBZkLFX+r/s/Y9W5DfH09j8BXmKL57YCQIIzdFxgRwdAKSCfjgNm+j+dbIOF87cIQNUin5Z3HgBAWAVrPaik8j8XHE/Hqjj5PySe4oxNkfU/0pfGOUIc/T+zS5P2180BQA6TvBSWJvo/wJN5buwzAkAvK8hq8T76P7JtcrJXafg/gTCYfRXS9j/UrafZjqXzP0mcqGEjOAZAhC/3e5jn+D9rOk6TPUcDQI0jSxQgEe8/lnLxHFQMAEBNc9gTzkf0P41sAAn0J/I/jtd3L2GFAUBItSLcwD7iPw==",
          "dtype": "f8"
         },
         "yaxis": "y9"
        },
        {
         "marker": {
          "line": {
           "color": "white",
           "width": 1
          },
          "opacity": 0.7,
          "size": 8
         },
         "mode": "markers",
         "name": "Cluster 1",
         "type": "scatter",
         "x": {
          "bdata": "47bpO0q3HED11SY7Vb8dQMNbH4mW9x1A808iiBLdHEB2V6qyO7QfQGl909453x5A4B+h80HeHEBRgHoBqSgdQOt8zlKj/BxAP29u4TzEIED1yabnEisfQEeTAbHvtRxAJmD7E6ibH0BdRlwUmEYcQENqZ01qVxtAX7VajqM2HkBS7/cjgF4dQLRRHxuOAx5AHFl5KPAEIEA=",
          "dtype": "f8"
         },
         "xaxis": "x9",
         "y": {
          "bdata": "s9sLA2FdI0Czzp55S1QjQNndixmVnCFApNYU16gtI0AYrdX3EschQGR/W+9kDiFA5hMT8vTfIkB9eNzTCREiQId0HuEgDSJA/HugFaYVI0CSFCOZSSUjQOI6QDu9qyJAEFYdf5RWI0D890EOm0MiQBFRCbqmmSFAUNecoj1CIUD5Xi6sQCEjQKgFowVTvSJAWqJ1qzN4I0A=",
          "dtype": "f8"
         },
         "yaxis": "y9"
        },
        {
         "marker": {
          "line": {
           "color": "white",
           "width": 1
          },
          "opacity": 0.7,
          "size": 8
         },
         "mode": "markers",
         "name": "Cluster 2",
         "type": "scatter",
         "x": {
          "bdata": "WZj6NlOLBkAUxDN6D8MCQPHY+LC9fgNAxlCYAJcjAUA8R26Djtj+P/KwkyxPsvk/KMuWo32w/j+j99uaczoAQG3/HP4FOP8/XnK3uytwAUB9DEh9yNgDQPTznFX0QgZACy233XlIAkB8eTsK7Ob/P9r6bjTagAhAjwwQW7LWAkAgJ/Pj/d/4P2BucwqGmgdAFxlDkmz09z+kkMHmfWMBQEjyAG/dDwFALOLhjg8l8j+d7t04/4UAQNE4oUndfgRASm7yzxRAAEAzJEDalm0CQMZ5h3ktlwNAEY11vUvXBkDHTKXCWAP7P77/rZY/2ANAU0pPA6cAAkC6fjrmux0DQMMN1jiBt/0/",
          "dtype": "f8"
         },
         "xaxis": "x9",
         "y": {
          "bdata": "TE0e7PkXDcDSxU6OUyYTwArctAsCAhLAbLLdpTSNEMDD9O2+RXMQwGJnnmXgRBHAXvkyMAaREsCtSJbPgAATwD8O5R0OYRLAmwCUxAm4CMDeMMJlvpIPwM2lfFRpIxDAJERGx8vMEcB1Zqne7PkRwGztQdinwQvAlI9hQWX+EsBOb8gsKC8PwFpywQT7+AzA9MNNJ36pF8DHwxlVyrwMwC6YYUVz3w/AtKrNCZBGCsCda6I0T3wOwDs9i062KxDAnrYNH8MeEMCLRg0u7AUPwPxkFehRkA3ALbqHwBLoDMDZ3dSb8O0SwCEHAl4U2A/AYkOtyZRpEMApfhXnE/4LwGpesdnvRg7A",
          "dtype": "f8"
         },
         "yaxis": "y9"
        },
        {
         "marker": {
          "line": {
           "color": "white",
           "width": 1
          },
          "opacity": 0.7,
          "size": 8
         },
         "mode": "markers",
         "name": "Cluster 3",
         "type": "scatter",
         "x": {
          "bdata": "KEeQ45aR/L/iMZY3Zir9v8GDi6/ecfq/M28RrCQVBsC5gRsE5ST7v/8YLml6AAbAW4JXExesAMCWjs0LJ1ICwA5SCWs0Pfu/OAXiSI7rAsC+FsV5sSX5v8HvoXpkM/+/QuvQ85Zx+L9vtp6xiiwFwHL10fyAgQDAR7AZIRQ8/b88dCVFLuX9v43Nw1/Ao/q/qyqvluVeA8CLX+ESXs39v6y543i1hgLAQJNJDifRAsDn9jUlQA/9vyQlhYA+P/+/f6La3oBk+b+6xD7ubP/9v2cnWWaubgHAgQF1D5rz/L9g5wPwIDn/v6rpM0OZTv+/GZ5XXnUXDsBWqMN2TPYCwIX4JPhoeP6/7hOIPB3UA8Ct6SiSW9P7v/WxKQ1kdgDAbhwVgh3EBcChkEbrD136v51en6wQeQDA",
          "dtype": "f8"
         },
         "xaxis": "x9",
         "y": {
          "bdata": "8okeHe+2FcBQ6+I7CLkbwPdVK52dGBjALK0YgQDeGsBjO5A9k0kbwMmz7IlJUxrA14VAQhuaGsB8iobLCocawL4Dt8/eyhfA4PcAZZ5kG8DyNyDI71MXwFqMGaGW8x3AgTpNefB4FsAuTRDirUgWwJdygx5rfhbAXhwiEyr2GcCczkTzSacZwDSZoX2q8BnAKvdINSJ5GMDTjgbYvWAZwOrisx7g6BvA3t0M8KB4HsAZpttdkEQbwERZyJvtrhjAAZ6b0tuRGcAPSN8kE78YwH5Mk+uTmBnAmTIb1Xq7GsB2d3qB0nQbwJs34UPFpBvAXPgI0UnQG8DrEpkyBFkcwB4PpHqNmxnAtWr6Hg/2GMAQtuIx7lYcwEKJ5Hn7/RrAj4UvZmBLHsCFnBDOTXwZwGB+RlF4KxrA",
          "dtype": "f8"
         },
         "yaxis": "y9"
        },
        {
         "marker": {
          "line": {
           "color": "white",
           "width": 1
          },
          "opacity": 0.7,
          "size": 8
         },
         "mode": "markers",
         "name": "Cluster 4",
         "type": "scatter",
         "x": {
          "bdata": "i5fTtHtG+L/PdOiRE0T4v3TUx5CK5+K/uLMPaDfN9b+9NrxttQf2vytb8ly2p/m/lgoLOaMu7b9mPGt8ix/nv+wAkovcV+O/4+vIZn1U/b8KgYTkue3cv5jQ1CtAOvu/pL7nxPpk67/OkKbO7MDzv/cv8c8u0PG/dXwLOnoi6b+y4OYZw3f6v4WjZ13x1fO/YtCzwEaD87+Cp+7NCEy0P6flg6nmHfC/KCo3WlP+9L9AvyVDvAntv0LFx0SkAfG/C41Z/KU45b+PeXoOJyXyv0ZoXuNZBOK/83VygVoO7L+eH487l8nkv8+9u1MD/Oi/SBCsirtn578=",
          "dtype": "f8"
         },
         "xaxis": "x9",
         "y": {
          "bdata": "QsgWHtBP8D8tYDGyYTfqP8rh02o+tvM/8QBZ0Ezp9D8PyYAchh/0P36jb0RUmPA/Ao1iM/7mAEBgWH1V69gAQMfSyho2/vY/e2j3YZ0Z5D/03Go9w5QCQMMMvbplweM/6GETsEva8j9YGm5h/PnOP0mBoHifM/M/wTT0utjw7D8OKx6orVbqP2Rj3s8kJvI/AVn9Yu0h8j+tOD4/kAH6P0CqVlYc2QBAjNVTNvU28T9aIPb/aO35PwP+y2RX8/8/DiJHXrCD/z9P7omZe5T1P0e1mSGlwPQ/HHu09qsN+T/tr3uxpEjnP6Pc72KRbPs/oDOoSAEv2L8=",
          "dtype": "f8"
         },
         "yaxis": "y9"
        },
        {
         "marker": {
          "line": {
           "color": "white",
           "width": 1
          },
          "opacity": 0.7,
          "size": 8
         },
         "mode": "markers",
         "name": "Cluster 5",
         "type": "scatter",
         "x": {
          "bdata": "UtW1bp0eGkBsBAZsatQfQOZ4hUXNjxtA1VLjnZT9HkA0dIKKcMseQMAUESIIXxtAqMlk2estHUCOXdKbVbYcQOQnIMQXqBxA3zFPQch1HUDYoMKKIdgfQIZ3vPMA5xxASGbTfwfMHUAb7HsHqWUgQCZZykT+3RxA6rpj3cmaHkDNWu28Z2caQBxHZYoSHR5AneyEvko2H0CY6vuN3BgeQIx5E5JokR5ARBX/c+S0HUAy6wqyZ1IcQFZV9VRsvh1Ah4IIFGG1HECD6k1TIsseQA==",
          "dtype": "f8"
         },
         "xaxis": "x9",
         "y": {
          "bdata": "irD5vETFJUBC7XztVe0jQIaVUW9daiVAbq9R/VwUJUBlAxSQHD0lQCXXm41iCyVAgRyqW153JUBB+ntJYbAjQMDbhMtGMSRA29h2MNs5JEAwykMEuAslQNgx8ko6jyRAwGXgiwqbJUBH9kRhPVUkQKGJPYCS5iNAb4kqHC4JJEC3QJXeWegkQLtJ3PgiLCRA79RH19ELJUADi6VNzgAkQCVxnRDN+iNAe5U1CrumI0B+KjYDGi8mQPOCim1luyRA6HAf5sX3I0D9Axupa1slQA==",
          "dtype": "f8"
         },
         "yaxis": "y9"
        },
        {
         "marker": {
          "line": {
           "color": "white",
           "width": 1
          },
          "opacity": 0.7,
          "size": 8
         },
         "mode": "markers",
         "name": "Cluster 6",
         "type": "scatter",
         "x": {
          "bdata": "7NRrI6f+B0CWGnB+XZMJQCDa4Vz0PgxA58Drq1aCAkD8WuAlWuUHQCDrDF9onQlA7d7mkiHJCUAtqL0WOTsKQA13TDMoGANAoSJT/9tEDkDUZ3uaARULQAyKylOtoAhAQo20ThihB0Ab7LEhkRYFQM77zVrGAwZAtQBrbXx1CEAXuVYZILsMQHh4nompfQZAIKTGwqMcBkB4gZctDm4EQBitzO7zUgZAnzbMcpyOBECmW3bIJTgJQHsfnfiuXApAx60CXU/fDkDtDNYJB+MMQGjEy50SQgVAMgLFhjoaA0C5TTQaZGsIQP/6tu678ghAz+eL9RwFDEC/PIblgD8HQE4WyFsMmgdA25zFcbIqCUArU40bJOsKQKcAxeeTpgpA8sO6JvAtB0AClfmVrRgJQO2zpXH8mRBAXlXGbvStBUAtGY2FQQIGQPrGQtY9LAdA",
          "dtype": "f8"
         },
         "xaxis": "x9",
         "y": {
          "bdata": "uqaW148NEsDWXpQTyYARwPNGJQO6XBPA8AK0W4BEFMA0nxZKF9MUwMet4WeExhPALkJ2Wa6fFMAgrO3MEy0YwOw2r1IbEBXACchjsNaZDMBLhQ1gWGAOwEkH6+NpdhPAKW5w6oltEsAuR86aBYcSwGOUC0Q0QxPAx6VDXvv5EMAwjBU8d9gNwP8TAG8UQxfAsl/vZQj1EMDq3GGpxh0TwKHKblqahxHALYypuyiuFsCCSSkNDqkRwH2kJeiFGRLABRpOSLocE8B41EQpTqAQwEsLgZL0dxXAHOR38PV8FcAlpEyZITcQwLGN7BXMaBDAw/yK88wCFMBoBf/oiX4RwF3TtezXlhDA0dT1w5odE8DdYaDl+KsQwIp4zXPlnRXAs+60KvnFE8DSsNFG6Y4VwNNYPRhAlhPAEyi2GQ9GE8AvLHw3BfcSwOfJML59TRPA",
          "dtype": "f8"
         },
         "yaxis": "y9"
        },
        {
         "marker": {
          "line": {
           "color": "white",
           "width": 1
          },
          "opacity": 0.7,
          "size": 8
         },
         "mode": "markers",
         "name": "Cluster 7",
         "type": "scatter",
         "x": {
          "bdata": "oSAYv/QA9L+Ky/dRfv3cv79cc1oB3u2/MX3xkjg967/CniVZtrv0v+DtkV1XrvC/90UTtsqd8L+Uoi2G7k/0vyjjiONwfvO/XDHkO1Ht87+ZGNSJbO3vv5Prt/lXh+W/L4DhvSCj8r+3+wm9goXzvw9ZZAjLJPi/tubs7WV7+b+bFz2U2An1v2v1Y+5/d/C/JwPSY284578DEdtBf+rxv7GmsCkmf+2/cNuEg9Ni5r+mW4tx9wL3v/gmjLmNPPK/1wAhsb6V9r+uj4FF+77zv98HzUkkafi/OyqJ24dc7L80MMIs7NvrvwwHI07jq/K/lQPlR0LFy79nle3ygCHpv46QQz4Q5/e/fnC2MnCD7b8ZD18YBnf3v7g2wtVqJvC/",
          "dtype": "f8"
         },
         "xaxis": "x9",
         "y": {
          "bdata": "RTYuIQMOGsATyHXcyI4YwJ9kGNx6dRnACd3A3DfdGMDxKkoMblYcwNxQpzBv7RzAzDavbe/bFcCIx6nqbtEXwNGPtowbthrAaulayWkGHMBAKwGtIwUbwASXGYTd8BXA9hkOP7QEGsCfyneP1p0fwNgNqp6UVhvABZKOa5OLHcCrHxcQKXccwCshlmy2zBzAAOy749tJF8BQJe5dy2sawF3Mi87/+BnAeAGGvSzEGcC7fUSs/IocwFsNE1f0tBvAaLPIVSsMHcAecpvbGl0ZwONsxmQaVBzAAilXHOjFHMABI/6ozE8ZwBf/U/0EIxzADSIGudMuGsCKCv/A0RcewAWKDvhJUBrAQtMDWdkfHMCY29GTubIdwJirH99ZjhvA",
          "dtype": "f8"
         },
         "yaxis": "y9"
        },
        {
         "marker": {
          "line": {
           "color": "white",
           "width": 1
          },
          "opacity": 0.7,
          "size": 8
         },
         "mode": "markers",
         "name": "Cluster 8",
         "type": "scatter",
         "x": {
          "bdata": "VBP5TfgQGkCNdHXrsBUXQKGTzxUVNhxA1KDWgz/VGkD7BEJyYxobQH6bigdtIhlA9HtSRolKGkDBVWN7vDIaQD505dtkWRtAAkRfO9n8GkDeB1KN2PYZQD/ebd0N5xpA4gjgYtoyGkCG6eroLjIaQNpo8RV6UxtAr5U/9hSqGkBr1PkIzE4ZQMw9pmjC9RpA67qwwLaMGkA6vzfDcJMWQPe562uMJRtAICxX76+sG0DTuACOLi0bQJRRYMsDKRtAqAfEKylbG0AzztwE0xYcQFE+yXBG+BlAG8YOSRRBG0D3QiPE/pIcQKjhciuG5BtA",
          "dtype": "f8"
         },
         "xaxis": "x9",
         "y": {
          "bdata": "OhvteIkdI0CVwJ3HbPwiQEwQup1nqCNAzuUsfzXyIUDjwomRGdsjQG196JI4oiJAT9SzVY+2I0Cw93T40K0iQD7yFXUi4SNAfCWsP2lMJED+e99ABrUiQEUevlYaGyNAgBWfrFFCJEB51TZwomYiQJueANT92SJAlRoPjAV0JECsBGsxWfEiQEmXYvZedyNAvsKahKCWI0B8p8miG5kjQDV9Z5L1lyFAqCbEXIupI0BPHZssU78jQNvAHyh0iyJAomsaRyH2IkBAfFEdeZ8jQDrtxJUrOyJAGYibE7NrIkAP71GILWYjQES2JHolpiNA",
          "dtype": "f8"
         },
         "yaxis": "y9"
        },
        {
         "marker": {
          "line": {
           "color": "white",
           "width": 1
          },
          "opacity": 0.7,
          "size": 8
         },
         "mode": "markers",
         "name": "Cluster 9",
         "type": "scatter",
         "x": [],
         "xaxis": "x9",
         "y": [],
         "yaxis": "y9"
        },
        {
         "marker": {
          "line": {
           "color": "white",
           "width": 1
          },
          "opacity": 0.7,
          "size": 12
         },
         "mode": "markers",
         "name": "Centers",
         "type": "scatter",
         "x": {
          "bdata": "CUc2LTZ//b+BUs/2ofQdQFKy9kwmnwFAgr267JeVAMDx3ST3qHfwv51gWbI2lR1AHk+ozLuECEDzVNo5hmTxv8lfXD9LmxpA",
          "dtype": "f8"
         },
         "xaxis": "x9",
         "y": {
          "bdata": "qFW32FDQ/D8dQZKW5YYiQJ/qBE+pYhDA6F6yuZEcGsBKExD/CDn0P252iMydrCRAg4jDMozvEsCKAHSgrvEawF2Gwb3yMiNA",
          "dtype": "f8"
         },
         "yaxis": "y9"
        },
        {
         "marker": {
          "line": {
           "color": "white",
           "width": 1
          },
          "opacity": 0.7,
          "size": 8
         },
         "mode": "markers",
         "name": "Cluster 0",
         "type": "scatter",
         "x": {
          "bdata": "be9IunzK97/vrVZD5r77v5t8pr6BBgTAmkqJ2bRX87+OtH19VGQAwAeCWSRK5gnABmf1BtPD+b+EL0cA6NjzvxGa49vNKQPAef21nVJH/7+Efy1bzRcGwI2UxUOYmvu/U70BTUzHAMCgiZ2r7f/8v4SSu5ZdMQHAYW1oxdOw9b/qOOOnk3rwvyccsWX7OwPAmt/4UXqD+r805VeaYtgBwLG5iJ3v3fO/MUtqDA8dBcAwCnrww1sEwH6sdSjrkPm/du7ksN9X/787GbElLDkAwJsFZEe3ugPAlC4evN82A8AhMFjlP1b4v/uoYyURDPq/aPjRZt7R8r+huIpDnFH4vyp34x43rvm/TWx6oEfTAMB+BChzPWz9v5NQXQxJ3/C/BxekK+vY+b+jC9DrLZnwv9DEZcMW9fy/MAtugtFg87+0X1fWjwsCwGmjAsny1f6/mMLiqHM48r/D+0Bo2jYBwA==",
          "dtype": "f8"
         },
         "xaxis": "x10",
         "y": {
          "bdata": "h7X+7P8SA0A2IzgbvAUAQBYBkZdqK/w/96/TCPRdAkDVAvvrg870P8qcsnwdkvk/TDZLyXExBkBvRqEkExj/PxIqS1hYctU/w4xURK43AUBwGw3FgXcDQL0iMZs1evY/jmLksyKA+D/ZPM4C5TfvP9JLNuF9vv0/e/DKv6DYAUCDt/Iv4bYCQBZkLFX+r/s/Y9W5DfH09j8BXmKL57YCQIIzdFxgRwdAKSCfjgNm+j+dbIOF87cIQNUin5Z3HgBAWAVrPaik8j8XHE/Hqjj5PySe4oxNkfU/0pfGOUIc/T+zS5P2180BQA6TvBSWJvo/wJN5buwzAkAvK8hq8T76P7JtcrJXafg/gTCYfRXS9j/UrafZjqXzP0mcqGEjOAZAhC/3e5jn+D9rOk6TPUcDQI0jSxQgEe8/lnLxHFQMAEBNc9gTzkf0P41sAAn0J/I/jtd3L2GFAUBItSLcwD7iPw==",
          "dtype": "f8"
         },
         "yaxis": "y10"
        },
        {
         "marker": {
          "line": {
           "color": "white",
           "width": 1
          },
          "opacity": 0.7,
          "size": 8
         },
         "mode": "markers",
         "name": "Cluster 1",
         "type": "scatter",
         "x": {
          "bdata": "47bpO0q3HED11SY7Vb8dQMNbH4mW9x1A808iiBLdHEB2V6qyO7QfQGl909453x5A4B+h80HeHEBRgHoBqSgdQOt8zlKj/BxAP29u4TzEIED1yabnEisfQEeTAbHvtRxAJmD7E6ibH0BdRlwUmEYcQENqZ01qVxtAX7VajqM2HkBS7/cjgF4dQLRRHxuOAx5AHFl5KPAEIEA=",
          "dtype": "f8"
         },
         "xaxis": "x10",
         "y": {
          "bdata": "s9sLA2FdI0Czzp55S1QjQNndixmVnCFApNYU16gtI0AYrdX3EschQGR/W+9kDiFA5hMT8vTfIkB9eNzTCREiQId0HuEgDSJA/HugFaYVI0CSFCOZSSUjQOI6QDu9qyJAEFYdf5RWI0D890EOm0MiQBFRCbqmmSFAUNecoj1CIUD5Xi6sQCEjQKgFowVTvSJAWqJ1qzN4I0A=",
          "dtype": "f8"
         },
         "yaxis": "y10"
        },
        {
         "marker": {
          "line": {
           "color": "white",
           "width": 1
          },
          "opacity": 0.7,
          "size": 8
         },
         "mode": "markers",
         "name": "Cluster 2",
         "type": "scatter",
         "x": {
          "bdata": "8dj4sL1+A0DGUJgAlyMBQDxHboOO2P4/8rCTLE+y+T8oy5ajfbD+P6P325pzOgBAbf8c/gU4/z9ecre7K3ABQH0MSH3I2ANACy233XlIAkB8eTsK7Ob/PyAn8+P93/g/pJDB5n1jAUBI8gBv3Q8BQCzi4Y4PJfI/ne7dOP+FAEDROKFJ3X4EQEpu8s8UQABAMyRA2pZtAkDGeYd5LZcDQMdMpcJYA/s/vv+tlj/YA0BTSk8DpwACQLp+Oua7HQNAww3WOIG3/T8=",
          "dtype": "f8"
         },
         "xaxis": "x10",
         "y": {
          "bdata": "Cty0CwICEsBsst2lNI0QwMP07b5FcxDAYmeeZeBEEcBe+TIwBpESwK1Ils+AABPAPw7lHQ5hEsCbAJTECbgIwN4wwmW+kg/AJERGx8vMEcB1Zqne7PkRwE5vyCwoLw/Ax8MZVcq8DMAumGFFc98PwLSqzQmQRgrAnWuiNE98DsA7PYtOtisQwJ62DR/DHhDAi0YNLuwFD8D8ZBXoUZANwNnd1Jvw7RLAIQcCXhTYD8BiQ63JlGkQwCl+FecT/gvAal6x2e9GDsA=",
          "dtype": "f8"
         },
         "yaxis": "y10"
        },
        {
         "marker": {
          "line": {
           "color": "white",
           "width": 1
          },
          "opacity": 0.7,
          "size": 8
         },
         "mode": "markers",
         "name": "Cluster 3",
         "type": "scatter",
         "x": {
          "bdata": "KEeQ45aR/L/iMZY3Zir9v8GDi6/ecfq/M28RrCQVBsC5gRsE5ST7v/8YLml6AAbAW4JXExesAMCWjs0LJ1ICwA5SCWs0Pfu/OAXiSI7rAsC+FsV5sSX5v8HvoXpkM/+/QuvQ85Zx+L9vtp6xiiwFwHL10fyAgQDAR7AZIRQ8/b88dCVFLuX9v43Nw1/Ao/q/qyqvluVeA8CLX+ESXs39v6y543i1hgLAQJNJDifRAsDn9jUlQA/9vyQlhYA+P/+/f6La3oBk+b+6xD7ubP/9v2cnWWaubgHAgQF1D5rz/L9g5wPwIDn/v6rpM0OZTv+/GZ5XXnUXDsBWqMN2TPYCwIX4JPhoeP6/7hOIPB3UA8Ct6SiSW9P7v/WxKQ1kdgDAbhwVgh3EBcChkEbrD136v51en6wQeQDA",
          "dtype": "f8"
         },
         "xaxis": "x10",
         "y": {
          "bdata": "8okeHe+2FcBQ6+I7CLkbwPdVK52dGBjALK0YgQDeGsBjO5A9k0kbwMmz7IlJUxrA14VAQhuaGsB8iobLCocawL4Dt8/eyhfA4PcAZZ5kG8DyNyDI71MXwFqMGaGW8x3AgTpNefB4FsAuTRDirUgWwJdygx5rfhbAXhwiEyr2GcCczkTzSacZwDSZoX2q8BnAKvdINSJ5GMDTjgbYvWAZwOrisx7g6BvA3t0M8KB4HsAZpttdkEQbwERZyJvtrhjAAZ6b0tuRGcAPSN8kE78YwH5Mk+uTmBnAmTIb1Xq7GsB2d3qB0nQbwJs34UPFpBvAXPgI0UnQG8DrEpkyBFkcwB4PpHqNmxnAtWr6Hg/2GMAQtuIx7lYcwEKJ5Hn7/RrAj4UvZmBLHsCFnBDOTXwZwGB+RlF4KxrA",
          "dtype": "f8"
         },
         "yaxis": "y10"
        },
        {
         "marker": {
          "line": {
           "color": "white",
           "width": 1
          },
          "opacity": 0.7,
          "size": 8
         },
         "mode": "markers",
         "name": "Cluster 4",
         "type": "scatter",
         "x": {
          "bdata": "i5fTtHtG+L/PdOiRE0T4v3TUx5CK5+K/uLMPaDfN9b+9NrxttQf2vytb8ly2p/m/lgoLOaMu7b9mPGt8ix/nv+wAkovcV+O/4+vIZn1U/b8KgYTkue3cv5jQ1CtAOvu/pL7nxPpk67/OkKbO7MDzv/cv8c8u0PG/dXwLOnoi6b+y4OYZw3f6v4WjZ13x1fO/YtCzwEaD87+Cp+7NCEy0P6flg6nmHfC/KCo3WlP+9L9AvyVDvAntv0LFx0SkAfG/C41Z/KU45b+PeXoOJyXyv0ZoXuNZBOK/83VygVoO7L+eH487l8nkv8+9u1MD/Oi/SBCsirtn578=",
          "dtype": "f8"
         },
         "xaxis": "x10",
         "y": {
          "bdata": "QsgWHtBP8D8tYDGyYTfqP8rh02o+tvM/8QBZ0Ezp9D8PyYAchh/0P36jb0RUmPA/Ao1iM/7mAEBgWH1V69gAQMfSyho2/vY/e2j3YZ0Z5D/03Go9w5QCQMMMvbplweM/6GETsEva8j9YGm5h/PnOP0mBoHifM/M/wTT0utjw7D8OKx6orVbqP2Rj3s8kJvI/AVn9Yu0h8j+tOD4/kAH6P0CqVlYc2QBAjNVTNvU28T9aIPb/aO35PwP+y2RX8/8/DiJHXrCD/z9P7omZe5T1P0e1mSGlwPQ/HHu09qsN+T/tr3uxpEjnP6Pc72KRbPs/oDOoSAEv2L8=",
          "dtype": "f8"
         },
         "yaxis": "y10"
        },
        {
         "marker": {
          "line": {
           "color": "white",
           "width": 1
          },
          "opacity": 0.7,
          "size": 8
         },
         "mode": "markers",
         "name": "Cluster 5",
         "type": "scatter",
         "x": {
          "bdata": "UtW1bp0eGkBsBAZsatQfQOZ4hUXNjxtA1VLjnZT9HkA0dIKKcMseQMAUESIIXxtAqMlk2estHUCOXdKbVbYcQOQnIMQXqBxA3zFPQch1HUDYoMKKIdgfQIZ3vPMA5xxASGbTfwfMHUAb7HsHqWUgQCZZykT+3RxA6rpj3cmaHkDNWu28Z2caQBxHZYoSHR5AneyEvko2H0CY6vuN3BgeQIx5E5JokR5ARBX/c+S0HUAy6wqyZ1IcQFZV9VRsvh1Ah4IIFGG1HECD6k1TIsseQA==",
          "dtype": "f8"
         },
         "xaxis": "x10",
         "y": {
          "bdata": "irD5vETFJUBC7XztVe0jQIaVUW9daiVAbq9R/VwUJUBlAxSQHD0lQCXXm41iCyVAgRyqW153JUBB+ntJYbAjQMDbhMtGMSRA29h2MNs5JEAwykMEuAslQNgx8ko6jyRAwGXgiwqbJUBH9kRhPVUkQKGJPYCS5iNAb4kqHC4JJEC3QJXeWegkQLtJ3PgiLCRA79RH19ELJUADi6VNzgAkQCVxnRDN+iNAe5U1CrumI0B+KjYDGi8mQPOCim1luyRA6HAf5sX3I0D9Axupa1slQA==",
          "dtype": "f8"
         },
         "yaxis": "y10"
        },
        {
         "marker": {
          "line": {
           "color": "white",
           "width": 1
          },
          "opacity": 0.7,
          "size": 8
         },
         "mode": "markers",
         "name": "Cluster 6",
         "type": "scatter",
         "x": {
          "bdata": "WZj6NlOLBkDs1Gsjp/4HQJYacH5dkwlAINrhXPQ+DEChIlP/20QOQNRne5oBFQtA9POcVfRCBkDa+m402oAIQEKNtE4YoQdAtQBrbXx1CEAXuVYZILsMQGBucwqGmgdAIKTGwqMcBkAYrczu81IGQKZbdsglOAlAex+d+K5cCkDHrQJdT98OQO0M1gkH4wxAuU00GmRrCED/+rbuu/IIQBGNdb1L1wZAvzyG5YA/B0BOFshbDJoHQCtTjRsk6wpA7bOlcfyZEEA=",
          "dtype": "f8"
         },
         "xaxis": "x10",
         "y": {
          "bdata": "TE0e7PkXDcC6ppbXjw0SwNZelBPJgBHA80YlA7pcE8AJyGOw1pkMwEuFDWBYYA7AzaV8VGkjEMBs7UHYp8ELwClucOqJbRLAx6VDXvv5EMAwjBU8d9gNwFpywQT7+AzAsl/vZQj1EMChym5amocRwIJJKQ0OqRHAfaQl6IUZEsAFGk5IuhwTwHjURClOoBDAJaRMmSE3EMCxjewVzGgQwC26h8AS6AzAaAX/6Il+EcBd07Xs15YQwN1hoOX4qxDA01g9GECWE8A=",
          "dtype": "f8"
         },
         "yaxis": "y10"
        },
        {
         "marker": {
          "line": {
           "color": "white",
           "width": 1
          },
          "opacity": 0.7,
          "size": 8
         },
         "mode": "markers",
         "name": "Cluster 7",
         "type": "scatter",
         "x": {
          "bdata": "oSAYv/QA9L+Ky/dRfv3cv79cc1oB3u2/MX3xkjg967/CniVZtrv0v+DtkV1XrvC/90UTtsqd8L+Uoi2G7k/0vyjjiONwfvO/XDHkO1Ht87+ZGNSJbO3vv5Prt/lXh+W/L4DhvSCj8r+3+wm9goXzvw9ZZAjLJPi/tubs7WV7+b+bFz2U2An1v2v1Y+5/d/C/JwPSY284578DEdtBf+rxv7GmsCkmf+2/cNuEg9Ni5r+mW4tx9wL3v/gmjLmNPPK/1wAhsb6V9r+uj4FF+77zv98HzUkkafi/OyqJ24dc7L80MMIs7NvrvwwHI07jq/K/lQPlR0LFy79nle3ygCHpv46QQz4Q5/e/fnC2MnCD7b8ZD18YBnf3v7g2wtVqJvC/",
          "dtype": "f8"
         },
         "xaxis": "x10",
         "y": {
          "bdata": "RTYuIQMOGsATyHXcyI4YwJ9kGNx6dRnACd3A3DfdGMDxKkoMblYcwNxQpzBv7RzAzDavbe/bFcCIx6nqbtEXwNGPtowbthrAaulayWkGHMBAKwGtIwUbwASXGYTd8BXA9hkOP7QEGsCfyneP1p0fwNgNqp6UVhvABZKOa5OLHcCrHxcQKXccwCshlmy2zBzAAOy749tJF8BQJe5dy2sawF3Mi87/+BnAeAGGvSzEGcC7fUSs/IocwFsNE1f0tBvAaLPIVSsMHcAecpvbGl0ZwONsxmQaVBzAAilXHOjFHMABI/6ozE8ZwBf/U/0EIxzADSIGudMuGsCKCv/A0RcewAWKDvhJUBrAQtMDWdkfHMCY29GTubIdwJirH99ZjhvA",
          "dtype": "f8"
         },
         "yaxis": "y10"
        },
        {
         "marker": {
          "line": {
           "color": "white",
           "width": 1
          },
          "opacity": 0.7,
          "size": 8
         },
         "mode": "markers",
         "name": "Cluster 8",
         "type": "scatter",
         "x": {
          "bdata": "VBP5TfgQGkCNdHXrsBUXQKGTzxUVNhxA1KDWgz/VGkD7BEJyYxobQH6bigdtIhlA9HtSRolKGkDBVWN7vDIaQD505dtkWRtAAkRfO9n8GkDeB1KN2PYZQD/ebd0N5xpA4gjgYtoyGkCG6eroLjIaQNpo8RV6UxtAr5U/9hSqGkBr1PkIzE4ZQMw9pmjC9RpA67qwwLaMGkA6vzfDcJMWQPe562uMJRtAICxX76+sG0DTuACOLi0bQJRRYMsDKRtAqAfEKylbG0AzztwE0xYcQFE+yXBG+BlAG8YOSRRBG0D3QiPE/pIcQKjhciuG5BtA",
          "dtype": "f8"
         },
         "xaxis": "x10",
         "y": {
          "bdata": "OhvteIkdI0CVwJ3HbPwiQEwQup1nqCNAzuUsfzXyIUDjwomRGdsjQG196JI4oiJAT9SzVY+2I0Cw93T40K0iQD7yFXUi4SNAfCWsP2lMJED+e99ABrUiQEUevlYaGyNAgBWfrFFCJEB51TZwomYiQJueANT92SJAlRoPjAV0JECsBGsxWfEiQEmXYvZedyNAvsKahKCWI0B8p8miG5kjQDV9Z5L1lyFAqCbEXIupI0BPHZssU78jQNvAHyh0iyJAomsaRyH2IkBAfFEdeZ8jQDrtxJUrOyJAGYibE7NrIkAP71GILWYjQES2JHolpiNA",
          "dtype": "f8"
         },
         "yaxis": "y10"
        },
        {
         "marker": {
          "line": {
           "color": "white",
           "width": 1
          },
          "opacity": 0.7,
          "size": 8
         },
         "mode": "markers",
         "name": "Cluster 9",
         "type": "scatter",
         "x": {
          "bdata": "FMQzeg/DAkDnwOurVoICQPxa4CVa5QdAIOsMX2idCUDt3uaSIckJQC2ovRY5OwpADXdMMygYA0AMispTraAIQBvssSGRFgVAzvvNWsYDBkCPDBBbstYCQHh4nompfQZAFxlDkmz09z94gZctDm4EQJ82zHKcjgRAaMTLnRJCBUAyAsWGOhoDQM/ni/UcBQxA25zFcbIqCUCnAMXnk6YKQPLDuibwLQdAApX5la0YCUBeVcZu9K0FQC0ZjYVBAgZA+sZC1j0sB0A=",
          "dtype": "f8"
         },
         "xaxis": "x10",
         "y": {
          "bdata": "0sVOjlMmE8DwArRbgEQUwDSfFkoX0xTAx63hZ4TGE8AuQnZZrp8UwCCs7cwTLRjA7DavUhsQFcBJB+vjaXYTwC5HzpoFhxLAY5QLRDRDE8CUj2FBZf4SwP8TAG8UQxfA9MNNJ36pF8Dq3GGpxh0TwC2MqbsorhbASwuBkvR3FcAc5Hfw9XwVwMP8ivPMAhTA0dT1w5odE8CKeM1z5Z0VwLPutCr5xRPA0rDRRumOFcATKLYZD0YTwC8sfDcF9xLA58kwvn1NE8A=",
          "dtype": "f8"
         },
         "yaxis": "y10"
        },
        {
         "marker": {
          "line": {
           "color": "white",
           "width": 1
          },
          "opacity": 0.7,
          "size": 8
         },
         "mode": "markers",
         "name": "Cluster 10",
         "type": "scatter",
         "x": [],
         "xaxis": "x10",
         "y": [],
         "yaxis": "y10"
        },
        {
         "marker": {
          "line": {
           "color": "white",
           "width": 1
          },
          "opacity": 0.7,
          "size": 12
         },
         "mode": "markers",
         "name": "Centers",
         "type": "scatter",
         "x": {
          "bdata": "CUc2LTZ//b+BUs/2ofQdQIxnnn24pQBAgr267JeVAMDx3ST3qHfwv51gWbI2lR1AtHo4NB+YCUDzVNo5hmTxv8lfXD9LmxpAknmykMk1BkA=",
          "dtype": "f8"
         },
         "xaxis": "x10",
         "y": {
          "bdata": "qFW32FDQ/D8dQZKW5YYiQDHfxexkNxDA6F6yuZEcGsBKExD/CDn0P252iMydrCRAY1ElpQSwEMCKAHSgrvEawF2Gwb3yMiNAJDLKsGuJFMA=",
          "dtype": "f8"
         },
         "yaxis": "y10"
        }
       ],
       "layout": {
        "height": 2000,
        "shapes": [
         {
          "line": {
           "color": "Black",
           "dash": "dash",
           "width": 1
          },
          "type": "line",
          "x0": 0,
          "x1": 0,
          "xref": "x",
          "y0": -10,
          "y1": 10,
          "yref": "y"
         },
         {
          "line": {
           "color": "Black",
           "dash": "dash",
           "width": 1
          },
          "type": "line",
          "x0": -10,
          "x1": 10,
          "xref": "x",
          "y0": 0,
          "y1": 0,
          "yref": "y"
         },
         {
          "line": {
           "color": "Black",
           "dash": "dash",
           "width": 1
          },
          "type": "line",
          "x0": 0,
          "x1": 0,
          "xref": "x2",
          "y0": -10,
          "y1": 10,
          "yref": "y2"
         },
         {
          "line": {
           "color": "Black",
           "dash": "dash",
           "width": 1
          },
          "type": "line",
          "x0": -10,
          "x1": 10,
          "xref": "x2",
          "y0": 0,
          "y1": 0,
          "yref": "y2"
         },
         {
          "line": {
           "color": "Black",
           "dash": "dash",
           "width": 1
          },
          "type": "line",
          "x0": 0,
          "x1": 0,
          "xref": "x3",
          "y0": -10,
          "y1": 10,
          "yref": "y3"
         },
         {
          "line": {
           "color": "Black",
           "dash": "dash",
           "width": 1
          },
          "type": "line",
          "x0": -10,
          "x1": 10,
          "xref": "x3",
          "y0": 0,
          "y1": 0,
          "yref": "y3"
         },
         {
          "line": {
           "color": "Black",
           "dash": "dash",
           "width": 1
          },
          "type": "line",
          "x0": 0,
          "x1": 0,
          "xref": "x4",
          "y0": -10,
          "y1": 10,
          "yref": "y4"
         },
         {
          "line": {
           "color": "Black",
           "dash": "dash",
           "width": 1
          },
          "type": "line",
          "x0": -10,
          "x1": 10,
          "xref": "x4",
          "y0": 0,
          "y1": 0,
          "yref": "y4"
         },
         {
          "line": {
           "color": "Black",
           "dash": "dash",
           "width": 1
          },
          "type": "line",
          "x0": 0,
          "x1": 0,
          "xref": "x5",
          "y0": -10,
          "y1": 10,
          "yref": "y5"
         },
         {
          "line": {
           "color": "Black",
           "dash": "dash",
           "width": 1
          },
          "type": "line",
          "x0": -10,
          "x1": 10,
          "xref": "x5",
          "y0": 0,
          "y1": 0,
          "yref": "y5"
         },
         {
          "line": {
           "color": "Black",
           "dash": "dash",
           "width": 1
          },
          "type": "line",
          "x0": 0,
          "x1": 0,
          "xref": "x6",
          "y0": -10,
          "y1": 10,
          "yref": "y6"
         },
         {
          "line": {
           "color": "Black",
           "dash": "dash",
           "width": 1
          },
          "type": "line",
          "x0": -10,
          "x1": 10,
          "xref": "x6",
          "y0": 0,
          "y1": 0,
          "yref": "y6"
         },
         {
          "line": {
           "color": "Black",
           "dash": "dash",
           "width": 1
          },
          "type": "line",
          "x0": 0,
          "x1": 0,
          "xref": "x7",
          "y0": -10,
          "y1": 10,
          "yref": "y7"
         },
         {
          "line": {
           "color": "Black",
           "dash": "dash",
           "width": 1
          },
          "type": "line",
          "x0": -10,
          "x1": 10,
          "xref": "x7",
          "y0": 0,
          "y1": 0,
          "yref": "y7"
         },
         {
          "line": {
           "color": "Black",
           "dash": "dash",
           "width": 1
          },
          "type": "line",
          "x0": 0,
          "x1": 0,
          "xref": "x8",
          "y0": -10,
          "y1": 10,
          "yref": "y8"
         },
         {
          "line": {
           "color": "Black",
           "dash": "dash",
           "width": 1
          },
          "type": "line",
          "x0": -10,
          "x1": 10,
          "xref": "x8",
          "y0": 0,
          "y1": 0,
          "yref": "y8"
         },
         {
          "line": {
           "color": "Black",
           "dash": "dash",
           "width": 1
          },
          "type": "line",
          "x0": 0,
          "x1": 0,
          "xref": "x9",
          "y0": -10,
          "y1": 10,
          "yref": "y9"
         },
         {
          "line": {
           "color": "Black",
           "dash": "dash",
           "width": 1
          },
          "type": "line",
          "x0": -10,
          "x1": 10,
          "xref": "x9",
          "y0": 0,
          "y1": 0,
          "yref": "y9"
         },
         {
          "line": {
           "color": "Black",
           "dash": "dash",
           "width": 1
          },
          "type": "line",
          "x0": 0,
          "x1": 0,
          "xref": "x10",
          "y0": -10,
          "y1": 10,
          "yref": "y10"
         },
         {
          "line": {
           "color": "Black",
           "dash": "dash",
           "width": 1
          },
          "type": "line",
          "x0": -10,
          "x1": 10,
          "xref": "x10",
          "y0": 0,
          "y1": 0,
          "yref": "y10"
         }
        ],
        "showlegend": false,
        "template": {
         "data": {
          "bar": [
           {
            "error_x": {
             "color": "#2a3f5f"
            },
            "error_y": {
             "color": "#2a3f5f"
            },
            "marker": {
             "line": {
              "color": "#E5ECF6",
              "width": 0.5
             },
             "pattern": {
              "fillmode": "overlay",
              "size": 10,
              "solidity": 0.2
             }
            },
            "type": "bar"
           }
          ],
          "barpolar": [
           {
            "marker": {
             "line": {
              "color": "#E5ECF6",
              "width": 0.5
             },
             "pattern": {
              "fillmode": "overlay",
              "size": 10,
              "solidity": 0.2
             }
            },
            "type": "barpolar"
           }
          ],
          "carpet": [
           {
            "aaxis": {
             "endlinecolor": "#2a3f5f",
             "gridcolor": "white",
             "linecolor": "white",
             "minorgridcolor": "white",
             "startlinecolor": "#2a3f5f"
            },
            "baxis": {
             "endlinecolor": "#2a3f5f",
             "gridcolor": "white",
             "linecolor": "white",
             "minorgridcolor": "white",
             "startlinecolor": "#2a3f5f"
            },
            "type": "carpet"
           }
          ],
          "choropleth": [
           {
            "colorbar": {
             "outlinewidth": 0,
             "ticks": ""
            },
            "type": "choropleth"
           }
          ],
          "contour": [
           {
            "colorbar": {
             "outlinewidth": 0,
             "ticks": ""
            },
            "colorscale": [
             [
              0,
              "#0d0887"
             ],
             [
              0.1111111111111111,
              "#46039f"
             ],
             [
              0.2222222222222222,
              "#7201a8"
             ],
             [
              0.3333333333333333,
              "#9c179e"
             ],
             [
              0.4444444444444444,
              "#bd3786"
             ],
             [
              0.5555555555555556,
              "#d8576b"
             ],
             [
              0.6666666666666666,
              "#ed7953"
             ],
             [
              0.7777777777777778,
              "#fb9f3a"
             ],
             [
              0.8888888888888888,
              "#fdca26"
             ],
             [
              1,
              "#f0f921"
             ]
            ],
            "type": "contour"
           }
          ],
          "contourcarpet": [
           {
            "colorbar": {
             "outlinewidth": 0,
             "ticks": ""
            },
            "type": "contourcarpet"
           }
          ],
          "heatmap": [
           {
            "colorbar": {
             "outlinewidth": 0,
             "ticks": ""
            },
            "colorscale": [
             [
              0,
              "#0d0887"
             ],
             [
              0.1111111111111111,
              "#46039f"
             ],
             [
              0.2222222222222222,
              "#7201a8"
             ],
             [
              0.3333333333333333,
              "#9c179e"
             ],
             [
              0.4444444444444444,
              "#bd3786"
             ],
             [
              0.5555555555555556,
              "#d8576b"
             ],
             [
              0.6666666666666666,
              "#ed7953"
             ],
             [
              0.7777777777777778,
              "#fb9f3a"
             ],
             [
              0.8888888888888888,
              "#fdca26"
             ],
             [
              1,
              "#f0f921"
             ]
            ],
            "type": "heatmap"
           }
          ],
          "histogram": [
           {
            "marker": {
             "pattern": {
              "fillmode": "overlay",
              "size": 10,
              "solidity": 0.2
             }
            },
            "type": "histogram"
           }
          ],
          "histogram2d": [
           {
            "colorbar": {
             "outlinewidth": 0,
             "ticks": ""
            },
            "colorscale": [
             [
              0,
              "#0d0887"
             ],
             [
              0.1111111111111111,
              "#46039f"
             ],
             [
              0.2222222222222222,
              "#7201a8"
             ],
             [
              0.3333333333333333,
              "#9c179e"
             ],
             [
              0.4444444444444444,
              "#bd3786"
             ],
             [
              0.5555555555555556,
              "#d8576b"
             ],
             [
              0.6666666666666666,
              "#ed7953"
             ],
             [
              0.7777777777777778,
              "#fb9f3a"
             ],
             [
              0.8888888888888888,
              "#fdca26"
             ],
             [
              1,
              "#f0f921"
             ]
            ],
            "type": "histogram2d"
           }
          ],
          "histogram2dcontour": [
           {
            "colorbar": {
             "outlinewidth": 0,
             "ticks": ""
            },
            "colorscale": [
             [
              0,
              "#0d0887"
             ],
             [
              0.1111111111111111,
              "#46039f"
             ],
             [
              0.2222222222222222,
              "#7201a8"
             ],
             [
              0.3333333333333333,
              "#9c179e"
             ],
             [
              0.4444444444444444,
              "#bd3786"
             ],
             [
              0.5555555555555556,
              "#d8576b"
             ],
             [
              0.6666666666666666,
              "#ed7953"
             ],
             [
              0.7777777777777778,
              "#fb9f3a"
             ],
             [
              0.8888888888888888,
              "#fdca26"
             ],
             [
              1,
              "#f0f921"
             ]
            ],
            "type": "histogram2dcontour"
           }
          ],
          "mesh3d": [
           {
            "colorbar": {
             "outlinewidth": 0,
             "ticks": ""
            },
            "type": "mesh3d"
           }
          ],
          "parcoords": [
           {
            "line": {
             "colorbar": {
              "outlinewidth": 0,
              "ticks": ""
             }
            },
            "type": "parcoords"
           }
          ],
          "pie": [
           {
            "automargin": true,
            "type": "pie"
           }
          ],
          "scatter": [
           {
            "fillpattern": {
             "fillmode": "overlay",
             "size": 10,
             "solidity": 0.2
            },
            "type": "scatter"
           }
          ],
          "scatter3d": [
           {
            "line": {
             "colorbar": {
              "outlinewidth": 0,
              "ticks": ""
             }
            },
            "marker": {
             "colorbar": {
              "outlinewidth": 0,
              "ticks": ""
             }
            },
            "type": "scatter3d"
           }
          ],
          "scattercarpet": [
           {
            "marker": {
             "colorbar": {
              "outlinewidth": 0,
              "ticks": ""
             }
            },
            "type": "scattercarpet"
           }
          ],
          "scattergeo": [
           {
            "marker": {
             "colorbar": {
              "outlinewidth": 0,
              "ticks": ""
             }
            },
            "type": "scattergeo"
           }
          ],
          "scattergl": [
           {
            "marker": {
             "colorbar": {
              "outlinewidth": 0,
              "ticks": ""
             }
            },
            "type": "scattergl"
           }
          ],
          "scattermap": [
           {
            "marker": {
             "colorbar": {
              "outlinewidth": 0,
              "ticks": ""
             }
            },
            "type": "scattermap"
           }
          ],
          "scattermapbox": [
           {
            "marker": {
             "colorbar": {
              "outlinewidth": 0,
              "ticks": ""
             }
            },
            "type": "scattermapbox"
           }
          ],
          "scatterpolar": [
           {
            "marker": {
             "colorbar": {
              "outlinewidth": 0,
              "ticks": ""
             }
            },
            "type": "scatterpolar"
           }
          ],
          "scatterpolargl": [
           {
            "marker": {
             "colorbar": {
              "outlinewidth": 0,
              "ticks": ""
             }
            },
            "type": "scatterpolargl"
           }
          ],
          "scatterternary": [
           {
            "marker": {
             "colorbar": {
              "outlinewidth": 0,
              "ticks": ""
             }
            },
            "type": "scatterternary"
           }
          ],
          "surface": [
           {
            "colorbar": {
             "outlinewidth": 0,
             "ticks": ""
            },
            "colorscale": [
             [
              0,
              "#0d0887"
             ],
             [
              0.1111111111111111,
              "#46039f"
             ],
             [
              0.2222222222222222,
              "#7201a8"
             ],
             [
              0.3333333333333333,
              "#9c179e"
             ],
             [
              0.4444444444444444,
              "#bd3786"
             ],
             [
              0.5555555555555556,
              "#d8576b"
             ],
             [
              0.6666666666666666,
              "#ed7953"
             ],
             [
              0.7777777777777778,
              "#fb9f3a"
             ],
             [
              0.8888888888888888,
              "#fdca26"
             ],
             [
              1,
              "#f0f921"
             ]
            ],
            "type": "surface"
           }
          ],
          "table": [
           {
            "cells": {
             "fill": {
              "color": "#EBF0F8"
             },
             "line": {
              "color": "white"
             }
            },
            "header": {
             "fill": {
              "color": "#C8D4E3"
             },
             "line": {
              "color": "white"
             }
            },
            "type": "table"
           }
          ]
         },
         "layout": {
          "annotationdefaults": {
           "arrowcolor": "#2a3f5f",
           "arrowhead": 0,
           "arrowwidth": 1
          },
          "autotypenumbers": "strict",
          "coloraxis": {
           "colorbar": {
            "outlinewidth": 0,
            "ticks": ""
           }
          },
          "colorscale": {
           "diverging": [
            [
             0,
             "#8e0152"
            ],
            [
             0.1,
             "#c51b7d"
            ],
            [
             0.2,
             "#de77ae"
            ],
            [
             0.3,
             "#f1b6da"
            ],
            [
             0.4,
             "#fde0ef"
            ],
            [
             0.5,
             "#f7f7f7"
            ],
            [
             0.6,
             "#e6f5d0"
            ],
            [
             0.7,
             "#b8e186"
            ],
            [
             0.8,
             "#7fbc41"
            ],
            [
             0.9,
             "#4d9221"
            ],
            [
             1,
             "#276419"
            ]
           ],
           "sequential": [
            [
             0,
             "#0d0887"
            ],
            [
             0.1111111111111111,
             "#46039f"
            ],
            [
             0.2222222222222222,
             "#7201a8"
            ],
            [
             0.3333333333333333,
             "#9c179e"
            ],
            [
             0.4444444444444444,
             "#bd3786"
            ],
            [
             0.5555555555555556,
             "#d8576b"
            ],
            [
             0.6666666666666666,
             "#ed7953"
            ],
            [
             0.7777777777777778,
             "#fb9f3a"
            ],
            [
             0.8888888888888888,
             "#fdca26"
            ],
            [
             1,
             "#f0f921"
            ]
           ],
           "sequentialminus": [
            [
             0,
             "#0d0887"
            ],
            [
             0.1111111111111111,
             "#46039f"
            ],
            [
             0.2222222222222222,
             "#7201a8"
            ],
            [
             0.3333333333333333,
             "#9c179e"
            ],
            [
             0.4444444444444444,
             "#bd3786"
            ],
            [
             0.5555555555555556,
             "#d8576b"
            ],
            [
             0.6666666666666666,
             "#ed7953"
            ],
            [
             0.7777777777777778,
             "#fb9f3a"
            ],
            [
             0.8888888888888888,
             "#fdca26"
            ],
            [
             1,
             "#f0f921"
            ]
           ]
          },
          "colorway": [
           "#636efa",
           "#EF553B",
           "#00cc96",
           "#ab63fa",
           "#FFA15A",
           "#19d3f3",
           "#FF6692",
           "#B6E880",
           "#FF97FF",
           "#FECB52"
          ],
          "font": {
           "color": "#2a3f5f"
          },
          "geo": {
           "bgcolor": "white",
           "lakecolor": "white",
           "landcolor": "#E5ECF6",
           "showlakes": true,
           "showland": true,
           "subunitcolor": "white"
          },
          "hoverlabel": {
           "align": "left"
          },
          "hovermode": "closest",
          "mapbox": {
           "style": "light"
          },
          "paper_bgcolor": "white",
          "plot_bgcolor": "#E5ECF6",
          "polar": {
           "angularaxis": {
            "gridcolor": "white",
            "linecolor": "white",
            "ticks": ""
           },
           "bgcolor": "#E5ECF6",
           "radialaxis": {
            "gridcolor": "white",
            "linecolor": "white",
            "ticks": ""
           }
          },
          "scene": {
           "xaxis": {
            "backgroundcolor": "#E5ECF6",
            "gridcolor": "white",
            "gridwidth": 2,
            "linecolor": "white",
            "showbackground": true,
            "ticks": "",
            "zerolinecolor": "white"
           },
           "yaxis": {
            "backgroundcolor": "#E5ECF6",
            "gridcolor": "white",
            "gridwidth": 2,
            "linecolor": "white",
            "showbackground": true,
            "ticks": "",
            "zerolinecolor": "white"
           },
           "zaxis": {
            "backgroundcolor": "#E5ECF6",
            "gridcolor": "white",
            "gridwidth": 2,
            "linecolor": "white",
            "showbackground": true,
            "ticks": "",
            "zerolinecolor": "white"
           }
          },
          "shapedefaults": {
           "line": {
            "color": "#2a3f5f"
           }
          },
          "ternary": {
           "aaxis": {
            "gridcolor": "white",
            "linecolor": "white",
            "ticks": ""
           },
           "baxis": {
            "gridcolor": "white",
            "linecolor": "white",
            "ticks": ""
           },
           "bgcolor": "#E5ECF6",
           "caxis": {
            "gridcolor": "white",
            "linecolor": "white",
            "ticks": ""
           }
          },
          "title": {
           "x": 0.05
          },
          "xaxis": {
           "automargin": true,
           "gridcolor": "white",
           "linecolor": "white",
           "ticks": "",
           "title": {
            "standoff": 15
           },
           "zerolinecolor": "white",
           "zerolinewidth": 2
          },
          "yaxis": {
           "automargin": true,
           "gridcolor": "white",
           "linecolor": "white",
           "ticks": "",
           "title": {
            "standoff": 15
           },
           "zerolinecolor": "white",
           "zerolinewidth": 2
          }
         }
        },
        "width": 800,
        "xaxis": {
         "anchor": "y",
         "domain": [
          0,
          0.45
         ],
         "gridcolor": "LightGrey",
         "gridwidth": 1,
         "range": [
          -15,
          15
         ],
         "showgrid": true,
         "title": {
          "text": "X1"
         }
        },
        "xaxis10": {
         "anchor": "y10",
         "domain": [
          0.55,
          1
         ],
         "gridcolor": "LightGrey",
         "gridwidth": 1,
         "range": [
          -15,
          15
         ],
         "showgrid": true,
         "title": {
          "text": "X1"
         }
        },
        "xaxis2": {
         "anchor": "y2",
         "domain": [
          0.55,
          1
         ],
         "gridcolor": "LightGrey",
         "gridwidth": 1,
         "range": [
          -15,
          15
         ],
         "showgrid": true,
         "title": {
          "text": "X1"
         }
        },
        "xaxis3": {
         "anchor": "y3",
         "domain": [
          0,
          0.45
         ],
         "gridcolor": "LightGrey",
         "gridwidth": 1,
         "range": [
          -15,
          15
         ],
         "showgrid": true,
         "title": {
          "text": "X1"
         }
        },
        "xaxis4": {
         "anchor": "y4",
         "domain": [
          0.55,
          1
         ],
         "gridcolor": "LightGrey",
         "gridwidth": 1,
         "range": [
          -15,
          15
         ],
         "showgrid": true,
         "title": {
          "text": "X1"
         }
        },
        "xaxis5": {
         "anchor": "y5",
         "domain": [
          0,
          0.45
         ],
         "gridcolor": "LightGrey",
         "gridwidth": 1,
         "range": [
          -15,
          15
         ],
         "showgrid": true,
         "title": {
          "text": "X1"
         }
        },
        "xaxis6": {
         "anchor": "y6",
         "domain": [
          0.55,
          1
         ],
         "gridcolor": "LightGrey",
         "gridwidth": 1,
         "range": [
          -15,
          15
         ],
         "showgrid": true,
         "title": {
          "text": "X1"
         }
        },
        "xaxis7": {
         "anchor": "y7",
         "domain": [
          0,
          0.45
         ],
         "gridcolor": "LightGrey",
         "gridwidth": 1,
         "range": [
          -15,
          15
         ],
         "showgrid": true,
         "title": {
          "text": "X1"
         }
        },
        "xaxis8": {
         "anchor": "y8",
         "domain": [
          0.55,
          1
         ],
         "gridcolor": "LightGrey",
         "gridwidth": 1,
         "range": [
          -15,
          15
         ],
         "showgrid": true,
         "title": {
          "text": "X1"
         }
        },
        "xaxis9": {
         "anchor": "y9",
         "domain": [
          0,
          0.45
         ],
         "gridcolor": "LightGrey",
         "gridwidth": 1,
         "range": [
          -15,
          15
         ],
         "showgrid": true,
         "title": {
          "text": "X1"
         }
        },
        "yaxis": {
         "anchor": "x",
         "domain": [
          0.848,
          1
         ],
         "gridcolor": "LightGrey",
         "gridwidth": 1,
         "range": [
          -15,
          15
         ],
         "showgrid": true,
         "title": {
          "text": "X2"
         }
        },
        "yaxis10": {
         "anchor": "x10",
         "domain": [
          0,
          0.152
         ],
         "gridcolor": "LightGrey",
         "gridwidth": 1,
         "range": [
          -15,
          15
         ],
         "showgrid": true,
         "title": {
          "text": "X2"
         }
        },
        "yaxis2": {
         "anchor": "x2",
         "domain": [
          0.848,
          1
         ],
         "gridcolor": "LightGrey",
         "gridwidth": 1,
         "range": [
          -15,
          15
         ],
         "showgrid": true,
         "title": {
          "text": "X2"
         }
        },
        "yaxis3": {
         "anchor": "x3",
         "domain": [
          0.6359999999999999,
          0.7879999999999999
         ],
         "gridcolor": "LightGrey",
         "gridwidth": 1,
         "range": [
          -15,
          15
         ],
         "showgrid": true,
         "title": {
          "text": "X2"
         }
        },
        "yaxis4": {
         "anchor": "x4",
         "domain": [
          0.6359999999999999,
          0.7879999999999999
         ],
         "gridcolor": "LightGrey",
         "gridwidth": 1,
         "range": [
          -15,
          15
         ],
         "showgrid": true,
         "title": {
          "text": "X2"
         }
        },
        "yaxis5": {
         "anchor": "x5",
         "domain": [
          0.424,
          0.576
         ],
         "gridcolor": "LightGrey",
         "gridwidth": 1,
         "range": [
          -15,
          15
         ],
         "showgrid": true,
         "title": {
          "text": "X2"
         }
        },
        "yaxis6": {
         "anchor": "x6",
         "domain": [
          0.424,
          0.576
         ],
         "gridcolor": "LightGrey",
         "gridwidth": 1,
         "range": [
          -15,
          15
         ],
         "showgrid": true,
         "title": {
          "text": "X2"
         }
        },
        "yaxis7": {
         "anchor": "x7",
         "domain": [
          0.212,
          0.364
         ],
         "gridcolor": "LightGrey",
         "gridwidth": 1,
         "range": [
          -15,
          15
         ],
         "showgrid": true,
         "title": {
          "text": "X2"
         }
        },
        "yaxis8": {
         "anchor": "x8",
         "domain": [
          0.212,
          0.364
         ],
         "gridcolor": "LightGrey",
         "gridwidth": 1,
         "range": [
          -15,
          15
         ],
         "showgrid": true,
         "title": {
          "text": "X2"
         }
        },
        "yaxis9": {
         "anchor": "x9",
         "domain": [
          0,
          0.152
         ],
         "gridcolor": "LightGrey",
         "gridwidth": 1,
         "range": [
          -15,
          15
         ],
         "showgrid": true,
         "title": {
          "text": "X2"
         }
        }
       }
      }
     },
     "metadata": {},
     "output_type": "display_data"
    }
   ],
   "source": [
    "K = [1, 2, 3, 4, 5, 6, 7, 8, 9, 10]\n",
    "fig = make_subplots(rows=5, cols=2)\n",
    "\n",
    "for k in K:\n",
    "    kmeans = KMeans(n_clusters=k, random_state=1505)\n",
    "    y_clusters = kmeans.fit_predict(X)\n",
    "    centers = kmeans.cluster_centers_\n",
    "    plot_data(fig,X, y_clusters, clusters=k, kmean_centers=centers, row=(K.index(k) // 2) + 1, col=(K.index(k) % 2) + 1)\n",
    "# Changing the size of the figs\n",
    "fig.update_layout(height=2000, width=800)\n",
    "\n",
    "fig.show()\n",
    "    "
   ]
  }
 ],
 "metadata": {
  "kernelspec": {
   "display_name": "Python 3",
   "language": "python",
   "name": "python3"
  },
  "language_info": {
   "codemirror_mode": {
    "name": "ipython",
    "version": 3
   },
   "file_extension": ".py",
   "mimetype": "text/x-python",
   "name": "python",
   "nbconvert_exporter": "python",
   "pygments_lexer": "ipython3",
   "version": "3.12.6"
  }
 },
 "nbformat": 4,
 "nbformat_minor": 5
}
